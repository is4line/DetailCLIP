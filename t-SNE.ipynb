{
 "cells": [
  {
   "cell_type": "code",
   "execution_count": 2,
   "id": "eb382a55",
   "metadata": {},
   "outputs": [
    {
     "name": "stderr",
     "output_type": "stream",
     "text": [
      "/usr/local/lib/python3.12/site-packages/tqdm/auto.py:21: TqdmWarning: IProgress not found. Please update jupyter and ipywidgets. See https://ipywidgets.readthedocs.io/en/stable/user_install.html\n",
      "  from .autonotebook import tqdm as notebook_tqdm\n"
     ]
    }
   ],
   "source": [
    "from sklearn.decomposition import PCA\n",
    "from sklearn.manifold import TSNE\n",
    "import models\n",
    "import torch\n",
    "from collections import OrderedDict\n",
    "import json\n",
    "import os\n",
    "import torchvision.transforms as transforms\n",
    "from tokenizer import SimpleTokenizer\n",
    "import datasets\n",
    "import utils\n",
    "import matplotlib.pyplot as plt\n",
    "import seaborn as sns\n",
    "import pandas as pd\n",
    "import numpy as np\n",
    "import plotly.express as px\n",
    "import plotly.colors as pc\n",
    "import plotly.io as pio\n",
    "import random\n",
    "import kaleido\n",
    "import plotly.graph_objects as go\n",
    "from sklearn.preprocessing import StandardScaler"
   ]
  },
  {
   "cell_type": "code",
   "execution_count": 3,
   "id": "0aaee4da",
   "metadata": {},
   "outputs": [
    {
     "name": "stdout",
     "output_type": "stream",
     "text": [
      "\tCreating MAE projection head\n",
      "\tMAE projection head created\n",
      "\tCreating IBOT projection head\n"
     ]
    },
    {
     "name": "stderr",
     "output_type": "stream",
     "text": [
      "/usr/local/lib/python3.12/site-packages/torch/nn/utils/weight_norm.py:143: FutureWarning: `torch.nn.utils.weight_norm` is deprecated in favor of `torch.nn.utils.parametrizations.weight_norm`.\n",
      "  WeightNorm.apply(module, name, dim)\n"
     ]
    },
    {
     "name": "stdout",
     "output_type": "stream",
     "text": [
      "\tkeys have been loaded for ibot head with status: <All keys matched successfully>\n",
      "\tIBOT projection head created\n",
      "\tDetailCLIP model created\n",
      "\n"
     ]
    }
   ],
   "source": [
    "model = getattr(models, 'ICLIP_VITB16')()\n",
    "model.cuda()\n",
    "print()"
   ]
  },
  {
   "cell_type": "code",
   "execution_count": 4,
   "id": "c24baaad",
   "metadata": {},
   "outputs": [
    {
     "name": "stdout",
     "output_type": "stream",
     "text": [
      "=> creating model: ICLIP_VITB16\n",
      "\tCreating MAE projection head\n",
      "\tMAE projection head created\n",
      "\tCreating IBOT projection head\n",
      "\tkeys have been loaded for ibot head with status: <All keys matched successfully>\n",
      "\tIBOT projection head created\n",
      "\tDetailCLIP model created\n",
      "=> loaded resume checkpoint 'checkpoint_best.pt' (epoch 48)\n"
     ]
    }
   ],
   "source": [
    "# Creating model\n",
    "ckpt_path = 'checkpoint_best.pt'\n",
    "\n",
    "ckpt = torch.load(ckpt_path, map_location='cpu', weights_only=False)\n",
    "state_dict = OrderedDict()\n",
    "for k, v in ckpt['state_dict'].items():\n",
    "    state_dict[k.replace('module.', '')] = v\n",
    "\n",
    "old_args = ckpt['args']\n",
    "print(\"=> creating model: {}\".format(old_args.model))\n",
    "model = getattr(models, old_args.model)()\n",
    "model.cuda()\n",
    "model.load_state_dict(state_dict, strict=True)\n",
    "print(\"=> loaded resume checkpoint '{}' (epoch {})\".format(ckpt_path, ckpt['epoch']))"
   ]
  },
  {
   "cell_type": "code",
   "execution_count": 5,
   "id": "0e1c7565",
   "metadata": {},
   "outputs": [],
   "source": [
    "cwd = '/home/onyxia/work/DetailCLIP'\n",
    "with open(os.path.join(cwd, 'dataset_catalog.json')) as f:\n",
    "    catalog = json.load(f)\n",
    "\n",
    "with open(os.path.join(cwd, 'templates.json')) as f:\n",
    "    all_templates = json.load(f)\n",
    "\n",
    "with open(os.path.join(cwd, 'labels.json')) as f:\n",
    "    all_labels = json.load(f)"
   ]
  },
  {
   "cell_type": "code",
   "execution_count": 6,
   "id": "a0f62618",
   "metadata": {},
   "outputs": [
    {
     "name": "stdout",
     "output_type": "stream",
     "text": [
      "=> creating dataset\n"
     ]
    }
   ],
   "source": [
    "# Data loading code\n",
    "print(\"=> creating dataset\")\n",
    "tokenizer = SimpleTokenizer()\n",
    "val_transform = transforms.Compose([\n",
    "        transforms.Resize(224),\n",
    "        transforms.CenterCrop(224),\n",
    "        lambda x: x.convert('RGB'),\n",
    "        transforms.ToTensor(),\n",
    "        transforms.Normalize(mean=[0.485, 0.456, 0.406],\n",
    "                                std=[0.229, 0.224, 0.225])\n",
    "    ])\n"
   ]
  },
  {
   "cell_type": "code",
   "execution_count": 7,
   "id": "80b41460",
   "metadata": {},
   "outputs": [
    {
     "name": "stdout",
     "output_type": "stream",
     "text": [
      "Evaluating cub200\n",
      "\n"
     ]
    }
   ],
   "source": [
    "d='cub200'\n",
    "print('Evaluating {}'.format(d))\n",
    "val_dataset = datasets.get_downstream_dataset(catalog, name=d, is_train=False, transform=val_transform)\n",
    "\n",
    "val_loader = torch.utils.data.DataLoader(\n",
    "    val_dataset, batch_size=256, shuffle=False,\n",
    "    num_workers=10, pin_memory=True, drop_last=False)\n",
    "\n",
    "templates = all_templates[d]\n",
    "labels = all_labels[d]\n",
    "\n",
    "model.eval()\n",
    "print()"
   ]
  },
  {
   "cell_type": "code",
   "execution_count": 8,
   "id": "ef067a9f",
   "metadata": {},
   "outputs": [
    {
     "name": "stdout",
     "output_type": "stream",
     "text": [
      "=> encoding captions\n"
     ]
    }
   ],
   "source": [
    "#Text embeddings\n",
    "\n",
    "results = []\n",
    "print('=> encoding captions')\n",
    "with torch.no_grad():\n",
    "    text_features = []\n",
    "    for label in labels:\n",
    "        if isinstance(label, list):\n",
    "            texts = [t.format(l) for t in templates for l in label]\n",
    "        else:\n",
    "            texts = [t.format(label) for t in templates]\n",
    "        texts = tokenizer(texts).cuda(non_blocking=True)\n",
    "        texts = texts.view(-1, 77).contiguous()\n",
    "        class_embeddings = utils.get_model(model).encode_text(texts, ema=True)\n",
    "        class_embeddings = class_embeddings / class_embeddings.norm(dim=-1, keepdim=True)\n",
    "        class_embeddings = class_embeddings.mean(dim=0)\n",
    "        class_embeddings = class_embeddings / class_embeddings.norm(dim=-1, keepdim=True)\n",
    "        text_features.append(class_embeddings)\n",
    "\n",
    "    text_features = torch.stack(text_features, dim=0)"
   ]
  },
  {
   "cell_type": "code",
   "execution_count": 9,
   "id": "fcc1d367",
   "metadata": {},
   "outputs": [],
   "source": [
    "# Image embeddings\n",
    "\n",
    "with torch.no_grad():\n",
    "    image_features_tot = []\n",
    "    target_list = []\n",
    "    for images, target in val_loader:\n",
    "        images = images.cuda(non_blocking=True)\n",
    "        target = target.cuda(non_blocking=True)\n",
    "\n",
    "        # encode images\n",
    "        image_features = utils.get_model(model).encode_image(images, ema=True)\n",
    "        image_features = image_features / image_features.norm(dim=-1, keepdim=True)\n",
    "        image_features_tot.append(image_features)\n",
    "        target_list.append(target)"
   ]
  },
  {
   "cell_type": "code",
   "execution_count": 10,
   "id": "13170458",
   "metadata": {},
   "outputs": [],
   "source": [
    "image_features_cat = torch.cat(image_features_tot, dim=0)"
   ]
  },
  {
   "cell_type": "code",
   "execution_count": 11,
   "id": "01277b87",
   "metadata": {},
   "outputs": [],
   "source": [
    "color_list = torch.cat(target_list).tolist() # one color per image, sorted\n",
    "\n",
    "color_uniques = list(set(color_list))\n",
    "\n",
    "shuffled_classes = color_uniques.copy()\n",
    "random.seed(4)\n",
    "random.shuffle(shuffled_classes)\n",
    "shuffling_dic = {i: shuffled for i, shuffled in enumerate(shuffled_classes)}\n",
    "\n",
    "shuffled_colors = [shuffling_dic[i] for i in color_list]"
   ]
  },
  {
   "cell_type": "code",
   "execution_count": null,
   "id": "18a3e4fc",
   "metadata": {},
   "outputs": [
    {
     "name": "stdout",
     "output_type": "stream",
     "text": [
      "torch.Size([6120, 512])\n"
     ]
    }
   ],
   "source": [
    "# fusion of text and image embeddings\n",
    "scaler = StandardScaler()\n",
    "\n",
    "text_features_tsne = scaler.fit_transform(text_features.cpu())\n",
    "image_features_tsne = scaler.fit_transform(image_features_cat.cpu())\n",
    "\n",
    "text_features_tsne = torch.Tensor(text_features_tsne)\n",
    "image_features_tsne = torch.Tensor(image_features_tsne)\n",
    "\n",
    "text_cat_image = torch.cat((text_features_tsne, image_features_tsne), dim=0)\n",
    "print(text_cat_image.size())"
   ]
  },
  {
   "cell_type": "code",
   "execution_count": 13,
   "id": "8a10fa46",
   "metadata": {},
   "outputs": [
    {
     "name": "stderr",
     "output_type": "stream",
     "text": [
      "/usr/local/lib/python3.12/site-packages/sklearn/manifold/_t_sne.py:1164: FutureWarning: 'n_iter' was renamed to 'max_iter' in version 1.5 and will be removed in 1.7.\n",
      "  warnings.warn(\n"
     ]
    },
    {
     "data": {
      "application/vnd.plotly.v1+json": {
       "config": {
        "plotlyServerURL": "https://plot.ly"
       },
       "data": [
        {
         "marker": {
          "color": [
           136,
           126,
           189,
           51,
           145,
           98,
           0,
           68,
           40,
           4,
           83,
           82,
           112,
           196,
           53,
           16,
           8,
           148,
           180,
           139,
           106,
           61,
           62,
           84,
           178,
           14,
           93,
           193,
           181,
           103,
           57,
           199,
           113,
           127,
           195,
           144,
           197,
           18,
           33,
           198,
           64,
           72,
           100,
           159,
           31,
           34,
           131,
           162,
           123,
           43,
           38,
           91,
           47,
           177,
           135,
           117,
           151,
           141,
           179,
           13,
           28,
           176,
           85,
           154,
           65,
           173,
           21,
           96,
           94,
           46,
           153,
           163,
           183,
           48,
           32,
           128,
           114,
           194,
           24,
           104,
           9,
           150,
           52,
           19,
           182,
           109,
           88,
           2,
           111,
           175,
           36,
           10,
           89,
           119,
           190,
           3,
           58,
           149,
           156,
           171,
           186,
           30,
           165,
           152,
           97,
           158,
           29,
           90,
           7,
           107,
           12,
           143,
           125,
           134,
           124,
           142,
           75,
           167,
           55,
           168,
           192,
           35,
           185,
           80,
           81,
           25,
           116,
           147,
           191,
           50,
           37,
           87,
           120,
           132,
           157,
           118,
           138,
           20,
           11,
           174,
           78,
           59,
           41,
           115,
           110,
           73,
           108,
           105,
           172,
           130,
           170,
           146,
           169,
           1,
           76,
           188,
           166,
           71,
           121,
           161,
           45,
           63,
           129,
           99,
           86,
           155,
           22,
           95,
           160,
           187,
           79,
           42,
           49,
           69,
           66,
           164,
           6,
           54,
           67,
           27,
           44,
           70,
           92,
           137,
           133,
           56,
           15,
           74,
           140,
           102,
           5,
           17,
           23,
           39,
           122,
           101,
           184,
           26,
           77,
           60
          ],
          "line": {
           "width": 0
          },
          "opacity": 0.7,
          "size": {
           "bdata": "Dw8PDw8PDw8PDw8PDw8PDw8PDw8PDw8PDw8PDw8PDw8PDw8PDw8PDw8PDw8PDw8PDw8PDw8PDw8PDw8PDw8PDw8PDw8PDw8PDw8PDw8PDw8PDw8PDw8PDw8PDw8PDw8PDw8PDw8PDw8PDw8PDw8PDw8PDw8PDw8PDw8PDw8PDw8PDw8PDw8PDw8PDw8PDw8PDw8PDw8PDw8PDw8PDw8PDw8PDw8PDw8PDw8PDw8PDw8PDw8PDw8PDw8PDw8PDw8PDw8PDw8PDw8=",
           "dtype": "i1"
          }
         },
         "mode": "markers",
         "name": "Text embeddings",
         "showlegend": true,
         "type": "scatter",
         "x": {
          "bdata": "D4G9wLGbv8A0ob/AIVhGwNrHpcC4T6bA/9iowGLuqMBnsl/A/PT/v36u87/drY2/+XWhv07/x78eEsm/mVaFv6JHGkDtX/G/naPgv6a2vkBjlrM/Lx2ZwFBbqcAXfqrAhZ6owCHEUcAIHFTAKAjAviKWYsCNF2TAusuPP5gUij94c5Y/wQqyQFXttkAu6Xc/0IsJP8oNBz+W9QA/YEjPPqJwwb3IN9W8DmrOP/ZbpMCTiNfABS8twWaNgkDv6IFAYSBowMMXIsEACSLBNGwiwUTcIMEuDsO/Yb+EQAfyx0DWpf0/aGaewFCW1MCv89fA+ufSwOvf1cC8ydrAdcvYwBhT1cA++tPAXVx5QKBGeUBmy3dAZHhSv0OzqsBPWarAF9u+v11sw78UY1m/kzqyvuqmNz0xmBG+FSx9wFwJhcA0/l/A3XiHwDlYgMDVQtPA1NmeQNNXHMHKwTLBhtegQPO2H8Gg3R7B6Ut3vkjqlcA6vQHAXMQfP8kOAUDPTwVAYJX/P1ViAkCmPFdATeUVwSwsFsFFgQM+D/aYwGexnUBFJZnAHqYBwemKa8AV9nHAipi8P7bRmcCzZGK/gHNcv1j9AkGXJAJBvMr/QGo9AUEM6gBBYjcCQSSV/UCC2ANBZzsBQRmyAkGciP1A3X0CQQ0++kDmggBBVMgAQb87AEEbxgBBG40CQR+//0CYrAJByOICQR7vZ8D9ZkrAhaxGwIfzS8CcwjXAqtNgP+aZXz8IRNHApvTMwOPa08D8YdLAfU7TwD+xzsBXIdPA8aEavtPjh0C4cJJAcgoTQQHfEkH9rBJB298SQX2rEkET3xJBOwcSQWWJwECSCLhA/DgaP0e8QT97gcFAIqbCQDNpwkCMurpAVsG5QPI0uUA768BAoybCQM+XvkAIiLtAkdnCQIACxUC+dcRAhxHDQFPGwkDOccJAf6XCQNYvxUD91MNAoGG+QGHrwUBzDWxAlXxsQEHPSkBjF0lA48icvkR5nb+xYfM+1ObHvvh6V7/Ol6i+ySnyQLd/9EDdKfNAk/7wQMRA9EA1TfRALXvzQEHcwUA=",
          "dtype": "f4"
         },
         "y": {
          "bdata": "W6iiPyfVnz/Qtqc/RYHaPgeuG0C4pBlAzIMUQBEcC0CDByQ/G0VMPwXqqj/mSgdAd2O6P/zBVMCFzkrAQy50wEyDs8Bi2/Y+tHoLP2SShb+hoWnAoBtXwO7XkD9wN6Y/0MuUP/hyGT8kpSI/m2wNwT3cUz8rb0o/LxOnv3ewsL8AEqe/eVKQwEPQkMAaEPfAL5NKP236DT/YDDE/EhY5P3RAm764LJPAMpv5PgQXAsDpJGtAlrEDQC3lf8C7+n7AlizTPgHlmz7yrpA+vi+YPnbjrT4qWFPAYwN/wFc9hsBmVaDAd6AoQHthlkAwJpNACBSUQHLllkCqppBADEGUQE1wkED2l5RA9CYDwXMlA8F8lQLBwjd2wA3AC8AuPgXAWDaOwOI6jMD2D3DAM5cOQEewmb1Sdcq9b2fAwPOIwcAUKc7AS1+/wBg5xMDIOW1AeHK3QCzyOz/lfRxATEuwQBPT/D+0JOw/0FdCvuJKasBiaHm+hqXVwBQYa8DnR2fAqxdpwMf3ZsAHTbRADmU+wFAVOMAXWbg+c8FYwEVKs0DhsVnAoSn3PzvncD9t/YE/eNFdwFCXVsDitWa/n5pjv/dcQ0BTHh1AT0xNQNNzS0CQ5FNAReQnQFlkTUAaX01AaWhnQM2fLkDVo0lAGUhfQEnPSkD/kldAzRJxQGzKWUDnM1lAoA0fQIXVZ0CkOi9AVgQkQKd+SD7+s07AlwdRwDznUMBFokHAC0WgwMq3ocBdV+U/kU7WP3iBzj/8XOo/4eLiP4R0xj9dZ+k/n8kXQFYOrkD2ca1AKI/Oul0l3LsCnlC8rBabu7PtJLwVS+q7Zr0EvVqBxr8QRQPAsrwcwC6ZGsDzsY+/BVSgvz0Yv7/8Tem/So+CvyiPZL8qqJC/WIy6v6fFi7+k8+q/RSCVv5c9ir9ppom/wceHv0uOj78y8Yu/IcWVv74jkL+L34i/Ug5Wv+wuib9fC6tAT7yqQEgWgcBbfYDAftn2wD3G68Ab9fnATmH5wIh+5MBUkvfAiqRev8Mydr+RdWe/XxJav4JIYr9GTmy/5hJiv1kqgL8=",
          "dtype": "f4"
         }
        },
        {
         "marker": {
          "color": [
           136,
           136,
           136,
           136,
           136,
           136,
           136,
           136,
           136,
           136,
           136,
           136,
           136,
           136,
           136,
           136,
           136,
           136,
           136,
           136,
           136,
           136,
           136,
           136,
           136,
           136,
           136,
           136,
           136,
           136,
           126,
           126,
           126,
           126,
           126,
           126,
           126,
           126,
           126,
           126,
           126,
           126,
           126,
           126,
           126,
           126,
           126,
           126,
           126,
           126,
           126,
           126,
           126,
           126,
           126,
           126,
           126,
           126,
           126,
           126,
           189,
           189,
           189,
           189,
           189,
           189,
           189,
           189,
           189,
           189,
           189,
           189,
           189,
           189,
           189,
           189,
           189,
           189,
           189,
           189,
           189,
           189,
           189,
           189,
           189,
           189,
           189,
           189,
           189,
           51,
           51,
           51,
           51,
           51,
           51,
           51,
           51,
           51,
           51,
           51,
           51,
           51,
           51,
           51,
           51,
           51,
           51,
           51,
           51,
           51,
           51,
           51,
           51,
           51,
           51,
           51,
           51,
           51,
           51,
           145,
           145,
           145,
           145,
           145,
           145,
           145,
           145,
           145,
           145,
           145,
           145,
           145,
           145,
           145,
           145,
           145,
           145,
           145,
           145,
           145,
           145,
           98,
           98,
           98,
           98,
           98,
           98,
           98,
           98,
           98,
           98,
           98,
           98,
           98,
           98,
           98,
           98,
           98,
           98,
           98,
           98,
           98,
           0,
           0,
           0,
           0,
           0,
           0,
           0,
           0,
           0,
           0,
           0,
           0,
           0,
           0,
           0,
           0,
           0,
           0,
           0,
           0,
           0,
           0,
           0,
           0,
           0,
           0,
           0,
           68,
           68,
           68,
           68,
           68,
           68,
           68,
           68,
           68,
           68,
           68,
           68,
           68,
           68,
           68,
           68,
           68,
           68,
           68,
           68,
           68,
           68,
           68,
           68,
           40,
           40,
           40,
           40,
           40,
           40,
           40,
           40,
           40,
           40,
           40,
           40,
           40,
           40,
           40,
           40,
           40,
           40,
           40,
           40,
           40,
           40,
           40,
           40,
           40,
           40,
           40,
           40,
           40,
           40,
           4,
           4,
           4,
           4,
           4,
           4,
           4,
           4,
           4,
           4,
           4,
           4,
           4,
           4,
           4,
           4,
           4,
           4,
           4,
           4,
           4,
           4,
           4,
           4,
           4,
           4,
           4,
           4,
           4,
           4,
           83,
           83,
           83,
           83,
           83,
           83,
           83,
           83,
           83,
           83,
           83,
           83,
           83,
           83,
           83,
           83,
           83,
           83,
           83,
           83,
           83,
           83,
           83,
           83,
           83,
           83,
           83,
           83,
           83,
           83,
           82,
           82,
           82,
           82,
           82,
           82,
           82,
           82,
           82,
           82,
           82,
           82,
           82,
           82,
           82,
           82,
           82,
           82,
           82,
           82,
           82,
           82,
           82,
           82,
           82,
           82,
           82,
           82,
           112,
           112,
           112,
           112,
           112,
           112,
           112,
           112,
           112,
           112,
           112,
           112,
           112,
           112,
           112,
           112,
           112,
           112,
           112,
           112,
           112,
           112,
           112,
           112,
           112,
           112,
           112,
           112,
           112,
           112,
           196,
           196,
           196,
           196,
           196,
           196,
           196,
           196,
           196,
           196,
           196,
           196,
           196,
           196,
           196,
           196,
           196,
           196,
           196,
           196,
           196,
           196,
           196,
           196,
           196,
           196,
           196,
           196,
           196,
           196,
           53,
           53,
           53,
           53,
           53,
           53,
           53,
           53,
           53,
           53,
           53,
           53,
           53,
           53,
           53,
           53,
           53,
           53,
           53,
           53,
           53,
           53,
           53,
           53,
           53,
           53,
           53,
           53,
           53,
           16,
           16,
           16,
           16,
           16,
           16,
           16,
           16,
           16,
           16,
           16,
           16,
           16,
           16,
           16,
           16,
           16,
           16,
           16,
           16,
           16,
           16,
           16,
           16,
           16,
           16,
           16,
           16,
           16,
           8,
           8,
           8,
           8,
           8,
           8,
           8,
           8,
           8,
           8,
           8,
           8,
           8,
           8,
           8,
           8,
           8,
           8,
           8,
           8,
           8,
           8,
           8,
           8,
           8,
           8,
           8,
           8,
           8,
           148,
           148,
           148,
           148,
           148,
           148,
           148,
           148,
           148,
           148,
           148,
           148,
           148,
           148,
           148,
           148,
           148,
           148,
           148,
           148,
           148,
           148,
           148,
           180,
           180,
           180,
           180,
           180,
           180,
           180,
           180,
           180,
           180,
           180,
           180,
           180,
           180,
           180,
           180,
           180,
           180,
           180,
           180,
           180,
           180,
           180,
           180,
           180,
           180,
           180,
           180,
           180,
           180,
           139,
           139,
           139,
           139,
           139,
           139,
           139,
           139,
           139,
           139,
           139,
           139,
           139,
           139,
           139,
           139,
           139,
           139,
           139,
           139,
           139,
           139,
           139,
           139,
           139,
           139,
           139,
           139,
           139,
           139,
           106,
           106,
           106,
           106,
           106,
           106,
           106,
           106,
           106,
           106,
           106,
           106,
           106,
           106,
           106,
           106,
           106,
           106,
           106,
           106,
           106,
           106,
           106,
           106,
           106,
           106,
           106,
           106,
           106,
           106,
           61,
           61,
           61,
           61,
           61,
           61,
           61,
           61,
           61,
           61,
           61,
           61,
           61,
           61,
           61,
           61,
           61,
           61,
           61,
           61,
           61,
           61,
           61,
           61,
           61,
           61,
           61,
           61,
           62,
           62,
           62,
           62,
           62,
           62,
           62,
           62,
           62,
           62,
           62,
           62,
           62,
           62,
           62,
           62,
           62,
           62,
           62,
           62,
           62,
           62,
           62,
           62,
           62,
           62,
           62,
           62,
           62,
           62,
           84,
           84,
           84,
           84,
           84,
           84,
           84,
           84,
           84,
           84,
           84,
           84,
           84,
           84,
           84,
           84,
           84,
           84,
           84,
           84,
           84,
           84,
           84,
           84,
           84,
           84,
           178,
           178,
           178,
           178,
           178,
           178,
           178,
           178,
           178,
           178,
           178,
           178,
           178,
           178,
           178,
           178,
           178,
           178,
           178,
           178,
           178,
           178,
           178,
           178,
           178,
           178,
           178,
           178,
           178,
           178,
           178,
           14,
           14,
           14,
           14,
           14,
           14,
           14,
           14,
           14,
           14,
           14,
           14,
           14,
           14,
           14,
           14,
           14,
           14,
           14,
           14,
           14,
           14,
           14,
           14,
           14,
           14,
           14,
           14,
           14,
           14,
           93,
           93,
           93,
           93,
           93,
           93,
           93,
           93,
           93,
           93,
           93,
           93,
           93,
           93,
           93,
           93,
           93,
           93,
           93,
           93,
           93,
           93,
           93,
           93,
           93,
           93,
           93,
           93,
           93,
           93,
           193,
           193,
           193,
           193,
           193,
           193,
           193,
           193,
           193,
           193,
           193,
           193,
           193,
           193,
           193,
           193,
           193,
           193,
           193,
           193,
           193,
           193,
           193,
           193,
           193,
           193,
           193,
           193,
           193,
           193,
           181,
           181,
           181,
           181,
           181,
           181,
           181,
           181,
           181,
           181,
           181,
           181,
           181,
           181,
           181,
           181,
           181,
           181,
           181,
           181,
           181,
           181,
           181,
           181,
           181,
           181,
           181,
           181,
           181,
           181,
           103,
           103,
           103,
           103,
           103,
           103,
           103,
           103,
           103,
           103,
           103,
           103,
           103,
           103,
           103,
           103,
           103,
           103,
           103,
           103,
           103,
           103,
           103,
           103,
           103,
           103,
           103,
           103,
           103,
           103,
           57,
           57,
           57,
           57,
           57,
           57,
           57,
           57,
           57,
           57,
           57,
           57,
           57,
           57,
           57,
           57,
           57,
           57,
           57,
           57,
           57,
           57,
           57,
           57,
           57,
           57,
           57,
           57,
           57,
           57,
           199,
           199,
           199,
           199,
           199,
           199,
           199,
           199,
           199,
           199,
           199,
           199,
           199,
           199,
           199,
           199,
           199,
           199,
           199,
           199,
           199,
           199,
           199,
           199,
           199,
           199,
           199,
           113,
           113,
           113,
           113,
           113,
           113,
           113,
           113,
           113,
           113,
           113,
           113,
           113,
           113,
           113,
           113,
           113,
           113,
           113,
           113,
           113,
           113,
           113,
           113,
           113,
           113,
           113,
           113,
           113,
           113,
           127,
           127,
           127,
           127,
           127,
           127,
           127,
           127,
           127,
           127,
           127,
           127,
           127,
           127,
           127,
           127,
           127,
           127,
           127,
           127,
           127,
           127,
           127,
           127,
           127,
           127,
           127,
           127,
           127,
           127,
           195,
           195,
           195,
           195,
           195,
           195,
           195,
           195,
           195,
           195,
           195,
           195,
           195,
           195,
           195,
           195,
           195,
           195,
           195,
           195,
           195,
           195,
           195,
           195,
           195,
           195,
           195,
           195,
           195,
           195,
           144,
           144,
           144,
           144,
           144,
           144,
           144,
           144,
           144,
           144,
           144,
           144,
           144,
           144,
           144,
           144,
           144,
           144,
           144,
           144,
           144,
           144,
           144,
           144,
           144,
           144,
           144,
           144,
           144,
           144,
           197,
           197,
           197,
           197,
           197,
           197,
           197,
           197,
           197,
           197,
           197,
           197,
           197,
           197,
           197,
           197,
           197,
           197,
           197,
           197,
           197,
           197,
           197,
           197,
           197,
           197,
           197,
           197,
           197,
           197,
           18,
           18,
           18,
           18,
           18,
           18,
           18,
           18,
           18,
           18,
           18,
           18,
           18,
           18,
           18,
           18,
           18,
           18,
           18,
           18,
           18,
           18,
           18,
           18,
           18,
           18,
           18,
           18,
           18,
           18,
           33,
           33,
           33,
           33,
           33,
           33,
           33,
           33,
           33,
           33,
           33,
           33,
           33,
           33,
           33,
           33,
           33,
           33,
           33,
           33,
           33,
           33,
           33,
           33,
           33,
           33,
           33,
           33,
           33,
           33,
           198,
           198,
           198,
           198,
           198,
           198,
           198,
           198,
           198,
           198,
           198,
           198,
           198,
           198,
           198,
           198,
           198,
           198,
           198,
           198,
           198,
           198,
           198,
           198,
           198,
           198,
           198,
           198,
           198,
           198,
           64,
           64,
           64,
           64,
           64,
           64,
           64,
           64,
           64,
           64,
           64,
           64,
           64,
           64,
           64,
           64,
           64,
           64,
           64,
           64,
           64,
           64,
           64,
           64,
           64,
           64,
           64,
           64,
           64,
           64,
           72,
           72,
           72,
           72,
           72,
           72,
           72,
           72,
           72,
           72,
           72,
           72,
           72,
           72,
           72,
           72,
           72,
           72,
           72,
           72,
           72,
           72,
           72,
           72,
           72,
           72,
           72,
           72,
           72,
           72,
           100,
           100,
           100,
           100,
           100,
           100,
           100,
           100,
           100,
           100,
           100,
           100,
           100,
           100,
           100,
           100,
           100,
           100,
           100,
           100,
           100,
           100,
           100,
           100,
           100,
           100,
           100,
           100,
           100,
           100,
           159,
           159,
           159,
           159,
           159,
           159,
           159,
           159,
           159,
           159,
           159,
           159,
           159,
           159,
           159,
           159,
           159,
           159,
           159,
           159,
           159,
           159,
           159,
           159,
           159,
           159,
           159,
           159,
           159,
           159,
           31,
           31,
           31,
           31,
           31,
           31,
           31,
           31,
           31,
           31,
           31,
           31,
           31,
           31,
           31,
           31,
           31,
           31,
           31,
           31,
           31,
           31,
           31,
           31,
           31,
           31,
           31,
           31,
           31,
           31,
           34,
           34,
           34,
           34,
           34,
           34,
           34,
           34,
           34,
           34,
           34,
           34,
           34,
           34,
           34,
           34,
           34,
           34,
           34,
           34,
           34,
           34,
           34,
           34,
           34,
           34,
           34,
           34,
           34,
           34,
           131,
           131,
           131,
           131,
           131,
           131,
           131,
           131,
           131,
           131,
           131,
           131,
           131,
           131,
           131,
           131,
           131,
           131,
           131,
           131,
           131,
           131,
           131,
           131,
           131,
           131,
           131,
           131,
           131,
           131,
           162,
           162,
           162,
           162,
           162,
           162,
           162,
           162,
           162,
           162,
           162,
           162,
           162,
           162,
           162,
           162,
           162,
           162,
           162,
           162,
           162,
           162,
           162,
           162,
           162,
           162,
           162,
           162,
           162,
           162,
           123,
           123,
           123,
           123,
           123,
           123,
           123,
           123,
           123,
           123,
           123,
           123,
           123,
           123,
           123,
           123,
           123,
           123,
           123,
           123,
           123,
           123,
           123,
           123,
           123,
           123,
           123,
           123,
           123,
           123,
           43,
           43,
           43,
           43,
           43,
           43,
           43,
           43,
           43,
           43,
           43,
           43,
           43,
           43,
           43,
           43,
           43,
           43,
           43,
           43,
           43,
           43,
           43,
           43,
           43,
           43,
           43,
           43,
           43,
           43,
           38,
           38,
           38,
           38,
           38,
           38,
           38,
           38,
           38,
           38,
           38,
           38,
           38,
           38,
           38,
           38,
           38,
           38,
           38,
           38,
           38,
           38,
           38,
           38,
           38,
           38,
           38,
           38,
           38,
           38,
           91,
           91,
           91,
           91,
           91,
           91,
           91,
           91,
           91,
           91,
           91,
           91,
           91,
           91,
           91,
           91,
           91,
           91,
           91,
           91,
           91,
           91,
           91,
           91,
           91,
           91,
           91,
           91,
           91,
           91,
           47,
           47,
           47,
           47,
           47,
           47,
           47,
           47,
           47,
           47,
           47,
           47,
           47,
           47,
           47,
           47,
           47,
           47,
           47,
           47,
           47,
           47,
           47,
           47,
           47,
           47,
           47,
           47,
           47,
           47,
           177,
           177,
           177,
           177,
           177,
           177,
           177,
           177,
           177,
           177,
           177,
           177,
           177,
           177,
           177,
           177,
           177,
           177,
           177,
           177,
           177,
           177,
           177,
           177,
           177,
           177,
           177,
           177,
           177,
           177,
           135,
           135,
           135,
           135,
           135,
           135,
           135,
           135,
           135,
           135,
           135,
           135,
           135,
           135,
           135,
           135,
           135,
           135,
           135,
           135,
           135,
           135,
           135,
           135,
           135,
           135,
           135,
           135,
           135,
           135,
           117,
           117,
           117,
           117,
           117,
           117,
           117,
           117,
           117,
           117,
           117,
           117,
           117,
           117,
           117,
           117,
           117,
           117,
           117,
           117,
           117,
           117,
           117,
           117,
           117,
           117,
           117,
           117,
           117,
           117,
           151,
           151,
           151,
           151,
           151,
           151,
           151,
           151,
           151,
           151,
           151,
           151,
           151,
           151,
           151,
           151,
           151,
           151,
           151,
           151,
           151,
           151,
           151,
           151,
           151,
           151,
           151,
           151,
           151,
           151,
           141,
           141,
           141,
           141,
           141,
           141,
           141,
           141,
           141,
           141,
           141,
           141,
           141,
           141,
           141,
           141,
           141,
           141,
           141,
           141,
           141,
           141,
           141,
           141,
           141,
           141,
           141,
           141,
           141,
           179,
           179,
           179,
           179,
           179,
           179,
           179,
           179,
           179,
           179,
           179,
           179,
           179,
           179,
           179,
           179,
           179,
           179,
           179,
           179,
           179,
           179,
           179,
           179,
           179,
           179,
           179,
           179,
           179,
           179,
           13,
           13,
           13,
           13,
           13,
           13,
           13,
           13,
           13,
           13,
           13,
           13,
           13,
           13,
           13,
           13,
           13,
           13,
           13,
           13,
           13,
           13,
           13,
           13,
           13,
           13,
           13,
           13,
           13,
           13,
           28,
           28,
           28,
           28,
           28,
           28,
           28,
           28,
           28,
           28,
           28,
           28,
           28,
           28,
           28,
           28,
           28,
           28,
           28,
           28,
           28,
           28,
           28,
           28,
           28,
           28,
           28,
           28,
           28,
           28,
           176,
           176,
           176,
           176,
           176,
           176,
           176,
           176,
           176,
           176,
           176,
           176,
           176,
           176,
           176,
           176,
           176,
           176,
           176,
           176,
           176,
           176,
           176,
           176,
           176,
           176,
           176,
           176,
           176,
           176,
           85,
           85,
           85,
           85,
           85,
           85,
           85,
           85,
           85,
           85,
           85,
           85,
           85,
           85,
           85,
           85,
           85,
           85,
           85,
           85,
           85,
           85,
           85,
           85,
           85,
           85,
           85,
           85,
           85,
           85,
           85,
           154,
           154,
           154,
           154,
           154,
           154,
           154,
           154,
           154,
           154,
           154,
           154,
           154,
           154,
           154,
           154,
           154,
           154,
           154,
           154,
           154,
           154,
           154,
           154,
           154,
           154,
           154,
           154,
           154,
           154,
           65,
           65,
           65,
           65,
           65,
           65,
           65,
           65,
           65,
           65,
           65,
           65,
           65,
           65,
           65,
           65,
           65,
           65,
           65,
           65,
           65,
           65,
           65,
           65,
           65,
           173,
           173,
           173,
           173,
           173,
           173,
           173,
           173,
           173,
           173,
           173,
           173,
           173,
           173,
           173,
           173,
           173,
           173,
           173,
           173,
           173,
           173,
           173,
           173,
           173,
           173,
           173,
           173,
           173,
           173,
           173,
           21,
           21,
           21,
           21,
           21,
           21,
           21,
           21,
           21,
           21,
           21,
           21,
           21,
           21,
           21,
           21,
           21,
           21,
           21,
           21,
           21,
           21,
           21,
           21,
           21,
           21,
           21,
           21,
           21,
           21,
           96,
           96,
           96,
           96,
           96,
           96,
           96,
           96,
           96,
           96,
           96,
           96,
           96,
           96,
           96,
           96,
           96,
           96,
           96,
           96,
           96,
           96,
           96,
           96,
           96,
           96,
           96,
           96,
           96,
           96,
           94,
           94,
           94,
           94,
           94,
           94,
           94,
           94,
           94,
           94,
           94,
           94,
           94,
           94,
           94,
           94,
           94,
           94,
           94,
           94,
           94,
           94,
           94,
           94,
           94,
           94,
           94,
           94,
           94,
           94,
           46,
           46,
           46,
           46,
           46,
           46,
           46,
           46,
           46,
           46,
           46,
           46,
           46,
           46,
           46,
           46,
           46,
           46,
           46,
           46,
           46,
           46,
           46,
           46,
           46,
           46,
           46,
           46,
           46,
           46,
           153,
           153,
           153,
           153,
           153,
           153,
           153,
           153,
           153,
           153,
           153,
           153,
           153,
           153,
           153,
           153,
           153,
           153,
           153,
           153,
           153,
           153,
           153,
           153,
           153,
           153,
           153,
           153,
           153,
           153,
           163,
           163,
           163,
           163,
           163,
           163,
           163,
           163,
           163,
           163,
           163,
           163,
           163,
           163,
           163,
           163,
           163,
           163,
           163,
           163,
           163,
           163,
           163,
           163,
           163,
           163,
           163,
           163,
           163,
           163,
           183,
           183,
           183,
           183,
           183,
           183,
           183,
           183,
           183,
           183,
           183,
           183,
           183,
           183,
           183,
           183,
           183,
           183,
           183,
           183,
           183,
           183,
           183,
           183,
           183,
           183,
           183,
           183,
           183,
           183,
           48,
           48,
           48,
           48,
           48,
           48,
           48,
           48,
           48,
           48,
           48,
           48,
           48,
           48,
           48,
           48,
           48,
           48,
           48,
           48,
           48,
           48,
           48,
           48,
           48,
           48,
           48,
           48,
           48,
           48,
           32,
           32,
           32,
           32,
           32,
           32,
           32,
           32,
           32,
           32,
           32,
           32,
           32,
           32,
           32,
           32,
           32,
           32,
           32,
           32,
           32,
           32,
           32,
           32,
           32,
           32,
           32,
           32,
           32,
           128,
           128,
           128,
           128,
           128,
           128,
           128,
           128,
           128,
           128,
           128,
           128,
           128,
           128,
           128,
           128,
           128,
           128,
           128,
           128,
           128,
           128,
           128,
           128,
           128,
           128,
           128,
           128,
           128,
           128,
           114,
           114,
           114,
           114,
           114,
           114,
           114,
           114,
           114,
           114,
           114,
           114,
           114,
           114,
           114,
           114,
           114,
           114,
           114,
           114,
           114,
           114,
           114,
           114,
           114,
           114,
           114,
           114,
           114,
           114,
           194,
           194,
           194,
           194,
           194,
           194,
           194,
           194,
           194,
           194,
           194,
           194,
           194,
           194,
           194,
           194,
           194,
           194,
           194,
           194,
           194,
           194,
           194,
           194,
           194,
           194,
           194,
           194,
           194,
           194,
           24,
           24,
           24,
           24,
           24,
           24,
           24,
           24,
           24,
           24,
           24,
           24,
           24,
           24,
           24,
           24,
           24,
           24,
           24,
           24,
           24,
           24,
           24,
           24,
           24,
           24,
           24,
           24,
           24,
           24,
           104,
           104,
           104,
           104,
           104,
           104,
           104,
           104,
           104,
           104,
           104,
           104,
           104,
           104,
           104,
           104,
           104,
           104,
           104,
           104,
           104,
           104,
           104,
           104,
           104,
           104,
           104,
           104,
           104,
           104,
           9,
           9,
           9,
           9,
           9,
           9,
           9,
           9,
           9,
           9,
           9,
           9,
           9,
           9,
           9,
           9,
           9,
           9,
           9,
           9,
           9,
           9,
           9,
           9,
           9,
           9,
           9,
           9,
           9,
           9,
           150,
           150,
           150,
           150,
           150,
           150,
           150,
           150,
           150,
           150,
           150,
           150,
           150,
           150,
           150,
           150,
           150,
           150,
           150,
           150,
           150,
           150,
           150,
           150,
           150,
           150,
           150,
           150,
           150,
           150,
           52,
           52,
           52,
           52,
           52,
           52,
           52,
           52,
           52,
           52,
           52,
           52,
           52,
           52,
           52,
           52,
           52,
           52,
           52,
           52,
           52,
           52,
           52,
           52,
           52,
           52,
           52,
           52,
           52,
           52,
           19,
           19,
           19,
           19,
           19,
           19,
           19,
           19,
           19,
           19,
           19,
           19,
           19,
           19,
           19,
           19,
           19,
           19,
           19,
           19,
           19,
           19,
           19,
           19,
           19,
           19,
           19,
           182,
           182,
           182,
           182,
           182,
           182,
           182,
           182,
           182,
           182,
           182,
           182,
           182,
           182,
           182,
           182,
           182,
           182,
           182,
           182,
           182,
           182,
           182,
           182,
           182,
           182,
           182,
           182,
           182,
           182,
           109,
           109,
           109,
           109,
           109,
           109,
           109,
           109,
           109,
           109,
           109,
           109,
           109,
           109,
           109,
           109,
           109,
           109,
           109,
           109,
           109,
           109,
           109,
           109,
           109,
           109,
           109,
           109,
           109,
           109,
           88,
           88,
           88,
           88,
           88,
           88,
           88,
           88,
           88,
           88,
           88,
           88,
           88,
           88,
           88,
           88,
           88,
           88,
           88,
           88,
           88,
           88,
           88,
           88,
           88,
           88,
           88,
           88,
           88,
           88,
           88,
           2,
           2,
           2,
           2,
           2,
           2,
           2,
           2,
           2,
           2,
           2,
           2,
           2,
           2,
           2,
           2,
           2,
           2,
           2,
           2,
           2,
           2,
           2,
           2,
           2,
           2,
           2,
           2,
           2,
           2,
           111,
           111,
           111,
           111,
           111,
           111,
           111,
           111,
           111,
           111,
           111,
           111,
           111,
           111,
           111,
           111,
           111,
           111,
           111,
           111,
           111,
           111,
           111,
           111,
           111,
           111,
           111,
           111,
           111,
           111,
           175,
           175,
           175,
           175,
           175,
           175,
           175,
           175,
           175,
           175,
           175,
           175,
           175,
           175,
           175,
           175,
           175,
           175,
           175,
           175,
           175,
           175,
           175,
           175,
           175,
           175,
           175,
           175,
           175,
           175,
           36,
           36,
           36,
           36,
           36,
           36,
           36,
           36,
           36,
           36,
           36,
           36,
           36,
           36,
           36,
           36,
           36,
           36,
           36,
           36,
           36,
           36,
           36,
           36,
           36,
           36,
           36,
           36,
           36,
           36,
           10,
           10,
           10,
           10,
           10,
           10,
           10,
           10,
           10,
           10,
           10,
           10,
           10,
           10,
           10,
           10,
           10,
           10,
           10,
           10,
           10,
           10,
           10,
           10,
           10,
           10,
           10,
           10,
           10,
           10,
           89,
           89,
           89,
           89,
           89,
           89,
           89,
           89,
           89,
           89,
           89,
           89,
           89,
           89,
           89,
           89,
           89,
           89,
           89,
           89,
           89,
           89,
           89,
           89,
           89,
           89,
           89,
           89,
           89,
           89,
           89,
           119,
           119,
           119,
           119,
           119,
           119,
           119,
           119,
           119,
           119,
           119,
           119,
           119,
           119,
           119,
           119,
           119,
           119,
           119,
           119,
           119,
           119,
           119,
           119,
           119,
           119,
           119,
           119,
           119,
           119,
           190,
           190,
           190,
           190,
           190,
           190,
           190,
           190,
           190,
           190,
           190,
           190,
           190,
           190,
           190,
           190,
           190,
           190,
           190,
           190,
           190,
           190,
           190,
           190,
           190,
           190,
           190,
           190,
           190,
           190,
           3,
           3,
           3,
           3,
           3,
           3,
           3,
           3,
           3,
           3,
           3,
           3,
           3,
           3,
           3,
           3,
           3,
           3,
           3,
           3,
           3,
           3,
           3,
           3,
           3,
           3,
           3,
           3,
           3,
           3,
           58,
           58,
           58,
           58,
           58,
           58,
           58,
           58,
           58,
           58,
           58,
           58,
           58,
           58,
           58,
           58,
           58,
           58,
           58,
           58,
           58,
           58,
           58,
           58,
           58,
           58,
           58,
           58,
           58,
           58,
           149,
           149,
           149,
           149,
           149,
           149,
           149,
           149,
           149,
           149,
           149,
           149,
           149,
           149,
           149,
           149,
           149,
           149,
           149,
           149,
           149,
           149,
           149,
           149,
           149,
           149,
           149,
           149,
           149,
           149,
           156,
           156,
           156,
           156,
           156,
           156,
           156,
           156,
           156,
           156,
           156,
           156,
           156,
           156,
           156,
           156,
           156,
           156,
           156,
           156,
           156,
           156,
           156,
           156,
           156,
           156,
           156,
           156,
           156,
           156,
           171,
           171,
           171,
           171,
           171,
           171,
           171,
           171,
           171,
           171,
           171,
           171,
           171,
           171,
           171,
           171,
           171,
           171,
           171,
           171,
           171,
           171,
           171,
           171,
           171,
           171,
           171,
           171,
           171,
           171,
           186,
           186,
           186,
           186,
           186,
           186,
           186,
           186,
           186,
           186,
           186,
           186,
           186,
           186,
           186,
           186,
           186,
           186,
           186,
           186,
           186,
           186,
           186,
           186,
           186,
           30,
           30,
           30,
           30,
           30,
           30,
           30,
           30,
           30,
           30,
           30,
           30,
           30,
           30,
           30,
           30,
           30,
           30,
           30,
           30,
           30,
           30,
           30,
           30,
           30,
           30,
           30,
           30,
           30,
           30,
           165,
           165,
           165,
           165,
           165,
           165,
           165,
           165,
           165,
           165,
           165,
           165,
           165,
           165,
           165,
           165,
           165,
           165,
           165,
           165,
           165,
           165,
           165,
           165,
           165,
           165,
           165,
           165,
           165,
           165,
           152,
           152,
           152,
           152,
           152,
           152,
           152,
           152,
           152,
           152,
           152,
           152,
           152,
           152,
           152,
           152,
           152,
           152,
           152,
           152,
           152,
           152,
           152,
           152,
           152,
           152,
           152,
           152,
           152,
           152,
           97,
           97,
           97,
           97,
           97,
           97,
           97,
           97,
           97,
           97,
           97,
           97,
           97,
           97,
           97,
           97,
           97,
           97,
           97,
           97,
           97,
           97,
           97,
           97,
           97,
           158,
           158,
           158,
           158,
           158,
           158,
           158,
           158,
           158,
           158,
           158,
           158,
           158,
           158,
           158,
           158,
           158,
           158,
           158,
           158,
           158,
           158,
           158,
           158,
           158,
           158,
           158,
           158,
           158,
           158,
           29,
           29,
           29,
           29,
           29,
           29,
           29,
           29,
           29,
           29,
           29,
           29,
           29,
           29,
           29,
           29,
           29,
           29,
           29,
           29,
           29,
           29,
           29,
           29,
           29,
           29,
           29,
           29,
           29,
           29,
           90,
           90,
           90,
           90,
           90,
           90,
           90,
           90,
           90,
           90,
           90,
           90,
           90,
           90,
           90,
           90,
           90,
           90,
           90,
           90,
           90,
           90,
           90,
           90,
           90,
           90,
           90,
           90,
           90,
           90,
           90,
           7,
           7,
           7,
           7,
           7,
           7,
           7,
           7,
           7,
           7,
           7,
           7,
           7,
           7,
           7,
           7,
           7,
           7,
           7,
           7,
           7,
           7,
           7,
           7,
           7,
           7,
           7,
           7,
           7,
           7,
           107,
           107,
           107,
           107,
           107,
           107,
           107,
           107,
           107,
           107,
           107,
           107,
           107,
           107,
           107,
           107,
           107,
           107,
           107,
           107,
           107,
           107,
           107,
           107,
           107,
           107,
           107,
           107,
           107,
           107,
           12,
           12,
           12,
           12,
           12,
           12,
           12,
           12,
           12,
           12,
           12,
           12,
           12,
           12,
           12,
           12,
           12,
           12,
           12,
           12,
           12,
           12,
           12,
           12,
           12,
           12,
           12,
           12,
           12,
           12,
           143,
           143,
           143,
           143,
           143,
           143,
           143,
           143,
           143,
           143,
           143,
           143,
           143,
           143,
           143,
           143,
           143,
           143,
           143,
           143,
           143,
           143,
           143,
           143,
           143,
           143,
           143,
           143,
           143,
           143,
           125,
           125,
           125,
           125,
           125,
           125,
           125,
           125,
           125,
           125,
           125,
           125,
           125,
           125,
           125,
           125,
           125,
           125,
           125,
           125,
           125,
           125,
           125,
           125,
           125,
           134,
           134,
           134,
           134,
           134,
           134,
           134,
           134,
           134,
           134,
           134,
           134,
           134,
           134,
           134,
           134,
           134,
           134,
           134,
           134,
           134,
           134,
           134,
           134,
           134,
           134,
           134,
           134,
           134,
           134,
           124,
           124,
           124,
           124,
           124,
           124,
           124,
           124,
           124,
           124,
           124,
           124,
           124,
           124,
           124,
           124,
           124,
           124,
           124,
           124,
           124,
           124,
           124,
           124,
           124,
           124,
           124,
           124,
           124,
           124,
           142,
           142,
           142,
           142,
           142,
           142,
           142,
           142,
           142,
           142,
           142,
           142,
           142,
           142,
           142,
           142,
           142,
           142,
           142,
           142,
           142,
           142,
           142,
           142,
           142,
           142,
           142,
           142,
           142,
           142,
           75,
           75,
           75,
           75,
           75,
           75,
           75,
           75,
           75,
           75,
           75,
           75,
           75,
           75,
           75,
           75,
           75,
           75,
           75,
           75,
           75,
           75,
           75,
           75,
           75,
           75,
           75,
           75,
           75,
           75,
           167,
           167,
           167,
           167,
           167,
           167,
           167,
           167,
           167,
           167,
           167,
           167,
           167,
           167,
           167,
           167,
           167,
           167,
           167,
           167,
           167,
           167,
           167,
           167,
           167,
           167,
           167,
           167,
           167,
           167,
           55,
           55,
           55,
           55,
           55,
           55,
           55,
           55,
           55,
           55,
           55,
           55,
           55,
           55,
           55,
           55,
           55,
           55,
           55,
           55,
           55,
           55,
           55,
           55,
           55,
           55,
           55,
           55,
           55,
           55,
           168,
           168,
           168,
           168,
           168,
           168,
           168,
           168,
           168,
           168,
           168,
           168,
           168,
           168,
           168,
           168,
           168,
           168,
           168,
           168,
           168,
           168,
           168,
           168,
           168,
           168,
           168,
           168,
           168,
           168,
           192,
           192,
           192,
           192,
           192,
           192,
           192,
           192,
           192,
           192,
           192,
           192,
           192,
           192,
           192,
           192,
           192,
           192,
           192,
           192,
           192,
           192,
           192,
           192,
           192,
           192,
           192,
           192,
           192,
           192,
           35,
           35,
           35,
           35,
           35,
           35,
           35,
           35,
           35,
           35,
           35,
           35,
           35,
           35,
           35,
           35,
           35,
           35,
           35,
           35,
           35,
           35,
           35,
           35,
           35,
           35,
           35,
           35,
           35,
           35,
           185,
           185,
           185,
           185,
           185,
           185,
           185,
           185,
           185,
           185,
           185,
           185,
           185,
           185,
           185,
           185,
           185,
           185,
           185,
           185,
           185,
           185,
           185,
           185,
           185,
           185,
           185,
           185,
           185,
           185,
           80,
           80,
           80,
           80,
           80,
           80,
           80,
           80,
           80,
           80,
           80,
           80,
           80,
           80,
           80,
           80,
           80,
           80,
           80,
           80,
           80,
           80,
           80,
           80,
           80,
           80,
           80,
           80,
           80,
           80,
           81,
           81,
           81,
           81,
           81,
           81,
           81,
           81,
           81,
           81,
           81,
           81,
           81,
           81,
           81,
           81,
           81,
           81,
           81,
           81,
           81,
           81,
           81,
           81,
           81,
           81,
           81,
           81,
           81,
           81,
           25,
           25,
           25,
           25,
           25,
           25,
           25,
           25,
           25,
           25,
           25,
           25,
           25,
           25,
           25,
           25,
           25,
           25,
           25,
           25,
           25,
           25,
           25,
           25,
           25,
           25,
           25,
           25,
           25,
           25,
           116,
           116,
           116,
           116,
           116,
           116,
           116,
           116,
           116,
           116,
           116,
           116,
           116,
           116,
           116,
           116,
           116,
           116,
           116,
           116,
           116,
           116,
           116,
           116,
           116,
           116,
           116,
           116,
           116,
           116,
           147,
           147,
           147,
           147,
           147,
           147,
           147,
           147,
           147,
           147,
           147,
           147,
           147,
           147,
           147,
           147,
           147,
           147,
           147,
           147,
           147,
           147,
           147,
           147,
           147,
           147,
           147,
           147,
           147,
           147,
           191,
           191,
           191,
           191,
           191,
           191,
           191,
           191,
           191,
           191,
           191,
           191,
           191,
           191,
           191,
           191,
           191,
           191,
           191,
           191,
           191,
           191,
           191,
           191,
           191,
           191,
           191,
           191,
           191,
           191,
           50,
           50,
           50,
           50,
           50,
           50,
           50,
           50,
           50,
           50,
           50,
           50,
           50,
           50,
           50,
           50,
           50,
           50,
           50,
           50,
           50,
           50,
           50,
           50,
           50,
           50,
           50,
           50,
           50,
           50,
           37,
           37,
           37,
           37,
           37,
           37,
           37,
           37,
           37,
           37,
           37,
           37,
           37,
           37,
           37,
           37,
           37,
           37,
           37,
           37,
           37,
           37,
           37,
           37,
           37,
           37,
           37,
           37,
           37,
           37,
           87,
           87,
           87,
           87,
           87,
           87,
           87,
           87,
           87,
           87,
           87,
           87,
           87,
           87,
           87,
           87,
           87,
           87,
           87,
           87,
           87,
           87,
           87,
           87,
           87,
           87,
           87,
           87,
           87,
           87,
           120,
           120,
           120,
           120,
           120,
           120,
           120,
           120,
           120,
           120,
           120,
           120,
           120,
           120,
           120,
           120,
           120,
           120,
           120,
           120,
           120,
           120,
           120,
           120,
           120,
           120,
           120,
           120,
           120,
           120,
           132,
           132,
           132,
           132,
           132,
           132,
           132,
           132,
           132,
           132,
           132,
           132,
           132,
           132,
           132,
           132,
           132,
           132,
           132,
           132,
           132,
           132,
           132,
           132,
           132,
           132,
           132,
           132,
           132,
           132,
           157,
           157,
           157,
           157,
           157,
           157,
           157,
           157,
           157,
           157,
           157,
           157,
           157,
           157,
           157,
           157,
           157,
           157,
           157,
           157,
           157,
           157,
           157,
           157,
           157,
           157,
           157,
           157,
           157,
           157,
           118,
           118,
           118,
           118,
           118,
           118,
           118,
           118,
           118,
           118,
           118,
           118,
           118,
           118,
           118,
           118,
           118,
           118,
           118,
           118,
           118,
           118,
           118,
           118,
           118,
           118,
           118,
           118,
           118,
           118,
           138,
           138,
           138,
           138,
           138,
           138,
           138,
           138,
           138,
           138,
           138,
           138,
           138,
           138,
           138,
           138,
           138,
           138,
           138,
           138,
           138,
           138,
           138,
           138,
           138,
           138,
           138,
           138,
           138,
           138,
           20,
           20,
           20,
           20,
           20,
           20,
           20,
           20,
           20,
           20,
           20,
           20,
           20,
           20,
           20,
           20,
           20,
           20,
           20,
           20,
           20,
           20,
           20,
           20,
           20,
           20,
           20,
           20,
           20,
           20,
           11,
           11,
           11,
           11,
           11,
           11,
           11,
           11,
           11,
           11,
           11,
           11,
           11,
           11,
           11,
           11,
           11,
           11,
           11,
           11,
           11,
           11,
           11,
           11,
           11,
           11,
           11,
           11,
           11,
           11,
           174,
           174,
           174,
           174,
           174,
           174,
           174,
           174,
           174,
           174,
           174,
           174,
           174,
           174,
           174,
           174,
           174,
           174,
           174,
           174,
           174,
           174,
           174,
           174,
           174,
           174,
           174,
           174,
           174,
           174,
           78,
           78,
           78,
           78,
           78,
           78,
           78,
           78,
           78,
           78,
           78,
           78,
           78,
           78,
           78,
           78,
           78,
           78,
           78,
           78,
           78,
           78,
           78,
           78,
           78,
           78,
           78,
           78,
           78,
           59,
           59,
           59,
           59,
           59,
           59,
           59,
           59,
           59,
           59,
           59,
           59,
           59,
           59,
           59,
           59,
           59,
           59,
           59,
           59,
           59,
           59,
           59,
           59,
           59,
           59,
           59,
           59,
           59,
           59,
           41,
           41,
           41,
           41,
           41,
           41,
           41,
           41,
           41,
           41,
           41,
           41,
           41,
           41,
           41,
           41,
           41,
           41,
           41,
           41,
           41,
           41,
           41,
           41,
           41,
           41,
           41,
           41,
           41,
           41,
           115,
           115,
           115,
           115,
           115,
           115,
           115,
           115,
           115,
           115,
           115,
           115,
           115,
           115,
           115,
           115,
           115,
           115,
           115,
           115,
           115,
           115,
           115,
           115,
           115,
           115,
           115,
           115,
           115,
           115,
           110,
           110,
           110,
           110,
           110,
           110,
           110,
           110,
           110,
           110,
           110,
           110,
           110,
           110,
           110,
           110,
           110,
           110,
           110,
           110,
           110,
           110,
           110,
           110,
           110,
           110,
           110,
           110,
           110,
           110,
           73,
           73,
           73,
           73,
           73,
           73,
           73,
           73,
           73,
           73,
           73,
           73,
           73,
           73,
           73,
           73,
           73,
           73,
           73,
           73,
           73,
           73,
           73,
           73,
           73,
           73,
           73,
           73,
           73,
           73,
           108,
           108,
           108,
           108,
           108,
           108,
           108,
           108,
           108,
           108,
           108,
           108,
           108,
           108,
           108,
           108,
           108,
           108,
           108,
           108,
           108,
           108,
           108,
           108,
           108,
           108,
           108,
           108,
           108,
           108,
           105,
           105,
           105,
           105,
           105,
           105,
           105,
           105,
           105,
           105,
           105,
           105,
           105,
           105,
           105,
           105,
           105,
           105,
           105,
           105,
           105,
           105,
           105,
           105,
           105,
           105,
           105,
           105,
           105,
           105,
           172,
           172,
           172,
           172,
           172,
           172,
           172,
           172,
           172,
           172,
           172,
           172,
           172,
           172,
           172,
           172,
           172,
           172,
           172,
           172,
           172,
           172,
           172,
           172,
           172,
           172,
           172,
           172,
           172,
           172,
           130,
           130,
           130,
           130,
           130,
           130,
           130,
           130,
           130,
           130,
           130,
           130,
           130,
           130,
           130,
           130,
           130,
           130,
           130,
           130,
           130,
           130,
           130,
           130,
           130,
           130,
           130,
           130,
           130,
           130,
           170,
           170,
           170,
           170,
           170,
           170,
           170,
           170,
           170,
           170,
           170,
           170,
           170,
           170,
           170,
           170,
           170,
           170,
           170,
           170,
           170,
           170,
           170,
           170,
           170,
           170,
           146,
           146,
           146,
           146,
           146,
           146,
           146,
           146,
           146,
           146,
           146,
           146,
           146,
           146,
           146,
           146,
           146,
           146,
           146,
           146,
           146,
           146,
           146,
           146,
           146,
           146,
           146,
           146,
           146,
           146,
           169,
           169,
           169,
           169,
           169,
           169,
           169,
           169,
           169,
           169,
           169,
           169,
           169,
           169,
           169,
           169,
           169,
           169,
           169,
           169,
           169,
           169,
           169,
           169,
           169,
           169,
           169,
           169,
           169,
           169,
           1,
           1,
           1,
           1,
           1,
           1,
           1,
           1,
           1,
           1,
           1,
           1,
           1,
           1,
           1,
           1,
           1,
           1,
           1,
           1,
           1,
           1,
           1,
           1,
           1,
           1,
           1,
           1,
           1,
           1,
           76,
           76,
           76,
           76,
           76,
           76,
           76,
           76,
           76,
           76,
           76,
           76,
           76,
           76,
           76,
           76,
           76,
           76,
           76,
           76,
           76,
           76,
           76,
           76,
           76,
           76,
           76,
           76,
           76,
           76,
           188,
           188,
           188,
           188,
           188,
           188,
           188,
           188,
           188,
           188,
           188,
           188,
           188,
           188,
           188,
           188,
           188,
           188,
           188,
           188,
           188,
           188,
           188,
           188,
           188,
           188,
           188,
           188,
           188,
           188,
           166,
           166,
           166,
           166,
           166,
           166,
           166,
           166,
           166,
           166,
           166,
           166,
           166,
           166,
           166,
           166,
           166,
           166,
           166,
           166,
           166,
           166,
           166,
           166,
           166,
           166,
           166,
           166,
           166,
           166,
           71,
           71,
           71,
           71,
           71,
           71,
           71,
           71,
           71,
           71,
           71,
           71,
           71,
           71,
           71,
           71,
           71,
           71,
           71,
           71,
           71,
           71,
           71,
           71,
           71,
           71,
           71,
           71,
           71,
           71,
           121,
           121,
           121,
           121,
           121,
           121,
           121,
           121,
           121,
           121,
           121,
           121,
           121,
           121,
           121,
           121,
           121,
           121,
           121,
           121,
           121,
           121,
           121,
           121,
           121,
           121,
           121,
           121,
           121,
           121,
           161,
           161,
           161,
           161,
           161,
           161,
           161,
           161,
           161,
           161,
           161,
           161,
           161,
           161,
           161,
           161,
           161,
           161,
           161,
           161,
           161,
           161,
           161,
           161,
           161,
           161,
           161,
           161,
           161,
           161,
           45,
           45,
           45,
           45,
           45,
           45,
           45,
           45,
           45,
           45,
           45,
           45,
           45,
           45,
           45,
           45,
           45,
           45,
           45,
           45,
           45,
           45,
           45,
           45,
           45,
           45,
           45,
           45,
           45,
           45,
           63,
           63,
           63,
           63,
           63,
           63,
           63,
           63,
           63,
           63,
           63,
           63,
           63,
           63,
           63,
           63,
           63,
           63,
           63,
           63,
           63,
           63,
           63,
           63,
           63,
           63,
           63,
           63,
           63,
           63,
           129,
           129,
           129,
           129,
           129,
           129,
           129,
           129,
           129,
           129,
           129,
           129,
           129,
           129,
           129,
           129,
           129,
           129,
           129,
           129,
           129,
           129,
           129,
           129,
           129,
           129,
           129,
           129,
           129,
           129,
           99,
           99,
           99,
           99,
           99,
           99,
           99,
           99,
           99,
           99,
           99,
           99,
           99,
           99,
           99,
           99,
           99,
           99,
           99,
           99,
           99,
           99,
           99,
           99,
           99,
           99,
           99,
           99,
           99,
           99,
           86,
           86,
           86,
           86,
           86,
           86,
           86,
           86,
           86,
           86,
           86,
           86,
           86,
           86,
           86,
           86,
           86,
           86,
           86,
           86,
           86,
           86,
           86,
           86,
           86,
           86,
           86,
           86,
           86,
           86,
           155,
           155,
           155,
           155,
           155,
           155,
           155,
           155,
           155,
           155,
           155,
           155,
           155,
           155,
           155,
           155,
           155,
           155,
           155,
           155,
           155,
           155,
           155,
           155,
           155,
           155,
           155,
           155,
           155,
           155,
           22,
           22,
           22,
           22,
           22,
           22,
           22,
           22,
           22,
           22,
           22,
           22,
           22,
           22,
           22,
           22,
           22,
           22,
           22,
           22,
           22,
           22,
           22,
           22,
           22,
           22,
           22,
           22,
           22,
           22,
           95,
           95,
           95,
           95,
           95,
           95,
           95,
           95,
           95,
           95,
           95,
           95,
           95,
           95,
           95,
           95,
           95,
           95,
           95,
           95,
           95,
           95,
           95,
           95,
           95,
           95,
           95,
           95,
           95,
           95,
           160,
           160,
           160,
           160,
           160,
           160,
           160,
           160,
           160,
           160,
           160,
           160,
           160,
           160,
           160,
           160,
           160,
           160,
           160,
           160,
           160,
           160,
           160,
           160,
           160,
           160,
           160,
           160,
           160,
           160,
           187,
           187,
           187,
           187,
           187,
           187,
           187,
           187,
           187,
           187,
           187,
           187,
           187,
           187,
           187,
           187,
           187,
           187,
           187,
           187,
           187,
           187,
           187,
           187,
           187,
           187,
           187,
           187,
           187,
           187,
           79,
           79,
           79,
           79,
           79,
           79,
           79,
           79,
           79,
           79,
           79,
           79,
           79,
           79,
           79,
           79,
           79,
           79,
           79,
           79,
           79,
           79,
           79,
           79,
           79,
           79,
           79,
           79,
           79,
           79,
           42,
           42,
           42,
           42,
           42,
           42,
           42,
           42,
           42,
           42,
           42,
           42,
           42,
           42,
           42,
           42,
           42,
           42,
           42,
           42,
           42,
           42,
           42,
           42,
           42,
           42,
           42,
           42,
           42,
           42,
           49,
           49,
           49,
           49,
           49,
           49,
           49,
           49,
           49,
           49,
           49,
           49,
           49,
           49,
           49,
           49,
           49,
           49,
           49,
           49,
           49,
           49,
           49,
           49,
           49,
           49,
           49,
           49,
           49,
           49,
           69,
           69,
           69,
           69,
           69,
           69,
           69,
           69,
           69,
           69,
           69,
           69,
           69,
           69,
           69,
           69,
           69,
           69,
           69,
           69,
           69,
           69,
           69,
           69,
           69,
           69,
           69,
           69,
           69,
           69,
           66,
           66,
           66,
           66,
           66,
           66,
           66,
           66,
           66,
           66,
           66,
           66,
           66,
           66,
           66,
           66,
           66,
           66,
           66,
           66,
           66,
           66,
           66,
           66,
           66,
           66,
           66,
           66,
           66,
           66,
           164,
           164,
           164,
           164,
           164,
           164,
           164,
           164,
           164,
           164,
           164,
           164,
           164,
           164,
           164,
           164,
           164,
           164,
           164,
           164,
           164,
           164,
           164,
           164,
           164,
           164,
           164,
           164,
           164,
           164,
           6,
           6,
           6,
           6,
           6,
           6,
           6,
           6,
           6,
           6,
           6,
           6,
           6,
           6,
           6,
           6,
           6,
           6,
           6,
           6,
           6,
           6,
           6,
           6,
           6,
           6,
           6,
           6,
           6,
           6,
           54,
           54,
           54,
           54,
           54,
           54,
           54,
           54,
           54,
           54,
           54,
           54,
           54,
           54,
           54,
           54,
           54,
           54,
           54,
           54,
           54,
           54,
           54,
           54,
           54,
           54,
           54,
           54,
           67,
           67,
           67,
           67,
           67,
           67,
           67,
           67,
           67,
           67,
           67,
           67,
           67,
           67,
           67,
           67,
           67,
           67,
           67,
           67,
           67,
           67,
           67,
           67,
           67,
           67,
           67,
           67,
           67,
           67,
           27,
           27,
           27,
           27,
           27,
           27,
           27,
           27,
           27,
           27,
           27,
           27,
           27,
           27,
           27,
           27,
           27,
           27,
           27,
           27,
           27,
           27,
           27,
           27,
           27,
           27,
           27,
           27,
           27,
           27,
           44,
           44,
           44,
           44,
           44,
           44,
           44,
           44,
           44,
           44,
           44,
           44,
           44,
           44,
           44,
           44,
           44,
           44,
           44,
           44,
           44,
           44,
           44,
           44,
           44,
           44,
           44,
           44,
           44,
           44,
           70,
           70,
           70,
           70,
           70,
           70,
           70,
           70,
           70,
           70,
           70,
           70,
           70,
           70,
           70,
           70,
           70,
           70,
           70,
           70,
           70,
           70,
           70,
           70,
           70,
           70,
           70,
           70,
           70,
           70,
           92,
           92,
           92,
           92,
           92,
           92,
           92,
           92,
           92,
           92,
           92,
           92,
           92,
           92,
           92,
           92,
           92,
           92,
           92,
           92,
           92,
           92,
           92,
           92,
           92,
           92,
           92,
           92,
           92,
           92,
           137,
           137,
           137,
           137,
           137,
           137,
           137,
           137,
           137,
           137,
           137,
           137,
           137,
           137,
           137,
           137,
           137,
           137,
           137,
           137,
           137,
           137,
           137,
           137,
           137,
           137,
           137,
           137,
           137,
           137,
           133,
           133,
           133,
           133,
           133,
           133,
           133,
           133,
           133,
           133,
           133,
           133,
           133,
           133,
           133,
           133,
           133,
           133,
           133,
           133,
           133,
           133,
           133,
           133,
           133,
           133,
           133,
           133,
           133,
           133,
           56,
           56,
           56,
           56,
           56,
           56,
           56,
           56,
           56,
           56,
           56,
           56,
           56,
           56,
           56,
           56,
           56,
           56,
           56,
           56,
           56,
           56,
           56,
           56,
           56,
           56,
           56,
           56,
           56,
           56,
           15,
           15,
           15,
           15,
           15,
           15,
           15,
           15,
           15,
           15,
           15,
           15,
           15,
           15,
           15,
           15,
           15,
           15,
           15,
           15,
           15,
           15,
           15,
           15,
           15,
           74,
           74,
           74,
           74,
           74,
           74,
           74,
           74,
           74,
           74,
           74,
           74,
           74,
           74,
           74,
           74,
           74,
           74,
           74,
           74,
           74,
           74,
           74,
           74,
           74,
           74,
           74,
           74,
           74,
           74,
           140,
           140,
           140,
           140,
           140,
           140,
           140,
           140,
           140,
           140,
           140,
           140,
           140,
           140,
           140,
           140,
           140,
           140,
           140,
           140,
           140,
           140,
           140,
           140,
           140,
           140,
           140,
           140,
           140,
           140,
           102,
           102,
           102,
           102,
           102,
           102,
           102,
           102,
           102,
           102,
           102,
           102,
           102,
           102,
           102,
           102,
           102,
           102,
           102,
           102,
           102,
           102,
           102,
           102,
           102,
           102,
           102,
           102,
           102,
           5,
           5,
           5,
           5,
           5,
           5,
           5,
           5,
           5,
           5,
           5,
           5,
           5,
           5,
           5,
           5,
           5,
           5,
           5,
           5,
           5,
           5,
           5,
           5,
           5,
           5,
           5,
           5,
           5,
           5,
           17,
           17,
           17,
           17,
           17,
           17,
           17,
           17,
           17,
           17,
           17,
           17,
           17,
           17,
           17,
           17,
           17,
           17,
           17,
           17,
           17,
           17,
           17,
           17,
           17,
           17,
           17,
           17,
           17,
           17,
           23,
           23,
           23,
           23,
           23,
           23,
           23,
           23,
           23,
           23,
           23,
           23,
           23,
           23,
           23,
           23,
           23,
           23,
           23,
           23,
           23,
           23,
           23,
           23,
           23,
           23,
           23,
           23,
           23,
           23,
           39,
           39,
           39,
           39,
           39,
           39,
           39,
           39,
           39,
           39,
           39,
           39,
           39,
           39,
           39,
           39,
           39,
           39,
           39,
           39,
           39,
           39,
           39,
           39,
           39,
           39,
           39,
           39,
           39,
           39,
           122,
           122,
           122,
           122,
           122,
           122,
           122,
           122,
           122,
           122,
           122,
           122,
           122,
           122,
           122,
           122,
           122,
           122,
           122,
           122,
           122,
           122,
           122,
           122,
           122,
           122,
           122,
           122,
           122,
           122,
           101,
           101,
           101,
           101,
           101,
           101,
           101,
           101,
           101,
           101,
           101,
           101,
           101,
           101,
           101,
           101,
           101,
           101,
           101,
           101,
           101,
           101,
           101,
           101,
           101,
           101,
           101,
           101,
           101,
           101,
           184,
           184,
           184,
           184,
           184,
           184,
           184,
           184,
           184,
           184,
           184,
           184,
           184,
           184,
           184,
           184,
           184,
           184,
           184,
           184,
           184,
           184,
           184,
           184,
           184,
           184,
           184,
           184,
           184,
           184,
           26,
           26,
           26,
           26,
           26,
           26,
           26,
           26,
           26,
           26,
           26,
           26,
           26,
           26,
           26,
           26,
           26,
           26,
           26,
           26,
           26,
           26,
           26,
           26,
           26,
           26,
           26,
           26,
           26,
           26,
           77,
           77,
           77,
           77,
           77,
           77,
           77,
           77,
           77,
           77,
           77,
           77,
           77,
           77,
           77,
           77,
           77,
           77,
           77,
           77,
           77,
           77,
           77,
           77,
           77,
           77,
           77,
           77,
           77,
           77,
           60,
           60,
           60,
           60,
           60,
           60,
           60,
           60,
           60,
           60,
           60,
           60,
           60,
           60,
           60,
           60,
           60,
           60,
           60,
           60,
           60,
           60,
           60,
           60,
           60,
           60,
           60,
           60,
           60,
           60
          ],
          "line": {
           "width": 0
          },
          "opacity": 0.7,
          "size": {
           "bdata": "BQUFBQUFBQUFBQUFBQUFBQUFBQUFBQUFBQUFBQUFBQUFBQUFBQUFBQUFBQUFBQUFBQUFBQUFBQUFBQUFBQUFBQUFBQUFBQUFBQUFBQUFBQUFBQUFBQUFBQUFBQUFBQUFBQUFBQUFBQUFBQUFBQUFBQUFBQUFBQUFBQUFBQUFBQUFBQUFBQUFBQUFBQUFBQUFBQUFBQUFBQUFBQUFBQUFBQUFBQUFBQUFBQUFBQUFBQUFBQUFBQUFBQUFBQUFBQUFBQUFBQUFBQUFBQUFBQUFBQUFBQUFBQUFBQUFBQUFBQUFBQUFBQUFBQUFBQUFBQUFBQUFBQUFBQUFBQUFBQUFBQUFBQUFBQUFBQUFBQUFBQUFBQUFBQUFBQUFBQUFBQUFBQUFBQUFBQUFBQUFBQUFBQUFBQUFBQUFBQUFBQUFBQUFBQUFBQUFBQUFBQUFBQUFBQUFBQUFBQUFBQUFBQUFBQUFBQUFBQUFBQUFBQUFBQUFBQUFBQUFBQUFBQUFBQUFBQUFBQUFBQUFBQUFBQUFBQUFBQUFBQUFBQUFBQUFBQUFBQUFBQUFBQUFBQUFBQUFBQUFBQUFBQUFBQUFBQUFBQUFBQUFBQUFBQUFBQUFBQUFBQUFBQUFBQUFBQUFBQUFBQUFBQUFBQUFBQUFBQUFBQUFBQUFBQUFBQUFBQUFBQUFBQUFBQUFBQUFBQUFBQUFBQUFBQUFBQUFBQUFBQUFBQUFBQUFBQUFBQUFBQUFBQUFBQUFBQUFBQUFBQUFBQUFBQUFBQUFBQUFBQUFBQUFBQUFBQUFBQUFBQUFBQUFBQUFBQUFBQUFBQUFBQUFBQUFBQUFBQUFBQUFBQUFBQUFBQUFBQUFBQUFBQUFBQUFBQUFBQUFBQUFBQUFBQUFBQUFBQUFBQUFBQUFBQUFBQUFBQUFBQUFBQUFBQUFBQUFBQUFBQUFBQUFBQUFBQUFBQUFBQUFBQUFBQUFBQUFBQUFBQUFBQUFBQUFBQUFBQUFBQUFBQUFBQUFBQUFBQUFBQUFBQUFBQUFBQUFBQUFBQUFBQUFBQUFBQUFBQUFBQUFBQUFBQUFBQUFBQUFBQUFBQUFBQUFBQUFBQUFBQUFBQUFBQUFBQUFBQUFBQUFBQUFBQUFBQUFBQUFBQUFBQUFBQUFBQUFBQUFBQUFBQUFBQUFBQUFBQUFBQUFBQUFBQUFBQUFBQUFBQUFBQUFBQUFBQUFBQUFBQUFBQUFBQUFBQUFBQUFBQUFBQUFBQUFBQUFBQUFBQUFBQUFBQUFBQUFBQUFBQUFBQUFBQUFBQUFBQUFBQUFBQUFBQUFBQUFBQUFBQUFBQUFBQUFBQUFBQUFBQUFBQUFBQUFBQUFBQUFBQUFBQUFBQUFBQUFBQUFBQUFBQUFBQUFBQUFBQUFBQUFBQUFBQUFBQUFBQUFBQUFBQUFBQUFBQUFBQUFBQUFBQUFBQUFBQUFBQUFBQUFBQUFBQUFBQUFBQUFBQUFBQUFBQUFBQUFBQUFBQUFBQUFBQUFBQUFBQUFBQUFBQUFBQUFBQUFBQUFBQUFBQUFBQUFBQUFBQUFBQUFBQUFBQUFBQUFBQUFBQUFBQUFBQUFBQUFBQUFBQUFBQUFBQUFBQUFBQUFBQUFBQUFBQUFBQUFBQUFBQUFBQUFBQUFBQUFBQUFBQUFBQUFBQUFBQUFBQUFBQUFBQUFBQUFBQUFBQUFBQUFBQUFBQUFBQUFBQUFBQUFBQUFBQUFBQUFBQUFBQUFBQUFBQUFBQUFBQUFBQUFBQUFBQUFBQUFBQUFBQUFBQUFBQUFBQUFBQUFBQUFBQUFBQUFBQUFBQUFBQUFBQUFBQUFBQUFBQUFBQUFBQUFBQUFBQUFBQUFBQUFBQUFBQUFBQUFBQUFBQUFBQUFBQUFBQUFBQUFBQUFBQUFBQUFBQUFBQUFBQUFBQUFBQUFBQUFBQUFBQUFBQUFBQUFBQUFBQUFBQUFBQUFBQUFBQUFBQUFBQUFBQUFBQUFBQUFBQUFBQUFBQUFBQUFBQUFBQUFBQUFBQUFBQUFBQUFBQUFBQUFBQUFBQUFBQUFBQUFBQUFBQUFBQUFBQUFBQUFBQUFBQUFBQUFBQUFBQUFBQUFBQUFBQUFBQUFBQUFBQUFBQUFBQUFBQUFBQUFBQUFBQUFBQUFBQUFBQUFBQUFBQUFBQUFBQUFBQUFBQUFBQUFBQUFBQUFBQUFBQUFBQUFBQUFBQUFBQUFBQUFBQUFBQUFBQUFBQUFBQUFBQUFBQUFBQUFBQUFBQUFBQUFBQUFBQUFBQUFBQUFBQUFBQUFBQUFBQUFBQUFBQUFBQUFBQUFBQUFBQUFBQUFBQUFBQUFBQUFBQUFBQUFBQUFBQUFBQUFBQUFBQUFBQUFBQUFBQUFBQUFBQUFBQUFBQUFBQUFBQUFBQUFBQUFBQUFBQUFBQUFBQUFBQUFBQUFBQUFBQUFBQUFBQUFBQUFBQUFBQUFBQUFBQUFBQUFBQUFBQUFBQUFBQUFBQUFBQUFBQUFBQUFBQUFBQUFBQUFBQUFBQUFBQUFBQUFBQUFBQUFBQUFBQUFBQUFBQUFBQUFBQUFBQUFBQUFBQUFBQUFBQUFBQUFBQUFBQUFBQUFBQUFBQUFBQUFBQUFBQUFBQUFBQUFBQUFBQUFBQUFBQUFBQUFBQUFBQUFBQUFBQUFBQUFBQUFBQUFBQUFBQUFBQUFBQUFBQUFBQUFBQUFBQUFBQUFBQUFBQUFBQUFBQUFBQUFBQUFBQUFBQUFBQUFBQUFBQUFBQUFBQUFBQUFBQUFBQUFBQUFBQUFBQUFBQUFBQUFBQUFBQUFBQUFBQUFBQUFBQUFBQUFBQUFBQUFBQUFBQUFBQUFBQUFBQUFBQUFBQUFBQUFBQUFBQUFBQUFBQUFBQUFBQUFBQUFBQUFBQUFBQUFBQUFBQUFBQUFBQUFBQUFBQUFBQUFBQUFBQUFBQUFBQUFBQUFBQUFBQUFBQUFBQUFBQUFBQUFBQUFBQUFBQUFBQUFBQUFBQUFBQUFBQUFBQUFBQUFBQUFBQUFBQUFBQUFBQUFBQUFBQUFBQUFBQUFBQUFBQUFBQUFBQUFBQUFBQUFBQUFBQUFBQUFBQUFBQUFBQUFBQUFBQUFBQUFBQUFBQUFBQUFBQUFBQUFBQUFBQUFBQUFBQUFBQUFBQUFBQUFBQUFBQUFBQUFBQUFBQUFBQUFBQUFBQUFBQUFBQUFBQUFBQUFBQUFBQUFBQUFBQUFBQUFBQUFBQUFBQUFBQUFBQUFBQUFBQUFBQUFBQUFBQUFBQUFBQUFBQUFBQUFBQUFBQUFBQUFBQUFBQUFBQUFBQUFBQUFBQUFBQUFBQUFBQUFBQUFBQUFBQUFBQUFBQUFBQUFBQUFBQUFBQUFBQUFBQUFBQUFBQUFBQUFBQUFBQUFBQUFBQUFBQUFBQUFBQUFBQUFBQUFBQUFBQUFBQUFBQUFBQUFBQUFBQUFBQUFBQUFBQUFBQUFBQUFBQUFBQUFBQUFBQUFBQUFBQUFBQUFBQUFBQUFBQUFBQUFBQUFBQUFBQUFBQUFBQUFBQUFBQUFBQUFBQUFBQUFBQUFBQUFBQUFBQUFBQUFBQUFBQUFBQUFBQUFBQUFBQUFBQUFBQUFBQUFBQUFBQUFBQUFBQUFBQUFBQUFBQUFBQUFBQUFBQUFBQUFBQUFBQUFBQUFBQUFBQUFBQUFBQUFBQUFBQUFBQUFBQUFBQUFBQUFBQUFBQUFBQUFBQUFBQUFBQUFBQUFBQUFBQUFBQUFBQUFBQUFBQUFBQUFBQUFBQUFBQUFBQUFBQUFBQUFBQUFBQUFBQUFBQUFBQUFBQUFBQUFBQUFBQUFBQUFBQUFBQUFBQUFBQUFBQUFBQUFBQUFBQUFBQUFBQUFBQUFBQUFBQUFBQUFBQUFBQUFBQUFBQUFBQUFBQUFBQUFBQUFBQUFBQUFBQUFBQUFBQUFBQUFBQUFBQUFBQUFBQUFBQUFBQUFBQUFBQUFBQUFBQUFBQUFBQUFBQUFBQUFBQUFBQUFBQUFBQUFBQUFBQUFBQUFBQUFBQUFBQUFBQUFBQUFBQUFBQUFBQUFBQUFBQUFBQUFBQUFBQUFBQUFBQUFBQUFBQUFBQUFBQUFBQUFBQUFBQUFBQUFBQUFBQUFBQUFBQUFBQUFBQUFBQUFBQUFBQUFBQUFBQUFBQUFBQUFBQUFBQUFBQUFBQUFBQUFBQUFBQUFBQUFBQUFBQUFBQUFBQUFBQUFBQUFBQUFBQUFBQUFBQUFBQUFBQUFBQUFBQUFBQUFBQUFBQUFBQUFBQUFBQUFBQUFBQUFBQUFBQUFBQUFBQUFBQUFBQUFBQUFBQUFBQUFBQUFBQUFBQUFBQUFBQUFBQUFBQUFBQUFBQUFBQUFBQUFBQUFBQUFBQUFBQUFBQUFBQUFBQUFBQUFBQUFBQUFBQUFBQUFBQUFBQUFBQUFBQUFBQUFBQUFBQUFBQUFBQUFBQUFBQUFBQUFBQUFBQUFBQUFBQUFBQUFBQUFBQUFBQUFBQUFBQUFBQUFBQUFBQUFBQUFBQUFBQUFBQUFBQUFBQUFBQUFBQUFBQUFBQUFBQUFBQUFBQUFBQUFBQUFBQUFBQUFBQUFBQUFBQUFBQUFBQUFBQUFBQUFBQUFBQUFBQUFBQUFBQUFBQUFBQUFBQUFBQUFBQUFBQUFBQUFBQUFBQUFBQUFBQUFBQUFBQUFBQUFBQUFBQUFBQUFBQUFBQUFBQUFBQUFBQUFBQUFBQUFBQUFBQUFBQUFBQUFBQUFBQUFBQUFBQUFBQUFBQUFBQUFBQUFBQUFBQUFBQUFBQUFBQUFBQUFBQUFBQUFBQUFBQUFBQUFBQUFBQUFBQUFBQUFBQUFBQUFBQUFBQUFBQUFBQUFBQUFBQUFBQUFBQUFBQUFBQUFBQUFBQUFBQUFBQUFBQUFBQUFBQUFBQUFBQUFBQUFBQUFBQUFBQUFBQUFBQUFBQUFBQUFBQUFBQUFBQUFBQUFBQUFBQUFBQUFBQUFBQUFBQUFBQUFBQUFBQUFBQUFBQUFBQUFBQUFBQUFBQUFBQUFBQUFBQUFBQUFBQUFBQUFBQUFBQUFBQUFBQUFBQUFBQUFBQUFBQUFBQUFBQUFBQUFBQUFBQUFBQUFBQUFBQUFBQUFBQUFBQUFBQUFBQUFBQUFBQUFBQUFBQUFBQUFBQUFBQUFBQUFBQUFBQUFBQUFBQUFBQUFBQUFBQUFBQUFBQUFBQUFBQUFBQUFBQUFBQUFBQUFBQUFBQUFBQUFBQUFBQUFBQUFBQUFBQUFBQUFBQUFBQUFBQUFBQUFBQUFBQUFBQUFBQUFBQUFBQUFBQUFBQUFBQUFBQUFBQUFBQUFBQUFBQUFBQUFBQUFBQUFBQUFBQUFBQUFBQUFBQUFBQUFBQUFBQUFBQUFBQUFBQUFBQUFBQUFBQUFBQUFBQUFBQUFBQUFBQUFBQUFBQUFBQUFBQUFBQUFBQUFBQUFBQUFBQUFBQUFBQUFBQUFBQUFBQUFBQUFBQUFBQUFBQUFBQUFBQUFBQUFBQUFBQUFBQUFBQUFBQUFBQUFBQUFBQUFBQUFBQUFBQUFBQUFBQUFBQUFBQUFBQUFBQUFBQUFBQUFBQUFBQUFBQUFBQUFBQUFBQUFBQUFBQUFBQUFBQUFBQUFBQUFBQUFBQUFBQUFBQUFBQUFBQUFBQUFBQUFBQUFBQUFBQUFBQUFBQUFBQUFBQUFBQUFBQUFBQUFBQUFBQUFBQUFBQUFBQUFBQUFBQUFBQUFBQUFBQUFBQUFBQUFBQUFBQUFBQUFBQUFBQUFBQUFBQUFBQUFBQUFBQUFBQUFBQUFBQUFBQUFBQUFBQUFBQUFBQUFBQUFBQUFBQUFBQUFBQUFBQUFBQUFBQUFBQUFBQUFBQUFBQUFBQUFBQUFBQUFBQUFBQUFBQUFBQUFBQUFBQUFBQUFBQUFBQUFBQUFBQUFBQUFBQUFBQUFBQUFBQUFBQUFBQUFBQUFBQUFBQUFBQUFBQUFBQUFBQUFBQUFBQUFBQUFBQUFBQUFBQUFBQUFBQUFBQUFBQUFBQUFBQUFBQUFBQUFBQUFBQUFBQUFBQUFBQUFBQUFBQUFBQUFBQUFBQUFBQUFBQUFBQUFBQUFBQUFBQUFBQUFBQUFBQUFBQUFBQUFBQUFBQUFBQUFBQUFBQUFBQUFBQUFBQUFBQUFBQUFBQUFBQUFBQUFBQUFBQUFBQUFBQUFBQUFBQUFBQUFBQUFBQUFBQUFBQUFBQUFBQUFBQUFBQUFBQUFBQUFBQUFBQUFBQUFBQUFBQUFBQUFBQUFBQUFBQUFBQUFBQUFBQUFBQUFBQUFBQUFBQUFBQUFBQUFBQUFBQUFBQUFBQUFBQUFBQUFBQUFBQUFBQUFBQUFBQUFBQUFBQUFBQUFBQUFBQUFBQUFBQUFBQUFBQUFBQUFBQUFBQUFBQUFBQUFBQUFBQUFBQUFBQUFBQUFBQUFBQUFBQUFBQUFBQUFBQUFBQUFBQUFBQUFBQUFBQUFBQUFBQUFBQUFBQUFBQUFBQUFBQUFBQUFBQUFBQUFBQUFBQUFBQUFBQUFBQUFBQUFBQUFBQUFBQUFBQUFBQUFBQUFBQUFBQUFBQUFBQUFBQUFBQUFBQUFBQUFBQUFBQUFBQUFBQUFBQUFBQUFBQUFBQUFBQUFBQUFBQUFBQUFBQUFBQUFBQUFBQUFBQUFBQUFBQUFBQUFBQUFBQUFBQUFBQUFBQUFBQUFBQUFBQUFBQUFBQUFBQUFBQUFBQUFBQUFBQUFBQUFBQUFBQUFBQUFBQUFBQUFBQUFBQUFBQUFBQUFBQUFBQUFBQUFBQUFBQUFBQUFBQUFBQUFBQUFBQUFBQUFBQUFBQUFBQUFBQUFBQUFBQUFBQUFBQUFBQUFBQUFBQUFBQUFBQUFBQUFBQUFBQUFBQUFBQUFBQUFBQUFBQUFBQUFBQUFBQUFBQUFBQUFBQUFBQUFBQUFBQUFBQUFBQUFBQUFBQUFBQUFBQUFBQUFBQUFBQUFBQUFBQUFBQUFBQUFBQUFBQUFBQUFBQUFBQUFBQUFBQUFBQUFBQUFBQUFBQUFBQUFBQUFBQUFBQUFBQUFBQUFBQUFBQUFBQUFBQUFBQUFBQUFBQUFBQUFBQUFBQUFBQUFBQUFBQUFBQUFBQUFBQUFBQUFBQUFBQUFBQUFBQUFBQUFBQUFBQUFBQUFBQUFBQUFBQUFBQUFBQUFBQUFBQUFBQUFBQUFBQUFBQUFBQUFBQUFBQUFBQUFBQUFBQUFBQUFBQUFBQUFBQUFBQUFBQUFBQUFBQUFBQUFBQUFBQUFBQUFBQUFBQUFBQUFBQUFBQUFBQUFBQUFBQUFBQUFBQUFBQUFBQUFBQUFBQUFBQUFBQUFBQUFBQUFBQUFBQUFBQUFBQUFBQUFBQUFBQUFBQUFBQUFBQUFBQUFBQUFBQUFBQUFBQUFBQUFBQUFBQUFBQUFBQUFBQUFBQUFBQUFBQUFBQUFBQUFBQUFBQUFBQUFBQUFBQUFBQUFBQUFBQUFBQUFBQUFBQUFBQUFBQUFBQUFBQUFBQUFBQUFBQUFBQUFBQUFBQUFBQUFBQUFBQUFBQUFBQUFBQUFBQUFBQUFBQUFBQUFBQUFBQUFBQUFBQUFBQUFBQUFBQUFBQUFBQUFBQUFBQUFBQUFBQUFBQUFBQUFBQUFBQUFBQUFBQUFBQUFBQUFBQUFBQUFBQUFBQUFBQUFBQUFBQUFBQUFBQUFBQUFBQUFBQUFBQUFBQUFBQUFBQUFBQUFBQUFBQUFBQUFBQUFBQUFBQUFBQUFBQUFBQUFBQUFBQUFBQUFBQUFBQUFBQUFBQUFBQUFBQUFBQUFBQUFBQUFBQUFBQUFBQUFBQUFBQUFBQUFBQUFBQUFBQUFBQUFBQUFBQUFBQUFBQUFBQUFBQUFBQUFBQUFBQ==",
           "dtype": "i1"
          }
         },
         "mode": "markers",
         "name": "Image embeddings",
         "showlegend": true,
         "type": "scatter",
         "x": {
          "bdata": "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",
          "dtype": "f4"
         },
         "y": {
          "bdata": "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",
          "dtype": "f4"
         }
        }
       ],
       "layout": {
        "legend": {
         "bgcolor": "rgba(255,255,255,0.8)",
         "bordercolor": "black",
         "borderwidth": 1,
         "title": {
          "text": "Types de données"
         },
         "x": 0.01,
         "y": 0.99
        },
        "template": {
         "data": {
          "bar": [
           {
            "error_x": {
             "color": "#2a3f5f"
            },
            "error_y": {
             "color": "#2a3f5f"
            },
            "marker": {
             "line": {
              "color": "#E5ECF6",
              "width": 0.5
             },
             "pattern": {
              "fillmode": "overlay",
              "size": 10,
              "solidity": 0.2
             }
            },
            "type": "bar"
           }
          ],
          "barpolar": [
           {
            "marker": {
             "line": {
              "color": "#E5ECF6",
              "width": 0.5
             },
             "pattern": {
              "fillmode": "overlay",
              "size": 10,
              "solidity": 0.2
             }
            },
            "type": "barpolar"
           }
          ],
          "carpet": [
           {
            "aaxis": {
             "endlinecolor": "#2a3f5f",
             "gridcolor": "white",
             "linecolor": "white",
             "minorgridcolor": "white",
             "startlinecolor": "#2a3f5f"
            },
            "baxis": {
             "endlinecolor": "#2a3f5f",
             "gridcolor": "white",
             "linecolor": "white",
             "minorgridcolor": "white",
             "startlinecolor": "#2a3f5f"
            },
            "type": "carpet"
           }
          ],
          "choropleth": [
           {
            "colorbar": {
             "outlinewidth": 0,
             "ticks": ""
            },
            "type": "choropleth"
           }
          ],
          "contour": [
           {
            "colorbar": {
             "outlinewidth": 0,
             "ticks": ""
            },
            "colorscale": [
             [
              0,
              "#0d0887"
             ],
             [
              0.1111111111111111,
              "#46039f"
             ],
             [
              0.2222222222222222,
              "#7201a8"
             ],
             [
              0.3333333333333333,
              "#9c179e"
             ],
             [
              0.4444444444444444,
              "#bd3786"
             ],
             [
              0.5555555555555556,
              "#d8576b"
             ],
             [
              0.6666666666666666,
              "#ed7953"
             ],
             [
              0.7777777777777778,
              "#fb9f3a"
             ],
             [
              0.8888888888888888,
              "#fdca26"
             ],
             [
              1,
              "#f0f921"
             ]
            ],
            "type": "contour"
           }
          ],
          "contourcarpet": [
           {
            "colorbar": {
             "outlinewidth": 0,
             "ticks": ""
            },
            "type": "contourcarpet"
           }
          ],
          "heatmap": [
           {
            "colorbar": {
             "outlinewidth": 0,
             "ticks": ""
            },
            "colorscale": [
             [
              0,
              "#0d0887"
             ],
             [
              0.1111111111111111,
              "#46039f"
             ],
             [
              0.2222222222222222,
              "#7201a8"
             ],
             [
              0.3333333333333333,
              "#9c179e"
             ],
             [
              0.4444444444444444,
              "#bd3786"
             ],
             [
              0.5555555555555556,
              "#d8576b"
             ],
             [
              0.6666666666666666,
              "#ed7953"
             ],
             [
              0.7777777777777778,
              "#fb9f3a"
             ],
             [
              0.8888888888888888,
              "#fdca26"
             ],
             [
              1,
              "#f0f921"
             ]
            ],
            "type": "heatmap"
           }
          ],
          "histogram": [
           {
            "marker": {
             "pattern": {
              "fillmode": "overlay",
              "size": 10,
              "solidity": 0.2
             }
            },
            "type": "histogram"
           }
          ],
          "histogram2d": [
           {
            "colorbar": {
             "outlinewidth": 0,
             "ticks": ""
            },
            "colorscale": [
             [
              0,
              "#0d0887"
             ],
             [
              0.1111111111111111,
              "#46039f"
             ],
             [
              0.2222222222222222,
              "#7201a8"
             ],
             [
              0.3333333333333333,
              "#9c179e"
             ],
             [
              0.4444444444444444,
              "#bd3786"
             ],
             [
              0.5555555555555556,
              "#d8576b"
             ],
             [
              0.6666666666666666,
              "#ed7953"
             ],
             [
              0.7777777777777778,
              "#fb9f3a"
             ],
             [
              0.8888888888888888,
              "#fdca26"
             ],
             [
              1,
              "#f0f921"
             ]
            ],
            "type": "histogram2d"
           }
          ],
          "histogram2dcontour": [
           {
            "colorbar": {
             "outlinewidth": 0,
             "ticks": ""
            },
            "colorscale": [
             [
              0,
              "#0d0887"
             ],
             [
              0.1111111111111111,
              "#46039f"
             ],
             [
              0.2222222222222222,
              "#7201a8"
             ],
             [
              0.3333333333333333,
              "#9c179e"
             ],
             [
              0.4444444444444444,
              "#bd3786"
             ],
             [
              0.5555555555555556,
              "#d8576b"
             ],
             [
              0.6666666666666666,
              "#ed7953"
             ],
             [
              0.7777777777777778,
              "#fb9f3a"
             ],
             [
              0.8888888888888888,
              "#fdca26"
             ],
             [
              1,
              "#f0f921"
             ]
            ],
            "type": "histogram2dcontour"
           }
          ],
          "mesh3d": [
           {
            "colorbar": {
             "outlinewidth": 0,
             "ticks": ""
            },
            "type": "mesh3d"
           }
          ],
          "parcoords": [
           {
            "line": {
             "colorbar": {
              "outlinewidth": 0,
              "ticks": ""
             }
            },
            "type": "parcoords"
           }
          ],
          "pie": [
           {
            "automargin": true,
            "type": "pie"
           }
          ],
          "scatter": [
           {
            "fillpattern": {
             "fillmode": "overlay",
             "size": 10,
             "solidity": 0.2
            },
            "type": "scatter"
           }
          ],
          "scatter3d": [
           {
            "line": {
             "colorbar": {
              "outlinewidth": 0,
              "ticks": ""
             }
            },
            "marker": {
             "colorbar": {
              "outlinewidth": 0,
              "ticks": ""
             }
            },
            "type": "scatter3d"
           }
          ],
          "scattercarpet": [
           {
            "marker": {
             "colorbar": {
              "outlinewidth": 0,
              "ticks": ""
             }
            },
            "type": "scattercarpet"
           }
          ],
          "scattergeo": [
           {
            "marker": {
             "colorbar": {
              "outlinewidth": 0,
              "ticks": ""
             }
            },
            "type": "scattergeo"
           }
          ],
          "scattergl": [
           {
            "marker": {
             "colorbar": {
              "outlinewidth": 0,
              "ticks": ""
             }
            },
            "type": "scattergl"
           }
          ],
          "scattermap": [
           {
            "marker": {
             "colorbar": {
              "outlinewidth": 0,
              "ticks": ""
             }
            },
            "type": "scattermap"
           }
          ],
          "scattermapbox": [
           {
            "marker": {
             "colorbar": {
              "outlinewidth": 0,
              "ticks": ""
             }
            },
            "type": "scattermapbox"
           }
          ],
          "scatterpolar": [
           {
            "marker": {
             "colorbar": {
              "outlinewidth": 0,
              "ticks": ""
             }
            },
            "type": "scatterpolar"
           }
          ],
          "scatterpolargl": [
           {
            "marker": {
             "colorbar": {
              "outlinewidth": 0,
              "ticks": ""
             }
            },
            "type": "scatterpolargl"
           }
          ],
          "scatterternary": [
           {
            "marker": {
             "colorbar": {
              "outlinewidth": 0,
              "ticks": ""
             }
            },
            "type": "scatterternary"
           }
          ],
          "surface": [
           {
            "colorbar": {
             "outlinewidth": 0,
             "ticks": ""
            },
            "colorscale": [
             [
              0,
              "#0d0887"
             ],
             [
              0.1111111111111111,
              "#46039f"
             ],
             [
              0.2222222222222222,
              "#7201a8"
             ],
             [
              0.3333333333333333,
              "#9c179e"
             ],
             [
              0.4444444444444444,
              "#bd3786"
             ],
             [
              0.5555555555555556,
              "#d8576b"
             ],
             [
              0.6666666666666666,
              "#ed7953"
             ],
             [
              0.7777777777777778,
              "#fb9f3a"
             ],
             [
              0.8888888888888888,
              "#fdca26"
             ],
             [
              1,
              "#f0f921"
             ]
            ],
            "type": "surface"
           }
          ],
          "table": [
           {
            "cells": {
             "fill": {
              "color": "#EBF0F8"
             },
             "line": {
              "color": "white"
             }
            },
            "header": {
             "fill": {
              "color": "#C8D4E3"
             },
             "line": {
              "color": "white"
             }
            },
            "type": "table"
           }
          ]
         },
         "layout": {
          "annotationdefaults": {
           "arrowcolor": "#2a3f5f",
           "arrowhead": 0,
           "arrowwidth": 1
          },
          "autotypenumbers": "strict",
          "coloraxis": {
           "colorbar": {
            "outlinewidth": 0,
            "ticks": ""
           }
          },
          "colorscale": {
           "diverging": [
            [
             0,
             "#8e0152"
            ],
            [
             0.1,
             "#c51b7d"
            ],
            [
             0.2,
             "#de77ae"
            ],
            [
             0.3,
             "#f1b6da"
            ],
            [
             0.4,
             "#fde0ef"
            ],
            [
             0.5,
             "#f7f7f7"
            ],
            [
             0.6,
             "#e6f5d0"
            ],
            [
             0.7,
             "#b8e186"
            ],
            [
             0.8,
             "#7fbc41"
            ],
            [
             0.9,
             "#4d9221"
            ],
            [
             1,
             "#276419"
            ]
           ],
           "sequential": [
            [
             0,
             "#0d0887"
            ],
            [
             0.1111111111111111,
             "#46039f"
            ],
            [
             0.2222222222222222,
             "#7201a8"
            ],
            [
             0.3333333333333333,
             "#9c179e"
            ],
            [
             0.4444444444444444,
             "#bd3786"
            ],
            [
             0.5555555555555556,
             "#d8576b"
            ],
            [
             0.6666666666666666,
             "#ed7953"
            ],
            [
             0.7777777777777778,
             "#fb9f3a"
            ],
            [
             0.8888888888888888,
             "#fdca26"
            ],
            [
             1,
             "#f0f921"
            ]
           ],
           "sequentialminus": [
            [
             0,
             "#0d0887"
            ],
            [
             0.1111111111111111,
             "#46039f"
            ],
            [
             0.2222222222222222,
             "#7201a8"
            ],
            [
             0.3333333333333333,
             "#9c179e"
            ],
            [
             0.4444444444444444,
             "#bd3786"
            ],
            [
             0.5555555555555556,
             "#d8576b"
            ],
            [
             0.6666666666666666,
             "#ed7953"
            ],
            [
             0.7777777777777778,
             "#fb9f3a"
            ],
            [
             0.8888888888888888,
             "#fdca26"
            ],
            [
             1,
             "#f0f921"
            ]
           ]
          },
          "colorway": [
           "#636efa",
           "#EF553B",
           "#00cc96",
           "#ab63fa",
           "#FFA15A",
           "#19d3f3",
           "#FF6692",
           "#B6E880",
           "#FF97FF",
           "#FECB52"
          ],
          "font": {
           "color": "#2a3f5f"
          },
          "geo": {
           "bgcolor": "white",
           "lakecolor": "white",
           "landcolor": "#E5ECF6",
           "showlakes": true,
           "showland": true,
           "subunitcolor": "white"
          },
          "hoverlabel": {
           "align": "left"
          },
          "hovermode": "closest",
          "mapbox": {
           "style": "light"
          },
          "paper_bgcolor": "white",
          "plot_bgcolor": "#E5ECF6",
          "polar": {
           "angularaxis": {
            "gridcolor": "white",
            "linecolor": "white",
            "ticks": ""
           },
           "bgcolor": "#E5ECF6",
           "radialaxis": {
            "gridcolor": "white",
            "linecolor": "white",
            "ticks": ""
           }
          },
          "scene": {
           "xaxis": {
            "backgroundcolor": "#E5ECF6",
            "gridcolor": "white",
            "gridwidth": 2,
            "linecolor": "white",
            "showbackground": true,
            "ticks": "",
            "zerolinecolor": "white"
           },
           "yaxis": {
            "backgroundcolor": "#E5ECF6",
            "gridcolor": "white",
            "gridwidth": 2,
            "linecolor": "white",
            "showbackground": true,
            "ticks": "",
            "zerolinecolor": "white"
           },
           "zaxis": {
            "backgroundcolor": "#E5ECF6",
            "gridcolor": "white",
            "gridwidth": 2,
            "linecolor": "white",
            "showbackground": true,
            "ticks": "",
            "zerolinecolor": "white"
           }
          },
          "shapedefaults": {
           "line": {
            "color": "#2a3f5f"
           }
          },
          "ternary": {
           "aaxis": {
            "gridcolor": "white",
            "linecolor": "white",
            "ticks": ""
           },
           "baxis": {
            "gridcolor": "white",
            "linecolor": "white",
            "ticks": ""
           },
           "bgcolor": "#E5ECF6",
           "caxis": {
            "gridcolor": "white",
            "linecolor": "white",
            "ticks": ""
           }
          },
          "title": {
           "x": 0.05
          },
          "xaxis": {
           "automargin": true,
           "gridcolor": "white",
           "linecolor": "white",
           "ticks": "",
           "title": {
            "standoff": 15
           },
           "zerolinecolor": "white",
           "zerolinewidth": 2
          },
          "yaxis": {
           "automargin": true,
           "gridcolor": "white",
           "linecolor": "white",
           "ticks": "",
           "title": {
            "standoff": 15
           },
           "zerolinecolor": "white",
           "zerolinewidth": 2
          }
         }
        }
       }
      }
     },
     "metadata": {},
     "output_type": "display_data"
    }
   ],
   "source": [
    "# t-SNE of the merged tensor\n",
    "\n",
    "tsne = TSNE(n_components=2, verbose=0, perplexity=40, n_iter=300)\n",
    "image_text_tsne = tsne.fit_transform(text_cat_image.to('cpu'))\n",
    "\n",
    "sizes = np.array([15 if i < 200 else 5 for i in range(len(image_text_tsne))])\n",
    "\n",
    "fig = go.Figure()\n",
    "\n",
    "fig.add_trace(go.Scatter(\n",
    "    x=image_text_tsne[:200, 0],\n",
    "    y=image_text_tsne[:200, 1],\n",
    "    mode='markers',\n",
    "    name='Text embeddings',\n",
    "    marker=dict(\n",
    "        size=sizes[:200],\n",
    "        color=shuffled_classes,\n",
    "        opacity=0.7,\n",
    "        line=dict(width=0)\n",
    "    ),\n",
    "    showlegend=True\n",
    "))\n",
    "\n",
    "fig.add_trace(go.Scatter(\n",
    "    x=image_text_tsne[200:, 0],\n",
    "    y=image_text_tsne[200:, 1],\n",
    "    mode='markers',\n",
    "    name='Image embeddings',\n",
    "    marker=dict(\n",
    "        size=sizes[200:],\n",
    "        color=shuffled_colors,\n",
    "        opacity=0.7,\n",
    "        line=dict(width=0)\n",
    "    ),\n",
    "    showlegend=True\n",
    "))\n",
    "\n",
    "\n",
    "fig.update_layout(\n",
    "legend=dict(\n",
    "    title='Types de données',\n",
    "    x=0.01,\n",
    "    y=0.99,\n",
    "    bgcolor='rgba(255,255,255,0.8)',\n",
    "    bordercolor='black',\n",
    "    borderwidth=1\n",
    "    )\n",
    ")\n",
    "\n",
    "fig.update_traces(\n",
    "    \n",
    "    marker=dict(\n",
    "                              line=dict(width=0,\n",
    "                                        )\n",
    "                  ))\n",
    "\n",
    "path='/home/onyxia/work/DetailCLIP/images/text + image/image.png'\n",
    "fig.write_image(path, format='png', engine='kaleido')\n",
    "fig.show()\n",
    "\n"
   ]
  },
  {
   "cell_type": "code",
   "execution_count": 30,
   "id": "cba28b05",
   "metadata": {},
   "outputs": [
    {
     "name": "stdout",
     "output_type": "stream",
     "text": [
      "/home/onyxia/work/DetailCLIP/cluster_vis/74.png\n"
     ]
    },
    {
     "data": {
      "application/vnd.plotly.v1+json": {
       "config": {
        "plotlyServerURL": "https://plot.ly"
       },
       "data": [
        {
         "hovertemplate": "x=%{x}<br>y=%{y}<br>color=%{marker.color}<extra></extra>",
         "legendgroup": "",
         "marker": {
          "color": {
           "bdata": "AAAAAAAAAAAAAAAAAAAAAAAAAAAAAAAAAAAAAAAAAAAAAAAAAAAAAAAAAAAAAAAAAAAAAAAAAAAAAAAAAAAAAAAAAAAAAAAAAAAAAAAAAAAAAAAAAAAAAAAAAAAAAAAAAAAAAAAAAAAAAAAAAAAAAAAAAAAAAAAAAAAAAAAAAAAAAAAAAAAAAAAAAAAAAAAAAAAAAAAAAAAAAAAAAAAAAAAAAAAAAAAAAAAAAAAAAAAAAAAAAAAAAAAAAAAAAAAAAAAAAAAAAAAAAAAAAAAAAAAAAAAAAAAAAAAAAAAAAAAAAAAAAAAAAAAAAAAAAAAAAAAAAAAAAAAAAAAAAAAAAAAAAAAAAAAAAAAAAAAAAAAAAAAAAAAAAAAAAAAAAAAAAAAAAAAAAAAAAAAAAAAAAAAAAAAAAAAAAAAAAAAAAAAAAAAAAAAAAAAAAAAAAAAAAAAAAAAAAAAAAAAAAAAAAAAAAAAAAAAAAAAAAAAAAAAAAAAAAAAAAAAAAAAAAAAAAAAAAAAAAAAAAAAAAAAAAAAAAAAAAAAAAAAAAAAAAAAAAAAAAAAAAAAAAAAAAAAAAAAAAAAAAAAAAAAAAAAAAAAAAAAAAAAAAAAAAAAAAAAAAAAAAAAAAAAAAAAAAAAAAAAAAAAAAAAAAAAAAAAAAAAAAAAAAAAAAAAAAAAAAAAAAAAAAAAAAAAAAAAAAAAAAAAAAAAAAAAAAAAAAAAAAAAAAAAAAAAAAAAAAAAAAAAAAAAAAAAAAAAAAAAAAAAAAAAAAAAAAAAAAAAAAAAAAAAAAAAAAAAAAAAAAAAAAAAAAAAAAAAAAAAAAAAAAAAAAAAAAAAAAAAAAAAAAAAAAAAAAAAAAAAAAAAAAAAAAAAAAAAAAAAAAAAAAAAAAAAAAAAAAAAAAAAAAAAAAAAAAAAAAAAAAAAAAAAAAAAAAAAAAAAAAAAAAAAAAAAAAAAAAAAAAAAAAAAAAAAAAAAAAAAAAAAAAAAAAAAAAAAAAAAAAAAAAAAAAAAAAAAAAAAAAAAAAAAAAAAAAAAAAAAAAAAAAAAAAAAAAAAAAAAAAAAAAAAAAAAAAAAAAAAAAAAAAAAAAAAAAAAAAAAAAAAAAAAAAAAAAAAAAAAAAAAAAAAAAAAAAAAAAAAAAAAAAAAAAAAAAAAAAAAAAAAAAAAAAAAAAAAAAAAAAAAAAAAAAAAAAAAAAAAAAAAAAAAAAAAAAAAAAAAAAAAAAAAAAAAAAAAAAAAAAAAAAAAAAAAAAAAAAAAAAAAAAAAAAAAAAAAAAAAAAAAAAAAAAAAAAAAAAAAAAAAAAAAAAAAAAAAAAAAAAAAAAAAAAAAAAAAAAAAAAAAAAAAAAAAAAAAAAAAAAAAAAAAAAAAAAAAAAAAAAAAAAAAAAAAAAAAAAAAAAAAAAAAAAAAAAAAAAAAAAAAAAAAAAAAAAAAAAAAAAAAAAAAAAAAAAAAAAAAAAAAAAAAAAAAAAAAAAAAAAAAAAAAAAAAAAAAAAAAAAAAAAAAAAAAAAAAAAAAAAAAAAAAAAAAAAAAAAAAAAAAAAAAAAAAAAAAAAAAAAAAAAAAAAAAAAAAAAAAAAAAAAAAAAAAAAAAAAAAAAAAAAAAAAAAAAAAAAAAAAAAAAAAAAAAAAAAAAAAAAAAAAAAAAAAAAAAAAAAAAAAAAAAAAAAAAAAAAAAAAAAAAAAAAAAAAAAAAAAAAAAAAAAAAAAAAAAAAAAAAAAAAAAAAAAAAAAAAAAAAAAAAAAAAAAAAAAAAAAAAAAAAAAAAAAAAAAAAAAAAAAAAAAAAAAAAAAAAAAAAAAAAAAAAAAAAAAAAAAAAAAAAAAAAAAAAAAAAAAAAAAAAAAAAAAAAAAAAAAAAAAAAAAAAAAAAAAAAAAAAAAAAAAAAAAAAAAAAAAAAAAAAAAAAAAAAAAAAAAAAAAAAAAAAAAAAAAAAAAAAAAAAAAAAAAAAAAAAAAAAAAAAAAAAAAAAAAAAAAAAAAAAAAAAAAAAAAAAAAAAAAAAAAAAAAAAAAAAAAAAAAAAAAAAAAAAAAAAAAAAAAAAAAAAAAAAAAAAAAAAAAAAAAAAAAAAAAAAAAAAAAAAAAAAAAAAAAAAAAAAAAAAAAAAAAAAAAAAAAAAAAAAAAAAAAAAAAAAAAAAAAAAAAAAAAAAAAAAAAAAAAAAAAAAAAAAAAAAAAAAAAAAAAAAAAAAAAAAAAAAAAAAAAAAAAAAAAAAAAAAAAAAAAAAAAAAAAAAAAAAAAAAAAAAAAAAAAAAAAAAAAAAAAAAAAAAAAAAAAAAAAAAAAAAAAAAAAAAAAAAAAAAAAAAAAAAAAAAAAAAAAAAAAAAAAAAAAAAAAAAAAAAAAAAAAAAAAAAAAAAAAAAAAAAAAAAAAAAAAAAAAAAAAAAAAAAAAAAAAAAAAAAAAAAAAAAAAAAAAAAAAAAAAAAAAAAAAAAAAAAAAAAAAAAAAAAAAAAAAAAAAAAAAAAAAAAAAAAAAAAAAAAAAAAAAAAAAAAAAAAAAAAAAAAAAAAAAAAAAAAAAAAAAAAAAAAAAAAAAAAAAAAAAAAAAAAAAAAAAAAAAAAAAAAAAAAAAAAAAAAAAAAAAAAAAAAAAAAAAAAAAAAAAAAAAAAAAAAAAAAAAAAAAAAAAAAAAAAAAAAAAAAAAAAAAAAAAAAAAAAAAAAAAAAAAAAAAAAAAAAAAAAAAAAAAAAAAAAAAAAAAAAAAAAAAAAAAAAAAAAAAAAAAAAAAAAAAAAAAAAAAAAAAAAAAAAAAAAAAAAAAAAAAAAAAAAAAAAAAAAAAAAAAAAAAAAAAAAAAAAAAAAAAAAAAAAAAAAAAAAAAAAAAAAAAAAAAAAAAAAAAAAAAAAAAAAAAAAAAAAAAAAAAAAAAAAAAAAAAAAAAAAAAAAAAAAAAAAAAAAAAAAAAAAAAAAAAAAAAAAAAAAAAAAAAAAAAAAAAAAAAAAAAAAAAAAAAAAAAAAAAAAAAAAAAAAAAAAAAAAAAAAAAAAAAAAAAAAAAAAAAAAAAAAAAAAAAAAAAAAAAAAAAAAAAAAAAAAAAAAAAAAAAAAAAAAAAAAAAAAAAAAAAAAAAAAAAAAAAAAAAAAAAAAAAAAAAAAAAAAAAAAAAAAAAAAAAAAAAAAAAAAAAAAAAAAAAAAAAAAAAAAAAAAAAAAAAAAAAAAAAAAAAAAAAAAAAAAAAAAAAAAAAAAAAAAAAAAAAAAAAAAAAAAAAAAAAAAAAAAAAAAAAAAAAAAAAAAAAAAAAAAAAAAAAAAAAAAAAAAAAAAAAAAAAAAAAAAAAAAAAAAAAAAAAAAAAAAAAAAAAAAAAAAAAAAAAAAAAAAAAAAAAAAAAAAAAAAAAAAAAAAAAAAAAAAAAAAAAAAAAAAAAAAAAAAAAAAAAAAAAAAAAAAAAAAAAAAAAAAAAAAAAAAAAAAAAAAAAAAAAAAAAAAAAAAAAAAAAAAAAAAAAAAAAAAAAAAAAAAAAAAAAAAAAAAAAAAAAAAAAAAAAAAAAAAAAAAAAAAAAAAAAAAAAAAAAAAAAAAAAAAAAAAAAAAAAAAAAAAAAAAAAAAAAAAAAAAAAAAAAAAAAAAAAAAAAAAAAAAAAAAAAAAAAAAAAAAAAAAAAAAAAAAAAAAAAAAAAAAAAAAAAAAAAAAAAAAAAAAAAAAAAAAAAAAAAAAAAAAAAAAAAAAAAAAAAAAAAAAAAAAAAAAAAAAAAAAAAAAAAAAAAAAAAAAAAAAAAAAAAAAAAAAAAAAAAAAAAAAAAAAAAAAAAAAAAAAAAAAAAAAAAAAAAAAAAAAAAAAAAAAAAAAAAAAAAAAAAAAAAAAAAAAAAAAAAAAAAAAAAAAAAAAAAAAAAAAAAAAAAAAAAAAAAAAAAAAAAAAAAAAAAAAAAAAAAAAAAAAAAAAAAAAAAAAAAAAAAAAAAAAAAAAAAAAAAAAAAAAAAAAAAAAAAAAAAAAAAAAAAAAAAAAAAAAAAAAAAAAAAAAAAAAAAAAAAAAAAAAAAAAAAAAAAAAAAAAAAAAAAAAAAAAAAAAAAAAAAAAAAAAAAAAAAAAAAAAAAAAAAAAAAAAAAAAAAAAAAAAAAAAAAAAAAAAAAAAAAAAAAAAAAAAAAAAAAAAAAAAAAAAAAAAAAAAAAAAAAAAAAAAAAAAAAAAAAAAAAAAAAAAAAAAAAAAAAAAAAAAAAAAAAAAAAAAAAAAAAAAAAAAAAAAAAAAAAAAAAAAAAAAAAAAAAAAAAAAAAAAAAAAAAAAAAAAAAAAAAAAAAAAAAAAAAAAAAAAAAAAAAAAAAAAAAAAAAAAAAAAAAAAAAAAAAAAAAAAAAAAAAAAAAAAAAAAAAAAAAAAAAAAAAAAAAAAAAAAAAAAAAAAAAAAAAAAAAAAAAAAAAAAAAAAAAAAAAAAAAAAAAAAAAAAAAAAAAAAAAAAAAAAAAAAAAAAAAAAAAAAAAAAAAAAAAAAAAAAAAAAAAAAAAAAAAAAAAAAAAAAAAAAAAAAAAAAAAAAAAAAAAAAAAAAAAAAAAAAAAAAAAAAAAAAAAAAAAAAAAAAAAAAAAAAAAAAAAAAAAAAAAAAAAAAAAAAAAAAAAAAAAAAAAAAAAAAAAAAAAAAAAAAAAAAAAAAAAAAAAAAAAAAAAAAAAAAAAAAAAAAAAAAAAAAAAAAAAAAAAAAAAAAAAAAAAAAAAAAAAAAAAAAAAAAAAAAAAAAAAAAAAAAAAAAAAAAAAAAAAAAAAAAAAAAAAAAAAAAAAAAAAAAAAAAAAAAAAAAAAAAAAAAAAAAAAAAAAAAAAAAAAAAAAAAAAAAAAAAAAAAAAAAAAAAAAAAAAAAAAAAAAAAAAAAAAAAAAAAAAAAAAAAAAAAAAAAAAAAAAAAAAAAAAAAAAAAAAAAAAAAAAAAAAAAAAAAAAAAAAAAAAAAAAAAAAAAAAAAAAAAAAAAAAAAAAAAAAAAAAAAAAAAAAAAAAAAAAAAAAAAAAAAAAAAAAAAAAAAAAAAAAAAAAAAAAAAAAAAAAAAAAAAAAAAAAAAAAAAAAAAAAAAAAAAAAAAAAAAAAAAAAAAAAAAAAAAAAAAAAAAAAAAAAAAAAAAAAAAAAAAAAAAAAAAAAAAAAAAAAAAAAAAAAAAAAAAAAAAAAAAAAAAAAAAAAAAAAAAAAAAAAAAAAAAAAAAAAAAAAAAAAAAAAAAAAAAAAAAAAAAAAAAAAAAAAAAAAAAAAAAAAAAAAAAAAAAAAAAAAAAAAAAAAAAAAAAAAAAAAAAAAAAAAAAAAAAAAAAAAAAAAAAAAAAAAAAAAAAAAAAAAAAAAAAAAAAAAAAAAAAAAAAAAAAAAAAAAAAAAAAAAAAAAAAAAAAAAAAAAAAAAAAAAAAAAAAAAAAAAAAAAAAAAAAAAAAAAAAAAAAAAAAAAAAAAAAAAAAAAAAAAAAAAAAAAAAAAAAAAAAAAAAAAAAAAAAAAAAAAAAAAAAAAAAAAAAAAAAAAAAAAAAAAAAAAAAAAAAAAAAAAAAAAAAAAAAAAAAAAAAAAAAAAAAAAAAAAAAAAAAAAAAAAAAAAAAAAAAAAAAAAAAAAAAAAAAAAAAAAAAAAAAAAAAAAAAAAAAAAAAAAAAAAAAAAAAAAAAAAAAAAAAAAAAAAAAAAAAAAAAAAAAAAAAAAAAAAAAAAAAAAAAAAAAAAAAAAAAAAAAAAAAAAAAAAAAAAAAAAAAAAAAAAAAAAAAAAAAAAAAAAAAAAAAAAAAAAAAAAAAAAAAAAAAAAAAAAAAAAAAAAAAAAAAAAAAAAAAAAAAAAAAAAAAAAAAAAAAAAAAAAAAAAAAAAAAAAAAAAAAAAAAAAAAAAAAAAAAAAAAAAAAAAAAAAAAAAAAAAAAAAAAAAAAAAAAAAAAAAAAAAAAAAAAAAAAAAAAAAAAAAAAAAAAAAAAAAAAAAAAAAAAAAAAAAAAAAAAAAAAAAAAAAAAAAAAAAAAAAAAAAAAAAAAAAAAAAAAAAAAAAAAAAAAAAAAAAAAAAAAAAAAAAAAAAAAAAAAAAAAAAAAAAAAAAAAAAAAAAAAAAAAAAAAAAAAAAAAAAAAAAAAAAAAAAAAAAAAAAAAAAAAAAAAAAAAAAAAAAAAAAAAAAAAAAAAAAAAAAAAAAAAAAAAAAAAAAAAAAAAAAAAAAAAAAAAAAAAAAAAAAAAAAAAAAAAAAAAAAAAAAAAAAAAAAAAAAAAAAAAAAAAAAAAAAAAAAAAAAAAAAAAAAAAAAAAAAAAAAAAAAAAAAAAAAAAAAAAAAAAAAAAAAAAAAAAAAAAAAAAAAAAAAAAAAAAAAAAAAAAAAAAAAAAAAAAAAAAAAAAAAAAAAAAAAAAAAAAAAAAAAAAAAAAAAAAAAAAAAAAAAAAAAAAAAAAAAAAAAAAAAAAAAAAAAAAAAAAAAAAAAAAAAAAAAAAAAAAAAAAAAAAAAAAAAAAAAAAAAAAAAAAAAAAAAAAAAAAAAAAAAAAAAAAAAAAAAAAAAAAAAAAAAAAAAAAAAAAAAAAAAAAAAAAAAAAAAAAAAAAAAAAAAAAAAAAAAAAAAAAAAAAAAAAAAAAAAAAAAAAAAAAAAAAAAAAAAAAAAAAAAAAAAAAAAAAAAAAAAAAAAAAAAAAAAAAAAAAAAAAAAAAAAAAAAAAAAAAAAAAAAAAAAAAAAAAAAAAAAAAAAAAAAAAAAAAAAAAAAAAAAAAAAAAAAAAAAAAAAAAAAAAAAAAAAAAAAAAAAAAAAAAAAAAAAAAAAAAAAAAAAAAAAAAAAAAAAAAAAAAAAAAAAAAAAAAAAAAAAAAAAAAAAAAAAAAAAAAAAAAAAAAAAAAAAAAAAAAAAAAAAAAAAAAAAAAAAAAAAAAAAAAAAAAAAAAAAAAAAAAAAAAAAAAAAAAAAAAAAAAAAAAAAAAAAAAAAAAAAAAAAAAAAAAAAAAAAAAAAAAAAAAAAAAAAAAAAAAAAAAAAAAAAAAAAAAAAAAAAAAAAAAAAAAAAAAAAAAAAAAAAAAAAAAAAAAAAAAAAAAAAAAAAAAAAAAAAAAAAAAAAAAAAAAAAAAAAAAAAAAAAAAAAAAAAAAAAAAAAAAAAAAAAAAAAAAAAAAAAAAAAAAAAAAAAAAAAAAAAAAAAAAAAAAAAAAAAAAAAAAAAAAAAAAAAAAAAAAAAAAAAAAAAAAAAAAAAAAAAAAAAAAAAAAAAAAAAAAAAAAAAAAAAAAAAAAAAAAAAAAAAAAAAAAAAAAAAAAAAAAAAAAAAAAAAAAAAAAAAAAAAAAAAAAAAAAAAAAAAAAAAAAAAAAAAAAAAAAAAAAAAAAAAAAAAAAAAAAAAAAAAAAAAAAAAAAAAAAAAAAAAAAAAAAAAAAAAAAAAAAAAAAAAAAAAAAAAAAAAAAAAAAAAAAAAAAAAAAAAAAAAAAAAAAAAAAAAAAAAAAAAAAAAAAABKSkpKSkpKSkpKSkpKSkpKSkpKSkpKSkpKSkpKSkoAAAAAAAAAAAAAAAAAAAAAAAAAAAAAAAAAAAAAAAAAAAAAAAAAAAAAAAAAAAAAAAAAAAAAAAAAAAAAAAAAAAAAAAAAAAAAAAAAAAAAAAAAAAAAAAAAAAAAAAAAAAAAAAAAAAAAAAAAAAAAAAAAAAAAAAAAAAAAAAAAAAAAAAAAAAAAAAAAAAAAAAAAAAAAAAAAAAAAAAAAAAAAAAAAAAAAAAAAAAAAAAAAAAAAAAAAAAAAAAAAAAAAAAAAAAAAAAAAAAAAAAAAAAAAAAAAAAAAAAAAAAAAAAAAAAAAAAAAAAAAAAAAAAAAAAAAAAAAAAAAAAAAAAAAAAAAAAAAAAAAAAAAAAAAAAAAAAAAAAAAAAAAAAAAAAAAAAAAAAAAAAAAAAAAAAAAAAAAAAAAAAAAAAAAAAAAAAAAAAAAAAAAAAAAAAAAAAAAAAAAAAAAAAAAAAAAAAAAAAAAAAAAAAAAAAAAAAAAAA==",
           "dtype": "i1"
          },
          "coloraxis": "coloraxis",
          "symbol": "circle"
         },
         "mode": "markers",
         "name": "image embeddings",
         "showlegend": true,
         "type": "scattergl",
         "x": {
          "bdata": "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",
          "dtype": "f4"
         },
         "xaxis": "x",
         "y": {
          "bdata": "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",
          "dtype": "f4"
         },
         "yaxis": "y"
        },
        {
         "marker": {
          "color": "yellow"
         },
         "mode": "markers",
         "name": "class : Green Jay",
         "type": "scatter",
         "x": [
          null
         ],
         "y": [
          null
         ]
        }
       ],
       "layout": {
        "coloraxis": {
         "colorbar": {
          "title": {
           "text": "color"
          }
         },
         "colorscale": [
          [
           0,
           "#0d0887"
          ],
          [
           0.1111111111111111,
           "#46039f"
          ],
          [
           0.2222222222222222,
           "#7201a8"
          ],
          [
           0.3333333333333333,
           "#9c179e"
          ],
          [
           0.4444444444444444,
           "#bd3786"
          ],
          [
           0.5555555555555556,
           "#d8576b"
          ],
          [
           0.6666666666666666,
           "#ed7953"
          ],
          [
           0.7777777777777778,
           "#fb9f3a"
          ],
          [
           0.8888888888888888,
           "#fdca26"
          ],
          [
           1,
           "#f0f921"
          ]
         ]
        },
        "legend": {
         "bgcolor": "rgba(255,255,255,0.8)",
         "bordercolor": "black",
         "borderwidth": 1,
         "tracegroupgap": 0,
         "x": 0.01,
         "y": 0.99
        },
        "margin": {
         "t": 60
        },
        "template": {
         "data": {
          "bar": [
           {
            "error_x": {
             "color": "#2a3f5f"
            },
            "error_y": {
             "color": "#2a3f5f"
            },
            "marker": {
             "line": {
              "color": "#E5ECF6",
              "width": 0.5
             },
             "pattern": {
              "fillmode": "overlay",
              "size": 10,
              "solidity": 0.2
             }
            },
            "type": "bar"
           }
          ],
          "barpolar": [
           {
            "marker": {
             "line": {
              "color": "#E5ECF6",
              "width": 0.5
             },
             "pattern": {
              "fillmode": "overlay",
              "size": 10,
              "solidity": 0.2
             }
            },
            "type": "barpolar"
           }
          ],
          "carpet": [
           {
            "aaxis": {
             "endlinecolor": "#2a3f5f",
             "gridcolor": "white",
             "linecolor": "white",
             "minorgridcolor": "white",
             "startlinecolor": "#2a3f5f"
            },
            "baxis": {
             "endlinecolor": "#2a3f5f",
             "gridcolor": "white",
             "linecolor": "white",
             "minorgridcolor": "white",
             "startlinecolor": "#2a3f5f"
            },
            "type": "carpet"
           }
          ],
          "choropleth": [
           {
            "colorbar": {
             "outlinewidth": 0,
             "ticks": ""
            },
            "type": "choropleth"
           }
          ],
          "contour": [
           {
            "colorbar": {
             "outlinewidth": 0,
             "ticks": ""
            },
            "colorscale": [
             [
              0,
              "#0d0887"
             ],
             [
              0.1111111111111111,
              "#46039f"
             ],
             [
              0.2222222222222222,
              "#7201a8"
             ],
             [
              0.3333333333333333,
              "#9c179e"
             ],
             [
              0.4444444444444444,
              "#bd3786"
             ],
             [
              0.5555555555555556,
              "#d8576b"
             ],
             [
              0.6666666666666666,
              "#ed7953"
             ],
             [
              0.7777777777777778,
              "#fb9f3a"
             ],
             [
              0.8888888888888888,
              "#fdca26"
             ],
             [
              1,
              "#f0f921"
             ]
            ],
            "type": "contour"
           }
          ],
          "contourcarpet": [
           {
            "colorbar": {
             "outlinewidth": 0,
             "ticks": ""
            },
            "type": "contourcarpet"
           }
          ],
          "heatmap": [
           {
            "colorbar": {
             "outlinewidth": 0,
             "ticks": ""
            },
            "colorscale": [
             [
              0,
              "#0d0887"
             ],
             [
              0.1111111111111111,
              "#46039f"
             ],
             [
              0.2222222222222222,
              "#7201a8"
             ],
             [
              0.3333333333333333,
              "#9c179e"
             ],
             [
              0.4444444444444444,
              "#bd3786"
             ],
             [
              0.5555555555555556,
              "#d8576b"
             ],
             [
              0.6666666666666666,
              "#ed7953"
             ],
             [
              0.7777777777777778,
              "#fb9f3a"
             ],
             [
              0.8888888888888888,
              "#fdca26"
             ],
             [
              1,
              "#f0f921"
             ]
            ],
            "type": "heatmap"
           }
          ],
          "histogram": [
           {
            "marker": {
             "pattern": {
              "fillmode": "overlay",
              "size": 10,
              "solidity": 0.2
             }
            },
            "type": "histogram"
           }
          ],
          "histogram2d": [
           {
            "colorbar": {
             "outlinewidth": 0,
             "ticks": ""
            },
            "colorscale": [
             [
              0,
              "#0d0887"
             ],
             [
              0.1111111111111111,
              "#46039f"
             ],
             [
              0.2222222222222222,
              "#7201a8"
             ],
             [
              0.3333333333333333,
              "#9c179e"
             ],
             [
              0.4444444444444444,
              "#bd3786"
             ],
             [
              0.5555555555555556,
              "#d8576b"
             ],
             [
              0.6666666666666666,
              "#ed7953"
             ],
             [
              0.7777777777777778,
              "#fb9f3a"
             ],
             [
              0.8888888888888888,
              "#fdca26"
             ],
             [
              1,
              "#f0f921"
             ]
            ],
            "type": "histogram2d"
           }
          ],
          "histogram2dcontour": [
           {
            "colorbar": {
             "outlinewidth": 0,
             "ticks": ""
            },
            "colorscale": [
             [
              0,
              "#0d0887"
             ],
             [
              0.1111111111111111,
              "#46039f"
             ],
             [
              0.2222222222222222,
              "#7201a8"
             ],
             [
              0.3333333333333333,
              "#9c179e"
             ],
             [
              0.4444444444444444,
              "#bd3786"
             ],
             [
              0.5555555555555556,
              "#d8576b"
             ],
             [
              0.6666666666666666,
              "#ed7953"
             ],
             [
              0.7777777777777778,
              "#fb9f3a"
             ],
             [
              0.8888888888888888,
              "#fdca26"
             ],
             [
              1,
              "#f0f921"
             ]
            ],
            "type": "histogram2dcontour"
           }
          ],
          "mesh3d": [
           {
            "colorbar": {
             "outlinewidth": 0,
             "ticks": ""
            },
            "type": "mesh3d"
           }
          ],
          "parcoords": [
           {
            "line": {
             "colorbar": {
              "outlinewidth": 0,
              "ticks": ""
             }
            },
            "type": "parcoords"
           }
          ],
          "pie": [
           {
            "automargin": true,
            "type": "pie"
           }
          ],
          "scatter": [
           {
            "fillpattern": {
             "fillmode": "overlay",
             "size": 10,
             "solidity": 0.2
            },
            "type": "scatter"
           }
          ],
          "scatter3d": [
           {
            "line": {
             "colorbar": {
              "outlinewidth": 0,
              "ticks": ""
             }
            },
            "marker": {
             "colorbar": {
              "outlinewidth": 0,
              "ticks": ""
             }
            },
            "type": "scatter3d"
           }
          ],
          "scattercarpet": [
           {
            "marker": {
             "colorbar": {
              "outlinewidth": 0,
              "ticks": ""
             }
            },
            "type": "scattercarpet"
           }
          ],
          "scattergeo": [
           {
            "marker": {
             "colorbar": {
              "outlinewidth": 0,
              "ticks": ""
             }
            },
            "type": "scattergeo"
           }
          ],
          "scattergl": [
           {
            "marker": {
             "colorbar": {
              "outlinewidth": 0,
              "ticks": ""
             }
            },
            "type": "scattergl"
           }
          ],
          "scattermap": [
           {
            "marker": {
             "colorbar": {
              "outlinewidth": 0,
              "ticks": ""
             }
            },
            "type": "scattermap"
           }
          ],
          "scattermapbox": [
           {
            "marker": {
             "colorbar": {
              "outlinewidth": 0,
              "ticks": ""
             }
            },
            "type": "scattermapbox"
           }
          ],
          "scatterpolar": [
           {
            "marker": {
             "colorbar": {
              "outlinewidth": 0,
              "ticks": ""
             }
            },
            "type": "scatterpolar"
           }
          ],
          "scatterpolargl": [
           {
            "marker": {
             "colorbar": {
              "outlinewidth": 0,
              "ticks": ""
             }
            },
            "type": "scatterpolargl"
           }
          ],
          "scatterternary": [
           {
            "marker": {
             "colorbar": {
              "outlinewidth": 0,
              "ticks": ""
             }
            },
            "type": "scatterternary"
           }
          ],
          "surface": [
           {
            "colorbar": {
             "outlinewidth": 0,
             "ticks": ""
            },
            "colorscale": [
             [
              0,
              "#0d0887"
             ],
             [
              0.1111111111111111,
              "#46039f"
             ],
             [
              0.2222222222222222,
              "#7201a8"
             ],
             [
              0.3333333333333333,
              "#9c179e"
             ],
             [
              0.4444444444444444,
              "#bd3786"
             ],
             [
              0.5555555555555556,
              "#d8576b"
             ],
             [
              0.6666666666666666,
              "#ed7953"
             ],
             [
              0.7777777777777778,
              "#fb9f3a"
             ],
             [
              0.8888888888888888,
              "#fdca26"
             ],
             [
              1,
              "#f0f921"
             ]
            ],
            "type": "surface"
           }
          ],
          "table": [
           {
            "cells": {
             "fill": {
              "color": "#EBF0F8"
             },
             "line": {
              "color": "white"
             }
            },
            "header": {
             "fill": {
              "color": "#C8D4E3"
             },
             "line": {
              "color": "white"
             }
            },
            "type": "table"
           }
          ]
         },
         "layout": {
          "annotationdefaults": {
           "arrowcolor": "#2a3f5f",
           "arrowhead": 0,
           "arrowwidth": 1
          },
          "autotypenumbers": "strict",
          "coloraxis": {
           "colorbar": {
            "outlinewidth": 0,
            "ticks": ""
           }
          },
          "colorscale": {
           "diverging": [
            [
             0,
             "#8e0152"
            ],
            [
             0.1,
             "#c51b7d"
            ],
            [
             0.2,
             "#de77ae"
            ],
            [
             0.3,
             "#f1b6da"
            ],
            [
             0.4,
             "#fde0ef"
            ],
            [
             0.5,
             "#f7f7f7"
            ],
            [
             0.6,
             "#e6f5d0"
            ],
            [
             0.7,
             "#b8e186"
            ],
            [
             0.8,
             "#7fbc41"
            ],
            [
             0.9,
             "#4d9221"
            ],
            [
             1,
             "#276419"
            ]
           ],
           "sequential": [
            [
             0,
             "#0d0887"
            ],
            [
             0.1111111111111111,
             "#46039f"
            ],
            [
             0.2222222222222222,
             "#7201a8"
            ],
            [
             0.3333333333333333,
             "#9c179e"
            ],
            [
             0.4444444444444444,
             "#bd3786"
            ],
            [
             0.5555555555555556,
             "#d8576b"
            ],
            [
             0.6666666666666666,
             "#ed7953"
            ],
            [
             0.7777777777777778,
             "#fb9f3a"
            ],
            [
             0.8888888888888888,
             "#fdca26"
            ],
            [
             1,
             "#f0f921"
            ]
           ],
           "sequentialminus": [
            [
             0,
             "#0d0887"
            ],
            [
             0.1111111111111111,
             "#46039f"
            ],
            [
             0.2222222222222222,
             "#7201a8"
            ],
            [
             0.3333333333333333,
             "#9c179e"
            ],
            [
             0.4444444444444444,
             "#bd3786"
            ],
            [
             0.5555555555555556,
             "#d8576b"
            ],
            [
             0.6666666666666666,
             "#ed7953"
            ],
            [
             0.7777777777777778,
             "#fb9f3a"
            ],
            [
             0.8888888888888888,
             "#fdca26"
            ],
            [
             1,
             "#f0f921"
            ]
           ]
          },
          "colorway": [
           "#636efa",
           "#EF553B",
           "#00cc96",
           "#ab63fa",
           "#FFA15A",
           "#19d3f3",
           "#FF6692",
           "#B6E880",
           "#FF97FF",
           "#FECB52"
          ],
          "font": {
           "color": "#2a3f5f"
          },
          "geo": {
           "bgcolor": "white",
           "lakecolor": "white",
           "landcolor": "#E5ECF6",
           "showlakes": true,
           "showland": true,
           "subunitcolor": "white"
          },
          "hoverlabel": {
           "align": "left"
          },
          "hovermode": "closest",
          "mapbox": {
           "style": "light"
          },
          "paper_bgcolor": "white",
          "plot_bgcolor": "#E5ECF6",
          "polar": {
           "angularaxis": {
            "gridcolor": "white",
            "linecolor": "white",
            "ticks": ""
           },
           "bgcolor": "#E5ECF6",
           "radialaxis": {
            "gridcolor": "white",
            "linecolor": "white",
            "ticks": ""
           }
          },
          "scene": {
           "xaxis": {
            "backgroundcolor": "#E5ECF6",
            "gridcolor": "white",
            "gridwidth": 2,
            "linecolor": "white",
            "showbackground": true,
            "ticks": "",
            "zerolinecolor": "white"
           },
           "yaxis": {
            "backgroundcolor": "#E5ECF6",
            "gridcolor": "white",
            "gridwidth": 2,
            "linecolor": "white",
            "showbackground": true,
            "ticks": "",
            "zerolinecolor": "white"
           },
           "zaxis": {
            "backgroundcolor": "#E5ECF6",
            "gridcolor": "white",
            "gridwidth": 2,
            "linecolor": "white",
            "showbackground": true,
            "ticks": "",
            "zerolinecolor": "white"
           }
          },
          "shapedefaults": {
           "line": {
            "color": "#2a3f5f"
           }
          },
          "ternary": {
           "aaxis": {
            "gridcolor": "white",
            "linecolor": "white",
            "ticks": ""
           },
           "baxis": {
            "gridcolor": "white",
            "linecolor": "white",
            "ticks": ""
           },
           "bgcolor": "#E5ECF6",
           "caxis": {
            "gridcolor": "white",
            "linecolor": "white",
            "ticks": ""
           }
          },
          "title": {
           "x": 0.05
          },
          "xaxis": {
           "automargin": true,
           "gridcolor": "white",
           "linecolor": "white",
           "ticks": "",
           "title": {
            "standoff": 15
           },
           "zerolinecolor": "white",
           "zerolinewidth": 2
          },
          "yaxis": {
           "automargin": true,
           "gridcolor": "white",
           "linecolor": "white",
           "ticks": "",
           "title": {
            "standoff": 15
           },
           "zerolinecolor": "white",
           "zerolinewidth": 2
          }
         }
        },
        "xaxis": {
         "anchor": "y",
         "domain": [
          0,
          1
         ],
         "title": {
          "text": "x"
         }
        },
        "yaxis": {
         "anchor": "x",
         "domain": [
          0,
          1
         ],
         "title": {
          "text": "y"
         }
        }
       }
      }
     },
     "metadata": {},
     "output_type": "display_data"
    },
    {
     "name": "stdout",
     "output_type": "stream",
     "text": [
      "/home/onyxia/work/DetailCLIP/cluster_vis/150.png\n"
     ]
    },
    {
     "data": {
      "application/vnd.plotly.v1+json": {
       "config": {
        "plotlyServerURL": "https://plot.ly"
       },
       "data": [
        {
         "hovertemplate": "x=%{x}<br>y=%{y}<br>color=%{marker.color}<extra></extra>",
         "legendgroup": "",
         "marker": {
          "color": {
           "bdata": "AAAAAAAAAAAAAAAAAAAAAAAAAAAAAAAAAAAAAAAAAAAAAAAAAAAAAAAAAAAAAAAAAAAAAAAAAAAAAAAAAAAAAAAAAAAAAAAAAAAAAAAAAAAAAAAAAAAAAAAAAAAAAAAAAAAAAAAAAAAAAAAAAAAAAAAAAAAAAAAAAAAAAAAAAAAAAAAAAAAAAAAAAAAAAAAAAAAAAAAAAAAAAAAAAAAAAAAAAAAAAAAAAAAAAAAAAAAAAAAAAAAAAAAAAAAAAAAAAAAAAAAAAAAAAAAAAAAAAAAAAAAAAAAAAAAAAAAAAAAAAAAAAAAAAAAAAAAAAAAAAAAAAAAAAAAAAAAAAAAAAAAAAAAAAAAAAAAAAAAAAAAAAAAAAAAAAAAAAAAAAAAAAAAAAAAAAAAAAAAAAAAAAAAAAAAAAAAAAAAAAAAAAAAAAAAAAAAAAAAAAAAAAAAAAAAAAAAAAAAAAAAAAAAAAAAAAAAAAAAAAAAAAAAAAAAAAAAAAAAAAAAAAAAAAAAAAAAAAAAAAAAAAAAAAAAAAAAAAAAAAAAAAAAAAAAAAAAAAAAAAAAAAAAAAAAAAAAAAAAAAAAAAAAAAAAAAAAAAAAAAAAAAAAAAAAAAAAAAAAAAAAAAAAAAAAAAAAAAAAAAAAAAAAAAAAAAAAAAAAAAAAAAAAAAAAAAAAAAAAAAAAAAAAAAAAAAAAAAAAAAAAAAAAAAAAAAAAAAAAAAAAAAAAAAAAAAAAAAAAAAAAAAAAAAAAAAAAAAAAAAAAAAAAAAAAAAAAAAAAAAAAAAAAAAAAAAAAAAAAAAAAAAAAAAAAAAAAAAAAAAAAAAAAAAAAAAAAAAAAAAAAAAAAAAAAAAAAAAAAAAAAAAAAAAAAAAAAAAAAAAAAAAAAAAAAAAAAAAAAAAAAAAAAAAAAAAAAAAAAAAAAAAAAAAAAAAAAAAAAAAAAAAAAAAAAAAAAAAAAAAAAAAAAAAAAAAAAAAAAAAAAAAAAAAAAAAAAAAAAAAAAAAAAAAAAAAAAAAAAAAAAAAAAAAAAAAAAAAAAAAAAAAAAAAAAAAAAAAAAAAAAAAAAAAAAAAAAAAAAAAAAAAAAAAAAAAAAAAAAAAAAAAAAAAAAAAAAAAAAAAAAAAAAAAAAAAAAAAAAAAAAAAAAAAAAAAAAAAAAAAAAAAAAAAAAAAAAAAAAAAAAAAAAAAAAAAAAAAAAAAAAAAAAAAAAAAAAAAAAAAAAAAAAAAAAAAAAAAAAAAAAAAAAAAAAAAAAAAAAAAAAAAAAAAAAAAAAAAAAAAAAAAAAAAAAAAAAAAAAAAAAAAAAAAAAAAAAAAAAAAAAAAAAAAAAAAAAAAAAAAAAAAAAAAAAAAAAAAAAAAAAAAAAAAAAAAAAAAAAAAAAAAAAAAAAAAAAAAAAAAAAAAAAAAAAAAAAAAAAAAAAAAAAAAAAAAAAAAAAAAAAAAAAAAAAAAAAAAAAAAAAAAAAAAAAAAAAAAAAAAAAAAAAAAAAAAAAAAAAAAAAAAAAAAAAAAAAAAAAAAAAAAAAAAAAAAAAAAAAAAAAAAAAAAAAAAAAAAAAAAAAAAAAAAAAAAAAAAAAAAAAAAAAAAAAAAAAAAAAAAAAAAAAAAAAAAAAAAAAAAAAAAAAAAAAAAAAAAAAAAAAAAAAAAAAAAAAAAAAAAAAAAAAAAAAAAAAAAAAAAAAAAAAAAAAAAAAAAAAAAAAAAAAAAAAAAAAAAAAAAAAAAAAAAAAAAAAAAAAAAAAAAAAAAAAAAAAAAAAAAAAAAAAAAAAAAAAAAAAAAAAAAAAAAAAAAAAAAAAAAAAAAAAAAAAAAAAAAAAAAAAAAAAAAAAAAAAAAAAAAAAAAAAAAAAAAAAAAAAAAAAAAAAAAAAAAAAAAAAAAAAAAAAAAAAAAAAAAAAAAAAAAAAAAAAAAAAAAAAAAAAAAAAAAAAAAAAAAAAAAAAAAAAAAAAAAAAAAAAAAAAAAAAAAAAAAAAAAAAAAAAAAAAAAAAAAAAAAAAAAAAAAAAAAAAAAAAAAAAAAAAAAAAAAAAAAAAAAAAAAAAAAAAAAAAAAAAAAAAAAAAAAAAAAAAAAAAAAAAAAAAAAAAAAAAAAAAAAAAAAAAAAAAAAAAAAAAAAAAAAAAAAAAAAAAAAAAAAAAAAAAAAAAAAAAAAAAAAAAAAAAAAAAAAAAAAAAAAAAAAAAAAAAAAAAAAAAAAAAAAAAAAAAAAAAAAAAAAAAAAAAAAAAAAAAAAAAAAAAAAAAAAAAAAAAAAAAAAAAAAAAAAAAAAAAAAAAAAAAAAAAAAAAAAAAAAAAAAAAAAAAAAAAAAAAAAAAAAAAAAAAAAAAAAAAAAAAAAAAAAAAAAAAAAAAAAAAAAAAAAAAAAAAAAAAAAAAAAAAAAAAAAAAAAAAAAAAAAAAAAAAAAAAAAAAAAAAAAAAAAAAAAAAAAAAAAAAAAAAAAAAAAAAAAAAAAAAAAAAAAAAAAAAAAAAAAAAAAAAAAAAAAAAAAAAAAAAAAAAAAAAAAAAAAAAAAAAAAAAAAAAAAAAAAAAAAAAAAAAAAAAAAAAAAAAAAAAAAAAAAAAAAAAAAAAAAAAAAAAAAAAAAAAAAAAAAAAAAAAAAAAAAAAAAAAAAAAAAAAAAAAAAAAAAAAAAAAAAAAAAAAAAAAAAAAAAAAAAAAAAAAAAAAAAAAAAAAAAAAAAAAAAAAAAAAAAAAAAAAAAAAAAAAAAAAAAAAAAAAAAAAAAAAAAAAAAAAAAAAAAAAAAAAAAAAAAAAAAAAAAAAAAAAAAAAAAAAAAAAAAAAAAAAAAAAAAAAAAAAAAAAAAAAAAAAAAAAAAAAAAAAAAAAAAAAAAAAAAAAAAAAAAAAAAAAAAAAAAAAAAAAAAAAAAAAAAAAAAAAAAAAAAAAAAAAAAAAAAAAAAAAAAAAAAAAAAAAAAAAAAAAAAAAAAAAAAAAAAAAAAAAAAAAAAAAAAAAAAAAAAAAAAAAAAAAAAAAAAAAAAAAAAAAAAAAAAAAAAAAAAAAAAAAAAAAAAAAAAAAAAAAAAAAAAAAAAAAAAAAAAAAAAAAAAAAAAAAAAAAAAAAAAAAAAAAAAAAAAAAAAAAAAAAAAAAAAAAAAAAAAAAAAAAAAAAAAAAAAAAAAAAAAAAAAAAAAAAAAAAAAAAAAAAAAAAAAAAAAAAAAAAAAAAAAAAAAAAAAAAAAAAAAAAAAAAAAAAAAAAAAAAAAAAAAAAAAAAAAAAAAAAAAAAAAAAAAAAAAAAAAAAAAAAAAAAAAAAAAAAAAAAAAAAAAAAAAAAAAAAAAAAAAAAAAAAAAAAAAAAAAAAAAAAAAAAAAAAAAAAAAAAAAAAAAAAAAAAAAAAAAAAAAAAAAAAAAAAAAAAAAAAAAAAAAAAAAAAAAAAAAAAAAAAAAAAAAAAAAAAAAAAAAAAAAAAAAAAAAAAAAAAAAAAAAAAAAAAAAAAAAAAAAAAAAAAAAAAAAAAAAAAAAAAAAAAAAAAAAAAAAAAAAAAAAAAAAAAAAAAAAAAAAAAAAAAAAAAAAAAAAAAAAAAAAAAAAAAAAAAAAAAAAAAAAAAAAAAAAAAAAAAAAAAAAAAAAAAAAAAAAAAAAAAAAAAAAAAAAAAAAAAAAAAAAAAAAAAAAAAAAAAAAAAAAAAAAAAAAAAAAAAAAAAAAAAAAAAAAAAAAAAAAAAAAAAAAAAAAAAAAAAAAAAAAAAAAAAAAAAAAAAAAAAAAAAAAAAAAAAAAAAAAAAAAAAAAAAAAAAAAAAAAAAAAAAAAAAAAAAAAAAAAAAAAAAAAAAAAAAAAAAAAAAAAAAAAAAAAAAAAAAAAAAAAAAAAAAAAAAAAAAAAAAAAAAAAAAAAAAAAAAAAAAAAAAAAAAAAAAAAAAAAAAAAAAAAAAAAAAAAAAAAAAAAAAAAAAAAAAAAAAAAAAAAAAAAAAAAAAAAAAAAAAAAAAAAAAAAAAAAAAAAAAAAAAAAAAAAAAAAAAAAAAAAAAAAAAAAAAAAAAAAAAAAAAAAAAAAAAAAAAAAAAAAAAAAAAAAAAAAAAAAAAAAAAAAAAAAAAAAAAAAAAAAAAAAAAAAAAAAAAAAAAAAAAAAAAAAAAAAAAAAAAAAAAAAAAAAAAAAAAAAAAAAAAAAAAAAAAAAAAAAAAAAAAAAAAAAAAAAAAAAAAAAAAAAAAAAAAAAAAAAAAAAAAAAAAAAAAAAAAAAAAAAAAAAAAAAAAAAAAAAAAAAAAAAAAAAAAAAAAAAAAAAAAAAAAAAAAAAAAAAAAAAAAAAAAAAAAAAAAAAAAAAAAAAAAAAAAAAAAAAAAAAAAAAAAAAAAAAAAAAAAAAAAAAAAAAAAAAAAAAAAAAAAAAAAAAAAAAAAAAAAAAAAAAAAAAAAAAAAAAAAAAAAAAAAAAAAAAAAAAAAAAAAAAAAAAAAAAAAAAAAAAAAAAAAAAAAAAAAAAAAAAAAAAAAAAAAAAAAAAAAAAAAAAAAAAAAAAAAAAAAAAAAAAAAAAAAAAAAAAAAAAAAAAAAAAAAAAAAAAAAAAAAAAAAAAAAAAAAAAAAAAAAAAAAAAAAAAAAAAAAAAAAAAAAAAAAAAAAAAAAAAAAAAAAAAAAAAAAAAAAAAAAAAAAAAAAAAAAAAAAAAAAAAAAAAAAAAAAAAAAAAAAAAAAAAAAAAAAAAAAAAAAAAAAAAAAAAAAAAAAAAAAAAAAAAAAAAAAAAAAAAAAAAAAAAAAAAAAAAAAAAAAAAAAAAAAAAAAAAAAAAAAAAAAAAAAAAAAAAAAAAAAAAAAAAAAAAAAAAAAAAAAAAAAAAAAAAAAAAAAAAAAAAAAAAAAAAAAAAAAAAAAAAAAAAAAAAAAAAAAAAAAAAAAAAAAAAAAAAAAAAAAAAAAAAAAAAAAAAAAAAAAAAAAAAAAAAAAAAAAAAAAAAAAAAAAAAAAAAAAAAAAAAAAAAAAAAAAAAAAAAAAAAAAAAAAAAAAAAAAAAAAAAAAAAAAAAAAAAAAAAAAAAAAAAAAAAAAAAAAAAAAAAAAAAAAAAAAAAAAAAAAAAAAAAAAAAAAAAAAAAAAAAAAAAAAAAAAAAAAAAAAAAAAAAAAAAAAAAAAAAAAAAAAAAAAAAAAAAAAAAAAAAAAAAAAAAAAAAAAAAAAAAAAAAAAAAAAAAAAAAAAAAAAAAAAAAAAAAAAAAAAAAAAAAAAAAAAAAAAAAAAAAAAAAAAAAAAAAAAAAAAAAAAAAAAAAAAAAAAAAAAAAAAAAAAAAAAAAAAAAAAAAAAAAAAAAAAAAAAAAAAAAAAAAAAAAAAAAAAAAAAAAAAAAAAAAAAAAAAAAAAAAAAAAAAAAAAAAAAAAAAAAAAAAAAAAAAAAAAAAAAAAAAAAAAAAAAAAAAAAAAAAAAAAAAAAAAAAAAAAAAAAAAAAAAAAAAAAAAAAAAAAAAAAAAAAAAAAAAAAAAAAAAAAAAAAAAAAAAAAAAAAAAAAAAAAAAAAAAAAAAAAAAAAAAAAAAAAAAAAAAAAAAAAAAAAAAAAAAAAAAAAAAAAAAAAAAAAAAAAAAAAAAAAAAAAAAAAAAAAAAAAAAAAAAAAAAAAAAAAAAAAAAAAAAAAAAAAAAAAAAAAAAAAAAAAAAAAAAAAAAAAAAAAAAAAAAAAAAAAAAAAAAAAAAAAAAAAAAAAAAAAAAAAAAAAAAAAAAAAAAAAAAAAAAAAAAAAAAAAAAAAAAAAAAAAAAAAAAAAAAAAAAAAAAAAAAAAAAAAAAAAAAAAAAAAAAAAAAAAAAAAAAAAAAAAAAAAAAAAAAAAAAAAAAAAAAAAAAAAAAAAAAAAAAAAAAAAAAAAAAAAAAAAAAAAAAAAAAAAAAAAAAAAAAAAAAAAAAAAAAAAAAAAAAAAAAAAAAAAAAAAAAAAAAAAAAAAAAAAAAAAAAAAAAAAAAAAAAAAAAAAAAAAAAAAAAAAAAAAAAAAAAAAAAAAAAAAAAAAAAAAAAAAAAAAAAAAAAAAAAAAAAAAAAAAAAAAAAAAAAAAAAAAAAAAAAAAAAAAAAAAAAAAAAAAAAAAAAAAAAAAAAAAAAAAAAAAAAAAAAAAAAAAAAAAAAAAAAAAAAAAAAAAAAAAAAAAAAAAAAAAAAAAAAAAAAAAAAAAAAAAAAAAAAAAAAAAAAAAAAAAAAAAAAAAAAAAAAAAAAAAAAAAAAAAAAAAAAAAAAAAAAAAAAAAAAAAAAAAAAAAAAAAAAAAAAAAAAAAAAAAAAAAAAAAAAAAAAAAAAAAAAAAAAAAAAAAAAAAAAAAAAAAAAAAAAAAAAAAAAAAAAAAAAAAAAAAAAAAAAAAAAAAAAAAAAAAAAAAAAAAAAAAAAAAAAAAAAAAAAAAAAAAAAAAAAAAAAAAAAAAAAAAAAAAJYAlgCWAJYAlgCWAJYAlgCWAJYAlgCWAJYAlgCWAJYAlgCWAJYAlgCWAJYAlgCWAJYAlgCWAJYAlgCWAAAAAAAAAAAAAAAAAAAAAAAAAAAAAAAAAAAAAAAAAAAAAAAAAAAAAAAAAAAAAAAAAAAAAAAAAAAAAAAAAAAAAAAAAAAAAAAAAAAAAAAAAAAAAAAAAAAAAAAAAAAAAAAAAAAAAAAAAAAAAAAAAAAAAAAAAAAAAAAAAAAAAAAAAAAAAAAAAAAAAAAAAAAAAAAAAAAAAAAAAAAAAAAAAAAAAAAAAAAAAAAAAAAAAAAAAAAAAAAAAAAAAAAAAAAAAAAAAAAAAAAAAAAAAAAAAAAAAAAAAAAAAAAAAAAAAAAAAAAAAAAAAAAAAAAAAAAAAAAAAAAAAAAAAAAAAAAAAAAAAAAAAAAAAAAAAAAAAAAAAAAAAAAAAAAAAAAAAAAAAAAAAAAAAAAAAAAAAAAAAAAAAAAAAAAAAAAAAAAAAAAAAAAAAAAAAAAAAAAAAAAAAAAAAAAAAAAAAAAAAAAAAAAAAAAAAAAAAAAAAAAAAAAAAAAAAAAAAAAAAAAAAAAAAAAAAAAAAAAAAAAAAAAAAAAAAAAAAAAAAAAAAAAAAAAAAAAAAAAAAAAAAAAAAAAAAAAAAAAAAAAAAAAAAAAAAAAAAAAAAAAAAAAAAAAAAAAAAAAAAAAAAAAAAAAAAAAAAAAAAAAAAAAAAAAAAAAAAAAAAAAAAAAAAAAAAAAAAAAAAAAAAAAAAAAAAAAAAAAAAAAAAAAAAAAAAAAAAAAAAAAAAAAAAAAAAAAAAAAAAAAAAAAAAAAAAAAAAAAAAAAAAAAAAAAAAAAAAAAAAAAAAAAAAAAAAAAAAAAAAAAAAAAAAAAAAAAAAAAAAAAAAAAAAAAAAAAAAAAAAAAAAAAAAAAAAAAAAAAAAAAAAAAAAAAAAAAAAAAAAAAAAAAAAAAAAAAAAAAAAAAAAAAAAAAAAAAAAAAAAAAAAAAAAAAAAAAAAAAAAAAAAAAAAAAAAAAAAAAAAAAAAAAAAAAAAAAAAAAAAAAAAAAAAAAAAAAAAAAAAAAAAAAAAAAAAAAAAAAAAAAAAAAAAAAAAAAAAAAAAAAAAAAAAAAAAAAAAAAAAAAAAAAAAAAAAAAAAAAAAAAAAAAAAAAAAAAAAAAAAAAAAAAAAAAAAAAAAAAAAAAAAAAAAAAAAAAAAAAAAAAAAAAAAAAAAAAAAAAAAAAAAAAAAAAAAAAAAAAAAAAAAAAAAAAAAAAAAAAAAAAAAAAAAAAAAAAAAAAAAAAAAAAAAAAAAAAAAAAAAAAAAAAAAAAAAAAAAAAAAAAAAAAAAAAAAAAAAAAAAAAAAAAAAAAAAAAAAAAAAAAAAAAAAAAAAAAAAAAAAAAAAAAAAAAAAAAAAAAAAAAAAAAAAAAAAAAAAAAAAAAAAAAAAAAAAAAAAAAAAAAAAAAAAAAAAAAAAAAAAAAAAAAAAAAAAAAAAAAAAAAAAAAAAAAAAAAAAAAAAAAAAAAAAAAAAAAAAAAAAAAAAAAAAAAAAAAAAAAAAAAAAAAAAAAAAAAAAAAAAAAAAAAAAAAAAAAAAAAAAAAAAAAAAAAAAAAAAAAAAAAAAAAAAAAAAAAAAAAAAAAAAAAAAAAAAAAAAAAAAAAAAAAAAAAAAAAAAAAAAAAAAAAAAAAAAAAAAAAAAAAAAAAAAAAAAAAAAAAAAAAAAAAAAAAAAAAAAAAAAAAAAAAAAAAAAAAAAAAAAAAAAAAAAAAAAAAAAAAAAAAAAAAAAAAAAAAAAAAAAAAAAAAAAAAAAAAAAAAAAAAAAAAAAAAAAAAAAAAAAAAAAAAAAAAAAAAAAAAAAAAAAAAAAAAAAAAAAAAAAAAAAAAAAAAAAAAAAAAAAAAAAAAAAAAAAAAAAAAAAAAAAAAAAAAAAAAAAAAAAAAAAAAAAAAAAAAAAAAAAAAAAAAAAAAAAAAAAAAAAAAAAAAAAAAAAAAAAAAAAAAAAAAAAAAAAAAAAAAAAAAAAAAAAAAAAAAAAAAAAAAAAAAAAAAAAAAAAAAAAAAAAAAAAAAAAAAAAAAAAAAAAAAAAAAAAAAAAAAAAAAAAAAAAAAAAAAAAAAAAAAAAAAAAAAAAAAAAAAAAAAAAAAAAAAAAAAAAAAAAAAAAAAAAAAAAAAAAAAAAAAAAAAAAAAAAAAAAAAAAAAAAAAAAAAAAAAAAAAAAAAAAAAAAAAAAAAAAAAAAAAAAAAAAAAAAAAAAAAAAAAAAAAAAAAAAAAAAAAAAAAAAAAAAAAAAAAAAAAAAAAAAAAAAAAAAAAAAAAAAAAAAAAAAAAAAAAAAAAAAAAAAAAAAAAAAAAAAAAAAAAAAAAAAAAAAAAAAAAAAAAAAAAAAAAAAAAAAAAAAAAAAAAAAAAAAAAAAAAAAAAAAAAAAAAAAAAAAAAAAAAAAAAAAAAAAAAAAAAAAAAAAAAAAAAAAAAAAAAAAAAAAAAAAAAAAAAAAAAAAAAAAAAAAAAAAAAAAAAAAAAAAAAAAAAAAAAAAAAAAAAAAAAAAAAAAAAAAAAAAAAAAAAAAAAAAAAAAAAAAAAAAAAAAAAAAAAAAAAAAAAAAAAAAAAAAAAAAAAAAAAAAAAAAAAAAAAAAAAAAAAAAAAAAAAAAAAAAAAAAAAAAAAAAAAAAAAAAAAAAAAAAAAAAAAAAAAAAAAAAAAAAAAAAAAAAAAAAAAAAAAAAAAAAAAAAAAAAAAAAAAAAAAAAAAAAAAAAAAAAAAAAAAAAAAAAAAAAAAAAAAAAAAAAAAAAAAAAAAAAAAAAAAAAAAAAAAAAAAAAAAAAAAAAAAAAAAAAAAAAAAAAAAAAAAAAAAAAAAAAAAAAAAAAAAAAAAAAAAAAAAAAAAAAAAAAAAAAAAAAAAAAAAAAAAAAAAAAAAAAAAAAAAAAAAAAAAAAAAAAAAAAAAAAAAAAAAAAAAAAAAAAAAAAAAAAAAAAAAAAAAAAAAAAAAAAAAAAAAAAAAAAAAAAAAAAAAAAAAAAAAAAAAAAAAAAAAAAAAAAAAAAAAAAAAAAAAAAAAAAAAAAAAAAAAAAAAAAAAAAAAAAAAAAAAAAAAAAAAAAAAAAAAAAAAAAAAAAAAAAAAAAAAAAAAAAAAAAAAAAAAAAAAAAAAAAAAAAAAAAAAAAAAAAAAAAAAAAAAAAAAAAAAAAAAAAAAAAAAAAAAAAAAAAAAAAAAAAAAAAAAAAAAAAAAAAAAAAAAAAAAAAAAAAAAAAAAAAAAAAAAAAAAAAAAAAAAAAAAAAAAAAAAAAAAAAAAAAAAAAAAAAAAAAAAAAAAAAAAAAAAAAAAAAAAAAAAAAAAAAAAAAAAAAAAAAAAAAAAAAAAAAAAAAAAAAAAAAAAAAAAAAAAAAAAAAAAAAAAAAAAAAAAAAAAAAAAAAAAAAAAAAAAAAAAAAAAAAAAAAAAAAAAAAAAAAAAAAAAAAAAAAAAAAAAAAAAAAAAAAAAAAAAAAAAAAAAAAAAAAAAAAAAAAAAAAAAAAAAAAAAAAAAAAAAAAAAAAAAAAAAAAAAAAAAAAAAAAAAAAAAAAAAAAAAAAAAAAAAAAAAAAAAAAAAAAAAAAAAAAAAAAAAAAAAAAAAAAAAAAAAAAAAAAAAAAAAAAAAAAAAAAAAAAAAAAAAAAAAAAAAAAAAAAAAAAAAAAAAAAAAAAAAAAAAAAAAAAAAAAAAAAAAAAAAAAAAAAAAAAAAAAAAAAAAAAAAAAAAAAAAAAAAAAAAAAAAAAAAAAAAAAAAAAAAAAAAAAAAAAAAAAAAAAAAAAAAAAAAAAAAAAAAAAAAAAAAAAAAAAAAAAAAAAAAAAAAAAAAAAAAAAAAAAAAAAAAAAAAAAAAAAAAAAAAAAAAAAAAAAAAAAAAAAAAAAAAAAAAAAAAAAAAAAAAAAAAAAAAAAAAAAAAAAAAAAAAAAAAAAAAAAAAAAAAAAAAAAAAAAAAAAAAAAAAAAAAAAAAAAAAAAAAAAAAAAAAAAAAAAAAAAAAAAAAAAAAAAAAAAAAAAAAAAAAAAAAAAAAAAAAAAAAAAAAAAAAAAAAAAAAAAAAAAAAAAAAAAAAAAAAAAAAAAAAAAAAAAAAAAAAAAAAAAAAAAAAAAAAAAAAAAAAAAAAAAAAAAAAAAAAAAAAAAAAAAAAAAAAAAAAAAAAAAAAAAAAAAAAAAAAAAAAAAAAAAAAAAAAAAAAAAAAAAAAAAAAAAAAAAAAAAAAAAAAAAAAAAAAAAAAAAAAAAAAAAAAAAAAAAAAAAAAAAAAAAAAAAAAAAAAAAAAAAAAAAAAAAAAAAAAAAAAAAAAAAAAAAAAAAAAAAAAAAAAAAAAAAAAAAAAAAAAAAAAAAAAAAAAAAAAAAAAAAAAAAAAAAAAAAAAAAAAAAAAAAAAAAAAAAAAAAAAAAAAAAAAAAAAAAAAAAAAAAAAAAAAAAAAAAAAAAAAAAAAAAAAAAAAAAAAAAAAAAAAAAAAAAAAAAAAAAAAAAAAAAAAAAAAAAAAAAAAAAAAAAAAAAAAAAAAAAAAAAAAAAAAAAAAAAAAAAAAAAAAAAAAAAAAAAAAAAAAAAAAAAAAAAAAAAAAAAAAAAAAAAAAAAAAAAAAAAAAAAAAAAAAAAAAAAAAAAAAAAAAAAAAAAAAAAAAAAAAAAAAAAAAAAAAAAAAAAAAAAAAAAAAAAAAAAAAAAAAAAAAAAAAAAAAAAAAAAAAAAAAAAAAAAAAAAAAAAAAAAAAAAAAAAAAAAAAAAAAAAAAAAAAAAAAAAAAAAAAAAAAAAAAAAAAAAAAAAAAAAAAAAAAAAAAAAAAAAAAAAAAAAAAAAAAAAAAAAAAAAAAAAAAAAAAAAAAAAAAAAAAAAAAAAAAAAAAAAAAAAAAAAAAAAAAAAAAAAAAAAAAAAAAAAAAAAAAAAAAAAAAAAAAAAAAAAAAAAAAAAAAAAAAAAAAAAAAAAAAAAAAAAAAAAAAAAAAAAAAAAAAAAAAAAAAAAAAAAAAAAAAAAAAAAAAAAAAAAAAAAAAAAAAAAAAAAAAAAAAAAAAAAAAAAAAAAAAAAAAAAAAAAAAAAAAAAAAAAAAAAAAAAAAAAAAAAAAAAAAAAAAAAAAAAAAAAAAAAAAAAAAAAAAAAAAAAAAAAAAAAAAAAAAAAAAAAAAAAAAAAAAAAAAAAAAAAAAAAAAAAAAAAAAAAAAAAAAAAAAAAAAAAAAAAAAAAAAAAAAAAAAAAAAAAAAAAAAAAAAAAAAAAAAAAAAAAAAAAAAAAAAAAAAAAAAAAAAAAAAAAAAAAAAAAAAAAAAAAAAAAAAAAAAAAAAAAAAAAAAAAAAAAAAAAAAAAAAAAAAAAAAAAAAAAAAAAAAAAAAAAAAAAAAAAAAAAAAAAAAAAAAAAAAAAAAAAAAAAAAAAAAAAAAAAAAAAAAAAAAAAAAAAAAAAAAAAAAAAAAAAAAAAAAAAAAAAAAAAAAAAAAAAAAAAAAAAAAAAAAAAAAAAAAAAAAAAAAAAAAAAAAAAAAAAAAAAAAAAAAAAAAAAAAAAAAAAAAAAAAAAAAAAAAAAAAAAAAAAAAAAAAAAAAAAAAAAAAAAAAAAAAAAAAAAAAAAAAAAAAAAAAAAAAAAAAAAAAAAAAAAAAAAAAAAAAAAAAAAAAAAAAAAAAAAAAAAAAAAAAAAAAAAAAAAAAAAAAAAAAAAAAAAAAAAAAAAAAAAAAAAAAAAAAAAAAAAAAAAAAAAAAAAAAAAAAAAAAAAAAAAAAAAAAAAAAAAAAAAAAAAAAAAAAAAAAAAAAAAAAAAAAAAAAAAAAAAAAAAAAAAAAAAAAAAAAAAAAAAAAAAAAAAAAAAAAAAAAAAAAAAAAAAAAAAAAAAAAAAAAAAAAAAAAAAAAAAAAAAAAAAAAAAAAAAAAAAAAAAAAAAAAAAAAAAAAAAAAAAAAAAAAAAAAAAAAAAAAAAAAAAAAAAAAAAAAAAAAAAAAAAAAAAAAAAAAAAAAAAAAAAAAAAAAAAAAAAAAAAAAAAAAAAAAAAAAAAAAAAAAAAAAAAAAAAAAAAAAAAAAAAAAAAAAAAAAAAAAAAAAAAAAAAAAAAAAAAAAAAAAAAAAAAAAAAAAAAAAAAAAAAAAAAAAAAAAAAAAAAAAAAAAAAAAAAAAAAAAAAAAAAAAAAAAAAAAAAAAAAAAAAAAAAAAAAAAAAAAAAAAAAAAAAAAAAAAAAAAAAAAAAAAAAAAAAAAAAAAAAAAAAAAAAAAAAAAAAAAAAAAAAAAAAAAAAAAAAAAAAAAAAAAAAAAAAAAAAAAAAAAAAAAAAAAAAAAAAAAAAAAAAAAAAAAAAAAAAAAAAAAAAAAAAAAAAAAAAAAAAAAAAAAAAAAAAAAAAAAAAAAAAAAAAAAAAAAAAAAAAAAAAAAAAAAAAAAAAAAAAAAAAAAAAAAAAAAAAAAAAAAAAAAAAAAAAAAAAAAAAAAAAAAAAAAAAAAAAAAAAAAAAAAAAAAAAAAAAAAAAAAAAAAAAAAAAAAAAAAAAAAAAAAAAAAAAAAAAAAAAAAAAAAAAAAAAAAAAAAAAAAAAAAAAAAAAAAAAAAAAAAAAAAAAAAAAAAAAAAAAAAAAAAAAAAAAAAAAAAAAAAAAAAAAAAAAAAAAAAAAAAAAAAAAAAAAAAAAAAAAAAAAAAAAAAAAAAAAAAAAAAAAAAAAAAAAAAAAAAAAAAAAAAAAAAAAAAAAAAAAAAAAAAAAAAAAAAAAAAAAAAAAAAAAAAAAAAAAAAAAAAAAAAAAAAAAAAAAAAAAAAAAAAAAAAAAAAAAAAAAAAAAAAAAAAAAAAAAAAAAAAAAAAAAAAAAAAAAAAAAAAAAAAAAAAAAAAAAAAAAAAAAAAAAAAAAAAAAAAAAAAAAAAAAAAAAAAAAAAAAAAAAAAAAAAAAAAAAAAAAAAAAAAAAAAAAAAAAAAAAAAAAAAAAAAAAAAAAAAAAAAAAAAAAAAAAAAAAAAAAAAAAAAAAAAAAAAAAAAAAAAAAAAAAAAAAAAAAAAAAAAAAAAAAAAAAAAAAAAAAAAAAAAAAAAAAAAAAAAAAAAAAAAAAAAAAAAAAAAAAAAAAAAAAAAAAAAAAAAAAAAAAAAAAAAAAAAAAAAAAAAAAAAAAAAAAAAAAAAAAAAAAAAAAAAAAAAAAAAAAAAAAAAAAAAAAAAAAAAAAAAAAAAAAAAAAAAAAAAAAAAAAAAAAAAAAAAAAAAAAAAAAAAAAAAAAAAAAAAAAAAAAAAAAAAAAAAAAAAAAAAAAAAAAAAAAAAAAAAAAAAAAAAAAAAAAAAAAAAAAAAAAAAAAAAAAAAAAAAAAAAAAAAAAAAAAAAAAAAAAAAAAAAAAAAAAAAAAAAAAAAAAAAAAAAAAAAAAAAAAAAAAAAAAAAAAAAAAAAAAAAAAAAAAAAAAAAAAAAAAAAAAAAAAAAAAAAAAAAAAAAAAAAAAAAAAAAAAAAAAAAAAAAAAAAAAAAAAAAAAAAAAAAAAAAAAAAAAAAAAAAAAAAAAAAAAAAAAAAAAAAAAAAAAAAAAAAAAAAAAAAAAAAAAAAAAAAAAAAAAAAAAAAAAAAAAAAAAAAAAAAAAAAAAAAAAAAAAAAAAAAAAAAAAAAAAAAAAAAAAAAAAAAAAAAAAAAAAAAAAAAAAAAAAAAAAAAAAAAAAAAAAAAAAAAAAAAAAAAAAAAAAAAAAAAAAAAAAAAAAAAAAAAAAAAAAAAAAAAAAAAAAAAAAAAAAAAAAAAAAAAAAAAAAAAAAAAAAAAAAAAAAAAAAAAAAAAAAAAAAAAAAAAAAAAAAAAAAAAAAAAAAAAAAAAAAAAAAAAAAAAAAAAAAAAAAAAAAAAAAAAAAAAAAAAAAAAAAAAAAAAAAAAAAAAAAAAAAAAAAAAAAAAAAAAAAAAAAAAAAAAAAAAAAAAAAAAAAAAAAAAAAAAAAAAAAAAAAAAAAAAAAAAAAAAAAAAAAAAAAAAAAAAAAAAAAAAAAAAAAAAAAAAAAAAAAAAAAAAAAAAAAAAAAAAAAAAAAAAAAAAAAAAAAAAAAAAAAAAAAAAAAAAAAAAAAAAAAAAAAAAAAAAAAAAAAAAAAAAAAAAAAAAAAAAAAAAAAAAAAAAAAAAAAAAAAAAAAAAAAAAAAAAAAAAAAAAAAAAAAAAAAAAAAAAAAAAAAAAAAAAAAAAAAAAAAAAAAAAAAAAAAAAAAAAAAAAAAAAAAAAAAAAAAAAAAAAAAAAAAAAAAAAAAAAAAAAAAAAAAAAAAAAAAAAAAAAAAAAAAAAAAAAAAAAAAAAAAAAAAAAAAAAAAAAAAAAAAAAAAAAAAAAAAAAAAAAAAAAAAAAAAAAAAAAAAAAAAAAAAAAAAAAAAAAAAAAAAAAAAAAAAAAAAAAAAAAAAAAAAAAAAAAAAAAAAAAAAAAAAAAAAAAAAAAAAAAAAAAAAAAAAAAAAAAAAAAAAAAAAAAAAAAAAAAAAAAAAAAAAAAAAAAAAAAAAAAAAAAAAAAAAAAAAAAAAAAAAAAAAAAAAAAAAAAAAAAAAAAAAAAAAAAAAAAAAAAAAAAAAAAAAAAAAAAAAAAAAAAAAAAAAAAAAAAAAAAAAAAAAAAAAAAAAAAAAAAAAAAAAAAAAAAAAAAAAAAAAAAAAAAAAAAAAAAAAAAAAAAAAAAAAAAAAAAAAAAAAAAAAAAAAAAAAAAAAAAAAAAAAAAAAAAAAAAAAAAAAAAAAAAAAAAAAAAAAAAAAAAAAAAAAAAAAAAAAAAAAAAAAAAAAAAAAAAAAAAAAAAAAAAAAAAAAAAAAAAAAAAAAAAAAAAAAAAAAAAAAAAAAAAAAAAAAAAAAAAAAAAAAAAAAAAAAAAAAAAAAAAAAAAAAAAAAAAAAAAAAAAAAAAAAAAAAAAAAAAAAAAAAAAAAAAAAAAAAAAAAAAAAAAAAAAAAAAAAAAAAAAAAAAAAAAAAAAAAAAAAAAAAAAAAAAAAAAAAAAAAAAAAAAAAAAAAAAAAAAAAAAAAAAAAAAAAAAAAAAAAAAAAAAAAAAAAAAAAAAAAAAAAAAAAAAAAAAAAAAAAAAAAAAAAAAAAAAAAAAAAAAAAAAAAAAAAAAAAAAAAAAAAAAAAAAAAAAAAAAAAAAAAAAAAAAAAAAAAAAAAAAAAAAAAAAAAAAAAAAAAAAAAAAAAAAAAAAAAAAAAAAAAAAAAAAAAAAAAAAAAAAAAAAAAAAAAAAAAAAAAAAAAAAAAAAAAAAAAAAAAAAAAAAAAAAAAAAAAAAAAAAAAAAAAAAAAAAAAAAAAAAAAAAAAAAAAAAAAAAAAAAAAAAAAAAAAAAAAAAAAAAAAAAAAAAAAAAAAAAAAAAAAAAAAAAAAAAAAAAAAAAAAAAAAAAAAAAAAAAAAAAAAAAAAAAAAAAAAAAAAAAAAAAAAAAAAAAAAAAAAAAAAAAAAAAAAAAAAAAAAAAAAAAAAAAAAAAAAAAAAAAAAAAAAAAAAAAAAAAAAAAAAAAAAAAAAAAAAAAAAAAAAAA=",
           "dtype": "i2"
          },
          "coloraxis": "coloraxis",
          "symbol": "circle"
         },
         "mode": "markers",
         "name": "image embeddings",
         "showlegend": true,
         "type": "scattergl",
         "x": {
          "bdata": "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",
          "dtype": "f4"
         },
         "xaxis": "x",
         "y": {
          "bdata": "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",
          "dtype": "f4"
         },
         "yaxis": "y"
        },
        {
         "marker": {
          "color": "yellow"
         },
         "mode": "markers",
         "name": "class : Black capped Vireo",
         "type": "scatter",
         "x": [
          null
         ],
         "y": [
          null
         ]
        }
       ],
       "layout": {
        "coloraxis": {
         "colorbar": {
          "title": {
           "text": "color"
          }
         },
         "colorscale": [
          [
           0,
           "#0d0887"
          ],
          [
           0.1111111111111111,
           "#46039f"
          ],
          [
           0.2222222222222222,
           "#7201a8"
          ],
          [
           0.3333333333333333,
           "#9c179e"
          ],
          [
           0.4444444444444444,
           "#bd3786"
          ],
          [
           0.5555555555555556,
           "#d8576b"
          ],
          [
           0.6666666666666666,
           "#ed7953"
          ],
          [
           0.7777777777777778,
           "#fb9f3a"
          ],
          [
           0.8888888888888888,
           "#fdca26"
          ],
          [
           1,
           "#f0f921"
          ]
         ]
        },
        "legend": {
         "bgcolor": "rgba(255,255,255,0.8)",
         "bordercolor": "black",
         "borderwidth": 1,
         "tracegroupgap": 0,
         "x": 0.01,
         "y": 0.99
        },
        "margin": {
         "t": 60
        },
        "template": {
         "data": {
          "bar": [
           {
            "error_x": {
             "color": "#2a3f5f"
            },
            "error_y": {
             "color": "#2a3f5f"
            },
            "marker": {
             "line": {
              "color": "#E5ECF6",
              "width": 0.5
             },
             "pattern": {
              "fillmode": "overlay",
              "size": 10,
              "solidity": 0.2
             }
            },
            "type": "bar"
           }
          ],
          "barpolar": [
           {
            "marker": {
             "line": {
              "color": "#E5ECF6",
              "width": 0.5
             },
             "pattern": {
              "fillmode": "overlay",
              "size": 10,
              "solidity": 0.2
             }
            },
            "type": "barpolar"
           }
          ],
          "carpet": [
           {
            "aaxis": {
             "endlinecolor": "#2a3f5f",
             "gridcolor": "white",
             "linecolor": "white",
             "minorgridcolor": "white",
             "startlinecolor": "#2a3f5f"
            },
            "baxis": {
             "endlinecolor": "#2a3f5f",
             "gridcolor": "white",
             "linecolor": "white",
             "minorgridcolor": "white",
             "startlinecolor": "#2a3f5f"
            },
            "type": "carpet"
           }
          ],
          "choropleth": [
           {
            "colorbar": {
             "outlinewidth": 0,
             "ticks": ""
            },
            "type": "choropleth"
           }
          ],
          "contour": [
           {
            "colorbar": {
             "outlinewidth": 0,
             "ticks": ""
            },
            "colorscale": [
             [
              0,
              "#0d0887"
             ],
             [
              0.1111111111111111,
              "#46039f"
             ],
             [
              0.2222222222222222,
              "#7201a8"
             ],
             [
              0.3333333333333333,
              "#9c179e"
             ],
             [
              0.4444444444444444,
              "#bd3786"
             ],
             [
              0.5555555555555556,
              "#d8576b"
             ],
             [
              0.6666666666666666,
              "#ed7953"
             ],
             [
              0.7777777777777778,
              "#fb9f3a"
             ],
             [
              0.8888888888888888,
              "#fdca26"
             ],
             [
              1,
              "#f0f921"
             ]
            ],
            "type": "contour"
           }
          ],
          "contourcarpet": [
           {
            "colorbar": {
             "outlinewidth": 0,
             "ticks": ""
            },
            "type": "contourcarpet"
           }
          ],
          "heatmap": [
           {
            "colorbar": {
             "outlinewidth": 0,
             "ticks": ""
            },
            "colorscale": [
             [
              0,
              "#0d0887"
             ],
             [
              0.1111111111111111,
              "#46039f"
             ],
             [
              0.2222222222222222,
              "#7201a8"
             ],
             [
              0.3333333333333333,
              "#9c179e"
             ],
             [
              0.4444444444444444,
              "#bd3786"
             ],
             [
              0.5555555555555556,
              "#d8576b"
             ],
             [
              0.6666666666666666,
              "#ed7953"
             ],
             [
              0.7777777777777778,
              "#fb9f3a"
             ],
             [
              0.8888888888888888,
              "#fdca26"
             ],
             [
              1,
              "#f0f921"
             ]
            ],
            "type": "heatmap"
           }
          ],
          "histogram": [
           {
            "marker": {
             "pattern": {
              "fillmode": "overlay",
              "size": 10,
              "solidity": 0.2
             }
            },
            "type": "histogram"
           }
          ],
          "histogram2d": [
           {
            "colorbar": {
             "outlinewidth": 0,
             "ticks": ""
            },
            "colorscale": [
             [
              0,
              "#0d0887"
             ],
             [
              0.1111111111111111,
              "#46039f"
             ],
             [
              0.2222222222222222,
              "#7201a8"
             ],
             [
              0.3333333333333333,
              "#9c179e"
             ],
             [
              0.4444444444444444,
              "#bd3786"
             ],
             [
              0.5555555555555556,
              "#d8576b"
             ],
             [
              0.6666666666666666,
              "#ed7953"
             ],
             [
              0.7777777777777778,
              "#fb9f3a"
             ],
             [
              0.8888888888888888,
              "#fdca26"
             ],
             [
              1,
              "#f0f921"
             ]
            ],
            "type": "histogram2d"
           }
          ],
          "histogram2dcontour": [
           {
            "colorbar": {
             "outlinewidth": 0,
             "ticks": ""
            },
            "colorscale": [
             [
              0,
              "#0d0887"
             ],
             [
              0.1111111111111111,
              "#46039f"
             ],
             [
              0.2222222222222222,
              "#7201a8"
             ],
             [
              0.3333333333333333,
              "#9c179e"
             ],
             [
              0.4444444444444444,
              "#bd3786"
             ],
             [
              0.5555555555555556,
              "#d8576b"
             ],
             [
              0.6666666666666666,
              "#ed7953"
             ],
             [
              0.7777777777777778,
              "#fb9f3a"
             ],
             [
              0.8888888888888888,
              "#fdca26"
             ],
             [
              1,
              "#f0f921"
             ]
            ],
            "type": "histogram2dcontour"
           }
          ],
          "mesh3d": [
           {
            "colorbar": {
             "outlinewidth": 0,
             "ticks": ""
            },
            "type": "mesh3d"
           }
          ],
          "parcoords": [
           {
            "line": {
             "colorbar": {
              "outlinewidth": 0,
              "ticks": ""
             }
            },
            "type": "parcoords"
           }
          ],
          "pie": [
           {
            "automargin": true,
            "type": "pie"
           }
          ],
          "scatter": [
           {
            "fillpattern": {
             "fillmode": "overlay",
             "size": 10,
             "solidity": 0.2
            },
            "type": "scatter"
           }
          ],
          "scatter3d": [
           {
            "line": {
             "colorbar": {
              "outlinewidth": 0,
              "ticks": ""
             }
            },
            "marker": {
             "colorbar": {
              "outlinewidth": 0,
              "ticks": ""
             }
            },
            "type": "scatter3d"
           }
          ],
          "scattercarpet": [
           {
            "marker": {
             "colorbar": {
              "outlinewidth": 0,
              "ticks": ""
             }
            },
            "type": "scattercarpet"
           }
          ],
          "scattergeo": [
           {
            "marker": {
             "colorbar": {
              "outlinewidth": 0,
              "ticks": ""
             }
            },
            "type": "scattergeo"
           }
          ],
          "scattergl": [
           {
            "marker": {
             "colorbar": {
              "outlinewidth": 0,
              "ticks": ""
             }
            },
            "type": "scattergl"
           }
          ],
          "scattermap": [
           {
            "marker": {
             "colorbar": {
              "outlinewidth": 0,
              "ticks": ""
             }
            },
            "type": "scattermap"
           }
          ],
          "scattermapbox": [
           {
            "marker": {
             "colorbar": {
              "outlinewidth": 0,
              "ticks": ""
             }
            },
            "type": "scattermapbox"
           }
          ],
          "scatterpolar": [
           {
            "marker": {
             "colorbar": {
              "outlinewidth": 0,
              "ticks": ""
             }
            },
            "type": "scatterpolar"
           }
          ],
          "scatterpolargl": [
           {
            "marker": {
             "colorbar": {
              "outlinewidth": 0,
              "ticks": ""
             }
            },
            "type": "scatterpolargl"
           }
          ],
          "scatterternary": [
           {
            "marker": {
             "colorbar": {
              "outlinewidth": 0,
              "ticks": ""
             }
            },
            "type": "scatterternary"
           }
          ],
          "surface": [
           {
            "colorbar": {
             "outlinewidth": 0,
             "ticks": ""
            },
            "colorscale": [
             [
              0,
              "#0d0887"
             ],
             [
              0.1111111111111111,
              "#46039f"
             ],
             [
              0.2222222222222222,
              "#7201a8"
             ],
             [
              0.3333333333333333,
              "#9c179e"
             ],
             [
              0.4444444444444444,
              "#bd3786"
             ],
             [
              0.5555555555555556,
              "#d8576b"
             ],
             [
              0.6666666666666666,
              "#ed7953"
             ],
             [
              0.7777777777777778,
              "#fb9f3a"
             ],
             [
              0.8888888888888888,
              "#fdca26"
             ],
             [
              1,
              "#f0f921"
             ]
            ],
            "type": "surface"
           }
          ],
          "table": [
           {
            "cells": {
             "fill": {
              "color": "#EBF0F8"
             },
             "line": {
              "color": "white"
             }
            },
            "header": {
             "fill": {
              "color": "#C8D4E3"
             },
             "line": {
              "color": "white"
             }
            },
            "type": "table"
           }
          ]
         },
         "layout": {
          "annotationdefaults": {
           "arrowcolor": "#2a3f5f",
           "arrowhead": 0,
           "arrowwidth": 1
          },
          "autotypenumbers": "strict",
          "coloraxis": {
           "colorbar": {
            "outlinewidth": 0,
            "ticks": ""
           }
          },
          "colorscale": {
           "diverging": [
            [
             0,
             "#8e0152"
            ],
            [
             0.1,
             "#c51b7d"
            ],
            [
             0.2,
             "#de77ae"
            ],
            [
             0.3,
             "#f1b6da"
            ],
            [
             0.4,
             "#fde0ef"
            ],
            [
             0.5,
             "#f7f7f7"
            ],
            [
             0.6,
             "#e6f5d0"
            ],
            [
             0.7,
             "#b8e186"
            ],
            [
             0.8,
             "#7fbc41"
            ],
            [
             0.9,
             "#4d9221"
            ],
            [
             1,
             "#276419"
            ]
           ],
           "sequential": [
            [
             0,
             "#0d0887"
            ],
            [
             0.1111111111111111,
             "#46039f"
            ],
            [
             0.2222222222222222,
             "#7201a8"
            ],
            [
             0.3333333333333333,
             "#9c179e"
            ],
            [
             0.4444444444444444,
             "#bd3786"
            ],
            [
             0.5555555555555556,
             "#d8576b"
            ],
            [
             0.6666666666666666,
             "#ed7953"
            ],
            [
             0.7777777777777778,
             "#fb9f3a"
            ],
            [
             0.8888888888888888,
             "#fdca26"
            ],
            [
             1,
             "#f0f921"
            ]
           ],
           "sequentialminus": [
            [
             0,
             "#0d0887"
            ],
            [
             0.1111111111111111,
             "#46039f"
            ],
            [
             0.2222222222222222,
             "#7201a8"
            ],
            [
             0.3333333333333333,
             "#9c179e"
            ],
            [
             0.4444444444444444,
             "#bd3786"
            ],
            [
             0.5555555555555556,
             "#d8576b"
            ],
            [
             0.6666666666666666,
             "#ed7953"
            ],
            [
             0.7777777777777778,
             "#fb9f3a"
            ],
            [
             0.8888888888888888,
             "#fdca26"
            ],
            [
             1,
             "#f0f921"
            ]
           ]
          },
          "colorway": [
           "#636efa",
           "#EF553B",
           "#00cc96",
           "#ab63fa",
           "#FFA15A",
           "#19d3f3",
           "#FF6692",
           "#B6E880",
           "#FF97FF",
           "#FECB52"
          ],
          "font": {
           "color": "#2a3f5f"
          },
          "geo": {
           "bgcolor": "white",
           "lakecolor": "white",
           "landcolor": "#E5ECF6",
           "showlakes": true,
           "showland": true,
           "subunitcolor": "white"
          },
          "hoverlabel": {
           "align": "left"
          },
          "hovermode": "closest",
          "mapbox": {
           "style": "light"
          },
          "paper_bgcolor": "white",
          "plot_bgcolor": "#E5ECF6",
          "polar": {
           "angularaxis": {
            "gridcolor": "white",
            "linecolor": "white",
            "ticks": ""
           },
           "bgcolor": "#E5ECF6",
           "radialaxis": {
            "gridcolor": "white",
            "linecolor": "white",
            "ticks": ""
           }
          },
          "scene": {
           "xaxis": {
            "backgroundcolor": "#E5ECF6",
            "gridcolor": "white",
            "gridwidth": 2,
            "linecolor": "white",
            "showbackground": true,
            "ticks": "",
            "zerolinecolor": "white"
           },
           "yaxis": {
            "backgroundcolor": "#E5ECF6",
            "gridcolor": "white",
            "gridwidth": 2,
            "linecolor": "white",
            "showbackground": true,
            "ticks": "",
            "zerolinecolor": "white"
           },
           "zaxis": {
            "backgroundcolor": "#E5ECF6",
            "gridcolor": "white",
            "gridwidth": 2,
            "linecolor": "white",
            "showbackground": true,
            "ticks": "",
            "zerolinecolor": "white"
           }
          },
          "shapedefaults": {
           "line": {
            "color": "#2a3f5f"
           }
          },
          "ternary": {
           "aaxis": {
            "gridcolor": "white",
            "linecolor": "white",
            "ticks": ""
           },
           "baxis": {
            "gridcolor": "white",
            "linecolor": "white",
            "ticks": ""
           },
           "bgcolor": "#E5ECF6",
           "caxis": {
            "gridcolor": "white",
            "linecolor": "white",
            "ticks": ""
           }
          },
          "title": {
           "x": 0.05
          },
          "xaxis": {
           "automargin": true,
           "gridcolor": "white",
           "linecolor": "white",
           "ticks": "",
           "title": {
            "standoff": 15
           },
           "zerolinecolor": "white",
           "zerolinewidth": 2
          },
          "yaxis": {
           "automargin": true,
           "gridcolor": "white",
           "linecolor": "white",
           "ticks": "",
           "title": {
            "standoff": 15
           },
           "zerolinecolor": "white",
           "zerolinewidth": 2
          }
         }
        },
        "xaxis": {
         "anchor": "y",
         "domain": [
          0,
          1
         ],
         "title": {
          "text": "x"
         }
        },
        "yaxis": {
         "anchor": "x",
         "domain": [
          0,
          1
         ],
         "title": {
          "text": "y"
         }
        }
       }
      }
     },
     "metadata": {},
     "output_type": "display_data"
    },
    {
     "name": "stdout",
     "output_type": "stream",
     "text": [
      "/home/onyxia/work/DetailCLIP/cluster_vis/61.png\n"
     ]
    },
    {
     "data": {
      "application/vnd.plotly.v1+json": {
       "config": {
        "plotlyServerURL": "https://plot.ly"
       },
       "data": [
        {
         "hovertemplate": "x=%{x}<br>y=%{y}<br>color=%{marker.color}<extra></extra>",
         "legendgroup": "",
         "marker": {
          "color": {
           "bdata": "AAAAAAAAAAAAAAAAAAAAAAAAAAAAAAAAAAAAAAAAAAAAAAAAAAAAAAAAAAAAAAAAAAAAAAAAAAAAAAAAAAAAAAAAAAAAAAAAAAAAAAAAAAAAAAAAAAAAAAAAAAAAAAAAAAAAAAAAAAAAAAAAAAAAAAAAAAAAAAAAAAAAAAAAAAAAAAAAAAAAAAAAAAAAAAAAAAAAAAAAAAAAAAAAAAAAAAAAAAAAAAAAAAAAAAAAAAAAAAAAAAAAAAAAAAAAAAAAAAAAAAAAAAAAAAAAAAAAAAAAAAAAAAAAAAAAAAAAAAAAAAAAAAAAAAAAAAAAAAAAAAAAAAAAAAAAAAAAAAAAAAAAAAAAAAAAAAAAAAAAAAAAAAAAAAAAAAAAAAAAAAAAAAAAAAAAAAAAAAAAAAAAAAAAAAAAAAAAAAAAAAAAAAAAAAAAAAAAAAAAAAAAAAAAAAAAAAAAAAAAAAAAAAAAAAAAAAAAAAAAAAAAAAAAAAAAAAAAAAAAAAAAAAAAAAAAAAAAAAAAAAAAAAAAAAAAAAAAAAAAAAAAAAAAAAAAAAAAAAAAAAAAAAAAAAAAAAAAAAAAAAAAAAAAAAAAAAAAAAAAAAAAAAAAAAAAAAAAAAAAAAAAAAAAAAAAAAAAAAAAAAAAAAAAAAAAAAAAAAAAAAAAAAAAAAAAAAAAAAAAAAAAAAAAAAAAAAAAAAAAAAAAAAAAAAAAAAAAAAAAAAAAAAAAAAAAAAAAAAAAAAAAAAAAAAAAAAAAAAAAAAAAAAAAAAAAAAAAAAAAAAAAAAAAPT09PT09PT09PT09PT09PT09PT09PT09PT09PQAAAAAAAAAAAAAAAAAAAAAAAAAAAAAAAAAAAAAAAAAAAAAAAAAAAAAAAAAAAAAAAAAAAAAAAAAAAAAAAAAAAAAAAAAAAAAAAAAAAAAAAAAAAAAAAAAAAAAAAAAAAAAAAAAAAAAAAAAAAAAAAAAAAAAAAAAAAAAAAAAAAAAAAAAAAAAAAAAAAAAAAAAAAAAAAAAAAAAAAAAAAAAAAAAAAAAAAAAAAAAAAAAAAAAAAAAAAAAAAAAAAAAAAAAAAAAAAAAAAAAAAAAAAAAAAAAAAAAAAAAAAAAAAAAAAAAAAAAAAAAAAAAAAAAAAAAAAAAAAAAAAAAAAAAAAAAAAAAAAAAAAAAAAAAAAAAAAAAAAAAAAAAAAAAAAAAAAAAAAAAAAAAAAAAAAAAAAAAAAAAAAAAAAAAAAAAAAAAAAAAAAAAAAAAAAAAAAAAAAAAAAAAAAAAAAAAAAAAAAAAAAAAAAAAAAAAAAAAAAAAAAAAAAAAAAAAAAAAAAAAAAAAAAAAAAAAAAAAAAAAAAAAAAAAAAAAAAAAAAAAAAAAAAAAAAAAAAAAAAAAAAAAAAAAAAAAAAAAAAAAAAAAAAAAAAAAAAAAAAAAAAAAAAAAAAAAAAAAAAAAAAAAAAAAAAAAAAAAAAAAAAAAAAAAAAAAAAAAAAAAAAAAAAAAAAAAAAAAAAAAAAAAAAAAAAAAAAAAAAAAAAAAAAAAAAAAAAAAAAAAAAAAAAAAAAAAAAAAAAAAAAAAAAAAAAAAAAAAAAAAAAAAAAAAAAAAAAAAAAAAAAAAAAAAAAAAAAAAAAAAAAAAAAAAAAAAAAAAAAAAAAAAAAAAAAAAAAAAAAAAAAAAAAAAAAAAAAAAAAAAAAAAAAAAAAAAAAAAAAAAAAAAAAAAAAAAAAAAAAAAAAAAAAAAAAAAAAAAAAAAAAAAAAAAAAAAAAAAAAAAAAAAAAAAAAAAAAAAAAAAAAAAAAAAAAAAAAAAAAAAAAAAAAAAAAAAAAAAAAAAAAAAAAAAAAAAAAAAAAAAAAAAAAAAAAAAAAAAAAAAAAAAAAAAAAAAAAAAAAAAAAAAAAAAAAAAAAAAAAAAAAAAAAAAAAAAAAAAAAAAAAAAAAAAAAAAAAAAAAAAAAAAAAAAAAAAAAAAAAAAAAAAAAAAAAAAAAAAAAAAAAAAAAAAAAAAAAAAAAAAAAAAAAAAAAAAAAAAAAAAAAAAAAAAAAAAAAAAAAAAAAAAAAAAAAAAAAAAAAAAAAAAAAAAAAAAAAAAAAAAAAAAAAAAAAAAAAAAAAAAAAAAAAAAAAAAAAAAAAAAAAAAAAAAAAAAAAAAAAAAAAAAAAAAAAAAAAAAAAAAAAAAAAAAAAAAAAAAAAAAAAAAAAAAAAAAAAAAAAAAAAAAAAAAAAAAAAAAAAAAAAAAAAAAAAAAAAAAAAAAAAAAAAAAAAAAAAAAAAAAAAAAAAAAAAAAAAAAAAAAAAAAAAAAAAAAAAAAAAAAAAAAAAAAAAAAAAAAAAAAAAAAAAAAAAAAAAAAAAAAAAAAAAAAAAAAAAAAAAAAAAAAAAAAAAAAAAAAAAAAAAAAAAAAAAAAAAAAAAAAAAAAAAAAAAAAAAAAAAAAAAAAAAAAAAAAAAAAAAAAAAAAAAAAAAAAAAAAAAAAAAAAAAAAAAAAAAAAAAAAAAAAAAAAAAAAAAAAAAAAAAAAAAAAAAAAAAAAAAAAAAAAAAAAAAAAAAAAAAAAAAAAAAAAAAAAAAAAAAAAAAAAAAAAAAAAAAAAAAAAAAAAAAAAAAAAAAAAAAAAAAAAAAAAAAAAAAAAAAAAAAAAAAAAAAAAAAAAAAAAAAAAAAAAAAAAAAAAAAAAAAAAAAAAAAAAAAAAAAAAAAAAAAAAAAAAAAAAAAAAAAAAAAAAAAAAAAAAAAAAAAAAAAAAAAAAAAAAAAAAAAAAAAAAAAAAAAAAAAAAAAAAAAAAAAAAAAAAAAAAAAAAAAAAAAAAAAAAAAAAAAAAAAAAAAAAAAAAAAAAAAAAAAAAAAAAAAAAAAAAAAAAAAAAAAAAAAAAAAAAAAAAAAAAAAAAAAAAAAAAAAAAAAAAAAAAAAAAAAAAAAAAAAAAAAAAAAAAAAAAAAAAAAAAAAAAAAAAAAAAAAAAAAAAAAAAAAAAAAAAAAAAAAAAAAAAAAAAAAAAAAAAAAAAAAAAAAAAAAAAAAAAAAAAAAAAAAAAAAAAAAAAAAAAAAAAAAAAAAAAAAAAAAAAAAAAAAAAAAAAAAAAAAAAAAAAAAAAAAAAAAAAAAAAAAAAAAAAAAAAAAAAAAAAAAAAAAAAAAAAAAAAAAAAAAAAAAAAAAAAAAAAAAAAAAAAAAAAAAAAAAAAAAAAAAAAAAAAAAAAAAAAAAAAAAAAAAAAAAAAAAAAAAAAAAAAAAAAAAAAAAAAAAAAAAAAAAAAAAAAAAAAAAAAAAAAAAAAAAAAAAAAAAAAAAAAAAAAAAAAAAAAAAAAAAAAAAAAAAAAAAAAAAAAAAAAAAAAAAAAAAAAAAAAAAAAAAAAAAAAAAAAAAAAAAAAAAAAAAAAAAAAAAAAAAAAAAAAAAAAAAAAAAAAAAAAAAAAAAAAAAAAAAAAAAAAAAAAAAAAAAAAAAAAAAAAAAAAAAAAAAAAAAAAAAAAAAAAAAAAAAAAAAAAAAAAAAAAAAAAAAAAAAAAAAAAAAAAAAAAAAAAAAAAAAAAAAAAAAAAAAAAAAAAAAAAAAAAAAAAAAAAAAAAAAAAAAAAAAAAAAAAAAAAAAAAAAAAAAAAAAAAAAAAAAAAAAAAAAAAAAAAAAAAAAAAAAAAAAAAAAAAAAAAAAAAAAAAAAAAAAAAAAAAAAAAAAAAAAAAAAAAAAAAAAAAAAAAAAAAAAAAAAAAAAAAAAAAAAAAAAAAAAAAAAAAAAAAAAAAAAAAAAAAAAAAAAAAAAAAAAAAAAAAAAAAAAAAAAAAAAAAAAAAAAAAAAAAAAAAAAAAAAAAAAAAAAAAAAAAAAAAAAAAAAAAAAAAAAAAAAAAAAAAAAAAAAAAAAAAAAAAAAAAAAAAAAAAAAAAAAAAAAAAAAAAAAAAAAAAAAAAAAAAAAAAAAAAAAAAAAAAAAAAAAAAAAAAAAAAAAAAAAAAAAAAAAAAAAAAAAAAAAAAAAAAAAAAAAAAAAAAAAAAAAAAAAAAAAAAAAAAAAAAAAAAAAAAAAAAAAAAAAAAAAAAAAAAAAAAAAAAAAAAAAAAAAAAAAAAAAAAAAAAAAAAAAAAAAAAAAAAAAAAAAAAAAAAAAAAAAAAAAAAAAAAAAAAAAAAAAAAAAAAAAAAAAAAAAAAAAAAAAAAAAAAAAAAAAAAAAAAAAAAAAAAAAAAAAAAAAAAAAAAAAAAAAAAAAAAAAAAAAAAAAAAAAAAAAAAAAAAAAAAAAAAAAAAAAAAAAAAAAAAAAAAAAAAAAAAAAAAAAAAAAAAAAAAAAAAAAAAAAAAAAAAAAAAAAAAAAAAAAAAAAAAAAAAAAAAAAAAAAAAAAAAAAAAAAAAAAAAAAAAAAAAAAAAAAAAAAAAAAAAAAAAAAAAAAAAAAAAAAAAAAAAAAAAAAAAAAAAAAAAAAAAAAAAAAAAAAAAAAAAAAAAAAAAAAAAAAAAAAAAAAAAAAAAAAAAAAAAAAAAAAAAAAAAAAAAAAAAAAAAAAAAAAAAAAAAAAAAAAAAAAAAAAAAAAAAAAAAAAAAAAAAAAAAAAAAAAAAAAAAAAAAAAAAAAAAAAAAAAAAAAAAAAAAAAAAAAAAAAAAAAAAAAAAAAAAAAAAAAAAAAAAAAAAAAAAAAAAAAAAAAAAAAAAAAAAAAAAAAAAAAAAAAAAAAAAAAAAAAAAAAAAAAAAAAAAAAAAAAAAAAAAAAAAAAAAAAAAAAAAAAAAAAAAAAAAAAAAAAAAAAAAAAAAAAAAAAAAAAAAAAAAAAAAAAAAAAAAAAAAAAAAAAAAAAAAAAAAAAAAAAAAAAAAAAAAAAAAAAAAAAAAAAAAAAAAAAAAAAAAAAAAAAAAAAAAAAAAAAAAAAAAAAAAAAAAAAAAAAAAAAAAAAAAAAAAAAAAAAAAAAAAAAAAAAAAAAAAAAAAAAAAAAAAAAAAAAAAAAAAAAAAAAAAAAAAAAAAAAAAAAAAAAAAAAAAAAAAAAAAAAAAAAAAAAAAAAAAAAAAAAAAAAAAAAAAAAAAAAAAAAAAAAAAAAAAAAAAAAAAAAAAAAAAAAAAAAAAAAAAAAAAAAAAAAAAAAAAAAAAAAAAAAAAAAAAAAAAAAAAAAAAAAAAAAAAAAAAAAAAAAAAAAAAAAAAAAAAAAAAAAAAAAAAAAAAAAAAAAAAAAAAAAAAAAAAAAAAAAAAAAAAAAAAAAAAAAAAAAAAAAAAAAAAAAAAAAAAAAAAAAAAAAAAAAAAAAAAAAAAAAAAAAAAAAAAAAAAAAAAAAAAAAAAAAAAAAAAAAAAAAAAAAAAAAAAAAAAAAAAAAAAAAAAAAAAAAAAAAAAAAAAAAAAAAAAAAAAAAAAAAAAAAAAAAAAAAAAAAAAAAAAAAAAAAAAAAAAAAAAAAAAAAAAAAAAAAAAAAAAAAAAAAAAAAAAAAAAAAAAAAAAAAAAAAAAAAAAAAAAAAAAAAAAAAAAAAAAAAAAAAAAAAAAAAAAAAAAAAAAAAAAAAAAAAAAAAAAAAAAAAAAAAAAAAAAAAAAAAAAAAAAAAAAAAAAAAAAAAAAAAAAAAAAAAAAAAAAAAAAAAAAAAAAAAAAAAAAAAAAAAAAAAAAAAAAAAAAAAAAAAAAAAAAAAAAAAAAAAAAAAAAAAAAAAAAAAAAAAAAAAAAAAAAAAAAAAAAAAAAAAAAAAAAAAAAAAAAAAAAAAAAAAAAAAAAAAAAAAAAAAAAAAAAAAAAAAAAAAAAAAAAAAAAAAAAAAAAAAAAAAAAAAAAAAAAAAAAAAAAAAAAAAAAAAAAAAAAAAAAAAAAAAAAAAAAAAAAAAAAAAAAAAAAAAAAAAAAAAAAAAAAAAAAAAAAAAAAAAAAAAAAAAAAAAAAAAAAAAAAAAAAAAAAAAAAAAAAAAAAAAAAAAAAAAAAAAAAAAAAAAAAAAAAAAAAAAAAAAAAAAAAAAAAAAAAAAAAAAAAAAAAAAAAAAAAAAAAAAAAAAAAAAAAAAAAAAAAAAAAAAAAAAAAAAAAAAAAAAAAAAAAAAAAAAAAAAAAAAAAAAAAAAAAAAAAAAAAAAAAAAAAAAAAAAAAAAAAAAAAAAAAAAAAAAAAAAAAAAAAAAAAAAAAAAAAAAAAAAAAAAAAAAAAAAAAAAAAAAAAAAAAAAAAAAAAAAAAAAAAAAAAAAAAAAAAAAAAAAAAAAAAAAAAAAAAAAAAAAAAAAAAAAAAAAAAAAAAAAAAAAAAAAAAAAAAAAAAAAAAAAAAAAAAAAAAAAAAAAAAAAAAAAAAAAAAAAAAAAAAAAAAAAAAAAAAAAAAAAAAAAAAAAAAAAAAAAAAAAAAAAAAAAAAAAAAAAAAAAAAAAAAAAAAAAAAAAAAAAAAAAAAAAAAAAAAAAAAAAAAAAAAAAAAAAAAAAAAAAAAAAAAAAAAAAAAAAAAAAAAAAAAAAAAAAAAAAAAAAAAAAAAAAAAAAAAAAAAAAAAAAAAAAAAAAAAAAAAAAAAAAAAAAAAAAAAAAAAAAAAAAAAAAAAAAAAAAAAAAAAAAAAAAAAAAAAAAAAAAAAAAAAAAAAAAAAAAAAAAAAAAAAAAAAAAAAAAAAAAAAAAAAAAAAAAAAAAAAAAAAAAAAAAAAAAAAAAAAAAAAAAAAAAAAAAAAAAAAAAAAAAAAAAAAAAAAAAAAAAAAAAAAAAAAAAAAAAAAAAAAAAAAAAAAAAAAAAAAAAAAAAAAAAAAAAAAAAAAAAAAAAAAAAAAAAAAAAAAAAAAAAAAAAAAAAAAAAAAAAAAAAAAAAAAAAAAAAAAAAAAAAAAAAAAAAAAAAAAAAAAAAAAAAAAAAAAAAAAAAAAAAAAAAAAAAAAAAAAAAAAAAAAAAAAAAAAAAAAAAAAAAAAAAAAAAAAAAAAAAAAAAAAAAAAAAAAAAAAAAAAAAAAAAAAAAAAAAAAAAAAAAAAAAAAAAAAAAAAAAAAAAAAAAAAAAAAAAAAAAAAAAAAAAAAAAAAAAAAAAAAAAAAAAAAAAAAAAAAAAAAAAAAAAAAAAAAAAAAAAAAAAAAAAAAAAAAAAAAAAAAAAAAAAAAAAAAAAAAAAAAAAAAAAAAAAAAAAAAAAAAAAAAAAAAAAAAAAAAAAAAAAAAAAAAAAAAAAAAAAAAAAAAAAAAAAAAAAAAAAAAAAAAAAAAAAAAAAAAAAAAAAAAAAAAAAAAAAAAAAAAAAAAAAAAAAAAAAAAAAAAAAAAAAAAAAAAAAAAAAAAAAAAAAAAAAAAAAAAAAAAAAAAAAAAAAAAAAAAAAAAAAAAAAAAAAAAAAAAAAAAAAAAAAAAAAAAAAAAAAAAAAAAAAAAAAAAAAAAAAAAAAAAAAAAAAAAAAAAAAAAAAAAAAAAAAAAAAAAAAAAAAAAAAAAAAAAAAAAAAAAAAAAAAAAAAAAAAAAAAAAAAAAAAAAAAAAAAAAAAAAAAAAAAAAAAAAAAAAAAAAAAAAAAAAAAAAAAAAAAAAAAAAAAAAAAAAAAAAAAAAAAAAAAAAAAAAAAAAAAAAAAAAAAAAAAAAAAAAAAAAAAAAAAAAAAAAAAAAAAAAAAAAAAAAAAAAAAAAAAAAAAAAAAAAAAAAAAAAAAAAAAAAAAAAAAAAAAAAAAAAAAAAAAAAAAAAAAAAAAAAAAAAAAAAAAAAAAAAAAAAAAAAAAAAAAAAAAAAAAAAAAAAAAAAAAAAAAAAAAAAAAAAAAAAAAAAAAAAAAAAAAAAAAAAAAAAAAAAAAAAAAAAAAAAAAAAAAAAAAAAAAAAAAAAAAAAAAAAAAAAAAAAAAAAAAAAAAAAAAAAAAAAAAAAAAAAAAAAAAAAAAAAAAAAAAAAAAAAAAAAAAAAAAAAAAAAAAAAAAAAAAAAAAAAAAAAAAAAAAAAAAAAAAAAAAAAAAAAAAAAAAAAAAAAAAAAAAAAAAAAAAAAAAAAAAAAAAAAAAAAAAAAAAAAAAAAAAAAAAA==",
           "dtype": "i1"
          },
          "coloraxis": "coloraxis",
          "symbol": "circle"
         },
         "mode": "markers",
         "name": "image embeddings",
         "showlegend": true,
         "type": "scattergl",
         "x": {
          "bdata": "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",
          "dtype": "f4"
         },
         "xaxis": "x",
         "y": {
          "bdata": "LPXOv1r0iT/lDLq/0Pu4v2gxFMBjB8W/kOvjvz4iVkAGuoU/4S6rv4oJOD9C662/YR8FwCXLgj+dWvo/+cJLP6FkLD/zR7e/amUCP6i0Nj9AxhbAAGq0v5Oftb8AftK/iR9kP0wW/z50gq6/XAbTv9ivEsCPBqq/lPG9v8S7dEDTcmhA6au9v8jnRECM4QXAYyukQIqPqED1b2lA1yRtQNyTaEAYpNO/a0EJQL3NO0AGmpW/LiEawLLsEEBESRLAPZiEQLcoKkCLa7i/A6/Dv7y5ZEAvzKhATfPRvzpsu78F9/Q/vfAPwNERFsBvFXlAUP+SQPGkkUBkiYRA+eHRv/qAFsDzE/i/VCnCv1yByL9YMpVAQe3sv7t3yb8mSgjAk6kSwGtF3L9FBtC/+BcqwD56GcCoDJNAyj7jQI1pkkBLFQxABj8SwJQ4zL/vbNG/FjrPvx/fk0Do+c6/VOYSwJshv78of04+OQKdv9CDVj3I/bg9FLGlvqOuF78l6eg/tndpPuLc8b6E4BK/LL4nv8YEpr4nsdO+RR1EvkUw5j9ASlK+E0CvvqksUz+jUKG+koIvP5VY7UD1NdM8fWBxQCPNRb7i1aM/Xt80QPi+uD42niC/5CweP1JOgrx8+nNAxMZaQFZId0B8MV9ABfn7P4LWU0Cl1zpAxXmGQFtxY0BdsoRAdDx9QENNZUBJx+JAsZ9UQKmagUBIGYdA6zKCQEzLhz7fuINA1a7eQOxOnr/IAEdAxrpxQIObhEC28XBAJc5bQLQda0AvFWtAeDtZQBKYa0DdF3pAaEqGQMngbkCsh4RA5lCJQAMGT0CfuGtAQWxtQKm3hEAkdoNAOqCGQEnihECIsoNAo2huQFTTfEDWWoJA4jSGQB4iXUCG+nNAViI5Pz4RiEBMqnNAdHRnQFyKbkA0Gm1AgG19QLNhbUBBPoZACXJtQLBOg0BajE5AorhwQI2Ga0AvP4FABENtQHplZ0BpWIlA3uBUQAxnY0Dd+oNAlgpWv8IifkDjUQxAPjWhQAdYpz9SdgTAWml5P8gFhUDVxek/IhFXPykdwD/Z1KY+ZRUaPww+FT8+NYJAZKWHP+Yda78Pj2ZAXaODP7MH+T8rNlI/LWCSQCFHgEChNYO/2/i3Pyaw4D/ILZY9DMdRPrz1CD9i8t8+YgJEPaKqwj+1ItE/1zirPyulqD/kDXHAp/DePzfJLj6w7IU8z5hEP+C+mD2TuDi/CIKWP3OA9b5dgsm+jPNFPxQdMT+0YgW/fCH9P24M6j/3CoE/Kzr/P52OFD5JXxQ/micPQHe7A7+RwCpAwyzRvjsPQr7XpwW/tbbfPz3pQ7/5xQtA4PVFv8XuuL/8FkC9PmuqP9S17T8QtLW+a53+vlJh7j9BAu6/Jr49v5PD+z7omcI/55zgP+0XJ78FlFtAeSS9vhH5KEA7Nqm+QRq3wDcpBb/DBwq/yXiqQLaRt0C8uNi+rgmHQLN8uUCKokk/zC+2QEyNsb9r+/JAyIFwQGuN1r5bSrtAXlMLv8bdJ0AiI0hAzxaQPtleesDXkJ0/dhaMPuHKhj82Uqs+BGJLP3+Tg0BIkbK/F6GEvqpfJD8iEW5AXBfhP8FZy0BFAbE/r58GQJoGDUCThug/9gkvwOmYp8COmCjANCcKQNq3GMC7rx/ApbsNQJIZGr9MawxAPy0TQLPoCUDrxgBAuW4RQLJz+z95Gvk/CND6P2lMCkCBxwpAivUdQHlJDEAacfM/d2gOQBqoC0BjrQFAc54twNee3L+Y/Js/xJhHPmv3fD9OTIQ/tgoEvmOIyL9jtI8/lEn2Pz/53L8iv4Q/+WaYP0T2kT/hBHO/aSegP976mb8Y8pM/U1ACvj7XFUD96/RAz0SrQMQ7279atLO/jBU8QOPy2j4g8dI9QikVQFS0mT2SXIhAOzeHPxoHRsBPH0DA2sIQQMG5RMBn8HfA1Ks7wF0XccB3vWPAxs2UvQ7gQ8D6YQTAOfl0wMcEQMBleFnAQClLwNlAgcDRQUjAtfQ/wFlNGcCMhgVAPTBCwAQyeMCUrUjA1x8+wBsUUcCbFP4/QvQ4wHtFPsAAmUTAO05GwGNIUD9w0KG/x1MzwOuaQ8DfqPU9aNc8wPTwPMDWNdO/aXRvwA4TRMAqBz3AHpdfwFIkRMCW+UTANuI2wH0db8B5Wvm/rzwrwAh3PsCQmyvAtCs5wCy6qb/ovmC9NJg1wFpVOsASw+U9NmU3wLx8sr/UXj3AqKTDwE2GRr9H+5VASHmMwHrePsBYdVK/1r6GwBwJmMDlU7DAPMzzQM9ypsB6gKjA4e+TwHrfgb1vE/y+AG+SwFdFhz+fcV/AHWSxwGVmZsCEvpXAa7GUwOcSscCN2T7Ald+VwEP3J78B1pzA1qKMwLz0RcAQAaDAr8+rwGhKocB0SbfAt4C0wKQnscDI9KTAW8aywP0dtcCphG/AHtylwCGEu8Aoz7fAjzGywBQUtMCa0rzASEW0wCOqqcCWUa3A/Dy+wBiFtcBa67LAKNS7wPo3sMBf76/A+6SywGnatMDh8bnAN0O2wFWUjkCHeI6/iw4CwC3NAMDAbwDAaYCJQO5vK8B5rqbAm6oawBDshkClofu/GJXiv/I747/pf4ZAnpALwN05D8BGahHAfxEPwAenh0AhAj3AcMuPQAHHFcC/KA3AnZIXvrDGXj8d5Gg/ZD30P027q8DxcQ8/pcLEPuPMJUB7LYG//CLRP2oBFT+IAQw/CriyPm+0nz84cEg/2QsIP7UKRD9weTE/KqIyP8c8hz8287DA8LRdQFhYPEDlCpi+LgdXP9M1gsAaKiS+X88PP0ntoUCAU7W/N+nsv8Ht4r+Rq86/4Vr0QAGT5r98KDm+91W2vwQXr78rp0xA/uKOv+kLor1GER8/YLrzP50V6L/b6oS/AYrzv+/H8ECLDzVAyZCCP64oKb87gfdAyrwTQMCZzD5Rsn8/Yku0v+VwQEDRA2+/QQ4FwBLP+L+Ubbe/bdQcQDQLLMBVYrTAPC8jQDICWcAfpF7AW2qjQJxcbMA1pU3AliMuQOs68EBnpyVAB4AZwLmbI0CT7xHA6R08QPVPicAK70hA0HpuwKvof8DNSnzAzuIfQEkPTsA/wru/jIp7wI6LTsDMkYDAhGxrwKBJRsC7z54/2UeDwDxoq8AaX65AY8q0QBHhr0Ax+65AHIaswP6xrMAzua5An0StQM0zr0DjgNNA2NPEQLYLr0BfKKrApTyqwElY1EDQ29RA5vqqwPzDrkBrKKJAVqipwC/Aq8B39qbAY/LUQOkurMByl6vA3JOwQOWBOz9KssU9AyI+vlHIWD+3fa09RAXOP3keQ786P3C/PgmOP0ROHT/9S08/GhAOPwK/Zj9NxOY+ZTbbPmfRakAIKlE/LBNMP8Vwqz2HNWE/f9+CvwME4r2GYg++qGWLP1N2Xj91Mx8+isX/Pl3g6D0d/TbAxNgMP/i6MkAU/R5AUjdTQJqUiUD3fjlAxH40QJUrikB9lWW//c7YvzLkUkAswFpAS8hyQJ1jc0CZMoRAbwVxQJgZSUA+fxdAhqJMQBzVdEBDLgdAtVlkQLYjA0DvCME/yWhBQFJ8LUBZdT9ADlEWPxmiHz88bWG/TDsyPnMElr7W1Ws/zoZ/P3XCOMB7O04/mROQP2OsO7yUBFM++jWIPxe1qD6yjPW+/KEbP6kUGD+ba6O+PhwrPwhZ9j69qym/HnYiPnGqvj6W77w+4SY8vzZ3Ez8Drvi+mjxhQJrAIj9QVlI/r7SlP0Tmjr7vPMo7lRTDwMWCkj52gvm+4MXIP8vugT9cWbo+Fu8pwL/h3z+FU888ClDpP2Wofz+ekSM/EUUfQCUbrD9S1e0/QynbPwGn9T+me4S96KSNO9NckT4/Kws/2hf3P3tJsjwBQQdAnq+pPkGA2j/GvaE/vx3pP6Lz0z+gcLQ+HozRPc+RtD/8RBbAo4rpP7XT5T8O3tY/7J7gP1m77j8yqUVAFu3jP17a9T9t9es/k7jUP9Vwwz7uo4+9u4DNvNC/Rry3DsQ/ROASPuAb/z9m/lG+cbifP6upOj4fzhI+MuIkP6VbsUA19XY/b9IiQHPqA8GSk8c/JCQIwSIFB8Hh7gXB+xQFwQQDB8HMxQTBFhsJwV2/CMFACQnBttQGwZjYBMHjVQrB7tUGwbusBcHlmAbB8O0JwdujB8EJ5AXBUQ8HwfruB8H4FwfBYgIHwW9nBcEgsAbBVfUFwb32BcE9kgXBkS0HwbHVbD5qgbc+9Ue+P864Ez/GpdE/Us/eP+8V5D88plU/F8GwP0T9kj4RajA/FkH3Pokqfz+wcJc/92YOQEtY1D9r9pQ+Xf3rP86e3z9SD1A/1JyxP33HvT+nUeA/PDXUPy0LxT/ijqk/EwKuPxniHz6OBt6/llo/v1bXxj/8EoI/LK4MP2tixj+I27o/yu0Fv5jl8T9FSRg/1RbiP/IkIj97iE0/V/vBPintID/gftI/hkONP9cTjT5mueI/Hk/xPlTwSL+cq6O+pp3FPtdxtz7b1qM/mjbcPpU/dD8EB3Q/MBE4PwmFHsBPTsU/I4XePWNqPEDMa6G/TsOBv3ndJUBoeiy/hirBPzGkW7/CzBK+KYvxQImRgb/YaexA9a6ev75KlL+8S/y+5iyUP9MWRkBBXdC/4cpDQPP2yUDxMjy/b/eGvtB3ML/+skRA7NPsQLnNh7+8mRlAFd+5PztXcL6di6a/TA3tvrDVkD4iiEJAiGe7v+JMCD934Ju/afoYP5iKSb9hp9ZAvE4gQFX1rcB0BWq/dOGqP/S2jr/zQKG/7MROvzfpAD8t8ypAJnKhvzlRH7+ts5Y/4E+mv+J4TUDJzau/NW40QCqxBkCUuJm/BJUxQFI7db+Bop+/ULybvsAo/b4cmae/7g6av0EqF0Dr7dO/bwNgv5kGy78+lpu/rombv8jEpb6k3SxA8rakv8zDvr8E7ay/Xn+vv43vnL+y1pS/aqCyv4SWyz+vL7S/Ve9kvTwqq7628bK/6kSwv4sPor9UxsC/l/0Qv2ewvT9ENX9Aj+BkwEAEKb9GQ8VASOvtv0jiyEAfapLAMuR6QOFtZcA8ypvAPLqEQD3fdMD1YgnAi0xowBExc8A/vmXAIdRLQCzWhMCmPIPAYMyjwPyJ3kB6NsRAz5p0QM7h4EAH7Ny/vHgBwCEod0CV228/r4IAwPi1n8Ap1J/ASL8kwEril8AgA5vAdAqawPJ/4EBGLpvAD52VwDTnnsB74XLAdHmqwMdLn8CNpobAdM+LwFBVA8D0l6bADW+lwE1BjMBeeY3AauqhwBhboMC4DITAEaWcwN3/jMArGUjAPHylwPGgtcAwOIXACZOOwCJJ/sDdyfXALlr7wPKN+sAkuOrAVKPzwDzA+sA+i/vA4B47wAPx78ABlP/AbQz8wEtI+sAHSPPAsaT4wB8w+8Csd+vAQTzxwG/Q+cCcDOPAZRf8wK8yOsAenf/AQbjSwBO4/MCiefbAjOSov4qk8sCeV/zAxrMBwfGcTj8jizY/YAgKP+OPhz9fYSFAqgxiQJ+8Mr5DLs09aTkgQDOjJUDE4S0/2McSQBoiJ0AdXKw/33UfQObeQEDeU1lAx+QmPmMuPD7SFUVAF676PyNSij6cRYI/xow2QCnD/j/k1kNADmD+PyNT9j+6KylA5PGmvpUa7b2HQy5AnJpqvvtJCr6dGZw/KLFHP8ucjL8j2DZAlsQiQIPqk76a3ww9pga2v7x51z7xj4A+eDLev4PR1r0a2sJAgUzAPvhAMr7aKee9eo8ewAp83z2ENsq/Oo8Xv8hR472uQeo8bf0Mv6ebwr8BnES/Y+shvt1wgT4PyAxAeT6GPmCzVT+z/ag+u1U3vowSTz7IfcA/cDy4vT3awD8ydo4/JP0aQM+kfT+VRkBARskqP3lPaj7GoNY+GkbfPz8Ptb8uDta/voQRPpjfMD+DkQs+0+uiP5odMD8IusQ/nOFmP82Kjz7pTKA+sOT0QMAK0j0L2kHAWNEGP0XDsL+FhlM+e4CMP97FwL4TwWq/H3H0QJQ9Fj84SaG/hr2bP0Yf9r73gS2+cLYoQBDeBL3qi/BAQ8XVvmI0Hj+mpv+9KQD5PalVGEBpxX0+hCdVv4gH2jyhUj69BcCgPcLRkL6szNU+xxrUvqw2zT93lsC/eLXAv1bLwb8Yd6m/0kOFv1o/7r9S08m/MLenvwVuNED3gsy/F/AAwMSX078ZQirAHetIvoSAor+9CMy/ghCrvjQOPEAl86O/q6zPv9VNxb/Gzb+/p/jDvxy+3z+Xrsu/hrGwvwY5xL/cfJ8/W3xdQA/ykMAgBo3AEqWfwOLliMAoH5PAJOqewAHXk8CRYpHANkKYwNNik8Co8JTAJrmTwEiqi8CBjInAFfOKwDpyhcCTX5XAcNmYwCRzk8A1VJrAu8FRwN3+lMCaFpTAfmebwOgc/MDWr5nAH9mywBiHkMCxjI7Aly6QwG/IHEBchlk/6DKxP5kA9ECFiClABG/HP7UFi7/fBuY9FtkxQEHO1j8WWTxAnVBkP/U9U0A+tvg/T6nUv1rrUUC/NIFACCziQFWEOUA5mTxAwkJKQL/Ywz87VzdAvzFLQEKr1L7+X7o+D/zVP71JED7M1KI/kFS2vyt9JMDBb2TAq+idv2UFJ8BC/y3Aq9vevyyNMMC4RgbABGYiwMsUMMCtNCfAE0zhv7u1HsAnSda/nzouwFKe4r+ZWd2/yU0owG+L279iNNi/w6cpwBDvzb/tmABA3kkxwF6L4r9nQd2/SR2/v8FzGsCJUT/AdAAzwLtpvr9Quti/57DjPxUOD8DbhKW/MTGdv2r3J0CN992/CWuTQGjyrUBAlhXAbtG+v6dEh0DLuMi/Ik+2v+hUJb//zJK/3FcHQCC9l0CeeLu/I0HWv/9QikDmcLxAOY0iQLRp+T+/kuS/x0Tbv4kvmb+PyphAyie4vy+r7T8N4wJA1Wy0PyvYF0CmO/U/RgP/P5l66z8cbAJAOg4CQKcuA0DRD9g/IUQWQKodC0DPoAJA7LHQP4bI9T9DkP0/pnT/P7w9FUBHrhRAErJ8PsdkB0C7Yts/T/oHQAcJ7z8jsdZA+P2dPjCx7z9G5wtA3DnrP5JHSMCv26TA9OVNwFkkJMCTTH7At6JUwASbPMCxdlPAuwK9QILqo8BvtoHAAU6ZwAxkkMA4s1fAxXZCwG27SMCXe0/AZ/iawKFLDsDpQlXA9T4mwIKNaMBsp6LAUiKFwHJ6T8C5pqrAc7NKv48PxL/vgIjAtINZwLQfssBH5IzAuIORQOGsjMC1DBlAgFptwBUDUMDFSW/AKIjSQM9bgsABU3/A0z9ywCqkukBPuVvANIqawHWmjUA8YpHAzGhnwAzo+7+FB5ZA+W1uwMa7aMDjxGPAkN13wMcszUDavW7AgSCDQG9FbMDCi7c/UcJ1wL1inr5koP8/J7oKvdCDD7xOImW+Ad5tPkXba8CXbZy9Cd03P6dWcT8jKQy/hm8sv3MTvb42IN09511DQEC/tj+oX1VAhuhLPofl0L+r/LY/dkaXPdBcy72l6Oc9UOlhP54tNb+gssm+gtptQAYoTL98/7q+b+6jP6UKhj83+SI/ISQnP1yoyz8Y9Cs/lNYbP573fz8XX0I/851/P33VmT+E9Tc/gQZFPzMSmz9WRZE/+6FMPx9/dj+pb0o/VaI/P5MxfT/uWYY/fzV8P1o+gz+6Y4Q/CsM1P5tTbj+iWYY/+TU7P74pfD+kRj0/bbImP7CoUT+07oc/RYyfP3sxbD84CV0/TKBmPz6Ghz8bB74/OhIFP3g9WT+IJz8/r2dXPxG/Vj+Hz5I/On2GP23ehz84y4g/F5I9P/uHhT+fRlE/7iWNPyQfCD/t1js/dI0xPyKrsT8Rhp8/h6WAPwhUiz8D00I/y67oP/W5Oz8VcRw/rUdeP8ThWD8M5Z8/DlnWPoMLZT/GmCM/JU7/PhAwPD+uYTY/kbb+Pj3RUz8p3xo/9CcLP2ulZT/MxR0/u+lrP4vhKD9XE9A+B3VCP2YUQT/T15M/UnI/P8sXWT/fOPg+AfHNPt/wSz//jYe+g2BdP1+eDz93j0A/pb07P19CED+xN1M/m2dCP//fXz8w5yA/Xg/uPjEQIj+YXKw+IGyKP5paEj8FkAI/cnUIP+ykTj/BUnk/VfIdPzZkUT53IU4/6n+CQJw71UCe5nA/+XwHP+6n6D4AGTY/2dAKP6D3Hj/FLFM/eAmjPiScI8B2IH3A4l5DwKu9G8ClW7Q/eTOswNBUQ8AwTjnARJN9v9CHHcAfZxdABta9v26/eT8mL4e/pexewIJfyz7cTUvAr+I3wNzkPMD+dTTAIUsqwDqkY8DvWjnA/Q1MwL47BECGdZQ/CkMKP7LpG0BjhDrApzo0wBnLq8Dfg0vAMAmrQDXmTEDeR0vAKWyAwHpvb8D1hJHAaTRDwFlVpsCDNJrAuL3LvKF7l8Bqm6/AqIhOwK5rSsDrcI7AXOBkwFSurMD+K4jA3ERYwH6if8BPOVLAicV9wDW0n8A/tOA/kZGbwHUXk8AA/DTAMfmlwBsSeMDkvibArduBwAA3u8DiA5LA0zUwv3QoiMDckoXAaDuGwIB4hMBI74XAoi6WPrhij8DvnIHAIFQswE07YsCX+o3AhbyIwGfdgsBC3oFAoXfzv9v/g8CaIoDAxRqNP3wArMBcNVLAx0KFwJxDhMCN4o3AmsKCwMk9xcBO8rLAD8imwEv8wcDdycXAA5ObwJR5hcC5yIjAolCywIUlysBLs7jAUYCMwNeMhcAOQ4TAn5DBwHKswcA1+4fA9ayIwL/Eh8DcaovANAqKwIrPFcCxBb7AaXbIwORZhcApgcPAD1iZwE5YC8BkY4nA4T+CwL/zyT86kHy/sKyCQBPttz9rn2ZA7hxWQH5HZEAT0Wa+j1eEQBJ3UEAbaHVAxiHOP5vU075vhdM/xzTBP9/Q5b4J18I/0GO8PP2baEBpyMw/3b5pvZR8fkA0d1dAF10AvxNcAEA7t2hAWZpivhOdrL6I+EI9a5OPQC+trkCJhrNAtWJ7vxpTkkDbbphAnPOdQNF3jkDakKtAzViqQMU9hkAwsoNAsAJ3v4enEb4JbYNAn6WqQOVitkAGfaRABsedQNAcgkAe4aJAfDK4QIOGhb93I7ZAhq2iQMoXr0BUoYBA3SiUQEzRp0DYhKBA0EeaQNhvpECSm7dANdWPQA0MKkBG4KlAqRStQJ26sUDk45xAqoCVQEbGhEC525JA3uasQO9WrUBtf55AVhaKQAG+qECbB5lAUcKjQCe6r0CxNapAM02hQP/cokByxK5A3QCrQKp3j0AxGalA07euQJG+qEDhQJZAK4ioQHEnrkDTJIdAdKqpQJE3sECPA6VAA+t6QBwDqEArZoJANHywQPQ/oUA1e4hAKv+YQOlulEBD7YZAIY2TQNrEikBHgaRAJbcuvyc4gEBcVJ9AG7WPQDUGs0DGDrFAJRV5QJP9nkB/z5dA0KyGQOP+dkCcRnxAF+qfQHc4u0BWy0K/nhalQGbxjEDExZ1AII2fQItQp0DnjJ5AR7SLQJPXoEB7Xq5Aj/uzQDLjgzzxGHVAsCyoQAvkq0APoZ1A3QOpQOUYp0CRAJBA+SCbQPyzr0DkUJlAfei3vtKosEDd1Vq/5BC2QAeeqUDC6bZAqAKEQHqNnUCsU5tAmha0QP59G73/votAVuCKQLI2hEBrEItAu0yOQO07nkA85sJAr4ZyQI9wbUBSSJpANv5SQGO9lUCaboS/ZSGfv2/Bl0AYeZZAzrGJQHuMe0DGurNAY82IQC/TpkD0xLK/A5OeQKO4fkAJ1YhAkQC+v08RjUBoBbZA07WEQGsJo0CjQQi/GiJmv9zCnkDl8aBA34eMQMd3mECSiqRActiNQEvDpEBvnJxAGoSmQCA5R78KAJm+5NSivRRYQUArwpBABxewQJNLr0D7W+s9ZtAavZQAskD+XotAdFqrQNUPk0CMble/j9+tQPyaoUDqdpJApfGiQN1HjkASy6pA2VWwQOwns0CVIYxAYXyxQPu/pUC0VK9AvU19v0dHsEDTpJu/hRgnwPDnr0BxIbFAvFkqQLlpzL/zT7FA6uaRQHGXOr+JecK/2IuRQIwqmEA8H7RAqgS1QJl4sUAmwbFAbAOoQJXGmUAp06NA3synQDKcm0DPLJNA+RmrQBbDrECp8IpAfxiLQNt7oECj9a1AXAiIQOuSjTxMtptAxCaoQFJSsEBOPKpANtG3QITliED2D6VAxGFtvwvBg0DW9bFA2lSsQILSiUCnyatAmaQGwUCOB8GcbAfB+wIHwfNaB8EMWwbBel4HwWy2BMG9cgXBrYsIwYqRCMFU3AXB9GYHwdjbBcG5ugXBokoGwT/oBsEZ6QbBF+UHwfpDBsGcGgTBJhAGwVXABsGOIQjBVCEGwaNeBcFW4wbBwygGwWA1BcEuiAXBrgYHwX2XBsFRswjBCysHwfqOB8F0z/vAHPMGwTgXBMHPjwbB4GwIwbdNB8EKqgfBwB8HwZ2sBsE7yQbBgZ8EwVTiCMELAwnBubgGwXzxBsFqRgfB89wGwQJs2sBsBwfBdEwHwdBCCMHQ5wfB31MHwdtPBsHW+gbB5eQHwS7WB8EjJAbB2qEHwQC3BsF2mAfBaZgGwYDlAMGe8gbByDAGwYeZB8GjJwjBJpEHwXfWBsFhCgnBy04HwSxu6sCn/gbB6xoIwY2VB8GMnwTBS08HwZCdB8H4hQTBfD0HwYaFBcHXXQfBsxAGwZjiBsFDcQfBF+cCwSF9AsH1MgPBxqoCwQQXA8EuHQPBBJMBweBJAsGjRwPBUXADwYgwA8F59QXBs8YDwVmZA8EIqAPBkR4FwVY5A8Gg+gTB+qIDwfPyA8HH6QLBYn0DwfFpA8FdowXBkegDwbqdBcHf2QLBWr0FwanjBMFzqQPBus4DwId8B8AE6RPAG5ALwAZeQUAVdSrAVuKLQG9QMcCvVCBAOMkpQCji/r+CdEpAxPsPwDbdEMBubzRAA0YwwEI2FMDs1CbAZdwxwC6PBUAkfpc9lMa3v7JZlkCuxCXAzwCUQB7SyUBXZh/AdwlHQF1RNsAcijBAnlYkwMO4FsAXYhrAm0bbPlysJcCNGB3AybcwwJDPuL+4fyrAca8XwAB9dkCPYPK/lI8twLPV3r/89BbAfeOpQARZGcBeyxLAguspwG4nG8C9nxfA16IVwHxRN8Af+qu/8Qiqv4VbFsDvNo0/RlKnvyg8kUDXUX5AV1+ZwPHui8CkPgrA75GOwLLfisCTPpHAht6KwMrok8Dx17/A90KcwPp8uL+jgZPAmzIxwI9tkcB9z43AL16MwLzQy8CTkpHAlkvDvwJOk8Dqe5DAMiM+v784Q8BXISzAQ3B4wGQEksBu1JzAp0iNwH4DjsCr8pbA6DD7vwrCGMD2zy/AI+QewLMYKb9rGBnANTSzv7NhBsCj/RpAfbiaP5kPK0BCvi3ABi4Yv9TxFMD9Aw7AvJj2Pz61ekDxsgLA7evFv7y2pr6tHh3AI1lPv8aK2b/RgIJAyEkcwLfKLMCoHBbA2A+8v21zEsBNd8e/BGsTQBTsg8AcCiNAXXpsvyg+4L90j2HAmcFdwNX6YsAw2hpAzZtgwNE8WMBMhWTAZGZcwHi0V8DvmO2/qt5jwBPzXMDan2bAQ9ZVwCq3sj/RYGLAtQJVwIXVHkBD74e/iqFiwB01ZcDkHmTAnkZgwJn+asCuVJo/YEEdP1UDtT7pTSnAn/9kwLR/IkBsx7TAbQ4oQP90VT/JZ4s+5o57wEnNRUCPSDVApc8RP2sRK0D3ccU/e3lMPxYX/j5pyx5AQED+v/KyMUATmSQ/wyvpv5SJR0DxM18+N7JOQIHZyUBCD1ZAKFmiP6o8RT91JbC+gGLkvq7dkT4e0mU/sc+av6ujQ75jnuC8lKrBv0zWqr/0iwJAvc1bPzci07/KrLw/NSMHvr0ouz3/7KK/tlVSPqaB4D3fsrO/Z3D0vZ4uar45yb6/oEa2v/mrwL9p8ZE9XgeGvrkHoL6VGum/Ki+vPgU8079xSpK/XuK4v+B8xj+EY/2/EioUv3AsrL9ybWi+q+CUP5nimj6LBIi/6zGzv+TCwr8jox+/0qanv4Porr5HEem+6qs0QHJcJkBy7qO/MuA7vplHeL+wJsa/UtBHv8tDdr+miAu/9pf0vnd62L6hHsG/oXarv+i7Or/FIrXAbwC6wI5Shr/SiMDAnLu5wF3FoMBGMKPAZhlCwBW+scCa16PAP8iRwJKlRsAg1qzAcN2SwPeWvsCp8IRAhAEBwJf9mMA1g67AX7XAwEq6vMB69rTAFbH0v99UbsAtNUTAbWxDwMF1vsAddrLA0tLBv93Yu8BUa8HAm7nHwE5LxcBnisfAKuDuv6wwxcD1KL/A/3G9wO41vsAC58LAKirMwHh3vcDRo7rAGFrBwLbnw8ArHIbAB77IwBHCt8CBo7zAitu+wGb2z8DebLvAA/izwIq7hsDNLsTApJi+wD1tv8Bs+r/Adue+wCW6vsAzBM/AQ2CmwHWb18C2I8zAmvLNv9j8xsAJIc3ABK/iwDSMScB8f83ADM/NwFs1PsCab87AR6U2wHzzp8Bn4MrA2+dWwE7EzMCo7dLAU5TNwLOxysAtT9PA7+fRwOoa1MB/LLzAw3HMwADJzsCagz/AffnQwJaJwsB/lLfA6w6+wP+VQ8DswaPAj0GqwBLPs8DaTrbALz6awLuirMA2orzAFze+wG+NrcDS+KzAZ4i8wFD0S8CUFr3ADTaqwM4Bv8BllJjAYoyYwOXKu8D5frzAbz2bwJP4nsCFUaTAn+K5wPyoVsDsir/AcsypwBlojMClCLrAKmkLwFPcv8AFaLnARzi7wJi0oMCcPLzAYbG8wFY4scCPi7nA0HS/wBy5acByG7vAAUy+wJ8vu8CmJbvAsG+fwJ2xu8CFKbvA9/W9wK8Iu8CMmLzAw8KawDPLvcD1577AI5G6wIlGu8Ass77AkVC7wHGdusAL4ge/0EmnQL7hT0A7FZhAIIqYQDDge78klIhA+OKcvwGBor+yUKq/99+dQMTtn0BVaKFAjqKVQEftkEDFNZVAhJ6kQEDPoUCARZ1ABXaSQDoQo0BGHZZAQ+mfQMB6iL+P05y/NduXv0cXmUCzSrJAsE+bQHJhtED23LdAT7CkQL4ZqkCEL7xA9IC5QMjppEAmfrxAzHmjQJTnzb/bnZtAfFmuQO4QrUDdKbpAfyO5QN8ypUCLeQdA0mCzQP3Go0Biz6BAcPezQB2mpkDKx6xAfyTTQM/LYkACIqpAKaSlQAefpj8XfYo/oo+kP/lv3j/yTpY/AimCP27RJz+2O64/7yGyP2lzB0CoWe8/B77SP98dmD+ZJDk/ov1XP4avuj//JOQ+SF92P/Fy6D+V1Yo/yJlBP36amz/TO4g/3rG/PzsMmr9cRes/S7JZP8HRnz9w940/N4zTP1sFeT+Hrh1AyvshQDbJIED3kwxASKEgQD8DJ0A/qhpARfP5P98TB0DcrBpAKcweQFUGEEDW/R5A/vYjQHukEEDo5hNAgI8fQHsQIkAXrR1AomYiQHhCIkCcPSFAkg0fQLqrIkCtFiBAvCgLQAwzI0ARhCFAIysgQJ/+HUAi2B5AfPWCQMuRj0AomYE/RrOnQHs0kEAU4IVA862XQHOLjUB0loZADYCZQAHHk0AxU5BAjdyLQIv4lUB6iYpAcJeBQK1Vk0CwlY5AtXSzP+7zlkAWtotA+lqWQIAi1EDE+sFA8ZPsQP+ujUCw9otA5YqIQEgQj0AZ7oNAFF4CQKCPIT8oc5Y/lDkHQASSLj8ZyNc/LPYTQBCHCkCAHwVA+0EMQDUwBkDwiwJAkpWlP9PxCECmNhFA7/cNQJ8p7j/iXAVAQC4LQNol2T/IlAVABo0MQC40CkB2YwxARHsMQA/YCUBCnxJAIxAGQBKD6D/cPhFA2O7DP9uOhL57rH0/llyzPwjV1T/aBgRAKwCEP+h/oD8uKNM/ThyDP5lbuj8u3Ks/kfBKP9JDuj9BbnE/7a/gP7pSOMAg4K0+9IK+P0SdyD8sSmc/vfJ3P4Yqqz+SKQFABJrBP3iUhT/578c/O1fBP3fQvD8jnb8//rptQIWJ0D/rrSbAvDCgQMsFIcDLDRG/CykIv83rMEDzA30/tw1rQH8pdr/qEUK/UkCPv40pokBjfmRAKhCGQFgALj/EqZm/5+f6PqaoOMAlB5a+Z/HgPgT0hj4LQQE/tjzRP7h4N77xTzs/DOzMvU56AcDWKgU/Z239vydjUsAwwqvAl+ZbwNqW479ye7DADUY9QNJPnMDYBTnAwkuvwAt6NsAoKuNAdaOfwFhMuEAbo6DA5VWiwO15QsBn3J/ADKOrwCCmIr8Zo+tAk0q4wOIbuEALaKvA0RQ4wGekncCCAKPAypahwLhjvEANaTvAm7oEQMrHQEAJ3C9A88WqQGgkMUC2/WM/ddCIwEfQiMCfso2+fxfFvmnQEr3MwBg/tpWXP2C/dj7oPnDA33sGQCmog0Cm892+AbuNP9wXN0C97T1AN6qJv5JS+77QiipA8s3FP/3JL0BBVyRA+TBuvwojNkCb3uM++bo3QODnzsCqphjAzQ7PwP5azcCB8MnAqpzMwMdRy8DjXc3AUyfqwIZK0sCEhcnAzcHLwHcfycD9Lua/gvLPwHke3cC8hsvAkqPSwOq/z8CimNzAbYmfQE/k4cBx68rAxmLLwArGysBxPdvAO4bNwOnmz8CHGMzAkWvMwOmjN8ANNeC/yuFQwLGjX8CdZFPAEqY8wH0IlMD6T6vAHkSfwBe2n8DvjDvAciMvwHcNoMDHbiPA/GWdwFZlXMCbmVXA3eQywPEU+zwAzlzA/zhTwJLoGz8t9iDAbqmxwOWwocDB4fa/pgugwENvV8DrkFTAf/5iwCfOGcDsVjXA1ltsQIm+NsDoei7A6cULwO47asB6DDDAJSQrQOGVp8C0FpXAJBZlwBpWmD3RKaPABbKzv2umOcDolJ/AsSVPwOiOGsAY4EXAVt0gwJQ2LMDSWYnAArBgPwnqnMDttNA9BpotwO36CD7IdDTAIuSXwOscHcDfoqfAEKoMwEWNhT+fm27AiAqawFsQcsA4Y0rAIq+iwB0/nL9sOrTA7FxhwPKflb6E+F3AbsCHwGzVXMCgcInAinpnwGE0xMBLUy7AZKlNwOWAzz6DxovAlDSdwGDtl8DUyWvAWI23wBFGbsDFIjPAKlbAP7MzKMBJ6TfAZ0BTwIj8ScDngfY/E4OmwPFTRMAPFqbAMSpbQOJQ/D9bs4S/1wqJQN8ahD5dti5AFhOqwGZ5qcBRadc/wPpOv8qkI0AgZSrAXXQuwEaeur2WZS5ANu/zP3wt1T/I9EjAgTfkP8uURcA1QqQ9rIwkwNTIHUDp4t5AzHClPz2WvD9vdIk/aiIZQIzat0DWgKhAE7OQP4EuqUCOadY/H4GyQKLkuT+ZiTQ/C9q6QG1aDECYO4hA5E96P21IkUD9Lvw/23SXPyy7vUDidrhAqQ2ZP/Ru8kBg2Iw/Wg3HP9vM50Bz1r5AWQyxPwJRQcCrO0LAdb44wI9yQsAjkkHAFHdCwDneQsDpl0LAhLlAwKTqO8Dq/0DAj+tBwM9UQcDFTTnArVg/wJo8QsAmukPAMFxCwB4DQcAvKj/AuABCwGs5Q8D8tUPAVadAwMnEQsATv0DAjOlAwNWMPcB0VD7AzFFDwBQ2MsBtFS3A2XY9wJOeMcDKxSrAYY8zwHXrMcC7KzTAvwcqwL9FMMDYdzLA5d0xwIFyPcBSjDHAbvU+wE+ONMAVEj7AClAtwPrSPsBrJj7AyDMuwDgiHsCeFzLATK8qwGiePcAlBo9AoRE+vvA0wL3NGlw+JuHvPSIXrr7P3EO9r3+bQGLVaz3tze8+tt7WvdlpKr55KYa/Fb6RPgIsIb/MaU1Av+9HPtzYnb6+UAG//+1bvzjmKUCGeRu+gUwPv7FG9EDltLk/fHShPgeWgUBMLOC8NXzZPx6dLr/awD89VSw/P6lUB75kfirANo0JQKHUYD9EV+u/4k6yP//YhL6Jyva+C0SSPY+ZEkA5goc+2D6pP1pGyD/4loe+InapPtd4i7x1KhS+KNwFP78ecMD7wWs+5K8Xv2U7C75FLDQ/urOSv8hXXD9vevQ/URoCv5g7IUDHatdAIn+/QDtdjEBT/bQ+JVPLQMEJzb/ox1FAWInNQMAz2UC7ttJA64zMQBnCr0A7lcpAX0fjQN1CxkDDSsxABVTQQEkn00BXDNFAxg3EQNH2wkAmZtVACdHbQFTWukAwZcNAFcXSQJZI60BlmdRAZ97PQKFw40DSZKtAuZirwLsU00BA/afAkqvuv7U2sUC+G6vABsiowBg/qUAgAK5AZiLJQCO7qcABSK5AbkyqwKM4sECHN6hA0xu0QKVwp8DDuqnAjfGrwA4prkA/V61AFjSpwLVmq8DI07DA3xGGQNVECEDv8XBAxPd6QP91hUCdyn5An9eDQAkwtz8sqW1AijJPPntFcECNs+I/Rl0MQA3Pjz+LYuA/VeSDQKA9h0BOTgtAtIiDQJspeEAXU4dA3lSlQM4rh0A2Yq4/wVmCQBGNh0ARgFZAHz+EQD4GhUBwmm5A3LKkP/XSzj/7sc0/6Z6VPyhbyj9SyHQ/HSF6Pvjlsj+As+Q/b5aMP3MTwT8TTLQ/suUFQBex4T/uodo/idFQPzosLT/8e9Y/4CL1P2O7Iz6Mgcs/Kp23P4afzz/g1zc/8xCLP60xAj/wlMI/jdGrPwzpzz/hbks/9sTaPyqkij9dOZI/7OJaQEVc9j/w/LY/67OMPxsyQEChbRtAwX+EP/Ovwz+FHx9AKzQ4wAJ9J0CH9RlAcbrBP6TAmj+WAUtAQgE4QJBy4D+1+lpAn19FP6AVhT9ETDLAIkIfv7ryMUC6wNFArL2NP6ZRPEBxdGQ/t4y2P4/SST/OhiHAKTVbwG44XMDcNwtAYQemPxbkCEAgmx7ArwhcwGdnXMCJPVXAsZdWwJeSTsB7EyLApL+OQHJDVsB6p17AitRxwBSLNsCxZVPAnMmRwMtXX8C8p1PAAxVZwDZ94D/IYiY/HpwOPxnKS0AfIzLAFspZwEnU9EB7svJAR/zpQHt57kABLrnAYBfzQJWuDcCEzfNAH4/zQBIO1kDzDu1AIiLyQDO58UCZJPVAyJTwQK/C7kCzFfFAftHnQMkl8kBI9wDAYM7zQNib8UDXuPJAmFnwQGPR9ECNf/FA3e/zQIRd8EDRXvBArhbuQJUvQsA28OO/bTiOv1dxub9/emW/wl65v0NzDcDTMWc/6SnVv2+LvT6ycAm/CXr0v2v0lb/SMbi/3Tosvzs6MkDu7Uu/cBC7v9OYhr93XrE/LoFovwWzsb8pnlC/Cpa+v3QvUL+Ftzq/XplOP4Y6Z78AZpC/wMaTvywgiL+NyUxAfqAxQOhaTMDidDzA3AEPvkNeXr+flgLANGiTvwRQcL++GOw9cYtQv0Z+s79Y7SS+oFimv0J1Ub9PLKG/hetIv35oUb+tUH6/NY8yv2EySb+G1Ly/JguZv+WcFL+Byxy/UtWWv4Q7e79Emv8+dbGOv6PHlED3bJRASmyWQOK6lUDfl65A6lOSQDk4mECVPcFAilqEQMnjm0BrLYtAyByVQBsWmkBy7YFA37q1QG1Mv0DLUJZABK2NQIAqmUBFtI1AT0mmQOFDlkDlEO5Ah/6XQK6ElkCb/9m/E860QNEleUDcY/8/jkOtQDOFBkA4C/y/YXCMQOpQr0DixfFA7Ne1QC0NsEDgxbRAjEadv5m17z+L2dNA6mecP1zMt0BxIGhASrpnQLt0WEDGqm5Atv6bP+c8BcAIWLBAFN65QFxihUC8k9E/c8aTvz9uQUAES5xAgi9dQL4OkkCkYjtAHqxkQAzzmUA5CitA/41FQCBVYEADxH5Aey0tQPSakEAcIzdAMg2ZQDvmNkDaBZ1AUFnKQPO9CkDl+NNA1/2YQHFIlED6djZA2bu6QE2Ti0ByAK9AMdSAQJS1lUBKX0dAtBVIQNw2MUCiy89AQYSAP7Q3d0DuX6pA7du6QGK4CEDrv47AtvxYwI5dk0BLfqzAHsXWQB8gRUDZaaTAnXKqwGFM4kBJQVNAjL9VQH4WnsCqgq3AnvHRQLi62EBp5qrAGrcsQNzwy0D4KehAJL2Qv2phQMCsx8pAQ29BQIXl9T/SNcxAVBw2QIqxJEDMx2hAC/ZNQOEQs0C0lGlAknpPQKB1Z0AKbJdAq9iUQDW150CEujVA3FmTQGiH4UB3eBRAlJJlQDKdU0Bj/E5Ac+mDQPmkY0C/lJZAInqhQOK92EABIpFAz9OyQOxwoUCejcJAT/9/PziQ8kB9rdVAhr3AP1EM0kB9ees/wnsCQCezK0A6ARpA+nuvwHz9/z/8vqg/RjbePyLx6j9nU7O+9tzZP4nk5z9oOonAFnTrPy7T00CxyJg/lO51wNAzAkBwhxVAUjMzQLJCB0CUWjRAS/HMPyLcvD8FKcc/ND7SP6R2lsAO0QtA/lhlQAwUbUBUF0JAKtk3QBWeRkDSxzhAGvsuQGJRLkBWzAdAOArnQE7sLkCn7TVAEx+yQMy/EkAsJzNA1BxEQJYbDkDj2fNAlrQnQAsBL0C9GM5AOY8zQN0cj0DP8QdApyYEQHIvrUD2drI/4TDIQEPa378IOcO/3CuYQJ8cO0DsZUy+16q7v1Y8DEATBKy9c1JSQCmIy79Mh8a/kiphPiuaPUCoMvNAhF/TQNt2zj9EpNG/dZijQJRwwr8CzdC/T20hQC7mckBaHShA7eVKQBXAxb99VqZABtNgQBLmR0AWnLS/FGsNQFT6IEAaiPRA/RWSQHw+nUDAvVVA7xmIQAZDw0DiSYRAfUxNQPtpo0D/C6xAXYmRQM1FlEDgd6ZAXnJZQKXB1UB9lINA/ZCmQD8Vc0AITZi/sYamQCU9k0DkNqW/ncp8QOfw1EDCAsJAEjxUP/58KkBVOVhAWuzIQDVic0A8ULu/pJkgQK7C2EDpGS5A6eYIQG0wCUDQoVRAAkM8QFPyDkAeNzJA8B0WQBtNK0C1OtS/k8tXQJ3kc0BspRRAR3HCvw4LDr5DGsG/3Qj8PzARXECNhxFAipQLQKLctj5dQd5AEdS/v+1uJECv8cZA10trQEReyUCvm5NAbJJ6QK6AO0AIM7ZAB421QAiJikAGvYRArXaLQKgeg0C5mY9AWkeXQGHeYEC7NmZATCyXQJmIjEB9839AS8yVQEbdk0BU2GlA7Rh/QNaqlEDyUQhA8NRjQEPue0CkUn1AJQp8QDCTjEDRDZZAW4+HQADGe0CoYo1A2fVbQLrcg0A/Uo9A4u6TQFn5i0CDfZlABpxwQCySP0AzNJlAz9toQOYvhkBM4GxA8WWMQBn8lkBngYpAhzmFQFufdEDItWBAsrejP5wblkA1ep1AOVWRQBhFh0D53fs/FmCHQBSEK0Dan5VA4ptkQJYwl0CgZIpAtWI6QGxMT0DjLApAqy8TQPft0kCUrrpAg5A2QETH80BA83VAlHXIQIe8a0DLQEFAAbWSQCCPuUDDG4FAu4umQEu/vkBsClxANJREQGLsXED3v9hAYXHIQLbdiEDMNjZATe7QQFP4d0C7ws5A9HxoQMe6fkCPaMdAWmTgQFKEhkAqXHNAXFKAQLgfDkCFk4NA93VQQPiVikBtoz5A5lvgQEZdjEBMcoJAb3p3QPUyekCzTXFAMftmQMH1fEDUoE5AgJrYQMXbU0CE7WtAsrOSQJ/YOUCPVoJALBSHQB51dkAfUJBA4nngQHAnYkCUgIFA+FzfQGUMqkC8eX9AOsqGQCrWG0C8UYFAwcSvQOM5WEBOvKRA94DSQIt0p0CU40xAOyucQGJaW0DiVrdAl5iWQKF4ckDx7ixAEejCQJJmtEBxHmlAkWqBQCYwtkDDdqNAM8arQB6inUD8+jlAB7eZQGmyokB9Em5AE1qLQJ8Tk0Bbqo1AHyFSQOpD9EDHqUc/FNhgQKG1ykCSe29AxwWMQBOjCkDP7oxA7pDLQIzpgUCIfGtAvv/XQHN7jUDBmnhAs6ZMQD+xtz9nPYhAbkxbQOFSeEC+6oxAb7XDQBXBpMDTWW5ALUBbQF+Yi0AYyZVAjmSBQL5TQ0AHkFRAhRx4QF7A6kBNKNVAwOzUP8PpMkDPFsa/0BxnQKNzgkCwruFAloEgQLFO3kCaA3FA8i2PQAyl2EDLaDVAwA2XQP4MwEC2DjpAcGNzQMv3EEAXy9BATQ1SQFfFVkB/Rh49jRBDQLhKzL8ek2nAInPQQPmhz7/SsZhAHubtQERuFEAJv8E9f656wGpjGD9R776/IEQCQCOa2D/V/ilA8bXpP0bbDj9yUci/2Wr/P3nLNEBRz3zAGWk4QC8qyUDtj7O/rkTNQNeBtT43O/Q/UKf0P8VLIkBv4KvAIi0nQL6jFUBR5sxAm5OiQAK5sUC0ldpAqHpcwHVWsEDGJsJAND2gQBwCsUCJja5A3n2tQHLLpkAABLJAy5eZQP20gUCmPalAd+6xQGah80CVlJ9AqJ+VQOF7JEDlEalALQ+gQO+Jr0CmL9NATfnoQHPv1UARjLBAHlV2QGIKsEBPlQtAWrfvP2mN7z9ERsZAlR5jvooVzD+Sy9xA3hoPQNVdLUDVaYRAJ0mhPxjm679XzQNAJyEHQHD/9T+7C5NAiefbQPrl6T8BjMI/RHjTP58Z+z/KBds/z8W9P5v+/j+35elAgpYJQFo66ED+0rFA/CsWQP+IxT88uGg/4NTMP6veZEAyEc9AUYABQIsU50C6jVRAfs3eQLja2j/UmBo/zP9FQD192L9mfgZAGJr7P2J7zz/ncqM/XZqSQBc/Rj909CtAfifgvhl55b4FoRhAfysOQLE23kDkyA/A8OIaQI0g70CLqAJAhs3cQLkivL+Yasm/9cBev4U1P78E9fi/LOLAv5orVb9LUZS/oDGHv56/1r4X5+A+0q+ivzUoXr9RrV0/9NC0P9AhJr8qzym/5644vzoy1D9mH5u/prKCv+Gcl745iDS/tMBrv72Wqr/xNGq/fGRDv3FuXb9pNXa/kwZYv5Kgrb8i6C3AJRKjvyEEwL8n1UrAEs2yvxffOL+ZotO/bDEGv/Zsxb9I6gU/Ny6yvtN47b46eqi/96fnvrnMxr+JF3xAhekewIcfDcCP+nlA8Ancvy8Trz81+XG+qnCBvwlem0BUEbS/O+pKv5EaqUB6SYC8jFkjwOFIx79xek7AzPVawJikYcAr207ASx5EwDv/OsDKnlfAmRVkwMEEYsCXvqu/6VwDwGrDaUAyiAnA6UfQv+aZW8Dpp1rAppQ9wL9bV8B/qmxA9/WMwKj7zr+8vlPAuSDXvxrbhMDS91zAhgEIwG9MSsCrEl3AfFHzQFPfQsB4W1vAD8OdQK3S9EB1Or2/7j7Pv5fIPsDr4WvAf61DwE2vL8DVMEjANfZowGzoBMA5yNa/2sZowPUHMsDR6UrAMqc2wKULa8Cs4FfAZMdgwKLIZ8CuyFjAXppTwFDgNcBImPBAALZhwLZ4JMC9AGDA1LtUwM0tH7+QrEXAjBMBwPwcMsA5lzPAs5wvwKZoEMBp5kDASAovwOOhPcAZVmC/K9IWwLt5RMA2LjbAD6sRwOpIN8A5HfW/vCc3wK0qNcA0pDfACckfwHGxP8CVOPq/pRI6wMdSLsDvLDbARQ/GwNKkOcDTPD3Acbs1wEION8CnNp7ALsaVwFUWlMDLwJjAEM6WwLEXlsBhSaHASeWXwLvDmMAhCLDAOPyVwFVmmMDmqZrA7heUwO+SlsCI05nAKsqDwAfTmcAOdKLA5E6dwFOuhcC3RqTAftiYwOi+icD5DJvAnD+awLwGl8Cll5HAT9ulwCqbmcDPgq3ATQelwKTVoMDoeZrAqte7wJA+o8Bqi53AIUaQwGFzocCOYp/AtDKhwOhVdsD5GJ7AR6iawHk3n8DmtqPA+VqiwMGOpMAsTaLAMQKiwOEnrcAXUaTANqudwDvPm8Ai/pzA4eWfwIcJo8DKJ6DAa4eywDyVoMCbyB6/9XoBv5yk577QMVa/vzA3vr13+D9vLxFAxbHOP1Hi6D83Ew1AdNCCv7xH5D8pEAhAiiRhvy8T9b7m8Q5ArUnwP8qoKr8e0TW/AxtcvyKq7r74T9A/eJ+HPyMoHEC1oTu/LW0Wv4njAkBu6JNA1laKP1r5sL+FwxhAYPorvxTu37/AERtAfdtBPi/+Nb/t9pY9qj5Zv0dPcr8hD6a/AXdcQCk4375MPf4/W2E0PQCO3r+WHYC/ZaXKv4f8d0D5hSzAuUlkv9iCer8Rp/k/HwXpPdamg76rVvE/gQoRQHNxgL/Yi+u/EN0CvxK1TbnO/Gm/6Z9xv0mE0r+xE9u+BJ6OvlXlJj9Bqlq/MPpvvzqRKj5e+YE+9X4MQC1jVL+N3Xi/F21tv0xdNEBSkj1AUXx6v5zfBj+6sRi/ejiHvVCpZ78HgwtAb0ojQI13ab+3KWe/kdz2vjgBD0AkNX2/uSF3v29yIUAtWxFAEP1UQIw5BUBlkY6+r5dPv8foZL/0/le+1FPYvYrQAUBGWJ++M8KavpQ4/j95lgA//uawv/Jrl73TkLW9brGtv6me677KPQhAHgenvaOoKkCbOhdAzQRXv5pUyj1QWki/vSzzP+E/dL/xHu8/f9svv5rGi78YMdM9CJJEQMkBJkDNUja/1KpNv1mha0CeKQzAlelmv5f5jr8xybW/PpoOQNDonr5QrQ9AFneQQJQcOEAASyZAvRQRQGLnZr9ApHW/8Gdyv/IS7T5hQV6/t/BgvwQxaL9vG1G/MMlEQE3Ecr/wBIu/g1yGv9cMJEC0JDVA8xEZvsXYZ7/WThhAimwgQGGp3z8zodO+u3HUPylegr9fAVVAZpfKPmbrJkAoGARAsINVQEPhZr8uUGQ9zd0FQDHTJkBPhEy/nlq4QOA1V7/TEQw960aDP5qMNUBRHS1A6XNwPapDhr+Xd4a+u2j0P90DCUADqKA/ou2BPzq/qz+zphFAUlUJQLhBBEBWffg/BKwCQI6pDUBXnQBAlXJmvy7NJEDdNCRA77xev/6jEEAx1TlAQmFJvzWfQL/FCh5ACQRJv0Hw4D9ygAs/FAjwv9oDCUAAmxtAEjedP2AkDkDMRSJAy3MRQGRIEUBRtXxAj68Fvhu+1UDst5JAeOpwQLBY5ED/yYdADau1QAuulr2xCqW+XiqeQOLcQUBLGzVASJOyQKcigkAcq6XAGqebwN8UcECWBFxAthvkv88PWD+5ov+9gAXgP+zQW0AvO/g/KGMHQP/VuUD2QJpATk9XQFNACUAxq99AizfoQCdE97+Eayq+8gTeQJriQUBPscQ/Mmj0P2lY7UC2sOW9Tkrcv2CI+78AEetAJfuDP+OCUEAOq+dAZCK+wDrIjz5fHJi/2mWwQPGehb9I/6jAXidqQFCS6L9nROhAuOLDQF25IrwQigRAH7TnQER5bEAT+IxAItOXQKvXlEBtlo9AMc2dQDUZWkBhwZtAW0iXQO2LkUBSW4xAr9+XQANKqT80gLNAa9DCQCyjjUA7ZmhAHEebQOCSoUBx9G9AUnUSQJcQkEDXo5BAnNrdQFX8mUApt5JA9xCYQNsj00DCM5FAp8LfQCJp3kCmp/NAAiUvQBQx6L8xB+s/9tjWPwx0+j+due1ALJP1QM2gUL63MFtA/mqaP/re6z+QgRU/kHoAQIdiXT8LzDA/PqmiP3jdL0B/UV9Ay0LmP1oWMz+w1g9A0wwbQDysrL+hJ2ZA/kUCPxC4Xb+Quho/vo3Nv7AyxD6GQ2e/A5NCv6qDVz9oNNM9kT9jv/fhLL9zlCO/Mof1QITWzj/EisI988vFPsKPkz8hLX8/qBcvQA02QT+hwgLAuenyv67OyL7d+yY/FMDvP9GJUz5IEK2/OTh1PyrHVr79HrK/x0xcP0xBV79XGLY/C284QCJMMD+oozRA9vkvP1OaGEBHq2G/8cUSQLtOsT+kHfNA3pEHP0cy0z7y/Os9RsoOPyRmf78w27g9oAEpQCyY8EAdlZW9HlKwv32LG7+Hfnw/vzhQQMjAM78A+D5AwlWcvrwWYUA5yUZAJR6Bv/YQnj1Lp48+iYMGQIOgi78ePIa+IQ03Ph1Anr5K2QA/h/ryP9gRxT8IOqK+ZqJVP/sep78mluM9XXLTvqZ07z7sVFy/1nk4P9e+Fr/4MVG856xpvyvvRr9F6L0/lCaHv48InT8O+W+/pJtUP2ch9z9Jm74/s1vAP165Xj8kZilAB6PRP71rFUBRcBtA3z83PlfFxj/1KzO/dDCgPxidUD7q/Q0+1xY2Px3w578yhQ5AmkyOP5mRLb/ehCdAy+GXPlfjoT8xJpa/ngk4P/wUxrzrVSo97fYMPiCfBEBgDak/tT42P610Zz+nTrU+9ANzvQo/wr+oUD4/+rGCP2GDRj+uH1U/Sq0yvnzXcj56eQ8/IyWCPVJtM0Avqf0+u7/0QFAqpb6F4sW+D4g9vwQ1fb+llKw/prguPx9Gdr+b33u/YVLXPkVe3j9gjQ4/TfiUP6pGaL5bVcc/6w9jvnCPuD92Xpa/fhyBPOh68EBxW74+gwhHPzWJLECBARc/xqp9v3I0Kj+y3Io/CnY0QGJ3N0D9/Ym/rPJfP1R6mj5OCi6+NCG0v10iMj/UPj1AIHPHP/4AyD/LhC1A3zVbvlsRkb33kME96S41PoEakL9iaHw9y+tgQFH5OEB2GGO/uYUdwHDvUkAhh0XABvJXwOg9qz+6vpS/22XFv04JOUC6BU1A7zphQJgyKL7QfEXAsPM4wE4i0r/F1TbAAIgzQKaSg0CygzhA6v08wDLCnr+IVfBACWmGvj5Za8AObblAbmOXv6k/679NBAZAyWoGwDl0UsBvAETATvnzQDFaFsDskdnA1BrvwOVZC8BGLvRAyfgVwEzJIcCrAwTBy3kUwO4aHcDPuA3Aw5MWwL9EIcCa4h3Am3gSwFH/6cDF1x7AA3cawPbREcD6hRvA+CgZwOnvFMC/UvPAje/UwAHVGcARIwDBO+AiwMEEHMA4ziHAv5MTwBxcF8CISg7Aw/ZvPk24EsBGSRTA6tciQBDRGsByDyPA4gURwFWyD8DwlDxAPLcOwGfBEMAo6gnAWtAKP05DDcDlWybAQ50gwIiFJMBoqyzAd0rsQMLtFsC19hHAdyYOwC1R8L+Dk/NAc0sJwDikjT81IhjAsxaNv+iuZr6T+F8/lL2fv8JE378jvvO9ONI7P9wpMkAZ2hq/imYfPwYqUUDhpHa/MBipv5q69UBKt4M/Sl75QLqkeb/2eF6/HlcHwFYwnb9MCvVAlymYv6r29EBioQ2/NqR1v7ccCr4XIvRAmNyGv6/X9b/WCrq+2Cw5Pb+6Eb/oyM+/a08gvh4xoz8PtUq+8CrdPhBjzb4MLvhAZlfJPs9xxr+vj4C9lV9RQCJmuL9HPVo+Ne2Sv2EFLD5pqdi/rCtJQGJyiL9+V+W/5f4iP8DLN0CKaNC/Zwv4QFgFVr3wovRAqAo8vrwI+EBBV+C/by9EPmH38kBo0Dk9zeoeQAfdeD/tQuK+jJdgPnkwzL6mzqzAQDXbvjF84D12bhY9tttove97MUAKnTtAk3SsPm6ekb1Yo5m8FyWOPjmXUT59cfJARrD0QEIj8kCptRs/7EQIQDTlwj+YuKK/PbKbvgG3SkCt4ty/SYZXQGoPG8ANUu6/0MQiwPIa5r4ypFVAEUwQwDbRGMAdMHe/i4NBQN0SHsDNuUK+clAhwGEWQ0CbOGpAN3VZQPq+M0C7byDA7gYuwH+FH8AFEPBAUNkbwFPRIMAtjmY/HPAewOHJRkAFMERAgOJRQE/v80DFVkVAtrV7v2rjXL/jjKs/WLx4PyZs1T+Ltlg+FmcewHpnur9uJAXAMQVYP6/hUL/wRoxAFDwqwBKq2r802K+/7hQgPlU9wb+MRK2/nofWv2qQsr8iEjo+o9D4QIVqir80upe/OuOBv155hT/UZhzAG3XRv8Irp7+fGi9A6oekv/kP90DCoBRA8d4rQJpv9T9FsuE/RYTcvxsEYT4r83+/mvobQPti3r87F5g/wUorvq35eEAM3ChA1XZWva9Wqr8S6LY9sCkkPz7XFz1NTfRAon67vXeyjr1QevpAbt5fQNztMED9WIG/QBkfP0HudL8oaERAnx9aPZ1X7r8YneI/MYpLQDgtOUBo4AbAC2rmPi/fRj/iDdc+u0hWQKmGCb/BLdk+SZRiQGdR17/O88g+iFgDwHwjuz80eOe/7rmNP3EXpT/z3vhAFdaZPsgB7rqg5T0/ba1jQFoUHUBNsOU+RLihPUdgVbyL9eW/kreIPSj0Rz7t02pAAx3Nv1/SLkCICK8+hN5iQCGXHUBN3PhAL+hmwG8nUUD8fVhAjjsYQJTdKz6aFrI+R4DxQPR5wz5lV8+/P3NlPqyx70Af2vFAL3/jQBEvvL/zcF9AAKXAPtHN47/L2iQ/3vWNPhgHE0DGrTk/8yAJvlcO6b8Oj8m/Ez9mQPp8HkDgZIa/5oZgv2Fqnr/p5xq/f1s5Pi7w5r6NVGo+FtG9vxtR+7+Ifgk+3JhVviMfJL/OulM+DefJPuTNdj+8BwZAH9fjPSIPZr/QsrO/qmIRQA6Fw75mgjXAJduIv1da+b7Jja6+q9ESv2ja80AthSS/fPeHQOQlC0CnKkBAuEY4v6iZx76QcpY+oGAaQAt4xb8UPmVAhuyQPs3jNkAC0r+//G05QBJpfj5WgjNApo2vPrUGWUAdijtAF+vbP9C51T7YdEQ/4N/1QOOoN0DBeSy/xfrwQOhghL+lV429NTTWv45A8D5lIwHAU5KvPrGm9UABzDZA0XfpP6+vkb/P7dC/4JFdvw1a178u+wrAacuQwKebtT/gCPZAl7C8vyuYM0BNhcQ+BWwmP/u2qT/lwBU/UHvSv5xXRT92YD8/KOztvyZkyT8lRM1ACxsqv2d//z45Mny/8N67PVN1Db246o8/OsBVQClzUz9RSRE/XtT9vgxXRL8Iw0g/sO3zQL0qZEDabVI/qo+GP9G/sD/QQPI+0H4pP6g4NkBPhRM/k/jtvvN21z7pNlg/Fn5TP7Qwpb+I2wtAA7W9vw3FSz52gR8/0TB3P2ufBkA2ptg+6N+uwPZN+D1tY4M/ofECQBpWEUDwSu+/4iaNPwoKyT7k+Qs+F/E9vgf8QD+OOQ5Ay/+qP6n7LUDBJgZAqSz3P1mOsz9r4DO+FOOtwHQLVT/gg4k//bBfPzjE4z97KnI/R3x6vlhg8UBlQFM/mtC1P40Flj/V/WI/P4CoQDjcnz9XSXK/TLtfP4DU7r0CYbM/AhPBvyuEdkB2GpW/jqieP1/CIL9fqeO+UC+iQC6N7T4id2k/3kH0QMQC5D9YRrdASmimPwYNFUCL4cy+mVZcQL3d5UBojAdAUNJ6QEG8Xz38xbdA50cQvTbGBz+BaY2/3nCtvwGLLz8bSrDAMfqiP7ArpD/tcxO/heWMv9C6Bz/E5sw+Y4lxPzrAqb9tN3O/keBzQEKSPUD474S/Z65KQFFCBb+vInc/fgd8v28W9j9acpa/oNMjvqD3rj5/uAU/+9EnvmCc7z+sMq3AK2czwJUSmr/YZ7M8F+MFQCpm3D6kw24/4UfCPhu3oj5K7So/Gt8sP+CwGT8rp0A+CHqrv6XVHr/lD44+NaxJPzzDyj7I5C0/22uqvuIToL5X1nQ+E5/HPk4yPz+hxqQ+ISj1QIUfFD8RBIU+FImNPo9Laj7x5q4+yAZNPuti1D977vM/gOIYPwk/R7+OK0u/+5ylvrVBGsD1yXY/I1bMv5oCJ0BH42a/pP6svu2ul76Q2cy/VJ5qvDBgtz09E4K/zQBbvklSyL/WhKO/ZPXlv1J9yr9sOiY/CfvsP5eqUT/PIh3APT/gPoDLz78INVM+FjGFv96G9L+KO+O/aauNQBpifT4TNKM/eZjwQE9zQUAKHQu/X+jyQE4T8UAPp/JAMj4qv730PEBQ6GpACTWyvpLJDkCIoAJAqOzYQIQs+cBfuzK/ov95P7SV70BBE5VAyFG1P32iiED2kJlA40yNQI27LUC6VuhA1SoJPs9DDD+xBt4/QLYwP+CxtL8RmDm/31V+P1IJpz/5Wp8/Q/Tbv9cHkr+Rt44/gRCYPDRHFEDmeGE/HWiaP3yhFr+agaQ/WeQVv+i7kD/mVRlAHWgHP3N2Tr/yMu4/0NMkv0CU+j89J5M/QUuAP0+sS0Avb4A/tMAgwJdRTT8MYZ4+1069PjLIW0Dc5m4+ViJ0PS6lyD70Z2G+02N3P/fZHT/md6E++euuPvOLk78a9SK/lOecvQsymb6gE3g/96TcPu1dlcDN+bg+9nLvvQMvM79k9Ek+pyrbvUnb2D6FI6e/ks9Tv9ii2z74XkM/Z+X1vAgRL0AUsSM/QzFCQJY94T9sEExAUJ5KQLnDC7/0UsW+A8+DQPV/dEDfAgVAjfhGQD0ODT/5Nn0//X/nP01RoL4bO49Av3DyQDnbp0BkxVRAgGHIQBCGPj5OMwBADBNTQDBfjj+rlcQ/VpVbQK9iwT+5km8/exSkP9XQ3b+aQee/2MwyPz9n9b0GEJy/MFG3v2gtmr/0tv8+LYM0P9AkHMBbRt0+Zkz3vVhuu79KLOm+KCD0vFRggL9bHpa/QzE1v39JKT2A2YVAGK8/QEZMOL/R4ym/ebCTPn9IeD/kEwq9bNuNv+SdWb5KL4q+g1J5vkv3Tr4BgLFA0tHFQNGsfr4n3oq/RarKQHaGU0AAMLJAfFmzQNc3pUBwexI/BB2nQC+cu0Bf4rBAEuVRQHZWikBsqr9A2O6xQEZCPD9XpLFAWn61QIKJuUCrY8ZACgSpQIustEBJt6xAjBe0QJE9q0BEq/NA7W2sQFL5fUDM+pJARV2yQF6FpUDi9LFAH4+wQKIg50CWda1A/8GrQNbtsz4Rc4tAZ9ulQAgr9ECI7fRA7/F0QF1gk0CKmOVAM/9yQNlFs0A8noQ/w0q3QIDNkr9PCIZAlDyYQAzKnT9adphAhCoEwLdnrEAmdIhAk3exQJR6h8AHDoXAe8WGwB8of8De0HvAaESBwKBOgcDNR4DA+G6DwEhygMDhuYPAnbGEwPOdgMDDd4TALgaEwAXEgsAZx4PAgrx+wHiuhcAwbf+/jkB6wGK1gsBvXYLAvSl3wLocicAdnoXAG2qEwAvWhcBanInAU7R8wFlDccCqxHTAkCZ3wEAQXMCNl2nAEGp5wJ8Vd8AY7ve/MzXtv7ddeMAI/E6/7tNEwBE8fsBpNHPAtIx/wNXXgcDjuHzAbmJwwLTFc8DlTXbA8Hx0wHwwNMAYSnLAIoB+wDj4/7/AklPAPit6wP2iWMDWP4vAvBVxwEl4BMF4RwbBTK4FwQnsBMH6awDB9xMEwWJSBcHOH+7AC1kEwWMSz8Bf8QXBGwDywKnzBMHOPQTBbX4CwetfBcFJNgDBZ60DwTaWA8FWUgPBwGsEwZ1pA8Hr2wHBADUEwROTAMHwL/PA9//uwHrl8sBfcfHA4hPowKHzy8DOt9/AfqzvwOVe8sC/tuPA4mLzwKaZ6sA+7vLAR2bvwHtx9MAPV/LAwtjywHz478BFk+LAFJ8AwLxJ6sC3IO/A/Z/4wMRn6sBZMvfAAN7bwAVcwsBscPDAAgH2wOLA8cC7f/rAdET7wK6q8cBedv3Ahmv6wPaO0sCJ6fnAAyz5wDeJ+cA7Wv/A3036wN5O+8A7SvvA1AHcwMVS/MD5qPnAbRL8wNZS+8BxD/7A44/6wBwz/sBdN/zAanP7wMxB/MDKiPrAJ435wB95/MB6Cf3At+X7wKKE/MCJHQXBb7oEwaS0BMFMLgTBYlcCwZRIB8EzZAPBOucDwfriA8Fp3wHBbdQDwYVftkDg9gLBFyQEwakrBcEmxgLBfmICweynA8GRdAPBaBcEwSKtAsGnKwLB3AYDwQMeA8GgWALBNNUCwWHrBME6OgPB1CIEwa4n+cBXuuXA9A3nwJG23cDXYnvAQDXZwKN01MAaT87ADF3MwAlwuMDeB7LAeQrnwD9Z3cCSSNXAEvHSwFwD38CqQ9HAm8q7wELTycDj57LAiIz9wM1i58C5qeXAPWnUwLpT58Aph8LAcmjVwNsOvcBtF93Axx/mwBke98Ctz/jAfMn7wPe49sBpj/jAUNX4wB+E+sBGrgLBK9D6wBIj/cCpg/bA7Wb2wEmLAsE7s/PAohr5wPe18sCa6vTAYED4wFu468DchPTARNsBwcIr28D6OQHB/yT4wPmV+cC17eTAGNEEwTrwAcHi4fnAuf8AwcsbakCcowK+OkFqPw06KUDM59w/cP+sQG6QI0A3kJlAkau6P1osGEDWJbBAW6oMvqC3rj/xHmS+UQoqv9bn+z+PYjVARR6GvxQKJ0D53hdAzxHVPrMmGED8SM2/5vG0v2mrikBa33E/KGhJQL/+30DMuT1A1IUqQFaKtsCC0qJAc02ywF5TtsDT2udAjiTwQH2+yEDSIaBAlB6aQJDe6UAplO9Adh7tQEDR1kBTJfO/zHbqQHGj6ECl+4o/ybPuQC4G50CLqqPAFMG0wDu7+L+PMVBA7xG1wIUgAsAMj87AvBeWQHGut8CnL+dA+IGNQPQcy8Bn7ta/+hzYv7xpFsD/PFRAPpYEvXV8ysAJdQu/X3iOPY0+68BKLEdA5jnbvqU3Jz5jIKe+WNDKv+8L2T6OxCu/iL/+vVObRb0EYQU/TvsQQI0dQ79CVSy+5NgOPzJV6kA4l+W+XsXaP1vVnb8dNGq/0NgMwbZRLT+lB4m/HtXPPzI8G7/xj6jA0mPjP6jnikDo0sM/X6AoQEvFIr8L9UE+b+V7QL98GT+aqrO+VknQP8NAvj81eEtABAOSvhfHpT8w4+s+mhuDvyEeV79D0apAmsKevuZ0pz7H/p8/+xGFQCiCIr+GKGC/eJUOvy8DUEAKKaRAdxdxQHHLWkAM+i1A5wHQQGhpTEDyPTRAGcBJQG6c6T/hJyFA1dVOQPok5sA73VJAMwjCPzxbQUDNhlRATaYzQGA/MEBZGk9ALoVEQBVRU0DtKQhAOl5fQGO2dkD7H6ZAx81PQDj0bkBBUZ8/SGJNQAGovUDSBrZA9wK1QPxdrEBf8rtA61OqQEsauEAvua9AJhHIQJUss0Cc2bNAtsy1QAPms0CkXOO/ZQ/EQJOcsEDvErhAdn0DP25trUB/yLNAYBOtQOpbpkDnwrVAb6HSQPXDrUBIv+RAEQa2QPqZskCpQbVAaCKwQOH+E7+oO0O+qTmnQAr4KL8C4zC/OQ51QOOAob6DSQG9E1AwvxfQhj+rXFJAil88PhATjTyWGRe/02jbQIOgUr8sUdK9KEhUv1yvD79u+6VA0kK5P6I5xr7WK6++oC2vQA7Vu0B2v7y/zW8nv/53zb63e6E/A7icPhcPVL9AZTk/tlC1PurTND9LgK4+2DDIv4DU5r8dlHO77lxBQPgJZECNadE/ypvHPwNLsD8MHCk/f7WOPjWuID+QPQk+a7/JvoK0TECpRXo+axKxPvptDUBB5kO9hSsiP3CSK7/SP+k93IElP6qyc79+1GS8hu+PPg==",
          "dtype": "f4"
         },
         "yaxis": "y"
        },
        {
         "marker": {
          "color": "yellow"
         },
         "mode": "markers",
         "name": "class : Herring Gull",
         "type": "scatter",
         "x": [
          null
         ],
         "y": [
          null
         ]
        }
       ],
       "layout": {
        "coloraxis": {
         "colorbar": {
          "title": {
           "text": "color"
          }
         },
         "colorscale": [
          [
           0,
           "#0d0887"
          ],
          [
           0.1111111111111111,
           "#46039f"
          ],
          [
           0.2222222222222222,
           "#7201a8"
          ],
          [
           0.3333333333333333,
           "#9c179e"
          ],
          [
           0.4444444444444444,
           "#bd3786"
          ],
          [
           0.5555555555555556,
           "#d8576b"
          ],
          [
           0.6666666666666666,
           "#ed7953"
          ],
          [
           0.7777777777777778,
           "#fb9f3a"
          ],
          [
           0.8888888888888888,
           "#fdca26"
          ],
          [
           1,
           "#f0f921"
          ]
         ]
        },
        "legend": {
         "bgcolor": "rgba(255,255,255,0.8)",
         "bordercolor": "black",
         "borderwidth": 1,
         "tracegroupgap": 0,
         "x": 0.01,
         "y": 0.99
        },
        "margin": {
         "t": 60
        },
        "template": {
         "data": {
          "bar": [
           {
            "error_x": {
             "color": "#2a3f5f"
            },
            "error_y": {
             "color": "#2a3f5f"
            },
            "marker": {
             "line": {
              "color": "#E5ECF6",
              "width": 0.5
             },
             "pattern": {
              "fillmode": "overlay",
              "size": 10,
              "solidity": 0.2
             }
            },
            "type": "bar"
           }
          ],
          "barpolar": [
           {
            "marker": {
             "line": {
              "color": "#E5ECF6",
              "width": 0.5
             },
             "pattern": {
              "fillmode": "overlay",
              "size": 10,
              "solidity": 0.2
             }
            },
            "type": "barpolar"
           }
          ],
          "carpet": [
           {
            "aaxis": {
             "endlinecolor": "#2a3f5f",
             "gridcolor": "white",
             "linecolor": "white",
             "minorgridcolor": "white",
             "startlinecolor": "#2a3f5f"
            },
            "baxis": {
             "endlinecolor": "#2a3f5f",
             "gridcolor": "white",
             "linecolor": "white",
             "minorgridcolor": "white",
             "startlinecolor": "#2a3f5f"
            },
            "type": "carpet"
           }
          ],
          "choropleth": [
           {
            "colorbar": {
             "outlinewidth": 0,
             "ticks": ""
            },
            "type": "choropleth"
           }
          ],
          "contour": [
           {
            "colorbar": {
             "outlinewidth": 0,
             "ticks": ""
            },
            "colorscale": [
             [
              0,
              "#0d0887"
             ],
             [
              0.1111111111111111,
              "#46039f"
             ],
             [
              0.2222222222222222,
              "#7201a8"
             ],
             [
              0.3333333333333333,
              "#9c179e"
             ],
             [
              0.4444444444444444,
              "#bd3786"
             ],
             [
              0.5555555555555556,
              "#d8576b"
             ],
             [
              0.6666666666666666,
              "#ed7953"
             ],
             [
              0.7777777777777778,
              "#fb9f3a"
             ],
             [
              0.8888888888888888,
              "#fdca26"
             ],
             [
              1,
              "#f0f921"
             ]
            ],
            "type": "contour"
           }
          ],
          "contourcarpet": [
           {
            "colorbar": {
             "outlinewidth": 0,
             "ticks": ""
            },
            "type": "contourcarpet"
           }
          ],
          "heatmap": [
           {
            "colorbar": {
             "outlinewidth": 0,
             "ticks": ""
            },
            "colorscale": [
             [
              0,
              "#0d0887"
             ],
             [
              0.1111111111111111,
              "#46039f"
             ],
             [
              0.2222222222222222,
              "#7201a8"
             ],
             [
              0.3333333333333333,
              "#9c179e"
             ],
             [
              0.4444444444444444,
              "#bd3786"
             ],
             [
              0.5555555555555556,
              "#d8576b"
             ],
             [
              0.6666666666666666,
              "#ed7953"
             ],
             [
              0.7777777777777778,
              "#fb9f3a"
             ],
             [
              0.8888888888888888,
              "#fdca26"
             ],
             [
              1,
              "#f0f921"
             ]
            ],
            "type": "heatmap"
           }
          ],
          "histogram": [
           {
            "marker": {
             "pattern": {
              "fillmode": "overlay",
              "size": 10,
              "solidity": 0.2
             }
            },
            "type": "histogram"
           }
          ],
          "histogram2d": [
           {
            "colorbar": {
             "outlinewidth": 0,
             "ticks": ""
            },
            "colorscale": [
             [
              0,
              "#0d0887"
             ],
             [
              0.1111111111111111,
              "#46039f"
             ],
             [
              0.2222222222222222,
              "#7201a8"
             ],
             [
              0.3333333333333333,
              "#9c179e"
             ],
             [
              0.4444444444444444,
              "#bd3786"
             ],
             [
              0.5555555555555556,
              "#d8576b"
             ],
             [
              0.6666666666666666,
              "#ed7953"
             ],
             [
              0.7777777777777778,
              "#fb9f3a"
             ],
             [
              0.8888888888888888,
              "#fdca26"
             ],
             [
              1,
              "#f0f921"
             ]
            ],
            "type": "histogram2d"
           }
          ],
          "histogram2dcontour": [
           {
            "colorbar": {
             "outlinewidth": 0,
             "ticks": ""
            },
            "colorscale": [
             [
              0,
              "#0d0887"
             ],
             [
              0.1111111111111111,
              "#46039f"
             ],
             [
              0.2222222222222222,
              "#7201a8"
             ],
             [
              0.3333333333333333,
              "#9c179e"
             ],
             [
              0.4444444444444444,
              "#bd3786"
             ],
             [
              0.5555555555555556,
              "#d8576b"
             ],
             [
              0.6666666666666666,
              "#ed7953"
             ],
             [
              0.7777777777777778,
              "#fb9f3a"
             ],
             [
              0.8888888888888888,
              "#fdca26"
             ],
             [
              1,
              "#f0f921"
             ]
            ],
            "type": "histogram2dcontour"
           }
          ],
          "mesh3d": [
           {
            "colorbar": {
             "outlinewidth": 0,
             "ticks": ""
            },
            "type": "mesh3d"
           }
          ],
          "parcoords": [
           {
            "line": {
             "colorbar": {
              "outlinewidth": 0,
              "ticks": ""
             }
            },
            "type": "parcoords"
           }
          ],
          "pie": [
           {
            "automargin": true,
            "type": "pie"
           }
          ],
          "scatter": [
           {
            "fillpattern": {
             "fillmode": "overlay",
             "size": 10,
             "solidity": 0.2
            },
            "type": "scatter"
           }
          ],
          "scatter3d": [
           {
            "line": {
             "colorbar": {
              "outlinewidth": 0,
              "ticks": ""
             }
            },
            "marker": {
             "colorbar": {
              "outlinewidth": 0,
              "ticks": ""
             }
            },
            "type": "scatter3d"
           }
          ],
          "scattercarpet": [
           {
            "marker": {
             "colorbar": {
              "outlinewidth": 0,
              "ticks": ""
             }
            },
            "type": "scattercarpet"
           }
          ],
          "scattergeo": [
           {
            "marker": {
             "colorbar": {
              "outlinewidth": 0,
              "ticks": ""
             }
            },
            "type": "scattergeo"
           }
          ],
          "scattergl": [
           {
            "marker": {
             "colorbar": {
              "outlinewidth": 0,
              "ticks": ""
             }
            },
            "type": "scattergl"
           }
          ],
          "scattermap": [
           {
            "marker": {
             "colorbar": {
              "outlinewidth": 0,
              "ticks": ""
             }
            },
            "type": "scattermap"
           }
          ],
          "scattermapbox": [
           {
            "marker": {
             "colorbar": {
              "outlinewidth": 0,
              "ticks": ""
             }
            },
            "type": "scattermapbox"
           }
          ],
          "scatterpolar": [
           {
            "marker": {
             "colorbar": {
              "outlinewidth": 0,
              "ticks": ""
             }
            },
            "type": "scatterpolar"
           }
          ],
          "scatterpolargl": [
           {
            "marker": {
             "colorbar": {
              "outlinewidth": 0,
              "ticks": ""
             }
            },
            "type": "scatterpolargl"
           }
          ],
          "scatterternary": [
           {
            "marker": {
             "colorbar": {
              "outlinewidth": 0,
              "ticks": ""
             }
            },
            "type": "scatterternary"
           }
          ],
          "surface": [
           {
            "colorbar": {
             "outlinewidth": 0,
             "ticks": ""
            },
            "colorscale": [
             [
              0,
              "#0d0887"
             ],
             [
              0.1111111111111111,
              "#46039f"
             ],
             [
              0.2222222222222222,
              "#7201a8"
             ],
             [
              0.3333333333333333,
              "#9c179e"
             ],
             [
              0.4444444444444444,
              "#bd3786"
             ],
             [
              0.5555555555555556,
              "#d8576b"
             ],
             [
              0.6666666666666666,
              "#ed7953"
             ],
             [
              0.7777777777777778,
              "#fb9f3a"
             ],
             [
              0.8888888888888888,
              "#fdca26"
             ],
             [
              1,
              "#f0f921"
             ]
            ],
            "type": "surface"
           }
          ],
          "table": [
           {
            "cells": {
             "fill": {
              "color": "#EBF0F8"
             },
             "line": {
              "color": "white"
             }
            },
            "header": {
             "fill": {
              "color": "#C8D4E3"
             },
             "line": {
              "color": "white"
             }
            },
            "type": "table"
           }
          ]
         },
         "layout": {
          "annotationdefaults": {
           "arrowcolor": "#2a3f5f",
           "arrowhead": 0,
           "arrowwidth": 1
          },
          "autotypenumbers": "strict",
          "coloraxis": {
           "colorbar": {
            "outlinewidth": 0,
            "ticks": ""
           }
          },
          "colorscale": {
           "diverging": [
            [
             0,
             "#8e0152"
            ],
            [
             0.1,
             "#c51b7d"
            ],
            [
             0.2,
             "#de77ae"
            ],
            [
             0.3,
             "#f1b6da"
            ],
            [
             0.4,
             "#fde0ef"
            ],
            [
             0.5,
             "#f7f7f7"
            ],
            [
             0.6,
             "#e6f5d0"
            ],
            [
             0.7,
             "#b8e186"
            ],
            [
             0.8,
             "#7fbc41"
            ],
            [
             0.9,
             "#4d9221"
            ],
            [
             1,
             "#276419"
            ]
           ],
           "sequential": [
            [
             0,
             "#0d0887"
            ],
            [
             0.1111111111111111,
             "#46039f"
            ],
            [
             0.2222222222222222,
             "#7201a8"
            ],
            [
             0.3333333333333333,
             "#9c179e"
            ],
            [
             0.4444444444444444,
             "#bd3786"
            ],
            [
             0.5555555555555556,
             "#d8576b"
            ],
            [
             0.6666666666666666,
             "#ed7953"
            ],
            [
             0.7777777777777778,
             "#fb9f3a"
            ],
            [
             0.8888888888888888,
             "#fdca26"
            ],
            [
             1,
             "#f0f921"
            ]
           ],
           "sequentialminus": [
            [
             0,
             "#0d0887"
            ],
            [
             0.1111111111111111,
             "#46039f"
            ],
            [
             0.2222222222222222,
             "#7201a8"
            ],
            [
             0.3333333333333333,
             "#9c179e"
            ],
            [
             0.4444444444444444,
             "#bd3786"
            ],
            [
             0.5555555555555556,
             "#d8576b"
            ],
            [
             0.6666666666666666,
             "#ed7953"
            ],
            [
             0.7777777777777778,
             "#fb9f3a"
            ],
            [
             0.8888888888888888,
             "#fdca26"
            ],
            [
             1,
             "#f0f921"
            ]
           ]
          },
          "colorway": [
           "#636efa",
           "#EF553B",
           "#00cc96",
           "#ab63fa",
           "#FFA15A",
           "#19d3f3",
           "#FF6692",
           "#B6E880",
           "#FF97FF",
           "#FECB52"
          ],
          "font": {
           "color": "#2a3f5f"
          },
          "geo": {
           "bgcolor": "white",
           "lakecolor": "white",
           "landcolor": "#E5ECF6",
           "showlakes": true,
           "showland": true,
           "subunitcolor": "white"
          },
          "hoverlabel": {
           "align": "left"
          },
          "hovermode": "closest",
          "mapbox": {
           "style": "light"
          },
          "paper_bgcolor": "white",
          "plot_bgcolor": "#E5ECF6",
          "polar": {
           "angularaxis": {
            "gridcolor": "white",
            "linecolor": "white",
            "ticks": ""
           },
           "bgcolor": "#E5ECF6",
           "radialaxis": {
            "gridcolor": "white",
            "linecolor": "white",
            "ticks": ""
           }
          },
          "scene": {
           "xaxis": {
            "backgroundcolor": "#E5ECF6",
            "gridcolor": "white",
            "gridwidth": 2,
            "linecolor": "white",
            "showbackground": true,
            "ticks": "",
            "zerolinecolor": "white"
           },
           "yaxis": {
            "backgroundcolor": "#E5ECF6",
            "gridcolor": "white",
            "gridwidth": 2,
            "linecolor": "white",
            "showbackground": true,
            "ticks": "",
            "zerolinecolor": "white"
           },
           "zaxis": {
            "backgroundcolor": "#E5ECF6",
            "gridcolor": "white",
            "gridwidth": 2,
            "linecolor": "white",
            "showbackground": true,
            "ticks": "",
            "zerolinecolor": "white"
           }
          },
          "shapedefaults": {
           "line": {
            "color": "#2a3f5f"
           }
          },
          "ternary": {
           "aaxis": {
            "gridcolor": "white",
            "linecolor": "white",
            "ticks": ""
           },
           "baxis": {
            "gridcolor": "white",
            "linecolor": "white",
            "ticks": ""
           },
           "bgcolor": "#E5ECF6",
           "caxis": {
            "gridcolor": "white",
            "linecolor": "white",
            "ticks": ""
           }
          },
          "title": {
           "x": 0.05
          },
          "xaxis": {
           "automargin": true,
           "gridcolor": "white",
           "linecolor": "white",
           "ticks": "",
           "title": {
            "standoff": 15
           },
           "zerolinecolor": "white",
           "zerolinewidth": 2
          },
          "yaxis": {
           "automargin": true,
           "gridcolor": "white",
           "linecolor": "white",
           "ticks": "",
           "title": {
            "standoff": 15
           },
           "zerolinecolor": "white",
           "zerolinewidth": 2
          }
         }
        },
        "xaxis": {
         "anchor": "y",
         "domain": [
          0,
          1
         ],
         "title": {
          "text": "x"
         }
        },
        "yaxis": {
         "anchor": "x",
         "domain": [
          0,
          1
         ],
         "title": {
          "text": "y"
         }
        }
       }
      }
     },
     "metadata": {},
     "output_type": "display_data"
    },
    {
     "name": "stdout",
     "output_type": "stream",
     "text": [
      "/home/onyxia/work/DetailCLIP/cluster_vis/195.png\n"
     ]
    },
    {
     "data": {
      "application/vnd.plotly.v1+json": {
       "config": {
        "plotlyServerURL": "https://plot.ly"
       },
       "data": [
        {
         "hovertemplate": "x=%{x}<br>y=%{y}<br>color=%{marker.color}<extra></extra>",
         "legendgroup": "",
         "marker": {
          "color": {
           "bdata": "AAAAAAAAAAAAAAAAAAAAAAAAAAAAAAAAAAAAAAAAAAAAAAAAAAAAAAAAAAAAAAAAAAAAAAAAAAAAAAAAAAAAAAAAAAAAAAAAAAAAAAAAAAAAAAAAAAAAAAAAAAAAAAAAAAAAAAAAAAAAAAAAAAAAAAAAAAAAAAAAAAAAAAAAAAAAAAAAAAAAAAAAAAAAAAAAAAAAAAAAAAAAAAAAAAAAAAAAAAAAAAAAAAAAAAAAAAAAAAAAAAAAAAAAAAAAAAAAAAAAAAAAAAAAAAAAAAAAAAAAAAAAAAAAAAAAAAAAAAAAAAAAAAAAAAAAAAAAAAAAAAAAAAAAAAAAAAAAAAAAAAAAAAAAAAAAAAAAAAAAAAAAAAAAAAAAAAAAAAAAAAAAAAAAAAAAAAAAAAAAAAAAAAAAAAAAAAAAAAAAAAAAAAAAAAAAAAAAAAAAAAAAAAAAAAAAAAAAAAAAAAAAAAAAAAAAAAAAAAAAAAAAAAAAAAAAAAAAAAAAAAAAAAAAAAAAAAAAAAAAAAAAAAAAAAAAAAAAAAAAAAAAAAAAAAAAAAAAAAAAAAAAAAAAAAAAAAAAAAAAAAAAAAAAAAAAAAAAAAAAAAAAAAAAAAAAAAAAAAAAAAAAAAAAAAAAAAAAAAAAAAAAAAAAAAAAAAAAAAAAAAAAAAAAAAAAAAAAAAAAAAAAAAAAAAAAAAAAAAAAAAAAAAAAAAAAAAAAAAAAAAAAAAAAAAAAAAAAAAAAAAAAAAAAAAAAAAAAAAAAAAAAAAAAAAAAAAAAAAAAAAAAAAAAAAAAAAAAAAAAAAAAAAAAAAAAAAAAAAAAAAAAAAAAAAAAAAAAAAAAAAAAAAAAAAAAAAAAAAAAAAAAAAAAAAAAAAAAAAAAAAAAAAAAAAAAAAAAAAAAAAAAAAAAAAAAAAAAAAAAAAAAAAAAAAAAAAAAAAAAAAAAAAAAAAAAAAAAAAAAAAAAAAAAAAAAAAAAAAAAAAAAAAAAAAAAAAAAAAAAAAAAAAAAAAAAAAAAAAAAAAAAAAAAAAAAAAAAAAAAAAAAAAAAAAAAAAAAAAAAAAAAAAAAAAAAAAAAAAAAAAAAAAAAAAAAAAAAAAAAAAAAAAAAAAAAAAAAAAAAAAAAAAAAAAAAAAAAAAAAAAAAAAAAAAAAAAAAAAAAAAAAAAAAAAAAAAAAAAAAAAAAAAAAAAAAAAAAAAAAAAAAAAAAAAAAAAAAAAAAAAAAAAAAAAAAAAAAAAAAAAAAAAAAAAAAAAAAAAAAAAAAAAAAAAAAAAAAAAAAAAAAAAAAAAAAAAAAAAAAAAAAAAAAAAAAAAAAAAAAAAAAAAAAAAAAAAAAAAAAAAAAAAAAAAAAAAAAAAAAAAAAAAAAAAAAAAAAAAAAAAAAAAAAAAAAAAAAAAAAAAAAAAAAAAAAAAAAAAAAAAAAAAAAAAAAAAAAAAAAAAAAAAAAAAAAAAAAAAAAAAAAAAAAAAAAAAAAAAAAAAAAAAAAAAAAAAAAAAAAAAAAAAAAAAAAAAAAAAAAAAAAAAAAAAAAAAAAAAAAAAAAAAAAAAAAAAAAAAAAAAAAAAAAAAAAAAAAAAAAAAAAAAAAAAAAAAAAAAAAAAAAAAAAAAAAAAAAAAAAAAAAAAAAAAAAAAAAAAAAAAAAAAAAAAAAAAAAAAAAAAAAAAAAAAAAAAAAAAAAAAAAAAAAAAAAAAAAAAAAAAAAAAAAAAAAAAAAAAAAAAAAAAAAAAAAAAAAAAAAAAAAAAAAAAAAAAAAAAAAAAAAAAAAAAAAAAAAAAAAAAAAAAAAAAAAAAAAAAAAAAAAAAAAAAAAAAAAAAAAAAAAAAAAAAAAAAAAAAAAAAAAAAAAAAAAAAAAAAAAAAAAAAAAAAAAAAAAAAAAAAAAAAAAAAAAAAAAAAAAAAAAAAAAAAAAAAAAAAAAAAAAAAAAAAAAAAAAAAAAAAAAAAAAAAAAAAAAAAAAAAAAAAAAAAAAAAAAAAAAAAAAAAAAAAAAAAAAAAAAAAAAAAAAAAAAAAAAAAAAAAAAAAAAAAAAAAAAAAAAAAAAAAAAAAAAAAAAAAAAAAAAAAAAAAAAAAAAAAAAAAAAAAAAAAAAAAAAAAAAAAAAAAAAAAAAAAAAAAAAAAAAAAAAAAAAAAAAAAAAAAAAAAAAAAAAAAAAAAAAAAAAAAAAAAAAAAAAAAAAAAAAAAAAAAAAAAAAAAAAAAAAAAAAAAAAAAAAAAAAAAAAAAAAAAAAAAAAAAAAAAAAAAAAAAAAAAAAAAAAAAAAAAAAAAAAAAAAAAAAAAAAAAAAAAAAAAAAAAAAAAAAAAAAAAAAAAAAAAAAAAAAAAAAAAAAAAAAAAAAAAAAAAAAAAAAAAAAAAAAAAAAAAAAAAAAAAAAAAAAAAAAAAAAAAAAAAAAAAAAAAAAAAAAAAAAAAAAAAAAAAAAAAAAAAAAAAAAAAAAAAAAAAAAAAAAAAAAAAAAAAAAAAAAAAAAAAAAAAAAAAAAAAAAAAAAAAAAAAAAAAAAAAAAAAAAAAAAAAAAAAAAAAAAAAAAAAAAAAAAAAAAAAAAAAAAAAAAAAAAAAAAAAAAAAAAAAAAAAAAAAAAAAAAAAAAAADDAMMAwwDDAMMAwwDDAMMAwwDDAMMAwwDDAMMAwwDDAMMAwwDDAMMAwwDDAMMAwwDDAMMAwwDDAMMAwwAAAAAAAAAAAAAAAAAAAAAAAAAAAAAAAAAAAAAAAAAAAAAAAAAAAAAAAAAAAAAAAAAAAAAAAAAAAAAAAAAAAAAAAAAAAAAAAAAAAAAAAAAAAAAAAAAAAAAAAAAAAAAAAAAAAAAAAAAAAAAAAAAAAAAAAAAAAAAAAAAAAAAAAAAAAAAAAAAAAAAAAAAAAAAAAAAAAAAAAAAAAAAAAAAAAAAAAAAAAAAAAAAAAAAAAAAAAAAAAAAAAAAAAAAAAAAAAAAAAAAAAAAAAAAAAAAAAAAAAAAAAAAAAAAAAAAAAAAAAAAAAAAAAAAAAAAAAAAAAAAAAAAAAAAAAAAAAAAAAAAAAAAAAAAAAAAAAAAAAAAAAAAAAAAAAAAAAAAAAAAAAAAAAAAAAAAAAAAAAAAAAAAAAAAAAAAAAAAAAAAAAAAAAAAAAAAAAAAAAAAAAAAAAAAAAAAAAAAAAAAAAAAAAAAAAAAAAAAAAAAAAAAAAAAAAAAAAAAAAAAAAAAAAAAAAAAAAAAAAAAAAAAAAAAAAAAAAAAAAAAAAAAAAAAAAAAAAAAAAAAAAAAAAAAAAAAAAAAAAAAAAAAAAAAAAAAAAAAAAAAAAAAAAAAAAAAAAAAAAAAAAAAAAAAAAAAAAAAAAAAAAAAAAAAAAAAAAAAAAAAAAAAAAAAAAAAAAAAAAAAAAAAAAAAAAAAAAAAAAAAAAAAAAAAAAAAAAAAAAAAAAAAAAAAAAAAAAAAAAAAAAAAAAAAAAAAAAAAAAAAAAAAAAAAAAAAAAAAAAAAAAAAAAAAAAAAAAAAAAAAAAAAAAAAAAAAAAAAAAAAAAAAAAAAAAAAAAAAAAAAAAAAAAAAAAAAAAAAAAAAAAAAAAAAAAAAAAAAAAAAAAAAAAAAAAAAAAAAAAAAAAAAAAAAAAAAAAAAAAAAAAAAAAAAAAAAAAAAAAAAAAAAAAAAAAAAAAAAAAAAAAAAAAAAAAAAAAAAAAAAAAAAAAAAAAAAAAAAAAAAAAAAAAAAAAAAAAAAAAAAAAAAAAAAAAAAAAAAAAAAAAAAAAAAAAAAAAAAAAAAAAAAAAAAAAAAAAAAAAAAAAAAAAAAAAAAAAAAAAAAAAAAAAAAAAAAAAAAAAAAAAAAAAAAAAAAAAAAAAAAAAAAAAAAAAAAAAAAAAAAAAAAAAAAAAAAAAAAAAAAAAAAAAAAAAAAAAAAAAAAAAAAAAAAAAAAAAAAAAAAAAAAAAAAAAAAAAAAAAAAAAAAAAAAAAAAAAAAAAAAAAAAAAAAAAAAAAAAAAAAAAAAAAAAAAAAAAAAAAAAAAAAAAAAAAAAAAAAAAAAAAAAAAAAAAAAAAAAAAAAAAAAAAAAAAAAAAAAAAAAAAAAAAAAAAAAAAAAAAAAAAAAAAAAAAAAAAAAAAAAAAAAAAAAAAAAAAAAAAAAAAAAAAAAAAAAAAAAAAAAAAAAAAAAAAAAAAAAAAAAAAAAAAAAAAAAAAAAAAAAAAAAAAAAAAAAAAAAAAAAAAAAAAAAAAAAAAAAAAAAAAAAAAAAAAAAAAAAAAAAAAAAAAAAAAAAAAAAAAAAAAAAAAAAAAAAAAAAAAAAAAAAAAAAAAAAAAAAAAAAAAAAAAAAAAAAAAAAAAAAAAAAAAAAAAAAAAAAAAAAAAAAAAAAAAAAAAAAAAAAAAAAAAAAAAAAAAAAAAAAAAAAAAAAAAAAAAAAAAAAAAAAAAAAAAAAAAAAAAAAAAAAAAAAAAAAAAAAAAAAAAAAAAAAAAAAAAAAAAAAAAAAAAAAAAAAAAAAAAAAAAAAAAAAAAAAAAAAAAAAAAAAAAAAAAAAAAAAAAAAAAAAAAAAAAAAAAAAAAAAAAAAAAAAAAAAAAAAAAAAAAAAAAAAAAAAAAAAAAAAAAAAAAAAAAAAAAAAAAAAAAAAAAAAAAAAAAAAAAAAAAAAAAAAAAAAAAAAAAAAAAAAAAAAAAAAAAAAAAAAAAAAAAAAAAAAAAAAAAAAAAAAAAAAAAAAAAAAAAAAAAAAAAAAAAAAAAAAAAAAAAAAAAAAAAAAAAAAAAAAAAAAAAAAAAAAAAAAAAAAAAAAAAAAAAAAAAAAAAAAAAAAAAAAAAAAAAAAAAAAAAAAAAAAAAAAAAAAAAAAAAAAAAAAAAAAAAAAAAAAAAAAAAAAAAAAAAAAAAAAAAAAAAAAAAAAAAAAAAAAAAAAAAAAAAAAAAAAAAAAAAAAAAAAAAAAAAAAAAAAAAAAAAAAAAAAAAAAAAAAAAAAAAAAAAAAAAAAAAAAAAAAAAAAAAAAAAAAAAAAAAAAAAAAAAAAAAAAAAAAAAAAAAAAAAAAAAAAAAAAAAAAAAAAAAAAAAAAAAAAAAAAAAAAAAAAAAAAAAAAAAAAAAAAAAAAAAAAAAAAAAAAAAAAAAAAAAAAAAAAAAAAAAAAAAAAAAAAAAAAAAAAAAAAAAAAAAAAAAAAAAAAAAAAAAAAAAAAAAAAAAAAAAAAAAAAAAAAAAAAAAAAAAAAAAAAAAAAAAAAAAAAAAAAAAAAAAAAAAAAAAAAAAAAAAAAAAAAAAAAAAAAAAAAAAAAAAAAAAAAAAAAAAAAAAAAAAAAAAAAAAAAAAAAAAAAAAAAAAAAAAAAAAAAAAAAAAAAAAAAAAAAAAAAAAAAAAAAAAAAAAAAAAAAAAAAAAAAAAAAAAAAAAAAAAAAAAAAAAAAAAAAAAAAAAAAAAAAAAAAAAAAAAAAAAAAAAAAAAAAAAAAAAAAAAAAAAAAAAAAAAAAAAAAAAAAAAAAAAAAAAAAAAAAAAAAAAAAAAAAAAAAAAAAAAAAAAAAAAAAAAAAAAAAAAAAAAAAAAAAAAAAAAAAAAAAAAAAAAAAAAAAAAAAAAAAAAAAAAAAAAAAAAAAAAAAAAAAAAAAAAAAAAAAAAAAAAAAAAAAAAAAAAAAAAAAAAAAAAAAAAAAAAAAAAAAAAAAAAAAAAAAAAAAAAAAAAAAAAAAAAAAAAAAAAAAAAAAAAAAAAAAAAAAAAAAAAAAAAAAAAAAAAAAAAAAAAAAAAAAAAAAAAAAAAAAAAAAAAAAAAAAAAAAAAAAAAAAAAAAAAAAAAAAAAAAAAAAAAAAAAAAAAAAAAAAAAAAAAAAAAAAAAAAAAAAAAAAAAAAAAAAAAAAAAAAAAAAAAAAAAAAAAAAAAAAAAAAAAAAAAAAAAAAAAAAAAAAAAAAAAAAAAAAAAAAAAAAAAAAAAAAAAAAAAAAAAAAAAAAAAAAAAAAAAAAAAAAAAAAAAAAAAAAAAAAAAAAAAAAAAAAAAAAAAAAAAAAAAAAAAAAAAAAAAAAAAAAAAAAAAAAAAAAAAAAAAAAAAAAAAAAAAAAAAAAAAAAAAAAAAAAAAAAAAAAAAAAAAAAAAAAAAAAAAAAAAAAAAAAAAAAAAAAAAAAAAAAAAAAAAAAAAAAAAAAAAAAAAAAAAAAAAAAAAAAAAAAAAAAAAAAAAAAAAAAAAAAAAAAAAAAAAAAAAAAAAAAAAAAAAAAAAAAAAAAAAAAAAAAAAAAAAAAAAAAAAAAAAAAAAAAAAAAAAAAAAAAAAAAAAAAAAAAAAAAAAAAAAAAAAAAAAAAAAAAAAAAAAAAAAAAAAAAAAAAAAAAAAAAAAAAAAAAAAAAAAAAAAAAAAAAAAAAAAAAAAAAAAAAAAAAAAAAAAAAAAAAAAAAAAAAAAAAAAAAAAAAAAAAAAAAAAAAAAAAAAAAAAAAAAAAAAAAAAAAAAAAAAAAAAAAAAAAAAAAAAAAAAAAAAAAAAAAAAAAAAAAAAAAAAAAAAAAAAAAAAAAAAAAAAAAAAAAAAAAAAAAAAAAAAAAAAAAAAAAAAAAAAAAAAAAAAAAAAAAAAAAAAAAAAAAAAAAAAAAAAAAAAAAAAAAAAAAAAAAAAAAAAAAAAAAAAAAAAAAAAAAAAAAAAAAAAAAAAAAAAAAAAAAAAAAAAAAAAAAAAAAAAAAAAAAAAAAAAAAAAAAAAAAAAAAAAAAAAAAAAAAAAAAAAAAAAAAAAAAAAAAAAAAAAAAAAAAAAAAAAAAAAAAAAAAAAAAAAAAAAAAAAAAAAAAAAAAAAAAAAAAAAAAAAAAAAAAAAAAAAAAAAAAAAAAAAAAAAAAAAAAAAAAAAAAAAAAAAAAAAAAAAAAAAAAAAAAAAAAAAAAAAAAAAAAAAAAAAAAAAAAAAAAAAAAAAAAAAAAAAAAAAAAAAAAAAAAAAAAAAAAAAAAAAAAAAAAAAAAAAAAAAAAAAAAAAAAAAAAAAAAAAAAAAAAAAAAAAAAAAAAAAAAAAAAAAAAAAAAAAAAAAAAAAAAAAAAAAAAAAAAAAAAAAAAAAAAAAAAAAAAAAAAAAAAAAAAAAAAAAAAAAAAAAAAAAAAAAAAAAAAAAAAAAAAAAAAAAAAAAAAAAAAAAAAAAAAAAAAAAAAAAAAAAAAAAAAAAAAAAAAAAAAAAAAAAAAAAAAAAAAAAAAAAAAAAAAAAAAAAAAAAAAAAAAAAAAAAAAAAAAAAAAAAAAAAAAAAAAAAAAAAAAAAAAAAAAAAAAAAAAAAAAAAAAAAAAAAAAAAAAAAAAAAAAAAAAAAAAAAAAAAAAAAAAAAAAAAAAAAAAAAAAAAAAAAAAAAAAAAAAAAAAAAAAAAAAAAAAAAAAAAAAAAAAAAAAAAAAAAAAAAAAAAAAAAAAAAAAAAAAAAAAAAAAAAAAAAAAAAAAAAAAAAAAAAAAAAAAAAAAAAAAAAAAAAAAAAAAAAAAAAAAAAAAAAAAAAAAAAAAAAAAAAAAAAAAAAAAAAAAAAAAAAAAAAAAAAAAAAAAAAAAAAAAAAAAAAAAAAAAAAAAAAAAAAAAAAAAAAAAAAAAAAAAAAAAAAAAAAAAAAAAAAAAAAAAAAAAAAAAAAAAAAAAAAAAAAAAAAAAAAAAAAAAAAAAAAAAAAAAAAAAAAAAAAAAAAAAAAAAAAAAAAAAAAAAAAAAAAAAAAAAAAAAAAAAAAAAAAAAAAAAAAAAAAAAAAAAAAAAAAAAAAAAAAAAAAAAAAAAAAAAAAAAAAAAAAAAAAAAAAAAAAAAAAAAAAAAAAAAAAAAAAAAAAAAAAAAAAAAAAAAAAAAAAAAAAAAAAAAAAAAAAAAAAAAAAAAAAAAAAAAAAAAAAAAAAAAAAAAAAAAAAAAAAAAAAAAAAAAAAAAAAAAAAAAAAAAAAAAAAAAAAAAAAAAAAAAAAAAAAAAAAAAAAAAAAAAAAAAAAAAAAAAAAAAAAAAAAAAAAAAAAAAAAAAAAAAAAAAAAAAAAAAAAAAAAAAAAAAAAAAAAAAAAAAAAAAAAAAAAAAAAAAAAAAAAAAAAAAAAAAAAAAAAAAAAAAAAAAAAAAAAAAAAAAAAAAAAAAAAAAAAAAAAAAAAAAAAAAAAAAAAAAAAAAAAAAAAAAAAAAAAAAAAAAAAAAAAAAAAAAAAAAAAAAAAAAAAAAAAAAAAAAAAAAAAAAAAAAAAAAAAAAAAAAAAAAAAAAAAAAAAAAAAAAAAAAAAAAAAAAAAAAAAAAAAAAAAAAAAAAAAAAAAAAAAAAAAAAAAAAAAAAAAAAAAAAAAAAAAAAAAAAAAAAAAAAAAAAAAAAAAAAAAAAAAAAAAAAAAAAAAAAAAAAAAAAAAAAAAAAAAAAAAAAAAAAAAAAAAAAAAAAAAAAAAAAAAAAAAAAAAAAAAAAAAAAAAAAAAAAAAAAAAAAAAAAAAAAAAAAAAAAAAAAAAAAAAAAAAAAAAAAAAAAAAAAAAAAAAAAAAAAAAAAAAAAAAAAAAAAAAAAAAAAAAAAAAAAAAAAAAAAAAAAAAAAAAAAAAAAAAAAAAAAAAAAAAAAAAAAAAAAAAAAAAAAAAAAAAAAAAAAAAAAAAAAAAAAAAAAAAAAAAAAAAAAAAAAAAAAAAAAAAAAAAAAAAAAAAAAAAAAAAAAAAAAAAAAAAAAAAAAAAAAAAAAAAAAAAAAAAAAAAAAAAAAAAAAAAAAAAAAAAAAAAAAAAAAAAAAAAAAAAAAAAAAAAAAAAAAAAAAAAAAAAAAAAAAAAAAAAAAAAAAAAAAAAAAAAAAAAAAAAAAAAAAAAAAAAAAAAAAAAAAAAAAAAAAAAAAAAAAAAAAAAAAAAAAAAAAAAAAAAAAAAAAAAAAAAAAAAAAAAAAAAAAAAAAAAAAAAAAAAAAAAAAAAAAAAAAAAAAAAAAAAAAAAAAAAAAAAAAAAAAAAAAAAAAAAAAAAAAAAAAAAAAAAAAAAAAAAAAAAAAAAAAAAAAAAAAAAAAAAAAAAAAAAAAAAAAAAAAAAAAAAAAAAAAAAAAAAAAAAAAAAAAAAAAAAAAAAAAAAAAAAAAAAAAAAAAAAAAAAAAAAAAAAAAAAAAAAAAAAAAAAAAAAAAAAAAAAAAAAAAAAAAAAAAAAAAAAAAAAAAAAAAAAAAAAAAAAAAAAAAAAAAAAAAAAAAAAAAAAAAAAAAAAAAAAAAAAAAAAAAAAAAAAAAAAAAAAAAAAAAAAAAAAAAAAAAAAAAAAAAAAAAAAAAAAAAAAAAAAAAAAAAAAAAAAAAAAAAAAAAAAAAAAAAAAAAAAAAAAAAAAAAAAAAAAAAAAAAAAAAAAAAAAAAAAAAAAAAAAAAAAAAAAAAAAAAAAAAAAAAAAAAAAAAAAAAAAAAAAAAAAAAAAAAAAAAAAAAAAAAAAAAAAAAAAAAAAAAAAAAAAAAAAAAAAAAAAAAAAAAAAAAAAAAAAAAAAAAAAAAAAAAAAAAAAAAAAAAAAAAAAAAAAAAAAAAAAAAAAAAAAAAAAAAAAAAAAAAAAAAAAAAAAAAAAAAAAAAAAAAAAAAAAAAAAAAAAAAAAAAAAAAAAAAAAAAAAAAAAAAAAAAAAAAAAAAAAAAAAAAAAAAAAAAAAAAAAAAAAAAAAAAAAAAAAAAAAAAAAAAAAAAAAAAAAAAAAAAAAAAAAAAAAAAAAAAAAAAAAAAAAAAAAAAAAAAAAAAAAAAAAAAAAAAAAAAAAAAAAAAAAAAAAAAAAAAAAAAAAAAAAAAAAAAAAAAAAAAAAAAAAAAAAAAAAAAAAAAAAAAAAAAAAAAAAAAAAAAAAAAAAAAAAAAAAAAAAAAAAAAAAAAAAAAAAAAAAAAAAAAAAAAAAAAAAAAAAAAAAAAAAAAAAAAAAAAAAAAAAAAAAAAAAAAAAAAAAAAAAAAAAAAAAAAAAAAAAAAAAAAAAAAAAAAAAAAAAAAAAAAAAAAAAAAAAAAAAAAAAAAAAAAAAAAAAAAAAAAAAAAAAAAAAAAAAAAAAAAAAAAAAAAAAAAAAAAAAAAAAAAAAAAAAAAAAAAAAAAAAAAAAAAAAAAAAAAAAAAAAAAAAAAAAAAAAAAAAAAAAAAAAAAAAAAAAAAAAAAAAAAAAAAAAAAAAAAAAAAAAAAAAAAAAAAAAAAAAAAAAAAAAAAAAAAAAAAAAAAAAAAAAAAAAAAAAAAAAAAAAAAAAAAAAAAAAAAAAAAAAAAAAAAAAAAAAAAAAAAAAAAAAAAAAAAAAAAAAAAAAAAAAAAAAAAAAAAAAAAAAAAAAAAAAAAAAAAAAAAAAAAAAAAAAAAAAAAAAAAAAAAAAAAAAAAAAAAAAAAAAAAAAAAAAAAAAAAAAAAAAAAAAAAAAAAAAAAAAAAAAAAAAAAAAAAAAAAAAAAAAAAAAAAAAAAAAAAAAAAAAAAAAAAAAAAAAAAAAAAAAAAAAAAAAAAAAAAAAAAAAAAAAAAAAAAAAAAAAAAAAAAAAAAAAAAAAAAAAAAAAAAAAAAAAAAAAAAAAAAAAAAAAAAAAAAAAAAAAAAAAAAAAAAAAAAAAAAAAAAAAAAAAAAAAAAAAAAAAAAAAAAAAAAAAAAAAAAAAAAAAAAAAAAAAAAAAAAAAAAAAAAAAAAAAAAAAAAAAAAAAAAAAAAAAAAAAAAAAAAAAAAAAAAAAAAAAAAAAAAAAAAAAAAAAAAAAAAAAAAAAAAAAAAAAAAAAAAAAAAAAAAAAAAAAAAAAAAAAAAAAAAAAAAAAAAAAAAAAAAAAAAAAAAAAAAAAAAAAAAAAAAAAAAAAAAAAAAAAAAAAAAAAAAAAAAAAAAAAAAAAAAAAAAAAAAAAAAAAAAAAAAAAAAAAAAAAAAAAAAAAAAAAAAAAAAAAAAAAAAAAAAAAAAAAAAAAAAAAAAAAAAAAAAAAAAAAAAAAAAAAAAAAAAAAAAAAAAAAAAAAAAAAAAAAAAAAAAAAAAAAAAAAAAAAAAAAAAAAAAAAAAAAAAAAAAAAAAAAAAAAAAAAAAAAAAAAAAAAAAAAAAAAAAAAAAAAAAAAAAAAAAAAAAAAAAAAAAAAAAAAAAAAAAAAAAAAAAAAAAAAAAAAAAAAAAAAAAAAAAAAAAAAAAAAAAAAAAAAAAAAAAAAAAAAAAAAAAAAAAAAAAAAAAAAAAAAAAAAAAAAAAAAAAAAAAAAAAAAAAAAAAAAAAAAAAAAAAAAAAAAAAAAAAAAAAAAAAAAAAAAAAAAAAAAAAAAAAAAAAAAAAAAAAAAAAAAAAAAAAAAAAAAAAAAAAAAAAAAAAAAAAAAAAAAAAAAAAAAAAAAAAAAAAAAAAAAAAAAAAAAAAAAAAAAAAAAAAAAAAAAAAAAAAAAAAAAAAAAAAAAAAAAAAAAAAAAAAAAAAAAAAAAAAAAAAAAAAAAAAAAAAAAAAAAAAAAAAAAAAAAAAAAAAAAAAAAAAAAAAAAAAAAAAAAAAAAAAAAAAAAAAAAAAAAAAAAAAAAAAAAAAAAAAAAAAAAAAAAAAAAAAAAAAAAAAAAAAAAAAAAAAAAAAAAAAAAAAAAAAAAAAAAAAAAAAAAAAAAAAAAAAAAAAAAAAAAAAAAAAAAAAAAAAAAAAAAAAAAAAAAAAAAAAAAAAAAAAAAAAAAAAAAAAAAAAAAAAAAAAAAAAAAAAAAAAAAAAAAAAAAAAAAAAAAAAAAAAAAAAAAAAAAAAAAAAAAAAAAAAAAAAAAAAAAAAAAAAAAAAAAAAAAAAAAAAAAAAAAAAAAAAAAAAAAAAAAAAAAAAAAAAAAAAAAAAAAAAAAAAAAAAAAAAAAAAAAAAAAAAAAAAAAAAAAAAAAAAAAAAAAAAAAAAAAAAAAAAAAAAAAAAAAAAAAAAAAAAAAAAAAAAAAAAAAAAAAAAAAAAAAAAAAAAAAAAAAAAAAAAAAAAAAAAAAAAAAAAAAAAAAAAAAAAAAAAAAAAAAAAAAAAAAAAAAAAAAAAAAAAAAAAAAAAAAAAAAAAAAAAAAAAAAAAAAAAAAAAAAAAAAAAAAAAAAAAAAAAAAAAAAAAAAAAAAAAAAAAAAAAAAAAAAAAAAAAAAAAAAAAAAAAAAAAAAAAAAAAAAAAAAAAAAAAAAAAAAAAAAAAAAAAAAAAAAAAAAAAAAAAAAAAAAAAAAAAAAAAAAAAAAAAAAAAAAAAAAAAAAAAAAAAAAAAAAAAAAAAAAAAAAAAAAAAAAAAAAAAAAAAAAAAAAAAAAAAAAAAAAAAAAAAAAAAAAAAAAAAAAAAAAAAAAAAAAAAAAAAAAAAAAAAAAAAAAAAAAAAAAAAAAAAAAAAAAAAAAAAAAAAAAAAAAAAAAAAAAAAAAAAAAAAAAAAAAAAAAAAAAAAAAAAAAAAAAAAAAAAAAAAAAAAAAAAAAAAAAAAAAAAAAAAAAAAAAAAAAAAAAAAAAAAAAAAAAAAAAAAAAAAAAAAAAAAAAAAAAAAAAAAAAAAAAAAAAAAAAAAAAAAAAAAAAAAAAAAAAAAAAAAAAAAAAAAAAAAAAAAAAAAAAAAAAAAAAAAAAAAAAAAAAAAAAAAAAAAAAAAAAAAAAAAAAAAAAAAAAAAAAAAAAAAAAAAAAAAAAAAAAAAAAAAAAAAAAAAAAAAAAAAAAAAAAAAAAAAAAAAAAAAAAAAAAAAAAAAAAAAAAAAAAAAAAAAAAAAAAAAAAAAAAAAAAAAAAAAAAAAAAAAAAAAAAAAAAAAAAAAAAAAAAAAAAAAAAAAAAAAAAAAAAAAAAAAAAAAAAAAAAAAAAAAAAAAAAAAAAAAAAAAAAAAAAAAAAAAAAAAAAAAAAAAAAAAAAAAAAAAAAAAAAAAAAAAAAAAAAAAAAAAAAAAAAAAAAAAAAAAAAAAAAAAAAAAAAAAAAAAAAAAAAAAAAAAAAAAAAAAAAAAAAAAAAAAAAAAAAAAAAAAAAAAAAAAAAAAAAAAAAAAAAAAAAAAAAAAAAAAAAAAAAAAAAAAAAAAAAAAAAAAAAAAAAAAAAAAAAAAAAAAAAAAAAAAAAAAAAAAAAAAAAAAAAAAAAAAAAAAAAAAAAAAAAAAAAAAAAAAAAAAAAAAAAAAAAAAAAAAAAAAAAAAAAAAAAAAAAAAAAAAAAAAAAAAAAAAAAAAAAAAAAAAAAAAAAAAAAAAAAAAAAAAAAAAAAAAAAAAAAAAAAAAAAAAAAAAAAAAAAAAAAAAAAAAAAAAAAAAAAAAAAAAAAAAAAAAAAAAAAAAAAAAAAAAAAAAAAAAAAAAAAAAAAAAAAAAAAAAAAAAAAAAAAAAAAAAAAAAAAAAAAAAAAAAAAAAAAAAAAAAAAAAAAAAAAAAAAAAAAAAAAAAAAAAAAAAAAAAAAAAAAAAAAAAAAAAAAAAAAAAAAAAAAAAAAAAAAAAAAAAAAAAAAAAAAAAAAAAAAAAAAAAAAAAAAAAAAAAAAAAAAAAAAAAAAAAAAAAAAAAAAAAAAAAAAAAAAAAAAAAAAAAAAAAAAAAAAAAAAAAAAAAAAAAAAAAAAAAAAAAAAAAAAAAAAAAAAAAAAAAAAAAAAAAAAAAAAAAAAAAAAAAAAAAAAAAAAAAAAAAAAAAAAAAAAAAAAAAAAAAAAAAAAAAAAAAAAAAAAAAAAAAAAAAAAAAAAAAAAAAAAAAAAAAAAAAAAAAAAAAAAAAAAAAAAAAAAAAAAAAAAAAAAAAAAAAAAAAAAAAAAAAAAAAAAAAAAAAAAAAAAAAAAAAAAAAAAAAAAAAAAAAAAAAAAAAAAAAAAAAAAAAAAAAAAAAAAAAAAAAAAAAAAAAAAAAAAAAAAAAAAAAAAAAAAAAAAAAAAAAAAAAAAAAAAAAAAAAAAAAAAAAAAAAAAAAAAAAAAAAAAAAAAAAAAAAAAAAAAAAAAAAAAAAAAAAAAAAAAAAAAAAAAAAAAAAAAAAAAAAAAAAAAAAAAAAAAAAAAAAAAAAAAAAAAAAAAAAAAAAAAAAAAAAAAAAAAAAAAAAAAAAAAAAAAAAAAAAAAAAAAAAAAAAAAAAAAAAAAAAAAAAAAAAAAAAAAAAAAAAAAAAAAAAAAAAAAAAAAAAAAAAAAAAAAAAAAAAAAAAAAAAAAAAAAAAAAAAAAAAAAAAAAAAAAAAAAAAAAAAAAAAAAAAAAAAAAAAAAAAAAAAAAAAAAAAAAAAAAAAAAAAAAAAAAAAAAAAAAAAAAAAAAAAAAAAAAAAAAAAAAAAAAAAAAAAAAAAAAAAAAAAAAAAAAAAAAAAAAAAAAAAAAAAAAAAAAAAAAAAAAAAAAAAAAAAAAAAAAAAAAAAAAAAAAAAAAAAAAAAAAAAAAAAAAAAAAAAAAAAAAAAAAAAAAAAAAAAAAAAAAAAAAAAAAAAAAAAAAAAAAAAAAAAAAAAAAAAAAAAAAAAAAAAAAAAAAAAAAAAAAAAAAAAAAAAAAAAAAAAAAAAAAAAAAAAAAAAAAAAAAAAAAAAAAAAAAAAAAAAAAAAAAAAAAAAAAAAAAAAAAAAAAAAAAAAAAAAAAAAAAAAAAAAAAAAAAAAAAAAAAAAAAAAAAAAAAAAAAAAAAAAAAAAAAAAAAAAAAAAAAAAAAAAAAAAAAAAAAAAAAAAAAAAAAAAAAAAAAAAAAAAAAAAAAAAAAAAAAAAAAAAAAAAAAAAAAAAAAAAAAAAAAAAAAAAAAAAAAAAAAAAAAAAAAAAAAAAAAAAAAAAAAAAAAAAAAAAAAAAAAAAAAAAAAAAAAAAAAAAAAAAAAAAAAAAAAAAAAAAAAAAAAAAAAAAAAAAAAAAAAAAAAAAAAAAAAAAAAAAAAAAAAAAAAAAAAAAAAAAAAAAAAAAAAAAAAAAAAAAAAAAAAAAAAAAAAAAAAAAAAAAAAAAAAAAAAAAAAAAAAAAAAAAAAAAAAAAAAAAAAAAAAAAAAAAAAAAAAAAAAAAAAAAAAAAAAAAAAAAAAAAAAAAAAAAAAAAAAAAAAAAAAAAAAAAAAAAAAAAAAAAAAAAAAAAAAAAAAAAAAAAAAAAAAAAAAAAAAAAAAAAAAAAAAAAAAAAAAAAAAAAAAAAAAAAAAAAAAAAAAAAAAAAAAAAAAAAAAAAAAAAAAAAAAAAAAAAAAAAAAAAAAAAAAAAAAAAAAAAAAAAAAAAAAAAAAAAAAAAAAAAAAAAAAAAAAAAAAAAAAAAAAAAAAAAAAAAAAAAAAAAAAAAAAAAAAAAAAAAAAAAAAAAAAAAAAAAAAAAAAAAAAAAAAAAAAAAAAAAAAAAAAAAAAAAAAAAAAAAAAAAAAAAAAAAAAAAAAAAAAAAAAAAAAAAAAAAAAAAAAAAAAAAAAAAAAAAAAAAAAAAAAAAAAAAAAAAAAAAAAAAAAAAAAAAAAAAAAAAAAAAAAAAAAAAAAAAAAAAAAAAAAAAAAAAAAAAAAAAAAAAAAAAAAAAAAAAAAAAAAAAAAAAAAAAAAAAAAAAAAAAAAAAAAAAAAAAAAAAAAAAAAAAAAAAAAAAAAAAAAAAAAAAAAAAAAAAAAAAAAAAAAAAAAAAAAAAAAAAAAAAAAAAAAAAAAAAAAAAAAAAAAAAAAAAAAAAAAAAAAAAAAAAAAAAAAAAAAAAAAAAAAAAAAAAAAAAAAAAAAAAAAAAAAAAAAAAAAAAAAAAAAAAAAAAAAAAAAAAAAAAAAAAAAAAAAAAAAAAAAAAAAAAAAAAAAAAAAAAAAAAAAAAAAAAAAAAAAAAAAAAAAAAAAAAAAAAAAAAAAAAAAAAAAAAAAAAAAAAAAAAAAAAAAAAAAAAAAAAAAAAAAAAAAAAAAAAAAAAAAAAAAAAAAAAAAAAAAAAAAAAAAAAAAAAAAAAAAAAAAAAAAAAAAAAAAAAAAAAAAAAAAAAAAAAAAAAAAAAAAAAAAAAAAAAAAAAAAAAAAAAAAAAAAAAAAAAAAAAAAAAAAAAAAAAAAAAAAAAAAAAAAAAAAAAAAAAAAAAAAAAAAAAAAAAAAAAAAAAAAAAAAAA=",
           "dtype": "i2"
          },
          "coloraxis": "coloraxis",
          "symbol": "circle"
         },
         "mode": "markers",
         "name": "image embeddings",
         "showlegend": true,
         "type": "scattergl",
         "x": {
          "bdata": "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",
          "dtype": "f4"
         },
         "xaxis": "x",
         "y": {
          "bdata": "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",
          "dtype": "f4"
         },
         "yaxis": "y"
        },
        {
         "marker": {
          "color": "yellow"
         },
         "mode": "markers",
         "name": "class : House Wren",
         "type": "scatter",
         "x": [
          null
         ],
         "y": [
          null
         ]
        }
       ],
       "layout": {
        "coloraxis": {
         "colorbar": {
          "title": {
           "text": "color"
          }
         },
         "colorscale": [
          [
           0,
           "#0d0887"
          ],
          [
           0.1111111111111111,
           "#46039f"
          ],
          [
           0.2222222222222222,
           "#7201a8"
          ],
          [
           0.3333333333333333,
           "#9c179e"
          ],
          [
           0.4444444444444444,
           "#bd3786"
          ],
          [
           0.5555555555555556,
           "#d8576b"
          ],
          [
           0.6666666666666666,
           "#ed7953"
          ],
          [
           0.7777777777777778,
           "#fb9f3a"
          ],
          [
           0.8888888888888888,
           "#fdca26"
          ],
          [
           1,
           "#f0f921"
          ]
         ]
        },
        "legend": {
         "bgcolor": "rgba(255,255,255,0.8)",
         "bordercolor": "black",
         "borderwidth": 1,
         "tracegroupgap": 0,
         "x": 0.01,
         "y": 0.99
        },
        "margin": {
         "t": 60
        },
        "template": {
         "data": {
          "bar": [
           {
            "error_x": {
             "color": "#2a3f5f"
            },
            "error_y": {
             "color": "#2a3f5f"
            },
            "marker": {
             "line": {
              "color": "#E5ECF6",
              "width": 0.5
             },
             "pattern": {
              "fillmode": "overlay",
              "size": 10,
              "solidity": 0.2
             }
            },
            "type": "bar"
           }
          ],
          "barpolar": [
           {
            "marker": {
             "line": {
              "color": "#E5ECF6",
              "width": 0.5
             },
             "pattern": {
              "fillmode": "overlay",
              "size": 10,
              "solidity": 0.2
             }
            },
            "type": "barpolar"
           }
          ],
          "carpet": [
           {
            "aaxis": {
             "endlinecolor": "#2a3f5f",
             "gridcolor": "white",
             "linecolor": "white",
             "minorgridcolor": "white",
             "startlinecolor": "#2a3f5f"
            },
            "baxis": {
             "endlinecolor": "#2a3f5f",
             "gridcolor": "white",
             "linecolor": "white",
             "minorgridcolor": "white",
             "startlinecolor": "#2a3f5f"
            },
            "type": "carpet"
           }
          ],
          "choropleth": [
           {
            "colorbar": {
             "outlinewidth": 0,
             "ticks": ""
            },
            "type": "choropleth"
           }
          ],
          "contour": [
           {
            "colorbar": {
             "outlinewidth": 0,
             "ticks": ""
            },
            "colorscale": [
             [
              0,
              "#0d0887"
             ],
             [
              0.1111111111111111,
              "#46039f"
             ],
             [
              0.2222222222222222,
              "#7201a8"
             ],
             [
              0.3333333333333333,
              "#9c179e"
             ],
             [
              0.4444444444444444,
              "#bd3786"
             ],
             [
              0.5555555555555556,
              "#d8576b"
             ],
             [
              0.6666666666666666,
              "#ed7953"
             ],
             [
              0.7777777777777778,
              "#fb9f3a"
             ],
             [
              0.8888888888888888,
              "#fdca26"
             ],
             [
              1,
              "#f0f921"
             ]
            ],
            "type": "contour"
           }
          ],
          "contourcarpet": [
           {
            "colorbar": {
             "outlinewidth": 0,
             "ticks": ""
            },
            "type": "contourcarpet"
           }
          ],
          "heatmap": [
           {
            "colorbar": {
             "outlinewidth": 0,
             "ticks": ""
            },
            "colorscale": [
             [
              0,
              "#0d0887"
             ],
             [
              0.1111111111111111,
              "#46039f"
             ],
             [
              0.2222222222222222,
              "#7201a8"
             ],
             [
              0.3333333333333333,
              "#9c179e"
             ],
             [
              0.4444444444444444,
              "#bd3786"
             ],
             [
              0.5555555555555556,
              "#d8576b"
             ],
             [
              0.6666666666666666,
              "#ed7953"
             ],
             [
              0.7777777777777778,
              "#fb9f3a"
             ],
             [
              0.8888888888888888,
              "#fdca26"
             ],
             [
              1,
              "#f0f921"
             ]
            ],
            "type": "heatmap"
           }
          ],
          "histogram": [
           {
            "marker": {
             "pattern": {
              "fillmode": "overlay",
              "size": 10,
              "solidity": 0.2
             }
            },
            "type": "histogram"
           }
          ],
          "histogram2d": [
           {
            "colorbar": {
             "outlinewidth": 0,
             "ticks": ""
            },
            "colorscale": [
             [
              0,
              "#0d0887"
             ],
             [
              0.1111111111111111,
              "#46039f"
             ],
             [
              0.2222222222222222,
              "#7201a8"
             ],
             [
              0.3333333333333333,
              "#9c179e"
             ],
             [
              0.4444444444444444,
              "#bd3786"
             ],
             [
              0.5555555555555556,
              "#d8576b"
             ],
             [
              0.6666666666666666,
              "#ed7953"
             ],
             [
              0.7777777777777778,
              "#fb9f3a"
             ],
             [
              0.8888888888888888,
              "#fdca26"
             ],
             [
              1,
              "#f0f921"
             ]
            ],
            "type": "histogram2d"
           }
          ],
          "histogram2dcontour": [
           {
            "colorbar": {
             "outlinewidth": 0,
             "ticks": ""
            },
            "colorscale": [
             [
              0,
              "#0d0887"
             ],
             [
              0.1111111111111111,
              "#46039f"
             ],
             [
              0.2222222222222222,
              "#7201a8"
             ],
             [
              0.3333333333333333,
              "#9c179e"
             ],
             [
              0.4444444444444444,
              "#bd3786"
             ],
             [
              0.5555555555555556,
              "#d8576b"
             ],
             [
              0.6666666666666666,
              "#ed7953"
             ],
             [
              0.7777777777777778,
              "#fb9f3a"
             ],
             [
              0.8888888888888888,
              "#fdca26"
             ],
             [
              1,
              "#f0f921"
             ]
            ],
            "type": "histogram2dcontour"
           }
          ],
          "mesh3d": [
           {
            "colorbar": {
             "outlinewidth": 0,
             "ticks": ""
            },
            "type": "mesh3d"
           }
          ],
          "parcoords": [
           {
            "line": {
             "colorbar": {
              "outlinewidth": 0,
              "ticks": ""
             }
            },
            "type": "parcoords"
           }
          ],
          "pie": [
           {
            "automargin": true,
            "type": "pie"
           }
          ],
          "scatter": [
           {
            "fillpattern": {
             "fillmode": "overlay",
             "size": 10,
             "solidity": 0.2
            },
            "type": "scatter"
           }
          ],
          "scatter3d": [
           {
            "line": {
             "colorbar": {
              "outlinewidth": 0,
              "ticks": ""
             }
            },
            "marker": {
             "colorbar": {
              "outlinewidth": 0,
              "ticks": ""
             }
            },
            "type": "scatter3d"
           }
          ],
          "scattercarpet": [
           {
            "marker": {
             "colorbar": {
              "outlinewidth": 0,
              "ticks": ""
             }
            },
            "type": "scattercarpet"
           }
          ],
          "scattergeo": [
           {
            "marker": {
             "colorbar": {
              "outlinewidth": 0,
              "ticks": ""
             }
            },
            "type": "scattergeo"
           }
          ],
          "scattergl": [
           {
            "marker": {
             "colorbar": {
              "outlinewidth": 0,
              "ticks": ""
             }
            },
            "type": "scattergl"
           }
          ],
          "scattermap": [
           {
            "marker": {
             "colorbar": {
              "outlinewidth": 0,
              "ticks": ""
             }
            },
            "type": "scattermap"
           }
          ],
          "scattermapbox": [
           {
            "marker": {
             "colorbar": {
              "outlinewidth": 0,
              "ticks": ""
             }
            },
            "type": "scattermapbox"
           }
          ],
          "scatterpolar": [
           {
            "marker": {
             "colorbar": {
              "outlinewidth": 0,
              "ticks": ""
             }
            },
            "type": "scatterpolar"
           }
          ],
          "scatterpolargl": [
           {
            "marker": {
             "colorbar": {
              "outlinewidth": 0,
              "ticks": ""
             }
            },
            "type": "scatterpolargl"
           }
          ],
          "scatterternary": [
           {
            "marker": {
             "colorbar": {
              "outlinewidth": 0,
              "ticks": ""
             }
            },
            "type": "scatterternary"
           }
          ],
          "surface": [
           {
            "colorbar": {
             "outlinewidth": 0,
             "ticks": ""
            },
            "colorscale": [
             [
              0,
              "#0d0887"
             ],
             [
              0.1111111111111111,
              "#46039f"
             ],
             [
              0.2222222222222222,
              "#7201a8"
             ],
             [
              0.3333333333333333,
              "#9c179e"
             ],
             [
              0.4444444444444444,
              "#bd3786"
             ],
             [
              0.5555555555555556,
              "#d8576b"
             ],
             [
              0.6666666666666666,
              "#ed7953"
             ],
             [
              0.7777777777777778,
              "#fb9f3a"
             ],
             [
              0.8888888888888888,
              "#fdca26"
             ],
             [
              1,
              "#f0f921"
             ]
            ],
            "type": "surface"
           }
          ],
          "table": [
           {
            "cells": {
             "fill": {
              "color": "#EBF0F8"
             },
             "line": {
              "color": "white"
             }
            },
            "header": {
             "fill": {
              "color": "#C8D4E3"
             },
             "line": {
              "color": "white"
             }
            },
            "type": "table"
           }
          ]
         },
         "layout": {
          "annotationdefaults": {
           "arrowcolor": "#2a3f5f",
           "arrowhead": 0,
           "arrowwidth": 1
          },
          "autotypenumbers": "strict",
          "coloraxis": {
           "colorbar": {
            "outlinewidth": 0,
            "ticks": ""
           }
          },
          "colorscale": {
           "diverging": [
            [
             0,
             "#8e0152"
            ],
            [
             0.1,
             "#c51b7d"
            ],
            [
             0.2,
             "#de77ae"
            ],
            [
             0.3,
             "#f1b6da"
            ],
            [
             0.4,
             "#fde0ef"
            ],
            [
             0.5,
             "#f7f7f7"
            ],
            [
             0.6,
             "#e6f5d0"
            ],
            [
             0.7,
             "#b8e186"
            ],
            [
             0.8,
             "#7fbc41"
            ],
            [
             0.9,
             "#4d9221"
            ],
            [
             1,
             "#276419"
            ]
           ],
           "sequential": [
            [
             0,
             "#0d0887"
            ],
            [
             0.1111111111111111,
             "#46039f"
            ],
            [
             0.2222222222222222,
             "#7201a8"
            ],
            [
             0.3333333333333333,
             "#9c179e"
            ],
            [
             0.4444444444444444,
             "#bd3786"
            ],
            [
             0.5555555555555556,
             "#d8576b"
            ],
            [
             0.6666666666666666,
             "#ed7953"
            ],
            [
             0.7777777777777778,
             "#fb9f3a"
            ],
            [
             0.8888888888888888,
             "#fdca26"
            ],
            [
             1,
             "#f0f921"
            ]
           ],
           "sequentialminus": [
            [
             0,
             "#0d0887"
            ],
            [
             0.1111111111111111,
             "#46039f"
            ],
            [
             0.2222222222222222,
             "#7201a8"
            ],
            [
             0.3333333333333333,
             "#9c179e"
            ],
            [
             0.4444444444444444,
             "#bd3786"
            ],
            [
             0.5555555555555556,
             "#d8576b"
            ],
            [
             0.6666666666666666,
             "#ed7953"
            ],
            [
             0.7777777777777778,
             "#fb9f3a"
            ],
            [
             0.8888888888888888,
             "#fdca26"
            ],
            [
             1,
             "#f0f921"
            ]
           ]
          },
          "colorway": [
           "#636efa",
           "#EF553B",
           "#00cc96",
           "#ab63fa",
           "#FFA15A",
           "#19d3f3",
           "#FF6692",
           "#B6E880",
           "#FF97FF",
           "#FECB52"
          ],
          "font": {
           "color": "#2a3f5f"
          },
          "geo": {
           "bgcolor": "white",
           "lakecolor": "white",
           "landcolor": "#E5ECF6",
           "showlakes": true,
           "showland": true,
           "subunitcolor": "white"
          },
          "hoverlabel": {
           "align": "left"
          },
          "hovermode": "closest",
          "mapbox": {
           "style": "light"
          },
          "paper_bgcolor": "white",
          "plot_bgcolor": "#E5ECF6",
          "polar": {
           "angularaxis": {
            "gridcolor": "white",
            "linecolor": "white",
            "ticks": ""
           },
           "bgcolor": "#E5ECF6",
           "radialaxis": {
            "gridcolor": "white",
            "linecolor": "white",
            "ticks": ""
           }
          },
          "scene": {
           "xaxis": {
            "backgroundcolor": "#E5ECF6",
            "gridcolor": "white",
            "gridwidth": 2,
            "linecolor": "white",
            "showbackground": true,
            "ticks": "",
            "zerolinecolor": "white"
           },
           "yaxis": {
            "backgroundcolor": "#E5ECF6",
            "gridcolor": "white",
            "gridwidth": 2,
            "linecolor": "white",
            "showbackground": true,
            "ticks": "",
            "zerolinecolor": "white"
           },
           "zaxis": {
            "backgroundcolor": "#E5ECF6",
            "gridcolor": "white",
            "gridwidth": 2,
            "linecolor": "white",
            "showbackground": true,
            "ticks": "",
            "zerolinecolor": "white"
           }
          },
          "shapedefaults": {
           "line": {
            "color": "#2a3f5f"
           }
          },
          "ternary": {
           "aaxis": {
            "gridcolor": "white",
            "linecolor": "white",
            "ticks": ""
           },
           "baxis": {
            "gridcolor": "white",
            "linecolor": "white",
            "ticks": ""
           },
           "bgcolor": "#E5ECF6",
           "caxis": {
            "gridcolor": "white",
            "linecolor": "white",
            "ticks": ""
           }
          },
          "title": {
           "x": 0.05
          },
          "xaxis": {
           "automargin": true,
           "gridcolor": "white",
           "linecolor": "white",
           "ticks": "",
           "title": {
            "standoff": 15
           },
           "zerolinecolor": "white",
           "zerolinewidth": 2
          },
          "yaxis": {
           "automargin": true,
           "gridcolor": "white",
           "linecolor": "white",
           "ticks": "",
           "title": {
            "standoff": 15
           },
           "zerolinecolor": "white",
           "zerolinewidth": 2
          }
         }
        },
        "xaxis": {
         "anchor": "y",
         "domain": [
          0,
          1
         ],
         "title": {
          "text": "x"
         }
        },
        "yaxis": {
         "anchor": "x",
         "domain": [
          0,
          1
         ],
         "title": {
          "text": "y"
         }
        }
       }
      }
     },
     "metadata": {},
     "output_type": "display_data"
    },
    {
     "name": "stdout",
     "output_type": "stream",
     "text": [
      "/home/onyxia/work/DetailCLIP/cluster_vis/76.png\n"
     ]
    },
    {
     "data": {
      "application/vnd.plotly.v1+json": {
       "config": {
        "plotlyServerURL": "https://plot.ly"
       },
       "data": [
        {
         "hovertemplate": "x=%{x}<br>y=%{y}<br>color=%{marker.color}<extra></extra>",
         "legendgroup": "",
         "marker": {
          "color": {
           "bdata": "AAAAAAAAAAAAAAAAAAAAAAAAAAAAAAAAAAAAAAAAAAAAAAAAAAAAAAAAAAAAAAAAAAAAAAAAAAAAAAAAAAAAAAAAAAAAAAAAAAAAAAAAAAAAAAAAAAAAAAAAAAAAAAAAAAAAAAAAAAAAAAAAAAAAAAAAAAAAAAAAAAAAAAAAAAAAAAAAAAAAAAAAAAAAAAAAAAAAAAAAAAAAAAAAAAAAAAAAAAAAAAAAAAAAAAAAAAAAAAAAAAAAAAAAAAAAAAAAAAAAAAAAAAAAAAAAAAAAAAAAAAAAAAAAAAAAAAAAAAAAAAAAAAAAAAAAAAAAAAAAAAAAAAAAAAAAAAAAAAAAAAAAAAAAAAAAAAAAAAAAAAAAAAAAAAAAAAAAAAAAAAAAAAAAAAAAAAAAAAAAAAAAAAAAAAAAAAAAAAAAAAAAAAAAAAAAAAAAAAAAAAAAAAAAAAAAAAAAAAAAAAAAAAAAAAAAAAAAAAAAAAAAAAAAAAAAAAAAAAAAAAAAAAAAAAAAAAAAAAAAAAAAAAAAAAAAAAAAAAAAAAAAAAAAAAAAAAAAAAAAAAAAAAAAAAAAAAAAAAAAAAAAAAAAAAAAAAAAAAAAAAAAAAAAAAAAAAAAAAAAAAAAAAAAAAAAAAAAAAAAAAAAAAAAAAAAAAAAAAAAAAAAAAAAAAAAAAAAAAAAAAAAAAAAAAAAAAAAAAAAAAAAAAAAAAAAAAAAAAAAAAAAAAAAAAAAAAAAAAAAAAAAAAAAAAAAAAAAAAAAAAAAAAAAAAAAAAAAAAAAAAAAAAAAAAAAAAAAAAAAAAAAAAAAAAAAAAAAAAAAAAAAAAAAAAAAAAAAAAAAAAAAAAAAAAAAAAAAAAAAAAAAAAAAAAAAAAAAAAAAAAAAAAAAAAAAAAAAAAAAAAAAAAAAAAAAAAAAAAAAAAAAAAAAAAAAAAAAAAAAAAAAAAAAAAAAAAAAAAAAAAAAAAAAAAAAAAAAAAAAAAAAAAAAAAAAAAAAAAAAAAAAAAAAAAAAAAAAAAAAAAAAAAAAAAAAAAAAAAAAAAAAAAAAAAAAAAAAAAAAAAAAAAAAAAAAAAAAAAAAAAAAAAAAAAAAAAAAAAAAAAAAAAAAAAAAAAAAAAAAAAAAAAAAAAAAAAAAAAAAAAAAAAAAAAAAAAAAAAAAAAAAAAAAAAAAAAAAAAAAAAAAAAAAAAAAAAAAAAAAAAAAAAAAAAAAAAAAAAAAAAAAAAAAAAAAAAAAAAAAAAAAAAAAAAAAAAAAAAAAAAAAAAAAAAAAAAAAAAAAAAAAAAAAAAAAAAAAAAAAAAAAAAAAAAAAAAAAAAAAAAAAAAAAAAAAAAAAAAAAAAAAAAAAAAAAAAAAAAAAAAAAAAAAAAAAAAAAAAAAAAAAAAAAAAAAAAAAAAAAAAAAAAAAAAAAAAAAAAAAAAAAAAAAAAAAAAAAAAAAAAAAAAAAAAAAAAAAAAAAAAAAAAAAAAAAAAAAAAAAAAAAAAAAAAAAAAAAAAAAAAAAAAAAAAAAAAAAAAAAAAAAAAAAAAAAAAAAAAAAAAAAAAAAAAAAAAAAAAAAAAAAAAAAAAAAAAAAAAAAAAAAAAAAAAAAAAAAAAAAAAAAAAAAAAAAAAAAAAAAAAAAAAAAAAAAAAAAAAAAAAAAAAAAAAAAAAAAAAAAAAAAAAAAAAAAAAAAAAAAAAAAAAAAAAAAAAAAAAAAAAAAAAAAAAAAAAAAAAAAAAAAAAAAAAAAAAAAAAAAAAAAAAAAAAAAAAAAAAAAAAAAAAAAAAAAAAAAAAAAAAAAAAAAAAAAAAAAAAAAAAAAAAAAAAAAAAAAAAAAAAAAAAAAAAAAAAAAAAAAAAAAAAAAAAAAAAAAAAAAAAAAAAAAAAAAAAAAAAAAAAAAAAAAAAAAAAAAAAAAAAAAAAAAAAAAAAAAAAAAAAAAAAAAAAAAAAAAAAAAAAAAAAAAAAAAAAAAAAAAAAAAAAAAAAAAAAAAAAAAAAAAAAAAAAAAAAAAAAAAAAAAAAAAAAAAAAAAAAAAAAAAAAAAAAAAAAAAAAAAAAAAAAAAAAAAAAAAAAAAAAAAAAAAAAAAAAAAAAAAAAAAAAAAAAAAAAAAAAAAAAAAAAAAAAAAAAAAAAAAAAAAAAAAAAAAAAAAAAAAAAAAAAAAAAAAAAAAAAAAAAAAAAAAAAAAAAAAAAAAAAAAAAAAAAAAAAAAAAAAAAAAAAAAAAAAAAAAAAAAAAAAAAAAAAAAAAAAAAAAAAAAAAAAAAAAAAAAAAAAAAAAAAAAAAAAAAAAAAAAAAAAAAAAAAAAAAAAAAAAAAAAAAAAAAAAAAAAAAAAAAAAAAAAAAAAAAAAAAAAAAAAAAAAAAAAAAAAAAAAAAAAAAAAAAAAAAAAAAAAAAAAAAAAAAAAAAAAAAAAAAAAAAAAAAAAAAAAAAAAAAAAAAAAAAAAAAAAAAAAAAAAAAAAAAAAAAAAAAAAAAAAAAAAAAAAAAAAAAAAAAAAAAAAAAAAAAAAAAAAAAAAAAAAAAAAAAAAAAAAAAAAAAAAAAAAAAAAAAAAAAAAAAAAAAAAAAAAAAAAAAAAAAAAAAAAAAAAAAAAAAAAAAAAAAAAAAAAAAAAAAAAAAAAAAAAAAAAAAAAAAAAAAAAAAAAAAAAAAAAAAAAAAAAAAAAAAAAAAAAAAAAAAAAAAAAAAAAAAAAAAAAAAAAAAAAAAAAAAAAAAAAAAAAAAAAAAAAAAAAAAAAAAAAAAAAAAAAAAAAAAAAAAAAAAAAAAAAAAAAAAAAAAAAAAAAAAAAAAAAAAAAAAAAAAAAAAAAAAAAAAAAAAAAAAAAAAAAAAAAAAAAAAAAAAAAAAAAAAAAAAAAAAAAAAAAAAAAAAAAAAAAAAAAAAAAAAAAAAAAAAAAAAAAAAAAAAAAAAAAAAAAAAAAAAAAAAAAAAAAAAAAAAAAAAAAAAAAAAAAAAAAAAAAAAAAAAAAAAAAAAAAAAAAAAAAAAAAAAAAAAAAAAAAAAAAAAAAAAAAAAAAAAAAAAAAAAAAAAAAAAAAAAAAAAAAAAAAAAAAAAAAAAAAAAAAAAAAAAAAAAAAAAAAAAAAAAAAAAAAAAAAAAAAAAAAAAAAAAAAAAAAAAAAAAAAAAAAAAAAAAAAAAAAAAAAAAAAAAAAAAAAAAAAAAAAAAAAAAAAAAAAAAAAAAAAAAAAAAAAAAAAAAAAAAAAAAAAAAAAAAAAAAAAAAAAAAAAAAAAAAAAAAAAAAAAAAAAAAAAAAAAAAAAAAAAAAAAAAAAAAAAAAAAAAAAAAAAAAAAAAAAAAAAAAAAAAAAAAAAAAAAAAAAAAAAAAAAAAAAAAAAAAAAAAAAAAAAAAAAAAAAAAAAAAAAAAAAAAAAAAAAAAAAAAAAAAAAAAAAAAAAAAAAAAAAAAAAAAAAAAAAAAAAAAAAAAAAAAAAAAAAAAAAAAAAAAAAAAAAAAAAAAAAAAAAAAAAAAAAAAAAAAAAAAAAAAAAAAAAAAAAAAAAAAAAAAAAAAAAAAAAAAAAAAAAAAAAAAAAAAAAAAAAAAAAAAAAAAAAAAAAAAAAAAAAAAAAAAAAAAAAAAAAAAAAAAAAAAAAAAAAAAAAAAAAAAAAAAAAAAAAAAAAAAAAAAAAAAAAAAAAAAAAAAAAAAAAAAAAAAAAAAAAAAAAAAAAAAAAAAAAAAAAAAAAAAAAAAAAAAAAAAAAAAAAAAAAAAAAAAAAAAAAAAAAAAAAAAAAAAAAAAAAAAAAAAAAAAAAAAAAAAAAAAAAAAAAAAAAAAAAAAAAAAAAAAAAAAAAAAAAAAAAAAAAAAAAAAAAAAAAAAAAAAAAAAAAAAAAAAAAAAAAAAAAAAAAAAAAAAAAAAAAAAAAAAAAAAAAAAAAAAAAAAAAAAAAAAAAAAAAAAAAAAAAAAAAAAAAAAAAAAAAAAAAAAAAAAAAAAAAAAAAAAAAAAAAAAAAAAAAAAAAAAAAAAAAAAAAAAAAAAAAAAAAAAAAAAAAAAAAAAAAAAAAAAAAAAAAAAAAAAAAAAAAAAAAAAAAAAAAAAAAAAAAAAAAAAAAAAAAAAAAAAAAAAAAAAAAAAAAAAAAAAAAAAAAAAAAAAAAAAAAAAAAAAAAAAAAAAAAAAAAAAAAAAAAAAAAAAAAAAAAAAAAAAAAAAAAAAAAAAAAAAAAAAAAAAAAAAAAAAAAAAAAAAAAAAAAAAAAAAAAAAAAAAAAAAAAAAAAAAAAAAAAAAAAAAAAAAAAAAAAAAAAAAAAAAAAAAAAAAAAAAAAAAAAAAAAAAAAAAAAAAAAAAAAAAAAAAAAAAAAAAAAAAAAAAAAAAAAAAAAAAAAAAAAAAAAAAAAAAAAAAAAAAAAAAAAAAAAAAAAAAAAAAAAAAAAAAAAAAAAAAAAAAAAAAAAAAAAAAAAAAAAAAAAAAAAAAAAAAAAAAAAAAAAAAAAAAAAAAAAAAAAAAAAAAAAAAAAAAAAAAAAAAAAAAAAAAAAAAAAAAAAAAAAAAAAAAAAAAAAAAAAAAAAAAAAAAAAAAAAAAAAAAAAAAAAAAAAAAAAAAAAAAAAAAAAAAAAAAAAAAAAAAAAAAAAAAAAAAAAAAAAAAAAAAAAAAAAAAAAAAAAAAAAAAAAAAAAAAAAAAAAAAAAAAAAAAAAAAAAAAAAAAAAAAAAAAAAAAAAAAAAAAAAAAAAAAAAAAAAAAAAAAAAAAAAAAAAAAAAAAAAAAAAAAAAAAAAAAAAAAAAAAAAAAAAAAAAAAAAAAAAAAAAAAAAAAAAAAAAAAAAAAAAAAAAAAAAAAAAAAAAAAAAAAAAAAAAAAAAAAAAAAAAAAAAAAAAAAAAAAAAAAAAAAAAAAAAAAAAAAAAAAAAAAAAAAAAAAAAAAAAAAAAAAAAAAAAAAAAAAAAAAAAAAAAAAAAAAAAAAAAAAAAAAAAAAAAAAAAAAAAAAAAAAAAAAAAAAAAAAAAAAAAAAAAAAAAAAAAAAAAAAAAAAAAAAAAAAAAAAAAAAAAAAAAAAAAAAAAAAAAAAAAAAAAAAAAAAAAAAAAAAAAAAAAAAAAAAAAAAAAAAAAAAAAAAAAAAAAAAAAAAAAAAAAAAAAAAAAAAAAAAAAAAAAAAAAAAAAAAAAAAAAAAAAAAAAAAAAAAAAAAAAAAAAAAAAAAAAAAAAAAAAAAAAAAAAAAAAAAAAAAAAAAAAAAAAAAAAAAAAAAAAAAAAAAAAAAAAAAAAAAAAAAAAAAAAAAAAAAAAAAAAAAAAAAAAAAAAAAAAAAAAAAAAAAAAAAAAAAAAAAAAAAAAAAAAAAAAAAAAAAAAAAAAAAAAAAAAAAAAAAAAAAAAAAAAAAAAAAAAAAAAAAAAAAAAAAAAAAAAAAAAAAAAAAAAAAAAAAAAAAAAAAAAAAAAAAAAAAAAAAAAAAAAAAAAAAAAAAAAAAAAAAAAAAAAAAAAAAAAAAAAAAAAAAAAAAAAAAAAAAAAAAAAAAAAAAAAAAAAAAAAAAAAAAAAAAAAAAAAAAAAAAAAAAAAAAAAAAAAAAAAAAAAAAAAAAAAAAAAAAAAAAAAAAAAAAAAAAAAAAAAAAAAAAAAAAAAAAAAAAAAAAAAAAAAAAAAAAAAAAAAAAAAAAAAAAAAAAAAAAAAAAAAAAAAAAAAAAAAAAAAAAAAAAAAAAAAAAAAAAAAAAAAAAAAAAAAAAAAAAAAAAAAAAAAAAAAAAAAAAAAAAAAAAAAAAAAAAAAAAAAAAAAAAAAAAAAAAAAAAAAAAAAAAAAAAAAAAAAAAAAAAAAAAAAAAAAAAAAAAAAAAAAAAAAAAAAAAAAAAAAAAAAAAAAAAAAAAAAAAAAAAAAAAAAAAAAAAAAAAAAAAAAAAAAAAAAAAAAAAAAAAAAAAAAAAAAAAAAAAAAAAAAAAAAAAAAAAAAAAAAAAAAAAAAAAAAAAAAAAAAAAAAAAAAAAAAAAAAAAAAAAAAAAAAAAAAAAAAAAAAAAAAAAAAAAAAAAAAAAAAAAAAAAAAAAAAAAAAAAAAAAAAAAAAAAAAAAAAAAAAAAAAAAAAAAAAAAAAAAAAAAAAAAAAAAAAAAAAAAAAAAAAAAAAAAAAAAAAAAAAAAAAAAAATExMTExMTExMTExMTExMTExMTExMTExMTExMTExMAAAAAAAAAAAAAAAAAAAAAAAAAAAAAAAAAAAAAAAAAAAAAAAAAAAAAAAAAAAAAAAAAAAAAAAAAAAAAAAAAAAAAAAAAAAAAAAAAAAAAAAAAAAAAAAAAAAAAAAAAAAAAAAAAAAAAAAAAAAAAAAAAAAAAAAAAAAAAAAAAAAAAAAAAAAAAAAAAAAAAAAAAAAAAAAAAAAAAAAAAAAAAAAAAAAAAAAAAAAAAAAAAAAAAAAAAAAAAAAAAAAAAAAAAAAAAAAAAAAAAAAAAAAAAAAAAAAAAAAAAAAAAAAAAAAAAAAAAAAAAAAAAAAAAAAAAAAAAAAAAAAAAAAAAAAAAAAAAAAAAAAAAAAAAAAAAAAAAAAAAAAAAAAAAAAAAAAAAAAAAAAAAAAAAAAAAAAAAAAAAAAAAAAAAAAAAAAAAAAAAAAAAAAAAAAAAAAAAAAAAAAAAAAAAAAAAAAAAAAAAAAAAAAAAAAAAAAAAAAAAAAAAAAAAAAAAAAAAAAAAAAAAAAAAAAAAAAAAAAAAAAAAAAAAAAAAAAAAAAAAAAAAAAAAAAAAAAAAAAAAAAAAAAAAAAAAAAAAAAAAAAAAAAAAAAAAAAAAAAAAAAAAAAAAAAAAAAAAAAAAAAAAAAAAAAAAAAAAAAAAAAAAAAAAAAAAAAAAAAAAAAAAAAAAAAAAAAAAAAAAAAAAAAAAAAAAAAAAAAAAAAAAAAAAAAAAAAAAAAAAAAAAAAAAAAAAAAAAAAAAAAAAAAAAAAAAAAAAAAAAAAAAAAAAAAAAAAAAAAAAAAAAAAAAAAAAAAAAAAAAAAAAAAAAAAAAAAAAAAAAAAAAAAAAAAAAAAAAAAAAAAAAAAAAAAAAAAAAAAAAAAAAAAAAAAAAAAAAAAAAAAAAAAAAAAAAAAAAAAAAAAAAAAAAAAAAAAAAAAAAAAAAAAAAAAAAAAAAAAAAAAAAAAAAAAAAAAAAAAAAAAAAAAAAAAAAAAAAAAAAAAAAAAAAAAAAAAAAAAAAAAAAAAAAAAAAAAAAAAAAAAAAAAAAAAAAAAAAAAAAAAAAAAAAAAAAAAAAAAAAAAAAAAAAAAAAAAAAAAAAAAAAAAAAAAAAAAAAAAAAAAAAAAAAAAAAAAAAAAAAAAAAAAAAAAAAAAAAAAAAAAAAAAAAAAAAAAAAAAAAAAAAAAAAAAAAAAAAAAAAAAAAAAAAAAAAAAAAAAAAAAAAAAAAAAAAAAAAAAAAAAAAAAAAAAAAAAAAAAAAAAAAAAAAAAAAAAAAAAAAAAAAAAAAAAAAAAAAAAAAAAAAAAAAAAAAAAAAAAAAAAAAAAAAAAAAAAAAAAAAAAAAAAAAAAAAAAAAAAAAAAAAAAAAAAAAAAAAAAAAAAAAAAAAAAAAAAAAAAAAAAAAAAAAAAAAAAAAAAAAAAAAAAAAAAAAAAAAAAAAAAAAAAAAAAAAAAAAAAAAAAAAAAAAAAAAAAAAAAAAAAAAAAAAAAAAAAAAAAAAAAAAAAAAAAAAAAAAAAAAAAAAAAAAAAAAAAAAAAAAAAAAAAAAAAAAAAAAAAAAAAAAAAAAAAAAAAAAAAAAAAAAAAAAAAAAAAAAAAAAAAAAAAAAAAAAAAAAAAAAAAAAAAAAAAAAAAAAAAAAAAAAAAAAAAAAAAAAAAAAAAAAAAAAAAAAAAAAAAAAAAAAAAAAAAAAAAAAAAAAAAAAAAAAAAAAAAAAAAAAAAAAAAAAAAAAAAAAAAAAAAAAAAAAAAAAAAAAAAAAAAAAAAAAAAAAAAAAAAAAAAAAAAAAAAAAAAAAAAAAAAAAAAAAA==",
           "dtype": "i1"
          },
          "coloraxis": "coloraxis",
          "symbol": "circle"
         },
         "mode": "markers",
         "name": "image embeddings",
         "showlegend": true,
         "type": "scattergl",
         "x": {
          "bdata": "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",
          "dtype": "f4"
         },
         "xaxis": "x",
         "y": {
          "bdata": "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",
          "dtype": "f4"
         },
         "yaxis": "y"
        },
        {
         "marker": {
          "color": "yellow"
         },
         "mode": "markers",
         "name": "class : Tropical Kingbird",
         "type": "scatter",
         "x": [
          null
         ],
         "y": [
          null
         ]
        }
       ],
       "layout": {
        "coloraxis": {
         "colorbar": {
          "title": {
           "text": "color"
          }
         },
         "colorscale": [
          [
           0,
           "#0d0887"
          ],
          [
           0.1111111111111111,
           "#46039f"
          ],
          [
           0.2222222222222222,
           "#7201a8"
          ],
          [
           0.3333333333333333,
           "#9c179e"
          ],
          [
           0.4444444444444444,
           "#bd3786"
          ],
          [
           0.5555555555555556,
           "#d8576b"
          ],
          [
           0.6666666666666666,
           "#ed7953"
          ],
          [
           0.7777777777777778,
           "#fb9f3a"
          ],
          [
           0.8888888888888888,
           "#fdca26"
          ],
          [
           1,
           "#f0f921"
          ]
         ]
        },
        "legend": {
         "bgcolor": "rgba(255,255,255,0.8)",
         "bordercolor": "black",
         "borderwidth": 1,
         "tracegroupgap": 0,
         "x": 0.01,
         "y": 0.99
        },
        "margin": {
         "t": 60
        },
        "template": {
         "data": {
          "bar": [
           {
            "error_x": {
             "color": "#2a3f5f"
            },
            "error_y": {
             "color": "#2a3f5f"
            },
            "marker": {
             "line": {
              "color": "#E5ECF6",
              "width": 0.5
             },
             "pattern": {
              "fillmode": "overlay",
              "size": 10,
              "solidity": 0.2
             }
            },
            "type": "bar"
           }
          ],
          "barpolar": [
           {
            "marker": {
             "line": {
              "color": "#E5ECF6",
              "width": 0.5
             },
             "pattern": {
              "fillmode": "overlay",
              "size": 10,
              "solidity": 0.2
             }
            },
            "type": "barpolar"
           }
          ],
          "carpet": [
           {
            "aaxis": {
             "endlinecolor": "#2a3f5f",
             "gridcolor": "white",
             "linecolor": "white",
             "minorgridcolor": "white",
             "startlinecolor": "#2a3f5f"
            },
            "baxis": {
             "endlinecolor": "#2a3f5f",
             "gridcolor": "white",
             "linecolor": "white",
             "minorgridcolor": "white",
             "startlinecolor": "#2a3f5f"
            },
            "type": "carpet"
           }
          ],
          "choropleth": [
           {
            "colorbar": {
             "outlinewidth": 0,
             "ticks": ""
            },
            "type": "choropleth"
           }
          ],
          "contour": [
           {
            "colorbar": {
             "outlinewidth": 0,
             "ticks": ""
            },
            "colorscale": [
             [
              0,
              "#0d0887"
             ],
             [
              0.1111111111111111,
              "#46039f"
             ],
             [
              0.2222222222222222,
              "#7201a8"
             ],
             [
              0.3333333333333333,
              "#9c179e"
             ],
             [
              0.4444444444444444,
              "#bd3786"
             ],
             [
              0.5555555555555556,
              "#d8576b"
             ],
             [
              0.6666666666666666,
              "#ed7953"
             ],
             [
              0.7777777777777778,
              "#fb9f3a"
             ],
             [
              0.8888888888888888,
              "#fdca26"
             ],
             [
              1,
              "#f0f921"
             ]
            ],
            "type": "contour"
           }
          ],
          "contourcarpet": [
           {
            "colorbar": {
             "outlinewidth": 0,
             "ticks": ""
            },
            "type": "contourcarpet"
           }
          ],
          "heatmap": [
           {
            "colorbar": {
             "outlinewidth": 0,
             "ticks": ""
            },
            "colorscale": [
             [
              0,
              "#0d0887"
             ],
             [
              0.1111111111111111,
              "#46039f"
             ],
             [
              0.2222222222222222,
              "#7201a8"
             ],
             [
              0.3333333333333333,
              "#9c179e"
             ],
             [
              0.4444444444444444,
              "#bd3786"
             ],
             [
              0.5555555555555556,
              "#d8576b"
             ],
             [
              0.6666666666666666,
              "#ed7953"
             ],
             [
              0.7777777777777778,
              "#fb9f3a"
             ],
             [
              0.8888888888888888,
              "#fdca26"
             ],
             [
              1,
              "#f0f921"
             ]
            ],
            "type": "heatmap"
           }
          ],
          "histogram": [
           {
            "marker": {
             "pattern": {
              "fillmode": "overlay",
              "size": 10,
              "solidity": 0.2
             }
            },
            "type": "histogram"
           }
          ],
          "histogram2d": [
           {
            "colorbar": {
             "outlinewidth": 0,
             "ticks": ""
            },
            "colorscale": [
             [
              0,
              "#0d0887"
             ],
             [
              0.1111111111111111,
              "#46039f"
             ],
             [
              0.2222222222222222,
              "#7201a8"
             ],
             [
              0.3333333333333333,
              "#9c179e"
             ],
             [
              0.4444444444444444,
              "#bd3786"
             ],
             [
              0.5555555555555556,
              "#d8576b"
             ],
             [
              0.6666666666666666,
              "#ed7953"
             ],
             [
              0.7777777777777778,
              "#fb9f3a"
             ],
             [
              0.8888888888888888,
              "#fdca26"
             ],
             [
              1,
              "#f0f921"
             ]
            ],
            "type": "histogram2d"
           }
          ],
          "histogram2dcontour": [
           {
            "colorbar": {
             "outlinewidth": 0,
             "ticks": ""
            },
            "colorscale": [
             [
              0,
              "#0d0887"
             ],
             [
              0.1111111111111111,
              "#46039f"
             ],
             [
              0.2222222222222222,
              "#7201a8"
             ],
             [
              0.3333333333333333,
              "#9c179e"
             ],
             [
              0.4444444444444444,
              "#bd3786"
             ],
             [
              0.5555555555555556,
              "#d8576b"
             ],
             [
              0.6666666666666666,
              "#ed7953"
             ],
             [
              0.7777777777777778,
              "#fb9f3a"
             ],
             [
              0.8888888888888888,
              "#fdca26"
             ],
             [
              1,
              "#f0f921"
             ]
            ],
            "type": "histogram2dcontour"
           }
          ],
          "mesh3d": [
           {
            "colorbar": {
             "outlinewidth": 0,
             "ticks": ""
            },
            "type": "mesh3d"
           }
          ],
          "parcoords": [
           {
            "line": {
             "colorbar": {
              "outlinewidth": 0,
              "ticks": ""
             }
            },
            "type": "parcoords"
           }
          ],
          "pie": [
           {
            "automargin": true,
            "type": "pie"
           }
          ],
          "scatter": [
           {
            "fillpattern": {
             "fillmode": "overlay",
             "size": 10,
             "solidity": 0.2
            },
            "type": "scatter"
           }
          ],
          "scatter3d": [
           {
            "line": {
             "colorbar": {
              "outlinewidth": 0,
              "ticks": ""
             }
            },
            "marker": {
             "colorbar": {
              "outlinewidth": 0,
              "ticks": ""
             }
            },
            "type": "scatter3d"
           }
          ],
          "scattercarpet": [
           {
            "marker": {
             "colorbar": {
              "outlinewidth": 0,
              "ticks": ""
             }
            },
            "type": "scattercarpet"
           }
          ],
          "scattergeo": [
           {
            "marker": {
             "colorbar": {
              "outlinewidth": 0,
              "ticks": ""
             }
            },
            "type": "scattergeo"
           }
          ],
          "scattergl": [
           {
            "marker": {
             "colorbar": {
              "outlinewidth": 0,
              "ticks": ""
             }
            },
            "type": "scattergl"
           }
          ],
          "scattermap": [
           {
            "marker": {
             "colorbar": {
              "outlinewidth": 0,
              "ticks": ""
             }
            },
            "type": "scattermap"
           }
          ],
          "scattermapbox": [
           {
            "marker": {
             "colorbar": {
              "outlinewidth": 0,
              "ticks": ""
             }
            },
            "type": "scattermapbox"
           }
          ],
          "scatterpolar": [
           {
            "marker": {
             "colorbar": {
              "outlinewidth": 0,
              "ticks": ""
             }
            },
            "type": "scatterpolar"
           }
          ],
          "scatterpolargl": [
           {
            "marker": {
             "colorbar": {
              "outlinewidth": 0,
              "ticks": ""
             }
            },
            "type": "scatterpolargl"
           }
          ],
          "scatterternary": [
           {
            "marker": {
             "colorbar": {
              "outlinewidth": 0,
              "ticks": ""
             }
            },
            "type": "scatterternary"
           }
          ],
          "surface": [
           {
            "colorbar": {
             "outlinewidth": 0,
             "ticks": ""
            },
            "colorscale": [
             [
              0,
              "#0d0887"
             ],
             [
              0.1111111111111111,
              "#46039f"
             ],
             [
              0.2222222222222222,
              "#7201a8"
             ],
             [
              0.3333333333333333,
              "#9c179e"
             ],
             [
              0.4444444444444444,
              "#bd3786"
             ],
             [
              0.5555555555555556,
              "#d8576b"
             ],
             [
              0.6666666666666666,
              "#ed7953"
             ],
             [
              0.7777777777777778,
              "#fb9f3a"
             ],
             [
              0.8888888888888888,
              "#fdca26"
             ],
             [
              1,
              "#f0f921"
             ]
            ],
            "type": "surface"
           }
          ],
          "table": [
           {
            "cells": {
             "fill": {
              "color": "#EBF0F8"
             },
             "line": {
              "color": "white"
             }
            },
            "header": {
             "fill": {
              "color": "#C8D4E3"
             },
             "line": {
              "color": "white"
             }
            },
            "type": "table"
           }
          ]
         },
         "layout": {
          "annotationdefaults": {
           "arrowcolor": "#2a3f5f",
           "arrowhead": 0,
           "arrowwidth": 1
          },
          "autotypenumbers": "strict",
          "coloraxis": {
           "colorbar": {
            "outlinewidth": 0,
            "ticks": ""
           }
          },
          "colorscale": {
           "diverging": [
            [
             0,
             "#8e0152"
            ],
            [
             0.1,
             "#c51b7d"
            ],
            [
             0.2,
             "#de77ae"
            ],
            [
             0.3,
             "#f1b6da"
            ],
            [
             0.4,
             "#fde0ef"
            ],
            [
             0.5,
             "#f7f7f7"
            ],
            [
             0.6,
             "#e6f5d0"
            ],
            [
             0.7,
             "#b8e186"
            ],
            [
             0.8,
             "#7fbc41"
            ],
            [
             0.9,
             "#4d9221"
            ],
            [
             1,
             "#276419"
            ]
           ],
           "sequential": [
            [
             0,
             "#0d0887"
            ],
            [
             0.1111111111111111,
             "#46039f"
            ],
            [
             0.2222222222222222,
             "#7201a8"
            ],
            [
             0.3333333333333333,
             "#9c179e"
            ],
            [
             0.4444444444444444,
             "#bd3786"
            ],
            [
             0.5555555555555556,
             "#d8576b"
            ],
            [
             0.6666666666666666,
             "#ed7953"
            ],
            [
             0.7777777777777778,
             "#fb9f3a"
            ],
            [
             0.8888888888888888,
             "#fdca26"
            ],
            [
             1,
             "#f0f921"
            ]
           ],
           "sequentialminus": [
            [
             0,
             "#0d0887"
            ],
            [
             0.1111111111111111,
             "#46039f"
            ],
            [
             0.2222222222222222,
             "#7201a8"
            ],
            [
             0.3333333333333333,
             "#9c179e"
            ],
            [
             0.4444444444444444,
             "#bd3786"
            ],
            [
             0.5555555555555556,
             "#d8576b"
            ],
            [
             0.6666666666666666,
             "#ed7953"
            ],
            [
             0.7777777777777778,
             "#fb9f3a"
            ],
            [
             0.8888888888888888,
             "#fdca26"
            ],
            [
             1,
             "#f0f921"
            ]
           ]
          },
          "colorway": [
           "#636efa",
           "#EF553B",
           "#00cc96",
           "#ab63fa",
           "#FFA15A",
           "#19d3f3",
           "#FF6692",
           "#B6E880",
           "#FF97FF",
           "#FECB52"
          ],
          "font": {
           "color": "#2a3f5f"
          },
          "geo": {
           "bgcolor": "white",
           "lakecolor": "white",
           "landcolor": "#E5ECF6",
           "showlakes": true,
           "showland": true,
           "subunitcolor": "white"
          },
          "hoverlabel": {
           "align": "left"
          },
          "hovermode": "closest",
          "mapbox": {
           "style": "light"
          },
          "paper_bgcolor": "white",
          "plot_bgcolor": "#E5ECF6",
          "polar": {
           "angularaxis": {
            "gridcolor": "white",
            "linecolor": "white",
            "ticks": ""
           },
           "bgcolor": "#E5ECF6",
           "radialaxis": {
            "gridcolor": "white",
            "linecolor": "white",
            "ticks": ""
           }
          },
          "scene": {
           "xaxis": {
            "backgroundcolor": "#E5ECF6",
            "gridcolor": "white",
            "gridwidth": 2,
            "linecolor": "white",
            "showbackground": true,
            "ticks": "",
            "zerolinecolor": "white"
           },
           "yaxis": {
            "backgroundcolor": "#E5ECF6",
            "gridcolor": "white",
            "gridwidth": 2,
            "linecolor": "white",
            "showbackground": true,
            "ticks": "",
            "zerolinecolor": "white"
           },
           "zaxis": {
            "backgroundcolor": "#E5ECF6",
            "gridcolor": "white",
            "gridwidth": 2,
            "linecolor": "white",
            "showbackground": true,
            "ticks": "",
            "zerolinecolor": "white"
           }
          },
          "shapedefaults": {
           "line": {
            "color": "#2a3f5f"
           }
          },
          "ternary": {
           "aaxis": {
            "gridcolor": "white",
            "linecolor": "white",
            "ticks": ""
           },
           "baxis": {
            "gridcolor": "white",
            "linecolor": "white",
            "ticks": ""
           },
           "bgcolor": "#E5ECF6",
           "caxis": {
            "gridcolor": "white",
            "linecolor": "white",
            "ticks": ""
           }
          },
          "title": {
           "x": 0.05
          },
          "xaxis": {
           "automargin": true,
           "gridcolor": "white",
           "linecolor": "white",
           "ticks": "",
           "title": {
            "standoff": 15
           },
           "zerolinecolor": "white",
           "zerolinewidth": 2
          },
          "yaxis": {
           "automargin": true,
           "gridcolor": "white",
           "linecolor": "white",
           "ticks": "",
           "title": {
            "standoff": 15
           },
           "zerolinecolor": "white",
           "zerolinewidth": 2
          }
         }
        },
        "xaxis": {
         "anchor": "y",
         "domain": [
          0,
          1
         ],
         "title": {
          "text": "x"
         }
        },
        "yaxis": {
         "anchor": "x",
         "domain": [
          0,
          1
         ],
         "title": {
          "text": "y"
         }
        }
       }
      }
     },
     "metadata": {},
     "output_type": "display_data"
    }
   ],
   "source": [
    "# Cluster visualisation\n",
    "\n",
    "nb=180\n",
    "bleu = 0\n",
    "\n",
    "nbs = [random.randint(40,200) for _ in range(5)]\n",
    "\n",
    "image_tsne = image_text_tsne[200:]\n",
    "\n",
    "for nb in nbs:\n",
    "    colors=shuffled_colors.copy()\n",
    "    for i,color in enumerate(colors):\n",
    "        if color!=nb:\n",
    "            colors[i]=bleu\n",
    "\n",
    "    path = f'/home/onyxia/work/DetailCLIP/cluster_vis/{nb}.png'\n",
    "    print(path)\n",
    "    \n",
    "    title = f\"class : {labels[nb]}\"\n",
    "    fig = px.scatter(x=image_tsne[:, 0], y=image_tsne[:, 1], color=colors)\n",
    "    fig['data'][0]['showlegend']=True\n",
    "    fig['data'][0]['name']=\"image embeddings\"\n",
    "\n",
    "    fig.add_trace(go.Scatter(\n",
    "        x=[None],\n",
    "        y=[None],\n",
    "        mode='markers',\n",
    "        marker=dict(color='yellow'),\n",
    "        name=title\n",
    "    ))\n",
    "\n",
    "    fig.update_layout(\n",
    "    legend=dict(\n",
    "        x=0.01,\n",
    "        y=0.99,\n",
    "        bgcolor='rgba(255,255,255,0.8)',\n",
    "        bordercolor='black',\n",
    "        borderwidth=1\n",
    "        )\n",
    "    )\n",
    "    fig.show()\n",
    "    #fig.write_image(path, format='png', engine='kaleido')\n",
    "\n"
   ]
  }
 ],
 "metadata": {
  "kernelspec": {
   "display_name": "Python 3",
   "language": "python",
   "name": "python3"
  },
  "language_info": {
   "codemirror_mode": {
    "name": "ipython",
    "version": 3
   },
   "file_extension": ".py",
   "mimetype": "text/x-python",
   "name": "python",
   "nbconvert_exporter": "python",
   "pygments_lexer": "ipython3",
   "version": "3.12.9"
  }
 },
 "nbformat": 4,
 "nbformat_minor": 5
}
