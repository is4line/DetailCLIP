{
 "cells": [
  {
   "cell_type": "code",
   "execution_count": 2,
   "id": "eb382a55",
   "metadata": {},
   "outputs": [
    {
     "name": "stderr",
     "output_type": "stream",
     "text": [
      "/usr/local/lib/python3.12/site-packages/tqdm/auto.py:21: TqdmWarning: IProgress not found. Please update jupyter and ipywidgets. See https://ipywidgets.readthedocs.io/en/stable/user_install.html\n",
      "  from .autonotebook import tqdm as notebook_tqdm\n"
     ]
    }
   ],
   "source": [
    "from sklearn.decomposition import PCA\n",
    "from sklearn.manifold import TSNE\n",
    "import models\n",
    "import torch\n",
    "from collections import OrderedDict\n",
    "import json\n",
    "import os\n",
    "import torchvision.transforms as transforms\n",
    "from tokenizer import SimpleTokenizer\n",
    "import datasets\n",
    "import utils\n",
    "import matplotlib.pyplot as plt\n",
    "import seaborn as sns\n",
    "import pandas as pd\n",
    "import numpy as np\n",
    "import plotly.express as px\n",
    "import plotly.colors as pc\n",
    "import plotly.io as pio\n",
    "import random\n",
    "import kaleido\n",
    "import plotly.graph_objects as go"
   ]
  },
  {
   "cell_type": "code",
   "execution_count": 3,
   "id": "0aaee4da",
   "metadata": {},
   "outputs": [
    {
     "name": "stdout",
     "output_type": "stream",
     "text": [
      "\tCreating MAE projection head\n",
      "\tMAE projection head created\n",
      "\tCreating IBOT projection head\n"
     ]
    },
    {
     "name": "stderr",
     "output_type": "stream",
     "text": [
      "/usr/local/lib/python3.12/site-packages/torch/nn/utils/weight_norm.py:143: FutureWarning: `torch.nn.utils.weight_norm` is deprecated in favor of `torch.nn.utils.parametrizations.weight_norm`.\n",
      "  WeightNorm.apply(module, name, dim)\n"
     ]
    },
    {
     "name": "stdout",
     "output_type": "stream",
     "text": [
      "\tkeys have been loaded for ibot head with status: <All keys matched successfully>\n",
      "\tIBOT projection head created\n",
      "\tDetailCLIP model created\n"
     ]
    },
    {
     "data": {
      "text/plain": [
       "ICLIP(\n",
       "  (visual): MaskVisionTransformer(\n",
       "    (patch_embed): PatchEmbed(\n",
       "      (proj): Conv2d(3, 768, kernel_size=(16, 16), stride=(16, 16))\n",
       "      (norm): Identity()\n",
       "    )\n",
       "    (pos_drop): Dropout(p=0.0, inplace=False)\n",
       "    (blocks): Sequential(\n",
       "      (0): Block(\n",
       "        (norm1): LayerNorm((768,), eps=1e-06, elementwise_affine=True)\n",
       "        (attn): Attention(\n",
       "          (qkv): Linear(in_features=768, out_features=2304, bias=True)\n",
       "          (attn_drop): Dropout(p=0.0, inplace=False)\n",
       "          (proj): Linear(in_features=768, out_features=768, bias=True)\n",
       "          (proj_drop): Dropout(p=0.0, inplace=False)\n",
       "        )\n",
       "        (drop_path): Identity()\n",
       "        (norm2): LayerNorm((768,), eps=1e-06, elementwise_affine=True)\n",
       "        (mlp): Mlp(\n",
       "          (fc1): Linear(in_features=768, out_features=3072, bias=True)\n",
       "          (act): GELU(approximate='none')\n",
       "          (drop1): Dropout(p=0.0, inplace=False)\n",
       "          (fc2): Linear(in_features=3072, out_features=768, bias=True)\n",
       "          (drop2): Dropout(p=0.0, inplace=False)\n",
       "        )\n",
       "      )\n",
       "      (1): Block(\n",
       "        (norm1): LayerNorm((768,), eps=1e-06, elementwise_affine=True)\n",
       "        (attn): Attention(\n",
       "          (qkv): Linear(in_features=768, out_features=2304, bias=True)\n",
       "          (attn_drop): Dropout(p=0.0, inplace=False)\n",
       "          (proj): Linear(in_features=768, out_features=768, bias=True)\n",
       "          (proj_drop): Dropout(p=0.0, inplace=False)\n",
       "        )\n",
       "        (drop_path): Identity()\n",
       "        (norm2): LayerNorm((768,), eps=1e-06, elementwise_affine=True)\n",
       "        (mlp): Mlp(\n",
       "          (fc1): Linear(in_features=768, out_features=3072, bias=True)\n",
       "          (act): GELU(approximate='none')\n",
       "          (drop1): Dropout(p=0.0, inplace=False)\n",
       "          (fc2): Linear(in_features=3072, out_features=768, bias=True)\n",
       "          (drop2): Dropout(p=0.0, inplace=False)\n",
       "        )\n",
       "      )\n",
       "      (2): Block(\n",
       "        (norm1): LayerNorm((768,), eps=1e-06, elementwise_affine=True)\n",
       "        (attn): Attention(\n",
       "          (qkv): Linear(in_features=768, out_features=2304, bias=True)\n",
       "          (attn_drop): Dropout(p=0.0, inplace=False)\n",
       "          (proj): Linear(in_features=768, out_features=768, bias=True)\n",
       "          (proj_drop): Dropout(p=0.0, inplace=False)\n",
       "        )\n",
       "        (drop_path): Identity()\n",
       "        (norm2): LayerNorm((768,), eps=1e-06, elementwise_affine=True)\n",
       "        (mlp): Mlp(\n",
       "          (fc1): Linear(in_features=768, out_features=3072, bias=True)\n",
       "          (act): GELU(approximate='none')\n",
       "          (drop1): Dropout(p=0.0, inplace=False)\n",
       "          (fc2): Linear(in_features=3072, out_features=768, bias=True)\n",
       "          (drop2): Dropout(p=0.0, inplace=False)\n",
       "        )\n",
       "      )\n",
       "      (3): Block(\n",
       "        (norm1): LayerNorm((768,), eps=1e-06, elementwise_affine=True)\n",
       "        (attn): Attention(\n",
       "          (qkv): Linear(in_features=768, out_features=2304, bias=True)\n",
       "          (attn_drop): Dropout(p=0.0, inplace=False)\n",
       "          (proj): Linear(in_features=768, out_features=768, bias=True)\n",
       "          (proj_drop): Dropout(p=0.0, inplace=False)\n",
       "        )\n",
       "        (drop_path): Identity()\n",
       "        (norm2): LayerNorm((768,), eps=1e-06, elementwise_affine=True)\n",
       "        (mlp): Mlp(\n",
       "          (fc1): Linear(in_features=768, out_features=3072, bias=True)\n",
       "          (act): GELU(approximate='none')\n",
       "          (drop1): Dropout(p=0.0, inplace=False)\n",
       "          (fc2): Linear(in_features=3072, out_features=768, bias=True)\n",
       "          (drop2): Dropout(p=0.0, inplace=False)\n",
       "        )\n",
       "      )\n",
       "      (4): Block(\n",
       "        (norm1): LayerNorm((768,), eps=1e-06, elementwise_affine=True)\n",
       "        (attn): Attention(\n",
       "          (qkv): Linear(in_features=768, out_features=2304, bias=True)\n",
       "          (attn_drop): Dropout(p=0.0, inplace=False)\n",
       "          (proj): Linear(in_features=768, out_features=768, bias=True)\n",
       "          (proj_drop): Dropout(p=0.0, inplace=False)\n",
       "        )\n",
       "        (drop_path): Identity()\n",
       "        (norm2): LayerNorm((768,), eps=1e-06, elementwise_affine=True)\n",
       "        (mlp): Mlp(\n",
       "          (fc1): Linear(in_features=768, out_features=3072, bias=True)\n",
       "          (act): GELU(approximate='none')\n",
       "          (drop1): Dropout(p=0.0, inplace=False)\n",
       "          (fc2): Linear(in_features=3072, out_features=768, bias=True)\n",
       "          (drop2): Dropout(p=0.0, inplace=False)\n",
       "        )\n",
       "      )\n",
       "      (5): Block(\n",
       "        (norm1): LayerNorm((768,), eps=1e-06, elementwise_affine=True)\n",
       "        (attn): Attention(\n",
       "          (qkv): Linear(in_features=768, out_features=2304, bias=True)\n",
       "          (attn_drop): Dropout(p=0.0, inplace=False)\n",
       "          (proj): Linear(in_features=768, out_features=768, bias=True)\n",
       "          (proj_drop): Dropout(p=0.0, inplace=False)\n",
       "        )\n",
       "        (drop_path): Identity()\n",
       "        (norm2): LayerNorm((768,), eps=1e-06, elementwise_affine=True)\n",
       "        (mlp): Mlp(\n",
       "          (fc1): Linear(in_features=768, out_features=3072, bias=True)\n",
       "          (act): GELU(approximate='none')\n",
       "          (drop1): Dropout(p=0.0, inplace=False)\n",
       "          (fc2): Linear(in_features=3072, out_features=768, bias=True)\n",
       "          (drop2): Dropout(p=0.0, inplace=False)\n",
       "        )\n",
       "      )\n",
       "      (6): Block(\n",
       "        (norm1): LayerNorm((768,), eps=1e-06, elementwise_affine=True)\n",
       "        (attn): Attention(\n",
       "          (qkv): Linear(in_features=768, out_features=2304, bias=True)\n",
       "          (attn_drop): Dropout(p=0.0, inplace=False)\n",
       "          (proj): Linear(in_features=768, out_features=768, bias=True)\n",
       "          (proj_drop): Dropout(p=0.0, inplace=False)\n",
       "        )\n",
       "        (drop_path): Identity()\n",
       "        (norm2): LayerNorm((768,), eps=1e-06, elementwise_affine=True)\n",
       "        (mlp): Mlp(\n",
       "          (fc1): Linear(in_features=768, out_features=3072, bias=True)\n",
       "          (act): GELU(approximate='none')\n",
       "          (drop1): Dropout(p=0.0, inplace=False)\n",
       "          (fc2): Linear(in_features=3072, out_features=768, bias=True)\n",
       "          (drop2): Dropout(p=0.0, inplace=False)\n",
       "        )\n",
       "      )\n",
       "      (7): Block(\n",
       "        (norm1): LayerNorm((768,), eps=1e-06, elementwise_affine=True)\n",
       "        (attn): Attention(\n",
       "          (qkv): Linear(in_features=768, out_features=2304, bias=True)\n",
       "          (attn_drop): Dropout(p=0.0, inplace=False)\n",
       "          (proj): Linear(in_features=768, out_features=768, bias=True)\n",
       "          (proj_drop): Dropout(p=0.0, inplace=False)\n",
       "        )\n",
       "        (drop_path): Identity()\n",
       "        (norm2): LayerNorm((768,), eps=1e-06, elementwise_affine=True)\n",
       "        (mlp): Mlp(\n",
       "          (fc1): Linear(in_features=768, out_features=3072, bias=True)\n",
       "          (act): GELU(approximate='none')\n",
       "          (drop1): Dropout(p=0.0, inplace=False)\n",
       "          (fc2): Linear(in_features=3072, out_features=768, bias=True)\n",
       "          (drop2): Dropout(p=0.0, inplace=False)\n",
       "        )\n",
       "      )\n",
       "      (8): Block(\n",
       "        (norm1): LayerNorm((768,), eps=1e-06, elementwise_affine=True)\n",
       "        (attn): Attention(\n",
       "          (qkv): Linear(in_features=768, out_features=2304, bias=True)\n",
       "          (attn_drop): Dropout(p=0.0, inplace=False)\n",
       "          (proj): Linear(in_features=768, out_features=768, bias=True)\n",
       "          (proj_drop): Dropout(p=0.0, inplace=False)\n",
       "        )\n",
       "        (drop_path): Identity()\n",
       "        (norm2): LayerNorm((768,), eps=1e-06, elementwise_affine=True)\n",
       "        (mlp): Mlp(\n",
       "          (fc1): Linear(in_features=768, out_features=3072, bias=True)\n",
       "          (act): GELU(approximate='none')\n",
       "          (drop1): Dropout(p=0.0, inplace=False)\n",
       "          (fc2): Linear(in_features=3072, out_features=768, bias=True)\n",
       "          (drop2): Dropout(p=0.0, inplace=False)\n",
       "        )\n",
       "      )\n",
       "      (9): Block(\n",
       "        (norm1): LayerNorm((768,), eps=1e-06, elementwise_affine=True)\n",
       "        (attn): Attention(\n",
       "          (qkv): Linear(in_features=768, out_features=2304, bias=True)\n",
       "          (attn_drop): Dropout(p=0.0, inplace=False)\n",
       "          (proj): Linear(in_features=768, out_features=768, bias=True)\n",
       "          (proj_drop): Dropout(p=0.0, inplace=False)\n",
       "        )\n",
       "        (drop_path): Identity()\n",
       "        (norm2): LayerNorm((768,), eps=1e-06, elementwise_affine=True)\n",
       "        (mlp): Mlp(\n",
       "          (fc1): Linear(in_features=768, out_features=3072, bias=True)\n",
       "          (act): GELU(approximate='none')\n",
       "          (drop1): Dropout(p=0.0, inplace=False)\n",
       "          (fc2): Linear(in_features=3072, out_features=768, bias=True)\n",
       "          (drop2): Dropout(p=0.0, inplace=False)\n",
       "        )\n",
       "      )\n",
       "      (10): Block(\n",
       "        (norm1): LayerNorm((768,), eps=1e-06, elementwise_affine=True)\n",
       "        (attn): Attention(\n",
       "          (qkv): Linear(in_features=768, out_features=2304, bias=True)\n",
       "          (attn_drop): Dropout(p=0.0, inplace=False)\n",
       "          (proj): Linear(in_features=768, out_features=768, bias=True)\n",
       "          (proj_drop): Dropout(p=0.0, inplace=False)\n",
       "        )\n",
       "        (drop_path): Identity()\n",
       "        (norm2): LayerNorm((768,), eps=1e-06, elementwise_affine=True)\n",
       "        (mlp): Mlp(\n",
       "          (fc1): Linear(in_features=768, out_features=3072, bias=True)\n",
       "          (act): GELU(approximate='none')\n",
       "          (drop1): Dropout(p=0.0, inplace=False)\n",
       "          (fc2): Linear(in_features=3072, out_features=768, bias=True)\n",
       "          (drop2): Dropout(p=0.0, inplace=False)\n",
       "        )\n",
       "      )\n",
       "      (11): Block(\n",
       "        (norm1): LayerNorm((768,), eps=1e-06, elementwise_affine=True)\n",
       "        (attn): Attention(\n",
       "          (qkv): Linear(in_features=768, out_features=2304, bias=True)\n",
       "          (attn_drop): Dropout(p=0.0, inplace=False)\n",
       "          (proj): Linear(in_features=768, out_features=768, bias=True)\n",
       "          (proj_drop): Dropout(p=0.0, inplace=False)\n",
       "        )\n",
       "        (drop_path): Identity()\n",
       "        (norm2): LayerNorm((768,), eps=1e-06, elementwise_affine=True)\n",
       "        (mlp): Mlp(\n",
       "          (fc1): Linear(in_features=768, out_features=3072, bias=True)\n",
       "          (act): GELU(approximate='none')\n",
       "          (drop1): Dropout(p=0.0, inplace=False)\n",
       "          (fc2): Linear(in_features=3072, out_features=768, bias=True)\n",
       "          (drop2): Dropout(p=0.0, inplace=False)\n",
       "        )\n",
       "      )\n",
       "    )\n",
       "    (norm): LayerNorm((768,), eps=1e-06, elementwise_affine=True)\n",
       "    (pre_logits): Identity()\n",
       "    (head): Identity()\n",
       "  )\n",
       "  (transformer): Transformer(\n",
       "    (resblocks): Sequential(\n",
       "      (0): ResidualAttentionBlock(\n",
       "        (attn): MultiheadAttention(\n",
       "          (out_proj): NonDynamicallyQuantizableLinear(in_features=512, out_features=512, bias=True)\n",
       "        )\n",
       "        (ln_1): LayerNorm((512,), eps=1e-05, elementwise_affine=True)\n",
       "        (mlp): Sequential(\n",
       "          (c_fc): Linear(in_features=512, out_features=2048, bias=True)\n",
       "          (gelu): QuickGELU()\n",
       "          (c_proj): Linear(in_features=2048, out_features=512, bias=True)\n",
       "        )\n",
       "        (ln_2): LayerNorm((512,), eps=1e-05, elementwise_affine=True)\n",
       "      )\n",
       "      (1): ResidualAttentionBlock(\n",
       "        (attn): MultiheadAttention(\n",
       "          (out_proj): NonDynamicallyQuantizableLinear(in_features=512, out_features=512, bias=True)\n",
       "        )\n",
       "        (ln_1): LayerNorm((512,), eps=1e-05, elementwise_affine=True)\n",
       "        (mlp): Sequential(\n",
       "          (c_fc): Linear(in_features=512, out_features=2048, bias=True)\n",
       "          (gelu): QuickGELU()\n",
       "          (c_proj): Linear(in_features=2048, out_features=512, bias=True)\n",
       "        )\n",
       "        (ln_2): LayerNorm((512,), eps=1e-05, elementwise_affine=True)\n",
       "      )\n",
       "      (2): ResidualAttentionBlock(\n",
       "        (attn): MultiheadAttention(\n",
       "          (out_proj): NonDynamicallyQuantizableLinear(in_features=512, out_features=512, bias=True)\n",
       "        )\n",
       "        (ln_1): LayerNorm((512,), eps=1e-05, elementwise_affine=True)\n",
       "        (mlp): Sequential(\n",
       "          (c_fc): Linear(in_features=512, out_features=2048, bias=True)\n",
       "          (gelu): QuickGELU()\n",
       "          (c_proj): Linear(in_features=2048, out_features=512, bias=True)\n",
       "        )\n",
       "        (ln_2): LayerNorm((512,), eps=1e-05, elementwise_affine=True)\n",
       "      )\n",
       "      (3): ResidualAttentionBlock(\n",
       "        (attn): MultiheadAttention(\n",
       "          (out_proj): NonDynamicallyQuantizableLinear(in_features=512, out_features=512, bias=True)\n",
       "        )\n",
       "        (ln_1): LayerNorm((512,), eps=1e-05, elementwise_affine=True)\n",
       "        (mlp): Sequential(\n",
       "          (c_fc): Linear(in_features=512, out_features=2048, bias=True)\n",
       "          (gelu): QuickGELU()\n",
       "          (c_proj): Linear(in_features=2048, out_features=512, bias=True)\n",
       "        )\n",
       "        (ln_2): LayerNorm((512,), eps=1e-05, elementwise_affine=True)\n",
       "      )\n",
       "      (4): ResidualAttentionBlock(\n",
       "        (attn): MultiheadAttention(\n",
       "          (out_proj): NonDynamicallyQuantizableLinear(in_features=512, out_features=512, bias=True)\n",
       "        )\n",
       "        (ln_1): LayerNorm((512,), eps=1e-05, elementwise_affine=True)\n",
       "        (mlp): Sequential(\n",
       "          (c_fc): Linear(in_features=512, out_features=2048, bias=True)\n",
       "          (gelu): QuickGELU()\n",
       "          (c_proj): Linear(in_features=2048, out_features=512, bias=True)\n",
       "        )\n",
       "        (ln_2): LayerNorm((512,), eps=1e-05, elementwise_affine=True)\n",
       "      )\n",
       "      (5): ResidualAttentionBlock(\n",
       "        (attn): MultiheadAttention(\n",
       "          (out_proj): NonDynamicallyQuantizableLinear(in_features=512, out_features=512, bias=True)\n",
       "        )\n",
       "        (ln_1): LayerNorm((512,), eps=1e-05, elementwise_affine=True)\n",
       "        (mlp): Sequential(\n",
       "          (c_fc): Linear(in_features=512, out_features=2048, bias=True)\n",
       "          (gelu): QuickGELU()\n",
       "          (c_proj): Linear(in_features=2048, out_features=512, bias=True)\n",
       "        )\n",
       "        (ln_2): LayerNorm((512,), eps=1e-05, elementwise_affine=True)\n",
       "      )\n",
       "      (6): ResidualAttentionBlock(\n",
       "        (attn): MultiheadAttention(\n",
       "          (out_proj): NonDynamicallyQuantizableLinear(in_features=512, out_features=512, bias=True)\n",
       "        )\n",
       "        (ln_1): LayerNorm((512,), eps=1e-05, elementwise_affine=True)\n",
       "        (mlp): Sequential(\n",
       "          (c_fc): Linear(in_features=512, out_features=2048, bias=True)\n",
       "          (gelu): QuickGELU()\n",
       "          (c_proj): Linear(in_features=2048, out_features=512, bias=True)\n",
       "        )\n",
       "        (ln_2): LayerNorm((512,), eps=1e-05, elementwise_affine=True)\n",
       "      )\n",
       "      (7): ResidualAttentionBlock(\n",
       "        (attn): MultiheadAttention(\n",
       "          (out_proj): NonDynamicallyQuantizableLinear(in_features=512, out_features=512, bias=True)\n",
       "        )\n",
       "        (ln_1): LayerNorm((512,), eps=1e-05, elementwise_affine=True)\n",
       "        (mlp): Sequential(\n",
       "          (c_fc): Linear(in_features=512, out_features=2048, bias=True)\n",
       "          (gelu): QuickGELU()\n",
       "          (c_proj): Linear(in_features=2048, out_features=512, bias=True)\n",
       "        )\n",
       "        (ln_2): LayerNorm((512,), eps=1e-05, elementwise_affine=True)\n",
       "      )\n",
       "      (8): ResidualAttentionBlock(\n",
       "        (attn): MultiheadAttention(\n",
       "          (out_proj): NonDynamicallyQuantizableLinear(in_features=512, out_features=512, bias=True)\n",
       "        )\n",
       "        (ln_1): LayerNorm((512,), eps=1e-05, elementwise_affine=True)\n",
       "        (mlp): Sequential(\n",
       "          (c_fc): Linear(in_features=512, out_features=2048, bias=True)\n",
       "          (gelu): QuickGELU()\n",
       "          (c_proj): Linear(in_features=2048, out_features=512, bias=True)\n",
       "        )\n",
       "        (ln_2): LayerNorm((512,), eps=1e-05, elementwise_affine=True)\n",
       "      )\n",
       "      (9): ResidualAttentionBlock(\n",
       "        (attn): MultiheadAttention(\n",
       "          (out_proj): NonDynamicallyQuantizableLinear(in_features=512, out_features=512, bias=True)\n",
       "        )\n",
       "        (ln_1): LayerNorm((512,), eps=1e-05, elementwise_affine=True)\n",
       "        (mlp): Sequential(\n",
       "          (c_fc): Linear(in_features=512, out_features=2048, bias=True)\n",
       "          (gelu): QuickGELU()\n",
       "          (c_proj): Linear(in_features=2048, out_features=512, bias=True)\n",
       "        )\n",
       "        (ln_2): LayerNorm((512,), eps=1e-05, elementwise_affine=True)\n",
       "      )\n",
       "      (10): ResidualAttentionBlock(\n",
       "        (attn): MultiheadAttention(\n",
       "          (out_proj): NonDynamicallyQuantizableLinear(in_features=512, out_features=512, bias=True)\n",
       "        )\n",
       "        (ln_1): LayerNorm((512,), eps=1e-05, elementwise_affine=True)\n",
       "        (mlp): Sequential(\n",
       "          (c_fc): Linear(in_features=512, out_features=2048, bias=True)\n",
       "          (gelu): QuickGELU()\n",
       "          (c_proj): Linear(in_features=2048, out_features=512, bias=True)\n",
       "        )\n",
       "        (ln_2): LayerNorm((512,), eps=1e-05, elementwise_affine=True)\n",
       "      )\n",
       "      (11): ResidualAttentionBlock(\n",
       "        (attn): MultiheadAttention(\n",
       "          (out_proj): NonDynamicallyQuantizableLinear(in_features=512, out_features=512, bias=True)\n",
       "        )\n",
       "        (ln_1): LayerNorm((512,), eps=1e-05, elementwise_affine=True)\n",
       "        (mlp): Sequential(\n",
       "          (c_fc): Linear(in_features=512, out_features=2048, bias=True)\n",
       "          (gelu): QuickGELU()\n",
       "          (c_proj): Linear(in_features=2048, out_features=512, bias=True)\n",
       "        )\n",
       "        (ln_2): LayerNorm((512,), eps=1e-05, elementwise_affine=True)\n",
       "      )\n",
       "    )\n",
       "  )\n",
       "  (token_embedding): Embedding(49408, 512)\n",
       "  (ln_final): LayerNorm((512,), eps=1e-05, elementwise_affine=True)\n",
       "  (visual_ema): MaskVisionTransformer(\n",
       "    (patch_embed): PatchEmbed(\n",
       "      (proj): Conv2d(3, 768, kernel_size=(16, 16), stride=(16, 16))\n",
       "      (norm): Identity()\n",
       "    )\n",
       "    (pos_drop): Dropout(p=0.0, inplace=False)\n",
       "    (blocks): Sequential(\n",
       "      (0): Block(\n",
       "        (norm1): LayerNorm((768,), eps=1e-06, elementwise_affine=True)\n",
       "        (attn): Attention(\n",
       "          (qkv): Linear(in_features=768, out_features=2304, bias=True)\n",
       "          (attn_drop): Dropout(p=0.0, inplace=False)\n",
       "          (proj): Linear(in_features=768, out_features=768, bias=True)\n",
       "          (proj_drop): Dropout(p=0.0, inplace=False)\n",
       "        )\n",
       "        (drop_path): Identity()\n",
       "        (norm2): LayerNorm((768,), eps=1e-06, elementwise_affine=True)\n",
       "        (mlp): Mlp(\n",
       "          (fc1): Linear(in_features=768, out_features=3072, bias=True)\n",
       "          (act): GELU(approximate='none')\n",
       "          (drop1): Dropout(p=0.0, inplace=False)\n",
       "          (fc2): Linear(in_features=3072, out_features=768, bias=True)\n",
       "          (drop2): Dropout(p=0.0, inplace=False)\n",
       "        )\n",
       "      )\n",
       "      (1): Block(\n",
       "        (norm1): LayerNorm((768,), eps=1e-06, elementwise_affine=True)\n",
       "        (attn): Attention(\n",
       "          (qkv): Linear(in_features=768, out_features=2304, bias=True)\n",
       "          (attn_drop): Dropout(p=0.0, inplace=False)\n",
       "          (proj): Linear(in_features=768, out_features=768, bias=True)\n",
       "          (proj_drop): Dropout(p=0.0, inplace=False)\n",
       "        )\n",
       "        (drop_path): Identity()\n",
       "        (norm2): LayerNorm((768,), eps=1e-06, elementwise_affine=True)\n",
       "        (mlp): Mlp(\n",
       "          (fc1): Linear(in_features=768, out_features=3072, bias=True)\n",
       "          (act): GELU(approximate='none')\n",
       "          (drop1): Dropout(p=0.0, inplace=False)\n",
       "          (fc2): Linear(in_features=3072, out_features=768, bias=True)\n",
       "          (drop2): Dropout(p=0.0, inplace=False)\n",
       "        )\n",
       "      )\n",
       "      (2): Block(\n",
       "        (norm1): LayerNorm((768,), eps=1e-06, elementwise_affine=True)\n",
       "        (attn): Attention(\n",
       "          (qkv): Linear(in_features=768, out_features=2304, bias=True)\n",
       "          (attn_drop): Dropout(p=0.0, inplace=False)\n",
       "          (proj): Linear(in_features=768, out_features=768, bias=True)\n",
       "          (proj_drop): Dropout(p=0.0, inplace=False)\n",
       "        )\n",
       "        (drop_path): Identity()\n",
       "        (norm2): LayerNorm((768,), eps=1e-06, elementwise_affine=True)\n",
       "        (mlp): Mlp(\n",
       "          (fc1): Linear(in_features=768, out_features=3072, bias=True)\n",
       "          (act): GELU(approximate='none')\n",
       "          (drop1): Dropout(p=0.0, inplace=False)\n",
       "          (fc2): Linear(in_features=3072, out_features=768, bias=True)\n",
       "          (drop2): Dropout(p=0.0, inplace=False)\n",
       "        )\n",
       "      )\n",
       "      (3): Block(\n",
       "        (norm1): LayerNorm((768,), eps=1e-06, elementwise_affine=True)\n",
       "        (attn): Attention(\n",
       "          (qkv): Linear(in_features=768, out_features=2304, bias=True)\n",
       "          (attn_drop): Dropout(p=0.0, inplace=False)\n",
       "          (proj): Linear(in_features=768, out_features=768, bias=True)\n",
       "          (proj_drop): Dropout(p=0.0, inplace=False)\n",
       "        )\n",
       "        (drop_path): Identity()\n",
       "        (norm2): LayerNorm((768,), eps=1e-06, elementwise_affine=True)\n",
       "        (mlp): Mlp(\n",
       "          (fc1): Linear(in_features=768, out_features=3072, bias=True)\n",
       "          (act): GELU(approximate='none')\n",
       "          (drop1): Dropout(p=0.0, inplace=False)\n",
       "          (fc2): Linear(in_features=3072, out_features=768, bias=True)\n",
       "          (drop2): Dropout(p=0.0, inplace=False)\n",
       "        )\n",
       "      )\n",
       "      (4): Block(\n",
       "        (norm1): LayerNorm((768,), eps=1e-06, elementwise_affine=True)\n",
       "        (attn): Attention(\n",
       "          (qkv): Linear(in_features=768, out_features=2304, bias=True)\n",
       "          (attn_drop): Dropout(p=0.0, inplace=False)\n",
       "          (proj): Linear(in_features=768, out_features=768, bias=True)\n",
       "          (proj_drop): Dropout(p=0.0, inplace=False)\n",
       "        )\n",
       "        (drop_path): Identity()\n",
       "        (norm2): LayerNorm((768,), eps=1e-06, elementwise_affine=True)\n",
       "        (mlp): Mlp(\n",
       "          (fc1): Linear(in_features=768, out_features=3072, bias=True)\n",
       "          (act): GELU(approximate='none')\n",
       "          (drop1): Dropout(p=0.0, inplace=False)\n",
       "          (fc2): Linear(in_features=3072, out_features=768, bias=True)\n",
       "          (drop2): Dropout(p=0.0, inplace=False)\n",
       "        )\n",
       "      )\n",
       "      (5): Block(\n",
       "        (norm1): LayerNorm((768,), eps=1e-06, elementwise_affine=True)\n",
       "        (attn): Attention(\n",
       "          (qkv): Linear(in_features=768, out_features=2304, bias=True)\n",
       "          (attn_drop): Dropout(p=0.0, inplace=False)\n",
       "          (proj): Linear(in_features=768, out_features=768, bias=True)\n",
       "          (proj_drop): Dropout(p=0.0, inplace=False)\n",
       "        )\n",
       "        (drop_path): Identity()\n",
       "        (norm2): LayerNorm((768,), eps=1e-06, elementwise_affine=True)\n",
       "        (mlp): Mlp(\n",
       "          (fc1): Linear(in_features=768, out_features=3072, bias=True)\n",
       "          (act): GELU(approximate='none')\n",
       "          (drop1): Dropout(p=0.0, inplace=False)\n",
       "          (fc2): Linear(in_features=3072, out_features=768, bias=True)\n",
       "          (drop2): Dropout(p=0.0, inplace=False)\n",
       "        )\n",
       "      )\n",
       "      (6): Block(\n",
       "        (norm1): LayerNorm((768,), eps=1e-06, elementwise_affine=True)\n",
       "        (attn): Attention(\n",
       "          (qkv): Linear(in_features=768, out_features=2304, bias=True)\n",
       "          (attn_drop): Dropout(p=0.0, inplace=False)\n",
       "          (proj): Linear(in_features=768, out_features=768, bias=True)\n",
       "          (proj_drop): Dropout(p=0.0, inplace=False)\n",
       "        )\n",
       "        (drop_path): Identity()\n",
       "        (norm2): LayerNorm((768,), eps=1e-06, elementwise_affine=True)\n",
       "        (mlp): Mlp(\n",
       "          (fc1): Linear(in_features=768, out_features=3072, bias=True)\n",
       "          (act): GELU(approximate='none')\n",
       "          (drop1): Dropout(p=0.0, inplace=False)\n",
       "          (fc2): Linear(in_features=3072, out_features=768, bias=True)\n",
       "          (drop2): Dropout(p=0.0, inplace=False)\n",
       "        )\n",
       "      )\n",
       "      (7): Block(\n",
       "        (norm1): LayerNorm((768,), eps=1e-06, elementwise_affine=True)\n",
       "        (attn): Attention(\n",
       "          (qkv): Linear(in_features=768, out_features=2304, bias=True)\n",
       "          (attn_drop): Dropout(p=0.0, inplace=False)\n",
       "          (proj): Linear(in_features=768, out_features=768, bias=True)\n",
       "          (proj_drop): Dropout(p=0.0, inplace=False)\n",
       "        )\n",
       "        (drop_path): Identity()\n",
       "        (norm2): LayerNorm((768,), eps=1e-06, elementwise_affine=True)\n",
       "        (mlp): Mlp(\n",
       "          (fc1): Linear(in_features=768, out_features=3072, bias=True)\n",
       "          (act): GELU(approximate='none')\n",
       "          (drop1): Dropout(p=0.0, inplace=False)\n",
       "          (fc2): Linear(in_features=3072, out_features=768, bias=True)\n",
       "          (drop2): Dropout(p=0.0, inplace=False)\n",
       "        )\n",
       "      )\n",
       "      (8): Block(\n",
       "        (norm1): LayerNorm((768,), eps=1e-06, elementwise_affine=True)\n",
       "        (attn): Attention(\n",
       "          (qkv): Linear(in_features=768, out_features=2304, bias=True)\n",
       "          (attn_drop): Dropout(p=0.0, inplace=False)\n",
       "          (proj): Linear(in_features=768, out_features=768, bias=True)\n",
       "          (proj_drop): Dropout(p=0.0, inplace=False)\n",
       "        )\n",
       "        (drop_path): Identity()\n",
       "        (norm2): LayerNorm((768,), eps=1e-06, elementwise_affine=True)\n",
       "        (mlp): Mlp(\n",
       "          (fc1): Linear(in_features=768, out_features=3072, bias=True)\n",
       "          (act): GELU(approximate='none')\n",
       "          (drop1): Dropout(p=0.0, inplace=False)\n",
       "          (fc2): Linear(in_features=3072, out_features=768, bias=True)\n",
       "          (drop2): Dropout(p=0.0, inplace=False)\n",
       "        )\n",
       "      )\n",
       "      (9): Block(\n",
       "        (norm1): LayerNorm((768,), eps=1e-06, elementwise_affine=True)\n",
       "        (attn): Attention(\n",
       "          (qkv): Linear(in_features=768, out_features=2304, bias=True)\n",
       "          (attn_drop): Dropout(p=0.0, inplace=False)\n",
       "          (proj): Linear(in_features=768, out_features=768, bias=True)\n",
       "          (proj_drop): Dropout(p=0.0, inplace=False)\n",
       "        )\n",
       "        (drop_path): Identity()\n",
       "        (norm2): LayerNorm((768,), eps=1e-06, elementwise_affine=True)\n",
       "        (mlp): Mlp(\n",
       "          (fc1): Linear(in_features=768, out_features=3072, bias=True)\n",
       "          (act): GELU(approximate='none')\n",
       "          (drop1): Dropout(p=0.0, inplace=False)\n",
       "          (fc2): Linear(in_features=3072, out_features=768, bias=True)\n",
       "          (drop2): Dropout(p=0.0, inplace=False)\n",
       "        )\n",
       "      )\n",
       "      (10): Block(\n",
       "        (norm1): LayerNorm((768,), eps=1e-06, elementwise_affine=True)\n",
       "        (attn): Attention(\n",
       "          (qkv): Linear(in_features=768, out_features=2304, bias=True)\n",
       "          (attn_drop): Dropout(p=0.0, inplace=False)\n",
       "          (proj): Linear(in_features=768, out_features=768, bias=True)\n",
       "          (proj_drop): Dropout(p=0.0, inplace=False)\n",
       "        )\n",
       "        (drop_path): Identity()\n",
       "        (norm2): LayerNorm((768,), eps=1e-06, elementwise_affine=True)\n",
       "        (mlp): Mlp(\n",
       "          (fc1): Linear(in_features=768, out_features=3072, bias=True)\n",
       "          (act): GELU(approximate='none')\n",
       "          (drop1): Dropout(p=0.0, inplace=False)\n",
       "          (fc2): Linear(in_features=3072, out_features=768, bias=True)\n",
       "          (drop2): Dropout(p=0.0, inplace=False)\n",
       "        )\n",
       "      )\n",
       "      (11): Block(\n",
       "        (norm1): LayerNorm((768,), eps=1e-06, elementwise_affine=True)\n",
       "        (attn): Attention(\n",
       "          (qkv): Linear(in_features=768, out_features=2304, bias=True)\n",
       "          (attn_drop): Dropout(p=0.0, inplace=False)\n",
       "          (proj): Linear(in_features=768, out_features=768, bias=True)\n",
       "          (proj_drop): Dropout(p=0.0, inplace=False)\n",
       "        )\n",
       "        (drop_path): Identity()\n",
       "        (norm2): LayerNorm((768,), eps=1e-06, elementwise_affine=True)\n",
       "        (mlp): Mlp(\n",
       "          (fc1): Linear(in_features=768, out_features=3072, bias=True)\n",
       "          (act): GELU(approximate='none')\n",
       "          (drop1): Dropout(p=0.0, inplace=False)\n",
       "          (fc2): Linear(in_features=3072, out_features=768, bias=True)\n",
       "          (drop2): Dropout(p=0.0, inplace=False)\n",
       "        )\n",
       "      )\n",
       "    )\n",
       "    (norm): LayerNorm((768,), eps=1e-06, elementwise_affine=True)\n",
       "    (pre_logits): Identity()\n",
       "    (head): Identity()\n",
       "  )\n",
       "  (transformer_e): Transformer(\n",
       "    (resblocks): Sequential(\n",
       "      (0): ResidualAttentionBlock(\n",
       "        (attn): MultiheadAttention(\n",
       "          (out_proj): NonDynamicallyQuantizableLinear(in_features=512, out_features=512, bias=True)\n",
       "        )\n",
       "        (ln_1): LayerNorm((512,), eps=1e-05, elementwise_affine=True)\n",
       "        (mlp): Sequential(\n",
       "          (c_fc): Linear(in_features=512, out_features=2048, bias=True)\n",
       "          (gelu): QuickGELU()\n",
       "          (c_proj): Linear(in_features=2048, out_features=512, bias=True)\n",
       "        )\n",
       "        (ln_2): LayerNorm((512,), eps=1e-05, elementwise_affine=True)\n",
       "      )\n",
       "      (1): ResidualAttentionBlock(\n",
       "        (attn): MultiheadAttention(\n",
       "          (out_proj): NonDynamicallyQuantizableLinear(in_features=512, out_features=512, bias=True)\n",
       "        )\n",
       "        (ln_1): LayerNorm((512,), eps=1e-05, elementwise_affine=True)\n",
       "        (mlp): Sequential(\n",
       "          (c_fc): Linear(in_features=512, out_features=2048, bias=True)\n",
       "          (gelu): QuickGELU()\n",
       "          (c_proj): Linear(in_features=2048, out_features=512, bias=True)\n",
       "        )\n",
       "        (ln_2): LayerNorm((512,), eps=1e-05, elementwise_affine=True)\n",
       "      )\n",
       "      (2): ResidualAttentionBlock(\n",
       "        (attn): MultiheadAttention(\n",
       "          (out_proj): NonDynamicallyQuantizableLinear(in_features=512, out_features=512, bias=True)\n",
       "        )\n",
       "        (ln_1): LayerNorm((512,), eps=1e-05, elementwise_affine=True)\n",
       "        (mlp): Sequential(\n",
       "          (c_fc): Linear(in_features=512, out_features=2048, bias=True)\n",
       "          (gelu): QuickGELU()\n",
       "          (c_proj): Linear(in_features=2048, out_features=512, bias=True)\n",
       "        )\n",
       "        (ln_2): LayerNorm((512,), eps=1e-05, elementwise_affine=True)\n",
       "      )\n",
       "      (3): ResidualAttentionBlock(\n",
       "        (attn): MultiheadAttention(\n",
       "          (out_proj): NonDynamicallyQuantizableLinear(in_features=512, out_features=512, bias=True)\n",
       "        )\n",
       "        (ln_1): LayerNorm((512,), eps=1e-05, elementwise_affine=True)\n",
       "        (mlp): Sequential(\n",
       "          (c_fc): Linear(in_features=512, out_features=2048, bias=True)\n",
       "          (gelu): QuickGELU()\n",
       "          (c_proj): Linear(in_features=2048, out_features=512, bias=True)\n",
       "        )\n",
       "        (ln_2): LayerNorm((512,), eps=1e-05, elementwise_affine=True)\n",
       "      )\n",
       "      (4): ResidualAttentionBlock(\n",
       "        (attn): MultiheadAttention(\n",
       "          (out_proj): NonDynamicallyQuantizableLinear(in_features=512, out_features=512, bias=True)\n",
       "        )\n",
       "        (ln_1): LayerNorm((512,), eps=1e-05, elementwise_affine=True)\n",
       "        (mlp): Sequential(\n",
       "          (c_fc): Linear(in_features=512, out_features=2048, bias=True)\n",
       "          (gelu): QuickGELU()\n",
       "          (c_proj): Linear(in_features=2048, out_features=512, bias=True)\n",
       "        )\n",
       "        (ln_2): LayerNorm((512,), eps=1e-05, elementwise_affine=True)\n",
       "      )\n",
       "      (5): ResidualAttentionBlock(\n",
       "        (attn): MultiheadAttention(\n",
       "          (out_proj): NonDynamicallyQuantizableLinear(in_features=512, out_features=512, bias=True)\n",
       "        )\n",
       "        (ln_1): LayerNorm((512,), eps=1e-05, elementwise_affine=True)\n",
       "        (mlp): Sequential(\n",
       "          (c_fc): Linear(in_features=512, out_features=2048, bias=True)\n",
       "          (gelu): QuickGELU()\n",
       "          (c_proj): Linear(in_features=2048, out_features=512, bias=True)\n",
       "        )\n",
       "        (ln_2): LayerNorm((512,), eps=1e-05, elementwise_affine=True)\n",
       "      )\n",
       "      (6): ResidualAttentionBlock(\n",
       "        (attn): MultiheadAttention(\n",
       "          (out_proj): NonDynamicallyQuantizableLinear(in_features=512, out_features=512, bias=True)\n",
       "        )\n",
       "        (ln_1): LayerNorm((512,), eps=1e-05, elementwise_affine=True)\n",
       "        (mlp): Sequential(\n",
       "          (c_fc): Linear(in_features=512, out_features=2048, bias=True)\n",
       "          (gelu): QuickGELU()\n",
       "          (c_proj): Linear(in_features=2048, out_features=512, bias=True)\n",
       "        )\n",
       "        (ln_2): LayerNorm((512,), eps=1e-05, elementwise_affine=True)\n",
       "      )\n",
       "      (7): ResidualAttentionBlock(\n",
       "        (attn): MultiheadAttention(\n",
       "          (out_proj): NonDynamicallyQuantizableLinear(in_features=512, out_features=512, bias=True)\n",
       "        )\n",
       "        (ln_1): LayerNorm((512,), eps=1e-05, elementwise_affine=True)\n",
       "        (mlp): Sequential(\n",
       "          (c_fc): Linear(in_features=512, out_features=2048, bias=True)\n",
       "          (gelu): QuickGELU()\n",
       "          (c_proj): Linear(in_features=2048, out_features=512, bias=True)\n",
       "        )\n",
       "        (ln_2): LayerNorm((512,), eps=1e-05, elementwise_affine=True)\n",
       "      )\n",
       "      (8): ResidualAttentionBlock(\n",
       "        (attn): MultiheadAttention(\n",
       "          (out_proj): NonDynamicallyQuantizableLinear(in_features=512, out_features=512, bias=True)\n",
       "        )\n",
       "        (ln_1): LayerNorm((512,), eps=1e-05, elementwise_affine=True)\n",
       "        (mlp): Sequential(\n",
       "          (c_fc): Linear(in_features=512, out_features=2048, bias=True)\n",
       "          (gelu): QuickGELU()\n",
       "          (c_proj): Linear(in_features=2048, out_features=512, bias=True)\n",
       "        )\n",
       "        (ln_2): LayerNorm((512,), eps=1e-05, elementwise_affine=True)\n",
       "      )\n",
       "      (9): ResidualAttentionBlock(\n",
       "        (attn): MultiheadAttention(\n",
       "          (out_proj): NonDynamicallyQuantizableLinear(in_features=512, out_features=512, bias=True)\n",
       "        )\n",
       "        (ln_1): LayerNorm((512,), eps=1e-05, elementwise_affine=True)\n",
       "        (mlp): Sequential(\n",
       "          (c_fc): Linear(in_features=512, out_features=2048, bias=True)\n",
       "          (gelu): QuickGELU()\n",
       "          (c_proj): Linear(in_features=2048, out_features=512, bias=True)\n",
       "        )\n",
       "        (ln_2): LayerNorm((512,), eps=1e-05, elementwise_affine=True)\n",
       "      )\n",
       "      (10): ResidualAttentionBlock(\n",
       "        (attn): MultiheadAttention(\n",
       "          (out_proj): NonDynamicallyQuantizableLinear(in_features=512, out_features=512, bias=True)\n",
       "        )\n",
       "        (ln_1): LayerNorm((512,), eps=1e-05, elementwise_affine=True)\n",
       "        (mlp): Sequential(\n",
       "          (c_fc): Linear(in_features=512, out_features=2048, bias=True)\n",
       "          (gelu): QuickGELU()\n",
       "          (c_proj): Linear(in_features=2048, out_features=512, bias=True)\n",
       "        )\n",
       "        (ln_2): LayerNorm((512,), eps=1e-05, elementwise_affine=True)\n",
       "      )\n",
       "      (11): ResidualAttentionBlock(\n",
       "        (attn): MultiheadAttention(\n",
       "          (out_proj): NonDynamicallyQuantizableLinear(in_features=512, out_features=512, bias=True)\n",
       "        )\n",
       "        (ln_1): LayerNorm((512,), eps=1e-05, elementwise_affine=True)\n",
       "        (mlp): Sequential(\n",
       "          (c_fc): Linear(in_features=512, out_features=2048, bias=True)\n",
       "          (gelu): QuickGELU()\n",
       "          (c_proj): Linear(in_features=2048, out_features=512, bias=True)\n",
       "        )\n",
       "        (ln_2): LayerNorm((512,), eps=1e-05, elementwise_affine=True)\n",
       "      )\n",
       "    )\n",
       "  )\n",
       "  (decoder_embed): Linear(in_features=768, out_features=768, bias=True)\n",
       "  (decoder_blocks): ModuleList(\n",
       "    (0): Block(\n",
       "      (norm1): LayerNorm((768,), eps=1e-06, elementwise_affine=True)\n",
       "      (attn): Attention(\n",
       "        (qkv): Linear(in_features=768, out_features=2304, bias=True)\n",
       "        (attn_drop): Dropout(p=0.0, inplace=False)\n",
       "        (proj): Linear(in_features=768, out_features=768, bias=True)\n",
       "        (proj_drop): Dropout(p=0.0, inplace=False)\n",
       "      )\n",
       "      (drop_path): Identity()\n",
       "      (norm2): LayerNorm((768,), eps=1e-06, elementwise_affine=True)\n",
       "      (mlp): Mlp(\n",
       "        (fc1): Linear(in_features=768, out_features=3072, bias=True)\n",
       "        (act): GELU(approximate='none')\n",
       "        (drop1): Dropout(p=0.0, inplace=False)\n",
       "        (fc2): Linear(in_features=3072, out_features=768, bias=True)\n",
       "        (drop2): Dropout(p=0.0, inplace=False)\n",
       "      )\n",
       "    )\n",
       "  )\n",
       "  (decoder_norm): LayerNorm((768,), eps=1e-06, elementwise_affine=True)\n",
       "  (reconstruction_pred): Linear(in_features=768, out_features=768, bias=True)\n",
       "  (ibot_head): iBOTHead(\n",
       "    (mlp): CustomSequential(\n",
       "      (0): Linear(in_features=768, out_features=2048, bias=True)\n",
       "      (1): GELU(approximate='none')\n",
       "      (2): Linear(in_features=2048, out_features=2048, bias=True)\n",
       "      (3): GELU(approximate='none')\n",
       "      (4): Linear(in_features=2048, out_features=256, bias=True)\n",
       "    )\n",
       "    (last_layer): Linear(in_features=256, out_features=8192, bias=False)\n",
       "    (last_layer2): Linear(in_features=256, out_features=8192, bias=False)\n",
       "  )\n",
       "  (ibot_head_e): iBOTHead(\n",
       "    (mlp): CustomSequential(\n",
       "      (0): Linear(in_features=768, out_features=2048, bias=True)\n",
       "      (1): GELU(approximate='none')\n",
       "      (2): Linear(in_features=2048, out_features=2048, bias=True)\n",
       "      (3): GELU(approximate='none')\n",
       "      (4): Linear(in_features=2048, out_features=256, bias=True)\n",
       "    )\n",
       "    (last_layer): Linear(in_features=256, out_features=8192, bias=False)\n",
       "    (last_layer2): Linear(in_features=256, out_features=8192, bias=False)\n",
       "  )\n",
       ")"
      ]
     },
     "execution_count": 3,
     "metadata": {},
     "output_type": "execute_result"
    }
   ],
   "source": [
    "model = getattr(models, 'ICLIP_VITB16')()\n",
    "model.cuda()"
   ]
  },
  {
   "cell_type": "code",
   "execution_count": 4,
   "id": "c24baaad",
   "metadata": {},
   "outputs": [
    {
     "name": "stdout",
     "output_type": "stream",
     "text": [
      "=> creating model: ICLIP_VITB16\n",
      "\tCreating MAE projection head\n",
      "\tMAE projection head created\n",
      "\tCreating IBOT projection head\n",
      "\tkeys have been loaded for ibot head with status: <All keys matched successfully>\n",
      "\tIBOT projection head created\n",
      "\tDetailCLIP model created\n",
      "=> loaded resume checkpoint 'checkpoint_best.pt' (epoch 48)\n"
     ]
    }
   ],
   "source": [
    "# Creating model\n",
    "ckpt_path = 'checkpoint_best.pt'\n",
    "\n",
    "ckpt = torch.load(ckpt_path, map_location='cpu', weights_only=False)\n",
    "state_dict = OrderedDict()\n",
    "for k, v in ckpt['state_dict'].items():\n",
    "    state_dict[k.replace('module.', '')] = v\n",
    "\n",
    "old_args = ckpt['args']\n",
    "print(\"=> creating model: {}\".format(old_args.model))\n",
    "model = getattr(models, old_args.model)()\n",
    "model.cuda()\n",
    "model.load_state_dict(state_dict, strict=True)\n",
    "print(\"=> loaded resume checkpoint '{}' (epoch {})\".format(ckpt_path, ckpt['epoch']))"
   ]
  },
  {
   "cell_type": "code",
   "execution_count": 5,
   "id": "0e1c7565",
   "metadata": {},
   "outputs": [],
   "source": [
    "cwd = '/home/onyxia/work/DetailCLIP'\n",
    "with open(os.path.join(cwd, 'dataset_catalog.json')) as f:\n",
    "    catalog = json.load(f)\n",
    "\n",
    "with open(os.path.join(cwd, 'templates.json')) as f:\n",
    "    all_templates = json.load(f)\n",
    "\n",
    "with open(os.path.join(cwd, 'labels.json')) as f:\n",
    "    all_labels = json.load(f)"
   ]
  },
  {
   "cell_type": "code",
   "execution_count": 6,
   "id": "a0f62618",
   "metadata": {},
   "outputs": [
    {
     "name": "stdout",
     "output_type": "stream",
     "text": [
      "=> creating dataset\n"
     ]
    }
   ],
   "source": [
    "# Data loading code\n",
    "print(\"=> creating dataset\")\n",
    "tokenizer = SimpleTokenizer()\n",
    "val_transform = transforms.Compose([\n",
    "        transforms.Resize(224),\n",
    "        transforms.CenterCrop(224),\n",
    "        lambda x: x.convert('RGB'),\n",
    "        transforms.ToTensor(),\n",
    "        transforms.Normalize(mean=[0.485, 0.456, 0.406],\n",
    "                                std=[0.229, 0.224, 0.225])\n",
    "    ])\n"
   ]
  },
  {
   "cell_type": "code",
   "execution_count": 7,
   "id": "80b41460",
   "metadata": {},
   "outputs": [
    {
     "name": "stdout",
     "output_type": "stream",
     "text": [
      "Evaluating cub200\n"
     ]
    },
    {
     "data": {
      "text/plain": [
       "ICLIP(\n",
       "  (visual): MaskVisionTransformer(\n",
       "    (patch_embed): PatchEmbed(\n",
       "      (proj): Conv2d(3, 768, kernel_size=(16, 16), stride=(16, 16))\n",
       "      (norm): Identity()\n",
       "    )\n",
       "    (pos_drop): Dropout(p=0.0, inplace=False)\n",
       "    (blocks): Sequential(\n",
       "      (0): Block(\n",
       "        (norm1): LayerNorm((768,), eps=1e-06, elementwise_affine=True)\n",
       "        (attn): Attention(\n",
       "          (qkv): Linear(in_features=768, out_features=2304, bias=True)\n",
       "          (attn_drop): Dropout(p=0.0, inplace=False)\n",
       "          (proj): Linear(in_features=768, out_features=768, bias=True)\n",
       "          (proj_drop): Dropout(p=0.0, inplace=False)\n",
       "        )\n",
       "        (drop_path): Identity()\n",
       "        (norm2): LayerNorm((768,), eps=1e-06, elementwise_affine=True)\n",
       "        (mlp): Mlp(\n",
       "          (fc1): Linear(in_features=768, out_features=3072, bias=True)\n",
       "          (act): GELU(approximate='none')\n",
       "          (drop1): Dropout(p=0.0, inplace=False)\n",
       "          (fc2): Linear(in_features=3072, out_features=768, bias=True)\n",
       "          (drop2): Dropout(p=0.0, inplace=False)\n",
       "        )\n",
       "      )\n",
       "      (1): Block(\n",
       "        (norm1): LayerNorm((768,), eps=1e-06, elementwise_affine=True)\n",
       "        (attn): Attention(\n",
       "          (qkv): Linear(in_features=768, out_features=2304, bias=True)\n",
       "          (attn_drop): Dropout(p=0.0, inplace=False)\n",
       "          (proj): Linear(in_features=768, out_features=768, bias=True)\n",
       "          (proj_drop): Dropout(p=0.0, inplace=False)\n",
       "        )\n",
       "        (drop_path): Identity()\n",
       "        (norm2): LayerNorm((768,), eps=1e-06, elementwise_affine=True)\n",
       "        (mlp): Mlp(\n",
       "          (fc1): Linear(in_features=768, out_features=3072, bias=True)\n",
       "          (act): GELU(approximate='none')\n",
       "          (drop1): Dropout(p=0.0, inplace=False)\n",
       "          (fc2): Linear(in_features=3072, out_features=768, bias=True)\n",
       "          (drop2): Dropout(p=0.0, inplace=False)\n",
       "        )\n",
       "      )\n",
       "      (2): Block(\n",
       "        (norm1): LayerNorm((768,), eps=1e-06, elementwise_affine=True)\n",
       "        (attn): Attention(\n",
       "          (qkv): Linear(in_features=768, out_features=2304, bias=True)\n",
       "          (attn_drop): Dropout(p=0.0, inplace=False)\n",
       "          (proj): Linear(in_features=768, out_features=768, bias=True)\n",
       "          (proj_drop): Dropout(p=0.0, inplace=False)\n",
       "        )\n",
       "        (drop_path): Identity()\n",
       "        (norm2): LayerNorm((768,), eps=1e-06, elementwise_affine=True)\n",
       "        (mlp): Mlp(\n",
       "          (fc1): Linear(in_features=768, out_features=3072, bias=True)\n",
       "          (act): GELU(approximate='none')\n",
       "          (drop1): Dropout(p=0.0, inplace=False)\n",
       "          (fc2): Linear(in_features=3072, out_features=768, bias=True)\n",
       "          (drop2): Dropout(p=0.0, inplace=False)\n",
       "        )\n",
       "      )\n",
       "      (3): Block(\n",
       "        (norm1): LayerNorm((768,), eps=1e-06, elementwise_affine=True)\n",
       "        (attn): Attention(\n",
       "          (qkv): Linear(in_features=768, out_features=2304, bias=True)\n",
       "          (attn_drop): Dropout(p=0.0, inplace=False)\n",
       "          (proj): Linear(in_features=768, out_features=768, bias=True)\n",
       "          (proj_drop): Dropout(p=0.0, inplace=False)\n",
       "        )\n",
       "        (drop_path): Identity()\n",
       "        (norm2): LayerNorm((768,), eps=1e-06, elementwise_affine=True)\n",
       "        (mlp): Mlp(\n",
       "          (fc1): Linear(in_features=768, out_features=3072, bias=True)\n",
       "          (act): GELU(approximate='none')\n",
       "          (drop1): Dropout(p=0.0, inplace=False)\n",
       "          (fc2): Linear(in_features=3072, out_features=768, bias=True)\n",
       "          (drop2): Dropout(p=0.0, inplace=False)\n",
       "        )\n",
       "      )\n",
       "      (4): Block(\n",
       "        (norm1): LayerNorm((768,), eps=1e-06, elementwise_affine=True)\n",
       "        (attn): Attention(\n",
       "          (qkv): Linear(in_features=768, out_features=2304, bias=True)\n",
       "          (attn_drop): Dropout(p=0.0, inplace=False)\n",
       "          (proj): Linear(in_features=768, out_features=768, bias=True)\n",
       "          (proj_drop): Dropout(p=0.0, inplace=False)\n",
       "        )\n",
       "        (drop_path): Identity()\n",
       "        (norm2): LayerNorm((768,), eps=1e-06, elementwise_affine=True)\n",
       "        (mlp): Mlp(\n",
       "          (fc1): Linear(in_features=768, out_features=3072, bias=True)\n",
       "          (act): GELU(approximate='none')\n",
       "          (drop1): Dropout(p=0.0, inplace=False)\n",
       "          (fc2): Linear(in_features=3072, out_features=768, bias=True)\n",
       "          (drop2): Dropout(p=0.0, inplace=False)\n",
       "        )\n",
       "      )\n",
       "      (5): Block(\n",
       "        (norm1): LayerNorm((768,), eps=1e-06, elementwise_affine=True)\n",
       "        (attn): Attention(\n",
       "          (qkv): Linear(in_features=768, out_features=2304, bias=True)\n",
       "          (attn_drop): Dropout(p=0.0, inplace=False)\n",
       "          (proj): Linear(in_features=768, out_features=768, bias=True)\n",
       "          (proj_drop): Dropout(p=0.0, inplace=False)\n",
       "        )\n",
       "        (drop_path): Identity()\n",
       "        (norm2): LayerNorm((768,), eps=1e-06, elementwise_affine=True)\n",
       "        (mlp): Mlp(\n",
       "          (fc1): Linear(in_features=768, out_features=3072, bias=True)\n",
       "          (act): GELU(approximate='none')\n",
       "          (drop1): Dropout(p=0.0, inplace=False)\n",
       "          (fc2): Linear(in_features=3072, out_features=768, bias=True)\n",
       "          (drop2): Dropout(p=0.0, inplace=False)\n",
       "        )\n",
       "      )\n",
       "      (6): Block(\n",
       "        (norm1): LayerNorm((768,), eps=1e-06, elementwise_affine=True)\n",
       "        (attn): Attention(\n",
       "          (qkv): Linear(in_features=768, out_features=2304, bias=True)\n",
       "          (attn_drop): Dropout(p=0.0, inplace=False)\n",
       "          (proj): Linear(in_features=768, out_features=768, bias=True)\n",
       "          (proj_drop): Dropout(p=0.0, inplace=False)\n",
       "        )\n",
       "        (drop_path): Identity()\n",
       "        (norm2): LayerNorm((768,), eps=1e-06, elementwise_affine=True)\n",
       "        (mlp): Mlp(\n",
       "          (fc1): Linear(in_features=768, out_features=3072, bias=True)\n",
       "          (act): GELU(approximate='none')\n",
       "          (drop1): Dropout(p=0.0, inplace=False)\n",
       "          (fc2): Linear(in_features=3072, out_features=768, bias=True)\n",
       "          (drop2): Dropout(p=0.0, inplace=False)\n",
       "        )\n",
       "      )\n",
       "      (7): Block(\n",
       "        (norm1): LayerNorm((768,), eps=1e-06, elementwise_affine=True)\n",
       "        (attn): Attention(\n",
       "          (qkv): Linear(in_features=768, out_features=2304, bias=True)\n",
       "          (attn_drop): Dropout(p=0.0, inplace=False)\n",
       "          (proj): Linear(in_features=768, out_features=768, bias=True)\n",
       "          (proj_drop): Dropout(p=0.0, inplace=False)\n",
       "        )\n",
       "        (drop_path): Identity()\n",
       "        (norm2): LayerNorm((768,), eps=1e-06, elementwise_affine=True)\n",
       "        (mlp): Mlp(\n",
       "          (fc1): Linear(in_features=768, out_features=3072, bias=True)\n",
       "          (act): GELU(approximate='none')\n",
       "          (drop1): Dropout(p=0.0, inplace=False)\n",
       "          (fc2): Linear(in_features=3072, out_features=768, bias=True)\n",
       "          (drop2): Dropout(p=0.0, inplace=False)\n",
       "        )\n",
       "      )\n",
       "      (8): Block(\n",
       "        (norm1): LayerNorm((768,), eps=1e-06, elementwise_affine=True)\n",
       "        (attn): Attention(\n",
       "          (qkv): Linear(in_features=768, out_features=2304, bias=True)\n",
       "          (attn_drop): Dropout(p=0.0, inplace=False)\n",
       "          (proj): Linear(in_features=768, out_features=768, bias=True)\n",
       "          (proj_drop): Dropout(p=0.0, inplace=False)\n",
       "        )\n",
       "        (drop_path): Identity()\n",
       "        (norm2): LayerNorm((768,), eps=1e-06, elementwise_affine=True)\n",
       "        (mlp): Mlp(\n",
       "          (fc1): Linear(in_features=768, out_features=3072, bias=True)\n",
       "          (act): GELU(approximate='none')\n",
       "          (drop1): Dropout(p=0.0, inplace=False)\n",
       "          (fc2): Linear(in_features=3072, out_features=768, bias=True)\n",
       "          (drop2): Dropout(p=0.0, inplace=False)\n",
       "        )\n",
       "      )\n",
       "      (9): Block(\n",
       "        (norm1): LayerNorm((768,), eps=1e-06, elementwise_affine=True)\n",
       "        (attn): Attention(\n",
       "          (qkv): Linear(in_features=768, out_features=2304, bias=True)\n",
       "          (attn_drop): Dropout(p=0.0, inplace=False)\n",
       "          (proj): Linear(in_features=768, out_features=768, bias=True)\n",
       "          (proj_drop): Dropout(p=0.0, inplace=False)\n",
       "        )\n",
       "        (drop_path): Identity()\n",
       "        (norm2): LayerNorm((768,), eps=1e-06, elementwise_affine=True)\n",
       "        (mlp): Mlp(\n",
       "          (fc1): Linear(in_features=768, out_features=3072, bias=True)\n",
       "          (act): GELU(approximate='none')\n",
       "          (drop1): Dropout(p=0.0, inplace=False)\n",
       "          (fc2): Linear(in_features=3072, out_features=768, bias=True)\n",
       "          (drop2): Dropout(p=0.0, inplace=False)\n",
       "        )\n",
       "      )\n",
       "      (10): Block(\n",
       "        (norm1): LayerNorm((768,), eps=1e-06, elementwise_affine=True)\n",
       "        (attn): Attention(\n",
       "          (qkv): Linear(in_features=768, out_features=2304, bias=True)\n",
       "          (attn_drop): Dropout(p=0.0, inplace=False)\n",
       "          (proj): Linear(in_features=768, out_features=768, bias=True)\n",
       "          (proj_drop): Dropout(p=0.0, inplace=False)\n",
       "        )\n",
       "        (drop_path): Identity()\n",
       "        (norm2): LayerNorm((768,), eps=1e-06, elementwise_affine=True)\n",
       "        (mlp): Mlp(\n",
       "          (fc1): Linear(in_features=768, out_features=3072, bias=True)\n",
       "          (act): GELU(approximate='none')\n",
       "          (drop1): Dropout(p=0.0, inplace=False)\n",
       "          (fc2): Linear(in_features=3072, out_features=768, bias=True)\n",
       "          (drop2): Dropout(p=0.0, inplace=False)\n",
       "        )\n",
       "      )\n",
       "      (11): Block(\n",
       "        (norm1): LayerNorm((768,), eps=1e-06, elementwise_affine=True)\n",
       "        (attn): Attention(\n",
       "          (qkv): Linear(in_features=768, out_features=2304, bias=True)\n",
       "          (attn_drop): Dropout(p=0.0, inplace=False)\n",
       "          (proj): Linear(in_features=768, out_features=768, bias=True)\n",
       "          (proj_drop): Dropout(p=0.0, inplace=False)\n",
       "        )\n",
       "        (drop_path): Identity()\n",
       "        (norm2): LayerNorm((768,), eps=1e-06, elementwise_affine=True)\n",
       "        (mlp): Mlp(\n",
       "          (fc1): Linear(in_features=768, out_features=3072, bias=True)\n",
       "          (act): GELU(approximate='none')\n",
       "          (drop1): Dropout(p=0.0, inplace=False)\n",
       "          (fc2): Linear(in_features=3072, out_features=768, bias=True)\n",
       "          (drop2): Dropout(p=0.0, inplace=False)\n",
       "        )\n",
       "      )\n",
       "    )\n",
       "    (norm): LayerNorm((768,), eps=1e-06, elementwise_affine=True)\n",
       "    (pre_logits): Identity()\n",
       "    (head): Identity()\n",
       "  )\n",
       "  (transformer): Transformer(\n",
       "    (resblocks): Sequential(\n",
       "      (0): ResidualAttentionBlock(\n",
       "        (attn): MultiheadAttention(\n",
       "          (out_proj): NonDynamicallyQuantizableLinear(in_features=512, out_features=512, bias=True)\n",
       "        )\n",
       "        (ln_1): LayerNorm((512,), eps=1e-05, elementwise_affine=True)\n",
       "        (mlp): Sequential(\n",
       "          (c_fc): Linear(in_features=512, out_features=2048, bias=True)\n",
       "          (gelu): QuickGELU()\n",
       "          (c_proj): Linear(in_features=2048, out_features=512, bias=True)\n",
       "        )\n",
       "        (ln_2): LayerNorm((512,), eps=1e-05, elementwise_affine=True)\n",
       "      )\n",
       "      (1): ResidualAttentionBlock(\n",
       "        (attn): MultiheadAttention(\n",
       "          (out_proj): NonDynamicallyQuantizableLinear(in_features=512, out_features=512, bias=True)\n",
       "        )\n",
       "        (ln_1): LayerNorm((512,), eps=1e-05, elementwise_affine=True)\n",
       "        (mlp): Sequential(\n",
       "          (c_fc): Linear(in_features=512, out_features=2048, bias=True)\n",
       "          (gelu): QuickGELU()\n",
       "          (c_proj): Linear(in_features=2048, out_features=512, bias=True)\n",
       "        )\n",
       "        (ln_2): LayerNorm((512,), eps=1e-05, elementwise_affine=True)\n",
       "      )\n",
       "      (2): ResidualAttentionBlock(\n",
       "        (attn): MultiheadAttention(\n",
       "          (out_proj): NonDynamicallyQuantizableLinear(in_features=512, out_features=512, bias=True)\n",
       "        )\n",
       "        (ln_1): LayerNorm((512,), eps=1e-05, elementwise_affine=True)\n",
       "        (mlp): Sequential(\n",
       "          (c_fc): Linear(in_features=512, out_features=2048, bias=True)\n",
       "          (gelu): QuickGELU()\n",
       "          (c_proj): Linear(in_features=2048, out_features=512, bias=True)\n",
       "        )\n",
       "        (ln_2): LayerNorm((512,), eps=1e-05, elementwise_affine=True)\n",
       "      )\n",
       "      (3): ResidualAttentionBlock(\n",
       "        (attn): MultiheadAttention(\n",
       "          (out_proj): NonDynamicallyQuantizableLinear(in_features=512, out_features=512, bias=True)\n",
       "        )\n",
       "        (ln_1): LayerNorm((512,), eps=1e-05, elementwise_affine=True)\n",
       "        (mlp): Sequential(\n",
       "          (c_fc): Linear(in_features=512, out_features=2048, bias=True)\n",
       "          (gelu): QuickGELU()\n",
       "          (c_proj): Linear(in_features=2048, out_features=512, bias=True)\n",
       "        )\n",
       "        (ln_2): LayerNorm((512,), eps=1e-05, elementwise_affine=True)\n",
       "      )\n",
       "      (4): ResidualAttentionBlock(\n",
       "        (attn): MultiheadAttention(\n",
       "          (out_proj): NonDynamicallyQuantizableLinear(in_features=512, out_features=512, bias=True)\n",
       "        )\n",
       "        (ln_1): LayerNorm((512,), eps=1e-05, elementwise_affine=True)\n",
       "        (mlp): Sequential(\n",
       "          (c_fc): Linear(in_features=512, out_features=2048, bias=True)\n",
       "          (gelu): QuickGELU()\n",
       "          (c_proj): Linear(in_features=2048, out_features=512, bias=True)\n",
       "        )\n",
       "        (ln_2): LayerNorm((512,), eps=1e-05, elementwise_affine=True)\n",
       "      )\n",
       "      (5): ResidualAttentionBlock(\n",
       "        (attn): MultiheadAttention(\n",
       "          (out_proj): NonDynamicallyQuantizableLinear(in_features=512, out_features=512, bias=True)\n",
       "        )\n",
       "        (ln_1): LayerNorm((512,), eps=1e-05, elementwise_affine=True)\n",
       "        (mlp): Sequential(\n",
       "          (c_fc): Linear(in_features=512, out_features=2048, bias=True)\n",
       "          (gelu): QuickGELU()\n",
       "          (c_proj): Linear(in_features=2048, out_features=512, bias=True)\n",
       "        )\n",
       "        (ln_2): LayerNorm((512,), eps=1e-05, elementwise_affine=True)\n",
       "      )\n",
       "      (6): ResidualAttentionBlock(\n",
       "        (attn): MultiheadAttention(\n",
       "          (out_proj): NonDynamicallyQuantizableLinear(in_features=512, out_features=512, bias=True)\n",
       "        )\n",
       "        (ln_1): LayerNorm((512,), eps=1e-05, elementwise_affine=True)\n",
       "        (mlp): Sequential(\n",
       "          (c_fc): Linear(in_features=512, out_features=2048, bias=True)\n",
       "          (gelu): QuickGELU()\n",
       "          (c_proj): Linear(in_features=2048, out_features=512, bias=True)\n",
       "        )\n",
       "        (ln_2): LayerNorm((512,), eps=1e-05, elementwise_affine=True)\n",
       "      )\n",
       "      (7): ResidualAttentionBlock(\n",
       "        (attn): MultiheadAttention(\n",
       "          (out_proj): NonDynamicallyQuantizableLinear(in_features=512, out_features=512, bias=True)\n",
       "        )\n",
       "        (ln_1): LayerNorm((512,), eps=1e-05, elementwise_affine=True)\n",
       "        (mlp): Sequential(\n",
       "          (c_fc): Linear(in_features=512, out_features=2048, bias=True)\n",
       "          (gelu): QuickGELU()\n",
       "          (c_proj): Linear(in_features=2048, out_features=512, bias=True)\n",
       "        )\n",
       "        (ln_2): LayerNorm((512,), eps=1e-05, elementwise_affine=True)\n",
       "      )\n",
       "      (8): ResidualAttentionBlock(\n",
       "        (attn): MultiheadAttention(\n",
       "          (out_proj): NonDynamicallyQuantizableLinear(in_features=512, out_features=512, bias=True)\n",
       "        )\n",
       "        (ln_1): LayerNorm((512,), eps=1e-05, elementwise_affine=True)\n",
       "        (mlp): Sequential(\n",
       "          (c_fc): Linear(in_features=512, out_features=2048, bias=True)\n",
       "          (gelu): QuickGELU()\n",
       "          (c_proj): Linear(in_features=2048, out_features=512, bias=True)\n",
       "        )\n",
       "        (ln_2): LayerNorm((512,), eps=1e-05, elementwise_affine=True)\n",
       "      )\n",
       "      (9): ResidualAttentionBlock(\n",
       "        (attn): MultiheadAttention(\n",
       "          (out_proj): NonDynamicallyQuantizableLinear(in_features=512, out_features=512, bias=True)\n",
       "        )\n",
       "        (ln_1): LayerNorm((512,), eps=1e-05, elementwise_affine=True)\n",
       "        (mlp): Sequential(\n",
       "          (c_fc): Linear(in_features=512, out_features=2048, bias=True)\n",
       "          (gelu): QuickGELU()\n",
       "          (c_proj): Linear(in_features=2048, out_features=512, bias=True)\n",
       "        )\n",
       "        (ln_2): LayerNorm((512,), eps=1e-05, elementwise_affine=True)\n",
       "      )\n",
       "      (10): ResidualAttentionBlock(\n",
       "        (attn): MultiheadAttention(\n",
       "          (out_proj): NonDynamicallyQuantizableLinear(in_features=512, out_features=512, bias=True)\n",
       "        )\n",
       "        (ln_1): LayerNorm((512,), eps=1e-05, elementwise_affine=True)\n",
       "        (mlp): Sequential(\n",
       "          (c_fc): Linear(in_features=512, out_features=2048, bias=True)\n",
       "          (gelu): QuickGELU()\n",
       "          (c_proj): Linear(in_features=2048, out_features=512, bias=True)\n",
       "        )\n",
       "        (ln_2): LayerNorm((512,), eps=1e-05, elementwise_affine=True)\n",
       "      )\n",
       "      (11): ResidualAttentionBlock(\n",
       "        (attn): MultiheadAttention(\n",
       "          (out_proj): NonDynamicallyQuantizableLinear(in_features=512, out_features=512, bias=True)\n",
       "        )\n",
       "        (ln_1): LayerNorm((512,), eps=1e-05, elementwise_affine=True)\n",
       "        (mlp): Sequential(\n",
       "          (c_fc): Linear(in_features=512, out_features=2048, bias=True)\n",
       "          (gelu): QuickGELU()\n",
       "          (c_proj): Linear(in_features=2048, out_features=512, bias=True)\n",
       "        )\n",
       "        (ln_2): LayerNorm((512,), eps=1e-05, elementwise_affine=True)\n",
       "      )\n",
       "    )\n",
       "  )\n",
       "  (token_embedding): Embedding(49408, 512)\n",
       "  (ln_final): LayerNorm((512,), eps=1e-05, elementwise_affine=True)\n",
       "  (visual_ema): MaskVisionTransformer(\n",
       "    (patch_embed): PatchEmbed(\n",
       "      (proj): Conv2d(3, 768, kernel_size=(16, 16), stride=(16, 16))\n",
       "      (norm): Identity()\n",
       "    )\n",
       "    (pos_drop): Dropout(p=0.0, inplace=False)\n",
       "    (blocks): Sequential(\n",
       "      (0): Block(\n",
       "        (norm1): LayerNorm((768,), eps=1e-06, elementwise_affine=True)\n",
       "        (attn): Attention(\n",
       "          (qkv): Linear(in_features=768, out_features=2304, bias=True)\n",
       "          (attn_drop): Dropout(p=0.0, inplace=False)\n",
       "          (proj): Linear(in_features=768, out_features=768, bias=True)\n",
       "          (proj_drop): Dropout(p=0.0, inplace=False)\n",
       "        )\n",
       "        (drop_path): Identity()\n",
       "        (norm2): LayerNorm((768,), eps=1e-06, elementwise_affine=True)\n",
       "        (mlp): Mlp(\n",
       "          (fc1): Linear(in_features=768, out_features=3072, bias=True)\n",
       "          (act): GELU(approximate='none')\n",
       "          (drop1): Dropout(p=0.0, inplace=False)\n",
       "          (fc2): Linear(in_features=3072, out_features=768, bias=True)\n",
       "          (drop2): Dropout(p=0.0, inplace=False)\n",
       "        )\n",
       "      )\n",
       "      (1): Block(\n",
       "        (norm1): LayerNorm((768,), eps=1e-06, elementwise_affine=True)\n",
       "        (attn): Attention(\n",
       "          (qkv): Linear(in_features=768, out_features=2304, bias=True)\n",
       "          (attn_drop): Dropout(p=0.0, inplace=False)\n",
       "          (proj): Linear(in_features=768, out_features=768, bias=True)\n",
       "          (proj_drop): Dropout(p=0.0, inplace=False)\n",
       "        )\n",
       "        (drop_path): Identity()\n",
       "        (norm2): LayerNorm((768,), eps=1e-06, elementwise_affine=True)\n",
       "        (mlp): Mlp(\n",
       "          (fc1): Linear(in_features=768, out_features=3072, bias=True)\n",
       "          (act): GELU(approximate='none')\n",
       "          (drop1): Dropout(p=0.0, inplace=False)\n",
       "          (fc2): Linear(in_features=3072, out_features=768, bias=True)\n",
       "          (drop2): Dropout(p=0.0, inplace=False)\n",
       "        )\n",
       "      )\n",
       "      (2): Block(\n",
       "        (norm1): LayerNorm((768,), eps=1e-06, elementwise_affine=True)\n",
       "        (attn): Attention(\n",
       "          (qkv): Linear(in_features=768, out_features=2304, bias=True)\n",
       "          (attn_drop): Dropout(p=0.0, inplace=False)\n",
       "          (proj): Linear(in_features=768, out_features=768, bias=True)\n",
       "          (proj_drop): Dropout(p=0.0, inplace=False)\n",
       "        )\n",
       "        (drop_path): Identity()\n",
       "        (norm2): LayerNorm((768,), eps=1e-06, elementwise_affine=True)\n",
       "        (mlp): Mlp(\n",
       "          (fc1): Linear(in_features=768, out_features=3072, bias=True)\n",
       "          (act): GELU(approximate='none')\n",
       "          (drop1): Dropout(p=0.0, inplace=False)\n",
       "          (fc2): Linear(in_features=3072, out_features=768, bias=True)\n",
       "          (drop2): Dropout(p=0.0, inplace=False)\n",
       "        )\n",
       "      )\n",
       "      (3): Block(\n",
       "        (norm1): LayerNorm((768,), eps=1e-06, elementwise_affine=True)\n",
       "        (attn): Attention(\n",
       "          (qkv): Linear(in_features=768, out_features=2304, bias=True)\n",
       "          (attn_drop): Dropout(p=0.0, inplace=False)\n",
       "          (proj): Linear(in_features=768, out_features=768, bias=True)\n",
       "          (proj_drop): Dropout(p=0.0, inplace=False)\n",
       "        )\n",
       "        (drop_path): Identity()\n",
       "        (norm2): LayerNorm((768,), eps=1e-06, elementwise_affine=True)\n",
       "        (mlp): Mlp(\n",
       "          (fc1): Linear(in_features=768, out_features=3072, bias=True)\n",
       "          (act): GELU(approximate='none')\n",
       "          (drop1): Dropout(p=0.0, inplace=False)\n",
       "          (fc2): Linear(in_features=3072, out_features=768, bias=True)\n",
       "          (drop2): Dropout(p=0.0, inplace=False)\n",
       "        )\n",
       "      )\n",
       "      (4): Block(\n",
       "        (norm1): LayerNorm((768,), eps=1e-06, elementwise_affine=True)\n",
       "        (attn): Attention(\n",
       "          (qkv): Linear(in_features=768, out_features=2304, bias=True)\n",
       "          (attn_drop): Dropout(p=0.0, inplace=False)\n",
       "          (proj): Linear(in_features=768, out_features=768, bias=True)\n",
       "          (proj_drop): Dropout(p=0.0, inplace=False)\n",
       "        )\n",
       "        (drop_path): Identity()\n",
       "        (norm2): LayerNorm((768,), eps=1e-06, elementwise_affine=True)\n",
       "        (mlp): Mlp(\n",
       "          (fc1): Linear(in_features=768, out_features=3072, bias=True)\n",
       "          (act): GELU(approximate='none')\n",
       "          (drop1): Dropout(p=0.0, inplace=False)\n",
       "          (fc2): Linear(in_features=3072, out_features=768, bias=True)\n",
       "          (drop2): Dropout(p=0.0, inplace=False)\n",
       "        )\n",
       "      )\n",
       "      (5): Block(\n",
       "        (norm1): LayerNorm((768,), eps=1e-06, elementwise_affine=True)\n",
       "        (attn): Attention(\n",
       "          (qkv): Linear(in_features=768, out_features=2304, bias=True)\n",
       "          (attn_drop): Dropout(p=0.0, inplace=False)\n",
       "          (proj): Linear(in_features=768, out_features=768, bias=True)\n",
       "          (proj_drop): Dropout(p=0.0, inplace=False)\n",
       "        )\n",
       "        (drop_path): Identity()\n",
       "        (norm2): LayerNorm((768,), eps=1e-06, elementwise_affine=True)\n",
       "        (mlp): Mlp(\n",
       "          (fc1): Linear(in_features=768, out_features=3072, bias=True)\n",
       "          (act): GELU(approximate='none')\n",
       "          (drop1): Dropout(p=0.0, inplace=False)\n",
       "          (fc2): Linear(in_features=3072, out_features=768, bias=True)\n",
       "          (drop2): Dropout(p=0.0, inplace=False)\n",
       "        )\n",
       "      )\n",
       "      (6): Block(\n",
       "        (norm1): LayerNorm((768,), eps=1e-06, elementwise_affine=True)\n",
       "        (attn): Attention(\n",
       "          (qkv): Linear(in_features=768, out_features=2304, bias=True)\n",
       "          (attn_drop): Dropout(p=0.0, inplace=False)\n",
       "          (proj): Linear(in_features=768, out_features=768, bias=True)\n",
       "          (proj_drop): Dropout(p=0.0, inplace=False)\n",
       "        )\n",
       "        (drop_path): Identity()\n",
       "        (norm2): LayerNorm((768,), eps=1e-06, elementwise_affine=True)\n",
       "        (mlp): Mlp(\n",
       "          (fc1): Linear(in_features=768, out_features=3072, bias=True)\n",
       "          (act): GELU(approximate='none')\n",
       "          (drop1): Dropout(p=0.0, inplace=False)\n",
       "          (fc2): Linear(in_features=3072, out_features=768, bias=True)\n",
       "          (drop2): Dropout(p=0.0, inplace=False)\n",
       "        )\n",
       "      )\n",
       "      (7): Block(\n",
       "        (norm1): LayerNorm((768,), eps=1e-06, elementwise_affine=True)\n",
       "        (attn): Attention(\n",
       "          (qkv): Linear(in_features=768, out_features=2304, bias=True)\n",
       "          (attn_drop): Dropout(p=0.0, inplace=False)\n",
       "          (proj): Linear(in_features=768, out_features=768, bias=True)\n",
       "          (proj_drop): Dropout(p=0.0, inplace=False)\n",
       "        )\n",
       "        (drop_path): Identity()\n",
       "        (norm2): LayerNorm((768,), eps=1e-06, elementwise_affine=True)\n",
       "        (mlp): Mlp(\n",
       "          (fc1): Linear(in_features=768, out_features=3072, bias=True)\n",
       "          (act): GELU(approximate='none')\n",
       "          (drop1): Dropout(p=0.0, inplace=False)\n",
       "          (fc2): Linear(in_features=3072, out_features=768, bias=True)\n",
       "          (drop2): Dropout(p=0.0, inplace=False)\n",
       "        )\n",
       "      )\n",
       "      (8): Block(\n",
       "        (norm1): LayerNorm((768,), eps=1e-06, elementwise_affine=True)\n",
       "        (attn): Attention(\n",
       "          (qkv): Linear(in_features=768, out_features=2304, bias=True)\n",
       "          (attn_drop): Dropout(p=0.0, inplace=False)\n",
       "          (proj): Linear(in_features=768, out_features=768, bias=True)\n",
       "          (proj_drop): Dropout(p=0.0, inplace=False)\n",
       "        )\n",
       "        (drop_path): Identity()\n",
       "        (norm2): LayerNorm((768,), eps=1e-06, elementwise_affine=True)\n",
       "        (mlp): Mlp(\n",
       "          (fc1): Linear(in_features=768, out_features=3072, bias=True)\n",
       "          (act): GELU(approximate='none')\n",
       "          (drop1): Dropout(p=0.0, inplace=False)\n",
       "          (fc2): Linear(in_features=3072, out_features=768, bias=True)\n",
       "          (drop2): Dropout(p=0.0, inplace=False)\n",
       "        )\n",
       "      )\n",
       "      (9): Block(\n",
       "        (norm1): LayerNorm((768,), eps=1e-06, elementwise_affine=True)\n",
       "        (attn): Attention(\n",
       "          (qkv): Linear(in_features=768, out_features=2304, bias=True)\n",
       "          (attn_drop): Dropout(p=0.0, inplace=False)\n",
       "          (proj): Linear(in_features=768, out_features=768, bias=True)\n",
       "          (proj_drop): Dropout(p=0.0, inplace=False)\n",
       "        )\n",
       "        (drop_path): Identity()\n",
       "        (norm2): LayerNorm((768,), eps=1e-06, elementwise_affine=True)\n",
       "        (mlp): Mlp(\n",
       "          (fc1): Linear(in_features=768, out_features=3072, bias=True)\n",
       "          (act): GELU(approximate='none')\n",
       "          (drop1): Dropout(p=0.0, inplace=False)\n",
       "          (fc2): Linear(in_features=3072, out_features=768, bias=True)\n",
       "          (drop2): Dropout(p=0.0, inplace=False)\n",
       "        )\n",
       "      )\n",
       "      (10): Block(\n",
       "        (norm1): LayerNorm((768,), eps=1e-06, elementwise_affine=True)\n",
       "        (attn): Attention(\n",
       "          (qkv): Linear(in_features=768, out_features=2304, bias=True)\n",
       "          (attn_drop): Dropout(p=0.0, inplace=False)\n",
       "          (proj): Linear(in_features=768, out_features=768, bias=True)\n",
       "          (proj_drop): Dropout(p=0.0, inplace=False)\n",
       "        )\n",
       "        (drop_path): Identity()\n",
       "        (norm2): LayerNorm((768,), eps=1e-06, elementwise_affine=True)\n",
       "        (mlp): Mlp(\n",
       "          (fc1): Linear(in_features=768, out_features=3072, bias=True)\n",
       "          (act): GELU(approximate='none')\n",
       "          (drop1): Dropout(p=0.0, inplace=False)\n",
       "          (fc2): Linear(in_features=3072, out_features=768, bias=True)\n",
       "          (drop2): Dropout(p=0.0, inplace=False)\n",
       "        )\n",
       "      )\n",
       "      (11): Block(\n",
       "        (norm1): LayerNorm((768,), eps=1e-06, elementwise_affine=True)\n",
       "        (attn): Attention(\n",
       "          (qkv): Linear(in_features=768, out_features=2304, bias=True)\n",
       "          (attn_drop): Dropout(p=0.0, inplace=False)\n",
       "          (proj): Linear(in_features=768, out_features=768, bias=True)\n",
       "          (proj_drop): Dropout(p=0.0, inplace=False)\n",
       "        )\n",
       "        (drop_path): Identity()\n",
       "        (norm2): LayerNorm((768,), eps=1e-06, elementwise_affine=True)\n",
       "        (mlp): Mlp(\n",
       "          (fc1): Linear(in_features=768, out_features=3072, bias=True)\n",
       "          (act): GELU(approximate='none')\n",
       "          (drop1): Dropout(p=0.0, inplace=False)\n",
       "          (fc2): Linear(in_features=3072, out_features=768, bias=True)\n",
       "          (drop2): Dropout(p=0.0, inplace=False)\n",
       "        )\n",
       "      )\n",
       "    )\n",
       "    (norm): LayerNorm((768,), eps=1e-06, elementwise_affine=True)\n",
       "    (pre_logits): Identity()\n",
       "    (head): Identity()\n",
       "  )\n",
       "  (transformer_e): Transformer(\n",
       "    (resblocks): Sequential(\n",
       "      (0): ResidualAttentionBlock(\n",
       "        (attn): MultiheadAttention(\n",
       "          (out_proj): NonDynamicallyQuantizableLinear(in_features=512, out_features=512, bias=True)\n",
       "        )\n",
       "        (ln_1): LayerNorm((512,), eps=1e-05, elementwise_affine=True)\n",
       "        (mlp): Sequential(\n",
       "          (c_fc): Linear(in_features=512, out_features=2048, bias=True)\n",
       "          (gelu): QuickGELU()\n",
       "          (c_proj): Linear(in_features=2048, out_features=512, bias=True)\n",
       "        )\n",
       "        (ln_2): LayerNorm((512,), eps=1e-05, elementwise_affine=True)\n",
       "      )\n",
       "      (1): ResidualAttentionBlock(\n",
       "        (attn): MultiheadAttention(\n",
       "          (out_proj): NonDynamicallyQuantizableLinear(in_features=512, out_features=512, bias=True)\n",
       "        )\n",
       "        (ln_1): LayerNorm((512,), eps=1e-05, elementwise_affine=True)\n",
       "        (mlp): Sequential(\n",
       "          (c_fc): Linear(in_features=512, out_features=2048, bias=True)\n",
       "          (gelu): QuickGELU()\n",
       "          (c_proj): Linear(in_features=2048, out_features=512, bias=True)\n",
       "        )\n",
       "        (ln_2): LayerNorm((512,), eps=1e-05, elementwise_affine=True)\n",
       "      )\n",
       "      (2): ResidualAttentionBlock(\n",
       "        (attn): MultiheadAttention(\n",
       "          (out_proj): NonDynamicallyQuantizableLinear(in_features=512, out_features=512, bias=True)\n",
       "        )\n",
       "        (ln_1): LayerNorm((512,), eps=1e-05, elementwise_affine=True)\n",
       "        (mlp): Sequential(\n",
       "          (c_fc): Linear(in_features=512, out_features=2048, bias=True)\n",
       "          (gelu): QuickGELU()\n",
       "          (c_proj): Linear(in_features=2048, out_features=512, bias=True)\n",
       "        )\n",
       "        (ln_2): LayerNorm((512,), eps=1e-05, elementwise_affine=True)\n",
       "      )\n",
       "      (3): ResidualAttentionBlock(\n",
       "        (attn): MultiheadAttention(\n",
       "          (out_proj): NonDynamicallyQuantizableLinear(in_features=512, out_features=512, bias=True)\n",
       "        )\n",
       "        (ln_1): LayerNorm((512,), eps=1e-05, elementwise_affine=True)\n",
       "        (mlp): Sequential(\n",
       "          (c_fc): Linear(in_features=512, out_features=2048, bias=True)\n",
       "          (gelu): QuickGELU()\n",
       "          (c_proj): Linear(in_features=2048, out_features=512, bias=True)\n",
       "        )\n",
       "        (ln_2): LayerNorm((512,), eps=1e-05, elementwise_affine=True)\n",
       "      )\n",
       "      (4): ResidualAttentionBlock(\n",
       "        (attn): MultiheadAttention(\n",
       "          (out_proj): NonDynamicallyQuantizableLinear(in_features=512, out_features=512, bias=True)\n",
       "        )\n",
       "        (ln_1): LayerNorm((512,), eps=1e-05, elementwise_affine=True)\n",
       "        (mlp): Sequential(\n",
       "          (c_fc): Linear(in_features=512, out_features=2048, bias=True)\n",
       "          (gelu): QuickGELU()\n",
       "          (c_proj): Linear(in_features=2048, out_features=512, bias=True)\n",
       "        )\n",
       "        (ln_2): LayerNorm((512,), eps=1e-05, elementwise_affine=True)\n",
       "      )\n",
       "      (5): ResidualAttentionBlock(\n",
       "        (attn): MultiheadAttention(\n",
       "          (out_proj): NonDynamicallyQuantizableLinear(in_features=512, out_features=512, bias=True)\n",
       "        )\n",
       "        (ln_1): LayerNorm((512,), eps=1e-05, elementwise_affine=True)\n",
       "        (mlp): Sequential(\n",
       "          (c_fc): Linear(in_features=512, out_features=2048, bias=True)\n",
       "          (gelu): QuickGELU()\n",
       "          (c_proj): Linear(in_features=2048, out_features=512, bias=True)\n",
       "        )\n",
       "        (ln_2): LayerNorm((512,), eps=1e-05, elementwise_affine=True)\n",
       "      )\n",
       "      (6): ResidualAttentionBlock(\n",
       "        (attn): MultiheadAttention(\n",
       "          (out_proj): NonDynamicallyQuantizableLinear(in_features=512, out_features=512, bias=True)\n",
       "        )\n",
       "        (ln_1): LayerNorm((512,), eps=1e-05, elementwise_affine=True)\n",
       "        (mlp): Sequential(\n",
       "          (c_fc): Linear(in_features=512, out_features=2048, bias=True)\n",
       "          (gelu): QuickGELU()\n",
       "          (c_proj): Linear(in_features=2048, out_features=512, bias=True)\n",
       "        )\n",
       "        (ln_2): LayerNorm((512,), eps=1e-05, elementwise_affine=True)\n",
       "      )\n",
       "      (7): ResidualAttentionBlock(\n",
       "        (attn): MultiheadAttention(\n",
       "          (out_proj): NonDynamicallyQuantizableLinear(in_features=512, out_features=512, bias=True)\n",
       "        )\n",
       "        (ln_1): LayerNorm((512,), eps=1e-05, elementwise_affine=True)\n",
       "        (mlp): Sequential(\n",
       "          (c_fc): Linear(in_features=512, out_features=2048, bias=True)\n",
       "          (gelu): QuickGELU()\n",
       "          (c_proj): Linear(in_features=2048, out_features=512, bias=True)\n",
       "        )\n",
       "        (ln_2): LayerNorm((512,), eps=1e-05, elementwise_affine=True)\n",
       "      )\n",
       "      (8): ResidualAttentionBlock(\n",
       "        (attn): MultiheadAttention(\n",
       "          (out_proj): NonDynamicallyQuantizableLinear(in_features=512, out_features=512, bias=True)\n",
       "        )\n",
       "        (ln_1): LayerNorm((512,), eps=1e-05, elementwise_affine=True)\n",
       "        (mlp): Sequential(\n",
       "          (c_fc): Linear(in_features=512, out_features=2048, bias=True)\n",
       "          (gelu): QuickGELU()\n",
       "          (c_proj): Linear(in_features=2048, out_features=512, bias=True)\n",
       "        )\n",
       "        (ln_2): LayerNorm((512,), eps=1e-05, elementwise_affine=True)\n",
       "      )\n",
       "      (9): ResidualAttentionBlock(\n",
       "        (attn): MultiheadAttention(\n",
       "          (out_proj): NonDynamicallyQuantizableLinear(in_features=512, out_features=512, bias=True)\n",
       "        )\n",
       "        (ln_1): LayerNorm((512,), eps=1e-05, elementwise_affine=True)\n",
       "        (mlp): Sequential(\n",
       "          (c_fc): Linear(in_features=512, out_features=2048, bias=True)\n",
       "          (gelu): QuickGELU()\n",
       "          (c_proj): Linear(in_features=2048, out_features=512, bias=True)\n",
       "        )\n",
       "        (ln_2): LayerNorm((512,), eps=1e-05, elementwise_affine=True)\n",
       "      )\n",
       "      (10): ResidualAttentionBlock(\n",
       "        (attn): MultiheadAttention(\n",
       "          (out_proj): NonDynamicallyQuantizableLinear(in_features=512, out_features=512, bias=True)\n",
       "        )\n",
       "        (ln_1): LayerNorm((512,), eps=1e-05, elementwise_affine=True)\n",
       "        (mlp): Sequential(\n",
       "          (c_fc): Linear(in_features=512, out_features=2048, bias=True)\n",
       "          (gelu): QuickGELU()\n",
       "          (c_proj): Linear(in_features=2048, out_features=512, bias=True)\n",
       "        )\n",
       "        (ln_2): LayerNorm((512,), eps=1e-05, elementwise_affine=True)\n",
       "      )\n",
       "      (11): ResidualAttentionBlock(\n",
       "        (attn): MultiheadAttention(\n",
       "          (out_proj): NonDynamicallyQuantizableLinear(in_features=512, out_features=512, bias=True)\n",
       "        )\n",
       "        (ln_1): LayerNorm((512,), eps=1e-05, elementwise_affine=True)\n",
       "        (mlp): Sequential(\n",
       "          (c_fc): Linear(in_features=512, out_features=2048, bias=True)\n",
       "          (gelu): QuickGELU()\n",
       "          (c_proj): Linear(in_features=2048, out_features=512, bias=True)\n",
       "        )\n",
       "        (ln_2): LayerNorm((512,), eps=1e-05, elementwise_affine=True)\n",
       "      )\n",
       "    )\n",
       "  )\n",
       "  (decoder_embed): Linear(in_features=768, out_features=768, bias=True)\n",
       "  (decoder_blocks): ModuleList(\n",
       "    (0): Block(\n",
       "      (norm1): LayerNorm((768,), eps=1e-06, elementwise_affine=True)\n",
       "      (attn): Attention(\n",
       "        (qkv): Linear(in_features=768, out_features=2304, bias=True)\n",
       "        (attn_drop): Dropout(p=0.0, inplace=False)\n",
       "        (proj): Linear(in_features=768, out_features=768, bias=True)\n",
       "        (proj_drop): Dropout(p=0.0, inplace=False)\n",
       "      )\n",
       "      (drop_path): Identity()\n",
       "      (norm2): LayerNorm((768,), eps=1e-06, elementwise_affine=True)\n",
       "      (mlp): Mlp(\n",
       "        (fc1): Linear(in_features=768, out_features=3072, bias=True)\n",
       "        (act): GELU(approximate='none')\n",
       "        (drop1): Dropout(p=0.0, inplace=False)\n",
       "        (fc2): Linear(in_features=3072, out_features=768, bias=True)\n",
       "        (drop2): Dropout(p=0.0, inplace=False)\n",
       "      )\n",
       "    )\n",
       "  )\n",
       "  (decoder_norm): LayerNorm((768,), eps=1e-06, elementwise_affine=True)\n",
       "  (reconstruction_pred): Linear(in_features=768, out_features=768, bias=True)\n",
       "  (ibot_head): iBOTHead(\n",
       "    (mlp): CustomSequential(\n",
       "      (0): Linear(in_features=768, out_features=2048, bias=True)\n",
       "      (1): GELU(approximate='none')\n",
       "      (2): Linear(in_features=2048, out_features=2048, bias=True)\n",
       "      (3): GELU(approximate='none')\n",
       "      (4): Linear(in_features=2048, out_features=256, bias=True)\n",
       "    )\n",
       "    (last_layer): Linear(in_features=256, out_features=8192, bias=False)\n",
       "    (last_layer2): Linear(in_features=256, out_features=8192, bias=False)\n",
       "  )\n",
       "  (ibot_head_e): iBOTHead(\n",
       "    (mlp): CustomSequential(\n",
       "      (0): Linear(in_features=768, out_features=2048, bias=True)\n",
       "      (1): GELU(approximate='none')\n",
       "      (2): Linear(in_features=2048, out_features=2048, bias=True)\n",
       "      (3): GELU(approximate='none')\n",
       "      (4): Linear(in_features=2048, out_features=256, bias=True)\n",
       "    )\n",
       "    (last_layer): Linear(in_features=256, out_features=8192, bias=False)\n",
       "    (last_layer2): Linear(in_features=256, out_features=8192, bias=False)\n",
       "  )\n",
       ")"
      ]
     },
     "execution_count": 7,
     "metadata": {},
     "output_type": "execute_result"
    }
   ],
   "source": [
    "d='cub200'\n",
    "print('Evaluating {}'.format(d))\n",
    "val_dataset = datasets.get_downstream_dataset(catalog, name=d, is_train=False, transform=val_transform)\n",
    "\n",
    "val_loader = torch.utils.data.DataLoader(\n",
    "    val_dataset, batch_size=256, shuffle=False,\n",
    "    num_workers=10, pin_memory=True, drop_last=False)\n",
    "\n",
    "templates = all_templates[d]\n",
    "labels = all_labels[d]\n",
    "\n",
    "model.eval()"
   ]
  },
  {
   "cell_type": "code",
   "execution_count": 8,
   "id": "ef067a9f",
   "metadata": {},
   "outputs": [
    {
     "name": "stdout",
     "output_type": "stream",
     "text": [
      "=> encoding captions\n"
     ]
    }
   ],
   "source": [
    "results = []\n",
    "print('=> encoding captions')\n",
    "with torch.no_grad():\n",
    "    text_features = []\n",
    "    for label in labels:\n",
    "        if isinstance(label, list):\n",
    "            texts = [t.format(l) for t in templates for l in label]\n",
    "        else:\n",
    "            texts = [t.format(label) for t in templates]\n",
    "        texts = tokenizer(texts).cuda(non_blocking=True)\n",
    "        texts = texts.view(-1, 77).contiguous()\n",
    "        class_embeddings = utils.get_model(model).encode_text(texts, ema=True)\n",
    "        class_embeddings = class_embeddings / class_embeddings.norm(dim=-1, keepdim=True)\n",
    "        class_embeddings = class_embeddings.mean(dim=0)\n",
    "        class_embeddings = class_embeddings / class_embeddings.norm(dim=-1, keepdim=True)\n",
    "        text_features.append(class_embeddings)\n",
    "\n",
    "    text_features = torch.stack(text_features, dim=0)"
   ]
  },
  {
   "cell_type": "code",
   "execution_count": 9,
   "id": "fcc1d367",
   "metadata": {},
   "outputs": [],
   "source": [
    "\n",
    "with torch.no_grad():\n",
    "    image_features_tot = []\n",
    "    target_list = []\n",
    "    for images, target in val_loader:\n",
    "        images = images.cuda(non_blocking=True)\n",
    "        target = target.cuda(non_blocking=True)\n",
    "\n",
    "        # encode images\n",
    "        image_features = utils.get_model(model).encode_image(images, ema=True)\n",
    "        image_features = image_features / image_features.norm(dim=-1, keepdim=True)\n",
    "        image_features_tot.append(image_features)\n",
    "        target_list.append(target)"
   ]
  },
  {
   "cell_type": "code",
   "execution_count": 10,
   "id": "13170458",
   "metadata": {},
   "outputs": [],
   "source": [
    "image_features_cat = torch.cat(image_features_tot, dim=0)"
   ]
  },
  {
   "cell_type": "code",
   "execution_count": 11,
   "id": "01277b87",
   "metadata": {},
   "outputs": [],
   "source": [
    "color_list = torch.cat(target_list).tolist()\n",
    "colors_uniques = set(color_list)\n",
    "nb_of_colors = len(colors_uniques)"
   ]
  },
  {
   "cell_type": "code",
   "execution_count": 12,
   "id": "bf2e08e3",
   "metadata": {},
   "outputs": [
    {
     "data": {
      "application/vnd.plotly.v1+json": {
       "config": {
        "plotlyServerURL": "https://plot.ly"
       },
       "data": [
        {
         "hovertemplate": "<b>%{hovertext}</b><br><br>x=%{x}<br>y=%{y}<extra></extra>",
         "hovertext": [
          "Black footed Albatross",
          "Laysan Albatross",
          "Sooty Albatross",
          "Groove billed Ani",
          "Crested Auklet",
          "Least Auklet",
          "Parakeet Auklet",
          "Rhinoceros Auklet",
          "Brewer Blackbird",
          "Red winged Blackbird",
          "Rusty Blackbird",
          "Yellow headed Blackbird",
          "Bobolink",
          "Indigo Bunting",
          "Lazuli Bunting",
          "Painted Bunting",
          "Cardinal",
          "Spotted Catbird",
          "Gray Catbird",
          "Yellow breasted Chat",
          "Eastern Towhee",
          "Chuck will Widow",
          "Brandt Cormorant",
          "Red faced Cormorant",
          "Pelagic Cormorant",
          "Bronzed Cowbird",
          "Shiny Cowbird",
          "Brown Creeper",
          "American Crow",
          "Fish Crow",
          "Black billed Cuckoo",
          "Mangrove Cuckoo",
          "Yellow billed Cuckoo",
          "Gray crowned Rosy Finch",
          "Purple Finch",
          "Northern Flicker",
          "Acadian Flycatcher",
          "Great Crested Flycatcher",
          "Least Flycatcher",
          "Olive sided Flycatcher",
          "Scissor tailed Flycatcher",
          "Vermilion Flycatcher",
          "Yellow bellied Flycatcher",
          "Frigatebird",
          "Northern Fulmar",
          "Gadwall",
          "American Goldfinch",
          "European Goldfinch",
          "Boat tailed Grackle",
          "Eared Grebe",
          "Horned Grebe",
          "Pied billed Grebe",
          "Western Grebe",
          "Blue Grosbeak",
          "Evening Grosbeak",
          "Pine Grosbeak",
          "Rose breasted Grosbeak",
          "Pigeon Guillemot",
          "California Gull",
          "Glaucous winged Gull",
          "Heermann Gull",
          "Herring Gull",
          "Ivory Gull",
          "Ring billed Gull",
          "Slaty backed Gull",
          "Western Gull",
          "Anna Hummingbird",
          "Ruby throated Hummingbird",
          "Rufous Hummingbird",
          "Green Violetear",
          "Long tailed Jaeger",
          "Pomarine Jaeger",
          "Blue Jay",
          "Florida Jay",
          "Green Jay",
          "Dark eyed Junco",
          "Tropical Kingbird",
          "Gray Kingbird",
          "Belted Kingfisher",
          "Green Kingfisher",
          "Pied Kingfisher",
          "Ringed Kingfisher",
          "White breasted Kingfisher",
          "Red legged Kittiwake",
          "Horned Lark",
          "Pacific Loon",
          "Mallard",
          "Western Meadowlark",
          "Hooded Merganser",
          "Red breasted Merganser",
          "Mockingbird",
          "Nighthawk",
          "Clark Nutcracker",
          "White breasted Nuthatch",
          "Baltimore Oriole",
          "Hooded Oriole",
          "Orchard Oriole",
          "Scott Oriole",
          "Ovenbird",
          "Brown Pelican",
          "White Pelican",
          "Western Wood Pewee",
          "Sayornis",
          "American Pipit",
          "Whip poor Will",
          "Horned Puffin",
          "Common Raven",
          "White necked Raven",
          "American Redstart",
          "Geococcyx",
          "Loggerhead Shrike",
          "Great Grey Shrike",
          "Baird Sparrow",
          "Black throated Sparrow",
          "Brewer Sparrow",
          "Chipping Sparrow",
          "Clay colored Sparrow",
          "House Sparrow",
          "Field Sparrow",
          "Fox Sparrow",
          "Grasshopper Sparrow",
          "Harris Sparrow",
          "Henslow Sparrow",
          "Le Conte Sparrow",
          "Lincoln Sparrow",
          "Nelson Sharp tailed Sparrow",
          "Savannah Sparrow",
          "Seaside Sparrow",
          "Song Sparrow",
          "Tree Sparrow",
          "Vesper Sparrow",
          "White crowned Sparrow",
          "White throated Sparrow",
          "Cape Glossy Starling",
          "Bank Swallow",
          "Barn Swallow",
          "Cliff Swallow",
          "Tree Swallow",
          "Scarlet Tanager",
          "Summer Tanager",
          "Artic Tern",
          "Black Tern",
          "Caspian Tern",
          "Common Tern",
          "Elegant Tern",
          "Forsters Tern",
          "Least Tern",
          "Green tailed Towhee",
          "Brown Thrasher",
          "Sage Thrasher",
          "Black capped Vireo",
          "Blue headed Vireo",
          "Philadelphia Vireo",
          "Red eyed Vireo",
          "Warbling Vireo",
          "White eyed Vireo",
          "Yellow throated Vireo",
          "Bay breasted Warbler",
          "Black and white Warbler",
          "Black throated Blue Warbler",
          "Blue winged Warbler",
          "Canada Warbler",
          "Cape May Warbler",
          "Cerulean Warbler",
          "Chestnut sided Warbler",
          "Golden winged Warbler",
          "Hooded Warbler",
          "Kentucky Warbler",
          "Magnolia Warbler",
          "Mourning Warbler",
          "Myrtle Warbler",
          "Nashville Warbler",
          "Orange crowned Warbler",
          "Palm Warbler",
          "Pine Warbler",
          "Prairie Warbler",
          "Prothonotary Warbler",
          "Swainson Warbler",
          "Tennessee Warbler",
          "Wilson Warbler",
          "Worm eating Warbler",
          "Yellow Warbler",
          "Northern Waterthrush",
          "Louisiana Waterthrush",
          "Bohemian Waxwing",
          "Cedar Waxwing",
          "American Three toed Woodpecker",
          "Pileated Woodpecker",
          "Red bellied Woodpecker",
          "Red cockaded Woodpecker",
          "Red headed Woodpecker",
          "Downy Woodpecker",
          "Bewick Wren",
          "Cactus Wren",
          "Carolina Wren",
          "House Wren",
          "Marsh Wren",
          "Rock Wren",
          "Winter Wren",
          "Common Yellowthroat"
         ],
         "legendgroup": "",
         "marker": {
          "color": "#636efa",
          "symbol": "circle"
         },
         "mode": "markers",
         "name": "",
         "orientation": "v",
         "showlegend": false,
         "type": "scatter",
         "x": {
          "bdata": "WwhkfMLk2T+SetDPCnLWP7pSsum/cdg/3pvDOvIrwT//vVoTWJjTP1GnRkzrYdI/gQAeqxn/zD/W3O5eG47UP895IE2Qscc/Mz2K0Nxwwz8Pjz4D6wSqPyqM840phZQ/tFlGa+/Xrj/oFjK3x5TEv/Z++0T668e/Pd3zPAsDsb9tca11Usmkv12SCbGHMXU/qoFkWrHumT+FOh+10OnJv3CDEtt1QpO/wVw7zQ/VyT9KO6j3ElPePwzL2kb09Ns/1xuYkB2x3j8J8ZdSRnLAP4M4JojxjMM/YNCFGi0Jv7/wb1yOUFPTP+M6AZ2R09M/ziDLDWJLsD8HzjjEXECuPxJEq6aT6bC/m+k00aCDrb86wc1UC4PAv2E8x35DVrs/RxCDHfWryr/ocilvUqzPv7uv9WjhCMu/93APkIhkw79ZulB5qQG6vxo0JRPYh7e/nhQBM4/ex79MujgYKZrVP0kCTt9qDdU/UWM7PACM0D/3ZmBm6LHGv9pdzp1l7cK/LO/RmwdIzj87V5xu7U7TP1TdrHveYNQ/WGVx+KFG0D+2j+qAuDjXP1dDRe3mSJS/y9WUQS9av7+88bqdzx+yv99vm3jTGrK/5tawarnP2T/us+JfvYTQP6JeKiTur9A/6T+1rknf0j8kSifEo1fPP8VXJrQfAMw/rGdQxe62yT+wACud31TVPy3FS5EU+NQ/XZNPqqV6qz8OXMNDWsE8vyHOJrcbp4A/kgkztDl0sT9qGj9Z9t3SP+OlwnO1NNg/8VmXLoIrsT+e6R9o8eSsP/Rq5opveKI/3UNFd8krp7+keOW4doGnv/DLLLGmUom/Ya4MQXtWzT9bvgxWsRe6PyoImlWCIsg/ylaZq3C7uT+a4efUn7+7P0p5VdMJ8NA/0L3FFisDwb9ExrSgjQvbP8lz5QgCx8o/q/MDL8cexL/iXe/DFcjRP9Es02yE9dM/YmxL2FBFqL+tfBzO8hXTPx+1HbCfrsU/T5J824xDtb8wXW08J7e+v8CmOlVtKrm//kE0kF9ht79p27P4rr6cv15E2XcKFNO/W6DwVXjx1D8pnDzJk/TQPy1RD8BfYba/n69R1nVAyj+nROYEMXjKv81WuzdQr8c/MU9/7RXg0T+DbS+EkenXP1xRR3rX/Nc/d9B80YMns7+/zzstisvDP8yC9UlWKaM/p3Ruv8UXqj9C0nQ7XKqzvxxlqn4u4qe/IbUmArArzL+3z9V5k9/Rv8F2//pBI9S/JyLyb8tsu78T5Edeok/OvyGMzzxN0cS/sIEW2dup1L+EgZTsmba5vzZigYMdMs+/vH+QYkXnz79TDh1PPN3EvzhbUPrLBcy/IgwZ5Z8yz7+gN3MHklvGv+VHvwUZVM2/AOpU8I7Bwr/BP030sEHQvxUamz8cDMe/sXptUd0dx795AsOo3fjDP5qq+WayUcY/fB3GTyf4wT+KlQgpboDBPxMmUqYCOcU/G6QHvUm4xL//wAyNM5e8v6bpyChMtM0/qDeGBFNb0j/27dI7zxjMP+BIKhJKs8c/NPvUQyooyD/Sg5NQDC3QPyHxXxcs2bE/cIoRBHY4wb/1R3r43W7Jv07wt9dDpce/srt2CqW9zb+3c026tfjRvw9mhZ5aqtS/6K3o2LQG0b9CX3b2FpvUv7ZdYQ0OP9G/i8zCN87z1789xRpK/c7TvwBh5Dr2isO/Ikv3XnM6p78mC4xq9rvFv5hgQvonztC/shghdzA+1L+82QBjDfjLv0nPKCgKD9G/Y97zg0ys0L+n4/xafYe5vwmZ8TG8J8u/HkHlhmRB1L8xEnHer4nQv2Y/j+5vpsy/8fgLh6lS1r+QfCiI2x3av/PrMyFmI9e/JQptjaNZ1r8jXxfvtjvYvzJPN2K9U82/bB3/lXZL1L+FpJxrGQ/YvwUPkA0dutK/xvJwyhMjxr+k7IH8SC/UvwtSRn7q4bC/UPUi9Bmuub+srnmYfT2gv0O0vQN/4bq/2VgFLAMnwD/X+HMg/nLFP/zOdmKnZ5Y/2udyqdcStz8BkEVPck+9Pwu4DlwnQaI/IZvsYF7Gur+g0iXKdQupv4b8JEGFE8u/kpJlgnQ7tb9f04x5LGO3v2G3xpOWzJm/+XupNaDttb9lBiPHLMTLvw==",
          "dtype": "f8"
         },
         "xaxis": "x",
         "y": {
          "bdata": "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",
          "dtype": "f8"
         },
         "yaxis": "y"
        }
       ],
       "layout": {
        "legend": {
         "tracegroupgap": 0
        },
        "margin": {
         "t": 60
        },
        "template": {
         "data": {
          "bar": [
           {
            "error_x": {
             "color": "#2a3f5f"
            },
            "error_y": {
             "color": "#2a3f5f"
            },
            "marker": {
             "line": {
              "color": "#E5ECF6",
              "width": 0.5
             },
             "pattern": {
              "fillmode": "overlay",
              "size": 10,
              "solidity": 0.2
             }
            },
            "type": "bar"
           }
          ],
          "barpolar": [
           {
            "marker": {
             "line": {
              "color": "#E5ECF6",
              "width": 0.5
             },
             "pattern": {
              "fillmode": "overlay",
              "size": 10,
              "solidity": 0.2
             }
            },
            "type": "barpolar"
           }
          ],
          "carpet": [
           {
            "aaxis": {
             "endlinecolor": "#2a3f5f",
             "gridcolor": "white",
             "linecolor": "white",
             "minorgridcolor": "white",
             "startlinecolor": "#2a3f5f"
            },
            "baxis": {
             "endlinecolor": "#2a3f5f",
             "gridcolor": "white",
             "linecolor": "white",
             "minorgridcolor": "white",
             "startlinecolor": "#2a3f5f"
            },
            "type": "carpet"
           }
          ],
          "choropleth": [
           {
            "colorbar": {
             "outlinewidth": 0,
             "ticks": ""
            },
            "type": "choropleth"
           }
          ],
          "contour": [
           {
            "colorbar": {
             "outlinewidth": 0,
             "ticks": ""
            },
            "colorscale": [
             [
              0,
              "#0d0887"
             ],
             [
              0.1111111111111111,
              "#46039f"
             ],
             [
              0.2222222222222222,
              "#7201a8"
             ],
             [
              0.3333333333333333,
              "#9c179e"
             ],
             [
              0.4444444444444444,
              "#bd3786"
             ],
             [
              0.5555555555555556,
              "#d8576b"
             ],
             [
              0.6666666666666666,
              "#ed7953"
             ],
             [
              0.7777777777777778,
              "#fb9f3a"
             ],
             [
              0.8888888888888888,
              "#fdca26"
             ],
             [
              1,
              "#f0f921"
             ]
            ],
            "type": "contour"
           }
          ],
          "contourcarpet": [
           {
            "colorbar": {
             "outlinewidth": 0,
             "ticks": ""
            },
            "type": "contourcarpet"
           }
          ],
          "heatmap": [
           {
            "colorbar": {
             "outlinewidth": 0,
             "ticks": ""
            },
            "colorscale": [
             [
              0,
              "#0d0887"
             ],
             [
              0.1111111111111111,
              "#46039f"
             ],
             [
              0.2222222222222222,
              "#7201a8"
             ],
             [
              0.3333333333333333,
              "#9c179e"
             ],
             [
              0.4444444444444444,
              "#bd3786"
             ],
             [
              0.5555555555555556,
              "#d8576b"
             ],
             [
              0.6666666666666666,
              "#ed7953"
             ],
             [
              0.7777777777777778,
              "#fb9f3a"
             ],
             [
              0.8888888888888888,
              "#fdca26"
             ],
             [
              1,
              "#f0f921"
             ]
            ],
            "type": "heatmap"
           }
          ],
          "histogram": [
           {
            "marker": {
             "pattern": {
              "fillmode": "overlay",
              "size": 10,
              "solidity": 0.2
             }
            },
            "type": "histogram"
           }
          ],
          "histogram2d": [
           {
            "colorbar": {
             "outlinewidth": 0,
             "ticks": ""
            },
            "colorscale": [
             [
              0,
              "#0d0887"
             ],
             [
              0.1111111111111111,
              "#46039f"
             ],
             [
              0.2222222222222222,
              "#7201a8"
             ],
             [
              0.3333333333333333,
              "#9c179e"
             ],
             [
              0.4444444444444444,
              "#bd3786"
             ],
             [
              0.5555555555555556,
              "#d8576b"
             ],
             [
              0.6666666666666666,
              "#ed7953"
             ],
             [
              0.7777777777777778,
              "#fb9f3a"
             ],
             [
              0.8888888888888888,
              "#fdca26"
             ],
             [
              1,
              "#f0f921"
             ]
            ],
            "type": "histogram2d"
           }
          ],
          "histogram2dcontour": [
           {
            "colorbar": {
             "outlinewidth": 0,
             "ticks": ""
            },
            "colorscale": [
             [
              0,
              "#0d0887"
             ],
             [
              0.1111111111111111,
              "#46039f"
             ],
             [
              0.2222222222222222,
              "#7201a8"
             ],
             [
              0.3333333333333333,
              "#9c179e"
             ],
             [
              0.4444444444444444,
              "#bd3786"
             ],
             [
              0.5555555555555556,
              "#d8576b"
             ],
             [
              0.6666666666666666,
              "#ed7953"
             ],
             [
              0.7777777777777778,
              "#fb9f3a"
             ],
             [
              0.8888888888888888,
              "#fdca26"
             ],
             [
              1,
              "#f0f921"
             ]
            ],
            "type": "histogram2dcontour"
           }
          ],
          "mesh3d": [
           {
            "colorbar": {
             "outlinewidth": 0,
             "ticks": ""
            },
            "type": "mesh3d"
           }
          ],
          "parcoords": [
           {
            "line": {
             "colorbar": {
              "outlinewidth": 0,
              "ticks": ""
             }
            },
            "type": "parcoords"
           }
          ],
          "pie": [
           {
            "automargin": true,
            "type": "pie"
           }
          ],
          "scatter": [
           {
            "fillpattern": {
             "fillmode": "overlay",
             "size": 10,
             "solidity": 0.2
            },
            "type": "scatter"
           }
          ],
          "scatter3d": [
           {
            "line": {
             "colorbar": {
              "outlinewidth": 0,
              "ticks": ""
             }
            },
            "marker": {
             "colorbar": {
              "outlinewidth": 0,
              "ticks": ""
             }
            },
            "type": "scatter3d"
           }
          ],
          "scattercarpet": [
           {
            "marker": {
             "colorbar": {
              "outlinewidth": 0,
              "ticks": ""
             }
            },
            "type": "scattercarpet"
           }
          ],
          "scattergeo": [
           {
            "marker": {
             "colorbar": {
              "outlinewidth": 0,
              "ticks": ""
             }
            },
            "type": "scattergeo"
           }
          ],
          "scattergl": [
           {
            "marker": {
             "colorbar": {
              "outlinewidth": 0,
              "ticks": ""
             }
            },
            "type": "scattergl"
           }
          ],
          "scattermap": [
           {
            "marker": {
             "colorbar": {
              "outlinewidth": 0,
              "ticks": ""
             }
            },
            "type": "scattermap"
           }
          ],
          "scattermapbox": [
           {
            "marker": {
             "colorbar": {
              "outlinewidth": 0,
              "ticks": ""
             }
            },
            "type": "scattermapbox"
           }
          ],
          "scatterpolar": [
           {
            "marker": {
             "colorbar": {
              "outlinewidth": 0,
              "ticks": ""
             }
            },
            "type": "scatterpolar"
           }
          ],
          "scatterpolargl": [
           {
            "marker": {
             "colorbar": {
              "outlinewidth": 0,
              "ticks": ""
             }
            },
            "type": "scatterpolargl"
           }
          ],
          "scatterternary": [
           {
            "marker": {
             "colorbar": {
              "outlinewidth": 0,
              "ticks": ""
             }
            },
            "type": "scatterternary"
           }
          ],
          "surface": [
           {
            "colorbar": {
             "outlinewidth": 0,
             "ticks": ""
            },
            "colorscale": [
             [
              0,
              "#0d0887"
             ],
             [
              0.1111111111111111,
              "#46039f"
             ],
             [
              0.2222222222222222,
              "#7201a8"
             ],
             [
              0.3333333333333333,
              "#9c179e"
             ],
             [
              0.4444444444444444,
              "#bd3786"
             ],
             [
              0.5555555555555556,
              "#d8576b"
             ],
             [
              0.6666666666666666,
              "#ed7953"
             ],
             [
              0.7777777777777778,
              "#fb9f3a"
             ],
             [
              0.8888888888888888,
              "#fdca26"
             ],
             [
              1,
              "#f0f921"
             ]
            ],
            "type": "surface"
           }
          ],
          "table": [
           {
            "cells": {
             "fill": {
              "color": "#EBF0F8"
             },
             "line": {
              "color": "white"
             }
            },
            "header": {
             "fill": {
              "color": "#C8D4E3"
             },
             "line": {
              "color": "white"
             }
            },
            "type": "table"
           }
          ]
         },
         "layout": {
          "annotationdefaults": {
           "arrowcolor": "#2a3f5f",
           "arrowhead": 0,
           "arrowwidth": 1
          },
          "autotypenumbers": "strict",
          "coloraxis": {
           "colorbar": {
            "outlinewidth": 0,
            "ticks": ""
           }
          },
          "colorscale": {
           "diverging": [
            [
             0,
             "#8e0152"
            ],
            [
             0.1,
             "#c51b7d"
            ],
            [
             0.2,
             "#de77ae"
            ],
            [
             0.3,
             "#f1b6da"
            ],
            [
             0.4,
             "#fde0ef"
            ],
            [
             0.5,
             "#f7f7f7"
            ],
            [
             0.6,
             "#e6f5d0"
            ],
            [
             0.7,
             "#b8e186"
            ],
            [
             0.8,
             "#7fbc41"
            ],
            [
             0.9,
             "#4d9221"
            ],
            [
             1,
             "#276419"
            ]
           ],
           "sequential": [
            [
             0,
             "#0d0887"
            ],
            [
             0.1111111111111111,
             "#46039f"
            ],
            [
             0.2222222222222222,
             "#7201a8"
            ],
            [
             0.3333333333333333,
             "#9c179e"
            ],
            [
             0.4444444444444444,
             "#bd3786"
            ],
            [
             0.5555555555555556,
             "#d8576b"
            ],
            [
             0.6666666666666666,
             "#ed7953"
            ],
            [
             0.7777777777777778,
             "#fb9f3a"
            ],
            [
             0.8888888888888888,
             "#fdca26"
            ],
            [
             1,
             "#f0f921"
            ]
           ],
           "sequentialminus": [
            [
             0,
             "#0d0887"
            ],
            [
             0.1111111111111111,
             "#46039f"
            ],
            [
             0.2222222222222222,
             "#7201a8"
            ],
            [
             0.3333333333333333,
             "#9c179e"
            ],
            [
             0.4444444444444444,
             "#bd3786"
            ],
            [
             0.5555555555555556,
             "#d8576b"
            ],
            [
             0.6666666666666666,
             "#ed7953"
            ],
            [
             0.7777777777777778,
             "#fb9f3a"
            ],
            [
             0.8888888888888888,
             "#fdca26"
            ],
            [
             1,
             "#f0f921"
            ]
           ]
          },
          "colorway": [
           "#636efa",
           "#EF553B",
           "#00cc96",
           "#ab63fa",
           "#FFA15A",
           "#19d3f3",
           "#FF6692",
           "#B6E880",
           "#FF97FF",
           "#FECB52"
          ],
          "font": {
           "color": "#2a3f5f"
          },
          "geo": {
           "bgcolor": "white",
           "lakecolor": "white",
           "landcolor": "#E5ECF6",
           "showlakes": true,
           "showland": true,
           "subunitcolor": "white"
          },
          "hoverlabel": {
           "align": "left"
          },
          "hovermode": "closest",
          "mapbox": {
           "style": "light"
          },
          "paper_bgcolor": "white",
          "plot_bgcolor": "#E5ECF6",
          "polar": {
           "angularaxis": {
            "gridcolor": "white",
            "linecolor": "white",
            "ticks": ""
           },
           "bgcolor": "#E5ECF6",
           "radialaxis": {
            "gridcolor": "white",
            "linecolor": "white",
            "ticks": ""
           }
          },
          "scene": {
           "xaxis": {
            "backgroundcolor": "#E5ECF6",
            "gridcolor": "white",
            "gridwidth": 2,
            "linecolor": "white",
            "showbackground": true,
            "ticks": "",
            "zerolinecolor": "white"
           },
           "yaxis": {
            "backgroundcolor": "#E5ECF6",
            "gridcolor": "white",
            "gridwidth": 2,
            "linecolor": "white",
            "showbackground": true,
            "ticks": "",
            "zerolinecolor": "white"
           },
           "zaxis": {
            "backgroundcolor": "#E5ECF6",
            "gridcolor": "white",
            "gridwidth": 2,
            "linecolor": "white",
            "showbackground": true,
            "ticks": "",
            "zerolinecolor": "white"
           }
          },
          "shapedefaults": {
           "line": {
            "color": "#2a3f5f"
           }
          },
          "ternary": {
           "aaxis": {
            "gridcolor": "white",
            "linecolor": "white",
            "ticks": ""
           },
           "baxis": {
            "gridcolor": "white",
            "linecolor": "white",
            "ticks": ""
           },
           "bgcolor": "#E5ECF6",
           "caxis": {
            "gridcolor": "white",
            "linecolor": "white",
            "ticks": ""
           }
          },
          "title": {
           "x": 0.05
          },
          "xaxis": {
           "automargin": true,
           "gridcolor": "white",
           "linecolor": "white",
           "ticks": "",
           "title": {
            "standoff": 15
           },
           "zerolinecolor": "white",
           "zerolinewidth": 2
          },
          "yaxis": {
           "automargin": true,
           "gridcolor": "white",
           "linecolor": "white",
           "ticks": "",
           "title": {
            "standoff": 15
           },
           "zerolinecolor": "white",
           "zerolinewidth": 2
          }
         }
        },
        "title": {
         "text": "PCA visualization of Custom Classification dataset"
        },
        "xaxis": {
         "anchor": "y",
         "domain": [
          0,
          1
         ],
         "title": {
          "text": "First Principal Component"
         }
        },
        "yaxis": {
         "anchor": "x",
         "domain": [
          0,
          1
         ],
         "title": {
          "text": "Second Principal Component"
         }
        }
       }
      }
     },
     "metadata": {},
     "output_type": "display_data"
    }
   ],
   "source": [
    "# text features PCA\n",
    "\n",
    "text_features_pca = text_features\n",
    "pca = PCA(n_components=2)\n",
    "text_pca = pca.fit_transform(text_features_pca.to('cpu'))\n",
    "\n",
    "fig = px.scatter(x=text_pca[:, 0], y=text_pca[:, 1], hover_name=[all_labels[d] for d in catalog][0])\n",
    "fig.update_layout(\n",
    "    title=\"PCA visualization of Custom Classification dataset\",\n",
    "    xaxis_title=\"First Principal Component\",\n",
    "    yaxis_title=\"Second Principal Component\",\n",
    ")\n",
    "fig.show()"
   ]
  },
  {
   "cell_type": "code",
   "execution_count": 13,
   "id": "37c491da",
   "metadata": {},
   "outputs": [
    {
     "data": {
      "application/vnd.plotly.v1+json": {
       "config": {
        "plotlyServerURL": "https://plot.ly"
       },
       "data": [
        {
         "hovertemplate": "x=%{x}<br>y=%{y}<br>color=%{marker.color}<extra></extra>",
         "legendgroup": "",
         "marker": {
          "color": {
           "bdata": "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",
           "dtype": "i2"
          },
          "coloraxis": "coloraxis",
          "symbol": "circle"
         },
         "mode": "markers",
         "name": "",
         "showlegend": false,
         "type": "scattergl",
         "x": {
          "bdata": "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",
          "dtype": "f8"
         },
         "xaxis": "x",
         "y": {
          "bdata": "t7vHpwmnsT8PsDSFCe3FPzB6q5G08Vy/sNYcZEcoYL/PgfOGpDmRP/m131GCQLk/RBcwMA4kfz+SpVdA7aCBvwTZXXFPL3W/8y81H0eCsz+0bJD+ndmyP6/nJ08H3r0/A9yangaem78IjYZaPz7CP6DKoyRgc7U/Eo44oVNfxD+f72FYJYe+PznAoiCFWLo/hhSQ42ibwT+Vk5AwoZHCP8Q5zlnnfJI/IuweinBZqz8rVjU/JTnAP/CqFAFyR2w/7l/PqJf2zT/Ww+rHF5rEP2d6K0fp4rU/Vafbc+fUwD/cWLma7KB5v/2BT/cezsI/b44C0ptcnD+ZWzHm97KQv+Y9dbnlcKC/9rdUJLvdtz+iS15L9AetP+nzlnGCMow/mLE8R4bCqL/kCLdBOGV6v6ttr+wpEJ0/yqvWOZJouL/M8vkCqOmfPxQg+kB+dKq/YZ8w148WwT/Iv9GsBXWjP/7qtam6WME/sOdtDp5rUL82LaCNm6y9v4Bz6OcfvaO/0IcoXjLprD89ePJrP4WUv1mN3agPVp8/Q40GpF6+tD+aUbx9tUKuPyiToXY102+/BIyWdaBaqb/yZmtIDoqjP+RcXkZ/b7E/Hgbp8WWZiD+oNJP/4m2IP8nBngd8G5i/+n+amuTUqj/zD3qSn1yoP8QHjooxX6w/fO+45nZcmD/+sTcuj0egPzOG4ZSb47C/1mlII/6Etz81H2PqEA+oP85HBAhwZ4I/Mr0ojvIlq7/f0o73EzC1P0ij9E9rx3M/heVyOfLfnL9UPcM2E392P9ym7M5bsLM/CFL4VPRliD/i+hfN9rarvxySiiJ2E3y/XOFKyINmub8jlagdZNm0P85frqPN8sa/uohvBTd/oz9wQgLQae+4P2JvTZMcnoa/YqKq+nZzqL/gW9cYizGpP7O+rswvzbU/kFcZzQNVbj/dBVGJ00K3P8YNf9YrCMe/9yB9/PUr079gQ+0LqJG8v5hRPls4bsq/pGGIbxi6xr+zntx4snDTv8tecQpdMcK/mX39RB2d0L/4S2WjL8LFv1ydswWyDs2/otcBU/i4yr9m+xD7GELSv5ODUHWdSNC/zDBAVxryzL/OForkh6CwvyllvpZrlNG/HcKec2Rk0b8M+kzh//nJv4JL2bubpMa/Nusvj5zewr/m+rgjl3q3vyYb9FtpIsy/UBVzEN5Nwr9WemS0WJTLv4KKCGgOrce/wFXJz5SFuL+zbXJtXpnKv00IGdpJNce/IYNOrex+0L9kdMS62U3Lv8APAgY15Km/KStXnNwEkL8IYsPctPVkv2tiGFjYqcC//rzj6fVdiT+paaKnYj6wv78vkhOX0MG/+aRrR07PsL9WynfbKMiovxwmt0f96Lu/8G3nZ+Xku79MojlARXHAv/6nMSqi47a/BHFs7ZlJoT8irAL5haalv1JdcvfDLLS/cN3AQpgqpb+HsEhK97TAP8gMetH1e6+/fo9SxDBGpL83dAt2AJG2P++JO/SzkZe/InIl7C46pD8KGAJag1mGvx7XfZRcX70/4DvBJh+ztD9fCJBlufiRP3p4Jp0XL6o/M7DK/m8/kr8Z+M6tu1eeP3+2s6Vc+bo/z+dArwvzsT8CF4GIHeu8PwrqP9wSr8Q/6+hl4MUxpT/sEVPbLZ19P2QAqmYztKm/CvZEi2JGtT/zSqmpvjHAP57FB0ZRpIe/7aQed8zatD8ajxG46x+TP2qhq3DJ0qQ//Q+WBFHuhT8OgzPQRvmrv0BSQTBImHC/ZlFRhq6mir+u/7db8MiAvxq5uibj16A/DR96gpY0xT+kzdxh1TydPyY3ay3C0a6/vklavMm7gr+fxQ/RtFmRv7r4wi2pKoy/lGGlsb0Giz+MWZnfuYKtPzgNbkTvu7m/qgEsDzfYoT++15vsNSmHv7aCsIJA6au/KbWHgiqQkb+5eLyhhhyxvwJa9F4jQ4i/CjhShIFiiL9QPpRU+JCbP9DvcFdx6aM/W8ARJ2gRvT9+Ci64Dmagv9LGJTH6g6O/Liv9b2DEqz9duVYjpJSQv/Fg7qfcsba/TE6IOeReoL9W68ii5QiFvwylr38MELY/2V4tPssauT+0tFs8isu0vzzSJb2v0aI/4iJOOEMLwT/9Bpkel3/IPw6lQaxhksE/75+NjLJCrD+sIIV2E/LNP525XUgczKo/MhLEgIUBwT+CZewkGYzDP9htaHWK0Lo/esjX00wIuj+3Ytm1pFygP4pUcYPtP7A/hoGuKMUruL+O7VzajuSCvwYm5ongRbc/intalYzlvb8PsO+HZevIvyr99zJVyqq/erKn6+50wL9DzE11pZnEv1D0746TJMm/XeQ4NWHQwL9wap0B5IDKvzuuR8ww/Me/E2CRi8o+yb9molzZmg6pP0DYTCDAn72/AsWjJEF4xb9ChOjqe2zHv3y8wGqUlMm/6Afync8+tb8vNq+WAkHQvwV+XCveCsa/mHYTOArgor8qyN8B5XrQvy4yvw1Ljs6/fFfgr0xIoD+aW7aViOzEv8LMTA+J8M2/gLci5An9v7+A33oNXB+pv8KoipCGWqm/1OkUPSMt0b/qXEdnZuLJv5rhi1Zkwce/OpIyWyrauL9xHu9YL2i1vwajwOXTCLa/qXM/s2O+xr/0/iVotiPIv2QvXApCGcm/TC3h73CMxb9fQk+M2kHHvwo+Ku6JPMm/UqJ4gQOl0L+DeW0uSmPFv4pnnEQyd7u/FM+4uPOgzL890AnGp7bGv1CoXhpFDcu/NMLi5qxC0r8GANxm1J+/v4jNGO/7Hr2/oGxWesmq1b/IfCeG++7Hv6ZpPXJKxcG/pNSfVl5YuL8/vXRu+XDQvxiG8G14RMu/htOzvgrxzb/0IMl9xEDJv6yfhPnliMu/KmwSF52X178rFsvCgqbJv+4Z/sOmEc6/JuNGfAtCvz/kEpyNhzuvP868XeGJV5Q/O9IWH3Twsb80FYV4pm6uP/nmazCMN5+/ZjQokKxvxD/6CL6oeii8v3AMsp1a57u/ih9Pym2Lgz9zN1ZeLd+Vv3Uk8Z8dSME/ABkZaeLMsr8y0DKLBamCP76DLP4Gq7G/ahyTMpKXrL9eSWFISPmRP/bzfV6N7rC/4DqChyGbwr94/67THZOvv8W2r6biCcS/J5+kWoOYsr918DsXcxC5vyPMx5NfWbi/OD0lKTeMpz88UA+u14a+v2Dqy0v/c50/9tzH/MDssj9rHnXBRo/GPxJIfCWrTIi/fn2lFbG1u7+xR0+WWPayv8ITfzzrqse/+gzh4ruXyb+eLsmZ0dvGv2WGUoWJfLO/PsRQ7vpowr+eINw03a7Mv1/tUfYzu8u/Qtb+EDdusr+ampSm+6DDvyilkKtUg7C/3NL1VCczeL+WEvxPmqylvzxdZ5LgvL6/Auoh45Snq79tDETyTLTFv0wH4Rs/tbq/Z08WWaiPxr880RsvJ1vBv4StqfoH28i/HmDF7wmbt78BkZEfq3SRv4BDPTO8isS/enl64J+8s7/UjP7COoGqv2IjOa74A8W/gg2uogTmzb82zR3g9RbAv+RHbuufqcq/r1j3rTIdqj/2u7rG3PTLv1bpAKQDmrC/WtCkxQguu7/lXMSBBWrDv5gBVkZdNqu/KpXVQno4oz8E1NF84G6+v55awvpSl66/1cFLIfyIx78QwzncDGa6v1eewlxgV5a/xoQ41TrMxr8uUSE4bN63vzIFZTqv/8a/AlR5pKbdtb/E5MymJoXCv1B6A6aTXb2/YTrpRndIlr8sI+dBKJLDv0K3lwNlF6K/GUpKES6okr/qQXkFUFWlPz+B0sTiC7O/6q+nskerv79IA8pLV4iVPwcRyFnzSdA/1cZhZNYkwb9O6nlw8y/NvybKxXcb6s2/vUHUfO1HuL+NkNSFRXDTvzXymcpvCMG/qqV9ewqTxr/ycHbrofqjv674J+hiAM+/hrAdGyetyr9nEsmQ2VvRv8VpKf4h5se/Xm0w7U7nxr+9i0X4xkbEvzBqk0ynwce/DsSSgd40zb89QJY7YqXCv+HfQL9MM9C/kfaC3ek40b+DaepL/aXQv9g4IhCDecS/vjE1gUMmy79tNZlvodbUv0frmGnMP9C/9BXCMoKix7+fD34s6/PSv1r3ZowKG7m/cYSlpMy20b+I2JeMwyC+v2dnmIrjItK/ivjtxcRMzL/MIoWY+umov1Z5tqJReMC/KFdi9L+Mu788/Fk4qMLJv9I0AbK7j6e/BCBmt0kxy7/PpuE4gsqav6iOxPZj3su/VA05iantwL/ZoMBT52XSv9ZguybJ0bO/wFcWvpHZxb9xUhlWm7+zv8mM8kZFeMe/kjj9VVQDxb/8J6kZtCR2v7hRVycMO7i/BvHE/CI9sb+G2+W9LtC7v+jwPNCsc8C/qFjCOVS4qb+urXuMVyy2v2ibvtJ12aK/5FCEcc/ltL8cNsErCGG/v1ytj0RsTru/V0jhVbX7kr86zSSehge/v8XJmPqpvLS/VLJPOardw7+A2QjM75rEv0YHOpfflqG/kG+cqNpLzr/EJAc1CWDKv1fYWQRXYMO/AosiA2YKxb9MAR2ijQnUv8ROsGKSzdK/g35W1b/VyL+ut0vXkQ/Kv1fLxScJecS/SrbS0pGOzr9l/CcTd2ucv96eELjVBMS/51o0oRLyyr/GxFSgTFO5v60uvO7tHtO/4mleYZJTzr9G9JSDKUfNv5D18oCw9sm/WoGtFcZGzr94e5z2MUjSv4Sn0Puqjs6/+MKX34QOz7/WsJpAxcjCv7usKY0qMNe/Y6s+GA2rwb8tUCFMo0rGvzLfm3z7lMa/xIuKQjk3kD/RugYPm2fEv/4v5yo1ebW/eG3qR7+nvL8YaMzs3Zuyv1mD8V0PVNO/gEsK+w0wv79nMu+T2J3Iv9wdoca2CK6/D4iiNok60L8KJj3eqVfDvzxsOviezrC/huFYrfRJvb9I+8RV4X6lv5INBHpSQ8S/4uP2e5iFwb97uY8gLvTTv6yrytzBKMK/Lsu27Rhjwr8ghRQ57AS3v6xwjBZf/ri/JLIuJgfKu79aFTuskwC+vw/PDl/flci/XLs6O7MatL+o0dNB6ri6v2FdnmTNrcC/NE69Umunub/myzu3ui+yv9zCX8mZQLK/Fv+kNOiYq79tAVEQDm+wv3crOIxyg5A/uBD28tdNwL9ipia3yMS0v+BuVDUqB72/Pn/basdhsL8tgarIeru2v3iwyKa5ybe/rljgwsZmsr8AaEtJCDVJv2+Z4DuoX7K/usIpT5L0wL+hx8CIaZ+yv9AO+NnlB7a/RF5kqIjwvr8CqPu7Rgujv8hZx1J67a6//zGqlMBOmb/GbaYjgbijv4VG3sWHNce/LekInAHpsr9IzNznLZ7Cv4yKorEvNMW/RbYK0NmRkb/E6+0VxoTNv+zTRNKU88K/turUB26gzr8EqXmaf7pzv+JiE+A+h82/AMle3ugor78wJyztB7HAvxIHD7j3CMi/bHLN+Rg8x79kuj1T3LvGvxbnGpljbI2/YlbbA8evwb+b6z0RQP24v3ar2kLKB7K/4DNgOxDKy7+gxs4IhAvPv57UXTJ43aG/dVQHvLwFlL+Rt+1TWTeUvxIpL7fj3Mu/+gLMBof2z7+e0TUiH6aBPzbBtU7jt8W/h8M9c9aflr+qBkpQ3lSIv3I1IZECssy/wDreterKwL8kVBv2orHFv3QuuXGgdca/eH0u1oECvL96rzighb3Jv65fEbtPtKq/wJJeh86Wwb/hplkonXrIvww4bfXs4rm/cuY8AznFv7+q7MfuveWmv6S0o2+Z0LS/wCcNpcIHij9GTdTwnbfJv+qG+gEVxMa/r513Y6kcwL/sZx3F7YOwv/1ZDHJ7MsW/tSsPiV7EtT+8/Db1gQuivyAOZ6fofam/biv42j/5hr+k7B8mW5K5v2RtogUg07y/6KB6sn72xr+0H23Quyu2P1S4fIiwUby/8AzUdyAzzL9CK/OPthTEv4U1PEwE4rG/Il7synUsvr9xL1Yojvy4v5RJk1Cx9Yc/uPxcJCX+wr92w+AWBtuvv8Ria98RJMe/etKVr2Ablz/ep+quA5jGv0AmC09rx8a/bNBwj39to79NV59+IC20v9IcV/SZXcC/O1h3an+RlL+eK9i+oCa7v6sFk9T4C5C/NpbcM/PyoT/quTQoXaa5vzbmoFLxbcK/suuSNm2njr9zV4oF2C+Xv5qM9LjQSsG/EFCy91Wpr7/OCes9O1mgv0QB+o1+b8A/+Azb+Jp5x79GWnHtnvnGv1Hw/zPkh8S/oYvYymM4yr/gNh9hHvHBv+4DxDy1pqk/3sS6xeQPqb8Qa5AlHCejv3dQUzeBuag/hkdsvxKEtz+Af/I7JSCeP5TN6pvz3nY/RgntSnWdhz/cRUmA/iKyv5Agim18jrw/oO6UM67qQD/j00bLXJO4P3Tt+F2U+3I/Hl5Bl9yqqj8R+j9jJcOyP+5yoZjWuqi/7IGYn+HQqz+MunTaoFOwPygUCtaXgaE/H34qkfGxsL+e1wXgZjCKP3QFhtE7paq/aglZzqqvp78OCfvhI26nP0Z5sB8GDJI/FnjQSk0+sz/Si82asmO/vygWoe0xnLm/aInDhnwToL8KLdpcKzO/v1yWoWlntLy/PqVKZ94OwL9sRl50TI/Gvw9y5/ktg4c/ako3ZAnfuL/2T/D9aRSoP7AhRFqx57A/AGhDOC9gwr+evE8PQRWyv9QLxXTdR7q/+geRHPTXxb9wIIx5t924v+28+O8fare/p+FKOwbTnj9Je5Id/Y22vzY6buR9Zao/shYSBgC5vL8KqVCTgXatP7Mid2lQ0pi/7Ks6zG8Enj/ym7y4hMqsP7J+k7Nm07u/YJq7hctzxL8bXH4Bxxe1vzRVzSayqqS//KdfxcY4sT8Mn13C2HSwPy2gc/T1mrO/ktoFxk34p7/SJBL9xuabP9pjPx04cci/boPJygV+rL8ImhipvOG/v5iMRSwbn7e/u7JNY5PTsL/RxEni6kSSv03IavwWYLe/qal/+yW4sr+WuhWQ0Ra1v2AmCYv22Ma/NHepNTPJvb+6Hh5a1GfFv6BRk8uC5bm/eDzUzCEot79S7z+j8XG7v/sO4Vj2ksS/Jgm4yRmyt7/u5GOCx4jBv0H6y9A1RMW/ULbxv4vStr+0kbWcbDTAv9q52tej+7u/SFcIa0Uuw79qcTtFLHy2v+kFJobxeLa/Plw0GNOptr8MVGpHB2DAvzD06d3bhLW/OatGhUrElL/B6LS/i4icv+zQX8cF87a/rOpcf3nOtr9WyqLJvguhv1SyBJ89Cqi/qgON3XFZnj9YhpO8fGC0vzgm9Qq/q8i/K763k+mPuL9BsOvtRjC1v/ovCG1PGL6/mDLC2c5ds78yNx9V1cWzv7oThtYmGqI/VCyl7dSSlD+bNl/J3lyav/unNVAO5pM/OnDdqk8hqr8csj67eirGv5ISjTUK+YS/gAVUAZnepz+0osG1PLisv3IH96VDe4A/EzHChMJlwr/1I1tIcLyZv4jybf8Ll6q/IPEteGM5w79yHIEYO4vOv5Eu9WsvoMy/ElnusGv2x7/fjTwNqDPQv2BmjSCRL9K/J8Nju2NItr+K7XU9t4K2v52xJaEiG8e/ObmRtdTe1790ZJShpka+v/Vi7MICVNC/CrTAsYxexb8GTqUNuVXKv4XiYWESrZe/+ne/pjp/vL/yiqQG58S8vyCOBJxaW6O/SngEAvANt7/gy6ZbmATHv2coHqeCIMS/4ZTXOvvz0L8OpRQEULPJv7Pg5NNDe5a/dv6vdBTCh78Hy1x1eJjQv+1fhG+hfcO/NkLYnGvKx7+UQyHkeGO6vwpwuGOOe72/MGZ0ITaMw7+lGNk24svQv9x0QuGIPL+/dQM8qgrj0L+8he6Ymc3Bv5SFX8BrUKi/FCtIh6WZwL+EAF8kpArIv8vDRRWB8dC/z9n/FK//wr8GH+m9mzHMv/QaNYV7aoQ/zuUf0V9WxL82PFN2adO4v47uGYELSs2/1G/DgMfOxb/AepTmtGHAvyBXdytY98y/vKBUJ8hnz7/dGC3gw2fQv8eYEUTPmZi/heTABW+T0b/I1kaYCuzNv/uU3b0YOdm/9FDhZFLXwr9C/vTSd4DUv/pxs2Osrsm/aee9zTKgwL9XJeylZRrFP7TShJa0S8q/XpObIVjhzL9U8jwquip1P071TpzFi88/mcBR1UKQoz9QMzj1vZtRP549XZFiE7w/KvKAtwR9kT975wyNUsmyP9JMOzVpaoQ/M6CpMiL0uT+cJobmB7W0P8rDks3btb0/xJnbNLQmpD8OalTwqTGpP/D8S2pdaqA/bcLzPfr8sz/5fCRy0we4PyXc0a1Ul7Y/QK29CP1sOD+MYwtRSyO5P/CJGMHoKnI/KkXjm+8gsj9Y1u/yNrSsP46+9jF7/MM/aCFVQj3joT9uH2oLusCKvz379K59DJM/kLU5P0kiar8cq4l8R5+/P+z9RDX7zbK/IZvIHekssz+SWZZr/1zCvw6BLr0HCci/DuIHuOgmv78aRzlqBGHKv5oEkIOHtMC/20KOXG2Bmb8AbaQWvuXEv2PJT2jHRMK/wgyeUZp3iL8aa4T1WybOv2ykH9sL3b+/HBbG792dtb8aFg0/UbPIv5Qlk1jD+6S/kTDxmH23tb/ye+xFoF7Av1oXHeq1Ese/cCXfVBktij9Eye5ndpO6v/Kg5sd4VsG/tFBNh/09pb90E1YH6eWsv7N+fdHC17a/6vUr9iF2o79KCSDHUUi0v+R+wDyWqbm/Im7q9SIwxr95HdzsPjvRvxTye46rmsS/+j8cTlpex7/LMBovZg22v6RtMyIkSMG/TNnhTHTNub/+o5LR/lu5v4jKa4NBscW/mwd13PEJ0b+Qfm3q30HIv0SnjxKOxc2/EE1UCYdpv78IMaoskFLHv86GHgttF8u/NLNY46A2yL9y6nM17s/Fv6TvrFQuJKS/kCPXlW/Fxb94E0FV4ALAv1r84P6C+Mm/OWKqF0YtwL9ykjQiVLzLv057sekrWa2/rBPBfSLxtL8JuabobpDBv09LKB2LcLK/mWJ89NeA0r9ulKtx5Iu3v3LspL33jrC/Euhi+d/mv79oNrnI6Ci+vwAqfRoWRMC/CufCLisYz7+oXzTucvfEv6Z6e1fvC86/YNN/s6hKuL9SWUdmJZTKvx4qs2Ppese/SyjJfuHQwb/+wyop4pTBv3YHFFJUA8W/LFaq1KuIpL98AP4+kiW/vxjikRAmzry/cvDwC1ltzb+VSFHtY8KgP0pMTxXQr72/OJQ8xqKZs786gDLwSR7Lv14DBavQh8O/SSrfmshhw7930bqp4K2Zv+610BSEPLa/7DT2IYYPy78mPQ11BlbHv4JXgAgWP8a/GLgyLsd7u7/D/aIpEh/Av+S7epchRH+/wyhdKvSus7/CcwCSYo7LvwlY3o5mhNK/zziZVaJUxr+cLju0h1THv6EAn4n3ttG/KZk9YZQF0r8pwYaiDPrHvxWP1tELXtG/3u28O0kPz7+EBoImpeG9v3CIQLXpBMS/jLM6iTO0xb86/iDGLvTPv/wW5hP1k8u/9MvXebx3v7/qZz9OrmnMv08SARxyaca/rP00aWJQxr/pwHdW3gDRv5z5cR/QPMi/tYEVpURC0L9HZg6FxE3Dv2POU1GpjsO/zrR7m8+A07+u9OoGGg2xv6lM+OWZXdC/Vd81Hj8i0L9tYfRP83XLv24zQnNym8y/usl6M9kAxb9kjosxVkezv8IBZLdfQ8a/15ShxW1dyb91OT8QFHfFvw9I0CIG3su/fpYLequsy7/EQoXFehrHv8Jf6AziMIe/Nm3bh0rrzb/sexOELfN7v8yYP/XiF72/ZYnk0dC2w7+HDF7PCszGv7jrP7SEEcS/hMvYx6jTzb8CwzNR5m7Jv0CEZNSnuMK/Rl5bRJn+wr9elqikZe7Lv9q4R5pNnsS/jFp1hLSKwb91HhtfZhOtP3QA9kE5S7q/TFw91Gb0wL941qwQX/nFv+DtVCDgIs6/7S5Y/dBpmb/GT04gXXnAvxy5FQtAmMC/aldKHxvnxb9iM2sQxnSKv4F6X0XdHsQ/hhqFwNbEsD8dpxPLxHC7P/T1i/qTAcY/FQUuh8So0D8qrdMFSLqsP05YvKlDRrE/sgjfNlWCob+A3MyXiF7CPyjtmuEP7q6/smaHK6L9wj9TutUbLZzBP1A5cjGmSc0/xURf3kI2wT8+ge6nuuPBPxTFFKxSRr0/RUsjDOGUuT8wKCARRXGUPxI3E1J/P4m/tmI29AsWjT9ykarS/ojEP4AN0Za2vs0/uclzZcn6oz81jYtUbwTSP7wGhxE/udA/QNtjTLpczj9KkPsoXtW6P0wJDnIIuKW/S2DGn0Kj0T+FiYCaNPqzP9fPWhB2fqw/nA9llidcxz+M5dfVd8qlP4ww5q5jWIk/Qq7v0nUwqj8QwbzJA/myP0gFgRP3KLQ/gVFjqdhioz8WsWizGPuNv5nueZ4jl5W/Z4h70zgQnT+vVjJbUlfCP0oAuxoFRbc/oipVMsLWvj+2fs2Xon+jP4flZofycbs/XEcDV/Vgvz+YEozYVnDHP3cYLwTplb0/8rf8ZF8ivD+6yrjzuFW1P7RytMp88sA/HDa+0dmfsz/BQjKkc8zBP4OatIsefqI/9hVwRCk1sj/ShTKsUP68vy5bSIO2HKg/+Y7ZpiTJxT8kIkhEs1R3vyj9RPiUi7k/FL7hwpHdtL80JJJ9ahy+vyrTKWSd0Z0/1V2CThutkj/Q5NCShMRQP5iDVFl23Go/dsaQJ9z0tD/KuoAfI0S0vxK7205DfKM/LppBkbXBu792VRHW64eHP5I7ZjMML7q/2VZnokGjlr/Ghc5U9gekv9hU3qR7H2U/ir1uLFxZor8S2qpVSpSKv37EE8NvBcO/OygfZxsLtr+ZPvKOe2DHP8gRU3qwWMC/r/dMlKZspz+czbShm1mpv3GV0tm7cpG/0c17V8e7sb+2k+eaciKMv+DcK3S0fa6/WHsUg4Exwr/Ad5UREjuvPxZakNPphbk/N2PuG8+XoD+cLozxXgGnP5/3rK3ujaA/aji/coxMxj8m3SoXrF2vv1Nc3ekryZk/RjL+uku3lD+SglaQljyjPznixjPHi5S/0Gi4x8E3ar+KX0HLMRW0v+XD6hhAiZC/bKJGK0kBrz+4TVgUXut6P2YZaWNAJqQ/T+opM7T+mL+IdBGx9IWlv7meteP27qs/vHBIfRW9fD+optbw2wuov8IcdG51goy/xE2UytInpb/avMuSLW6Cv0icRxj5RL0/2XdZfyITnL8Q8nmvyN3HP0PIj4pTJ74/enCZBz2htz9k2nz9qj3Gv4TFXKNwtqG/noEuH/bIuL+TcKiV77rBvzCYNqk7a1e/UmI4Nod/tb8AGRhXQcO1v3rOGvY03a2/Yn5TPGDbt7/VP/MSKw+WP9gpB5Q1LKm/8mccGbkjo7/p7Q2TE5OXv4qSwkBrXq6/vINCV/4nuL/osxBB3AzHvzROJLEYvMA/XOY1nq5weD8KfmC+Cragv21KReuDUsu/Ul0KCLBiub9GNeYixy2ov37Au0S4Ura/3Gm5T5Bgwr9qcakZJw23v/TsPInYhLy/vGykmReysL/o/q7sUCWgv/ZcF+1OGai/1VCAgItsyb/Ax9I1NBJJv9HPc664JcI/cBG69KpSo7/+ziwEoQ2Hv74m6EPvrMO/CFjofb1Rrr+G+yRNM+yzv1pfholICqg/ufLIvdjgjT9szIjDeC+3P3iW3DM5OKo/w7ZH55tCwz8kGU7QH7xyvx3C0+HkAbc/h7w1wGszwD82opgEqwGhv5wZnHPKL6s/Fp/LJ0mTuD9SH0fy6LG7v6BhXQzialK/uMO1eB0+Yr+NDfN1wd+6P7VZTO9fYbY/cj+RE41Fpj/r1cyQO0qzP0TWmVl8U7s/I41oLmASwT9JNnpiMLyfvzzSAYY4VnS/WJjVHvdhwT80Nk6gMDanvyw6kAHvHb+/DERkQycxrr+ONPgimHOxvy5UDzYwv6a/0lySC2NNur/gRySICADBv16end7LYsK/aM3ZMVlmrb8AshscSFF6P4JBijX0l7S/DLMee85Eer+1Nd0bM2q2vxecxzMFipW/XY99a9sjoT9YQB/Pdy7Dvx1ByBmWgZO/2HUIa64yx7+4tXqa0jWlv5hwCILmp7y/ijtSxp1UhL+jP+NVZFrMP/TkDMie1b2/BFzqpxhar79KRIh8cN/Ev73Ty/1wQ5C/ejA5aNMgw79m1BB3AJ+Lv/Rz6JcjsbS/IhNjC2zkwb/YlTp/JN1nP0BeeSqU6ci/kgu7+pwLvL/qrOABqFrBv2BdIx/Igca/3JF1E3misr80MqfG4IfKv8IqX5BGLMm/EMh+WqmPoD8b/C/iLT+yv2XvVmQBwca/FEEbu0c+uL9wbPAsdUW/v/Kzknn0ca6/NVkKEQwOtr8Qxcc0gIlav6AuzJR3sWe//nSIaDuguL82sReLa2a1v3GBMZ19zcG/JDujvroptr/yPnzu8UbJv34cSC0s14U/trgxyXLYw79wpsUQHUerv96JGiXvWcS/GCOH8iVvsL8EGS3eiBy7vw66rmYeAqm/Xd4lpQKNsD/CK+LLFJvKv1RL3Kc2s8i/OKDl+I0Ww7862GVajyPGvyFRppRZ8ci/eMH29ltix78o+0XPsw/Rv5K34HsYHMq/3Za62NyM179EBveJhdG9v0L3rU0hZMm/UK0cZeejxr96XpQ9cDvHv8ozDuHbkce/UvlTH1ebw7/tOku7AOWav0Z2QdiqX82/sLZfsnXbs78fF24ZyS/Rv1XYDo3qJdO/GkdkR9ENyL+vvNSVsCbSv6PyUJL/h8q/dAtG1zSfuL+GV9H6LdrEv/rWeVj89s2/dD37Hbl9yL8qVwUYXVTGv2AkHsd3fsW/cTyO2AlDw78uz8WhqruoP4qZXXhdq74/FjR/GfGFrb8+XXpBMyyOvwzr16UJfK8//oH3mXJ+vz94FbPfDKetv0g6yCkoInw/Z6ALSyCVs7/iJPjZbQmtvxQrHEwbp8O/yx9WddE+sT8f3JDWXuqiP9E55qP09bk/mGafqHUZyL8ipjXwqC+2Px+cluee+bA/gu3Z94W7uj+YLmZMd7KWP966tdtvq7I/WSSeoD7Vwz/0Lt2hnzOjP143V+ugXaI/8G+sYxFenD+2euzN6CW1vwqTf58lN8G/mhLbOrAFrz8U8jlJJeu+vz6QkyobS8M/fKumWHWqs78eCTJj9EWwv+T3ByQSaca/AQt7crosnb8KQsN87uTBv3B9hz8bWru/ZlLVP8p7yb9M+/GeldK6v4FqPjF3H7C/Pk+lNSHDur8quAPPxDrDvyQ3wkkbN8O/CoJVPqYywr8MSDA0bsSvv9gx8rRBBrO/FltOrsFitL+MbgbGyzK+vwTONFrLJc2/Cqwc1l5GuL+8a7EAbBTLv7S7EYjr1ru/4om/vpubsb8l5sP7nErLv/ijUoqvCLG/5TuEVQr0wb+TYjbMSWbRv0cvn30cQdC/0ioDrKHyzL+Shwh6M9Guv2nErZigBcy/OnS158p+q7/9C8YZMrnBP16FRRzeLpk/hrx6W64AxD/AnNaRRIzCPwm4UW98dr8/IzQrJGm3wD9iVUZxTjXQPzl6ZuXovro/GqhFWa0Ztz+CEi1W8wPLP95gWcVwyKc/uK9iNtYgxj+c9H5Z8qGhPy2NK1HNocM/DGNEdl7dxz+ehB4+RNO7PxarOeFzp8Y/JL2nW9pPzj/4ms4L2ybBP2xIkXRRDcg/wxXNK32itz/k0z+nUIWpP2h0+8kI8bw/rvUlTI180D+YTZerGGfNP18Xi1H9HMA/aEVyFf/NwD+UPZP70lzFPyK1KQRrAco/oKmrY42Iwz/O/yRKlqDPP5LY9/lUx74/fuI0A4wduT866TbRUF/RP+ooaMQtUcg/gLVmRynExD+gvkXnDkuWP5Aj66Dd1sI/9jnhD5DjxD+dpeAbkIPCP8q7W2KCs78/QqszGn/Ltz9ev8s08hrLPxVaUp3z/sE/amIrYWoMzz/X8sLEgs2zP7FTJQ1v9cE/erqITHU6zT+PkicLDfLPP5PhLNZZBtM/WmWNCHSysT+7+Vo7d+DCPxaikE14Nsw/sg+LWvPzzD9soRAmhznAPzs1WWiPF56/p1sj6bMLxD/tuiXwJiK9P8EYnWrwRcE/xEZP2KAnxT+4tR7Z5ZG6v2zyVAmImby/pGUOCPM3wL+uiJ+P813Bv1cZ1cA7RbK/umWleAHxuL8Sylceppy4v2DbXg63t62/OpNUrpYRiT+E7tco1Na/v7wpPWPnH6W/9J4U0cPiur9c00wXzJOkvwS+blIZxb6/GmO/oKxet78XHe1PRQDAv2J3pebJWLG/YH446JWOQb9P+oaI/XCZP5L7w1ge3Ka/WHHXFcDYv78+OlFepW24v/729oDC44k/0sIcliNFgb92JXpJj4C4v2w7vdzZV4E/bq9AKYFKsD9oGRFwsGDJv/RCcdFoK7S/dAODGd+vr7/kRiLI1F+OPzz6TXud27K/Ji74oGhvoj/8Up8t07y1v6zu2TDhrL6/jYluRfLUsL9t1zzzkoHLvwO4FiQqcbE/J/il1bPlkD+nmP5V4kuxP7aw8Rpnvak/4XyAZj2cwT9PFV6W3OC1P8S8/NsGH6y/q9kB/yzIsD9g9VQyw35nv2Uu8MGp0ZC/Yob7dvtSoL/dR1QLFSO4v0f86PppG5G/HFyiRe0AvL8a5YMBcrSTPxAmYPv0AbG/dI8A+wl1qL80jFA3AeKwv/8KVvlFrKs/Vaz5CSxswr8ghGvebve9P+Gzqj1/uoY/GcI2tVgysj/dyCMuvYbUv55/RxiBA7e/Ek0zl28Uwr/TX5Q3hsbTv1e/gf3qIte//MyRjBNmv794Mmk2szDKv9GFzqXB5dG/AuJRnj0kqL+zQWfffkTSvx2I5y+xBNe/6yqoJ+9D0b9TurG8+3DTvwDy4ziDgM+/fUVVCsIGs78idz134X61v/yLYY2zM8a/FYerRqjL0r/Y4HUqUKO9vw5Pvo2ws7q/tMGo0BJgzb8nbsfHeO3Gv7B/WJc0xsS/X5SNYRPgxL+AF6fwCfi/v9q40zr7x8+/uO12aaqvvb/JwUi35F/Qv3+OA5+8utC/LmCWm6gKxL+MxcZc33S8P5j1kvjrLa0/yEaUyA00wj9ByySjwnKmP1oWkVUahoe/2DWP8E8GpT+PJdSNCsuSP6SiqOOlb74/bmaFCDgRvj/387C/Bf3JP5RiRmQfysg/Jk0+h/Bwvz/agajIS2K7P9Y0Y0Yufq4/YhgzI71xvD8UiJUIKf/PP0TJ6xr09L8/Nk0Z5AstuD+0uJUDh7K/P2zsREI2GMM/f94GP6dHwT+9YpvzrJHDPw0zmQ3zGcE/Wp1xy+LkxT8weUpl2+u0P0zFvl6T9sY/ig0J7jT3xD9lko0TVMHAP0jel/GZeL4/QhM8JVBdqD8xmi4MXEXFP9CdaQIPqcE/BpdcYZ3ftT+2Pv35tKXMP8u9tMpRR7o/gInA9YH9wD9d7rQG3GGxPxLuxlGZCq4/BrmVobG4qD9O//2NWSHHP6pOEwn/3MA/RqxZjr5Fxz9yLW7ng8DFP7eRCHydlbM/jhqr9kgKzz/8Bv0vy0iiP/azi58FoME/8KFsebZRWT+I4DSYoqLFP2vP2FCS1r4/rC44gBmYyD874qqX0pa8PzCEa6t9j8c/hp9HEULmwT9mSUe5HjqyP5m+B9jAkqc/a4I4P42Quz+tBVCfi4C5P4C8FsJ1JsM/qdwqn07SxD/brI8hhyqzP7yAPLahirw/E51nsWIcuT/boCq6UijEP/6LPqmG3cI/kXpZd+/enj+PKb5aQjy7P3V0iKAKTbY/kp/91LbFxz8Eu0LUiDvDP9uDy/12crA/uAlJpExGqD8doqxq7KTCP3hmoL+Ywcs/+/+grsirtD8xWxoZA6LCP3GEcQlZdMI/J0lbTnFHvz+5mrrNVZm5P4nYTXwzGJo/u9nkGfMCxj/cDVRdoCm/PyU+g4GUZcE/JjiTKoqVyD83ItXeZXPEP2rsbSnnWaQ/wEsSsUAttD/PcDes51nEP8ppexbRHMQ/QX4PydaIuz/CGoPk44y+P+K2dvBra8A/bCggsAbvwD+UNrf8jBLGPzrIGi37kb0/s8X+2hkruD8J4FgAMunBP5CHhDIKlbk/1rnT7+TQqD9mAZrMDBSoP3hJxdAGwII/ktKLYyGkqT+DhYQctG6xP5g40q+BPLI//XPWi7AXuz8MvhZDjG+/PwALRlo1dMM/RzDFQpZytT/RUjPWPR+SP7wlhO2WxMA/vvWEq4AbtD+aF/PuU6Wmv8ROTRJRhsQ/6DS/LgiDuj/9tmBYPbS2P04vy0oxobI/WoUiJyzOwD8fu3XQIxCyP1Onlhym6b0/CLgteqb4sT98mjQ0yvvKv0CY12gUUsW/Jlrp2QeRz78HybhoTOfLv16sOAPcMb6/EGoQ/U2Lrz8AprISvV6sv7qy0DAPI8K//FQO2TXwrb+66ZWMng6GPxR1AOWAHa+/IVLwHe0ayb98IsVq2m64v1dgldQUSMa/TIxMaz5Jxb8G5PtMAjuhv1H9sExkA9K/yt9XErFcgb+a1iUhkGW8v/gDHvyf+Mm/7AEGdkIJxL8e8xgv1KfLv2cgy7xjEMu/MVQAUTjhwb9+pgGvkrO+vyi3JZBi6bG/qgULs0SGy7/giRk/gYG/v+6/f5U+zMy/yHqiQXkIxr/SJoPPconBv3orYLoXp7O/dPgtMeGQvz8ITLgJ/wHBv1DDxEqGpLe//oFyfCGdvb/g3EJE3L61v8E1Ry2lg5G/7p5EfD2Pg78kx42HLJGvv/IdJ9teMKO/SAc9ey5E0L9JPf2h5iDCvypTsGmAw8e/8Qhv01PJwb/Z5AP9/2/Cv+CqvlXCyKi/8kP0MqoFxr/K4mZwDO+6v151RLqUC6K/JPthuroux7/8Yl9Rbmu4vxhFNAkQ58W/MOSvzrp3vL/usaBVZlm/v9y/kBqIqLi/5gsIdtePsL8EXfmoPpmxv7bwYC3ZD8+/gln4LguDxb8e6kPO/rC3P5WSGbLVk8U/16Ow/1eVnL8+uXct44WzvwAJDyq76yo/DXYpCXCLsj/ySehVJPymP6gXLf/tyaK/zgeqIPvxoD+QIvPiSWWpv6Yzv3lxpbk/mpVnJ+lLxz9spSWGR8e8v6TP0wYamrk/7IGYG8Lawz9Ro6pxG57CPwC7AVR1ha6/DQ0WkwKBmb/pTAra+lq0P2sO5Iz1IcM/FbcZCxDExD+vT/QUpJS9P6sO4z3YbKI/K0FUAEERvz8IHmUa7demvxydgWo1bqW/sEZODa5LpT82t8734j+sP66hae51v7k/XEPqPVxcrz/0KazmGFHBv/SxymJMxby/NIsH8ZlmxL88zx5zmpq6v1DrA+urPb+/8jQqWjxey78wgybryFTJv7Cio82O+a+/TBRtHP7Qdz8g6wGZIPnNv9g1nTQ57se/NNgEJ7gfx7/6DSdYvebIvwoS0r/nMMG/rvQMiqHOrr941KvI6HfCvwAB2MXu1sq/xiQ+xr2cwr9slCruAXK5v0Jb612ORce/0yjZUSqZwr/ecl7tOb3Lv/juI3N3BMC/6JoX8U9JxL/WYKClMe7Cv/KMerIimse/bpbPBvY0vL+kNwydX8nFv74d/a4kGcS/8rdoQfAayb92QXueGeq1PzY48JBvJ7I/QW+KHx4JlL/pO5Huqp3LP8F6FhukCJi/2mvqhtGWuL88+xyQD4t+v4A2FacBDqY/0F9bBplZlz/K/jkeQbyrv+lfhhvhEbK/HyKVea9stT/gBXzwPGRgvykxRzxpZrM/KGNFYAuGvj9yHkfca1OIvx7FZ55E5ak/msiTuoLbgL9ousA7Ythzv1s6M/j5BrM/iT25cVfaoD+eMEw4+hGgv5UCXKArRJe/aJIwLPJzoz+Y7kiXzUNovwDj4ZsIdrO/ZSDh/SNIoT/6OqO9uL6gP9S3FcD7rrQ/14vDHF2XwT8s6wRdvM26P76KnZZV8qU/SkdKuM79wD8jL9V23iHJP+x4mJHj7MQ/Y54jzQtNwj/UojwMt6HEP6eneIV117w/csg8lQx2yD86LHijCX/HPw7iHbBcDsg/TBz7rD6FvT85UzbDwJLEP10zhxIV+6I/escKMVztwz9xgb75IaHDP9ZvKLf8Drw/3pgidTwAvj/QMH64IGvHP74foyobJcg/j3d+eWlQwj/B8wnlneSRPwUlCYLKgL4/RHYb0aO7xD99yK5CouCwPwxNlzliasA/dcTe9b+6xj+2GkyiXO+mP+5t6SCfirs/qJ6Vxd9pvj+mO3dcg/e+P4hsCiK4a8Q/RkNHVhlczz+zL5d1aAzTP9Oy2DsXebw/jTvD8Bh6tD/ozXlDGFPGP2YsoH+e4sA/Xt6HNIRjyz/621UqJobAP8IjFaH4AcY/I1RTeDlLxD9a6AtvvMvHP0q9l9VMO8w/HYeQIT3Mxz/JSPwGapTKP8V7bPwKgsU/PrAR7Ccnuj9VkUK3dPDCPzWaM87rpcM/wh1c1sI6xz/o2XfGkivGP4ZAuMAJv8Q/QKY0PmKpwT8YwXC6ruK/PyOhnnvjwMA/iwU4o0LMwT+0t4yH8wvAP7NwgSbTXNA/SkZU+z5AsD/azXrxobqzP+wPRR9E7qs/6oUUBimtgT80EP5asTW+P8LyboYOrbc/TFri25otwz9hvqmSuWa0P9L9YVF8NZs/GHsJjqPhuD9HY+xMb4izPz9iJARTucA/VJn4BBhAuz+RR/Mj4ka2PwxORGh9+7U/Rfdpk6XfwT+TLt8amYC+P/r1dCRgqa8/sTiPBb62sT+A04D9bmS5P8M5K0mvL6c/Kr8jmKmYxD/dXRmWLGDHPyKZfJt9Pr4/hRyFpvi/pj+j9lqTV5CnPyaNHINZIMA/mNPmymeHwT/ZtaLHBEiyP1NELpE93p0/vP0OGyLExD8C7Ha8+GK0Pw3crMuiFcE/sxRzKrt+sj/nmzjPa6TPP9zBjq+kj8Y/AH7MsJWjwj+zfceheqrGP9iPYBRL3bU/+DvVmMWwuj8U/5FdgcrCPxq9J3dJ5Lo/gBrBqrqNqD8B3u9yfbK7PxC9CDYLicA/oTJKAG0Awj+I25KQgdKtP9Q8oCZSh7s/WWVlEdiWwT8emOcrX0PBP73PycjnEMM/te3yO1EFxj+9OBGuUg+xP07yMAYOZsk/4e/tievCtj9EitqJ0Wq2P55Wy9fohsM/ZpwJyowLrT8ssjvGnCa+PygkuUMAMM8/a+R4+FyayT/1eQaE6/XDP2lNK6C3y7c/gECiJ3ZOpj+aUG8LIK62P8+iqcXnEsc/WsR54BUKuD+qipyd5EvCP3o3nzFe3LE/BJegiFsLwz9+xE627prAP5kOouSHIbM/g+MXZQZUxj/DXcHf3724P97RqVZuJcQ/uPGf6V4a0j/f75jcFETLP/fqujuWwro/z649A4uSkz+Y+76/zvbDPwSkndiOB7Y/000Xr5CMyT+p7KUsR+DDP7sb4jRLysE/PZbrSniUxj+4mlNOxtvDP6Tp6g9fk6s/LIreLnkcxD/43q0bsZjKP/kVgiFYlrg/6ay5KoQlvD/gJvqUlv69P63tUnf01MY/mt8hb3KFxz/I1nUHgxTJP08K695Njcg/5GqqZdc3wT/wJy02yqjDP/spDMJmqtI//pj9G/hvwD+qE00Hh9K4P86ZqS3ElMk/gSD5oZc/xD8sWkfSQ3HEPymz9LtNBrw/lNTgAsMIyT8Ywb1I5ffDP+AXObcHHbM/irNONnE7vz8/rNdNIzvKP6ZulNzSwMs/kreGI4dLuz8aUNXh8XbDP3m9UT59ILY/s3DGP+fbtT+Pr4vGOgbDP3KgE8XaTsc//DAI6PBOxz9G56J4A4HJP2/GHu0pI70/FJqUb4TBwz9GcG02F+e+P25z1Cu8vcw/DmrJfP7Vyz+O0WuUOpLIP5AJ6ZtWF8A/Uxc0HQsPxT8DyS227kTCP7rKJHXs+ME/2AckAph8xz+OpXoNNgrGPxLPB+OKhMQ/ZpZC6w+Yxz/FvvbY8+u1Pz+tjLtjmco/Ki+M+ZY0uz+HMeeObQK7P2JW8BJLjcQ/tJ5Bniad0D/qqeGr7/zEPzdBzEcFB8E/qyLo60HjzT+uZ8gZNZS1P4aFqxz4Z6Y/xBOkYI7+xT/I4fyYVcW/P1hpqAPMaWK/pxpbikYbkb/rl7uKzNqpP5NIKWiBUr4/vDS4TSYrvz8uWt2HmvTEP6ZUdtTfYsU/zzivwZtswj8pTMwxx5K+P2IIommZz8E/GQjHQT8rwj8pKP/xu7q+PwswFzftYL8/KpWqJGDkyT9F82vLHhDDP0lMCFNPtbc/waaCF276wD8SZ1A6663KPzUo6aBqTMM/BuOWir67wj/+tjbvTIa2Px6AIh2mGLI/drBwydlroj+z5yYTc46hP/Zg+vpLV6k/sAHdCIYxuj8wIhDxd1LHPx4rVYa/Mb0/zUrJPjPCvz9EBgCQke3CPz6pO+N+Vak/JAA3S6DGx79uoWZVxsy+v+IvAJlXjMS/noRzY1jQwr/CJ1PCIFW6v4yq8cvDxsa/gfMc/VcqwL+w7H9D+t7Hv89HcQEnedG/sK0MDlzHur/pZSKMKMO1v4xT46jgr8K/9v3Ug+DGpr9rrzo14RbRv8hYSCHmgce/3logSXhjy79GkSoR1/7Mv1DbE7scdbu/ntgK7UOCxb8Xm17eSLXHv7NFzr4IUNO/gymlSpmFxL8mALdshsDGv3TAQBGo+72/BPNWz93swb9bwqzURTPHv4YrfjWqDbu/nVcBhDa0sb9Xjg4xLh7Qv+0+GCP+XdG/BRYUmFiXyb/89YaZc+HHv+2XveY7cbe/hAsht7lAwb9j7ZcKVMbDv37lNJHWMcW/dEcARp2qwb+XaSOZ/dPKvzinRhC+ONK/CnnREFGwxL+eudt2bB3Av6wDvqAEpMW/jaJ0EPLrxb9OZhIdhfbLvxy/u5CvWMy/u3w65a4ktr9ynIysrfy7vzbERTxeWcS/zJioRoDhwb/eyJWFPm7Hv6BeA1yG48e/rmc4pTZLzr+l2P4TQ5nIv5bbxfupfs2/Es1y9g4uub9yTFsMd7C+v8YmJ0JKpse/XLCoKl7Lxb9RVuofQfHRvwjm2OG99MO/4Ip2cglhwb8kghcYv1PIvzHHZc+Dqra/B8L5NIMowr9CUMAsrmm9v6BldAe2rcG/iMI97Dadq7/6yq1J/V/Mv2qVuIe3ucy/FoC2znuBz7/Tjei7NWqcv4RTC8iPb8m/mNnGGlQ/w79kJ88e6Ky6v1DDcllb0q+/FkmU2kj2tr+S/VsVODC2vzE/6hQ+L8C/id2ADS3Isb9x04Jub9W3v+4squ7I+cy/SoY4zOULuL/ttujD5nDBv6TsV6dkLcq/Ad9/ugOxxL9j64cYspbBvyTtTnTH07m/vHs/ZTlgx78OHVEJfF3Dv1pE4Y40U8S/v2C9dENk0r+xrXGie5nVvzTPRrXPzse/5UA6dk9n0r/HCOLs02zVv8Rrq3gOldO/70Z2yR7A0b8pTctwTlbVv7WFLqkaONe/s8Xinih81r8C0KnL6XvUv3iSkUqzR8i/JIrpDsv6zL8sts2pvuHPv9vuWUoPQNG/bl+N6LQHyb+JZ/g85NfTvxowqH6xJM6/qV47yNh00r/k0mlHAdHKvyVolKULkNK/jiUDjA1B17/sW0XimcfTv2FA3cvtLNO/XJKdw7e4y78FEuVPEu7Qv4OgOvK8BtC/7T9AJoxZ0r+iG01SI2TPv6sQ/fclX9K/Cf5ppAJNkL+sjJm0N7aSP1/IHjNnBZc/8XckNJ/qoD+85mBxJvGwP+nMo5rQ35W/PVlLdo2xyT+ZVlONJUSyP2qvistqFIK/oEPrFw8tmj8MjS31st2qv35Yb2dmtJY/XJgWKkVQob8KoqV47R6yv/cdDHMGrLA/Q/E9mvFJvD8caAMF6GR7P+6Ix8ZYvLW/HOzR6QOUwT88nc5G8rzHP5kp5dswndA/8l8Axk+DxT8EYZ4/PKanP4oSOW5J3ro/jnCDcdxxoT8sT1kP+dy0PwQ+05VcLre/KbT/h7KUnb/e13/ocsm2P1/wPRLXK8A/cp+2HNCLoT/1pk1LvqC0v5Vs46A7HJu/rMXlGy8xwz9auiHaiNKqPziFQNLUPWY/FjGCYo7rvj8Ud3oLKYa5P4IGs+Lyl78/zI2ETq2qpT/aFYx/3bW7P1BZfChwJro/uwNyvlZPsL9g651alom/P+9QvOm175E/yXv5zukhwT9xB48xTU2JP3TLZrjns5M/HrQ+BPcpoL/MC9uZqqOlP9h7i2XV9K6/6EC5Niv3gz8kf6igVJWsv8LDOFiRtrQ/D4Vn0gz8sj+S0eG0hGCrv+Zg8t6HRcc/TJ+0ifMLuT9x4qvC0PrCP7mG6KcMnco/mnzIuCfdsL/4ZnLG/Sq5v0B7YX8A7rO/0jwSMTfwzL+ImdWirJe0v0i5sLaLGsm/Du+U144Eyr/aOqXH4X+3v/y8fxonS6W/fPVidM0at7+7Lm+cq/nLv5QX+Jd88Li/sOIsDUmUzL/MyDCjYFzDv9kk08XcY9S/uq8EZ2pyy789TbP5t5awv1aSI4TNN8O/Egu8wq78z7+yvma4HdzBv8jbLx3Bx8C/hOvy5YQRr7/8FRecPjx4v4JPE1PcM7C/0CNsJnNgzL+Naitl5ybCvzwAErsgMru/3mH7FzBYw79C43I5oOTMv3xWF+KMF4g/5hIZElCv0L8aW6K5pRXOv0UvvsRTQsS/0N8qSwOWwb+C+GkOCiTJvxLLWQCU/cq/diBYFEPNuL9eX5uWp1rAv9A2WZazV76/PAGKkXnyer8+FpF2Cj3Ovw2bz3O8jMW/P5Jy6IQ4zL8KUTxb0/bNv35ASxVP5r+/ekjZ3WfbyL8c9dNkSi7KvxYuVAMTYMG/eFv7knc4xr86Y/bVxpnOv3q7Sjsd/sy/X36tGEec0b/O6A8IrUm/v+5YO4AG4ca/KmweBnZxwL8aRwMxw8a8v/Q0eqT4S8q/tXH3RwI9yb941WHz5+7Iv/hnhAhXu8e/y34fOJo80r9zwpZfJWbHv0Ba+pPpyr+/vIK9wd5iur8s0+1jl3vUv8cpoWOFDdW/G8GSspOM07+DlrFRvoLSv0SjrWk/1sS/gQlv6zBM0b+Ttp6OhtbXv7FJDm2u9NG/4GVmyXU8z7/NfqmW6gnUv5dXarxxPtC/F2v/8Zqn0b+QOQNJd9fPv2GvmEsiPNG/ktnkjKH3z7+vE8tarrqyvxU7iY4iAdW/HlWQwD3byr9Nldo1hQrUv6CUElCaIMC/KRScPJ0N1L8bCPhEJ27QvzGKEOMzEtO/+x6lP8Ph1L+lb0Ska3vRv6eW/Ngcq5s/ij0uAYL7hD86X95Vq+Kxv3OYgpFygbS/LbB0vf3LsT9nq3NP/QyaP6/UslL0eLG/ingipsfpnz/m/vPdRNyAv1c1balyU40/jh5V3yxTrz/CbL76UlexP/ka3wi3z7g/XGIwA95Btb/ovtQjQBinvzhxH85WW2A/BsjitM2Rir9U7XgW1aWgv9Sm0ybNcLm/LL+VCB2yvj9GRwpfY9iBv3Duq+pPob2/XhYtJB3myD9S0g/mUneuP+YVirWap7K/NaUpvCWnwT+JWS+UlSLBP54HtUerVro/cxwKHkYSl7/6TGeWhTO3v7FTyBHGIcG/ornDfKynsb/8/8d10cm3v9+XOJve5cG/mnFS7Nejvb/LYqEpXDnMv6tAcn+YksO/aBnmaGUUuL+Be2VK44iYv+ytF1UXZsC/+KuulM2Qvb+oEM/OcHa+vzSpVxIa5ce/+KqWBGMCx79EGxWnK/nGv6Z5FtgBnMa/9EUttH3ozr/UjXmvava6v/v7qQbdc8S/3pBZ85jixr9Wf3xucUXFv/5WJOzuQrS/HKxv3KFdxr+4CXx1cTTIvwyiG76mGsu/WgsCQWZTz7/OY7BRgLbPv4zcUqMp77i/M+WMX1MExL/Q+/pGl+jFv3sznbSt/LC/0MtPPF5kv79kZIxUapPCvy3ovW04hdC/HI/46a8TwL8mal2Wx4iovwEkyO44cJW/ELo5t6tcu7906oGbUZ+jvyBEQ2tGLLm/vlPL7RGewL+21rYuM/3Kv8gTZKdN+ci/1yB3g0X+0L9+hUsaU33Iv9ArzflH47e/sy8zeYMznr+mx+pe5+C3vwXbHYCqLLO/axNJ+CrX0r+RMSQI6caSvwCz8HJXV72/mI4FUaejyL+sxJchoy2aP55xswdmTrq/6v8bafrRz79g+ydng0zBv/gTJkEubMW/SW9laBfYwL9FpgutDITSv9ODxGDjXdO/3kB2rFTozb+gidP1OU7DvxwC6APJNM2/U9qiqeZz0L9m/X15CoXJvzaObcul076/NtmXvc8Ws7+AXg91FabIv0dhsgOICMa/oLxRYLWov7/wz14f60Srv3Ls/SDep82/9JV0VBtkzb9Oaie0kerNvzJDrUDuZLW/3UohmRAZ0b9IKlD30KzPvz3yfR3ZCNG/7T2UnBQmxL881tuDvzPKvzO/hMAW7Mu/xGUXOLXFrr9KD/Uf/sXCv8SPGaPIJ7i/ixkt3KZctb+DpeQMLWLQv2xEiUxQ59a/PCy/mGckyL9CK0AsrQXLv25MFTwJwMa/eKxJCG+GxL8tMLoMoo/Wv+qDOZ+aqMm/xpn327RFzr+8/S4RSljGv9LgIgx92NO/zyjWQkly0r8JrULTeFjTv8yRAtHvUrS/CzK96BPMsb8BTxTeB7fRvwxfM3tO69K/zA1BepBwyr/gyHt7RqvEv/uhKhBTJ8K/yaRy29CV0L/lq6xSKSfWvwNS/24/rtC/mrFwaSxYyL/Mw7W8RSqkvwL8H4E3K9K/b8q6/N5C079OuLJ/VgDJv/VpopRcKdG/MzqPhCyi0b9ADGyoSt7Rv7muwqBq7sq/ew5Rxja20r8P5jiEtTLQv+3jpPsdb5y/Fp/N7U4trb9lSRrTlxiwv3TmtsNYqcO/ASZAHi6lwb9At+OYQlDEv5ZqG59fZ8W/KJoj31Rnrr/70sXvreKxv8qpedFW1MG/Yq7sQy0rv7/yn9b2dh26PxAl/HTu2sW/YY2I5ReewL+c4X04maOhv/5YlHHTZMC/uuIahOtTwr8zHU5K0H+Rv5YK7SjiQsa/iZX/nyMvxb8Qf5WZGCjHvwyG4wlvncu/Gqoxgqwcur82bj5Tkny2vyDgpLzZ6Ma/pibezZS4pL/46xZ+huu0v8IU63Zs6a2/P6mzVrLFnT/4rOWoyD2nv7SWJijC/dG/WBLfXyoZy7+QMpsIZBu7v/ItkZRt5sq/QEPSaKbfzL8JvieID0LQv1+ICuyOL8O/2WJUawGEx786wzvrG4XKv2I39BnUGdW/QkQ6oCM+z78fDyIR6d7Rv17puzWBQs2/PUbgUbPO0L/wUExbcFqiv02KrLCqZtO/bG5SArDPsr+kMVHccM3Pv6ZozxfURsa/XjqlONMp07/9HSqK2A7Uv5BOOgH6TNG/+nPrQXvnwr+2I3B5NAPIv7hyty7P6sW/XetBRg7o0L+ygQf/Lo3NvxbuwZCw7s2/bsLxWd4+z795U0BYjeXCv+v3fGxEF9m/+Lo4YZ20wb/rUWWL4XTRv/jbrHfXw9W/vOfthEpIzL/vO8jmAivEv5tQhsP6vdi/TOKTsSgZyb/8GzOnUry+v7vcdkCE9tO/57WK1zYgyr8eDXeB8eLPv/TY7iVv4cK/2zbqhYvR079sfNwoEA/Av3SQkTRLwsq/VTQomxvVxL/VmESZLSvQvwuNu1f/TdO/9LGBcGglx79VYTFD1uXUv/bQwXub0Na/ziBKVjG6zb9lu5hXSwzDv5RgwCbeXNS/PuHB7WXEyr/2ShZWuOfOv9Of8XXmV9K/h4VlqJEH178DrBwrWAzWv25JkD4emck/t5zN62jSwD9oDKWeUWq1P8XXI5XIVLE//zJ4UIe3lT+gMwdcATC/Pw8BIKypZLw/ymB8CB7Nxz9ahd7DsYTGP3qYzuWzHMU/mBErgyq7rz+nU6CnDoO0PykyyUVmlLU/NVJ1KDJnwD+N/7O0aHa1P4FHEe2qO7o/0yjap7fOwT+mgn2NemewP42PAktKZ6k/U/mSo4exsD84CrjqvRy2P91svRoglJA/ZtSe+rCFtj/FqRFf6cnBPx+iPfU6Zqo/5roIACIYuT8kAcEiVme5P4YLJZebZr0/p/iyq4VZuT8Nq+ws8LzHP8tdZI/q6sI//889cGMXwz/geGXUppTIP0zT4iEebMU/Gt2+R7ACyT90KE7uzjfRP3hrZeBUD8w/ZPXWlUEG0D/WZ78OSZnPP1gyCK8SCb4/wGDOdjQuyz9UyG58rnXKPzlziemcHcM/Esz8hwvkyT/zWPWQd27NP8Oy3AeQAcM/PrGnXrDdwT++B11GX1zQP4iD0I84V7I/ikk4Ejv7vD8aENv5+s/QP/TuQitj5ck/MA2j89251z9vvNJ2WDHPP4BrWLN/T8w//z+bC5KUzz9LYuCLGmuwPxn1ROrL9rk/guekkL+PyD9qrpYoZq63P3B13mkIb7s/unxxxh2wvT/8CY5o2Du0P54nf8qNKak/3iruiWxsvj9GYRuCRlK4PxiFtwIEJX0/QV8XE0aWvT+YGj/d1L3CPyZFeq6h/sA/D2uCAfwVvD+y3Ws4YbTIP7TMzFMu2Jw/nXRutVw2uz9/MR5XkXWSPy4d4UvIEbU/3+k8rve5wT/mvQomY6vHP0cJ1i/NIqo/ditVcefvtj+DMdKYykCpP8x1hO4RjKs/JOOsalEsuj/SGwUAt7/FPz4B57Xbk8U/oAvTSMm/wD9PUJSCbFHFP6BsP5OH4cQ/YrH9m45goL+OztxUv6ezP/2eBXF0LcI/4FUp4AmUsz8kPVZyj9XAP0W2icCUBcc/cnOE2xYZwj+ruJ7rNRyzP+VkRrjpLK0/4oOCo9IFvT84HDLb8wdgP6wEOyQ9FMg/vMZTj4fKuz+F7apESFWRP/IBjyjkfLM/UF2tiaaJhT8sfeCSWAG5P9B6Nre62sk/nG0U9+b1lz8Qe7Wsvn7AP+xvpQI3z8A/SkxdU9T9wT/SLhKWHN65P5QRr33rXJQ/so6ubHX9wz+rvoznZAXTP2lVQD8DS6U/Ke9zR8kwwT+j1vtri/+zP/7C0zEnHs0/HWF1z+PQsj9JFMWW2TTAP3i7qT3hasC/gYoqWVgxpz/2/T2g2O/GPyIYOJDQ46Y/rurIi/RbxT+BC2ZyBCPAP0L8L1cihIE/r1EemY1Exj9GSNhWu1u7P4QZRkMZV8s/ThWi+/XHwz9TGeQiBUnHPyEcz0aOgrE/NuGwVxPhwT/e2Vu+Rg3GP+NArUtdv8E/3EN0nx7bcL9jk/8Pw0TEP9gfJMnVdbs/rNWpfI4mwj+I5hWzpLPOP19fYr4tRcE/bpkSYVipyD8QiC4TCYrHP/g+Y38HTLE/XK2Ok/phsz9s+UuggZK8P+zdRiBSi8Q/AEQReXLmtz+kFXal1HG7PykXMfT7j8U/8AFylV5EqT8sN71kExpzP1r0yjS6GKU/qJmNSs24qL/QzXHfjku0P7Q+M5wgQZg/h9kooWuDnL/Qp4NrwgeeP2qcKoH7HJw/lK8hjwwVvj/SUiYJz36mP/Xl7NlSJJS/CN8SiXSraz89NSThLMCwP2dt8iL8SbQ/DtZ3njmDrj+CX/HoBjCwP5ha6wfGAI8/wNQmIR0OYj9O8Wh8KXyZP+EIXkc2zaM/MEaMSjSuhz8pZHXpJ/u0P43xjT/OZpq/kvkUEEb3sD/G6RkZwZ2tP3wR0Dc03aQ/ls1VDA0kvT+xTTzzp/LHP78AvpenVcg/ROXdD1RhtT/ANML4vba7P+cz6k8p3qc/w8Jln6TwxD9qGzASofzEP/Zzb1pdArQ/HWxU5oi2xj/lETv0brO7P1NdLzfXh7U/BQNziUXpwD8hojpadfO6P0KuJOOl8sA/Yqf1CYwtpT/nYgNMlCyTP+w594kGsLA/BOIZW/iGwD/2oLjCTDC9P1aKzRPqjMQ/JKDtyEWQwj8+rzn9b36Ev/o8Ifhp9b8/i1P6/Ba4sD9Gz4zN527KP612BaCjPbU/+GW70q+auz/mckXFos69Pxh2nP9yLKI/6xOb4tlLnz+y0dJDbI7BP+BdkSYs+KW/4HFLTCDYxj8ckYYA7+KmP9qJI30Qbqm/oqxAimpSjD/87kpuAUV4v0RqAXlms6M/htYANpeXrj9maNmvkuOnv6LlbAfvQq8/Cmm1rsF1tr8UokIRcr+9PyCSmxo7u8k/LAf+9hAEhT9fmzQ8OOSVP7DhqcHWrrq/VEJXj5LTqD/LFFbtaBqwvzg9PDD19qg/cPGp4/YpUD8gdp8V7hi7v8TNf1rMYI8/HEDTLzQPcr+Ii5cdmyiov5DsIal6tKo/Hjl4bWZKj7/i9QYlxOCDP0XnpS4LnrG/90lpHYe7uj8Tmswad4mhP7qy7vquZ66/HIkXGjjaqD/6FzbkPPO2P8aI7AWyqrM/GUybJOAflT9ChU2r7wC1PwCeqj8YRMk/oSno/W6Nkb9wUQqPNrKdP1TvwzsIHrc/jDMSRHjfor+WoqW+4m26P+gChGPcYLc/LGvHFu0Upr+udCRwKLiyP9rz6Sn6SKQ/ZtlxB8GBqb8AaygKWG62P37fARzmCL0/f3++Rf4OsL/0px6iiOa9P4iGmVxoHqq/KoBZfr2wtj8oly43D+mzP+Amj1Z2BWc/+laMMDyyuj/RFqGWqUK2P/pC8HDsNrg/8EHRabigqL/GN1eoPoWtv5j2+Uo5FsO/xOh60+2kqT+W6x2z7IHAv7z81E6Q672/RLudd2+3yL8YA2ceq7fHv/Lqh8Cq4cG/A4bnfh0/wb97pH5fPq22v3qE4Oe+ecu/LPYkd+Oyxr+38qH3b0rCvwbS6RGbxLe/cnG/hJ3Sxb/Ea5y7ltu5v7H8M8tfqdC/3tYgUrHFpb/k0XRAjxq5v0c/uMO8/sS/4UbWOsHlw796P1yarC/KvwZLfQ+gN7O/+k8aTCR4qL9JpIhE9by0v2gIAUjRw7q/hXsHIFQx0L/IMY5JmVCiv4QFo1LkbrS/Vk8syhSnkT9IfyNB/sKgv612NlVz/Zy/FKxPkEnho79iJApclc2cP0zPaje9CLA/JkDBzuc9oT8Ylqiw7Sdzv5ifEv97XaE/+evIhyUCmL8tlWnADKW3v9KTJfcNaq+/rgqT+EJkhb+vFkDzq8awvySZ3yN0laW/fZbKqD0dkr8G2Wg0VH6zvwAIQcsAbL+//NQWBTuGwb+EZnl2UuN8vzLbXgSWKra/ZHaBnaBFxD8y0Qgbc2a6v3VIVV9aXJS/cPNYZQladT949avccQiivzAyqo1hhVM/h5qb0zCcnz+G9vjVBkeqv7CIYS4nBXM//AkxkND7or86nP+uYjmpvwLUHF+NVbu/BsQfzg9Lxr9HW+QuxGfTv649zbFFfs6/iI9nGDm5xb+g1vjg/z6AP6b8atn6acu/wCwk7R5Lw79UHwwkJsXBv1JlQpBNese/XBxxAziUyL9gchTn8am/v3+JBXlhRMi/Y8XxZYAowL8CD1ZgGdHNvyQyywGeHLK/ZMagHAnpzL95bLCDWiaLP2pfG19Nqsu/1wgsrZsE0798kzta49R3v+4mUQOGRc6/EOvFFRyRyb8dgukkXxG4v99yNEnLSZW/oXTxzJ4K0L/TwQv8bcjTv9uKazI1h9S/Z7syk2Zu0b+qHg6Fgx/Nv8/ThXFfqsu/ZDwI6AnpxL/Nxy3aAjfSv65hzOhOfNW/qimul9Wkz79KT4T8laXOv4bkgeepkcS/Wy5l6KaUtL+8fEgiFx3Hv/BO69Jxcry/lGqPVZpAzL8UmYpNtSijvzZ6Yugi/cm/gIXTw5bVx7+Gr39uPb3Pv6UWXqSlDdG/lg/xATBotL+4VL8LFDvNvxHyAcucqtC/HNAq1Mfizb/VUseaYNLTv7baPOkNEMm/MidEL/8Ztr9OHG+ob+LIv4CCMHNVxYQ/CQez9H9o0b8Cz/c5y8HVvxeSmwlSWdS/v6Vrz9Snw79ZkswYhci3v0xYgSzvA8C/9gtjJMltsL/icggswG6jv48Xr8LwG8G/QMx5fNHAwb+d07sjTuDRv+B3QTmdjMe/ys6Wbi7Wxb8W5TQBogq+v8dTy9gF/Me/6NU3WqqFwr/ZIlGxoW7Av2JXWPkrk8q//itO4Bkiqb9ahX0jwwXAv6reARsjGda/KkjTeQkmxr8A3UWd8mbMv8xJd38oe8q/0g9X9IKYy78IV3sK64qIP6ZhxieESMK/2N3QOUWBwL/UQTpMWIGvv+zaVMExpcC/0GwTXiOmzb/s//cpwiG/v+A+3oYU48C/01tgMoqHwL/q5v7aQCXKv0H2LZQgmsm/BINfcKsHsr8Fw/WXyF7AvybuXpwrqNG/nwBrbE+7wr+IDXJNJmjNvyLD6UhLt8q/tHBVSLb8f79Qt5s2MqnJv2DaXAWahs2/TrPlG5Puj79olGqnFlmWP+R3Bo4TGam/RuZNw57jx7+VXU27nX3Av2bP5RqK4cC/JaOeXCJSkL923ute9MLCv9vwvsKPitO/NsYoySyA0L/alM3h7smFv/CtDrAWL8i/oq3JehYHzr/wQ1HWhkbIv183zFXUlMq/QPi6UuhmwL8WAEGmqfLHvxagUpVXYMK/TJ22d/MwyL+A5jig683EP2reFDYCNNM/omzIt/lmxz//HtoN//HEP/Ts8VH9F7o/i5e2q+lFxj+Q2Z8R1dXAP4KOnmc2xMc/9PVh/44yyD9ys2mThm/PP/UMuy1Sx8c/ePxjBeIgzz83fjBAicrAP4xkEqjjMbo/sIYmBYzTxT/TH+o3vwXSPwdb50NKpNI/jmR7Cssouj//HXs1DNfRP71o0J25z8o/DTVnm34Xxz9C411L3bzGPwVu+aag8NI/3QNNacU3wT82idYUkg69PzkeHzmfFsc/oPoQHyrxwz86CgwYOw/LP6viMfoSAcw/VE8hR6bStj/SKOEqaLauP9vkW4RyqJu/3muowR2xrz+UExjzXvN8P9gfYcE6J3I/KJnV6dWnqD8AEhx+RxSlv8IuShcil7+/1IkNaXFHor+f+W24nNekP+wTolaXEXG/spkrPkAvqL8sKD+/pE+DP1Ta+Bznwny/9jbqRMiKrz8wUzuKpkVnv6xZnOkZWnC/FBJCdD4fcz+BOw6JsP+Wvy9T2tDnfpu/iIGaScunrL9YCAfyZ++gP3v//S2dxsK/eroR8DzKuz+QazfakP6NP3kSaq2KJaw//IQItsq9rj80tD0oYD6zPyjyF3/ozaY/SeoHK7f2lr+s/pHkA4u1P8ZyOi4vDpo/zvISP3CGnj9bN5nRdg+kPxN1pw+Nzog/XVl9ii7Ysz/vLBE0XI7APwhvTdl22qc//a/YsnCGsD8nlBM4zuWwP4AMsl2ipb0/pRVPyu7RsD+cbEQN1YOgP3rYuS8+ULo/tfpKUfEYsb+lfmyYJbS3P36jaS5JIZM/3FwZWRzyrT+kVjaUbzG7v6bgSO/yOK2/5oJw/3PumT/APVNNqIk5v+sdqdlg0LE/p5L+tNc/sj9oQk2OZ8tlP6jFNVHKmrq/PK2N6Sbppr++V0u5i6bIv3A3g7TX38K/TzkhATVJn787TDikoSuZv5EsSwjh65q/ouogJtzWsT+03wMQQji4v0B6JvPoq6S/5tjHz4kPob+0U0BIkTLAv1HrxY01hJC/Vq5Kdr3ci78aLR+TnI6nvxe+oXXnMLY/eLVoM6rFwL+bGR8/NHCwv2oEdiqpUrA/JtOIWdBpw798tX3ty6y9v+PuNU8J3cK/fk/+IJHqt78AOIiuyZ2cP4BhNTWVESc/sNB9B/AXVL8CnFneuZyCPxp2spSDT76/EJq3STSNoT+Tly1M5ju1v3zU6v+/RHc/ACRaAUoTxL8ImOEXHWvEv2CMtXKxtJg/FtGHX4b2sb8YnzW/aG+iP7xNY76hsLG/mL/UM3ppwb98za/OfxfEv7nWTCl/hbM/QN6trLlVqb9WyeRf/U62v6QIH7paVLu/zHg2rLGBpb8YG7TjRMKhP0R3t0tLoby/xA71a1PVur/oUAFtAtS6v9Avvlx2gLO/GGr7bDrpt7+nmMK9XqOZP8i94Dz85qK/mYbc89JSw7+xi+FZW7LDv5pHyiqXvKO/Vjt/u974qr+gAGB3JmC1v8ml6UAhTcO/bJ0FaU4Ovb98+IVQ6tGhv47PFMNxZNU/vUPeoLwg0T9JV+NssY3EP27OqSo4yIy/hUewvyWp0T/5ZD39tQbYPz4NjsIGl8w/c8CI/pya0j9ftHCIhgrUP75cxZ0pXtA/JflHSkWw1j8yp/oRxwDAP9ZEwYFjgtI/x3iQFnSl1D+7l22UezjNP1OZEaGSUtM/yfW8TeTC1D+5PVCY0LPAP5dRjpdZANc/bAGvKNDjrj/ab/gKJRCIP9rsf8Ka3s8/dwVuuogeyz/gSkQRwevRP3xB5HSI0M4/XxmmubyNzz+ju4Yi0RDSP3+o7BBku9o/3nOcHX27yT/rrZce7TzVPyzLn5dXKKW/zKb9CDU8or+I1SGNpHWsv5j5h8kpl5o/cebrzEgAsj9CCm6BWnm8P4wwkM8scKa/Yoi6GDLIhb98ryX2SauLP4xpzwQyiXW/+JLctUGzZT+ZP+GZzHmUv/TUPZFbbpM/uP58mmDzpb+GTIVWdfuNv2X8XrR2j5i/3MDPWmodnz/Jd0znlc21v0HsoSTR4ZO/YCqMf/rOtb/2HR9/Cm+kPwByFrR8Mw+/bs9yHJ1Ysr9RV4FXZwbCv/DILGBpgbm/Kpp9zPhKpr8mYrR1AFO+P2QdLL0lHbq/oPQU1a1hQr/wA1aqIrlqPwRlspDRmaC/DjFrwo2erL8auq24QWvFPx5RcOT9CKC/WI0C83JGlz9Y+XYpCLJgP/ZccU9S57Q/7oKDKXlxpj9s19Oy72uPPxydyLKAw6Y/O5iCJKtApj/s+iEyY8Wuv136srs3sKQ//KMwYd1Fcz9Xb1E3BliRv2Ac/D2WMkK/3q5L3hFvvL+y81X3LZuhv7y2lPdXNLE/jDKBNdlopb+AARZlvSMovzI6CT8Xw4G/ZEmd1s5UuL8m1oN9ycqAP4IpJbU9/K+/jvbdMmWTwL/DCKpPdpeZPxDEiTZ2E8O/9+5hztLEwL9gdYLRMHTGv3gyhr2G4rm/3KkDBBUdx78ZKEsTpmqlP1DngBpWaKa/kD+ESto9w7+Xe0aucyfBvzQl8LSaCKq/Vpncz7hUzr9aPwqgSE6LvzHXmocSjrG/DHw9ZlRwwL9Sctc2PYu+v4QwJuoei6m/EFEqIdAJoL/Tc1xtG3fRv5nH91EZ9ba/OGYpfhyruL/k7tvqpUXBv0PsTi8HfMO/EPcM3qM9tb/hxzTU7XrEv9YbVNr8rb6/qA3rM/ebv79W/RYBDEK3v/Z0MG/Gx8W/LhNm4ILKxL/PdPGMdz/Kv7qOjsn2AcW/nBChBX54xb+2pvISxWrAvxJEJiMcgLq/KQ3qhMszn7/Q4g+SVVamvxmmidhABcC/SHVRPJiNvr+K4pkFriC9v149zrsZJcG/SHXaVvyKwL+9YP9ROq3Av5vMGcoCzsO/gKqAc0E5qL8cYeQQ75q1v/wIcpkQCsG/IOtiOwb6yr8w0KYMUwHAvyM86ohUy8q/w85+NLVMwb8Q0zv3Vp+7vyi9PWpf3Mi/TNu5p6jLz7/kDe9Jl8vGv7r6PEFTd6q/GIBRrE5bvb9ayy2WZnuiv37GI7siiLu/PV6VcYVDw7/ylqSdjnahv/I6HrUtNLu/LHgPSYXXzr88HkASMbfIv0Jv//1RlMK/i0x340xasr/CCETkyR26v87OFKQZO8e/NJFsbLNdxb+uv8DT0hDNv9Au9SHIfdO/EjDK11Ej0b+FCSHQb3rIv5CKv8LKJry/sZpCGVLLlr+JL6i1CtfRv/485WZt6M+/tGqhR6k+zr+EqKiy/oq+v81ndrVr4su/FDKv/BPdur9QqiMGPu/Av9I+8hLwX8q/yBZnpfURx78C9V0IyKOJv8Tj4VewN7q/3fmi/eGaw7/2kMX7MNm3v+aOG1sVLLO/xhpsrXnZwr/izKZI3TjBPwkjOv/LicQ/UGWne82H0T8r48HcqVGyP+Q5DT13qnq/VKCcOuAdrT9OQjMTzu6Pv1qxDCKqIcY/4EGIT0e1yj/oSknh5APMP+vgks4h1Mk/tMgT+ldywD8SNVJNfsnDP313NZHXgL8/0MaxhEnrxD/SoX3pcADGP8prhIQCicE/6OWa28wybz8jmwwk4yy7Pxzu6YdeVrQ/+NfM6TbFdj89UqnQZ+i1P/M1nIjUjrg/6VlQjSV7tD/bZPrdIH7BP1fYWKdJhsI/2GN7DZZXtz+n6nvOEa64P6kamHX2s8E/E7hdBkUNtD9Q6yMaPZqzv8oFGnolA8y/odsGi1QenL92H7GKu3zCvxXDt8oeYri/jP3XBp/ovb+BQD5QiuuWv2y3Z64DxqK/kXxq4IiOw78UGWW+KL+9v0AXYIRy/5s/IPSl36Hev79wPjevaOeqvzqKpIKkOb6/mEQu7q7ju78lUYJbLXmxP44oYaEsjbm/nWWiRMy/mL+jo3dJQ0XFv7WURxxp3Zg/xOO+glE+rL/09rvpqtq3v5rtdIM4caS/tTk0ePx1wb+oWh0Rsde/v0inW/oN9sO/cV6t14ZPkL+GBJ1AoGyyv/ClNHGHv8e/tmATcyEzsb8gqBO286hDP8wFUmGlPaI/cE5llJUGZT/4+9pPTfuzv2yVHdHmLbK/jAO2pf0Fdr+Ie+moPniOPwvYqn4XYsU/uNtqEmUrq7/oiZOhq7apv96j0HbS08K/BtCACH8piL+eAzi4CDe4v2UJs//BCLS/9OZ+xzYYwr+oddznpDW6vzRamAeC3K+/PCwyEVscvL9AJc6LtQWiv+pJA/hRHYi/VMoqCLlkp78jPjth96OdP33ysdI3jJe/An7FOyYRsb/5djAGpV2Qv2cUcTiDxJm/EAxNb59jvr+OO1yfX46uv1IYb4UHH4Q/2Ho0iN7etb8/wUsmTjHUP++F20lfWtU/KmNLduze1D81i7fO6unTP2sAMVF8Fdk/J19GcvDf1z/L+vzEMWPcP/s7YwuR/dg/AbEbhQ5t0j9BN/bnQeLXP2tA07bUV9E/1wIoiJRF2D9sRsphrbXPP/5/l4zkVNA/veNSI4DE0T9KnbOhjTDUP9imqJ7aQ8s/xqx8q6kj0z/COMPQIGXSP2vGo13Hh9I/RqvZS60l0T8rkg2tJM/VP8XK1puPXNE/z4T2xxEb0z9SBIiYi4HWP7Ap3uKXU6q/mbyBw1OhwD/EGWBGI6GhP6WBOPLH6KA/wxFKzDosmT9aDAau772Mv9i3yIZFyL2/9W+RhEl1m7/1MP5VLdSyP6jlFOD/KZU/dow/GcvRwz9saXj1yfjDP7C/hSRrCrE/KKo4bOOQtr8MlYgyUI26P6U74nRjKJa/DOslj5bJsr8P/6v80Je+P2QVOcIq8nO/ZkzONcgavT+nd+I5tlaZv7gLIoM3PGg/kikQ/jb7pj+ITugjMbG+v0fEC/0g3bk/bLq/Pp+LvT/AT+1fyBm5v6Uqzl3jn7w/0s6vE/70sL+THErECE2yP0mfXCUce9Q/1hmfKoKk1D/xV+r7xdLRP4PW35PFG8Q/3QWRw7pp2T+anIbiVjDQP+3K1wg488w/kt6oIQ850T/90fjgQdPYP4lKbXkKvtM/whjnHNtdtT9zolKzyLHTPwydYMncHs0/lcR2M6hdyj+3YZ16T+nIP/15qlxF78g/+quG43181T9S+wDSeXbSPymzJ0hYWdY/9BulGx24yD+YksOUWIDVP7hCVF0+Fcw/oivkFMFgxT8KdDs9ify+P9/2eIJkSsM/gJSVn5zQ0D96Eokdp/zGPwuTezEfwso/GXZ0b96y0j+/koBM+/TCP/sR/cdr59E/jcE2ffdJ0D8mnTgcb4TQPxiFuZsMos8/s1YnIIc/1j8aIy+pw4POP5V/W+/aDMM/2YV9/feJxz8I/A0tA0HSPyIEa/iP2MI/ZGkWlBgh1T8UFx3BceHOP5a4sILM0Mc/ofTzoIvZwT8XIFkQl8TQP7bZoP79q84/bYjv0MJn0j9rPpVOu8+Sv7Bq9hsMMcA/hYsPc4Yc0T/poCcwBPrZPymTghmJkMQ/k1155DuJzj+9mDIP8s7VP/OxIR3t9Nc/wsqWST/mqj9O/Rc1WbnIv+UvPzrEfdM/3dzBnwU6zD/u0IEbrd3KP3r0ZLM0GtM/a8G87H/8zj+GPu0uPDvGP/u28IJEBsI/29f5psT+1T9mae887kTXPzVvmA7Q2dE/YnsgY1vTxD+F4iriysTUP2mvPc65otQ/NBSX/d/R0z8gOMMnn4HXPxki8TLSzsw/g2BDnUtY1D8+hx980MPMP1+OP5aJn9A/e5yqMHMj0j9/ozO7obfPP9b/1sMrBM8/HuuWQLTIyD+w+oJKtwjTP0WVybXS89U/ojbuPLcr0j8n2HncqC3ZP4eGPb/lm9Q/A5Qg9UA81z/eA8hT0cHVPyz1samQJdk/fwTqMVZW0j+zSKwv/PXTPwPSKWH/h9A/IwVGf4JX0z9hByhefA7FP5yZy1gsAcM/ZhhBlSWXwj9add03Fr7JP/Y6yW11EMY/lEd4avmVtz+0YtPGUhG8P4vX8vgVWsA/0SbH2VAVvz+Pn/tTbqvJP+Bw1Abhjaw/WhW3j1OWtz9e7ocCWvTCP4xWc8LwxsM/EBrQmc1Guj/6aqMWGzfJPyWT9MBNisA/YrYOI6Ujtb/ENIwTNVHQPz4bwk6ZzcU/zUazsQEByT+rafUtTuHIP1zsK1q8mMI/d7zft/+cwj+7DhZrkhnKP9L3heB1acY/Kc2wXMCK0j/q/6FOJFvKP2VolNUZlM8/KdzoKnOXyD8DOLF0XrbRPyejoJtgUdA/8y7ikQth0j9kP0N3D2zRP5frlv6/tdQ/TqKiLiDYzT/vNvgqvo3TP1iaDeHBmco/i33ZHUIj0z+q1L6ajkfHPxmDHxvyotM/IFmflNvX0z+K8ndQmebHP5nxnc5biNU/8ZyGGXnH0z9XTJU00jbRP+nIFwlNcdE/eKjN7jTQwD8gyvuzgkTTP78xi1CcrtQ/kYSPo8zEzD8m1w+nCdTPP/rN1bx/bM8/zLrOCMWImD/Tz1ogWonRP319dtVbcsM/Hzt2dtTgzT+YeTZ27YrUPzgHvVLeXNQ/FQwTnHccwz8I96suqSDRPzMh4unNAdI/07/yu5/O1z/cKxIvCIO+P10dYxbxW8E/+aTaJneYzz+dDCmDtP7VP5Bt4ZhaHtY/HY4kdqJh0z9CrHZ4pIHPP0Z9Eg3SrsY/iRTBOxWC0z/mISVNni26P/KIajiNydE/VV2mkuIV0T/dbd8b+CzWPzGTJG8uU9E/ZqvsKntY1j9J7IgvHj3TPzLlGYGdo84/2FgAW7hezD/7vWzWcBXQPyqAAyodtsI/t7FS/UKb0D970B77ok/SPyjIgipgN70/oEZWhyvHyj99o0aX8BrTP/zbVsbtM8A/Oz1hsa0I1D8WipMeTD7UP1KRFH5+HtE/kTd4akA71T+mac1Jr67QPx3LE9GZfdY/K5hp7tSI1D8vkqdKV8zLP/neqvK5wNA/7N6XOApOvz+9PrVKRHzXP+lJR4kXc84/6zC4FNGRxD9TggBfnPHUP1bV0k6sLtE/8jV2rOX/yj+ei/1tqR3NP+aZDkLeGMQ/jig+JI8Pzj8C15CfYX/SP9pGoXAFbcM/vSqAgdjJ0j9RSlcZSOHVPx+3WvNB4cw/mp6si+u0vT+nv1zXEEvSP8XtsDxm49I/OcrzoUgM1j8Km0gjE2XFPyNBT+F8SNQ/KV/nn/qp0T9HSklb/kTRP85mMp+iidE/fRMJbj/rzj+/T9DaI7zWP2N4P6PWzr4/Xtx+eW8Sxz+u9nKshDXQP4DmQ4TtHM4/slHSn35zyz/Qoin9Iq3FP94g3fEpUdI/nGlzl8CN0T8SvhCoSybPP2FlPd/ejNI/mA1neseXpz+8bptqTwnXP1eYZp8Eiqo/n1Y+/BwPxT851IE8hz7WP6Aj+xIhgss/81NE37ojtT+Z2u0k9Z/ZP39z/BfPptM/R2VVTJn60z8rQNZsw1vTP8NW/rhkltc/BqmB0MkAzj/Ba8uOtMTZP4uhBLSTKdQ/JGY+uAHq0z9ennEGb1PQP7X2e8TSfdE/1+oELf5o0z8/naTsj/3RP7K8qgx2pdE/yyyewoL30z+lePA/ACbVP9cUxvoYWNQ/6alrv9cM0D8uztln+OLNP9KLSTjdt8o/7raD0WvU0j8XrZzD4IzGP92GGj/JB9I/2mhNXhXdyD9rpFSs063QP4ajyGNoctI/95SLZk0F0j8Y4cHkD9jIP+I2OuuFS8Q/+CoCGI4y0T8buLon/qbSPzlYnLB/0tU/SVsPjKq21D8BcMnNY2vTP++9R4r1idY/WabHVCvK0D+jUAGS5fTWPxkDH6qenNA/npX/MUNL1D9qGNJzBI7YP84J+R9wldQ/3ygEL7v+1T8E8IF0H6/VP4wTIleEM9Q/csC8A5Sh1z+p0aVgMarSPz9XDR/N2NU/ybtRTB8I2T8hb4yE2pPXP0SI+Uj4B8Q/QVC2red52T9dRit0KerKP0oP0DpHos0/BojQXYcXyj+LorkQxHLWP9p8dnf0iNU/NPWf22tw0z9n70Rup5jLP5wfDaZXyNI/2vD9OQNQ1T+mFTHYgQnXPxztXB9AwcY/0d7Q5R8H1j+MtzmY5dXEP4UMyJJ659A/oIZSe6OJzD8lMBkcWh7ZP7zzBggoLtA/Q6L0q3qi1j8nU/BF/XbUP6vXYgDY6MA/c4GTl0ZTxD9HwkP9r7DVP6iN7lL9RdU/mPv13DnZ1T9Kef15pADLP00Byue0r9I/dhwXLzn41D8/KXFpFlvOP0kdT1O3cdI/UZuogb6O1z9xssmIF/LUP7Io9k/Mo9M/R35e879Y1T++C9l+3MfPP4AG8g41rM4/z4kcwvW50z/5PxjVJaDQPwG1oea1ldI/uvH2sU4l0j+js/U8/HzUPznq/0dX69Q/6GYsqf0r0D9H/iIqB7vVP3/EMjFsuM8/gYytg4wQ0D+Do1dcbfTTP1Si/hA3ltM/nqwh6So40j9dbORWuLfSPxRrHTgkccg/o94/J29VzD9dCd1tfgDIP3l/AMP6Lcw/vY0kI2aotj/Hs8LpE7rIP4xmbFlEzMU//5lJ3LAD2D/+z6GlmHHTP1s0hUqSedM/T4QmXFJwxT8t7sUpYC/QP9aPj8qvatA/drNeDoSJzz/It5lWlv/MP66ToADpeM8/8zaRqOG10D/OqjQife7DP29TnGzWQcg/L1OslO2g0j9iLPROEYm9Pz1czw1R4tE/BOBClgPFyT+aOEvgczLUP6BEFxJiec0/Psr1eDOw1j9Sl1+vRxSiP+EKhAbcO9g/Yzen3RRN1z+CwIo+itHPPyvbcnrAsdQ/bYB16JzL2D8UX8qJigrMPx5Q3OfJVc4/NkrM+FyG1z+pSwX3UITUPwv0ll8lncw/WYI2divh2D8V5ZCwjsnUP9upg+Y8X9Y/Zx82IwQ+1D84ISp504XRP83iTOxo29c/2Wh0pyNM1D+Qc8yiV77RP2UOsNQvX9U/2Z99oYup1j8w1oEYamfIPw8gm/M8y9U/jYPhHAIl1j+NO9fYdIHZPy78u3CmaNI/0iEF/dU5zT83a1qc8CrRP2Y0T4WrYtE/pnkywbkF0T/+Et8o4eHQP6HGc+eqJsA/x2bFruI5vD+il4zyyy23P+D21uZbFc0/tV4Rei4Xwz+4AB1rd7bPP1YYEEjTkag/OjXQ+UgO0D96nCjsTWO/P/zIMkX5Ebg/2kFCthaFxD+1518QgcnEP/w4WY4MAtI/XmFHmyB/wz/rD1vRRES/P8Dd8+JkHcA/O0a9QwSG1T/7bm30fNLRP7LL+ThIvc0/ElLN6x1ZyD8purgUUXS2PylaMZ8OLsY/gWNeoPQdyz/XAxosUbfMP0y4CjS5+s4/QfWCk54H2D/81APGZ8ywP6WKspGc2MA/CNr0vPqWzz8uvdTaz2m6P4Yar9+2f8Y/nUxDm1fl2D+e94B2WcnQPw3OfnhyLtQ/hQNDZ4/C1j+1h7lBYXHRP/GZ4qXWvdU/zVoISIg40z91WaouXwXRPzE+dyXdoNg/FaVget8q1D8p3Se/+VHWP/jz2b+UvtY/DtJBzTvXyz+gV+abLKPUP6sw90DWF9U/9K9jaQJ+0D+3RC5emBfWP7YLgpzXusQ/op+T+Awe0D8Qfl3Kmm/ZP0OXQcGbbdQ/5fBqRhe4uj8iGhQy783OP4cmk0nmh9Y/0nMPs36G0D/RAHVpIHbLP3UP8bUQrsA/XlHbWT9G2T8jCABmPNHUP+4+LnU6yYm/nXPNjjcnwj9HwLBRHD7UP0wxr201+s8/YP4TWXiKnD8EV3LQGRLOPwTx7nV50Ms/BCPg4JCQsD+pF0EZhGDNP6P1lEln2ME/8QkA7KWupD/Mo82PHajBP7Sg6Kj0f80/M8py21KCzT9ECpeP33LSPxroyVRNg9Y/0/TmMWzmzD+A30WEDRHKP/s2DB+P68I/Hh1JgXpLzz9Bh7JdG3XUP/UHQflgVdc/mepTDqxavj93FUbBr73VPzxjfXaLMbs/joqdLux+yT/FN1yBW0nTP20ZqM8g18c/Zm3w1Zw+sz8T/4+qsvLTP4hBCOMPrNI/ArtxMPuGyj+yS2z3QOTKPz2NgtFuK9Q/eg/AMIRpyT/pSvWFVmTYPynvHhy0M9s/R6Uyscs40z9Yk6amRgXRPyjV8T9lGM4/KQwH5isPxz/6YAmF+A3UPysI1QUcIdI/Xeyi4/bQ1j/N8iDit/LOP8a9HyHl6tU/lnknDOZo0T9OKp0c6hvKPxPkUWKn+9I/DA3zOJJl0z9pQDbVXkXYP0Ovf04UNdI/5iYFtopB1T9fJAatV53FP/2WAbXgGtc/z4ZgZX5/1D/INAEOwl7XPyJBayuMRM4/O/6eeRzI1D88NRAwYJfPPw94sBL9YsY/6GSIe+gDzD9LJ4a61YjDP3G7R3HGDNY/EI1PCc9UwD8wr/u6k+t1P/podIGfTs0/295YNw770D/X0EBT15fWP6158siGFso/FBiWT0su0z+shMeHvWjDP/20lO8l0sU/0j8iMUYivz9oIEcWX5fLPzBDmXt9J8o/JJOgqMNL0T+M5KNw67DMP4TifbsacbQ/TvT6kKUaxj+qfV152tfSP4tytOIU9bU/uku6WvDrxj9/NHGx/TDSPzyWIJ95Gs4/T0e6TXRQwT/cDZBXBPTQP5uZzLZ8x9M/jvfHaRlOyz92/aLw6h3FP9KxXhNgXsY/kk8hSYUkzj/CXidhD0HQP35VNIP2Hsg/jMHDBve00D+F8vA0xMrRPxGlhMTtFco/+2WYaDbMuT/XksvYknvSPxYSQNkjf8I/kPwowpq2zz/8baosVBvUP7F+6keoDsg/nX+PGA1Vyz8vpmOzXKu5P5wCz7ptXcM/KOGpzcexyD+qbrGpdx7SP/2mvK/AINA/lmF9YjNm0z8wb4o5a1TAPyGgAlRai9M/6OpM+Kin1D8DqqqeGvXVPzdQ9Shdtso/eF1gOe/3zT8brY4yqZ3TP7E0i+gfCtA/i0F0dplH0z+yDYmLImbXPzSJG0IWtc6/TvIPBytSyL+zbZvjPubSvwM2CikNEde/yyVGzION1b8h0REMPVPTv/899PqBRtC/RajqXY7i0r8FcVKk6IHWv6wh202jZ8S/3kQciWjOz791ckrymWjQv6pWTzX2vcO/Wrx8EukAy78hpkSaxoXQv/eJ+iOSEdG/dxJw7kFhw7+UNf33TLfTv3MtwveXudG/TmX0qBkwzb85RfoAMIXQvyI+L6n3Qdi/VIs8GKLM0b+WqDwHToDNv9jRjitrFNS/oJpBHHXx0b8TWhMhvB/Rv/q21km+09G/0+kV9tlW0b8tPPZyDvzVv8QB0P7UCa6/WORy05LfwL/KoytJFMq0v8fJ4cplNqo/9GQOlYSUur8wYYnDN5e/v9SZRINxkKm/i4jc3afTtr+YmIcghlu6v9gQL6qNe5s/or43ZlXor78GeFj/0m3AP+425jCJe7m/rU3rxH/9oj9q338f3svAv6JQ/pydcKK/UZVHksVZoD/4sMXgEeutv8YfAvJXd7q/yFhoo2ruu78OYLqCWKbFvzcBuZZtfbo/4L4NSJ6hu7/igjqhxeuyP9OIuXrrlJW/IOzgZl/bvz8Yx5PfVdOhv7OCnVQ86MC/moHLs6p4pT8q82Q61mWBv7gqpnvWOMq/UPrEeAIxx7+a4A1WdcLCv3RD1+/PHNK/CWMILO8U0L9A1s649FvCv6Jzfu4FFdC/WfdDY/d0yL9Kr+7dee3Cv4LfJViVLri/WPpYwFLxwL99361wuSrDv9JcKqyU9cy/QVoZA2+7sr+4JbSOohPDvwi890RT8sq/LJ1OBZoav78S/XZ0/vrOv1gtMX5xXqu/aoP8NMa9yL/FiqQCoPnQv6RhByyfSMi/f/hEHAN8xb/KiPWu4LLNvxvpCcJeedC/WGQg8yeJxr9nOZrxx7HQvzDdYfa288a/8zIOsptitL+YRomL6xfTvwOy8pOB4cq/Wltq9dgjtT+e5lG7RIGrv5rxp3ofx6a/TlX0cXUJuL/rCzrJBsTQv9q8C3ygxcW/oqrcMCTNsL84LckGhR6ivxAdBYI0VLG/5PqxTLZgwb9Q+s7ZWWtxPwAWEVxN9JA/ML9W7KvHxL8IYuBWRQZhvziQIDlWrKe/WBxcO+xOur/gb0n/iW+9v0Ct2lHnlMS/2kUcSdP0wr+UwX+OS7rDvx+XfCLlCMC/xB9Mxma/vr9nRsuUYATEvxYBgbdRAqU/2ABFXm2urL/CAgAUokbJvx3mXqbu8MW/t4nOQ+nkx79i0ci+CNfFv8RwZq+w1r+/3g4ZG4a8z785THptMZLDvzPz74DlJcG/j3oqEqscy7/mfxxwa8jLv1ftpc2/H8i/DqFZJeeJzb/mOmJ1NDa7v0T7U2ORJb+/PRBfQlmLsL+ENVV1UaG+v2rsDQ/7K8m/xb19t1Ehwr8iRuOyEJaxv9tj66uSkcm/QHRr7rKPyr+MBHL8/2bQv4ZK9sxclsy/2cKKZ+1Tnz8oNO6SEPHCv+B4IOgemcq/0pDXOpjDur9aeyRcuXq+v54oO2Cf2cm/GuT1IiOws7/pSYlQP+TCv5pmdSyQBsC/v4y/EH5Owb80BO/pbyPJv0YJGPvohdC/iG0WQSD4z79qzljYYITHv0B5/28oHMy/df+8/hN+1b9inK6I03rIv68PEHnIm8i/3MvcFSc7zb+jabAHxarTv5w31iZRVMq/X2yr00GQwb+hAdmEx6rAv+CJ2GzRyMu/mQ5mf0VF0L//0k+naNvQv34K2wX+98u/YhbKa2oJ0r8mgw8u8fnMv1gItTbKBsy/0W7m4HUr0b9vL9WknnPUv0BfOaQSPs+/kXnJ/Lf30b9iLIQ9JyW/v4BDLjtSj9K/ihCeQ0LXyr/+atcx5mPOv2oH57onPNS/ceflfv531b/qQYSyV/zQvzTBeH30WKy/+pzz7DiK0r/IEm3iiXDDv+hXszIf8su/IMkk9DwDub8jqqJBJf7Iv3RGotnlOMu/1AHmy593wL/O5Y/WSz/Dv1eBEZ1WRcK/koV+hZPMxr/IfHokvXG8v9ZkwXJWfcW/UbD455ZEx7+dmr4DUpPDv3OEIyn1EsC/TX6BAgdjzL97voiO3SnJvwt93J8dj8G/GBNAR7Fzxb/YHsTwLwWtv9C3E5FRbci/HeaOqzyg0L+qTVBs7ojRvyd22b5npsq/4rPFJ8ZtwL8PZhwoyIXBv2HNHI8HadG/t+RccVG/wL8IkqYp5V7Kv44NvV+uA6E/dBl8PlrLkT+e3OxGjrigP5Q/59Y7tKG/w1Zr1P3ulT8sJnJ0lVyiv/7k4kheGbU/UJ6GDDiacT9Wa25qa5Wvv16OtUHzkKU/JlSy/IY5uL9t+RmGWoqVvwAO1J5B6U8/HL5Ewfj4d7+o/f4rwyl4Pz76DamH6K8/VFGC4FTkeT/MWVDVTCRyP061QLH9/oM/LJq2O8zXgz8YHlRlqGG3v9fkrav2HZm/MFFxIe/DwD/4RW8f2om1P4SoPEWAn3S/I6p7X71qwj96fSo7Dla4P457bOCvzrS/8DS+7HZGVj/3k0/T9UGTv+db+MtieqQ/ICPj6vaQvL9o1kxCKoFhP2wOMdY7+8g/dsoe+lImpL+CHDeJhfWLv3qCyi30b8I/ILkTI6rhuz/KnxCXGPWfP5AY6KZJWog/o5DJr89EwL/s1WCSfr6KPy7XxbgH5rY/GFoMgifgt79uN4lrPfOpv/qIBcbqZbe/5JFkm5fsrr/i793HU3Wkv5d1LToHgqM/05kaTToAn78QLo9ZlGisv1CSdD7kFcU/xVvci5rcxr8aIqEhVq+kv6Is8WB967+/3GcawMURxz9gfkzcXNFyP2w2bbava6s/Zt9XP3/Usr9nvk6e3aTBPzra17VKsps/Bq5yg8K3hL8WfjwuoMmnv8nDsuu12bA/t39+pq1itT/7Mw3Go/+8P/hJzWduCG8/fi0EZt0Oij8Tm/C3VsGeP4JaOQv5yrQ/T3c6FjW4nD8IkLILz9ekv1DhM2dFknY/1EWlFoUKqj/joxK3ao64PylwhLM9U70/VmSyC13YpT9YiG60bLqov1HPhT9H97w/UPv9NOMLtD+YM+BmSTJ1v+yBFP5Vk6I/lvUQOEsLgD9gdlfWd6Ksv86ls1S0gKA/eLkxKkPKYr8Q/uu2ZMt6P8Xj/vL+G5+/qoqlLnkTpj8YFcHNI8HFP6LE55Yr3MA/7K5Eo666xT/RjrhYFVaeP/wT7fg/p7k/lIRE8tcspj/tLHrXA9WZPw9L1cv5kb8/tUb4Y1Lsoj9GzL12SPiKv3qQuVrGv6o/FNUrqWnsrz+n0a9nRbi3PzgoQ1fEkrw/NMDr18LpqD/Mf6yBfOq1P+EdWysXD7s/DMwwyxL8dr9eFOQ5IcGqv/NGmWnBGsA/bTfXmyLnl7/LA7eA+ADNPzfZx5YNpMU/ySTk/EBJqD8XOWfF40C8P35rYKRxCKI/gBza4z3dTb+kH3F0BNCuP1hmiNET4nA/lNoKKizmpL96CsrY4zKoPwplApHm2qY/SG2A9cTPrj8umYoEZPyTPzyEY8iM8Hi/FhthzxYSrr8QRgLfY8GvP8/48JyPLcc/a7582b26kz+ldJcbE8Kbv788NaBzO5Q/If4VbwkDuD88E6UsyaKmP8r9IdSk2LQ/a9sq51MFvT8L5ja3mHSbP+iVFSC6qLO/socYUzgqtj+O7tg6uIeuPwod9WHadqm/0EcjjJIbjD/PIfJpzE+VP5NRRa0OMrA/LBs9R1E+rD+ZqGT1EJaZv2+3O1ranaI/son2wjedrD8WIjKAWUSfP3D+XFUY9Wu/c4sGNjuBnT+cyMP7EOjGP+YO54mhZcs/+kZw908Ptr/AntZPKbtTP5t17O0j58I/5VvoFCvcxT8MSmGvyd3DP6N3pOKc1cE/O3uADbkKtj/qGtUygKu2P/DxYSPh2LY/6KiRQUiXob/gB5wznCrDP1RvvaNilrs/UHB9rPhIwj/p/oiTBbSRv5aEVE06Osc/ULkm61VOpT/x9NBZOMLAP3Cd7Pg5o1i/ROUsjXAB0j/raqqhocWWv1gsbd69+6g/EB+Zj7FHpj+HgDYFe5LCP6eQfpaSzcA/BJAcSoGkvj99IWo7rZCwP47lqODrZaM/loJPum7eoj/QtEr2bIhev707SAki7rw/5RaAbVeqtj+eEGrixufHP35Lfr9Yc7E/WRzmho/dtD/Zk9r20pmev07kGRlSaqO/ZP7drbM3pz+uNJ42tzWnP0TbfJIMDL4//4BdjBmRkL+LNmDY7wWtP4whCoIDsXG/GMA6YOe+bL/Mg89ZvgemP2JwmA9yD84/CGhjXKrjdL/kOkc4lN53v7aKr4ke7YG/Swf+DRxJnD8V3RrFiae9PxjjO4Va98E/6Vw8dCfonb+i80s1+lasP+bZ+T4WecU/NLEnFRY7dD/5MqtZD8yjP7nY1miK9MM/DOawHwqElj9O50ENJQi6P9Is5Ee7B7Y/6N470ct6dD8n8TjPXTK5P+xd428rXrA/KPgXynSepL/KwQREX0rEP1qECDgsgLw/Bwy05qCpxT+Ix0zjNhKzP8nn1BX135y/3i3/gqLhgb9y2DyUDlClPyDELq6DDq4/gqDjO59viz90wcdaIcmhP1BjsSU23sQ/cZ4fjD4glb9SdbGarY2sv/qJU3mAtpM/UlS3f+8mrj9cyPaZU355P/wwdaeKWqO/jBGC+A3eqD/kaS4a7bOzP5zimjfwi6G/5wwn61tgtr+sO0GLQuWwP2+lV8HhRLo/rd1RgI4Wnb8sCzWxfRnCP0J9My+HKtA/jI5dX+48qz+4/hUjPzWvP9WXf7ToxLU/0qfbmCaOyz+pUoNV0jm9PwAK4xAdjj6/RvY3NvlWrz/ul4POia/FP1gT+qPqR2s/yCknLbcjzT+mF0+dMBrDP7TICdj4X8Q/5fWlwX8Lqz86IqNRQtC7P0AUCBAfyMU/rhuL2cdOir/jif5jnBa4P0B+vlXYZG6/I/vCaFum0j8FIVoU/JjAP78rGwARIpU/18/FfwZPxj+mhy0vznGwP4mXFLY4QsU/6lDuKiU3zj+4S94vpAq3PwN+pudzH5G/eN7X7lKdqz+aZ0hvhvzCP4VdDL45Vck/mJ0C2cOMyj+BtPTUHeTWPw5wAC7h7rY/i4/23bintT9u28xNFa7MP2MgOwecEsI/9XGbHDJ+zD/VD34utcDRP8KP5lnEkbM/kg7dvXZDvj91L5vhJx3CP9jzlV8WG68//W+QtT+G0j9rvHEDZm3CP9amICRbhc8/fmNUKgsqyT+EbfATk+y7P3lPLyYxU8E/nCJk9RScxT/b+8NhRIe+P1KdoMkk6Ms/Ls70lKDa0D9FmPS6BvfHPxq/i8PAob4/wGnWpSASwz+OPCGUIerOPyDuGCor3LQ/kBhmKds7zT/91+rDGJGQv2BFHPY/+aI/JKC7wwyBw79+JVfjQJ+1v5qyxEDZg6I/XCLeFPCkqj/ewtsG5vaBP+ZanirS5qm/QDCGy7u7wb8ArcASet2/vxAB3nuFeLW/Ys1LDvwZsr9WGn2KVQWjvznDJcvIrMO/xqr/T9Jnoz9iNbcM4IOyv+OzXbHkw7G/3AOpkVMDnD9/2ujPsoqcP1cwvXJZ0rA/toh4e1ZKp7+KpN43vTimvwxLxbqjMaE/wuI6YCREr78wNw3eR/Ktv+gdaYgNArC/RSCNua6FjT/7065/i4iZv/pTyzDUtbW/bGkFItHEvb8EsI1Nmft/PwhMmjNGUYI/vQ3UkjjZnb+1nr2IUiSWv9+NpdLrXcA/VN+bkJw8oj/Y9Zz1EQK5P6/vymz5/bg/VRWw7zIxmr/c3dxReB62v3Cj+joxMXG/iHYGmC8rr7//RLBCPF2/PyKLKzp4H6a/NMclnZXkd7/c9P7ctvl0v6T75IWQ/bW/GhVrcNDBuL8sxp5T2iy5P+H9rfIL24k/GrrDsoCFiT8iiMP3aKOvvyzBGAeWWLG/Nt7dF/YGiz9ICLMPcF6nv5S02qhw36E/XfLvRF4Plr8tbxclWTWZv5QF9cbyf7O/cNlpM+WeVr/qmP/QFmqIv741yslbRKI/hF15xo1Efz++Lt59YyeiP6yXF9O82ae/uOrnMceJtb+4MkKPOw67P1RveBCDLMA/YW1mpo7XoT9cCWNcQeimv7zeavlg2bO/cCdVQHOdnj84SaO9mcGyv+PxyqjdiZy/BbVqSjnhkb/25JKnClCYP9hw/GdRjqq/2t4C9OH+t78gu+HD3O6kv+m8hhlwsJG/WE3OnZhfcr+iPPCtRq2hP+NwSdj5G5i/9tluJR7jsT8ABYsOPRqvP1AgvRDGhaA/qJySk8mlor8cuV703qh1vy0T+PRD6p+/UfATMcxcqD/ExU+s15F0v7hVccwmnLy/sv64k/j6vb+IUQ7YxfC0v2QQCb3DT6u/7OyPuDNVkz8igQxyuWeKv6jrE1D8pqm/TmkRCRKfiT9OgYce7vqjv5iIn8dKoHs/bMXqCk0Npb+BEHOyA32iP/zlXg8ATbe/z4l39Wk6lr/MBJ05QiOIP7qecu3ZMpg/lNIp/870kz+NgXQIt2ayvxbr0cJ9SpI/SAKyhudawb+0fb4iF7SVPwMxLtJPsZK/llrhbX63tT/aOmCEAzK5P7yBIaTYubA/qDVS3m8Nsz/tiJPfiZy8P/yk+Ehl16E/Noy4CQ+shT9C1SFUmTuHv4qjo9tPg7s/tUaWTKBznL9GiJOHXc2CP3QirfjKya6/pUkZuwiAoj/ADUqiVS5DP2AKZ2EJrr8/ioq8wDD2kD/tHNeKs1eZv44Qcl4DKKK/HhQF1GUjqD9dmhiCZhaPP2P4897yYZg//15Qn0owqD84dGwf/siqP9bfhsn1y7A/Ajl8w3IdgD+BlS+s7geKP43aTUDhk7W/dEIK8yBar7/0okMFFZl8v6JqF6pDQLM/DN2WjYklsL/hufvMM22xPxFY3rLqbpq/rg74D9OOib/kOPYASkp9v6qwWjhANqw/UpkY1te5pT/Ol6tNV0eIv8IxRVW9yrW/DHixWp9Kor+Kfvim0NyNvw4lH5W58I0/MfG4MDREuL/8Ca/4XjSSP6KvVkp0Obk/IRhkM6pPtD9mLBMlZNKzvyVCzsyfkJk/0ms0M86fh7+skYwxRtGpvzq8QEYxmbY/JApQAiA8vj+IDmVziPawvxn9BUXRcKU/q2eOY1+Glr92EilX+LG8v+YWMp8Y750/OB7gO4QXsT8d4+P55mCdP3aT7pWK9Ic/nJ1CNin8vL8mzaY1BXO5v6DkP+TlEbe/lNAb/j+lqT8zEA09taSyP9By+YLN/Kq/DOx4BfyJrj+M194UdUOpv5w+RKo+6bA/qYOouAp1l7/+fj1M5n2xP9Hm+0/6ypu/SBatT7BzkD94n0WThBWlv3QIJMs5ZIQ/ifu0JGFikr/y6ALj29a4v5OqX7pNh7i/o/cyF/x4tb9o2qJnZlqmP46isrcwl6U/hqq3a6TFoj94r1gAE1mivw0AWc72MJm/LC2Bfrspp78OrfrwbRWov+yejjaL36O/IDk02gZ+kz8ab9y5W1TDv9ibFwA+tKE/7OAsrhrWuj9RauPBEzOVv7hbW9pGn6e/SjMXn6tLpb+GF0Br1iWuP6WyaF5fNp6/KJ4Q1a3tvL9wbyesKImtv7pix5agUKm/htjru/2Lur+S2AiOQgjEP4PkGZSnUKk/hjG9Zcg8sj9o6XnEB/yhP1hOaLn4476/Nr2YF16Mgr86NIE5RXS4v87kRhNVn4K/KKtIB+5our9OFt9fiFTMPz58xUS0Vo2/NoC/oh9Svb8iopJZk22aP1hjK6QDc7Y/+QCvKg7flL/G/jSxElKJPwrKQLybf7c/yAOJIzu5sj+SyJxhdySpv8HTNNwk7pA/p+ABo9bGs7+AorXjkQ++v2oehI5OI6i/2qJ+44o+qz/CCBQQXE6mP2oVQBKXacQ/8wWbBOFDtT9Y1ka4eKmjv84EWSSQtLU/X7dTF5mMtD+290eUvJHGv6/4ZD9IjZ2/mQhfDVAvsj928rm4MiSwP6LZzLxXeJ8/kHnsc3JUbL/B/W0G3NWoPySApjNrpLE/a0UkLetqvz+tU4Vptam2PwjmETtz8Ks/z3x2IMMtsr+8Fe2AtHelP+KCWS7GuoI/aWjPJ/SWwz+bmFsPwz7FP/qmGRvfhYy/CEsuB5GboT9YPXKC+P2kP98u7acy750/xgclXHVysT+QDH488fOyP1CCJKsoN2U/xIEIIOu/s788sd+mOne+v9Jay/5G9sG/o93TmEzLwr/roEGlSkbDvzwtuc4A7rq/9KcFluRvvL9UsJ9UezjBvx8qBIsXErC/Bf2xPCRYxL89ekYTDVXJv6BY1B6WE7i/DefMB99rwr8v755p9iPJv/TrZYXPOrq/pQPwkSy8tb/4Gval7H+rvwYlZvRy3MO/dpSXe7Hqt7/QNPSPg6quv2y2m29/B8i/0CZiFUptsL9+NeSw4ejOv88EWI8Uh7i/AKxb9IjxTz8URTguuTzKv9RUaVtFebm/MOHc0qWSxL/Er5EZC3JyvzzChazoa7e/qes/Qv0dlL9a8eAOKhygv2okmEU6TsC/SKUSdf+uqb8MsbIRaDjBv0yiVSB/HaS//PM/hrsNoL9W3SqANgClv2IoOdGza7u/tmfqoojzo78m6CKa3OC3v1Ipwu40kMu/BG3+iUF2vD/EMGwkjVZ0v2LyDEeA3ra/WS/QRp6Vm7952N+5HfK0v+RkyWbfJ7m/xAEqNYzuvb8k2j5oAgOjv2CtlNdz2EA/iFCPBjz6wL+G+kwmf3yBv5UXkb4scra/HJaQE+W7rL+UO7YSKJPAv5Np/m2oaIY/oOnmRKeezb/I1KVbUqPHv7hCVyLiQ6O//nMJuZnDrL9NHNJDFz+yv9itjusfZbO/cNF24KPGU7+YI4l1MH66v7JW1K/zAq2/fwdDBCnWsT8Qqwx65hSaP+/cPukD35S/kNm03DV6fj8vWix9eSPCv4lc9IkiALe/OnrXi2Lcwj+sC9vYyumvv+y4UCfsEL+/N8r7J3YEmb+oPzfIyBWiv7wrb4FNO7m/1RcbnxKpmL/Z8zMPz2G0vyxOIS1LTMa/yDDLP0MztT88BNKNwBmuP3uZ1LDqHba/UojlWBCIhL91uzud9QOzP6CbjBMtZ7q/MA60XTKVUb+KbOngT62TPyxzxrqaL8u/6QvmmPNRwT8GtyvDXMS9P4qjx4idq7A/TCjoL+tntT+C6ysXOLO9PyidEZEL/q4/Mz2XMNjnvD/8NC2IRaK9P5Asuc+FIK8/AuJ/BnN0s78YNp+AdaWnPzgut3rT8bk/Wu8Fgufsqj9YQsM+5WGwP4mudIFgSMI/epgFKjZuwj+CdsOKbjrIP/zXSe2QbLw/Ow8IxsIpuT8YmiU76JbFP4jFhpI/GZQ/IjGAyV3JxT8u/qjd/RzAP9AjyTDnYb4/3Qk/8uPcwD87aSywJ0mzP9j+m/je868/gueAPNtBoT+LZuVcZh22P4BImuDqpaa/uAsukm2nb7+GE5K38Simv0Bi4VuZk3S/I0iANnQ/uL/VFU9Zd+uyP3WLvyubI5C/4P4P1cOtRj82+wEksv2lv0Tq1rs/Kq0/1xRAjhTipD9LB7mgOKiZv1bEN7ZftoM/AI74mafPwr/suPjFcg6bPzUZIt3zGJ0/ammolqZvgT/kG1qC+iisP8rXS2QdY6u/NGQwbvDApb8R7W8ldfyxv/GrqeWWYr0/4YDBoRqPtL9i4c9suEuIv15GLKyESKS/ELee7r1Rqr+bNiJYs3iTv1ALoqW91Ls/f4YaOJ98kb/0iUZgTvt4v3h+pforNKI/tRMTzKsIuD9bBEDb4OikP2DtjXEsb8M/JMr2/Pfrsb/mTwg0KyG4P4CcRO3+C3w/dn4ScfHPuT9JLpQe8DeRv+Ci4fu3f3A/QxqkeQnxsz/xpMxxDSiSv8lv4p1W77Q/qedY0iTBn7+WGQL0lNeqv469IhU0g5I/3rZcMbYAsj8EmAYf9KCmPzbCA9B6pLU/wrrcp5Sdsr/Mp9bFmG3FvxEQHXolAcU/ItgkV/3EtT/M7WdD9xiWP4iVpLbqnYY/zeO7zUV/wb8qKmrNlD67P+jB4g6HEZk/6hRDDGfYuj+od+mGhgFlP1zPiPyOhKE/hXm2Chm5mb8mVtEkYZSlv6LXACguLby/yRCgL0sKtD+2PrANZDihP+5x/pru066/iDNtZy1bur+h0gDhM5uwv/49GQTEj7W/QmwX0beRwT8otQpe3Zigv4ImUkjsyIe/2ETHr76Gcb/Wy+73I5WBv+Qf9G49TKA/9lqmZ8/YkT+tQ1YASRWXv8tstGwMwra/BEPdgmz7oT/Wz5tLpoe3v7lPiAYMRoc/OA0b3A21uL+w8z+qtVRpvyMCKPgcDbY/j8xRKjNKs79Pafqz/mWiP3XGcysgjbe/KE9HqUkOhz9nY6/78rO2v7RKzFguWLO/ZTKVdg2Oyr/KwHoyTpewv2a5OeTUPrU/dFI9EboGcD8KO8KW6fOWP16zGLmUMMC/hFYlNAqhsb9KvDMHKVmov40PFjwJOsC/9tX3GEp2tD+0WyDqBEa/v6ASn9aPvLW/ZgOWh/Gavr90TvnbSzi6vxDVsoGqpYU/IE39GS06x78W8VnPpReovypJoq2vEMi/jZGii0pomr+Q0DncE0TDv3LjhqfCMai/yvjCz/Eusb+suXvnzLvIvwwF7Kbb/6q/Tgkakm1Uor9masWOPP+uv8hcf1L1zMS/1KuOfLZJsr8EsTJFzcazv5CLsTbissa/jyhocSQVl7/AZ0jDdU9MPw6ur+zscKC/uDsGjOqnwb/mhCXdyoiPv4vuVhdkH5a/LPZ5HCRgoL+ww77ObmBYv9QB9y0W/Lm/AEyUKWQKGb9AZ11zf1anP2T2H2c6kpE/1sdga1UHsL9kGD7E0PZ7vwhE9DWVD72/uP0GlkMevL+iDO216GOtvzBPoKxc776/WLgm4OKQt7/kgA2/EmZ8P4MwT1qHq5M/3My82SUVor8ABdeSDS0dv2KZq6bjepc/rOekdhLiur+MMt00RhfBv7Z+WYngkaO/hphnBW8Jub+JqgaylkmRv6g7PorwAay/yO/+rt1Pcr+gUWDI+Jegv7iu3HUHbcG/jD5K7Cl0vD+yJRWADEiyPypR7Befua4/wQnMDgyIjj+ATeDNjLquP3u/C9XFApu/qEayHLKyoT/EZWJNee15vxtHHvNoB7M/7HHI/1Wcer+cVUBozp21v5LPUBti0ak/FP9BrdoChj8duuVYLqaXPyAqIY1aSZE/Ru27A3fkkj9GGEPdv1WxP5MP5wyUyqo/5tQWvfLSoj9x/2J+zzGUv77aCG1XL6S/8XzLT+yVmz96kAO9VO+Bv73nWqFEF7w/vDAE52Ljsb8yq9JyrpG2v7H9DFHGf5S/JuqUHrYnjr8g7T9RGnSjvwRB0687K3C//OTuK1KVfT/cuNv3VAajv1eCk1rnq5+/dx6h+h+ytL8wia+L61W6v4hTrkFvcbq//tXUJE0Yw7+Gq1L7w3fGv4Z7FAMgVcE/4MNOw/z4cj8eIaANlV6+v6pk5Xp63sC/1Mo+lzEPrr8rcco9bs3Cv9hCeJYoQ7e/DKRsGg/wlT89hjdaPei1P4HYGq39YJ6/Wb3qMnepsr8OkIamc9Oxv8H+F/c9q5W/Clrgl4Ajp78k3BM5qFzKv7L8QAnFLMm/A2NGBEkNlL/Y2H5Xt8W5v4QvBRdo572/krYOZu0Mo7/jCGJXzBO4P9Uw9RHnMZu/ysrb1GHOoT8MwlJNGb3CP25mBE+oPsU/+ChYuajLzj/s2ryWv7alvzhBo70Ajm+/LKJK1TpDsj+B+m/zvq2Uv4CmKLJilnE/2EFaTMGBoj9tkCyNHmChP8RZg78tD6Y/CErjD6Hlpj/01Pv7j/KnP6a1f7Ozx8Q/PB+vfloFxT9AbbtCTU+3Px5vdPZtN8g/RoeC4Rn4w7/w8Il4Dym7P7Uqc4FZD6U/khD8yN09i7/+e0jBcFDLPx6B5nZnicU/ECmitW4kXr9WfIL1CM2yP8PhNbyXE60/rjPt63iOoL/Q900jH4u3v0LG0lqgjrk/qq4bHMQhoT9j4v7SYN+5P7EbbCTYnpW/9zAvyMlTm7+M1tZ+XFJzPzBIYpOcFaA/0UU6UTYhtD8X7pHn8WjCP9WJQDP5Z5q/bPhVO6SOuj/Unt1cC9uuv6jQQuQNN3k/1kc5L1rMoL9QSxpP0Rm2v8MX8vKCMZ2/Xr1Vj+0Lvr/msp+++nqkP0djeCrVDbc/pgRbFyE0g7/cR1w2p1myv8eoaCL+GrQ/yv4jWcQtzL/UEpyUz5+5vwR4Qcq1zqQ/D1hnOJy7mz+rElnp05WZv/arObXkbMO/XqZQ5AnvwT90xNl7Zz2ivwAKV1sLeYc/yg9lYJUqgz9+rS5awp6CP+f8vMkAXcS/FqBUeaSTgL/8enUstc20P1SwXaugTnq/ENoEpZXoVj9JC/yULk2xP+iTMW5sWGg/rKI4nwj2sz9gO34qoLzAP2xXECNIhX2/iKM0tIFTiT9ZSmRZxqy2Pxynz310iKe/DwIjoB+OmL8kgXCfQV6uP5DhicGd8K0/udFzlxAunj82iJPvp8CkPz0Tx9iA3JC/lJ0Tb2Wegz9qD5X7wZ22PxUDn4+dXZK/GJhBIpSbsz/eiZE9iS6+PxhWl2mWH68/WdwDyJyUzT+s4SEf1trLP5ZqJg8wsoy/gLbrCOuXtT97yhr4aKydP7REy4Ik1M8/KCDgNbswo7+wtacuyMzIP2NIVGKByLM//FsQ1ZIWyj/QoqRmtKu1P8T76CaGj36/Rfsbw6ymvz9DKc4vsPLNP9yZJXgDh6e/dyVRtKkvtD/Q6L3/dGXLPyhgRmJAUs4/ZKv6keQCxz9w7wF0RNa5P9Iy3kZ8+oi/G3ZaFn56zD+4q27OLvu+P1xKI9dAZMs/5Ar7q0W+zD8M5MGVjjazP275YFraBck//M0aDKmap7/B9YX8K6mVPy9Z3V3Z+ZK/ZXy8+PQqtj+EYAzMbJuhP486x8bV1KE/9Y+fYvD6pz/O1EKL6Uy6P7Csz1PqIry/1gzi71zZtD8ezlZcw+qzP570rDiLFLQ/qQsftt/ckT+IewWkVoWiv7SetHsb6qA/poWjhXVpyT/bn3PjIT23PzXvdQVta56/dsHHjzoruT9NnmaS+Zi/P+maO30F6Lw/EHJZcroxjj9Qi1God/C8PzIsBuwsHa8/FVfRzuM9nj+eAw9v9nGtP3zLQWuQ+qE/RgUIe0DjuD8L/Yrzzyy0PytGeFop67k//QH/JIBksD+ZMahzVhKdv/1XUHb/gpY/mGUUh7+ybL/fTf4//ELAP3BIsE364sQ/kvoH9bOCuD9DpHFHhvPEP9SF9PK8uKA/JBn2gc6Gwz+PS1Gz72K3P8TSAM/JbLw/+kaMiVAmgb92TJrxOb6rP32tWCgfr7o/QHCOc42yWz9babwGeIHCPyrlafa+YME/ENxxlMYWsD97AWgxRrCbvwHPmTrtr7w/bpEC5jQGtT96HwhLsgnEP7bSrBdVh6A/9PEyvTxZrT+ZEa1fE8+QP4CfG11rOcI/8HGUF5Ohsj+SknH4v060P9iZWGqVLK0/b6Th4htksD+ykS7mCeTAP85AVoi+W8c/KN/O+TIgo7+IDAsaznC9v7Y2np0ZsrS/5M1t4hhox7+oZUu+Ec6ivxP2FDFWQcW/GnrzYVlwuL/cKgx/kPCzv8689ngnI8G/SGWgN44wyr9iWGJbbUW8v+IvXpCPG8S/vqohPB4mwr/kuMC5VmfFvy6ye7PZ/MG/jHKEe+kur780mO/9CDC6v4T+8Wh4Zby/diOkYwGOxL/Wlo2+vKfJv1pq4zg+XYa/RSs+NDhdsr/smR3+T3Jxv/pnYvkRiJI/AuyG+fsHvb/Fiuf0ExrJvwS4QOzRbb2/qvp+FIeGvL+yytKdRBPOvxqlVB3flM2/pPr1DkfVvD+exis0aIqtv0bBmIgp3bQ/R9svaVDPmb+At5Z54kiHP9o6XiYlGao/GvWQyf9LpT9wBN/CE+2FP4Fp6qFOrKY/mfaLugy2lj/cx5A9idi0P+r5H5AlZro/+vUlxNWirL/gp6+e9Lqov36iedbiwao/xjryOgtdgj9i0GxxrhvPv0fxOqvVYrS/LlnzPsSGrD8FQbL0Vqaev2aDODxAkac/DbiL9Zt1xj8o7PIYyyTFP07r0uoN0cU/ErlKc6xkwj+ncffwQiGxP+wEbjNzE7o/9lc21yqyrD8LcCqNEF+0P5tNCH9lnag/Og0sYSkvnz/m960333LAP3B7CH18LaK/pG1seesxtj+Ob4Q7KVLCPyb6p4O6JpA/EmjUwk1EsL9wSrOuOuJSv86Td94IQMU/QKteXpGHXr8QrR5oaQZbv/Ap41fV166/EfYA47t1wD9iCoe0MBuxP3zDHB7JHME/7myDN59MoD/DhbcxrY6UP3j0DnA8wLE/0hZ4MEbCqT/oAFqexVNiv31eXmoNxZ6/eYB6G1atl79NVRbQp621vywx/p1XH6Y/PCpWU1frqz8LuKELLPLCPz+HB8j+pbE/LohSpvg8qj8KVnK2jUOiP7srr7z5J5+/LrGMLiV/oL8ALgaqn4gGP4uHBxN0FKM/B9fFABJjqD9yFlaPo9igv5S6MtjwiKq/I/lBjXdimT8CAv3mWP+8vxqJa0Fxr7C/WmaJdyB0tL8OOWxdRvSMvymuTPsdD5c/zgnUyQrTjL8kkEC+Tpp9v1/Dibes7JK/Hs0CoJVLrD9Ib7kNO5+tv3aAnGMxQKE/50rXSOoIkr9hsvWwfvmyv+SSkycR4ZI/nF1hJufTd7+WSIxwFMG0vweNSDTGVLe/5FnE6bYYsr8I0tuLR9utP7CegGktmnE/eCvpe1SZub9DkfiDn2+Qv8j3hm8lnqE/2hwMez27pj8tPQ+MS+65P/QBdpV8rr0/eYJqWiHhlb8SgcnPRNekP5z0fQ08DnK/iGrjrGaSvD+F4hyHfX28P9aRNxbKncE/7MVls8xQqz/g4AcwAGFIv1A3v8jE3MI/mDd7d1zavD+DHf0T3ROVP2Yi4NstbMA/oBEd0/iEyz9FuBlUp/HSPwVBNSBjj5o/GUVrZ2EiyD+MKhyM/fG2P9I6sSAizK8/WPjE3AdvvT9Q+d5lko6QP0AsIoajTrg/WLv9/syvoD+kC6LRVO+1P7+RZ3s3wsE/1r0PCQ3Hqj8SWenqw6+9vzjjCjk32KS/cN7TznPTqj+n4Z7wUFOiP/Tejv/HJ5M/krjT5DapsL92jLAhCFK0v6iOYIpssrM/GqajqxgesT9AXRh1NR2+v1IFTxRxYKS/kDkUJnw2nz9snNUtGEO5vwBG5wODLh+/xdbEaJnksT+SmGWDoNeBvzxhX/+Yla0/wZZ+Mv+Gmr/5HmhtSuSyP1q51zQFm88/I6eG80Hcpj/c+W4vRcp3P5sqsWVWW7I/uFLSbvRAcb8Eq07zIRy/P2grAXCvdW8/O5CUE+txpz+MHDjpJmarP4Q9+1btlH0/xnBDICU0pL98tcdvSQy9Px2ATLF3c7Y/pHJ+VlyB0D+jh7kCDQfGP4+D38NBXrc/v3+tleYhxD8M4x9opyHEPzJYApytbMM/F9EaYR4C0T/4b5+RDUPFP8AN0SGyS6s/Q8uMWWfBxD+PHL/IIKTCP1NqtwGWWcI/Lvj/UzMewz9O3yfnLzrRPwNnxWcJPNA/Jr1seG80zT+FMATPnwudP6M3tnFE4cY/3HqFY/x7yT+8xflULaPPPzibR2ud18g/1AuWp7+Qyz8vCBGhA7fKPwWtGdX+6MA/gH3Lcsnvyz/JK9U5bZ7AP544TekHjcA/zcNNOcwKyT9kc3YmE1O+P/3qW3A+W8M/X17qW1JJyT8wAyrkfcfLP+/vuxYxN9I/UqEWtitAvz9Qn798g1zIP8hfTbZ7vco/uBMdOjvo0z9D/wtFlVu6P/cXz0v8/sk/mVsz9dkRzj+prSGsEEu8P6dGKHhl0cQ/h8dhps5CtT9wAZDJ80LNP6WGl6Yy3MU/uFWH8BUSvz8MgjEiVF3KPySIEGWWHrY/vVmlM5Sd0j/WkDA5Wtesv/7NWp7NjcM/ZIEG+r0mwD9h31NrE8DBP0lrW5Cu28g/HhlkrCf0tD9oCTUDE5DEPykNvNENSME/oiMIBWJrvj/4ivM2xsFjP6hi6n6LsW0/ti4Oym4xwb8mfk6fl6G3v3TkCNO4nLS/YJ1xfXdysb8mI3eRsNq9v1z3ecNBE8G/GSqZP+I1tb9bp1YjBSvAv/Y0XPiDosK/no93Teq2wr+4VwHi8HO5v8OxYaKTfLG/iKXBws8/vL/urY3hL9rDvwhVEezngMG/0kGYb0T4vb+mtCbKk0Csv6AL9FaGza+/sBs69W9mwb8NPBg98CySP1q1nRCRDKK/sL2psVOey78wXBtQRo2QP/bGkILyILi/5oFYITCht7/yxr9eEeKxvyztASnv3KO/Yx8DTOEus7/XDBossqS4v4IN2pdJb8W/ADBwKENez7970hPBml3Qv7pSRO5GptC/6iXNe2nazL/Jh6w1QeLRv+t//4/Qb9G/mgNCwuWxzL9AYdT46S3Lv9wQFjut7bm/2/azPg220L8Y7xgD9KHAv82+Ftksn9C/7B1/lwitwb8W3cwm2xfEv+4RIwUNP86/FszJjiGkx7+OkmfjXGawv/y6KX5KuM2/tJN/A/Xuzr9MgeZXBwSlv0r1cMVKDcu/7azI3+0Pyr/8PPbTDVe9vy7UG+xvAsC/HhnFq+fsxL8eRNKZ117Iv+tjNbPlLsK/Yr83Kal0x7+BdKumiS7Av2hFDxSyqa+/iAtGDrjeub+ceBrl/9q+vzjOAas8mLS/87YAHkHHwb/WNDOlISHBv3b6Xg42XcC/7gzdK9y/vL/LdE/hcFHEvzAyrqQCOcO/LFgyjJRGwb9i/okZcMPHv81fP78wibK/zqAQK5AZw7/Kxbh1MODDv0g2VQcRd6a/2DIq9AHwrL/0/sgTIjqjv+Cm8jwVjse/3LrtRSbTvb9WvPOwX+S5v4S9vFZWO8C/Xm5J2si4wb9oOjC0skC3vzjc+hu6f86/c0Sva9pG0r/g3f31a1/Mv3BT4NrJec+/l2pdHpvb0L8ss5iGoXbAv7xZ00TgtdC/agHT/RQPzL/ur2Xf66nRv8nU6XNTBdG/mn5R/8dJ0b/MaJ+U3y3Nv8hfAWK/Zsu/2orVW96o0b+/MTn+IsLGv8M8sCcXp9O/crkGgUJbzr8SlmXWo6jBv1kMY1JfT9W/1MsP1XHYxb8VhxPCiaDRvz2wWzFCVdG/HgkfpGxmxb+KcdSt9kPJv/hs9yOjd7+/dElPPGjfwr/bzs5s2ZfTv/rpMGqFyL+/h61xDsrd0b+F1VqF9bTQvxGROF9lJMa/HOr73RNTwb/SwSQ5bUy2v2N/1cAIC8O/0t3YhQCGub++Av45f7arv2oQIKgzequ/6mP40sb9ib9uDPr8TbWDv5K9ZCEIArO/2oyzRStru7/A7Zi9UXy9v/725uD99cO/7q2nQOoPsr/iIEIcoymyvwj5XcVSVrm/yBnLCW3dvr/lwuRpjqG0v/6YBAcmosK/QHSlSbSdp79UIpaRnVqrv3ZNis0/AIy/WtxTnlRypT+xsOHIdHPBv+hI3arChbm/HZDUVDo/uL9WhbEf3aTHvyr6xPhLF8C/GlSEa4K8iL/0lAEyXNCuv7TLi47pzr+/zDAgrqDecr8I2iQnlVezvyjnORmlG8K/wFqWIeSWub9GysPNp8iMvxajarSPzby/6DhtxTrovr9jkrBZH2i4v3J1hekRYra/4BCZsnW2qr9JInFLxrmTvzymEjB2lqa/OnrjNLQUw79KdIyNdgC5v0xh9tp8E7q/7sNzU+jst78izUULuR3Bv3QrZHRfp7q/VIlCCCCMsb+sCKh2aU27v/jCgeLXyLq/7HklDO7Cur/Ee0Z7CEyyvyjZJFw4vbe/YNnYSYa7pr/EHumoC6O6v9UyEGC9SrS/vop3S2BUo7+PylHSuMmYv/fttLG/39C/dxW9XUhV0L/J5odqZrrQv4qBAuWfzc+/dkIk7Nkqyr87QQVwiT/Sv/U9twxSmbe/tZaJ0e/+1L8nqnZWeznVvw77rGkSece/nucqIp53xr96NKA0c3LGv+VcMrjt4dG/oPKngldoyb/hM68rqcfUvyHLdhlER8S/4A+kjXuz179FXyq6B1XEv1zA9LHERcG/5unJNOlqyL9uAEs7yB/Qv6rHKvd6i82/wYwUZjF01b9Qafx/oDXKv60Ghc50cdi/MI1xfo9Wzr+Tv34aY6HTv6Ux7n2joNS/KHCiBdbK1b96Zp1IljWWP0iCrM2n5aM/cO3r24N3rb/ENHGMlvmyvygdN8zMcbO/zHU3V16Gur+coJQXUlC+v6MY7ortTMC/MWiUmt0hn79Cxzmj3Fixv6wPhxukc32/iryqk9jwrL9MNBEX1GHBv6KOI3kZgY2/YMWsnNfMqr+EFNchc9e5v+SfTt3D43K/o7z4GUavkr+MWH9WKoLKv5zmlaXpbau/+CuIgDhhqr+euhk2FFCFv4bEr5j5Hbm/tLCzJyE/ob+YPsubTOymvxIPIZCkwLe/hxk17NdSmb86Snu+ZdKyv+ho96OGSag/C19XGaukkL97PdYYnpO5P/Z4z/uUFL0/3FQRxd7psT+x70zdw+GSPzbP3WEzJ6Y/3FDm6cxDyj/G8WYE0a2JP6Fvjnq2q8g/pNpJTY7XxD8rSV2XRr6yP2IZgK7AlcM/8FcBOuu9aT/GToMz/VasP2CjqyIgr7k/7TaMnqDasj/T65oQPgbCP9YUtB3cP7Y/f/KTprqHiD/UFPRoXci/P3LgRenPb7g/GxA/x6gSwT981mXFIi25P/nS8BrZqcI/noSBBSLiwz9uUkOJsNfCPziHYVYB3rU/F23wB3s4wz8v2S3/lHLVP3TkdCbvK8E/fSnW/ZpwwT+QgjiX7zCZPwl85MqY3b0/mE67bq1YZT9TRa9wQBKbPyy8Xrf5xq6/W13WiGOzuj9icbrZfDu+P0S2IWcbmsQ/UbCOYDo+uT9HZ349ZWa7P4AY/e6Oabc/da5Z8S3wxT/7jGSzryK1PxAVkAarEMM/23a8/PCJzT9GQLQNNCW0P3C3VG2l/so/LI692v900j9c6wAyp7WpPz+E00DAtKk/7nPr/IZAs79dn7AwGKe5P4gVe+8Docg/eu31dWPFi7+6/kexbJS2PyOvKRGt8LG/SFiXpC7pvD9TizEXwcSxP6R8urlrcnc/RmbvJ7ROyD//If3JvKS2P+QPtUaRS9I/WKRxwUzEsz+GS6VeoG+ZP648i3Kx7cU/Sp6wBRQtxT93nBKQm7izP1YMCzd2m7k/MtOSTkLGxD/Mz+/0kzGuv4QI+/DIMas/NJOyEiC6tz8kIMfu7eeaP1wRFqtxfLY/ddyVC9honz9Qq4//RWCoP0/WrjITI52/ytqUNuSCoL+2Lb1gFd+pP9ImoaA017U/9oK+hrVvwz8wNCUGRb7FP2X5AGIixZg/ToDrMFfNwj/RHed6lQ2sPyVsGY8kcbE/WmDCWavFxD/IZhjQdwjEPxB1JffVKWO/RysaF8EXuT+/d2mIV9nBP3oltrCT+6M/nMFFgs0tuz+qgUDg9BHEPxoN3sGr3cU/tt/1HZJnqz/Lg/5IaHWrP3pcnBrun7s/SmztUuvDhL/k9u+a2Hi8P6q/aripB5U/LEnvU1/lxD/mmwYlgbewP6AU5sUL2rc/mpnxihe/sr+018J83rCXP/yneyE+BcM/cqnZUh4Dhr/qk4GqWMjLPxLKW/S0GaU/+k6OJdkqpj/5y5ILoxfEPxYuGKZ4H6M/84SMalMgvz+2S3rjRzKxv2C+Fl//Fo8/XaELDaLMvD+inTFnBTOdP8DnUMXhrDG/ibOMKlIWjT/w/5DWMWPLP2ZggBHcg7Q/dEqkJddCzT84HBYCY83DP91B+94JDLA/zkqwSivm0z/rmo2YiY2kP6BQ5gQpAbI/eD7LGyduvD+65iEDUbjLP1s6CKUn18M/9MvqLomQzT/txaYIBzOWP/IWKMfH56I/eISYyViFsD/6F2znCLnJP51whAQljMA/uu5DhLs9zz/NT2Ib1vfHP+7VXipuFsA/+VghALU0xT8EfRMWXTGVP6Sjyl4tGMY/aeTZ28OMwD/o3a3f9NLHP6BzU1eAE8Y/sdicIMvHsT/du/ea6hOjP8nn1gHaR74/zhN+93dOwj/QiTzQJ/+9P34Zj7rKV6k/5sv0OyGfvz8AVDfdPMa5P60w2WkQP8I/wB741CPqp7/ukwkv/5ysP57yVfgqurY/6wAz1oQIwz8tPHhiRFjCP4k829dUp8E/FpAAzpcswT9XJxDd2balP9zSu7CFspY/gmj1kHWewD9/4c5lbEKxP3bgSsgzl8M/urZdikFNpj9YWQzpzuu9P5WR5RA4IsU/qfe4Cw2pwj/QocoPMF1eP1D10/p0Lak/PqTEH4lRzT++Q3Rcv1ymv3YoFXcTsbQ/4WaGGvuAvT+GIwWPHp22P8SYQPGOTYQ/KBOhmEJtqD9rwKWqigK+P6pGKe2FBaW/wjjehyFvxz/yqUKriWG/P3UAVwMaSbI/rq8uUF3SzT85h3ivNR6aP3wVodcbCsg/pFjfKcbLsz+0OztEbfLCPxcKI+K4Qco/KXE9tYPyzj+cuBWmYJvCP9eRwSyREsE/3idLNuQHvz8xduGTC1exP5IUqLIVV7k/SCDVnwCgmT/Ybh8LBGi3P/qypyUZXMs/vmFcy349zj82TXlY7Rm4PxqIDDP5icI/e7yCBvlZ0z9szYJZ0enFP3SISiGyVc8/Oeidllkntj+na3ciV/jHP2FE6QF/7pA/GAnpgd28uj9NDAnQmwecv4r4nAAUtrW/92vwBNYJlr//sld0Ik2fv4wj8DVJua2/zVSb3TU0nL/cTM8q0KW4vx7XD5RImaa/N0XPfsg9lb/yQ3Izly+xP+eXxXVy65o/PEQeUrdSpr9AJQUD5G5Ev1Y+deapyLG/BPsnzjmMuL9gL/Ds0CSrv1UMJXhQ+5m/tHyEeVP1vr99krHnK+KiP0JrxOJWubC/QMflZ+SxrL/wuW751lxQv1mwcaQzWLC/sPyK95FSsj/w79jyl7elv7A6W+ZRJa2/6tDe13tHo7/4a7ida2Osv8gOcfwq7ai/QUWoS9Xsmb8=",
          "dtype": "f8"
         },
         "yaxis": "y"
        }
       ],
       "layout": {
        "coloraxis": {
         "colorbar": {
          "title": {
           "text": "color"
          }
         },
         "colorscale": [
          [
           0,
           "#0d0887"
          ],
          [
           0.1111111111111111,
           "#46039f"
          ],
          [
           0.2222222222222222,
           "#7201a8"
          ],
          [
           0.3333333333333333,
           "#9c179e"
          ],
          [
           0.4444444444444444,
           "#bd3786"
          ],
          [
           0.5555555555555556,
           "#d8576b"
          ],
          [
           0.6666666666666666,
           "#ed7953"
          ],
          [
           0.7777777777777778,
           "#fb9f3a"
          ],
          [
           0.8888888888888888,
           "#fdca26"
          ],
          [
           1,
           "#f0f921"
          ]
         ]
        },
        "legend": {
         "tracegroupgap": 0
        },
        "margin": {
         "t": 60
        },
        "template": {
         "data": {
          "bar": [
           {
            "error_x": {
             "color": "#2a3f5f"
            },
            "error_y": {
             "color": "#2a3f5f"
            },
            "marker": {
             "line": {
              "color": "#E5ECF6",
              "width": 0.5
             },
             "pattern": {
              "fillmode": "overlay",
              "size": 10,
              "solidity": 0.2
             }
            },
            "type": "bar"
           }
          ],
          "barpolar": [
           {
            "marker": {
             "line": {
              "color": "#E5ECF6",
              "width": 0.5
             },
             "pattern": {
              "fillmode": "overlay",
              "size": 10,
              "solidity": 0.2
             }
            },
            "type": "barpolar"
           }
          ],
          "carpet": [
           {
            "aaxis": {
             "endlinecolor": "#2a3f5f",
             "gridcolor": "white",
             "linecolor": "white",
             "minorgridcolor": "white",
             "startlinecolor": "#2a3f5f"
            },
            "baxis": {
             "endlinecolor": "#2a3f5f",
             "gridcolor": "white",
             "linecolor": "white",
             "minorgridcolor": "white",
             "startlinecolor": "#2a3f5f"
            },
            "type": "carpet"
           }
          ],
          "choropleth": [
           {
            "colorbar": {
             "outlinewidth": 0,
             "ticks": ""
            },
            "type": "choropleth"
           }
          ],
          "contour": [
           {
            "colorbar": {
             "outlinewidth": 0,
             "ticks": ""
            },
            "colorscale": [
             [
              0,
              "#0d0887"
             ],
             [
              0.1111111111111111,
              "#46039f"
             ],
             [
              0.2222222222222222,
              "#7201a8"
             ],
             [
              0.3333333333333333,
              "#9c179e"
             ],
             [
              0.4444444444444444,
              "#bd3786"
             ],
             [
              0.5555555555555556,
              "#d8576b"
             ],
             [
              0.6666666666666666,
              "#ed7953"
             ],
             [
              0.7777777777777778,
              "#fb9f3a"
             ],
             [
              0.8888888888888888,
              "#fdca26"
             ],
             [
              1,
              "#f0f921"
             ]
            ],
            "type": "contour"
           }
          ],
          "contourcarpet": [
           {
            "colorbar": {
             "outlinewidth": 0,
             "ticks": ""
            },
            "type": "contourcarpet"
           }
          ],
          "heatmap": [
           {
            "colorbar": {
             "outlinewidth": 0,
             "ticks": ""
            },
            "colorscale": [
             [
              0,
              "#0d0887"
             ],
             [
              0.1111111111111111,
              "#46039f"
             ],
             [
              0.2222222222222222,
              "#7201a8"
             ],
             [
              0.3333333333333333,
              "#9c179e"
             ],
             [
              0.4444444444444444,
              "#bd3786"
             ],
             [
              0.5555555555555556,
              "#d8576b"
             ],
             [
              0.6666666666666666,
              "#ed7953"
             ],
             [
              0.7777777777777778,
              "#fb9f3a"
             ],
             [
              0.8888888888888888,
              "#fdca26"
             ],
             [
              1,
              "#f0f921"
             ]
            ],
            "type": "heatmap"
           }
          ],
          "histogram": [
           {
            "marker": {
             "pattern": {
              "fillmode": "overlay",
              "size": 10,
              "solidity": 0.2
             }
            },
            "type": "histogram"
           }
          ],
          "histogram2d": [
           {
            "colorbar": {
             "outlinewidth": 0,
             "ticks": ""
            },
            "colorscale": [
             [
              0,
              "#0d0887"
             ],
             [
              0.1111111111111111,
              "#46039f"
             ],
             [
              0.2222222222222222,
              "#7201a8"
             ],
             [
              0.3333333333333333,
              "#9c179e"
             ],
             [
              0.4444444444444444,
              "#bd3786"
             ],
             [
              0.5555555555555556,
              "#d8576b"
             ],
             [
              0.6666666666666666,
              "#ed7953"
             ],
             [
              0.7777777777777778,
              "#fb9f3a"
             ],
             [
              0.8888888888888888,
              "#fdca26"
             ],
             [
              1,
              "#f0f921"
             ]
            ],
            "type": "histogram2d"
           }
          ],
          "histogram2dcontour": [
           {
            "colorbar": {
             "outlinewidth": 0,
             "ticks": ""
            },
            "colorscale": [
             [
              0,
              "#0d0887"
             ],
             [
              0.1111111111111111,
              "#46039f"
             ],
             [
              0.2222222222222222,
              "#7201a8"
             ],
             [
              0.3333333333333333,
              "#9c179e"
             ],
             [
              0.4444444444444444,
              "#bd3786"
             ],
             [
              0.5555555555555556,
              "#d8576b"
             ],
             [
              0.6666666666666666,
              "#ed7953"
             ],
             [
              0.7777777777777778,
              "#fb9f3a"
             ],
             [
              0.8888888888888888,
              "#fdca26"
             ],
             [
              1,
              "#f0f921"
             ]
            ],
            "type": "histogram2dcontour"
           }
          ],
          "mesh3d": [
           {
            "colorbar": {
             "outlinewidth": 0,
             "ticks": ""
            },
            "type": "mesh3d"
           }
          ],
          "parcoords": [
           {
            "line": {
             "colorbar": {
              "outlinewidth": 0,
              "ticks": ""
             }
            },
            "type": "parcoords"
           }
          ],
          "pie": [
           {
            "automargin": true,
            "type": "pie"
           }
          ],
          "scatter": [
           {
            "fillpattern": {
             "fillmode": "overlay",
             "size": 10,
             "solidity": 0.2
            },
            "type": "scatter"
           }
          ],
          "scatter3d": [
           {
            "line": {
             "colorbar": {
              "outlinewidth": 0,
              "ticks": ""
             }
            },
            "marker": {
             "colorbar": {
              "outlinewidth": 0,
              "ticks": ""
             }
            },
            "type": "scatter3d"
           }
          ],
          "scattercarpet": [
           {
            "marker": {
             "colorbar": {
              "outlinewidth": 0,
              "ticks": ""
             }
            },
            "type": "scattercarpet"
           }
          ],
          "scattergeo": [
           {
            "marker": {
             "colorbar": {
              "outlinewidth": 0,
              "ticks": ""
             }
            },
            "type": "scattergeo"
           }
          ],
          "scattergl": [
           {
            "marker": {
             "colorbar": {
              "outlinewidth": 0,
              "ticks": ""
             }
            },
            "type": "scattergl"
           }
          ],
          "scattermap": [
           {
            "marker": {
             "colorbar": {
              "outlinewidth": 0,
              "ticks": ""
             }
            },
            "type": "scattermap"
           }
          ],
          "scattermapbox": [
           {
            "marker": {
             "colorbar": {
              "outlinewidth": 0,
              "ticks": ""
             }
            },
            "type": "scattermapbox"
           }
          ],
          "scatterpolar": [
           {
            "marker": {
             "colorbar": {
              "outlinewidth": 0,
              "ticks": ""
             }
            },
            "type": "scatterpolar"
           }
          ],
          "scatterpolargl": [
           {
            "marker": {
             "colorbar": {
              "outlinewidth": 0,
              "ticks": ""
             }
            },
            "type": "scatterpolargl"
           }
          ],
          "scatterternary": [
           {
            "marker": {
             "colorbar": {
              "outlinewidth": 0,
              "ticks": ""
             }
            },
            "type": "scatterternary"
           }
          ],
          "surface": [
           {
            "colorbar": {
             "outlinewidth": 0,
             "ticks": ""
            },
            "colorscale": [
             [
              0,
              "#0d0887"
             ],
             [
              0.1111111111111111,
              "#46039f"
             ],
             [
              0.2222222222222222,
              "#7201a8"
             ],
             [
              0.3333333333333333,
              "#9c179e"
             ],
             [
              0.4444444444444444,
              "#bd3786"
             ],
             [
              0.5555555555555556,
              "#d8576b"
             ],
             [
              0.6666666666666666,
              "#ed7953"
             ],
             [
              0.7777777777777778,
              "#fb9f3a"
             ],
             [
              0.8888888888888888,
              "#fdca26"
             ],
             [
              1,
              "#f0f921"
             ]
            ],
            "type": "surface"
           }
          ],
          "table": [
           {
            "cells": {
             "fill": {
              "color": "#EBF0F8"
             },
             "line": {
              "color": "white"
             }
            },
            "header": {
             "fill": {
              "color": "#C8D4E3"
             },
             "line": {
              "color": "white"
             }
            },
            "type": "table"
           }
          ]
         },
         "layout": {
          "annotationdefaults": {
           "arrowcolor": "#2a3f5f",
           "arrowhead": 0,
           "arrowwidth": 1
          },
          "autotypenumbers": "strict",
          "coloraxis": {
           "colorbar": {
            "outlinewidth": 0,
            "ticks": ""
           }
          },
          "colorscale": {
           "diverging": [
            [
             0,
             "#8e0152"
            ],
            [
             0.1,
             "#c51b7d"
            ],
            [
             0.2,
             "#de77ae"
            ],
            [
             0.3,
             "#f1b6da"
            ],
            [
             0.4,
             "#fde0ef"
            ],
            [
             0.5,
             "#f7f7f7"
            ],
            [
             0.6,
             "#e6f5d0"
            ],
            [
             0.7,
             "#b8e186"
            ],
            [
             0.8,
             "#7fbc41"
            ],
            [
             0.9,
             "#4d9221"
            ],
            [
             1,
             "#276419"
            ]
           ],
           "sequential": [
            [
             0,
             "#0d0887"
            ],
            [
             0.1111111111111111,
             "#46039f"
            ],
            [
             0.2222222222222222,
             "#7201a8"
            ],
            [
             0.3333333333333333,
             "#9c179e"
            ],
            [
             0.4444444444444444,
             "#bd3786"
            ],
            [
             0.5555555555555556,
             "#d8576b"
            ],
            [
             0.6666666666666666,
             "#ed7953"
            ],
            [
             0.7777777777777778,
             "#fb9f3a"
            ],
            [
             0.8888888888888888,
             "#fdca26"
            ],
            [
             1,
             "#f0f921"
            ]
           ],
           "sequentialminus": [
            [
             0,
             "#0d0887"
            ],
            [
             0.1111111111111111,
             "#46039f"
            ],
            [
             0.2222222222222222,
             "#7201a8"
            ],
            [
             0.3333333333333333,
             "#9c179e"
            ],
            [
             0.4444444444444444,
             "#bd3786"
            ],
            [
             0.5555555555555556,
             "#d8576b"
            ],
            [
             0.6666666666666666,
             "#ed7953"
            ],
            [
             0.7777777777777778,
             "#fb9f3a"
            ],
            [
             0.8888888888888888,
             "#fdca26"
            ],
            [
             1,
             "#f0f921"
            ]
           ]
          },
          "colorway": [
           "#636efa",
           "#EF553B",
           "#00cc96",
           "#ab63fa",
           "#FFA15A",
           "#19d3f3",
           "#FF6692",
           "#B6E880",
           "#FF97FF",
           "#FECB52"
          ],
          "font": {
           "color": "#2a3f5f"
          },
          "geo": {
           "bgcolor": "white",
           "lakecolor": "white",
           "landcolor": "#E5ECF6",
           "showlakes": true,
           "showland": true,
           "subunitcolor": "white"
          },
          "hoverlabel": {
           "align": "left"
          },
          "hovermode": "closest",
          "mapbox": {
           "style": "light"
          },
          "paper_bgcolor": "white",
          "plot_bgcolor": "#E5ECF6",
          "polar": {
           "angularaxis": {
            "gridcolor": "white",
            "linecolor": "white",
            "ticks": ""
           },
           "bgcolor": "#E5ECF6",
           "radialaxis": {
            "gridcolor": "white",
            "linecolor": "white",
            "ticks": ""
           }
          },
          "scene": {
           "xaxis": {
            "backgroundcolor": "#E5ECF6",
            "gridcolor": "white",
            "gridwidth": 2,
            "linecolor": "white",
            "showbackground": true,
            "ticks": "",
            "zerolinecolor": "white"
           },
           "yaxis": {
            "backgroundcolor": "#E5ECF6",
            "gridcolor": "white",
            "gridwidth": 2,
            "linecolor": "white",
            "showbackground": true,
            "ticks": "",
            "zerolinecolor": "white"
           },
           "zaxis": {
            "backgroundcolor": "#E5ECF6",
            "gridcolor": "white",
            "gridwidth": 2,
            "linecolor": "white",
            "showbackground": true,
            "ticks": "",
            "zerolinecolor": "white"
           }
          },
          "shapedefaults": {
           "line": {
            "color": "#2a3f5f"
           }
          },
          "ternary": {
           "aaxis": {
            "gridcolor": "white",
            "linecolor": "white",
            "ticks": ""
           },
           "baxis": {
            "gridcolor": "white",
            "linecolor": "white",
            "ticks": ""
           },
           "bgcolor": "#E5ECF6",
           "caxis": {
            "gridcolor": "white",
            "linecolor": "white",
            "ticks": ""
           }
          },
          "title": {
           "x": 0.05
          },
          "xaxis": {
           "automargin": true,
           "gridcolor": "white",
           "linecolor": "white",
           "ticks": "",
           "title": {
            "standoff": 15
           },
           "zerolinecolor": "white",
           "zerolinewidth": 2
          },
          "yaxis": {
           "automargin": true,
           "gridcolor": "white",
           "linecolor": "white",
           "ticks": "",
           "title": {
            "standoff": 15
           },
           "zerolinecolor": "white",
           "zerolinewidth": 2
          }
         }
        },
        "title": {
         "text": "PCA visualization of Custom Classification dataset"
        },
        "xaxis": {
         "anchor": "y",
         "domain": [
          0,
          1
         ],
         "title": {
          "text": "First Principal Component"
         }
        },
        "yaxis": {
         "anchor": "x",
         "domain": [
          0,
          1
         ],
         "title": {
          "text": "Second Principal Component"
         }
        }
       }
      }
     },
     "metadata": {},
     "output_type": "display_data"
    }
   ],
   "source": [
    "# image features PCA\n",
    "colors = list(range(nb_of_colors))\n",
    "shuffled_classes = colors.copy()\n",
    "random.shuffle(shuffled_classes)\n",
    "remap = {old: new for old, new in zip(colors, shuffled_classes)}\n",
    "new_colors = [remap[color] for color in color_list]\n",
    "\n",
    "image_features_pca = image_features_cat\n",
    "pca = PCA(n_components=2)\n",
    "image_pca = pca.fit_transform(image_features_pca.to('cpu'))\n",
    "\n",
    "fig = px.scatter(x=image_pca[:, 0], y=image_pca[:, 1], color=new_colors)\n",
    "fig.update_layout(\n",
    "    title=\"PCA visualization of Custom Classification dataset\",\n",
    "    xaxis_title=\"First Principal Component\",\n",
    "    yaxis_title=\"Second Principal Component\",\n",
    ")\n",
    "fig.show()"
   ]
  },
  {
   "cell_type": "code",
   "execution_count": 14,
   "id": "a93a1dff",
   "metadata": {},
   "outputs": [
    {
     "name": "stderr",
     "output_type": "stream",
     "text": [
      "/usr/local/lib/python3.12/site-packages/sklearn/manifold/_t_sne.py:1164: FutureWarning:\n",
      "\n",
      "'n_iter' was renamed to 'max_iter' in version 1.5 and will be removed in 1.7.\n",
      "\n"
     ]
    },
    {
     "data": {
      "application/vnd.plotly.v1+json": {
       "config": {
        "plotlyServerURL": "https://plot.ly"
       },
       "data": [
        {
         "hovertemplate": "<b>%{hovertext}</b><br><br>x=%{x}<br>y=%{y}<extra></extra>",
         "hovertext": [
          "Black footed Albatross",
          "Laysan Albatross",
          "Sooty Albatross",
          "Groove billed Ani",
          "Crested Auklet",
          "Least Auklet",
          "Parakeet Auklet",
          "Rhinoceros Auklet",
          "Brewer Blackbird",
          "Red winged Blackbird",
          "Rusty Blackbird",
          "Yellow headed Blackbird",
          "Bobolink",
          "Indigo Bunting",
          "Lazuli Bunting",
          "Painted Bunting",
          "Cardinal",
          "Spotted Catbird",
          "Gray Catbird",
          "Yellow breasted Chat",
          "Eastern Towhee",
          "Chuck will Widow",
          "Brandt Cormorant",
          "Red faced Cormorant",
          "Pelagic Cormorant",
          "Bronzed Cowbird",
          "Shiny Cowbird",
          "Brown Creeper",
          "American Crow",
          "Fish Crow",
          "Black billed Cuckoo",
          "Mangrove Cuckoo",
          "Yellow billed Cuckoo",
          "Gray crowned Rosy Finch",
          "Purple Finch",
          "Northern Flicker",
          "Acadian Flycatcher",
          "Great Crested Flycatcher",
          "Least Flycatcher",
          "Olive sided Flycatcher",
          "Scissor tailed Flycatcher",
          "Vermilion Flycatcher",
          "Yellow bellied Flycatcher",
          "Frigatebird",
          "Northern Fulmar",
          "Gadwall",
          "American Goldfinch",
          "European Goldfinch",
          "Boat tailed Grackle",
          "Eared Grebe",
          "Horned Grebe",
          "Pied billed Grebe",
          "Western Grebe",
          "Blue Grosbeak",
          "Evening Grosbeak",
          "Pine Grosbeak",
          "Rose breasted Grosbeak",
          "Pigeon Guillemot",
          "California Gull",
          "Glaucous winged Gull",
          "Heermann Gull",
          "Herring Gull",
          "Ivory Gull",
          "Ring billed Gull",
          "Slaty backed Gull",
          "Western Gull",
          "Anna Hummingbird",
          "Ruby throated Hummingbird",
          "Rufous Hummingbird",
          "Green Violetear",
          "Long tailed Jaeger",
          "Pomarine Jaeger",
          "Blue Jay",
          "Florida Jay",
          "Green Jay",
          "Dark eyed Junco",
          "Tropical Kingbird",
          "Gray Kingbird",
          "Belted Kingfisher",
          "Green Kingfisher",
          "Pied Kingfisher",
          "Ringed Kingfisher",
          "White breasted Kingfisher",
          "Red legged Kittiwake",
          "Horned Lark",
          "Pacific Loon",
          "Mallard",
          "Western Meadowlark",
          "Hooded Merganser",
          "Red breasted Merganser",
          "Mockingbird",
          "Nighthawk",
          "Clark Nutcracker",
          "White breasted Nuthatch",
          "Baltimore Oriole",
          "Hooded Oriole",
          "Orchard Oriole",
          "Scott Oriole",
          "Ovenbird",
          "Brown Pelican",
          "White Pelican",
          "Western Wood Pewee",
          "Sayornis",
          "American Pipit",
          "Whip poor Will",
          "Horned Puffin",
          "Common Raven",
          "White necked Raven",
          "American Redstart",
          "Geococcyx",
          "Loggerhead Shrike",
          "Great Grey Shrike",
          "Baird Sparrow",
          "Black throated Sparrow",
          "Brewer Sparrow",
          "Chipping Sparrow",
          "Clay colored Sparrow",
          "House Sparrow",
          "Field Sparrow",
          "Fox Sparrow",
          "Grasshopper Sparrow",
          "Harris Sparrow",
          "Henslow Sparrow",
          "Le Conte Sparrow",
          "Lincoln Sparrow",
          "Nelson Sharp tailed Sparrow",
          "Savannah Sparrow",
          "Seaside Sparrow",
          "Song Sparrow",
          "Tree Sparrow",
          "Vesper Sparrow",
          "White crowned Sparrow",
          "White throated Sparrow",
          "Cape Glossy Starling",
          "Bank Swallow",
          "Barn Swallow",
          "Cliff Swallow",
          "Tree Swallow",
          "Scarlet Tanager",
          "Summer Tanager",
          "Artic Tern",
          "Black Tern",
          "Caspian Tern",
          "Common Tern",
          "Elegant Tern",
          "Forsters Tern",
          "Least Tern",
          "Green tailed Towhee",
          "Brown Thrasher",
          "Sage Thrasher",
          "Black capped Vireo",
          "Blue headed Vireo",
          "Philadelphia Vireo",
          "Red eyed Vireo",
          "Warbling Vireo",
          "White eyed Vireo",
          "Yellow throated Vireo",
          "Bay breasted Warbler",
          "Black and white Warbler",
          "Black throated Blue Warbler",
          "Blue winged Warbler",
          "Canada Warbler",
          "Cape May Warbler",
          "Cerulean Warbler",
          "Chestnut sided Warbler",
          "Golden winged Warbler",
          "Hooded Warbler",
          "Kentucky Warbler",
          "Magnolia Warbler",
          "Mourning Warbler",
          "Myrtle Warbler",
          "Nashville Warbler",
          "Orange crowned Warbler",
          "Palm Warbler",
          "Pine Warbler",
          "Prairie Warbler",
          "Prothonotary Warbler",
          "Swainson Warbler",
          "Tennessee Warbler",
          "Wilson Warbler",
          "Worm eating Warbler",
          "Yellow Warbler",
          "Northern Waterthrush",
          "Louisiana Waterthrush",
          "Bohemian Waxwing",
          "Cedar Waxwing",
          "American Three toed Woodpecker",
          "Pileated Woodpecker",
          "Red bellied Woodpecker",
          "Red cockaded Woodpecker",
          "Red headed Woodpecker",
          "Downy Woodpecker",
          "Bewick Wren",
          "Cactus Wren",
          "Carolina Wren",
          "House Wren",
          "Marsh Wren",
          "Rock Wren",
          "Winter Wren",
          "Common Yellowthroat"
         ],
         "legendgroup": "",
         "marker": {
          "color": "#636efa",
          "symbol": "circle"
         },
         "mode": "markers",
         "name": "",
         "orientation": "v",
         "showlegend": false,
         "type": "scatter",
         "x": {
          "bdata": "64TawJiI38BRJ+HAaM7iQA80ocCrSpzAzUqXwKM3msD1DfdAPtC8QOJ1ykDS5aZAB5+RQGs7uEBSxb9AJAOkQAJ/EEDf7q1ASg+uQFmMckDpVl8/VFhdwIvT08DozNDAnSvRwEsW2UBBYt1AuzsgQN78AkHxUANBWc1vwFRnccB/63DAfj4iQFh/PkDb3UHAGj6Cv040v7/C7J6/kTiPvze+KMBlAL09bXIav3hAwMBK/v3AdPmIwNNmwj/aw78/0IUDQVXR+cB21fjAPIv5wPYH9cBoJapA1hcaQEjKgkCuKnNA/Aq5wPGiB8HwnQ7B0pUDwSJPEMGP6hnBE7cUwRurCcHk0AXBKe82PxtnQz/Ijj0/35V8vwWOYsC8123AsqgcwUq0HcFUXIC/1dmxP923IsAADSrALZLKwAmO0MC2+bLARtzVwJLdx8BqyxLBj5nGQBRU3MAliofAx6jBQAPuyMCQxMjALnNIwC7vKMDoc8fArIhbwHyvqEAjRKVAJvusQJe6pUD1nNFAIMc2wQ/XM8FVCcO/SmZmwMicrkCPIF3AoBuxwBjGCkGXsRBB1ydbQNHVhsA8kobAuaGEwIq5zT8zy/0/L09CQIbTcUD1I2FAizoWQDYEW0A+ApdAQj6RQCHFPUDONS1Agw5OQHBSLkC2WiJAsYKUQGhzTUAYHlhABEIRQFxXhkBL41FA9E0yQKM/+kBLjhBBKXMPQVOhEUFnGg1BXUTRQDI51kALpBLBB0QLwXD2I8GjBRjBhjIewWD7/MAO5BzBPgJXP8hQykCul8NA8uH0v5Fvy79fIVO/vLqqv9eBlL8v4L2/UQR8vg9edz/IrT8/uhIkQJnhG0A4aPM/qfWuP7ET5zwF4mQ/X5ggQB4FWkAZY/8/cOz2PuwzOkAct1Y/BEKzPzbi9j+qNNE/SiZ0P5U78D9HtIlAiI16P3XBmT/Wa1lAgqAZQJUDI0DPtWdAYOJnQAJJ7cBkuOzAbv53wE06lsA1pmfA6o17wIPNjcCU6XnAIj9CPb1TID+OAbw+EnKoPjk7jb479Ma9N5ZwPepXY0A=",
          "dtype": "f4"
         },
         "xaxis": "x",
         "y": {
          "bdata": "sEU8wFFFXsB3CFjACB7Lv/x6FUBh+wpAi/PfP6koMUBaS3G/4JoawF0o97/y8WPAXPkxwFpbmz8C0sQ/vQlTPzjJQT+MikG/ZVxQv++ky8AqLs0/usR3PpEgwD94wQ9AdiXPP7ZfWL+wcVW/jD8QQSgLz7/+Ice/ytscwOMoCcB+/h/A99y8P2IU6D906A1BrkKOwHDmlsAXqYzAdcpqwDTiocA3SHm+X0CowHUvG72nOIrAnuGOQBOLA8BHxgHAwYQ2vwrJi0C81YxAW4SQQB4EikB47JA/UBP/v2Xe6j/GlD9A20D2PyW0rsBjpqfA8jzBwO9is8DBNqPAO/OrwPhHmcAW4avAt7ywPXqimb1z+bA8LKTivs3K3D8b5eo/fRLqP5M86T/ecOq+2As0QMhwecA4mHDArUDUQKTR40DTD9dAbWLlQLRH40DZ2YDADLIFQYdqXkC43m9AaJ8EQZLgikAOlJJAS0dYwCuhRkB+2hdBQk7jwDtQrsDaArbA14iowK/apsDvZJpA5XyhwPLnosBBmVTAYavxPbll4EC3G0a95khSQKXI8L9+nwvApehDwPVfvL4l6qHASG2ewJQKrUBjYWRA88u4QDl2uEB9Uc1A+PieQM4/s0AoxadAOnXWQChSiEDctL9A8uT5QEYZuED8OtRA46XzQArT1kAAr+hAVXWZQKVq4UCTtphApYCKQBAqd71SqS1AtVMlQKdeMkCekg1AQS2nwJJap8BV5yXAOeoDwP4CS8D/gSzAClMtwDRgBMAFGyLAz4MhQKG3vUA+rcpA+gTnwFUg4sA1PPbAtXL6wPif5sA6PvTAFQ3zwH1En8BcOV7AZvJqwIppg8BZT8fA3r+3wAjKrMDHmITA4ufHwFTInsC8uLLAsg7DwEKPvcD2SoPAIqXXwAASBMHgXvbAO4rhwDBj4cC1WfHArgPBwCv4AME0sP3ApjukwHzD78AWYCy/+XIvv5iPCL/gOgu/wAEFQXpVEUGlBQpBgXECQXFfC0HlOfZAUyYJQbEHGEH5ygNBHSYLQUjEBUFhtRJBCusLQTC+5cA=",
          "dtype": "f4"
         },
         "yaxis": "y"
        }
       ],
       "layout": {
        "legend": {
         "tracegroupgap": 0
        },
        "margin": {
         "t": 60
        },
        "template": {
         "data": {
          "bar": [
           {
            "error_x": {
             "color": "#2a3f5f"
            },
            "error_y": {
             "color": "#2a3f5f"
            },
            "marker": {
             "line": {
              "color": "#E5ECF6",
              "width": 0.5
             },
             "pattern": {
              "fillmode": "overlay",
              "size": 10,
              "solidity": 0.2
             }
            },
            "type": "bar"
           }
          ],
          "barpolar": [
           {
            "marker": {
             "line": {
              "color": "#E5ECF6",
              "width": 0.5
             },
             "pattern": {
              "fillmode": "overlay",
              "size": 10,
              "solidity": 0.2
             }
            },
            "type": "barpolar"
           }
          ],
          "carpet": [
           {
            "aaxis": {
             "endlinecolor": "#2a3f5f",
             "gridcolor": "white",
             "linecolor": "white",
             "minorgridcolor": "white",
             "startlinecolor": "#2a3f5f"
            },
            "baxis": {
             "endlinecolor": "#2a3f5f",
             "gridcolor": "white",
             "linecolor": "white",
             "minorgridcolor": "white",
             "startlinecolor": "#2a3f5f"
            },
            "type": "carpet"
           }
          ],
          "choropleth": [
           {
            "colorbar": {
             "outlinewidth": 0,
             "ticks": ""
            },
            "type": "choropleth"
           }
          ],
          "contour": [
           {
            "colorbar": {
             "outlinewidth": 0,
             "ticks": ""
            },
            "colorscale": [
             [
              0,
              "#0d0887"
             ],
             [
              0.1111111111111111,
              "#46039f"
             ],
             [
              0.2222222222222222,
              "#7201a8"
             ],
             [
              0.3333333333333333,
              "#9c179e"
             ],
             [
              0.4444444444444444,
              "#bd3786"
             ],
             [
              0.5555555555555556,
              "#d8576b"
             ],
             [
              0.6666666666666666,
              "#ed7953"
             ],
             [
              0.7777777777777778,
              "#fb9f3a"
             ],
             [
              0.8888888888888888,
              "#fdca26"
             ],
             [
              1,
              "#f0f921"
             ]
            ],
            "type": "contour"
           }
          ],
          "contourcarpet": [
           {
            "colorbar": {
             "outlinewidth": 0,
             "ticks": ""
            },
            "type": "contourcarpet"
           }
          ],
          "heatmap": [
           {
            "colorbar": {
             "outlinewidth": 0,
             "ticks": ""
            },
            "colorscale": [
             [
              0,
              "#0d0887"
             ],
             [
              0.1111111111111111,
              "#46039f"
             ],
             [
              0.2222222222222222,
              "#7201a8"
             ],
             [
              0.3333333333333333,
              "#9c179e"
             ],
             [
              0.4444444444444444,
              "#bd3786"
             ],
             [
              0.5555555555555556,
              "#d8576b"
             ],
             [
              0.6666666666666666,
              "#ed7953"
             ],
             [
              0.7777777777777778,
              "#fb9f3a"
             ],
             [
              0.8888888888888888,
              "#fdca26"
             ],
             [
              1,
              "#f0f921"
             ]
            ],
            "type": "heatmap"
           }
          ],
          "histogram": [
           {
            "marker": {
             "pattern": {
              "fillmode": "overlay",
              "size": 10,
              "solidity": 0.2
             }
            },
            "type": "histogram"
           }
          ],
          "histogram2d": [
           {
            "colorbar": {
             "outlinewidth": 0,
             "ticks": ""
            },
            "colorscale": [
             [
              0,
              "#0d0887"
             ],
             [
              0.1111111111111111,
              "#46039f"
             ],
             [
              0.2222222222222222,
              "#7201a8"
             ],
             [
              0.3333333333333333,
              "#9c179e"
             ],
             [
              0.4444444444444444,
              "#bd3786"
             ],
             [
              0.5555555555555556,
              "#d8576b"
             ],
             [
              0.6666666666666666,
              "#ed7953"
             ],
             [
              0.7777777777777778,
              "#fb9f3a"
             ],
             [
              0.8888888888888888,
              "#fdca26"
             ],
             [
              1,
              "#f0f921"
             ]
            ],
            "type": "histogram2d"
           }
          ],
          "histogram2dcontour": [
           {
            "colorbar": {
             "outlinewidth": 0,
             "ticks": ""
            },
            "colorscale": [
             [
              0,
              "#0d0887"
             ],
             [
              0.1111111111111111,
              "#46039f"
             ],
             [
              0.2222222222222222,
              "#7201a8"
             ],
             [
              0.3333333333333333,
              "#9c179e"
             ],
             [
              0.4444444444444444,
              "#bd3786"
             ],
             [
              0.5555555555555556,
              "#d8576b"
             ],
             [
              0.6666666666666666,
              "#ed7953"
             ],
             [
              0.7777777777777778,
              "#fb9f3a"
             ],
             [
              0.8888888888888888,
              "#fdca26"
             ],
             [
              1,
              "#f0f921"
             ]
            ],
            "type": "histogram2dcontour"
           }
          ],
          "mesh3d": [
           {
            "colorbar": {
             "outlinewidth": 0,
             "ticks": ""
            },
            "type": "mesh3d"
           }
          ],
          "parcoords": [
           {
            "line": {
             "colorbar": {
              "outlinewidth": 0,
              "ticks": ""
             }
            },
            "type": "parcoords"
           }
          ],
          "pie": [
           {
            "automargin": true,
            "type": "pie"
           }
          ],
          "scatter": [
           {
            "fillpattern": {
             "fillmode": "overlay",
             "size": 10,
             "solidity": 0.2
            },
            "type": "scatter"
           }
          ],
          "scatter3d": [
           {
            "line": {
             "colorbar": {
              "outlinewidth": 0,
              "ticks": ""
             }
            },
            "marker": {
             "colorbar": {
              "outlinewidth": 0,
              "ticks": ""
             }
            },
            "type": "scatter3d"
           }
          ],
          "scattercarpet": [
           {
            "marker": {
             "colorbar": {
              "outlinewidth": 0,
              "ticks": ""
             }
            },
            "type": "scattercarpet"
           }
          ],
          "scattergeo": [
           {
            "marker": {
             "colorbar": {
              "outlinewidth": 0,
              "ticks": ""
             }
            },
            "type": "scattergeo"
           }
          ],
          "scattergl": [
           {
            "marker": {
             "colorbar": {
              "outlinewidth": 0,
              "ticks": ""
             }
            },
            "type": "scattergl"
           }
          ],
          "scattermap": [
           {
            "marker": {
             "colorbar": {
              "outlinewidth": 0,
              "ticks": ""
             }
            },
            "type": "scattermap"
           }
          ],
          "scattermapbox": [
           {
            "marker": {
             "colorbar": {
              "outlinewidth": 0,
              "ticks": ""
             }
            },
            "type": "scattermapbox"
           }
          ],
          "scatterpolar": [
           {
            "marker": {
             "colorbar": {
              "outlinewidth": 0,
              "ticks": ""
             }
            },
            "type": "scatterpolar"
           }
          ],
          "scatterpolargl": [
           {
            "marker": {
             "colorbar": {
              "outlinewidth": 0,
              "ticks": ""
             }
            },
            "type": "scatterpolargl"
           }
          ],
          "scatterternary": [
           {
            "marker": {
             "colorbar": {
              "outlinewidth": 0,
              "ticks": ""
             }
            },
            "type": "scatterternary"
           }
          ],
          "surface": [
           {
            "colorbar": {
             "outlinewidth": 0,
             "ticks": ""
            },
            "colorscale": [
             [
              0,
              "#0d0887"
             ],
             [
              0.1111111111111111,
              "#46039f"
             ],
             [
              0.2222222222222222,
              "#7201a8"
             ],
             [
              0.3333333333333333,
              "#9c179e"
             ],
             [
              0.4444444444444444,
              "#bd3786"
             ],
             [
              0.5555555555555556,
              "#d8576b"
             ],
             [
              0.6666666666666666,
              "#ed7953"
             ],
             [
              0.7777777777777778,
              "#fb9f3a"
             ],
             [
              0.8888888888888888,
              "#fdca26"
             ],
             [
              1,
              "#f0f921"
             ]
            ],
            "type": "surface"
           }
          ],
          "table": [
           {
            "cells": {
             "fill": {
              "color": "#EBF0F8"
             },
             "line": {
              "color": "white"
             }
            },
            "header": {
             "fill": {
              "color": "#C8D4E3"
             },
             "line": {
              "color": "white"
             }
            },
            "type": "table"
           }
          ]
         },
         "layout": {
          "annotationdefaults": {
           "arrowcolor": "#2a3f5f",
           "arrowhead": 0,
           "arrowwidth": 1
          },
          "autotypenumbers": "strict",
          "coloraxis": {
           "colorbar": {
            "outlinewidth": 0,
            "ticks": ""
           }
          },
          "colorscale": {
           "diverging": [
            [
             0,
             "#8e0152"
            ],
            [
             0.1,
             "#c51b7d"
            ],
            [
             0.2,
             "#de77ae"
            ],
            [
             0.3,
             "#f1b6da"
            ],
            [
             0.4,
             "#fde0ef"
            ],
            [
             0.5,
             "#f7f7f7"
            ],
            [
             0.6,
             "#e6f5d0"
            ],
            [
             0.7,
             "#b8e186"
            ],
            [
             0.8,
             "#7fbc41"
            ],
            [
             0.9,
             "#4d9221"
            ],
            [
             1,
             "#276419"
            ]
           ],
           "sequential": [
            [
             0,
             "#0d0887"
            ],
            [
             0.1111111111111111,
             "#46039f"
            ],
            [
             0.2222222222222222,
             "#7201a8"
            ],
            [
             0.3333333333333333,
             "#9c179e"
            ],
            [
             0.4444444444444444,
             "#bd3786"
            ],
            [
             0.5555555555555556,
             "#d8576b"
            ],
            [
             0.6666666666666666,
             "#ed7953"
            ],
            [
             0.7777777777777778,
             "#fb9f3a"
            ],
            [
             0.8888888888888888,
             "#fdca26"
            ],
            [
             1,
             "#f0f921"
            ]
           ],
           "sequentialminus": [
            [
             0,
             "#0d0887"
            ],
            [
             0.1111111111111111,
             "#46039f"
            ],
            [
             0.2222222222222222,
             "#7201a8"
            ],
            [
             0.3333333333333333,
             "#9c179e"
            ],
            [
             0.4444444444444444,
             "#bd3786"
            ],
            [
             0.5555555555555556,
             "#d8576b"
            ],
            [
             0.6666666666666666,
             "#ed7953"
            ],
            [
             0.7777777777777778,
             "#fb9f3a"
            ],
            [
             0.8888888888888888,
             "#fdca26"
            ],
            [
             1,
             "#f0f921"
            ]
           ]
          },
          "colorway": [
           "#636efa",
           "#EF553B",
           "#00cc96",
           "#ab63fa",
           "#FFA15A",
           "#19d3f3",
           "#FF6692",
           "#B6E880",
           "#FF97FF",
           "#FECB52"
          ],
          "font": {
           "color": "#2a3f5f"
          },
          "geo": {
           "bgcolor": "white",
           "lakecolor": "white",
           "landcolor": "#E5ECF6",
           "showlakes": true,
           "showland": true,
           "subunitcolor": "white"
          },
          "hoverlabel": {
           "align": "left"
          },
          "hovermode": "closest",
          "mapbox": {
           "style": "light"
          },
          "paper_bgcolor": "white",
          "plot_bgcolor": "#E5ECF6",
          "polar": {
           "angularaxis": {
            "gridcolor": "white",
            "linecolor": "white",
            "ticks": ""
           },
           "bgcolor": "#E5ECF6",
           "radialaxis": {
            "gridcolor": "white",
            "linecolor": "white",
            "ticks": ""
           }
          },
          "scene": {
           "xaxis": {
            "backgroundcolor": "#E5ECF6",
            "gridcolor": "white",
            "gridwidth": 2,
            "linecolor": "white",
            "showbackground": true,
            "ticks": "",
            "zerolinecolor": "white"
           },
           "yaxis": {
            "backgroundcolor": "#E5ECF6",
            "gridcolor": "white",
            "gridwidth": 2,
            "linecolor": "white",
            "showbackground": true,
            "ticks": "",
            "zerolinecolor": "white"
           },
           "zaxis": {
            "backgroundcolor": "#E5ECF6",
            "gridcolor": "white",
            "gridwidth": 2,
            "linecolor": "white",
            "showbackground": true,
            "ticks": "",
            "zerolinecolor": "white"
           }
          },
          "shapedefaults": {
           "line": {
            "color": "#2a3f5f"
           }
          },
          "ternary": {
           "aaxis": {
            "gridcolor": "white",
            "linecolor": "white",
            "ticks": ""
           },
           "baxis": {
            "gridcolor": "white",
            "linecolor": "white",
            "ticks": ""
           },
           "bgcolor": "#E5ECF6",
           "caxis": {
            "gridcolor": "white",
            "linecolor": "white",
            "ticks": ""
           }
          },
          "title": {
           "x": 0.05
          },
          "xaxis": {
           "automargin": true,
           "gridcolor": "white",
           "linecolor": "white",
           "ticks": "",
           "title": {
            "standoff": 15
           },
           "zerolinecolor": "white",
           "zerolinewidth": 2
          },
          "yaxis": {
           "automargin": true,
           "gridcolor": "white",
           "linecolor": "white",
           "ticks": "",
           "title": {
            "standoff": 15
           },
           "zerolinecolor": "white",
           "zerolinewidth": 2
          }
         }
        },
        "title": {
         "text": "t-SNE class names embeddings"
        },
        "xaxis": {
         "anchor": "y",
         "domain": [
          0,
          1
         ],
         "title": {
          "text": "First Principal Component"
         }
        },
        "yaxis": {
         "anchor": "x",
         "domain": [
          0,
          1
         ],
         "title": {
          "text": "Second Principal Component"
         }
        }
       }
      }
     },
     "metadata": {},
     "output_type": "display_data"
    }
   ],
   "source": [
    "# t-SNE\n",
    "\n",
    "text_features_tsne = text_features\n",
    "tsne = TSNE(n_components=2, verbose=0, perplexity=40, n_iter=300)\n",
    "text_tsne = tsne.fit_transform(text_features_tsne.to('cpu'))\n",
    "\n",
    "fig = px.scatter(x=text_tsne[:, 0], y=text_tsne[:, 1], hover_name=[all_labels[d] for d in catalog][0])\n",
    "fig.update_layout(\n",
    "    title=\"t-SNE class names embeddings\",\n",
    "    xaxis_title=\"First Principal Component\",\n",
    "    yaxis_title=\"Second Principal Component\",\n",
    ")\n",
    "cwd = '/home/onyxia/work/tsne_plot/'\n",
    "path = os.path.join(cwd, 't-SNE class names embeddings.png')\n",
    "fig.write_image(path, format='png', engine='kaleido')\n",
    "fig.show()"
   ]
  },
  {
   "cell_type": "code",
   "execution_count": 15,
   "id": "d051a395",
   "metadata": {},
   "outputs": [
    {
     "name": "stderr",
     "output_type": "stream",
     "text": [
      "/usr/local/lib/python3.12/site-packages/sklearn/manifold/_t_sne.py:1164: FutureWarning:\n",
      "\n",
      "'n_iter' was renamed to 'max_iter' in version 1.5 and will be removed in 1.7.\n",
      "\n"
     ]
    },
    {
     "data": {
      "application/vnd.plotly.v1+json": {
       "config": {
        "plotlyServerURL": "https://plot.ly"
       },
       "data": [
        {
         "hovertemplate": "x=%{x}<br>y=%{y}<br>color=%{marker.color}<extra></extra>",
         "legendgroup": "",
         "marker": {
          "color": {
           "bdata": "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",
           "dtype": "i2"
          },
          "coloraxis": "coloraxis",
          "symbol": "circle"
         },
         "mode": "markers",
         "name": "",
         "showlegend": false,
         "type": "scattergl",
         "x": {
          "bdata": "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",
          "dtype": "f4"
         },
         "xaxis": "x",
         "y": {
          "bdata": "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",
          "dtype": "f4"
         },
         "yaxis": "y"
        }
       ],
       "layout": {
        "coloraxis": {
         "colorbar": {
          "title": {
           "text": "color"
          }
         },
         "colorscale": [
          [
           0,
           "#0d0887"
          ],
          [
           0.1111111111111111,
           "#46039f"
          ],
          [
           0.2222222222222222,
           "#7201a8"
          ],
          [
           0.3333333333333333,
           "#9c179e"
          ],
          [
           0.4444444444444444,
           "#bd3786"
          ],
          [
           0.5555555555555556,
           "#d8576b"
          ],
          [
           0.6666666666666666,
           "#ed7953"
          ],
          [
           0.7777777777777778,
           "#fb9f3a"
          ],
          [
           0.8888888888888888,
           "#fdca26"
          ],
          [
           1,
           "#f0f921"
          ]
         ]
        },
        "legend": {
         "tracegroupgap": 0
        },
        "margin": {
         "t": 60
        },
        "template": {
         "data": {
          "bar": [
           {
            "error_x": {
             "color": "#2a3f5f"
            },
            "error_y": {
             "color": "#2a3f5f"
            },
            "marker": {
             "line": {
              "color": "#E5ECF6",
              "width": 0.5
             },
             "pattern": {
              "fillmode": "overlay",
              "size": 10,
              "solidity": 0.2
             }
            },
            "type": "bar"
           }
          ],
          "barpolar": [
           {
            "marker": {
             "line": {
              "color": "#E5ECF6",
              "width": 0.5
             },
             "pattern": {
              "fillmode": "overlay",
              "size": 10,
              "solidity": 0.2
             }
            },
            "type": "barpolar"
           }
          ],
          "carpet": [
           {
            "aaxis": {
             "endlinecolor": "#2a3f5f",
             "gridcolor": "white",
             "linecolor": "white",
             "minorgridcolor": "white",
             "startlinecolor": "#2a3f5f"
            },
            "baxis": {
             "endlinecolor": "#2a3f5f",
             "gridcolor": "white",
             "linecolor": "white",
             "minorgridcolor": "white",
             "startlinecolor": "#2a3f5f"
            },
            "type": "carpet"
           }
          ],
          "choropleth": [
           {
            "colorbar": {
             "outlinewidth": 0,
             "ticks": ""
            },
            "type": "choropleth"
           }
          ],
          "contour": [
           {
            "colorbar": {
             "outlinewidth": 0,
             "ticks": ""
            },
            "colorscale": [
             [
              0,
              "#0d0887"
             ],
             [
              0.1111111111111111,
              "#46039f"
             ],
             [
              0.2222222222222222,
              "#7201a8"
             ],
             [
              0.3333333333333333,
              "#9c179e"
             ],
             [
              0.4444444444444444,
              "#bd3786"
             ],
             [
              0.5555555555555556,
              "#d8576b"
             ],
             [
              0.6666666666666666,
              "#ed7953"
             ],
             [
              0.7777777777777778,
              "#fb9f3a"
             ],
             [
              0.8888888888888888,
              "#fdca26"
             ],
             [
              1,
              "#f0f921"
             ]
            ],
            "type": "contour"
           }
          ],
          "contourcarpet": [
           {
            "colorbar": {
             "outlinewidth": 0,
             "ticks": ""
            },
            "type": "contourcarpet"
           }
          ],
          "heatmap": [
           {
            "colorbar": {
             "outlinewidth": 0,
             "ticks": ""
            },
            "colorscale": [
             [
              0,
              "#0d0887"
             ],
             [
              0.1111111111111111,
              "#46039f"
             ],
             [
              0.2222222222222222,
              "#7201a8"
             ],
             [
              0.3333333333333333,
              "#9c179e"
             ],
             [
              0.4444444444444444,
              "#bd3786"
             ],
             [
              0.5555555555555556,
              "#d8576b"
             ],
             [
              0.6666666666666666,
              "#ed7953"
             ],
             [
              0.7777777777777778,
              "#fb9f3a"
             ],
             [
              0.8888888888888888,
              "#fdca26"
             ],
             [
              1,
              "#f0f921"
             ]
            ],
            "type": "heatmap"
           }
          ],
          "histogram": [
           {
            "marker": {
             "pattern": {
              "fillmode": "overlay",
              "size": 10,
              "solidity": 0.2
             }
            },
            "type": "histogram"
           }
          ],
          "histogram2d": [
           {
            "colorbar": {
             "outlinewidth": 0,
             "ticks": ""
            },
            "colorscale": [
             [
              0,
              "#0d0887"
             ],
             [
              0.1111111111111111,
              "#46039f"
             ],
             [
              0.2222222222222222,
              "#7201a8"
             ],
             [
              0.3333333333333333,
              "#9c179e"
             ],
             [
              0.4444444444444444,
              "#bd3786"
             ],
             [
              0.5555555555555556,
              "#d8576b"
             ],
             [
              0.6666666666666666,
              "#ed7953"
             ],
             [
              0.7777777777777778,
              "#fb9f3a"
             ],
             [
              0.8888888888888888,
              "#fdca26"
             ],
             [
              1,
              "#f0f921"
             ]
            ],
            "type": "histogram2d"
           }
          ],
          "histogram2dcontour": [
           {
            "colorbar": {
             "outlinewidth": 0,
             "ticks": ""
            },
            "colorscale": [
             [
              0,
              "#0d0887"
             ],
             [
              0.1111111111111111,
              "#46039f"
             ],
             [
              0.2222222222222222,
              "#7201a8"
             ],
             [
              0.3333333333333333,
              "#9c179e"
             ],
             [
              0.4444444444444444,
              "#bd3786"
             ],
             [
              0.5555555555555556,
              "#d8576b"
             ],
             [
              0.6666666666666666,
              "#ed7953"
             ],
             [
              0.7777777777777778,
              "#fb9f3a"
             ],
             [
              0.8888888888888888,
              "#fdca26"
             ],
             [
              1,
              "#f0f921"
             ]
            ],
            "type": "histogram2dcontour"
           }
          ],
          "mesh3d": [
           {
            "colorbar": {
             "outlinewidth": 0,
             "ticks": ""
            },
            "type": "mesh3d"
           }
          ],
          "parcoords": [
           {
            "line": {
             "colorbar": {
              "outlinewidth": 0,
              "ticks": ""
             }
            },
            "type": "parcoords"
           }
          ],
          "pie": [
           {
            "automargin": true,
            "type": "pie"
           }
          ],
          "scatter": [
           {
            "fillpattern": {
             "fillmode": "overlay",
             "size": 10,
             "solidity": 0.2
            },
            "type": "scatter"
           }
          ],
          "scatter3d": [
           {
            "line": {
             "colorbar": {
              "outlinewidth": 0,
              "ticks": ""
             }
            },
            "marker": {
             "colorbar": {
              "outlinewidth": 0,
              "ticks": ""
             }
            },
            "type": "scatter3d"
           }
          ],
          "scattercarpet": [
           {
            "marker": {
             "colorbar": {
              "outlinewidth": 0,
              "ticks": ""
             }
            },
            "type": "scattercarpet"
           }
          ],
          "scattergeo": [
           {
            "marker": {
             "colorbar": {
              "outlinewidth": 0,
              "ticks": ""
             }
            },
            "type": "scattergeo"
           }
          ],
          "scattergl": [
           {
            "marker": {
             "colorbar": {
              "outlinewidth": 0,
              "ticks": ""
             }
            },
            "type": "scattergl"
           }
          ],
          "scattermap": [
           {
            "marker": {
             "colorbar": {
              "outlinewidth": 0,
              "ticks": ""
             }
            },
            "type": "scattermap"
           }
          ],
          "scattermapbox": [
           {
            "marker": {
             "colorbar": {
              "outlinewidth": 0,
              "ticks": ""
             }
            },
            "type": "scattermapbox"
           }
          ],
          "scatterpolar": [
           {
            "marker": {
             "colorbar": {
              "outlinewidth": 0,
              "ticks": ""
             }
            },
            "type": "scatterpolar"
           }
          ],
          "scatterpolargl": [
           {
            "marker": {
             "colorbar": {
              "outlinewidth": 0,
              "ticks": ""
             }
            },
            "type": "scatterpolargl"
           }
          ],
          "scatterternary": [
           {
            "marker": {
             "colorbar": {
              "outlinewidth": 0,
              "ticks": ""
             }
            },
            "type": "scatterternary"
           }
          ],
          "surface": [
           {
            "colorbar": {
             "outlinewidth": 0,
             "ticks": ""
            },
            "colorscale": [
             [
              0,
              "#0d0887"
             ],
             [
              0.1111111111111111,
              "#46039f"
             ],
             [
              0.2222222222222222,
              "#7201a8"
             ],
             [
              0.3333333333333333,
              "#9c179e"
             ],
             [
              0.4444444444444444,
              "#bd3786"
             ],
             [
              0.5555555555555556,
              "#d8576b"
             ],
             [
              0.6666666666666666,
              "#ed7953"
             ],
             [
              0.7777777777777778,
              "#fb9f3a"
             ],
             [
              0.8888888888888888,
              "#fdca26"
             ],
             [
              1,
              "#f0f921"
             ]
            ],
            "type": "surface"
           }
          ],
          "table": [
           {
            "cells": {
             "fill": {
              "color": "#EBF0F8"
             },
             "line": {
              "color": "white"
             }
            },
            "header": {
             "fill": {
              "color": "#C8D4E3"
             },
             "line": {
              "color": "white"
             }
            },
            "type": "table"
           }
          ]
         },
         "layout": {
          "annotationdefaults": {
           "arrowcolor": "#2a3f5f",
           "arrowhead": 0,
           "arrowwidth": 1
          },
          "autotypenumbers": "strict",
          "coloraxis": {
           "colorbar": {
            "outlinewidth": 0,
            "ticks": ""
           }
          },
          "colorscale": {
           "diverging": [
            [
             0,
             "#8e0152"
            ],
            [
             0.1,
             "#c51b7d"
            ],
            [
             0.2,
             "#de77ae"
            ],
            [
             0.3,
             "#f1b6da"
            ],
            [
             0.4,
             "#fde0ef"
            ],
            [
             0.5,
             "#f7f7f7"
            ],
            [
             0.6,
             "#e6f5d0"
            ],
            [
             0.7,
             "#b8e186"
            ],
            [
             0.8,
             "#7fbc41"
            ],
            [
             0.9,
             "#4d9221"
            ],
            [
             1,
             "#276419"
            ]
           ],
           "sequential": [
            [
             0,
             "#0d0887"
            ],
            [
             0.1111111111111111,
             "#46039f"
            ],
            [
             0.2222222222222222,
             "#7201a8"
            ],
            [
             0.3333333333333333,
             "#9c179e"
            ],
            [
             0.4444444444444444,
             "#bd3786"
            ],
            [
             0.5555555555555556,
             "#d8576b"
            ],
            [
             0.6666666666666666,
             "#ed7953"
            ],
            [
             0.7777777777777778,
             "#fb9f3a"
            ],
            [
             0.8888888888888888,
             "#fdca26"
            ],
            [
             1,
             "#f0f921"
            ]
           ],
           "sequentialminus": [
            [
             0,
             "#0d0887"
            ],
            [
             0.1111111111111111,
             "#46039f"
            ],
            [
             0.2222222222222222,
             "#7201a8"
            ],
            [
             0.3333333333333333,
             "#9c179e"
            ],
            [
             0.4444444444444444,
             "#bd3786"
            ],
            [
             0.5555555555555556,
             "#d8576b"
            ],
            [
             0.6666666666666666,
             "#ed7953"
            ],
            [
             0.7777777777777778,
             "#fb9f3a"
            ],
            [
             0.8888888888888888,
             "#fdca26"
            ],
            [
             1,
             "#f0f921"
            ]
           ]
          },
          "colorway": [
           "#636efa",
           "#EF553B",
           "#00cc96",
           "#ab63fa",
           "#FFA15A",
           "#19d3f3",
           "#FF6692",
           "#B6E880",
           "#FF97FF",
           "#FECB52"
          ],
          "font": {
           "color": "#2a3f5f"
          },
          "geo": {
           "bgcolor": "white",
           "lakecolor": "white",
           "landcolor": "#E5ECF6",
           "showlakes": true,
           "showland": true,
           "subunitcolor": "white"
          },
          "hoverlabel": {
           "align": "left"
          },
          "hovermode": "closest",
          "mapbox": {
           "style": "light"
          },
          "paper_bgcolor": "white",
          "plot_bgcolor": "#E5ECF6",
          "polar": {
           "angularaxis": {
            "gridcolor": "white",
            "linecolor": "white",
            "ticks": ""
           },
           "bgcolor": "#E5ECF6",
           "radialaxis": {
            "gridcolor": "white",
            "linecolor": "white",
            "ticks": ""
           }
          },
          "scene": {
           "xaxis": {
            "backgroundcolor": "#E5ECF6",
            "gridcolor": "white",
            "gridwidth": 2,
            "linecolor": "white",
            "showbackground": true,
            "ticks": "",
            "zerolinecolor": "white"
           },
           "yaxis": {
            "backgroundcolor": "#E5ECF6",
            "gridcolor": "white",
            "gridwidth": 2,
            "linecolor": "white",
            "showbackground": true,
            "ticks": "",
            "zerolinecolor": "white"
           },
           "zaxis": {
            "backgroundcolor": "#E5ECF6",
            "gridcolor": "white",
            "gridwidth": 2,
            "linecolor": "white",
            "showbackground": true,
            "ticks": "",
            "zerolinecolor": "white"
           }
          },
          "shapedefaults": {
           "line": {
            "color": "#2a3f5f"
           }
          },
          "ternary": {
           "aaxis": {
            "gridcolor": "white",
            "linecolor": "white",
            "ticks": ""
           },
           "baxis": {
            "gridcolor": "white",
            "linecolor": "white",
            "ticks": ""
           },
           "bgcolor": "#E5ECF6",
           "caxis": {
            "gridcolor": "white",
            "linecolor": "white",
            "ticks": ""
           }
          },
          "title": {
           "x": 0.05
          },
          "xaxis": {
           "automargin": true,
           "gridcolor": "white",
           "linecolor": "white",
           "ticks": "",
           "title": {
            "standoff": 15
           },
           "zerolinecolor": "white",
           "zerolinewidth": 2
          },
          "yaxis": {
           "automargin": true,
           "gridcolor": "white",
           "linecolor": "white",
           "ticks": "",
           "title": {
            "standoff": 15
           },
           "zerolinecolor": "white",
           "zerolinewidth": 2
          }
         }
        },
        "title": {
         "text": "t-SNE of image embeddings"
        },
        "xaxis": {
         "anchor": "y",
         "domain": [
          0,
          1
         ],
         "title": {
          "text": "First Principal Component"
         }
        },
        "yaxis": {
         "anchor": "x",
         "domain": [
          0,
          1
         ],
         "title": {
          "text": "Second Principal Component"
         }
        }
       }
      }
     },
     "metadata": {},
     "output_type": "display_data"
    }
   ],
   "source": [
    "# t-SNE\n",
    "\n",
    "image_features_tsne = image_features_cat\n",
    "tsne = TSNE(n_components=2, verbose=0, perplexity=40, n_iter=300)\n",
    "image_tsne = tsne.fit_transform(image_features_tsne.to('cpu'))\n",
    "\n",
    "fig = px.scatter(x=image_tsne[:, 0], y=image_tsne[:, 1], color=new_colors)\n",
    "fig.update_layout(\n",
    "    title=\"t-SNE of image embeddings\",\n",
    "    xaxis_title=\"First Principal Component\",\n",
    "    yaxis_title=\"Second Principal Component\",\n",
    ")\n",
    "path = os.path.join(cwd, 't-SNE of image embeddings.png')\n",
    "fig.write_image(path, format='png', engine='kaleido')\n",
    "fig.show()"
   ]
  },
  {
   "cell_type": "code",
   "execution_count": 16,
   "id": "cba28b05",
   "metadata": {},
   "outputs": [
    {
     "name": "stdout",
     "output_type": "stream",
     "text": [
      "/home/onyxia/work/DetailCLIP/cluster_vis/139.png\n",
      "/home/onyxia/work/DetailCLIP/cluster_vis/82.png\n",
      "/home/onyxia/work/DetailCLIP/cluster_vis/165.png\n",
      "/home/onyxia/work/DetailCLIP/cluster_vis/50.png\n",
      "/home/onyxia/work/DetailCLIP/cluster_vis/153.png\n",
      "/home/onyxia/work/DetailCLIP/cluster_vis/90.png\n",
      "/home/onyxia/work/DetailCLIP/cluster_vis/43.png\n",
      "/home/onyxia/work/DetailCLIP/cluster_vis/185.png\n",
      "/home/onyxia/work/DetailCLIP/cluster_vis/76.png\n",
      "/home/onyxia/work/DetailCLIP/cluster_vis/148.png\n"
     ]
    }
   ],
   "source": [
    "# Cluster visualisation\n",
    "\n",
    "nb=180\n",
    "bleu = 0\n",
    "\n",
    "nbs = [random.randint(40,200) for _ in range(10)]\n",
    "\n",
    "for nb in nbs:\n",
    "    colors=new_colors.copy()\n",
    "    for i,color in enumerate(colors):\n",
    "        if color!=nb:\n",
    "            colors[i]=bleu\n",
    "\n",
    "    path = f'/home/onyxia/work/DetailCLIP/cluster_vis/{nb}.png'\n",
    "    print(path)\n",
    "    fig = px.scatter(x=image_tsne[:, 0], y=image_tsne[:, 1], color=colors)\n",
    "    #fig.write_image(path, format='png', engine='kaleido')\n",
    "\n"
   ]
  },
  {
   "cell_type": "code",
   "execution_count": 21,
   "id": "59578dcb",
   "metadata": {},
   "outputs": [],
   "source": [
    "# Plot text + image\n",
    "\n",
    "classes=shuffled_classes.copy()\n",
    "colors=new_colors.copy()\n",
    "\n",
    "nbs = [random.randint(1,199) for _ in range(20)]\n",
    "bleu = 0\n",
    "\n",
    "for nb in nbs:\n",
    "    classes = shuffled_classes.copy()\n",
    "    colors = new_colors.copy()  \n",
    "    for i,classe in enumerate(classes):\n",
    "        if classe!=nb:\n",
    "            classes[i] = bleu\n",
    "\n",
    "    for i,color in enumerate(colors):\n",
    "        if color!=nb:\n",
    "            colors[i]=bleu\n",
    "\n",
    "    fig = px.scatter(x=image_tsne[:, 0], y=image_tsne[:, 1], color=colors, opacity=0.6)\n",
    "    fig.add_scatter(x=text_tsne[:, 0], y=text_tsne[:, 1], opacity = 0.7, mode='markers', marker_size=15,     marker=dict(\n",
    "            size=15,\n",
    "            color=classes\n",
    "            ))\n",
    "    fig.data[0].showlegend = False\n",
    "    fig.data[1].showlegend = False\n",
    "\n",
    "    #fig.update_traces(\n",
    "    #    marker=dict(coloraxis='coloraxis'),\n",
    "    #    hovertemplate='Classe : %{marker.color}<extra></extra>'\n",
    "    #)\n",
    "    # Légende manuelle : image embeddings\n",
    "    fig.add_trace(go.Scatter(\n",
    "        x=[None], y=[None],\n",
    "        mode='markers',\n",
    "        marker=dict(size=10, color='blue'),\n",
    "        name='Image embeddings',\n",
    "        showlegend=True,\n",
    "    ))\n",
    "\n",
    "    # Légende manuelle : text embeddings\n",
    "    fig.add_trace(go.Scatter(\n",
    "        x=[None], y=[None],\n",
    "        mode='markers',\n",
    "        marker=dict(size=15, color='blue'),\n",
    "        name='Text embeddings',\n",
    "        showlegend=True,\n",
    "    ))\n",
    "\n",
    "    fig.update_layout(\n",
    "    legend=dict(\n",
    "        title='Types de données',\n",
    "        x=0.01,\n",
    "        y=0.99,\n",
    "        bgcolor='rgba(255,255,255,0.8)',\n",
    "        bordercolor='black',\n",
    "        borderwidth=1\n",
    "    )\n",
    ")\n",
    "\n",
    "    path = f'/home/onyxia/work/DetailCLIP/text + images/{nb}.png'\n",
    "    fig.write_image(path, format='png', engine='kaleido')\n"
   ]
  },
  {
   "cell_type": "code",
   "execution_count": 18,
   "id": "d0057dfe",
   "metadata": {},
   "outputs": [],
   "source": [
    "\n",
    "# Plot text + image\n",
    "\n",
    "classes=shuffled_classes.copy()\n",
    "colors=new_colors.copy()\n",
    "\n",
    "nbs = [random.randint(1,199) for _ in range(10)]\n",
    "bleu = 0\n",
    "\n",
    "for nb in nbs:\n",
    "    classes = shuffled_classes.copy()\n",
    "    colors = new_colors.copy()  \n",
    "    for i,classe in enumerate(classes):\n",
    "        if classe!=nb:\n",
    "            classes[i] = bleu\n",
    "\n",
    "    for i,color in enumerate(colors):\n",
    "        if color!=nb:\n",
    "            colors[i]=bleu\n",
    "\n",
    "    fig = px.scatter(x=image_tsne[:, 0], y=image_tsne[:, 1], color=colors, opacity=0.6)\n",
    "    fig.data[0].showlegend = False\n",
    "    fig.add_scatter(x=text_tsne[:, 0], y=text_tsne[:, 1], opacity = 0.7, mode='markers', marker_size=15,     marker=dict(\n",
    "            size=15,\n",
    "            color=classes, \n",
    "            colorbar=dict(title=\"Classe\"),\n",
    "            ))\n",
    "    #fig.update_traces(\n",
    "    #    marker=dict(coloraxis='coloraxis'),\n",
    "    #    hovertemplate='Classe : %{marker.color}<extra></extra>'\n",
    "    #)\n",
    "    # Légende manuelle : image embeddings\n",
    "    fig.add_trace(go.Scatter(\n",
    "        x=[None], y=[None],\n",
    "        mode='markers',\n",
    "        marker=dict(size=10, color='blue'),\n",
    "        name='Image embeddings',\n",
    "        showlegend=True,\n",
    "    ))\n",
    "\n",
    "    # Légende manuelle : text embeddings\n",
    "    fig.add_trace(go.Scatter(\n",
    "        x=[None], y=[None],\n",
    "        mode='markers',\n",
    "        marker=dict(size=15, color='blue'),\n",
    "        name='Text embeddings',\n",
    "        showlegend=True,\n",
    "    ))\n",
    "\n",
    "    fig.update_layout(\n",
    "    legend=dict(\n",
    "        title='Types de données',\n",
    "        x=0.01,\n",
    "        y=0.99,\n",
    "        bgcolor='rgba(255,255,255,0.8)',\n",
    "        bordercolor='black',\n",
    "        borderwidth=1\n",
    "    )\n",
    ")\n",
    "\n",
    "    path = f'/home/onyxia/work/DetailCLIP/text + images/{nb}.png'\n",
    "    fig.write_image(path, format='png', engine='kaleido')"
   ]
  }
 ],
 "metadata": {
  "kernelspec": {
   "display_name": "Python 3",
   "language": "python",
   "name": "python3"
  },
  "language_info": {
   "codemirror_mode": {
    "name": "ipython",
    "version": 3
   },
   "file_extension": ".py",
   "mimetype": "text/x-python",
   "name": "python",
   "nbconvert_exporter": "python",
   "pygments_lexer": "ipython3",
   "version": "3.12.9"
  }
 },
 "nbformat": 4,
 "nbformat_minor": 5
}
