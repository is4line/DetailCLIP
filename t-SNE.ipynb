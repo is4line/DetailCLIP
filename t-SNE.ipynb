{
 "cells": [
  {
   "cell_type": "code",
   "execution_count": 43,
   "id": "eb382a55",
   "metadata": {},
   "outputs": [],
   "source": [
    "from sklearn.decomposition import PCA\n",
    "from sklearn.manifold import TSNE\n",
    "import models\n",
    "import torch\n",
    "from collections import OrderedDict\n",
    "import json\n",
    "import os\n",
    "import torchvision.transforms as transforms\n",
    "from tokenizer import SimpleTokenizer\n",
    "import datasets\n",
    "import utils\n",
    "import matplotlib.pyplot as plt\n",
    "import seaborn as sns\n",
    "import pandas as pd\n",
    "import numpy as np\n",
    "import plotly.express as px\n",
    "import plotly.colors as pc\n",
    "import plotly.io as pio\n",
    "import random\n",
    "import kaleido"
   ]
  },
  {
   "cell_type": "code",
   "execution_count": 44,
   "id": "0aaee4da",
   "metadata": {},
   "outputs": [
    {
     "name": "stdout",
     "output_type": "stream",
     "text": [
      "\tCreating MAE projection head\n",
      "\tMAE projection head created\n",
      "\tCreating IBOT projection head\n"
     ]
    },
    {
     "name": "stderr",
     "output_type": "stream",
     "text": [
      "/usr/local/lib/python3.12/site-packages/torch/nn/utils/weight_norm.py:143: FutureWarning:\n",
      "\n",
      "`torch.nn.utils.weight_norm` is deprecated in favor of `torch.nn.utils.parametrizations.weight_norm`.\n",
      "\n"
     ]
    },
    {
     "name": "stdout",
     "output_type": "stream",
     "text": [
      "\tkeys have been loaded for ibot head with status: <All keys matched successfully>\n",
      "\tIBOT projection head created\n",
      "\tDetailCLIP model created\n"
     ]
    },
    {
     "data": {
      "text/plain": [
       "ICLIP(\n",
       "  (visual): MaskVisionTransformer(\n",
       "    (patch_embed): PatchEmbed(\n",
       "      (proj): Conv2d(3, 768, kernel_size=(16, 16), stride=(16, 16))\n",
       "      (norm): Identity()\n",
       "    )\n",
       "    (pos_drop): Dropout(p=0.0, inplace=False)\n",
       "    (blocks): Sequential(\n",
       "      (0): Block(\n",
       "        (norm1): LayerNorm((768,), eps=1e-06, elementwise_affine=True)\n",
       "        (attn): Attention(\n",
       "          (qkv): Linear(in_features=768, out_features=2304, bias=True)\n",
       "          (attn_drop): Dropout(p=0.0, inplace=False)\n",
       "          (proj): Linear(in_features=768, out_features=768, bias=True)\n",
       "          (proj_drop): Dropout(p=0.0, inplace=False)\n",
       "        )\n",
       "        (drop_path): Identity()\n",
       "        (norm2): LayerNorm((768,), eps=1e-06, elementwise_affine=True)\n",
       "        (mlp): Mlp(\n",
       "          (fc1): Linear(in_features=768, out_features=3072, bias=True)\n",
       "          (act): GELU(approximate='none')\n",
       "          (drop1): Dropout(p=0.0, inplace=False)\n",
       "          (fc2): Linear(in_features=3072, out_features=768, bias=True)\n",
       "          (drop2): Dropout(p=0.0, inplace=False)\n",
       "        )\n",
       "      )\n",
       "      (1): Block(\n",
       "        (norm1): LayerNorm((768,), eps=1e-06, elementwise_affine=True)\n",
       "        (attn): Attention(\n",
       "          (qkv): Linear(in_features=768, out_features=2304, bias=True)\n",
       "          (attn_drop): Dropout(p=0.0, inplace=False)\n",
       "          (proj): Linear(in_features=768, out_features=768, bias=True)\n",
       "          (proj_drop): Dropout(p=0.0, inplace=False)\n",
       "        )\n",
       "        (drop_path): Identity()\n",
       "        (norm2): LayerNorm((768,), eps=1e-06, elementwise_affine=True)\n",
       "        (mlp): Mlp(\n",
       "          (fc1): Linear(in_features=768, out_features=3072, bias=True)\n",
       "          (act): GELU(approximate='none')\n",
       "          (drop1): Dropout(p=0.0, inplace=False)\n",
       "          (fc2): Linear(in_features=3072, out_features=768, bias=True)\n",
       "          (drop2): Dropout(p=0.0, inplace=False)\n",
       "        )\n",
       "      )\n",
       "      (2): Block(\n",
       "        (norm1): LayerNorm((768,), eps=1e-06, elementwise_affine=True)\n",
       "        (attn): Attention(\n",
       "          (qkv): Linear(in_features=768, out_features=2304, bias=True)\n",
       "          (attn_drop): Dropout(p=0.0, inplace=False)\n",
       "          (proj): Linear(in_features=768, out_features=768, bias=True)\n",
       "          (proj_drop): Dropout(p=0.0, inplace=False)\n",
       "        )\n",
       "        (drop_path): Identity()\n",
       "        (norm2): LayerNorm((768,), eps=1e-06, elementwise_affine=True)\n",
       "        (mlp): Mlp(\n",
       "          (fc1): Linear(in_features=768, out_features=3072, bias=True)\n",
       "          (act): GELU(approximate='none')\n",
       "          (drop1): Dropout(p=0.0, inplace=False)\n",
       "          (fc2): Linear(in_features=3072, out_features=768, bias=True)\n",
       "          (drop2): Dropout(p=0.0, inplace=False)\n",
       "        )\n",
       "      )\n",
       "      (3): Block(\n",
       "        (norm1): LayerNorm((768,), eps=1e-06, elementwise_affine=True)\n",
       "        (attn): Attention(\n",
       "          (qkv): Linear(in_features=768, out_features=2304, bias=True)\n",
       "          (attn_drop): Dropout(p=0.0, inplace=False)\n",
       "          (proj): Linear(in_features=768, out_features=768, bias=True)\n",
       "          (proj_drop): Dropout(p=0.0, inplace=False)\n",
       "        )\n",
       "        (drop_path): Identity()\n",
       "        (norm2): LayerNorm((768,), eps=1e-06, elementwise_affine=True)\n",
       "        (mlp): Mlp(\n",
       "          (fc1): Linear(in_features=768, out_features=3072, bias=True)\n",
       "          (act): GELU(approximate='none')\n",
       "          (drop1): Dropout(p=0.0, inplace=False)\n",
       "          (fc2): Linear(in_features=3072, out_features=768, bias=True)\n",
       "          (drop2): Dropout(p=0.0, inplace=False)\n",
       "        )\n",
       "      )\n",
       "      (4): Block(\n",
       "        (norm1): LayerNorm((768,), eps=1e-06, elementwise_affine=True)\n",
       "        (attn): Attention(\n",
       "          (qkv): Linear(in_features=768, out_features=2304, bias=True)\n",
       "          (attn_drop): Dropout(p=0.0, inplace=False)\n",
       "          (proj): Linear(in_features=768, out_features=768, bias=True)\n",
       "          (proj_drop): Dropout(p=0.0, inplace=False)\n",
       "        )\n",
       "        (drop_path): Identity()\n",
       "        (norm2): LayerNorm((768,), eps=1e-06, elementwise_affine=True)\n",
       "        (mlp): Mlp(\n",
       "          (fc1): Linear(in_features=768, out_features=3072, bias=True)\n",
       "          (act): GELU(approximate='none')\n",
       "          (drop1): Dropout(p=0.0, inplace=False)\n",
       "          (fc2): Linear(in_features=3072, out_features=768, bias=True)\n",
       "          (drop2): Dropout(p=0.0, inplace=False)\n",
       "        )\n",
       "      )\n",
       "      (5): Block(\n",
       "        (norm1): LayerNorm((768,), eps=1e-06, elementwise_affine=True)\n",
       "        (attn): Attention(\n",
       "          (qkv): Linear(in_features=768, out_features=2304, bias=True)\n",
       "          (attn_drop): Dropout(p=0.0, inplace=False)\n",
       "          (proj): Linear(in_features=768, out_features=768, bias=True)\n",
       "          (proj_drop): Dropout(p=0.0, inplace=False)\n",
       "        )\n",
       "        (drop_path): Identity()\n",
       "        (norm2): LayerNorm((768,), eps=1e-06, elementwise_affine=True)\n",
       "        (mlp): Mlp(\n",
       "          (fc1): Linear(in_features=768, out_features=3072, bias=True)\n",
       "          (act): GELU(approximate='none')\n",
       "          (drop1): Dropout(p=0.0, inplace=False)\n",
       "          (fc2): Linear(in_features=3072, out_features=768, bias=True)\n",
       "          (drop2): Dropout(p=0.0, inplace=False)\n",
       "        )\n",
       "      )\n",
       "      (6): Block(\n",
       "        (norm1): LayerNorm((768,), eps=1e-06, elementwise_affine=True)\n",
       "        (attn): Attention(\n",
       "          (qkv): Linear(in_features=768, out_features=2304, bias=True)\n",
       "          (attn_drop): Dropout(p=0.0, inplace=False)\n",
       "          (proj): Linear(in_features=768, out_features=768, bias=True)\n",
       "          (proj_drop): Dropout(p=0.0, inplace=False)\n",
       "        )\n",
       "        (drop_path): Identity()\n",
       "        (norm2): LayerNorm((768,), eps=1e-06, elementwise_affine=True)\n",
       "        (mlp): Mlp(\n",
       "          (fc1): Linear(in_features=768, out_features=3072, bias=True)\n",
       "          (act): GELU(approximate='none')\n",
       "          (drop1): Dropout(p=0.0, inplace=False)\n",
       "          (fc2): Linear(in_features=3072, out_features=768, bias=True)\n",
       "          (drop2): Dropout(p=0.0, inplace=False)\n",
       "        )\n",
       "      )\n",
       "      (7): Block(\n",
       "        (norm1): LayerNorm((768,), eps=1e-06, elementwise_affine=True)\n",
       "        (attn): Attention(\n",
       "          (qkv): Linear(in_features=768, out_features=2304, bias=True)\n",
       "          (attn_drop): Dropout(p=0.0, inplace=False)\n",
       "          (proj): Linear(in_features=768, out_features=768, bias=True)\n",
       "          (proj_drop): Dropout(p=0.0, inplace=False)\n",
       "        )\n",
       "        (drop_path): Identity()\n",
       "        (norm2): LayerNorm((768,), eps=1e-06, elementwise_affine=True)\n",
       "        (mlp): Mlp(\n",
       "          (fc1): Linear(in_features=768, out_features=3072, bias=True)\n",
       "          (act): GELU(approximate='none')\n",
       "          (drop1): Dropout(p=0.0, inplace=False)\n",
       "          (fc2): Linear(in_features=3072, out_features=768, bias=True)\n",
       "          (drop2): Dropout(p=0.0, inplace=False)\n",
       "        )\n",
       "      )\n",
       "      (8): Block(\n",
       "        (norm1): LayerNorm((768,), eps=1e-06, elementwise_affine=True)\n",
       "        (attn): Attention(\n",
       "          (qkv): Linear(in_features=768, out_features=2304, bias=True)\n",
       "          (attn_drop): Dropout(p=0.0, inplace=False)\n",
       "          (proj): Linear(in_features=768, out_features=768, bias=True)\n",
       "          (proj_drop): Dropout(p=0.0, inplace=False)\n",
       "        )\n",
       "        (drop_path): Identity()\n",
       "        (norm2): LayerNorm((768,), eps=1e-06, elementwise_affine=True)\n",
       "        (mlp): Mlp(\n",
       "          (fc1): Linear(in_features=768, out_features=3072, bias=True)\n",
       "          (act): GELU(approximate='none')\n",
       "          (drop1): Dropout(p=0.0, inplace=False)\n",
       "          (fc2): Linear(in_features=3072, out_features=768, bias=True)\n",
       "          (drop2): Dropout(p=0.0, inplace=False)\n",
       "        )\n",
       "      )\n",
       "      (9): Block(\n",
       "        (norm1): LayerNorm((768,), eps=1e-06, elementwise_affine=True)\n",
       "        (attn): Attention(\n",
       "          (qkv): Linear(in_features=768, out_features=2304, bias=True)\n",
       "          (attn_drop): Dropout(p=0.0, inplace=False)\n",
       "          (proj): Linear(in_features=768, out_features=768, bias=True)\n",
       "          (proj_drop): Dropout(p=0.0, inplace=False)\n",
       "        )\n",
       "        (drop_path): Identity()\n",
       "        (norm2): LayerNorm((768,), eps=1e-06, elementwise_affine=True)\n",
       "        (mlp): Mlp(\n",
       "          (fc1): Linear(in_features=768, out_features=3072, bias=True)\n",
       "          (act): GELU(approximate='none')\n",
       "          (drop1): Dropout(p=0.0, inplace=False)\n",
       "          (fc2): Linear(in_features=3072, out_features=768, bias=True)\n",
       "          (drop2): Dropout(p=0.0, inplace=False)\n",
       "        )\n",
       "      )\n",
       "      (10): Block(\n",
       "        (norm1): LayerNorm((768,), eps=1e-06, elementwise_affine=True)\n",
       "        (attn): Attention(\n",
       "          (qkv): Linear(in_features=768, out_features=2304, bias=True)\n",
       "          (attn_drop): Dropout(p=0.0, inplace=False)\n",
       "          (proj): Linear(in_features=768, out_features=768, bias=True)\n",
       "          (proj_drop): Dropout(p=0.0, inplace=False)\n",
       "        )\n",
       "        (drop_path): Identity()\n",
       "        (norm2): LayerNorm((768,), eps=1e-06, elementwise_affine=True)\n",
       "        (mlp): Mlp(\n",
       "          (fc1): Linear(in_features=768, out_features=3072, bias=True)\n",
       "          (act): GELU(approximate='none')\n",
       "          (drop1): Dropout(p=0.0, inplace=False)\n",
       "          (fc2): Linear(in_features=3072, out_features=768, bias=True)\n",
       "          (drop2): Dropout(p=0.0, inplace=False)\n",
       "        )\n",
       "      )\n",
       "      (11): Block(\n",
       "        (norm1): LayerNorm((768,), eps=1e-06, elementwise_affine=True)\n",
       "        (attn): Attention(\n",
       "          (qkv): Linear(in_features=768, out_features=2304, bias=True)\n",
       "          (attn_drop): Dropout(p=0.0, inplace=False)\n",
       "          (proj): Linear(in_features=768, out_features=768, bias=True)\n",
       "          (proj_drop): Dropout(p=0.0, inplace=False)\n",
       "        )\n",
       "        (drop_path): Identity()\n",
       "        (norm2): LayerNorm((768,), eps=1e-06, elementwise_affine=True)\n",
       "        (mlp): Mlp(\n",
       "          (fc1): Linear(in_features=768, out_features=3072, bias=True)\n",
       "          (act): GELU(approximate='none')\n",
       "          (drop1): Dropout(p=0.0, inplace=False)\n",
       "          (fc2): Linear(in_features=3072, out_features=768, bias=True)\n",
       "          (drop2): Dropout(p=0.0, inplace=False)\n",
       "        )\n",
       "      )\n",
       "    )\n",
       "    (norm): LayerNorm((768,), eps=1e-06, elementwise_affine=True)\n",
       "    (pre_logits): Identity()\n",
       "    (head): Identity()\n",
       "  )\n",
       "  (transformer): Transformer(\n",
       "    (resblocks): Sequential(\n",
       "      (0): ResidualAttentionBlock(\n",
       "        (attn): MultiheadAttention(\n",
       "          (out_proj): NonDynamicallyQuantizableLinear(in_features=512, out_features=512, bias=True)\n",
       "        )\n",
       "        (ln_1): LayerNorm((512,), eps=1e-05, elementwise_affine=True)\n",
       "        (mlp): Sequential(\n",
       "          (c_fc): Linear(in_features=512, out_features=2048, bias=True)\n",
       "          (gelu): QuickGELU()\n",
       "          (c_proj): Linear(in_features=2048, out_features=512, bias=True)\n",
       "        )\n",
       "        (ln_2): LayerNorm((512,), eps=1e-05, elementwise_affine=True)\n",
       "      )\n",
       "      (1): ResidualAttentionBlock(\n",
       "        (attn): MultiheadAttention(\n",
       "          (out_proj): NonDynamicallyQuantizableLinear(in_features=512, out_features=512, bias=True)\n",
       "        )\n",
       "        (ln_1): LayerNorm((512,), eps=1e-05, elementwise_affine=True)\n",
       "        (mlp): Sequential(\n",
       "          (c_fc): Linear(in_features=512, out_features=2048, bias=True)\n",
       "          (gelu): QuickGELU()\n",
       "          (c_proj): Linear(in_features=2048, out_features=512, bias=True)\n",
       "        )\n",
       "        (ln_2): LayerNorm((512,), eps=1e-05, elementwise_affine=True)\n",
       "      )\n",
       "      (2): ResidualAttentionBlock(\n",
       "        (attn): MultiheadAttention(\n",
       "          (out_proj): NonDynamicallyQuantizableLinear(in_features=512, out_features=512, bias=True)\n",
       "        )\n",
       "        (ln_1): LayerNorm((512,), eps=1e-05, elementwise_affine=True)\n",
       "        (mlp): Sequential(\n",
       "          (c_fc): Linear(in_features=512, out_features=2048, bias=True)\n",
       "          (gelu): QuickGELU()\n",
       "          (c_proj): Linear(in_features=2048, out_features=512, bias=True)\n",
       "        )\n",
       "        (ln_2): LayerNorm((512,), eps=1e-05, elementwise_affine=True)\n",
       "      )\n",
       "      (3): ResidualAttentionBlock(\n",
       "        (attn): MultiheadAttention(\n",
       "          (out_proj): NonDynamicallyQuantizableLinear(in_features=512, out_features=512, bias=True)\n",
       "        )\n",
       "        (ln_1): LayerNorm((512,), eps=1e-05, elementwise_affine=True)\n",
       "        (mlp): Sequential(\n",
       "          (c_fc): Linear(in_features=512, out_features=2048, bias=True)\n",
       "          (gelu): QuickGELU()\n",
       "          (c_proj): Linear(in_features=2048, out_features=512, bias=True)\n",
       "        )\n",
       "        (ln_2): LayerNorm((512,), eps=1e-05, elementwise_affine=True)\n",
       "      )\n",
       "      (4): ResidualAttentionBlock(\n",
       "        (attn): MultiheadAttention(\n",
       "          (out_proj): NonDynamicallyQuantizableLinear(in_features=512, out_features=512, bias=True)\n",
       "        )\n",
       "        (ln_1): LayerNorm((512,), eps=1e-05, elementwise_affine=True)\n",
       "        (mlp): Sequential(\n",
       "          (c_fc): Linear(in_features=512, out_features=2048, bias=True)\n",
       "          (gelu): QuickGELU()\n",
       "          (c_proj): Linear(in_features=2048, out_features=512, bias=True)\n",
       "        )\n",
       "        (ln_2): LayerNorm((512,), eps=1e-05, elementwise_affine=True)\n",
       "      )\n",
       "      (5): ResidualAttentionBlock(\n",
       "        (attn): MultiheadAttention(\n",
       "          (out_proj): NonDynamicallyQuantizableLinear(in_features=512, out_features=512, bias=True)\n",
       "        )\n",
       "        (ln_1): LayerNorm((512,), eps=1e-05, elementwise_affine=True)\n",
       "        (mlp): Sequential(\n",
       "          (c_fc): Linear(in_features=512, out_features=2048, bias=True)\n",
       "          (gelu): QuickGELU()\n",
       "          (c_proj): Linear(in_features=2048, out_features=512, bias=True)\n",
       "        )\n",
       "        (ln_2): LayerNorm((512,), eps=1e-05, elementwise_affine=True)\n",
       "      )\n",
       "      (6): ResidualAttentionBlock(\n",
       "        (attn): MultiheadAttention(\n",
       "          (out_proj): NonDynamicallyQuantizableLinear(in_features=512, out_features=512, bias=True)\n",
       "        )\n",
       "        (ln_1): LayerNorm((512,), eps=1e-05, elementwise_affine=True)\n",
       "        (mlp): Sequential(\n",
       "          (c_fc): Linear(in_features=512, out_features=2048, bias=True)\n",
       "          (gelu): QuickGELU()\n",
       "          (c_proj): Linear(in_features=2048, out_features=512, bias=True)\n",
       "        )\n",
       "        (ln_2): LayerNorm((512,), eps=1e-05, elementwise_affine=True)\n",
       "      )\n",
       "      (7): ResidualAttentionBlock(\n",
       "        (attn): MultiheadAttention(\n",
       "          (out_proj): NonDynamicallyQuantizableLinear(in_features=512, out_features=512, bias=True)\n",
       "        )\n",
       "        (ln_1): LayerNorm((512,), eps=1e-05, elementwise_affine=True)\n",
       "        (mlp): Sequential(\n",
       "          (c_fc): Linear(in_features=512, out_features=2048, bias=True)\n",
       "          (gelu): QuickGELU()\n",
       "          (c_proj): Linear(in_features=2048, out_features=512, bias=True)\n",
       "        )\n",
       "        (ln_2): LayerNorm((512,), eps=1e-05, elementwise_affine=True)\n",
       "      )\n",
       "      (8): ResidualAttentionBlock(\n",
       "        (attn): MultiheadAttention(\n",
       "          (out_proj): NonDynamicallyQuantizableLinear(in_features=512, out_features=512, bias=True)\n",
       "        )\n",
       "        (ln_1): LayerNorm((512,), eps=1e-05, elementwise_affine=True)\n",
       "        (mlp): Sequential(\n",
       "          (c_fc): Linear(in_features=512, out_features=2048, bias=True)\n",
       "          (gelu): QuickGELU()\n",
       "          (c_proj): Linear(in_features=2048, out_features=512, bias=True)\n",
       "        )\n",
       "        (ln_2): LayerNorm((512,), eps=1e-05, elementwise_affine=True)\n",
       "      )\n",
       "      (9): ResidualAttentionBlock(\n",
       "        (attn): MultiheadAttention(\n",
       "          (out_proj): NonDynamicallyQuantizableLinear(in_features=512, out_features=512, bias=True)\n",
       "        )\n",
       "        (ln_1): LayerNorm((512,), eps=1e-05, elementwise_affine=True)\n",
       "        (mlp): Sequential(\n",
       "          (c_fc): Linear(in_features=512, out_features=2048, bias=True)\n",
       "          (gelu): QuickGELU()\n",
       "          (c_proj): Linear(in_features=2048, out_features=512, bias=True)\n",
       "        )\n",
       "        (ln_2): LayerNorm((512,), eps=1e-05, elementwise_affine=True)\n",
       "      )\n",
       "      (10): ResidualAttentionBlock(\n",
       "        (attn): MultiheadAttention(\n",
       "          (out_proj): NonDynamicallyQuantizableLinear(in_features=512, out_features=512, bias=True)\n",
       "        )\n",
       "        (ln_1): LayerNorm((512,), eps=1e-05, elementwise_affine=True)\n",
       "        (mlp): Sequential(\n",
       "          (c_fc): Linear(in_features=512, out_features=2048, bias=True)\n",
       "          (gelu): QuickGELU()\n",
       "          (c_proj): Linear(in_features=2048, out_features=512, bias=True)\n",
       "        )\n",
       "        (ln_2): LayerNorm((512,), eps=1e-05, elementwise_affine=True)\n",
       "      )\n",
       "      (11): ResidualAttentionBlock(\n",
       "        (attn): MultiheadAttention(\n",
       "          (out_proj): NonDynamicallyQuantizableLinear(in_features=512, out_features=512, bias=True)\n",
       "        )\n",
       "        (ln_1): LayerNorm((512,), eps=1e-05, elementwise_affine=True)\n",
       "        (mlp): Sequential(\n",
       "          (c_fc): Linear(in_features=512, out_features=2048, bias=True)\n",
       "          (gelu): QuickGELU()\n",
       "          (c_proj): Linear(in_features=2048, out_features=512, bias=True)\n",
       "        )\n",
       "        (ln_2): LayerNorm((512,), eps=1e-05, elementwise_affine=True)\n",
       "      )\n",
       "    )\n",
       "  )\n",
       "  (token_embedding): Embedding(49408, 512)\n",
       "  (ln_final): LayerNorm((512,), eps=1e-05, elementwise_affine=True)\n",
       "  (visual_ema): MaskVisionTransformer(\n",
       "    (patch_embed): PatchEmbed(\n",
       "      (proj): Conv2d(3, 768, kernel_size=(16, 16), stride=(16, 16))\n",
       "      (norm): Identity()\n",
       "    )\n",
       "    (pos_drop): Dropout(p=0.0, inplace=False)\n",
       "    (blocks): Sequential(\n",
       "      (0): Block(\n",
       "        (norm1): LayerNorm((768,), eps=1e-06, elementwise_affine=True)\n",
       "        (attn): Attention(\n",
       "          (qkv): Linear(in_features=768, out_features=2304, bias=True)\n",
       "          (attn_drop): Dropout(p=0.0, inplace=False)\n",
       "          (proj): Linear(in_features=768, out_features=768, bias=True)\n",
       "          (proj_drop): Dropout(p=0.0, inplace=False)\n",
       "        )\n",
       "        (drop_path): Identity()\n",
       "        (norm2): LayerNorm((768,), eps=1e-06, elementwise_affine=True)\n",
       "        (mlp): Mlp(\n",
       "          (fc1): Linear(in_features=768, out_features=3072, bias=True)\n",
       "          (act): GELU(approximate='none')\n",
       "          (drop1): Dropout(p=0.0, inplace=False)\n",
       "          (fc2): Linear(in_features=3072, out_features=768, bias=True)\n",
       "          (drop2): Dropout(p=0.0, inplace=False)\n",
       "        )\n",
       "      )\n",
       "      (1): Block(\n",
       "        (norm1): LayerNorm((768,), eps=1e-06, elementwise_affine=True)\n",
       "        (attn): Attention(\n",
       "          (qkv): Linear(in_features=768, out_features=2304, bias=True)\n",
       "          (attn_drop): Dropout(p=0.0, inplace=False)\n",
       "          (proj): Linear(in_features=768, out_features=768, bias=True)\n",
       "          (proj_drop): Dropout(p=0.0, inplace=False)\n",
       "        )\n",
       "        (drop_path): Identity()\n",
       "        (norm2): LayerNorm((768,), eps=1e-06, elementwise_affine=True)\n",
       "        (mlp): Mlp(\n",
       "          (fc1): Linear(in_features=768, out_features=3072, bias=True)\n",
       "          (act): GELU(approximate='none')\n",
       "          (drop1): Dropout(p=0.0, inplace=False)\n",
       "          (fc2): Linear(in_features=3072, out_features=768, bias=True)\n",
       "          (drop2): Dropout(p=0.0, inplace=False)\n",
       "        )\n",
       "      )\n",
       "      (2): Block(\n",
       "        (norm1): LayerNorm((768,), eps=1e-06, elementwise_affine=True)\n",
       "        (attn): Attention(\n",
       "          (qkv): Linear(in_features=768, out_features=2304, bias=True)\n",
       "          (attn_drop): Dropout(p=0.0, inplace=False)\n",
       "          (proj): Linear(in_features=768, out_features=768, bias=True)\n",
       "          (proj_drop): Dropout(p=0.0, inplace=False)\n",
       "        )\n",
       "        (drop_path): Identity()\n",
       "        (norm2): LayerNorm((768,), eps=1e-06, elementwise_affine=True)\n",
       "        (mlp): Mlp(\n",
       "          (fc1): Linear(in_features=768, out_features=3072, bias=True)\n",
       "          (act): GELU(approximate='none')\n",
       "          (drop1): Dropout(p=0.0, inplace=False)\n",
       "          (fc2): Linear(in_features=3072, out_features=768, bias=True)\n",
       "          (drop2): Dropout(p=0.0, inplace=False)\n",
       "        )\n",
       "      )\n",
       "      (3): Block(\n",
       "        (norm1): LayerNorm((768,), eps=1e-06, elementwise_affine=True)\n",
       "        (attn): Attention(\n",
       "          (qkv): Linear(in_features=768, out_features=2304, bias=True)\n",
       "          (attn_drop): Dropout(p=0.0, inplace=False)\n",
       "          (proj): Linear(in_features=768, out_features=768, bias=True)\n",
       "          (proj_drop): Dropout(p=0.0, inplace=False)\n",
       "        )\n",
       "        (drop_path): Identity()\n",
       "        (norm2): LayerNorm((768,), eps=1e-06, elementwise_affine=True)\n",
       "        (mlp): Mlp(\n",
       "          (fc1): Linear(in_features=768, out_features=3072, bias=True)\n",
       "          (act): GELU(approximate='none')\n",
       "          (drop1): Dropout(p=0.0, inplace=False)\n",
       "          (fc2): Linear(in_features=3072, out_features=768, bias=True)\n",
       "          (drop2): Dropout(p=0.0, inplace=False)\n",
       "        )\n",
       "      )\n",
       "      (4): Block(\n",
       "        (norm1): LayerNorm((768,), eps=1e-06, elementwise_affine=True)\n",
       "        (attn): Attention(\n",
       "          (qkv): Linear(in_features=768, out_features=2304, bias=True)\n",
       "          (attn_drop): Dropout(p=0.0, inplace=False)\n",
       "          (proj): Linear(in_features=768, out_features=768, bias=True)\n",
       "          (proj_drop): Dropout(p=0.0, inplace=False)\n",
       "        )\n",
       "        (drop_path): Identity()\n",
       "        (norm2): LayerNorm((768,), eps=1e-06, elementwise_affine=True)\n",
       "        (mlp): Mlp(\n",
       "          (fc1): Linear(in_features=768, out_features=3072, bias=True)\n",
       "          (act): GELU(approximate='none')\n",
       "          (drop1): Dropout(p=0.0, inplace=False)\n",
       "          (fc2): Linear(in_features=3072, out_features=768, bias=True)\n",
       "          (drop2): Dropout(p=0.0, inplace=False)\n",
       "        )\n",
       "      )\n",
       "      (5): Block(\n",
       "        (norm1): LayerNorm((768,), eps=1e-06, elementwise_affine=True)\n",
       "        (attn): Attention(\n",
       "          (qkv): Linear(in_features=768, out_features=2304, bias=True)\n",
       "          (attn_drop): Dropout(p=0.0, inplace=False)\n",
       "          (proj): Linear(in_features=768, out_features=768, bias=True)\n",
       "          (proj_drop): Dropout(p=0.0, inplace=False)\n",
       "        )\n",
       "        (drop_path): Identity()\n",
       "        (norm2): LayerNorm((768,), eps=1e-06, elementwise_affine=True)\n",
       "        (mlp): Mlp(\n",
       "          (fc1): Linear(in_features=768, out_features=3072, bias=True)\n",
       "          (act): GELU(approximate='none')\n",
       "          (drop1): Dropout(p=0.0, inplace=False)\n",
       "          (fc2): Linear(in_features=3072, out_features=768, bias=True)\n",
       "          (drop2): Dropout(p=0.0, inplace=False)\n",
       "        )\n",
       "      )\n",
       "      (6): Block(\n",
       "        (norm1): LayerNorm((768,), eps=1e-06, elementwise_affine=True)\n",
       "        (attn): Attention(\n",
       "          (qkv): Linear(in_features=768, out_features=2304, bias=True)\n",
       "          (attn_drop): Dropout(p=0.0, inplace=False)\n",
       "          (proj): Linear(in_features=768, out_features=768, bias=True)\n",
       "          (proj_drop): Dropout(p=0.0, inplace=False)\n",
       "        )\n",
       "        (drop_path): Identity()\n",
       "        (norm2): LayerNorm((768,), eps=1e-06, elementwise_affine=True)\n",
       "        (mlp): Mlp(\n",
       "          (fc1): Linear(in_features=768, out_features=3072, bias=True)\n",
       "          (act): GELU(approximate='none')\n",
       "          (drop1): Dropout(p=0.0, inplace=False)\n",
       "          (fc2): Linear(in_features=3072, out_features=768, bias=True)\n",
       "          (drop2): Dropout(p=0.0, inplace=False)\n",
       "        )\n",
       "      )\n",
       "      (7): Block(\n",
       "        (norm1): LayerNorm((768,), eps=1e-06, elementwise_affine=True)\n",
       "        (attn): Attention(\n",
       "          (qkv): Linear(in_features=768, out_features=2304, bias=True)\n",
       "          (attn_drop): Dropout(p=0.0, inplace=False)\n",
       "          (proj): Linear(in_features=768, out_features=768, bias=True)\n",
       "          (proj_drop): Dropout(p=0.0, inplace=False)\n",
       "        )\n",
       "        (drop_path): Identity()\n",
       "        (norm2): LayerNorm((768,), eps=1e-06, elementwise_affine=True)\n",
       "        (mlp): Mlp(\n",
       "          (fc1): Linear(in_features=768, out_features=3072, bias=True)\n",
       "          (act): GELU(approximate='none')\n",
       "          (drop1): Dropout(p=0.0, inplace=False)\n",
       "          (fc2): Linear(in_features=3072, out_features=768, bias=True)\n",
       "          (drop2): Dropout(p=0.0, inplace=False)\n",
       "        )\n",
       "      )\n",
       "      (8): Block(\n",
       "        (norm1): LayerNorm((768,), eps=1e-06, elementwise_affine=True)\n",
       "        (attn): Attention(\n",
       "          (qkv): Linear(in_features=768, out_features=2304, bias=True)\n",
       "          (attn_drop): Dropout(p=0.0, inplace=False)\n",
       "          (proj): Linear(in_features=768, out_features=768, bias=True)\n",
       "          (proj_drop): Dropout(p=0.0, inplace=False)\n",
       "        )\n",
       "        (drop_path): Identity()\n",
       "        (norm2): LayerNorm((768,), eps=1e-06, elementwise_affine=True)\n",
       "        (mlp): Mlp(\n",
       "          (fc1): Linear(in_features=768, out_features=3072, bias=True)\n",
       "          (act): GELU(approximate='none')\n",
       "          (drop1): Dropout(p=0.0, inplace=False)\n",
       "          (fc2): Linear(in_features=3072, out_features=768, bias=True)\n",
       "          (drop2): Dropout(p=0.0, inplace=False)\n",
       "        )\n",
       "      )\n",
       "      (9): Block(\n",
       "        (norm1): LayerNorm((768,), eps=1e-06, elementwise_affine=True)\n",
       "        (attn): Attention(\n",
       "          (qkv): Linear(in_features=768, out_features=2304, bias=True)\n",
       "          (attn_drop): Dropout(p=0.0, inplace=False)\n",
       "          (proj): Linear(in_features=768, out_features=768, bias=True)\n",
       "          (proj_drop): Dropout(p=0.0, inplace=False)\n",
       "        )\n",
       "        (drop_path): Identity()\n",
       "        (norm2): LayerNorm((768,), eps=1e-06, elementwise_affine=True)\n",
       "        (mlp): Mlp(\n",
       "          (fc1): Linear(in_features=768, out_features=3072, bias=True)\n",
       "          (act): GELU(approximate='none')\n",
       "          (drop1): Dropout(p=0.0, inplace=False)\n",
       "          (fc2): Linear(in_features=3072, out_features=768, bias=True)\n",
       "          (drop2): Dropout(p=0.0, inplace=False)\n",
       "        )\n",
       "      )\n",
       "      (10): Block(\n",
       "        (norm1): LayerNorm((768,), eps=1e-06, elementwise_affine=True)\n",
       "        (attn): Attention(\n",
       "          (qkv): Linear(in_features=768, out_features=2304, bias=True)\n",
       "          (attn_drop): Dropout(p=0.0, inplace=False)\n",
       "          (proj): Linear(in_features=768, out_features=768, bias=True)\n",
       "          (proj_drop): Dropout(p=0.0, inplace=False)\n",
       "        )\n",
       "        (drop_path): Identity()\n",
       "        (norm2): LayerNorm((768,), eps=1e-06, elementwise_affine=True)\n",
       "        (mlp): Mlp(\n",
       "          (fc1): Linear(in_features=768, out_features=3072, bias=True)\n",
       "          (act): GELU(approximate='none')\n",
       "          (drop1): Dropout(p=0.0, inplace=False)\n",
       "          (fc2): Linear(in_features=3072, out_features=768, bias=True)\n",
       "          (drop2): Dropout(p=0.0, inplace=False)\n",
       "        )\n",
       "      )\n",
       "      (11): Block(\n",
       "        (norm1): LayerNorm((768,), eps=1e-06, elementwise_affine=True)\n",
       "        (attn): Attention(\n",
       "          (qkv): Linear(in_features=768, out_features=2304, bias=True)\n",
       "          (attn_drop): Dropout(p=0.0, inplace=False)\n",
       "          (proj): Linear(in_features=768, out_features=768, bias=True)\n",
       "          (proj_drop): Dropout(p=0.0, inplace=False)\n",
       "        )\n",
       "        (drop_path): Identity()\n",
       "        (norm2): LayerNorm((768,), eps=1e-06, elementwise_affine=True)\n",
       "        (mlp): Mlp(\n",
       "          (fc1): Linear(in_features=768, out_features=3072, bias=True)\n",
       "          (act): GELU(approximate='none')\n",
       "          (drop1): Dropout(p=0.0, inplace=False)\n",
       "          (fc2): Linear(in_features=3072, out_features=768, bias=True)\n",
       "          (drop2): Dropout(p=0.0, inplace=False)\n",
       "        )\n",
       "      )\n",
       "    )\n",
       "    (norm): LayerNorm((768,), eps=1e-06, elementwise_affine=True)\n",
       "    (pre_logits): Identity()\n",
       "    (head): Identity()\n",
       "  )\n",
       "  (transformer_e): Transformer(\n",
       "    (resblocks): Sequential(\n",
       "      (0): ResidualAttentionBlock(\n",
       "        (attn): MultiheadAttention(\n",
       "          (out_proj): NonDynamicallyQuantizableLinear(in_features=512, out_features=512, bias=True)\n",
       "        )\n",
       "        (ln_1): LayerNorm((512,), eps=1e-05, elementwise_affine=True)\n",
       "        (mlp): Sequential(\n",
       "          (c_fc): Linear(in_features=512, out_features=2048, bias=True)\n",
       "          (gelu): QuickGELU()\n",
       "          (c_proj): Linear(in_features=2048, out_features=512, bias=True)\n",
       "        )\n",
       "        (ln_2): LayerNorm((512,), eps=1e-05, elementwise_affine=True)\n",
       "      )\n",
       "      (1): ResidualAttentionBlock(\n",
       "        (attn): MultiheadAttention(\n",
       "          (out_proj): NonDynamicallyQuantizableLinear(in_features=512, out_features=512, bias=True)\n",
       "        )\n",
       "        (ln_1): LayerNorm((512,), eps=1e-05, elementwise_affine=True)\n",
       "        (mlp): Sequential(\n",
       "          (c_fc): Linear(in_features=512, out_features=2048, bias=True)\n",
       "          (gelu): QuickGELU()\n",
       "          (c_proj): Linear(in_features=2048, out_features=512, bias=True)\n",
       "        )\n",
       "        (ln_2): LayerNorm((512,), eps=1e-05, elementwise_affine=True)\n",
       "      )\n",
       "      (2): ResidualAttentionBlock(\n",
       "        (attn): MultiheadAttention(\n",
       "          (out_proj): NonDynamicallyQuantizableLinear(in_features=512, out_features=512, bias=True)\n",
       "        )\n",
       "        (ln_1): LayerNorm((512,), eps=1e-05, elementwise_affine=True)\n",
       "        (mlp): Sequential(\n",
       "          (c_fc): Linear(in_features=512, out_features=2048, bias=True)\n",
       "          (gelu): QuickGELU()\n",
       "          (c_proj): Linear(in_features=2048, out_features=512, bias=True)\n",
       "        )\n",
       "        (ln_2): LayerNorm((512,), eps=1e-05, elementwise_affine=True)\n",
       "      )\n",
       "      (3): ResidualAttentionBlock(\n",
       "        (attn): MultiheadAttention(\n",
       "          (out_proj): NonDynamicallyQuantizableLinear(in_features=512, out_features=512, bias=True)\n",
       "        )\n",
       "        (ln_1): LayerNorm((512,), eps=1e-05, elementwise_affine=True)\n",
       "        (mlp): Sequential(\n",
       "          (c_fc): Linear(in_features=512, out_features=2048, bias=True)\n",
       "          (gelu): QuickGELU()\n",
       "          (c_proj): Linear(in_features=2048, out_features=512, bias=True)\n",
       "        )\n",
       "        (ln_2): LayerNorm((512,), eps=1e-05, elementwise_affine=True)\n",
       "      )\n",
       "      (4): ResidualAttentionBlock(\n",
       "        (attn): MultiheadAttention(\n",
       "          (out_proj): NonDynamicallyQuantizableLinear(in_features=512, out_features=512, bias=True)\n",
       "        )\n",
       "        (ln_1): LayerNorm((512,), eps=1e-05, elementwise_affine=True)\n",
       "        (mlp): Sequential(\n",
       "          (c_fc): Linear(in_features=512, out_features=2048, bias=True)\n",
       "          (gelu): QuickGELU()\n",
       "          (c_proj): Linear(in_features=2048, out_features=512, bias=True)\n",
       "        )\n",
       "        (ln_2): LayerNorm((512,), eps=1e-05, elementwise_affine=True)\n",
       "      )\n",
       "      (5): ResidualAttentionBlock(\n",
       "        (attn): MultiheadAttention(\n",
       "          (out_proj): NonDynamicallyQuantizableLinear(in_features=512, out_features=512, bias=True)\n",
       "        )\n",
       "        (ln_1): LayerNorm((512,), eps=1e-05, elementwise_affine=True)\n",
       "        (mlp): Sequential(\n",
       "          (c_fc): Linear(in_features=512, out_features=2048, bias=True)\n",
       "          (gelu): QuickGELU()\n",
       "          (c_proj): Linear(in_features=2048, out_features=512, bias=True)\n",
       "        )\n",
       "        (ln_2): LayerNorm((512,), eps=1e-05, elementwise_affine=True)\n",
       "      )\n",
       "      (6): ResidualAttentionBlock(\n",
       "        (attn): MultiheadAttention(\n",
       "          (out_proj): NonDynamicallyQuantizableLinear(in_features=512, out_features=512, bias=True)\n",
       "        )\n",
       "        (ln_1): LayerNorm((512,), eps=1e-05, elementwise_affine=True)\n",
       "        (mlp): Sequential(\n",
       "          (c_fc): Linear(in_features=512, out_features=2048, bias=True)\n",
       "          (gelu): QuickGELU()\n",
       "          (c_proj): Linear(in_features=2048, out_features=512, bias=True)\n",
       "        )\n",
       "        (ln_2): LayerNorm((512,), eps=1e-05, elementwise_affine=True)\n",
       "      )\n",
       "      (7): ResidualAttentionBlock(\n",
       "        (attn): MultiheadAttention(\n",
       "          (out_proj): NonDynamicallyQuantizableLinear(in_features=512, out_features=512, bias=True)\n",
       "        )\n",
       "        (ln_1): LayerNorm((512,), eps=1e-05, elementwise_affine=True)\n",
       "        (mlp): Sequential(\n",
       "          (c_fc): Linear(in_features=512, out_features=2048, bias=True)\n",
       "          (gelu): QuickGELU()\n",
       "          (c_proj): Linear(in_features=2048, out_features=512, bias=True)\n",
       "        )\n",
       "        (ln_2): LayerNorm((512,), eps=1e-05, elementwise_affine=True)\n",
       "      )\n",
       "      (8): ResidualAttentionBlock(\n",
       "        (attn): MultiheadAttention(\n",
       "          (out_proj): NonDynamicallyQuantizableLinear(in_features=512, out_features=512, bias=True)\n",
       "        )\n",
       "        (ln_1): LayerNorm((512,), eps=1e-05, elementwise_affine=True)\n",
       "        (mlp): Sequential(\n",
       "          (c_fc): Linear(in_features=512, out_features=2048, bias=True)\n",
       "          (gelu): QuickGELU()\n",
       "          (c_proj): Linear(in_features=2048, out_features=512, bias=True)\n",
       "        )\n",
       "        (ln_2): LayerNorm((512,), eps=1e-05, elementwise_affine=True)\n",
       "      )\n",
       "      (9): ResidualAttentionBlock(\n",
       "        (attn): MultiheadAttention(\n",
       "          (out_proj): NonDynamicallyQuantizableLinear(in_features=512, out_features=512, bias=True)\n",
       "        )\n",
       "        (ln_1): LayerNorm((512,), eps=1e-05, elementwise_affine=True)\n",
       "        (mlp): Sequential(\n",
       "          (c_fc): Linear(in_features=512, out_features=2048, bias=True)\n",
       "          (gelu): QuickGELU()\n",
       "          (c_proj): Linear(in_features=2048, out_features=512, bias=True)\n",
       "        )\n",
       "        (ln_2): LayerNorm((512,), eps=1e-05, elementwise_affine=True)\n",
       "      )\n",
       "      (10): ResidualAttentionBlock(\n",
       "        (attn): MultiheadAttention(\n",
       "          (out_proj): NonDynamicallyQuantizableLinear(in_features=512, out_features=512, bias=True)\n",
       "        )\n",
       "        (ln_1): LayerNorm((512,), eps=1e-05, elementwise_affine=True)\n",
       "        (mlp): Sequential(\n",
       "          (c_fc): Linear(in_features=512, out_features=2048, bias=True)\n",
       "          (gelu): QuickGELU()\n",
       "          (c_proj): Linear(in_features=2048, out_features=512, bias=True)\n",
       "        )\n",
       "        (ln_2): LayerNorm((512,), eps=1e-05, elementwise_affine=True)\n",
       "      )\n",
       "      (11): ResidualAttentionBlock(\n",
       "        (attn): MultiheadAttention(\n",
       "          (out_proj): NonDynamicallyQuantizableLinear(in_features=512, out_features=512, bias=True)\n",
       "        )\n",
       "        (ln_1): LayerNorm((512,), eps=1e-05, elementwise_affine=True)\n",
       "        (mlp): Sequential(\n",
       "          (c_fc): Linear(in_features=512, out_features=2048, bias=True)\n",
       "          (gelu): QuickGELU()\n",
       "          (c_proj): Linear(in_features=2048, out_features=512, bias=True)\n",
       "        )\n",
       "        (ln_2): LayerNorm((512,), eps=1e-05, elementwise_affine=True)\n",
       "      )\n",
       "    )\n",
       "  )\n",
       "  (decoder_embed): Linear(in_features=768, out_features=768, bias=True)\n",
       "  (decoder_blocks): ModuleList(\n",
       "    (0): Block(\n",
       "      (norm1): LayerNorm((768,), eps=1e-06, elementwise_affine=True)\n",
       "      (attn): Attention(\n",
       "        (qkv): Linear(in_features=768, out_features=2304, bias=True)\n",
       "        (attn_drop): Dropout(p=0.0, inplace=False)\n",
       "        (proj): Linear(in_features=768, out_features=768, bias=True)\n",
       "        (proj_drop): Dropout(p=0.0, inplace=False)\n",
       "      )\n",
       "      (drop_path): Identity()\n",
       "      (norm2): LayerNorm((768,), eps=1e-06, elementwise_affine=True)\n",
       "      (mlp): Mlp(\n",
       "        (fc1): Linear(in_features=768, out_features=3072, bias=True)\n",
       "        (act): GELU(approximate='none')\n",
       "        (drop1): Dropout(p=0.0, inplace=False)\n",
       "        (fc2): Linear(in_features=3072, out_features=768, bias=True)\n",
       "        (drop2): Dropout(p=0.0, inplace=False)\n",
       "      )\n",
       "    )\n",
       "  )\n",
       "  (decoder_norm): LayerNorm((768,), eps=1e-06, elementwise_affine=True)\n",
       "  (reconstruction_pred): Linear(in_features=768, out_features=768, bias=True)\n",
       "  (ibot_head): iBOTHead(\n",
       "    (mlp): CustomSequential(\n",
       "      (0): Linear(in_features=768, out_features=2048, bias=True)\n",
       "      (1): GELU(approximate='none')\n",
       "      (2): Linear(in_features=2048, out_features=2048, bias=True)\n",
       "      (3): GELU(approximate='none')\n",
       "      (4): Linear(in_features=2048, out_features=256, bias=True)\n",
       "    )\n",
       "    (last_layer): Linear(in_features=256, out_features=8192, bias=False)\n",
       "    (last_layer2): Linear(in_features=256, out_features=8192, bias=False)\n",
       "  )\n",
       "  (ibot_head_e): iBOTHead(\n",
       "    (mlp): CustomSequential(\n",
       "      (0): Linear(in_features=768, out_features=2048, bias=True)\n",
       "      (1): GELU(approximate='none')\n",
       "      (2): Linear(in_features=2048, out_features=2048, bias=True)\n",
       "      (3): GELU(approximate='none')\n",
       "      (4): Linear(in_features=2048, out_features=256, bias=True)\n",
       "    )\n",
       "    (last_layer): Linear(in_features=256, out_features=8192, bias=False)\n",
       "    (last_layer2): Linear(in_features=256, out_features=8192, bias=False)\n",
       "  )\n",
       ")"
      ]
     },
     "execution_count": 44,
     "metadata": {},
     "output_type": "execute_result"
    }
   ],
   "source": [
    "model = getattr(models, 'ICLIP_VITB16')()\n",
    "model.cuda()"
   ]
  },
  {
   "cell_type": "code",
   "execution_count": 45,
   "id": "c24baaad",
   "metadata": {},
   "outputs": [
    {
     "name": "stdout",
     "output_type": "stream",
     "text": [
      "=> creating model: ICLIP_VITB16\n",
      "\tCreating MAE projection head\n",
      "\tMAE projection head created\n",
      "\tCreating IBOT projection head\n",
      "\tkeys have been loaded for ibot head with status: <All keys matched successfully>\n",
      "\tIBOT projection head created\n",
      "\tDetailCLIP model created\n",
      "=> loaded resume checkpoint 'checkpoint_best.pt' (epoch 48)\n"
     ]
    }
   ],
   "source": [
    "# Creating model\n",
    "ckpt_path = 'checkpoint_best.pt'\n",
    "\n",
    "ckpt = torch.load(ckpt_path, map_location='cpu', weights_only=False)\n",
    "state_dict = OrderedDict()\n",
    "for k, v in ckpt['state_dict'].items():\n",
    "    state_dict[k.replace('module.', '')] = v\n",
    "\n",
    "old_args = ckpt['args']\n",
    "print(\"=> creating model: {}\".format(old_args.model))\n",
    "model = getattr(models, old_args.model)()\n",
    "model.cuda()\n",
    "model.load_state_dict(state_dict, strict=True)\n",
    "print(\"=> loaded resume checkpoint '{}' (epoch {})\".format(ckpt_path, ckpt['epoch']))"
   ]
  },
  {
   "cell_type": "code",
   "execution_count": 46,
   "id": "0e1c7565",
   "metadata": {},
   "outputs": [],
   "source": [
    "cwd = '/home/onyxia/work/DetailCLIP'\n",
    "with open(os.path.join(cwd, 'dataset_catalog.json')) as f:\n",
    "    catalog = json.load(f)\n",
    "\n",
    "with open(os.path.join(cwd, 'templates.json')) as f:\n",
    "    all_templates = json.load(f)\n",
    "\n",
    "with open(os.path.join(cwd, 'labels.json')) as f:\n",
    "    all_labels = json.load(f)"
   ]
  },
  {
   "cell_type": "code",
   "execution_count": 47,
   "id": "a0f62618",
   "metadata": {},
   "outputs": [
    {
     "name": "stdout",
     "output_type": "stream",
     "text": [
      "=> creating dataset\n"
     ]
    }
   ],
   "source": [
    "# Data loading code\n",
    "print(\"=> creating dataset\")\n",
    "tokenizer = SimpleTokenizer()\n",
    "val_transform = transforms.Compose([\n",
    "        transforms.Resize(224),\n",
    "        transforms.CenterCrop(224),\n",
    "        lambda x: x.convert('RGB'),\n",
    "        transforms.ToTensor(),\n",
    "        transforms.Normalize(mean=[0.485, 0.456, 0.406],\n",
    "                                std=[0.229, 0.224, 0.225])\n",
    "    ])\n"
   ]
  },
  {
   "cell_type": "code",
   "execution_count": 68,
   "id": "80b41460",
   "metadata": {},
   "outputs": [
    {
     "name": "stdout",
     "output_type": "stream",
     "text": [
      "Evaluating cub200\n"
     ]
    }
   ],
   "source": [
    "\n",
    "for d in catalog:\n",
    "    print('Evaluating {}'.format(d))\n",
    "    val_dataset = datasets.get_downstream_dataset(catalog, name=d, is_train=False, transform=val_transform)\n",
    "\n",
    "    val_loader = torch.utils.data.DataLoader(\n",
    "        val_dataset, batch_size=256, shuffle=False,\n",
    "        num_workers=10, pin_memory=True, drop_last=False)\n",
    "\n",
    "    templates = all_templates[d]\n",
    "    labels = all_labels[d]\n",
    "\n",
    "    model.eval()"
   ]
  },
  {
   "cell_type": "code",
   "execution_count": 69,
   "id": "ef067a9f",
   "metadata": {},
   "outputs": [
    {
     "name": "stdout",
     "output_type": "stream",
     "text": [
      "=> encoding captions\n"
     ]
    }
   ],
   "source": [
    "\n",
    "results = []\n",
    "for d in catalog:\n",
    "    print('=> encoding captions')\n",
    "    with torch.no_grad():\n",
    "        text_features = []\n",
    "        for label in labels:\n",
    "            if isinstance(label, list):\n",
    "                texts = [t.format(l) for t in templates for l in label]\n",
    "            else:\n",
    "                texts = [t.format(label) for t in templates]\n",
    "            texts = tokenizer(texts).cuda(non_blocking=True)\n",
    "            texts = texts.view(-1, 77).contiguous()\n",
    "            class_embeddings = utils.get_model(model).encode_text(texts, ema=True)\n",
    "            class_embeddings = class_embeddings / class_embeddings.norm(dim=-1, keepdim=True)\n",
    "            class_embeddings = class_embeddings.mean(dim=0)\n",
    "            class_embeddings = class_embeddings / class_embeddings.norm(dim=-1, keepdim=True)\n",
    "            text_features.append(class_embeddings)\n",
    "\n",
    "        text_features = torch.stack(text_features, dim=0)\n",
    "\n"
   ]
  },
  {
   "cell_type": "code",
   "execution_count": 50,
   "id": "fcc1d367",
   "metadata": {},
   "outputs": [],
   "source": [
    "\n",
    "with torch.no_grad():\n",
    "    image_features_tot = []\n",
    "    target_list = []\n",
    "    for images, target in val_loader:\n",
    "        images = images.cuda(non_blocking=True)\n",
    "        target = target.cuda(non_blocking=True)\n",
    "\n",
    "        # encode images\n",
    "        image_features = utils.get_model(model).encode_image(images, ema=True)\n",
    "        image_features = image_features / image_features.norm(dim=-1, keepdim=True)\n",
    "        image_features_tot.append(image_features)\n",
    "        target_list.append(target)"
   ]
  },
  {
   "cell_type": "code",
   "execution_count": 51,
   "id": "13170458",
   "metadata": {},
   "outputs": [],
   "source": [
    "image_features_cat = torch.cat(image_features_tot, dim=0)"
   ]
  },
  {
   "cell_type": "code",
   "execution_count": 52,
   "id": "01277b87",
   "metadata": {},
   "outputs": [],
   "source": [
    "color_list = torch.cat(target_list).tolist()"
   ]
  },
  {
   "cell_type": "code",
   "execution_count": 53,
   "id": "bf2e08e3",
   "metadata": {},
   "outputs": [
    {
     "data": {
      "application/vnd.plotly.v1+json": {
       "config": {
        "plotlyServerURL": "https://plot.ly"
       },
       "data": [
        {
         "hovertemplate": "<b>%{hovertext}</b><br><br>x=%{x}<br>y=%{y}<extra></extra>",
         "hovertext": [
          "Black footed Albatross ,  large seabird with a black body and white underparts",
          "Laysan Albatross ,  white seabird with dark brown wings and a black tail",
          "Sooty Albatross ,  dark brown seabird with a long, slender body",
          "Groove billed Ani ,  glossy black bird with a distinctive grooved bill",
          "Crested Auklet ,  small seabird with a distinctive orange crest",
          "Least Auklet ,The smallest seabird, with a compact body and short wings",
          "Parakeet Auklet ,  small seabird with a bright yellow-orange bill",
          "Rhinoceros Auklet ,  medium-sized seabird with a horn-like bill extension",
          "Brewer Blackbird ,  glossy black bird with a slightly iridescent sheen",
          "Red winged Blackbird ,  black bird with distinctive red and yellow shoulder patches",
          "Rusty Blackbird ,  dark bird with a rusty brown sheen on its plumage",
          "Yellow headed Blackbird ,  black bird with a bright yellow head and chest",
          "Bobolink ,  small black and white bird with a distinctive song",
          "Indigo Bunting ,  small bird with vibrant blue plumage",
          "Lazuli Bunting ,  small bird with bright blue and white feathers",
          "Painted Bunting ,  colorful bird with red, blue, and green plumage",
          "Cardinal ,  bright red bird with a distinctive crest",
          "Spotted Catbird ,  medium-sized bird with a gray body and black cap",
          "Gray Catbird ,  gray bird with a black cap and a long tail",
          "Yellow breasted Chat ,  large warbler with a yellow throat and chest",
          "Eastern Towhee ,  black and white bird with a rusty red side",
          "Chuck will Widow ,  nocturnal bird with a mottled brown and gray body",
          "Brandt Cormorant ,  large seabird with a black body and blue throat patch",
          "Red faced Cormorant ,  seabird with a black body and a bright red face",
          "Pelagic Cormorant ,  seabird with a black body and a white patch on its wings",
          "Bronzed Cowbird ,  dark bird with a metallic bronze sheen",
          "Shiny Cowbird ,  glossy black bird with a slightly iridescent sheen",
          "Brown Creeper ,  small, brown bird that spirals up tree trunks",
          "American Crow ,  large black bird with a stout bill",
          "Fish Crow ,  smaller crow with a slightly more rounded bill",
          "Black billed Cuckoo ,  slender bird with a long tail and black bill",
          "Mangrove Cuckoo ,  medium-sized bird with a long tail and a curved bill",
          "Yellow billed Cuckoo ,  slender bird with a long tail and yellow bill",
          "Gray crowned Rosy Finch ,  small bird with gray plumage and a rosy pink belly",
          "Purple Finch ,  small bird with a reddish-purple body",
          "Northern Flicker ,  large woodpecker with a brown body and spotted belly",
          "Acadian Flycatcher ,  small flycatcher with a greenish back and white underparts",
          "Great Crested Flycatcher ,  large flycatcher with a gray body and yellow belly",
          "Least Flycatcher ,  small flycatcher with a greenish back and white underparts",
          "Olive sided Flycatcher ,  medium-sized flycatcher with an olive-green back",
          "Scissor tailed Flycatcher ,  flycatcher with long, scissor-like tail feathers",
          "Vermilion Flycatcher ,  small flycatcher with bright red plumage",
          "Yellow bellied Flycatcher ,  small flycatcher with a yellow belly and olive-green back",
          "Frigatebird ,  large seabird with a long, forked tail and a red throat pouch",
          "Northern Fulmar ,  seabird with a stout bill and a thick body",
          "Gadwall ,  medium-sized duck with a gray body and a white belly",
          "American Goldfinch ,  small finch with bright yellow plumage",
          "European Goldfinch ,  small finch with a red face and yellow wing patch",
          "Boat tailed Grackle ,  large blackbird with a long, keel-shaped tail",
          "Eared Grebe ,  small grebe with distinctive ear-like tufts",
          "Horned Grebe ,  small grebe with black and white plumage and red eyes",
          "Pied billed Grebe ,  small grebe with a stout, black bill",
          "Western Grebe ,  large grebe with a long, slender neck",
          "Blue Grosbeak ,  large, blue bird with a thick bill",
          "Evening Grosbeak , large finch with a yellow body and black wings",
          "Pine Grosbeak, large finch with a rosy red body and gray wings",
          "Rose breasted Grosbeak, medium-sized songbird with a black head and a distinctive rose-red chest",
          "Pigeon Guillemot, seabird with black plumage and white wing patches",
          "California Gull, medium-sized gull with a white body and gray wings",
          "Glaucous winged Gull, large gull with pale gray wings and a white body",
          "Heermann Gull, medium-sized gull with a dark gray body and a bright red bill",
          "Herring Gull, large gull with a white body and gray wings",
          "Ivory Gull, small, all-white seabird with a black bill",
          "Ring billed Gull, medium-sized gull with a white body and a black ring on its yellow bill",
          "Slaty backed Gull, large gull with dark gray wings and a white body",
          "Western Gull, large gull with a white body and dark gray wings",
          "Anna Hummingbird, small hummingbird with iridescent green plumage and a rose-red throat",
          "Ruby throated Hummingbird, small hummingbird with a bright red throat and green back",
          "Rufous Hummingbird, small hummingbird with orange-red plumage and a white belly",
          "Green Violetear, medium-sized hummingbird with green plumage and a violet throat",
          "Long tailed Jaeger, seabird with a slender body and long, pointed tail feathers",
          "Pomarine Jaeger, large seabird with a stout bill and long, pointed tail feathers",
          "Blue Jay, medium-sized bird with blue and white plumage and a black necklace",
          "Florida Jay, medium-sized bird with blue and gray plumage and a black crown",
          "Green Jay, colorful bird with green, yellow, and black plumage",
          "Dark eyed Junco, small sparrow with a dark gray head and back, and a white belly",
          "Tropical Kingbird, large flycatcher with a gray head and yellow belly",
          "Gray Kingbird, medium-sized flycatcher with gray plumage and a white belly",
          "Belted Kingfisher, medium-sized bird with a blue body and a white belly",
          "Green Kingfisher, small kingfisher with green plumage and a white belly",
          "Pied Kingfisher, medium-sized kingfisher with black and white plumage",
          "Ringed Kingfisher, large kingfisher with a blue body and a white belly",
          "White breasted Kingfisher, large kingfisher with white and brown plumage",
          "Red legged Kittiwake, small gull with a white body and red legs",
          "Horned Lark, small bird with a brown body and black 'horns' on its head",
          "Pacific Loon, large seabird with a black head and white underparts",
          "Mallard, medium-sized duck with a glossy green head and a white neck ring",
          "Western Meadowlark, large songbird with a yellow belly and a black 'V' on its chest",
          "Hooded Merganser, small duck with a distinctive fan-shaped crest",
          "Red breasted Merganser, medium-sized duck with a red head and a slender body",
          "Mockingbird, medium-sized songbird with gray plumage and a white belly",
          "Nighthawk, nocturnal bird with a wide mouth and a long, pointed tail",
          "Clark Nutcracker, medium-sized bird with gray plumage and a black bill",
          "White breasted Nuthatch, small bird with blue-gray plumage and a white belly",
          "Baltimore Oriole, brightly colored bird with orange and black plumage",
          "Hooded Oriole, brightly colored bird with yellow and black plumage",
          "Orchard Oriole, small oriole with orange and black plumage",
          "Scott Oriole, brightly colored bird with yellow and black plumage",
          "Ovenbird, small warbler with olive-green plumage and a white belly",
          "Brown Pelican, large seabird with a long bill and a distinctive pouch",
          "White Pelican, large seabird with a long bill and a distinctive pouch",
          "Western Wood Pewee, small flycatcher with grayish-green plumage",
          "Sayornis, genus of flycatchers with grayish plumage",
          "American Pipit, small songbird with brown and streaked plumage",
          "Whip poor Will, nocturnal bird with mottled brown plumage",
          "Horned Puffin, seabird with a black body and a colorful bill",
          "Common Raven, large black bird with a thick bill",
          "White necked Raven, large black bird with a white patch on its",
          "American Redstart, small, brightly colored warbler with black upperparts and orange patches",
          "Geococcyx, large, long-legged cuckoo with a distinctive crest and long tail feathers",
          "Loggerhead Shrike, medium-sized songbird with a hooked bill and a black mask across its eyes",
          "Great Grey Shrike, large, pale shrike with a broad black mask and long tail",
          "Baird Sparrow, small, streaked sparrow with a pale belly and dark crown",
          "Black throated Sparrow, small sparrow with a black throat and white underparts",
          "Brewer Sparrow, small, plain sparrow with a streaked back and pale belly",
          "Chipping Sparrow, small sparrow with a rufous cap and a white line above the eye",
          "Clay colored Sparrow, small sparrow with a pale, uniform grayish-brown body",
          "House Sparrow, small, stocky sparrow with a black bib and chestnut-colored wings",
          "Field Sparrow, small sparrow with a pale face and a pink bill",
          "Fox Sparrow, large sparrow with reddish-brown plumage and a heavily streaked breast",
          "Grasshopper Sparrow, small, cryptic sparrow with a short tail and plain brown plumage",
          "Harris Sparrow, medium-sized sparrow with a dark head and bib, and a pale belly",
          "Henslow Sparrow, small, secretive sparrow with a greenish back and streaked sides",
          "Le Conte Sparrow, small, secretive sparrow with a yellowish face and streaked back",
          "Lincoln Sparrow, small sparrow with a streaked breast and a pale belly",
          "Nelson Sharp tailed Sparrow, small sparrow with a sharp tail and streaked back",
          "Savannah Sparrow, small sparrow with a streaked back and a yellowish face",
          "Seaside Sparrow, small, secretive sparrow with a streaked back and pale underparts",
          "Song Sparrow, medium-sized sparrow with streaked breast and a dark central spot",
          "Tree Sparrow, small sparrow with a rufous cap and a dark spot on its chest",
          "Vesper Sparrow, medium-sized sparrow with a white outer tail and streaked back",
          "White crowned Sparrow, medium-sized sparrow with bold black and white head stripes",
          "White throated Sparrow, medium-sized sparrow with a white throat and yellow spots near the bill",
          "Cape Glossy Starling, medium-sized starling with iridescent green and purple plumage",
          "Bank Swallow, small swallow with a brown cap and a white throat",
          "Barn Swallow, small swallow with a deeply forked tail and a blue back",
          "Cliff Swallow, small swallow with a square tail and a pale forehead",
          "Tree Swallow, small swallow with a white belly and iridescent greenish-blue back",
          "Scarlet Tanager, medium-sized songbird with bright red plumage and black wings",
          "Summer Tanager, medium-sized songbird with all-red plumage and a stout bill",
          "Artic Tern, medium-sized tern with a black cap and a forked tail",
          "Black Tern, small tern with a black cap and dark wings",
          "Caspian Tern, large tern with a red bill and a black cap",
          "Common Tern, medium-sized tern with a black cap and a slender bill",
          "Elegant Tern, medium-sized tern with a long, slender bill and a black crest",
          "Forsters Tern, medium-sized tern with a black cap and a slender bill",
          "Least Tern, the smallest tern in North America with a black cap and a yellow bill",
          "Green tailed Towhee, medium-sized sparrow with a greenish back and a long tail",
          "Brown Thrasher, large songbird with brown streaked plumage and a long tail",
          "Sage Thrasher, medium-sized songbird with grayish-brown plumage and a long tail",
          "Black capped Vireo, small songbird with a black cap and olive-green back",
          "Blue headed Vireo, small songbird with a blue-gray head and olive-green back",
          "Philadelphia Vireo, small songbird with a yellowish belly and olive-green back",
          "Red eyed Vireo, small songbird with a red eye and olive-green back",
          "Warbling Vireo, small songbird with a grayish back and a pale belly",
          "White eyed Vireo, small songbird with white eyes and a grayish back",
          "Yellow throated Vireo, small songbird with a yellow throat and olive-green back",
          "Bay breasted Warbler, small warbler with a chestnut-colored back and a pale belly",
          "Black and white Warbler, small warbler with black and white striped plumage",
          "Black throated Blue Warbler, small warbler with a blue back and black throat",
          "Blue winged Warbler, small warbler with blue-gray wings and a yellow belly",
          "Canada Warbler, small warbler with a yellow belly and a black necklace",
          "Cape May Warbler, small warbler with a yellow belly and a black cap",
          "Cerulean Warbler, small warbler with a blue back and white belly",
          "Chestnut sided Warbler, small warbler with chestnut-colored sides and a white belly",
          "Golden winged Warbler, small warbler with golden-yellow wings and a gray back",
          "Hooded Warbler, small warbler with a black hood and yellow belly",
          "Kentucky Warbler, small warbler with a yellow belly and olive-green back",
          "Magnolia Warbler, small warbler with a yellow belly and black streaks",
          "Mourning Warbler, small warbler with a gray back and yellow belly",
          "Myrtle Warbler, small warbler with a white belly and black streaks",
          "Nashville Warbler, small warbler with a yellow belly and olive-green back",
          "Orange crowned Warbler, small warbler with an orange crown and olive-green back",
          "Palm Warbler",
          "Pine Warbler, small warbler with a yellow belly and olive-green back",
          "Prairie Warbler, small warbler with a yellow belly and olive-green back",
          "Prothonotary Warbler, small warbler with a bright yellow belly and blue-gray back",
          "Swainson Warbler, small warbler with a brown back and yellow belly",
          "Tennessee Warbler, small warbler with a yellow belly and olive-green back",
          "Wilson Warbler, small warbler with a yellow belly and olive-green back",
          "Worm eating Warbler, small warbler with a yellow belly and olive-green back",
          "Yellow Warbler, small, bright yellow warbler with reddish streaks on its chest",
          "Northern Waterthrush, brown warbler with a heavily streaked belly and a bold white eyebrow",
          "Louisiana Waterthrush, large, brownish warbler with a clean white belly and a broad white eyebrow",
          "Bohemian Waxwing, sleek bird with grayish plumage, a crest, and red waxy tips on wing feathers",
          "Cedar Waxwing, smooth, sleek bird with silky brown plumage, a crest, and yellow tail tips",
          "American Three toed Woodpecker, small woodpecker with black-and-white plumage and a yellow crown",
          "Pileated Woodpecker, large woodpecker with black body, white stripes, and a red crest",
          "Red bellied Woodpecker, medium-sized woodpecker with black-and-white barred back and red cap",
          "Red cockaded Woodpecker, small black-and-white woodpecker with a red streak on the head (males)",
          "Red headed Woodpecker, striking woodpecker with a completely red head and black-and-white body",
          "Downy Woodpecker, small woodpecker with black-and-white plumage and a small red spot on the head (males)",
          "Bewick Wren, small brown wren with a long white eyebrow and long tail often held upright",
          "Cactus Wren, large wren with a spotted breast, white eyebrow, and slightly curved bill",
          "Carolina Wren, small, chunky bird with warm brown plumage and a bold white eyebrow",
          "House Wren, small, plain brown wren with a short tail and slightly curved bill",
          "Marsh Wren, small, secretive wren with a streaked back and a bold white eyebrow",
          "Rock Wren, pale grayish-brown wren with a spotted belly and a slightly curved bill",
          "Winter Wren, tiny, dark brown wren with a short tail and finely barred flanks",
          "Common Yellowthroat"
         ],
         "legendgroup": "",
         "marker": {
          "color": "#636efa",
          "symbol": "circle"
         },
         "mode": "markers",
         "name": "",
         "orientation": "v",
         "showlegend": false,
         "type": "scatter",
         "x": {
          "bdata": "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",
          "dtype": "f8"
         },
         "xaxis": "x",
         "y": {
          "bdata": "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",
          "dtype": "f8"
         },
         "yaxis": "y"
        }
       ],
       "layout": {
        "legend": {
         "tracegroupgap": 0
        },
        "margin": {
         "t": 60
        },
        "template": {
         "data": {
          "bar": [
           {
            "error_x": {
             "color": "#2a3f5f"
            },
            "error_y": {
             "color": "#2a3f5f"
            },
            "marker": {
             "line": {
              "color": "#E5ECF6",
              "width": 0.5
             },
             "pattern": {
              "fillmode": "overlay",
              "size": 10,
              "solidity": 0.2
             }
            },
            "type": "bar"
           }
          ],
          "barpolar": [
           {
            "marker": {
             "line": {
              "color": "#E5ECF6",
              "width": 0.5
             },
             "pattern": {
              "fillmode": "overlay",
              "size": 10,
              "solidity": 0.2
             }
            },
            "type": "barpolar"
           }
          ],
          "carpet": [
           {
            "aaxis": {
             "endlinecolor": "#2a3f5f",
             "gridcolor": "white",
             "linecolor": "white",
             "minorgridcolor": "white",
             "startlinecolor": "#2a3f5f"
            },
            "baxis": {
             "endlinecolor": "#2a3f5f",
             "gridcolor": "white",
             "linecolor": "white",
             "minorgridcolor": "white",
             "startlinecolor": "#2a3f5f"
            },
            "type": "carpet"
           }
          ],
          "choropleth": [
           {
            "colorbar": {
             "outlinewidth": 0,
             "ticks": ""
            },
            "type": "choropleth"
           }
          ],
          "contour": [
           {
            "colorbar": {
             "outlinewidth": 0,
             "ticks": ""
            },
            "colorscale": [
             [
              0,
              "#0d0887"
             ],
             [
              0.1111111111111111,
              "#46039f"
             ],
             [
              0.2222222222222222,
              "#7201a8"
             ],
             [
              0.3333333333333333,
              "#9c179e"
             ],
             [
              0.4444444444444444,
              "#bd3786"
             ],
             [
              0.5555555555555556,
              "#d8576b"
             ],
             [
              0.6666666666666666,
              "#ed7953"
             ],
             [
              0.7777777777777778,
              "#fb9f3a"
             ],
             [
              0.8888888888888888,
              "#fdca26"
             ],
             [
              1,
              "#f0f921"
             ]
            ],
            "type": "contour"
           }
          ],
          "contourcarpet": [
           {
            "colorbar": {
             "outlinewidth": 0,
             "ticks": ""
            },
            "type": "contourcarpet"
           }
          ],
          "heatmap": [
           {
            "colorbar": {
             "outlinewidth": 0,
             "ticks": ""
            },
            "colorscale": [
             [
              0,
              "#0d0887"
             ],
             [
              0.1111111111111111,
              "#46039f"
             ],
             [
              0.2222222222222222,
              "#7201a8"
             ],
             [
              0.3333333333333333,
              "#9c179e"
             ],
             [
              0.4444444444444444,
              "#bd3786"
             ],
             [
              0.5555555555555556,
              "#d8576b"
             ],
             [
              0.6666666666666666,
              "#ed7953"
             ],
             [
              0.7777777777777778,
              "#fb9f3a"
             ],
             [
              0.8888888888888888,
              "#fdca26"
             ],
             [
              1,
              "#f0f921"
             ]
            ],
            "type": "heatmap"
           }
          ],
          "histogram": [
           {
            "marker": {
             "pattern": {
              "fillmode": "overlay",
              "size": 10,
              "solidity": 0.2
             }
            },
            "type": "histogram"
           }
          ],
          "histogram2d": [
           {
            "colorbar": {
             "outlinewidth": 0,
             "ticks": ""
            },
            "colorscale": [
             [
              0,
              "#0d0887"
             ],
             [
              0.1111111111111111,
              "#46039f"
             ],
             [
              0.2222222222222222,
              "#7201a8"
             ],
             [
              0.3333333333333333,
              "#9c179e"
             ],
             [
              0.4444444444444444,
              "#bd3786"
             ],
             [
              0.5555555555555556,
              "#d8576b"
             ],
             [
              0.6666666666666666,
              "#ed7953"
             ],
             [
              0.7777777777777778,
              "#fb9f3a"
             ],
             [
              0.8888888888888888,
              "#fdca26"
             ],
             [
              1,
              "#f0f921"
             ]
            ],
            "type": "histogram2d"
           }
          ],
          "histogram2dcontour": [
           {
            "colorbar": {
             "outlinewidth": 0,
             "ticks": ""
            },
            "colorscale": [
             [
              0,
              "#0d0887"
             ],
             [
              0.1111111111111111,
              "#46039f"
             ],
             [
              0.2222222222222222,
              "#7201a8"
             ],
             [
              0.3333333333333333,
              "#9c179e"
             ],
             [
              0.4444444444444444,
              "#bd3786"
             ],
             [
              0.5555555555555556,
              "#d8576b"
             ],
             [
              0.6666666666666666,
              "#ed7953"
             ],
             [
              0.7777777777777778,
              "#fb9f3a"
             ],
             [
              0.8888888888888888,
              "#fdca26"
             ],
             [
              1,
              "#f0f921"
             ]
            ],
            "type": "histogram2dcontour"
           }
          ],
          "mesh3d": [
           {
            "colorbar": {
             "outlinewidth": 0,
             "ticks": ""
            },
            "type": "mesh3d"
           }
          ],
          "parcoords": [
           {
            "line": {
             "colorbar": {
              "outlinewidth": 0,
              "ticks": ""
             }
            },
            "type": "parcoords"
           }
          ],
          "pie": [
           {
            "automargin": true,
            "type": "pie"
           }
          ],
          "scatter": [
           {
            "fillpattern": {
             "fillmode": "overlay",
             "size": 10,
             "solidity": 0.2
            },
            "type": "scatter"
           }
          ],
          "scatter3d": [
           {
            "line": {
             "colorbar": {
              "outlinewidth": 0,
              "ticks": ""
             }
            },
            "marker": {
             "colorbar": {
              "outlinewidth": 0,
              "ticks": ""
             }
            },
            "type": "scatter3d"
           }
          ],
          "scattercarpet": [
           {
            "marker": {
             "colorbar": {
              "outlinewidth": 0,
              "ticks": ""
             }
            },
            "type": "scattercarpet"
           }
          ],
          "scattergeo": [
           {
            "marker": {
             "colorbar": {
              "outlinewidth": 0,
              "ticks": ""
             }
            },
            "type": "scattergeo"
           }
          ],
          "scattergl": [
           {
            "marker": {
             "colorbar": {
              "outlinewidth": 0,
              "ticks": ""
             }
            },
            "type": "scattergl"
           }
          ],
          "scattermap": [
           {
            "marker": {
             "colorbar": {
              "outlinewidth": 0,
              "ticks": ""
             }
            },
            "type": "scattermap"
           }
          ],
          "scattermapbox": [
           {
            "marker": {
             "colorbar": {
              "outlinewidth": 0,
              "ticks": ""
             }
            },
            "type": "scattermapbox"
           }
          ],
          "scatterpolar": [
           {
            "marker": {
             "colorbar": {
              "outlinewidth": 0,
              "ticks": ""
             }
            },
            "type": "scatterpolar"
           }
          ],
          "scatterpolargl": [
           {
            "marker": {
             "colorbar": {
              "outlinewidth": 0,
              "ticks": ""
             }
            },
            "type": "scatterpolargl"
           }
          ],
          "scatterternary": [
           {
            "marker": {
             "colorbar": {
              "outlinewidth": 0,
              "ticks": ""
             }
            },
            "type": "scatterternary"
           }
          ],
          "surface": [
           {
            "colorbar": {
             "outlinewidth": 0,
             "ticks": ""
            },
            "colorscale": [
             [
              0,
              "#0d0887"
             ],
             [
              0.1111111111111111,
              "#46039f"
             ],
             [
              0.2222222222222222,
              "#7201a8"
             ],
             [
              0.3333333333333333,
              "#9c179e"
             ],
             [
              0.4444444444444444,
              "#bd3786"
             ],
             [
              0.5555555555555556,
              "#d8576b"
             ],
             [
              0.6666666666666666,
              "#ed7953"
             ],
             [
              0.7777777777777778,
              "#fb9f3a"
             ],
             [
              0.8888888888888888,
              "#fdca26"
             ],
             [
              1,
              "#f0f921"
             ]
            ],
            "type": "surface"
           }
          ],
          "table": [
           {
            "cells": {
             "fill": {
              "color": "#EBF0F8"
             },
             "line": {
              "color": "white"
             }
            },
            "header": {
             "fill": {
              "color": "#C8D4E3"
             },
             "line": {
              "color": "white"
             }
            },
            "type": "table"
           }
          ]
         },
         "layout": {
          "annotationdefaults": {
           "arrowcolor": "#2a3f5f",
           "arrowhead": 0,
           "arrowwidth": 1
          },
          "autotypenumbers": "strict",
          "coloraxis": {
           "colorbar": {
            "outlinewidth": 0,
            "ticks": ""
           }
          },
          "colorscale": {
           "diverging": [
            [
             0,
             "#8e0152"
            ],
            [
             0.1,
             "#c51b7d"
            ],
            [
             0.2,
             "#de77ae"
            ],
            [
             0.3,
             "#f1b6da"
            ],
            [
             0.4,
             "#fde0ef"
            ],
            [
             0.5,
             "#f7f7f7"
            ],
            [
             0.6,
             "#e6f5d0"
            ],
            [
             0.7,
             "#b8e186"
            ],
            [
             0.8,
             "#7fbc41"
            ],
            [
             0.9,
             "#4d9221"
            ],
            [
             1,
             "#276419"
            ]
           ],
           "sequential": [
            [
             0,
             "#0d0887"
            ],
            [
             0.1111111111111111,
             "#46039f"
            ],
            [
             0.2222222222222222,
             "#7201a8"
            ],
            [
             0.3333333333333333,
             "#9c179e"
            ],
            [
             0.4444444444444444,
             "#bd3786"
            ],
            [
             0.5555555555555556,
             "#d8576b"
            ],
            [
             0.6666666666666666,
             "#ed7953"
            ],
            [
             0.7777777777777778,
             "#fb9f3a"
            ],
            [
             0.8888888888888888,
             "#fdca26"
            ],
            [
             1,
             "#f0f921"
            ]
           ],
           "sequentialminus": [
            [
             0,
             "#0d0887"
            ],
            [
             0.1111111111111111,
             "#46039f"
            ],
            [
             0.2222222222222222,
             "#7201a8"
            ],
            [
             0.3333333333333333,
             "#9c179e"
            ],
            [
             0.4444444444444444,
             "#bd3786"
            ],
            [
             0.5555555555555556,
             "#d8576b"
            ],
            [
             0.6666666666666666,
             "#ed7953"
            ],
            [
             0.7777777777777778,
             "#fb9f3a"
            ],
            [
             0.8888888888888888,
             "#fdca26"
            ],
            [
             1,
             "#f0f921"
            ]
           ]
          },
          "colorway": [
           "#636efa",
           "#EF553B",
           "#00cc96",
           "#ab63fa",
           "#FFA15A",
           "#19d3f3",
           "#FF6692",
           "#B6E880",
           "#FF97FF",
           "#FECB52"
          ],
          "font": {
           "color": "#2a3f5f"
          },
          "geo": {
           "bgcolor": "white",
           "lakecolor": "white",
           "landcolor": "#E5ECF6",
           "showlakes": true,
           "showland": true,
           "subunitcolor": "white"
          },
          "hoverlabel": {
           "align": "left"
          },
          "hovermode": "closest",
          "mapbox": {
           "style": "light"
          },
          "paper_bgcolor": "white",
          "plot_bgcolor": "#E5ECF6",
          "polar": {
           "angularaxis": {
            "gridcolor": "white",
            "linecolor": "white",
            "ticks": ""
           },
           "bgcolor": "#E5ECF6",
           "radialaxis": {
            "gridcolor": "white",
            "linecolor": "white",
            "ticks": ""
           }
          },
          "scene": {
           "xaxis": {
            "backgroundcolor": "#E5ECF6",
            "gridcolor": "white",
            "gridwidth": 2,
            "linecolor": "white",
            "showbackground": true,
            "ticks": "",
            "zerolinecolor": "white"
           },
           "yaxis": {
            "backgroundcolor": "#E5ECF6",
            "gridcolor": "white",
            "gridwidth": 2,
            "linecolor": "white",
            "showbackground": true,
            "ticks": "",
            "zerolinecolor": "white"
           },
           "zaxis": {
            "backgroundcolor": "#E5ECF6",
            "gridcolor": "white",
            "gridwidth": 2,
            "linecolor": "white",
            "showbackground": true,
            "ticks": "",
            "zerolinecolor": "white"
           }
          },
          "shapedefaults": {
           "line": {
            "color": "#2a3f5f"
           }
          },
          "ternary": {
           "aaxis": {
            "gridcolor": "white",
            "linecolor": "white",
            "ticks": ""
           },
           "baxis": {
            "gridcolor": "white",
            "linecolor": "white",
            "ticks": ""
           },
           "bgcolor": "#E5ECF6",
           "caxis": {
            "gridcolor": "white",
            "linecolor": "white",
            "ticks": ""
           }
          },
          "title": {
           "x": 0.05
          },
          "xaxis": {
           "automargin": true,
           "gridcolor": "white",
           "linecolor": "white",
           "ticks": "",
           "title": {
            "standoff": 15
           },
           "zerolinecolor": "white",
           "zerolinewidth": 2
          },
          "yaxis": {
           "automargin": true,
           "gridcolor": "white",
           "linecolor": "white",
           "ticks": "",
           "title": {
            "standoff": 15
           },
           "zerolinecolor": "white",
           "zerolinewidth": 2
          }
         }
        },
        "title": {
         "text": "PCA visualization of Custom Classification dataset"
        },
        "xaxis": {
         "anchor": "y",
         "domain": [
          0,
          1
         ],
         "title": {
          "text": "First Principal Component"
         }
        },
        "yaxis": {
         "anchor": "x",
         "domain": [
          0,
          1
         ],
         "title": {
          "text": "Second Principal Component"
         }
        }
       }
      }
     },
     "metadata": {},
     "output_type": "display_data"
    }
   ],
   "source": [
    "# text features PCA\n",
    "\n",
    "text_features_pca = text_features\n",
    "pca = PCA(n_components=2)\n",
    "text_pca = pca.fit_transform(text_features_pca.to('cpu'))\n",
    "\n",
    "fig = px.scatter(x=text_pca[:, 0], y=text_pca[:, 1], hover_name=[all_labels[d] for d in catalog][0])\n",
    "fig.update_layout(\n",
    "    title=\"PCA visualization of Custom Classification dataset\",\n",
    "    xaxis_title=\"First Principal Component\",\n",
    "    yaxis_title=\"Second Principal Component\",\n",
    ")\n",
    "fig.show()"
   ]
  },
  {
   "cell_type": "code",
   "execution_count": 54,
   "id": "37c491da",
   "metadata": {},
   "outputs": [
    {
     "data": {
      "application/vnd.plotly.v1+json": {
       "config": {
        "plotlyServerURL": "https://plot.ly"
       },
       "data": [
        {
         "hovertemplate": "x=%{x}<br>y=%{y}<br>color=%{marker.color}<extra></extra>",
         "legendgroup": "",
         "marker": {
          "color": {
           "bdata": "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",
           "dtype": "i2"
          },
          "coloraxis": "coloraxis",
          "symbol": "circle"
         },
         "mode": "markers",
         "name": "",
         "showlegend": false,
         "type": "scattergl",
         "x": {
          "bdata": "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",
          "dtype": "f8"
         },
         "xaxis": "x",
         "y": {
          "bdata": "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",
          "dtype": "f8"
         },
         "yaxis": "y"
        }
       ],
       "layout": {
        "coloraxis": {
         "colorbar": {
          "title": {
           "text": "color"
          }
         },
         "colorscale": [
          [
           0,
           "#0d0887"
          ],
          [
           0.1111111111111111,
           "#46039f"
          ],
          [
           0.2222222222222222,
           "#7201a8"
          ],
          [
           0.3333333333333333,
           "#9c179e"
          ],
          [
           0.4444444444444444,
           "#bd3786"
          ],
          [
           0.5555555555555556,
           "#d8576b"
          ],
          [
           0.6666666666666666,
           "#ed7953"
          ],
          [
           0.7777777777777778,
           "#fb9f3a"
          ],
          [
           0.8888888888888888,
           "#fdca26"
          ],
          [
           1,
           "#f0f921"
          ]
         ]
        },
        "legend": {
         "tracegroupgap": 0
        },
        "margin": {
         "t": 60
        },
        "template": {
         "data": {
          "bar": [
           {
            "error_x": {
             "color": "#2a3f5f"
            },
            "error_y": {
             "color": "#2a3f5f"
            },
            "marker": {
             "line": {
              "color": "#E5ECF6",
              "width": 0.5
             },
             "pattern": {
              "fillmode": "overlay",
              "size": 10,
              "solidity": 0.2
             }
            },
            "type": "bar"
           }
          ],
          "barpolar": [
           {
            "marker": {
             "line": {
              "color": "#E5ECF6",
              "width": 0.5
             },
             "pattern": {
              "fillmode": "overlay",
              "size": 10,
              "solidity": 0.2
             }
            },
            "type": "barpolar"
           }
          ],
          "carpet": [
           {
            "aaxis": {
             "endlinecolor": "#2a3f5f",
             "gridcolor": "white",
             "linecolor": "white",
             "minorgridcolor": "white",
             "startlinecolor": "#2a3f5f"
            },
            "baxis": {
             "endlinecolor": "#2a3f5f",
             "gridcolor": "white",
             "linecolor": "white",
             "minorgridcolor": "white",
             "startlinecolor": "#2a3f5f"
            },
            "type": "carpet"
           }
          ],
          "choropleth": [
           {
            "colorbar": {
             "outlinewidth": 0,
             "ticks": ""
            },
            "type": "choropleth"
           }
          ],
          "contour": [
           {
            "colorbar": {
             "outlinewidth": 0,
             "ticks": ""
            },
            "colorscale": [
             [
              0,
              "#0d0887"
             ],
             [
              0.1111111111111111,
              "#46039f"
             ],
             [
              0.2222222222222222,
              "#7201a8"
             ],
             [
              0.3333333333333333,
              "#9c179e"
             ],
             [
              0.4444444444444444,
              "#bd3786"
             ],
             [
              0.5555555555555556,
              "#d8576b"
             ],
             [
              0.6666666666666666,
              "#ed7953"
             ],
             [
              0.7777777777777778,
              "#fb9f3a"
             ],
             [
              0.8888888888888888,
              "#fdca26"
             ],
             [
              1,
              "#f0f921"
             ]
            ],
            "type": "contour"
           }
          ],
          "contourcarpet": [
           {
            "colorbar": {
             "outlinewidth": 0,
             "ticks": ""
            },
            "type": "contourcarpet"
           }
          ],
          "heatmap": [
           {
            "colorbar": {
             "outlinewidth": 0,
             "ticks": ""
            },
            "colorscale": [
             [
              0,
              "#0d0887"
             ],
             [
              0.1111111111111111,
              "#46039f"
             ],
             [
              0.2222222222222222,
              "#7201a8"
             ],
             [
              0.3333333333333333,
              "#9c179e"
             ],
             [
              0.4444444444444444,
              "#bd3786"
             ],
             [
              0.5555555555555556,
              "#d8576b"
             ],
             [
              0.6666666666666666,
              "#ed7953"
             ],
             [
              0.7777777777777778,
              "#fb9f3a"
             ],
             [
              0.8888888888888888,
              "#fdca26"
             ],
             [
              1,
              "#f0f921"
             ]
            ],
            "type": "heatmap"
           }
          ],
          "histogram": [
           {
            "marker": {
             "pattern": {
              "fillmode": "overlay",
              "size": 10,
              "solidity": 0.2
             }
            },
            "type": "histogram"
           }
          ],
          "histogram2d": [
           {
            "colorbar": {
             "outlinewidth": 0,
             "ticks": ""
            },
            "colorscale": [
             [
              0,
              "#0d0887"
             ],
             [
              0.1111111111111111,
              "#46039f"
             ],
             [
              0.2222222222222222,
              "#7201a8"
             ],
             [
              0.3333333333333333,
              "#9c179e"
             ],
             [
              0.4444444444444444,
              "#bd3786"
             ],
             [
              0.5555555555555556,
              "#d8576b"
             ],
             [
              0.6666666666666666,
              "#ed7953"
             ],
             [
              0.7777777777777778,
              "#fb9f3a"
             ],
             [
              0.8888888888888888,
              "#fdca26"
             ],
             [
              1,
              "#f0f921"
             ]
            ],
            "type": "histogram2d"
           }
          ],
          "histogram2dcontour": [
           {
            "colorbar": {
             "outlinewidth": 0,
             "ticks": ""
            },
            "colorscale": [
             [
              0,
              "#0d0887"
             ],
             [
              0.1111111111111111,
              "#46039f"
             ],
             [
              0.2222222222222222,
              "#7201a8"
             ],
             [
              0.3333333333333333,
              "#9c179e"
             ],
             [
              0.4444444444444444,
              "#bd3786"
             ],
             [
              0.5555555555555556,
              "#d8576b"
             ],
             [
              0.6666666666666666,
              "#ed7953"
             ],
             [
              0.7777777777777778,
              "#fb9f3a"
             ],
             [
              0.8888888888888888,
              "#fdca26"
             ],
             [
              1,
              "#f0f921"
             ]
            ],
            "type": "histogram2dcontour"
           }
          ],
          "mesh3d": [
           {
            "colorbar": {
             "outlinewidth": 0,
             "ticks": ""
            },
            "type": "mesh3d"
           }
          ],
          "parcoords": [
           {
            "line": {
             "colorbar": {
              "outlinewidth": 0,
              "ticks": ""
             }
            },
            "type": "parcoords"
           }
          ],
          "pie": [
           {
            "automargin": true,
            "type": "pie"
           }
          ],
          "scatter": [
           {
            "fillpattern": {
             "fillmode": "overlay",
             "size": 10,
             "solidity": 0.2
            },
            "type": "scatter"
           }
          ],
          "scatter3d": [
           {
            "line": {
             "colorbar": {
              "outlinewidth": 0,
              "ticks": ""
             }
            },
            "marker": {
             "colorbar": {
              "outlinewidth": 0,
              "ticks": ""
             }
            },
            "type": "scatter3d"
           }
          ],
          "scattercarpet": [
           {
            "marker": {
             "colorbar": {
              "outlinewidth": 0,
              "ticks": ""
             }
            },
            "type": "scattercarpet"
           }
          ],
          "scattergeo": [
           {
            "marker": {
             "colorbar": {
              "outlinewidth": 0,
              "ticks": ""
             }
            },
            "type": "scattergeo"
           }
          ],
          "scattergl": [
           {
            "marker": {
             "colorbar": {
              "outlinewidth": 0,
              "ticks": ""
             }
            },
            "type": "scattergl"
           }
          ],
          "scattermap": [
           {
            "marker": {
             "colorbar": {
              "outlinewidth": 0,
              "ticks": ""
             }
            },
            "type": "scattermap"
           }
          ],
          "scattermapbox": [
           {
            "marker": {
             "colorbar": {
              "outlinewidth": 0,
              "ticks": ""
             }
            },
            "type": "scattermapbox"
           }
          ],
          "scatterpolar": [
           {
            "marker": {
             "colorbar": {
              "outlinewidth": 0,
              "ticks": ""
             }
            },
            "type": "scatterpolar"
           }
          ],
          "scatterpolargl": [
           {
            "marker": {
             "colorbar": {
              "outlinewidth": 0,
              "ticks": ""
             }
            },
            "type": "scatterpolargl"
           }
          ],
          "scatterternary": [
           {
            "marker": {
             "colorbar": {
              "outlinewidth": 0,
              "ticks": ""
             }
            },
            "type": "scatterternary"
           }
          ],
          "surface": [
           {
            "colorbar": {
             "outlinewidth": 0,
             "ticks": ""
            },
            "colorscale": [
             [
              0,
              "#0d0887"
             ],
             [
              0.1111111111111111,
              "#46039f"
             ],
             [
              0.2222222222222222,
              "#7201a8"
             ],
             [
              0.3333333333333333,
              "#9c179e"
             ],
             [
              0.4444444444444444,
              "#bd3786"
             ],
             [
              0.5555555555555556,
              "#d8576b"
             ],
             [
              0.6666666666666666,
              "#ed7953"
             ],
             [
              0.7777777777777778,
              "#fb9f3a"
             ],
             [
              0.8888888888888888,
              "#fdca26"
             ],
             [
              1,
              "#f0f921"
             ]
            ],
            "type": "surface"
           }
          ],
          "table": [
           {
            "cells": {
             "fill": {
              "color": "#EBF0F8"
             },
             "line": {
              "color": "white"
             }
            },
            "header": {
             "fill": {
              "color": "#C8D4E3"
             },
             "line": {
              "color": "white"
             }
            },
            "type": "table"
           }
          ]
         },
         "layout": {
          "annotationdefaults": {
           "arrowcolor": "#2a3f5f",
           "arrowhead": 0,
           "arrowwidth": 1
          },
          "autotypenumbers": "strict",
          "coloraxis": {
           "colorbar": {
            "outlinewidth": 0,
            "ticks": ""
           }
          },
          "colorscale": {
           "diverging": [
            [
             0,
             "#8e0152"
            ],
            [
             0.1,
             "#c51b7d"
            ],
            [
             0.2,
             "#de77ae"
            ],
            [
             0.3,
             "#f1b6da"
            ],
            [
             0.4,
             "#fde0ef"
            ],
            [
             0.5,
             "#f7f7f7"
            ],
            [
             0.6,
             "#e6f5d0"
            ],
            [
             0.7,
             "#b8e186"
            ],
            [
             0.8,
             "#7fbc41"
            ],
            [
             0.9,
             "#4d9221"
            ],
            [
             1,
             "#276419"
            ]
           ],
           "sequential": [
            [
             0,
             "#0d0887"
            ],
            [
             0.1111111111111111,
             "#46039f"
            ],
            [
             0.2222222222222222,
             "#7201a8"
            ],
            [
             0.3333333333333333,
             "#9c179e"
            ],
            [
             0.4444444444444444,
             "#bd3786"
            ],
            [
             0.5555555555555556,
             "#d8576b"
            ],
            [
             0.6666666666666666,
             "#ed7953"
            ],
            [
             0.7777777777777778,
             "#fb9f3a"
            ],
            [
             0.8888888888888888,
             "#fdca26"
            ],
            [
             1,
             "#f0f921"
            ]
           ],
           "sequentialminus": [
            [
             0,
             "#0d0887"
            ],
            [
             0.1111111111111111,
             "#46039f"
            ],
            [
             0.2222222222222222,
             "#7201a8"
            ],
            [
             0.3333333333333333,
             "#9c179e"
            ],
            [
             0.4444444444444444,
             "#bd3786"
            ],
            [
             0.5555555555555556,
             "#d8576b"
            ],
            [
             0.6666666666666666,
             "#ed7953"
            ],
            [
             0.7777777777777778,
             "#fb9f3a"
            ],
            [
             0.8888888888888888,
             "#fdca26"
            ],
            [
             1,
             "#f0f921"
            ]
           ]
          },
          "colorway": [
           "#636efa",
           "#EF553B",
           "#00cc96",
           "#ab63fa",
           "#FFA15A",
           "#19d3f3",
           "#FF6692",
           "#B6E880",
           "#FF97FF",
           "#FECB52"
          ],
          "font": {
           "color": "#2a3f5f"
          },
          "geo": {
           "bgcolor": "white",
           "lakecolor": "white",
           "landcolor": "#E5ECF6",
           "showlakes": true,
           "showland": true,
           "subunitcolor": "white"
          },
          "hoverlabel": {
           "align": "left"
          },
          "hovermode": "closest",
          "mapbox": {
           "style": "light"
          },
          "paper_bgcolor": "white",
          "plot_bgcolor": "#E5ECF6",
          "polar": {
           "angularaxis": {
            "gridcolor": "white",
            "linecolor": "white",
            "ticks": ""
           },
           "bgcolor": "#E5ECF6",
           "radialaxis": {
            "gridcolor": "white",
            "linecolor": "white",
            "ticks": ""
           }
          },
          "scene": {
           "xaxis": {
            "backgroundcolor": "#E5ECF6",
            "gridcolor": "white",
            "gridwidth": 2,
            "linecolor": "white",
            "showbackground": true,
            "ticks": "",
            "zerolinecolor": "white"
           },
           "yaxis": {
            "backgroundcolor": "#E5ECF6",
            "gridcolor": "white",
            "gridwidth": 2,
            "linecolor": "white",
            "showbackground": true,
            "ticks": "",
            "zerolinecolor": "white"
           },
           "zaxis": {
            "backgroundcolor": "#E5ECF6",
            "gridcolor": "white",
            "gridwidth": 2,
            "linecolor": "white",
            "showbackground": true,
            "ticks": "",
            "zerolinecolor": "white"
           }
          },
          "shapedefaults": {
           "line": {
            "color": "#2a3f5f"
           }
          },
          "ternary": {
           "aaxis": {
            "gridcolor": "white",
            "linecolor": "white",
            "ticks": ""
           },
           "baxis": {
            "gridcolor": "white",
            "linecolor": "white",
            "ticks": ""
           },
           "bgcolor": "#E5ECF6",
           "caxis": {
            "gridcolor": "white",
            "linecolor": "white",
            "ticks": ""
           }
          },
          "title": {
           "x": 0.05
          },
          "xaxis": {
           "automargin": true,
           "gridcolor": "white",
           "linecolor": "white",
           "ticks": "",
           "title": {
            "standoff": 15
           },
           "zerolinecolor": "white",
           "zerolinewidth": 2
          },
          "yaxis": {
           "automargin": true,
           "gridcolor": "white",
           "linecolor": "white",
           "ticks": "",
           "title": {
            "standoff": 15
           },
           "zerolinecolor": "white",
           "zerolinewidth": 2
          }
         }
        },
        "title": {
         "text": "PCA visualization of Custom Classification dataset"
        },
        "xaxis": {
         "anchor": "y",
         "domain": [
          0,
          1
         ],
         "title": {
          "text": "First Principal Component"
         }
        },
        "yaxis": {
         "anchor": "x",
         "domain": [
          0,
          1
         ],
         "title": {
          "text": "Second Principal Component"
         }
        }
       }
      }
     },
     "metadata": {},
     "output_type": "display_data"
    }
   ],
   "source": [
    "# image features PCA\n",
    "classes = list(range(200))\n",
    "shuffled_classes = classes.copy()\n",
    "random.shuffle(shuffled_classes)\n",
    "remap = {old: new for old, new in zip(classes, shuffled_classes)}\n",
    "new_colors = [remap[color] for color in color_list]\n",
    "\n",
    "image_features_pca = image_features_cat\n",
    "pca = PCA(n_components=2)\n",
    "image_pca = pca.fit_transform(image_features_pca.to('cpu'))\n",
    "\n",
    "fig = px.scatter(x=image_pca[:, 0], y=image_pca[:, 1], color=new_colors)\n",
    "fig.update_layout(\n",
    "    title=\"PCA visualization of Custom Classification dataset\",\n",
    "    xaxis_title=\"First Principal Component\",\n",
    "    yaxis_title=\"Second Principal Component\",\n",
    ")\n",
    "fig.show()"
   ]
  },
  {
   "cell_type": "code",
   "execution_count": 72,
   "id": "a93a1dff",
   "metadata": {},
   "outputs": [
    {
     "name": "stderr",
     "output_type": "stream",
     "text": [
      "/usr/local/lib/python3.12/site-packages/sklearn/manifold/_t_sne.py:1164: FutureWarning:\n",
      "\n",
      "'n_iter' was renamed to 'max_iter' in version 1.5 and will be removed in 1.7.\n",
      "\n"
     ]
    },
    {
     "data": {
      "application/vnd.plotly.v1+json": {
       "config": {
        "plotlyServerURL": "https://plot.ly"
       },
       "data": [
        {
         "hovertemplate": "<b>%{hovertext}</b><br><br>x=%{x}<br>y=%{y}<br>color=%{marker.color}<extra></extra>",
         "hovertext": [
          "Black footed Albatross ,  large seabird with a black body and white underparts",
          "Laysan Albatross ,  white seabird with dark brown wings and a black tail",
          "Sooty Albatross ,  dark brown seabird with a long, slender body",
          "Groove billed Ani ,  glossy black bird with a distinctive grooved bill",
          "Crested Auklet ,  small seabird with a distinctive orange crest",
          "Least Auklet ,The smallest seabird, with a compact body and short wings",
          "Parakeet Auklet ,  small seabird with a bright yellow-orange bill",
          "Rhinoceros Auklet ,  medium-sized seabird with a horn-like bill extension",
          "Brewer Blackbird ,  glossy black bird with a slightly iridescent sheen",
          "Red winged Blackbird ,  black bird with distinctive red and yellow shoulder patches",
          "Rusty Blackbird ,  dark bird with a rusty brown sheen on its plumage",
          "Yellow headed Blackbird ,  black bird with a bright yellow head and chest",
          "Bobolink ,  small black and white bird with a distinctive song",
          "Indigo Bunting ,  small bird with vibrant blue plumage",
          "Lazuli Bunting ,  small bird with bright blue and white feathers",
          "Painted Bunting ,  colorful bird with red, blue, and green plumage",
          "Cardinal ,  bright red bird with a distinctive crest",
          "Spotted Catbird ,  medium-sized bird with a gray body and black cap",
          "Gray Catbird ,  gray bird with a black cap and a long tail",
          "Yellow breasted Chat ,  large warbler with a yellow throat and chest",
          "Eastern Towhee ,  black and white bird with a rusty red side",
          "Chuck will Widow ,  nocturnal bird with a mottled brown and gray body",
          "Brandt Cormorant ,  large seabird with a black body and blue throat patch",
          "Red faced Cormorant ,  seabird with a black body and a bright red face",
          "Pelagic Cormorant ,  seabird with a black body and a white patch on its wings",
          "Bronzed Cowbird ,  dark bird with a metallic bronze sheen",
          "Shiny Cowbird ,  glossy black bird with a slightly iridescent sheen",
          "Brown Creeper ,  small, brown bird that spirals up tree trunks",
          "American Crow ,  large black bird with a stout bill",
          "Fish Crow ,  smaller crow with a slightly more rounded bill",
          "Black billed Cuckoo ,  slender bird with a long tail and black bill",
          "Mangrove Cuckoo ,  medium-sized bird with a long tail and a curved bill",
          "Yellow billed Cuckoo ,  slender bird with a long tail and yellow bill",
          "Gray crowned Rosy Finch ,  small bird with gray plumage and a rosy pink belly",
          "Purple Finch ,  small bird with a reddish-purple body",
          "Northern Flicker ,  large woodpecker with a brown body and spotted belly",
          "Acadian Flycatcher ,  small flycatcher with a greenish back and white underparts",
          "Great Crested Flycatcher ,  large flycatcher with a gray body and yellow belly",
          "Least Flycatcher ,  small flycatcher with a greenish back and white underparts",
          "Olive sided Flycatcher ,  medium-sized flycatcher with an olive-green back",
          "Scissor tailed Flycatcher ,  flycatcher with long, scissor-like tail feathers",
          "Vermilion Flycatcher ,  small flycatcher with bright red plumage",
          "Yellow bellied Flycatcher ,  small flycatcher with a yellow belly and olive-green back",
          "Frigatebird ,  large seabird with a long, forked tail and a red throat pouch",
          "Northern Fulmar ,  seabird with a stout bill and a thick body",
          "Gadwall ,  medium-sized duck with a gray body and a white belly",
          "American Goldfinch ,  small finch with bright yellow plumage",
          "European Goldfinch ,  small finch with a red face and yellow wing patch",
          "Boat tailed Grackle ,  large blackbird with a long, keel-shaped tail",
          "Eared Grebe ,  small grebe with distinctive ear-like tufts",
          "Horned Grebe ,  small grebe with black and white plumage and red eyes",
          "Pied billed Grebe ,  small grebe with a stout, black bill",
          "Western Grebe ,  large grebe with a long, slender neck",
          "Blue Grosbeak ,  large, blue bird with a thick bill",
          "Evening Grosbeak , large finch with a yellow body and black wings",
          "Pine Grosbeak, large finch with a rosy red body and gray wings",
          "Rose breasted Grosbeak, medium-sized songbird with a black head and a distinctive rose-red chest",
          "Pigeon Guillemot, seabird with black plumage and white wing patches",
          "California Gull, medium-sized gull with a white body and gray wings",
          "Glaucous winged Gull, large gull with pale gray wings and a white body",
          "Heermann Gull, medium-sized gull with a dark gray body and a bright red bill",
          "Herring Gull, large gull with a white body and gray wings",
          "Ivory Gull, small, all-white seabird with a black bill",
          "Ring billed Gull, medium-sized gull with a white body and a black ring on its yellow bill",
          "Slaty backed Gull, large gull with dark gray wings and a white body",
          "Western Gull, large gull with a white body and dark gray wings",
          "Anna Hummingbird, small hummingbird with iridescent green plumage and a rose-red throat",
          "Ruby throated Hummingbird, small hummingbird with a bright red throat and green back",
          "Rufous Hummingbird, small hummingbird with orange-red plumage and a white belly",
          "Green Violetear, medium-sized hummingbird with green plumage and a violet throat",
          "Long tailed Jaeger, seabird with a slender body and long, pointed tail feathers",
          "Pomarine Jaeger, large seabird with a stout bill and long, pointed tail feathers",
          "Blue Jay, medium-sized bird with blue and white plumage and a black necklace",
          "Florida Jay, medium-sized bird with blue and gray plumage and a black crown",
          "Green Jay, colorful bird with green, yellow, and black plumage",
          "Dark eyed Junco, small sparrow with a dark gray head and back, and a white belly",
          "Tropical Kingbird, large flycatcher with a gray head and yellow belly",
          "Gray Kingbird, medium-sized flycatcher with gray plumage and a white belly",
          "Belted Kingfisher, medium-sized bird with a blue body and a white belly",
          "Green Kingfisher, small kingfisher with green plumage and a white belly",
          "Pied Kingfisher, medium-sized kingfisher with black and white plumage",
          "Ringed Kingfisher, large kingfisher with a blue body and a white belly",
          "White breasted Kingfisher, large kingfisher with white and brown plumage",
          "Red legged Kittiwake, small gull with a white body and red legs",
          "Horned Lark, small bird with a brown body and black 'horns' on its head",
          "Pacific Loon, large seabird with a black head and white underparts",
          "Mallard, medium-sized duck with a glossy green head and a white neck ring",
          "Western Meadowlark, large songbird with a yellow belly and a black 'V' on its chest",
          "Hooded Merganser, small duck with a distinctive fan-shaped crest",
          "Red breasted Merganser, medium-sized duck with a red head and a slender body",
          "Mockingbird, medium-sized songbird with gray plumage and a white belly",
          "Nighthawk, nocturnal bird with a wide mouth and a long, pointed tail",
          "Clark Nutcracker, medium-sized bird with gray plumage and a black bill",
          "White breasted Nuthatch, small bird with blue-gray plumage and a white belly",
          "Baltimore Oriole, brightly colored bird with orange and black plumage",
          "Hooded Oriole, brightly colored bird with yellow and black plumage",
          "Orchard Oriole, small oriole with orange and black plumage",
          "Scott Oriole, brightly colored bird with yellow and black plumage",
          "Ovenbird, small warbler with olive-green plumage and a white belly",
          "Brown Pelican, large seabird with a long bill and a distinctive pouch",
          "White Pelican, large seabird with a long bill and a distinctive pouch",
          "Western Wood Pewee, small flycatcher with grayish-green plumage",
          "Sayornis, genus of flycatchers with grayish plumage",
          "American Pipit, small songbird with brown and streaked plumage",
          "Whip poor Will, nocturnal bird with mottled brown plumage",
          "Horned Puffin, seabird with a black body and a colorful bill",
          "Common Raven, large black bird with a thick bill",
          "White necked Raven, large black bird with a white patch on its",
          "American Redstart, small, brightly colored warbler with black upperparts and orange patches",
          "Geococcyx, large, long-legged cuckoo with a distinctive crest and long tail feathers",
          "Loggerhead Shrike, medium-sized songbird with a hooked bill and a black mask across its eyes",
          "Great Grey Shrike, large, pale shrike with a broad black mask and long tail",
          "Baird Sparrow, small, streaked sparrow with a pale belly and dark crown",
          "Black throated Sparrow, small sparrow with a black throat and white underparts",
          "Brewer Sparrow, small, plain sparrow with a streaked back and pale belly",
          "Chipping Sparrow, small sparrow with a rufous cap and a white line above the eye",
          "Clay colored Sparrow, small sparrow with a pale, uniform grayish-brown body",
          "House Sparrow, small, stocky sparrow with a black bib and chestnut-colored wings",
          "Field Sparrow, small sparrow with a pale face and a pink bill",
          "Fox Sparrow, large sparrow with reddish-brown plumage and a heavily streaked breast",
          "Grasshopper Sparrow, small, cryptic sparrow with a short tail and plain brown plumage",
          "Harris Sparrow, medium-sized sparrow with a dark head and bib, and a pale belly",
          "Henslow Sparrow, small, secretive sparrow with a greenish back and streaked sides",
          "Le Conte Sparrow, small, secretive sparrow with a yellowish face and streaked back",
          "Lincoln Sparrow, small sparrow with a streaked breast and a pale belly",
          "Nelson Sharp tailed Sparrow, small sparrow with a sharp tail and streaked back",
          "Savannah Sparrow, small sparrow with a streaked back and a yellowish face",
          "Seaside Sparrow, small, secretive sparrow with a streaked back and pale underparts",
          "Song Sparrow, medium-sized sparrow with streaked breast and a dark central spot",
          "Tree Sparrow, small sparrow with a rufous cap and a dark spot on its chest",
          "Vesper Sparrow, medium-sized sparrow with a white outer tail and streaked back",
          "White crowned Sparrow, medium-sized sparrow with bold black and white head stripes",
          "White throated Sparrow, medium-sized sparrow with a white throat and yellow spots near the bill",
          "Cape Glossy Starling, medium-sized starling with iridescent green and purple plumage",
          "Bank Swallow, small swallow with a brown cap and a white throat",
          "Barn Swallow, small swallow with a deeply forked tail and a blue back",
          "Cliff Swallow, small swallow with a square tail and a pale forehead",
          "Tree Swallow, small swallow with a white belly and iridescent greenish-blue back",
          "Scarlet Tanager, medium-sized songbird with bright red plumage and black wings",
          "Summer Tanager, medium-sized songbird with all-red plumage and a stout bill",
          "Artic Tern, medium-sized tern with a black cap and a forked tail",
          "Black Tern, small tern with a black cap and dark wings",
          "Caspian Tern, large tern with a red bill and a black cap",
          "Common Tern, medium-sized tern with a black cap and a slender bill",
          "Elegant Tern, medium-sized tern with a long, slender bill and a black crest",
          "Forsters Tern, medium-sized tern with a black cap and a slender bill",
          "Least Tern, the smallest tern in North America with a black cap and a yellow bill",
          "Green tailed Towhee, medium-sized sparrow with a greenish back and a long tail",
          "Brown Thrasher, large songbird with brown streaked plumage and a long tail",
          "Sage Thrasher, medium-sized songbird with grayish-brown plumage and a long tail",
          "Black capped Vireo, small songbird with a black cap and olive-green back",
          "Blue headed Vireo, small songbird with a blue-gray head and olive-green back",
          "Philadelphia Vireo, small songbird with a yellowish belly and olive-green back",
          "Red eyed Vireo, small songbird with a red eye and olive-green back",
          "Warbling Vireo, small songbird with a grayish back and a pale belly",
          "White eyed Vireo, small songbird with white eyes and a grayish back",
          "Yellow throated Vireo, small songbird with a yellow throat and olive-green back",
          "Bay breasted Warbler, small warbler with a chestnut-colored back and a pale belly",
          "Black and white Warbler, small warbler with black and white striped plumage",
          "Black throated Blue Warbler, small warbler with a blue back and black throat",
          "Blue winged Warbler, small warbler with blue-gray wings and a yellow belly",
          "Canada Warbler, small warbler with a yellow belly and a black necklace",
          "Cape May Warbler, small warbler with a yellow belly and a black cap",
          "Cerulean Warbler, small warbler with a blue back and white belly",
          "Chestnut sided Warbler, small warbler with chestnut-colored sides and a white belly",
          "Golden winged Warbler, small warbler with golden-yellow wings and a gray back",
          "Hooded Warbler, small warbler with a black hood and yellow belly",
          "Kentucky Warbler, small warbler with a yellow belly and olive-green back",
          "Magnolia Warbler, small warbler with a yellow belly and black streaks",
          "Mourning Warbler, small warbler with a gray back and yellow belly",
          "Myrtle Warbler, small warbler with a white belly and black streaks",
          "Nashville Warbler, small warbler with a yellow belly and olive-green back",
          "Orange crowned Warbler, small warbler with an orange crown and olive-green back",
          "Palm Warbler",
          "Pine Warbler, small warbler with a yellow belly and olive-green back",
          "Prairie Warbler, small warbler with a yellow belly and olive-green back",
          "Prothonotary Warbler, small warbler with a bright yellow belly and blue-gray back",
          "Swainson Warbler, small warbler with a brown back and yellow belly",
          "Tennessee Warbler, small warbler with a yellow belly and olive-green back",
          "Wilson Warbler, small warbler with a yellow belly and olive-green back",
          "Worm eating Warbler, small warbler with a yellow belly and olive-green back",
          "Yellow Warbler, small, bright yellow warbler with reddish streaks on its chest",
          "Northern Waterthrush, brown warbler with a heavily streaked belly and a bold white eyebrow",
          "Louisiana Waterthrush, large, brownish warbler with a clean white belly and a broad white eyebrow",
          "Bohemian Waxwing, sleek bird with grayish plumage, a crest, and red waxy tips on wing feathers",
          "Cedar Waxwing, smooth, sleek bird with silky brown plumage, a crest, and yellow tail tips",
          "American Three toed Woodpecker, small woodpecker with black-and-white plumage and a yellow crown",
          "Pileated Woodpecker, large woodpecker with black body, white stripes, and a red crest",
          "Red bellied Woodpecker, medium-sized woodpecker with black-and-white barred back and red cap",
          "Red cockaded Woodpecker, small black-and-white woodpecker with a red streak on the head (males)",
          "Red headed Woodpecker, striking woodpecker with a completely red head and black-and-white body",
          "Downy Woodpecker, small woodpecker with black-and-white plumage and a small red spot on the head (males)",
          "Bewick Wren, small brown wren with a long white eyebrow and long tail often held upright",
          "Cactus Wren, large wren with a spotted breast, white eyebrow, and slightly curved bill",
          "Carolina Wren, small, chunky bird with warm brown plumage and a bold white eyebrow",
          "House Wren, small, plain brown wren with a short tail and slightly curved bill",
          "Marsh Wren, small, secretive wren with a streaked back and a bold white eyebrow",
          "Rock Wren, pale grayish-brown wren with a spotted belly and a slightly curved bill",
          "Winter Wren, tiny, dark brown wren with a short tail and finely barred flanks",
          "Common Yellowthroat"
         ],
         "legendgroup": "",
         "marker": {
          "color": {
           "bdata": "AAABAAIAAwAEAAUABgAHAAgACQAKAAsADAANAA4ADwAQABEAEgATABQAFQAWABcAGAAZABoAGwAcAB0AHgAfACAAIQAiACMAJAAlACYAJwAoACkAKgArACwALQAuAC8AMAAxADIAMwA0ADUANgA3ADgAOQA6ADsAPAA9AD4APwBAAEEAQgBDAEQARQBGAEcASABJAEoASwBMAE0ATgBPAFAAUQBSAFMAVABVAFYAVwBYAFkAWgBbAFwAXQBeAF8AYABhAGIAYwBkAGUAZgBnAGgAaQBqAGsAbABtAG4AbwBwAHEAcgBzAHQAdQB2AHcAeAB5AHoAewB8AH0AfgB/AIAAgQCCAIMAhACFAIYAhwCIAIkAigCLAIwAjQCOAI8AkACRAJIAkwCUAJUAlgCXAJgAmQCaAJsAnACdAJ4AnwCgAKEAogCjAKQApQCmAKcAqACpAKoAqwCsAK0ArgCvALAAsQCyALMAtAC1ALYAtwC4ALkAugC7ALwAvQC+AL8AwADBAMIAwwDEAMUAxgDHAA==",
           "dtype": "i2"
          },
          "coloraxis": "coloraxis",
          "symbol": "circle"
         },
         "mode": "markers",
         "name": "",
         "orientation": "v",
         "showlegend": false,
         "type": "scatter",
         "x": {
          "bdata": "bJcRwSedGsFLNxLBJykgwBpu5sCw5+jAAKrkwK184cBZ9wvAEHE7P6zl3b9NZK4/OjTYvVyh/UAr0/FAI10KQXVCFUGmauq/sE3jv1d7m0BurMdA6kJ3wEBCBME7xQHBj2L/wPNY/7+JhQPAXTh2v7iVZcC6JmXAzSO2v3rGDsCd8Ja/91DFQPZixEAnkI/Ale8yQKNQ+D+gSSNApo8gQHhviz54swtB9Y5FQAw2FcG5DxTBlx3hwCVf60CWTe5AAco3wH8LD8FCfw/BLUwOwbW/EMFBTwJB8Sf7QPLk1kCpJcdA4+/9wL3kLMEN0ivBsuEzwfzsLcG4Mi3BpdIywcMdJcGk3ynBHvkWQa0JFkHBAxVBVBIXQRvivMDwDMPA5+IXQcECGEGBrBRB9117QDKrqT87mKw/P5GOwHQth8BhSpHAM9eGwPPqiMAR/R7Bz3WKQHmTCcFT6eTApfZ/QM5J/sAS+fjAg+hmP2DmqcApGHfALUwLwO9IIkF4CiBBJSAfQSqlHkE0kbA/03sxweQaNMH1liVAxyDQP7HRQ0CDdW7AK3/nwKemgcCa2ovATr2PQEecPcCBWTbAmxU3wDoIgkB8MGVACwBzQFc1NkA2Fm1AdiuSQAQxkUB0BBFA7ARiQDq0akCqpllAXpQLQIP/fUCxnklAmnt2QFg8T0D0Bi5AGhVsQP2Pa0D5/SpAYMlOQBfEq79rz7y9aBENvvd/wrxNRGG+h/QXQQusGkHqvRTBLrwJwVq/H8Fj9BTBITsYwRYvFcGn+hLBZIyRQJ4WzD+FQfE/mIeUQDNxiEDXkoxAnvCjQH0GgEBpco5AKUmVQEPVI0Cld60/Y1oRQC3fOEC2p4BAihdWQM4xJEDzCwdAr/yLQB/FckDrAnJAufo8QOmXhEDiCfM/oySOQFajskCOH69AKpuUQGd3lkCZz59Aw4NqQBmaokBtP69AtWZ/QLjxuEAZPN89+OGZPSSFncASHJ3AdTN8wDs8nMDA9oPAi9p+wBkYkcC84l/ALTY9v6iJkr+ZxMG+zfRDv3rsOr87rZe/XudMv/kcsUA=",
          "dtype": "f4"
         },
         "xaxis": "x",
         "y": {
          "bdata": "FZxDwENGLcDQ4jfAAG2AwGjnIMDr8SXAADgOwGYOhsB1K57AQrarwDM3uMDo7LDA4pshwFUzP79n3zG/hzTvvkf8cz9ooSrASGgowJ3VS8DvVVFAsu65vzHzg8BwFJHAjAuGwLERh8CLAJbAErgTQTuCjcApjI7AlNKJvuX+Lr+zBEm+JKGfQA/ct0Bq8j5A0UGXP6j2ED+/lZ0/zvrnP/E2Yj8FrKU/YzQKPoXYgsAs89u/tATGwNP8YsCQh2HA+6OgwEEC58B4EuTABo7jwFaH4MBl9IK/LWtLwH0pm0APE1pA41dkwCSrnb8VvGS/rQHrvya6fb8wI4K+lasTv6wGr79VBr2/yRBcQGnmUkBktE1AJjRYQGYGbMB3snXAAy6vwOFnr8AZmCzAzb2AQGcJFT+txag/tiT7wGplBsHZCADBVWQHwfDXBMGIPti+u4gbQcY0scBIGb7AuGsiQZw8y8ANPcjAet0gQH8Hu78APzg/g+P9P3+F2b/HAfm/ZQO4v9fK578Rc4G/0cZ8wN0Qb8Bv96E/ugbjP9XpEEHXw7O/dSpawLKnjMAZ44nA5Sl8wESIXb/wJIlA0sWJQBycv0AAjJBAZy3WQO5By0DdP99AxUqzQFlC0kADPwJBul0EQXMMrECqVdNAsvjmQKXv30CWQt5A3x4JQd/d70AWMPRABZ62QOiv+EDO+axAcaemQF0Fm8A4UwTBBWsBwc+1BsHTLvrAxp/2O259PrzPcHc/1ElTP+UkvD9b7Js/9UK6Py6veD8NT+k/xQCXQIGTGEH8vRdBjc+fP0Fuej8s3lA+X56PPxm/mz/Md4g/PJ43O2g8rL9+lBLAv7NhwFFQQsAkJgfAKNwXwGIZYL82b+6/xtYewMLGVcDHs9i/tq4GwMkQPsDyBu6/ODO/v2ac0r89HoC/qoeGv8dw7b9biIbAkwO0v5X2w7+yUjTAzZmEvxhWD8DqEXxAJoF5QNfsDUFq6Q1B+IMNQGzm9z8I9yVAXIIHQHg9AEBS3wpAREfiQMe9/kDWIe5Ay6DlQKfA2kCXGvJAyZvqQJhLbMA=",
          "dtype": "f4"
         },
         "yaxis": "y"
        }
       ],
       "layout": {
        "coloraxis": {
         "colorbar": {
          "title": {
           "text": "color"
          }
         },
         "colorscale": [
          [
           0,
           "#0d0887"
          ],
          [
           0.1111111111111111,
           "#46039f"
          ],
          [
           0.2222222222222222,
           "#7201a8"
          ],
          [
           0.3333333333333333,
           "#9c179e"
          ],
          [
           0.4444444444444444,
           "#bd3786"
          ],
          [
           0.5555555555555556,
           "#d8576b"
          ],
          [
           0.6666666666666666,
           "#ed7953"
          ],
          [
           0.7777777777777778,
           "#fb9f3a"
          ],
          [
           0.8888888888888888,
           "#fdca26"
          ],
          [
           1,
           "#f0f921"
          ]
         ]
        },
        "legend": {
         "tracegroupgap": 0
        },
        "margin": {
         "t": 60
        },
        "template": {
         "data": {
          "bar": [
           {
            "error_x": {
             "color": "#2a3f5f"
            },
            "error_y": {
             "color": "#2a3f5f"
            },
            "marker": {
             "line": {
              "color": "#E5ECF6",
              "width": 0.5
             },
             "pattern": {
              "fillmode": "overlay",
              "size": 10,
              "solidity": 0.2
             }
            },
            "type": "bar"
           }
          ],
          "barpolar": [
           {
            "marker": {
             "line": {
              "color": "#E5ECF6",
              "width": 0.5
             },
             "pattern": {
              "fillmode": "overlay",
              "size": 10,
              "solidity": 0.2
             }
            },
            "type": "barpolar"
           }
          ],
          "carpet": [
           {
            "aaxis": {
             "endlinecolor": "#2a3f5f",
             "gridcolor": "white",
             "linecolor": "white",
             "minorgridcolor": "white",
             "startlinecolor": "#2a3f5f"
            },
            "baxis": {
             "endlinecolor": "#2a3f5f",
             "gridcolor": "white",
             "linecolor": "white",
             "minorgridcolor": "white",
             "startlinecolor": "#2a3f5f"
            },
            "type": "carpet"
           }
          ],
          "choropleth": [
           {
            "colorbar": {
             "outlinewidth": 0,
             "ticks": ""
            },
            "type": "choropleth"
           }
          ],
          "contour": [
           {
            "colorbar": {
             "outlinewidth": 0,
             "ticks": ""
            },
            "colorscale": [
             [
              0,
              "#0d0887"
             ],
             [
              0.1111111111111111,
              "#46039f"
             ],
             [
              0.2222222222222222,
              "#7201a8"
             ],
             [
              0.3333333333333333,
              "#9c179e"
             ],
             [
              0.4444444444444444,
              "#bd3786"
             ],
             [
              0.5555555555555556,
              "#d8576b"
             ],
             [
              0.6666666666666666,
              "#ed7953"
             ],
             [
              0.7777777777777778,
              "#fb9f3a"
             ],
             [
              0.8888888888888888,
              "#fdca26"
             ],
             [
              1,
              "#f0f921"
             ]
            ],
            "type": "contour"
           }
          ],
          "contourcarpet": [
           {
            "colorbar": {
             "outlinewidth": 0,
             "ticks": ""
            },
            "type": "contourcarpet"
           }
          ],
          "heatmap": [
           {
            "colorbar": {
             "outlinewidth": 0,
             "ticks": ""
            },
            "colorscale": [
             [
              0,
              "#0d0887"
             ],
             [
              0.1111111111111111,
              "#46039f"
             ],
             [
              0.2222222222222222,
              "#7201a8"
             ],
             [
              0.3333333333333333,
              "#9c179e"
             ],
             [
              0.4444444444444444,
              "#bd3786"
             ],
             [
              0.5555555555555556,
              "#d8576b"
             ],
             [
              0.6666666666666666,
              "#ed7953"
             ],
             [
              0.7777777777777778,
              "#fb9f3a"
             ],
             [
              0.8888888888888888,
              "#fdca26"
             ],
             [
              1,
              "#f0f921"
             ]
            ],
            "type": "heatmap"
           }
          ],
          "histogram": [
           {
            "marker": {
             "pattern": {
              "fillmode": "overlay",
              "size": 10,
              "solidity": 0.2
             }
            },
            "type": "histogram"
           }
          ],
          "histogram2d": [
           {
            "colorbar": {
             "outlinewidth": 0,
             "ticks": ""
            },
            "colorscale": [
             [
              0,
              "#0d0887"
             ],
             [
              0.1111111111111111,
              "#46039f"
             ],
             [
              0.2222222222222222,
              "#7201a8"
             ],
             [
              0.3333333333333333,
              "#9c179e"
             ],
             [
              0.4444444444444444,
              "#bd3786"
             ],
             [
              0.5555555555555556,
              "#d8576b"
             ],
             [
              0.6666666666666666,
              "#ed7953"
             ],
             [
              0.7777777777777778,
              "#fb9f3a"
             ],
             [
              0.8888888888888888,
              "#fdca26"
             ],
             [
              1,
              "#f0f921"
             ]
            ],
            "type": "histogram2d"
           }
          ],
          "histogram2dcontour": [
           {
            "colorbar": {
             "outlinewidth": 0,
             "ticks": ""
            },
            "colorscale": [
             [
              0,
              "#0d0887"
             ],
             [
              0.1111111111111111,
              "#46039f"
             ],
             [
              0.2222222222222222,
              "#7201a8"
             ],
             [
              0.3333333333333333,
              "#9c179e"
             ],
             [
              0.4444444444444444,
              "#bd3786"
             ],
             [
              0.5555555555555556,
              "#d8576b"
             ],
             [
              0.6666666666666666,
              "#ed7953"
             ],
             [
              0.7777777777777778,
              "#fb9f3a"
             ],
             [
              0.8888888888888888,
              "#fdca26"
             ],
             [
              1,
              "#f0f921"
             ]
            ],
            "type": "histogram2dcontour"
           }
          ],
          "mesh3d": [
           {
            "colorbar": {
             "outlinewidth": 0,
             "ticks": ""
            },
            "type": "mesh3d"
           }
          ],
          "parcoords": [
           {
            "line": {
             "colorbar": {
              "outlinewidth": 0,
              "ticks": ""
             }
            },
            "type": "parcoords"
           }
          ],
          "pie": [
           {
            "automargin": true,
            "type": "pie"
           }
          ],
          "scatter": [
           {
            "fillpattern": {
             "fillmode": "overlay",
             "size": 10,
             "solidity": 0.2
            },
            "type": "scatter"
           }
          ],
          "scatter3d": [
           {
            "line": {
             "colorbar": {
              "outlinewidth": 0,
              "ticks": ""
             }
            },
            "marker": {
             "colorbar": {
              "outlinewidth": 0,
              "ticks": ""
             }
            },
            "type": "scatter3d"
           }
          ],
          "scattercarpet": [
           {
            "marker": {
             "colorbar": {
              "outlinewidth": 0,
              "ticks": ""
             }
            },
            "type": "scattercarpet"
           }
          ],
          "scattergeo": [
           {
            "marker": {
             "colorbar": {
              "outlinewidth": 0,
              "ticks": ""
             }
            },
            "type": "scattergeo"
           }
          ],
          "scattergl": [
           {
            "marker": {
             "colorbar": {
              "outlinewidth": 0,
              "ticks": ""
             }
            },
            "type": "scattergl"
           }
          ],
          "scattermap": [
           {
            "marker": {
             "colorbar": {
              "outlinewidth": 0,
              "ticks": ""
             }
            },
            "type": "scattermap"
           }
          ],
          "scattermapbox": [
           {
            "marker": {
             "colorbar": {
              "outlinewidth": 0,
              "ticks": ""
             }
            },
            "type": "scattermapbox"
           }
          ],
          "scatterpolar": [
           {
            "marker": {
             "colorbar": {
              "outlinewidth": 0,
              "ticks": ""
             }
            },
            "type": "scatterpolar"
           }
          ],
          "scatterpolargl": [
           {
            "marker": {
             "colorbar": {
              "outlinewidth": 0,
              "ticks": ""
             }
            },
            "type": "scatterpolargl"
           }
          ],
          "scatterternary": [
           {
            "marker": {
             "colorbar": {
              "outlinewidth": 0,
              "ticks": ""
             }
            },
            "type": "scatterternary"
           }
          ],
          "surface": [
           {
            "colorbar": {
             "outlinewidth": 0,
             "ticks": ""
            },
            "colorscale": [
             [
              0,
              "#0d0887"
             ],
             [
              0.1111111111111111,
              "#46039f"
             ],
             [
              0.2222222222222222,
              "#7201a8"
             ],
             [
              0.3333333333333333,
              "#9c179e"
             ],
             [
              0.4444444444444444,
              "#bd3786"
             ],
             [
              0.5555555555555556,
              "#d8576b"
             ],
             [
              0.6666666666666666,
              "#ed7953"
             ],
             [
              0.7777777777777778,
              "#fb9f3a"
             ],
             [
              0.8888888888888888,
              "#fdca26"
             ],
             [
              1,
              "#f0f921"
             ]
            ],
            "type": "surface"
           }
          ],
          "table": [
           {
            "cells": {
             "fill": {
              "color": "#EBF0F8"
             },
             "line": {
              "color": "white"
             }
            },
            "header": {
             "fill": {
              "color": "#C8D4E3"
             },
             "line": {
              "color": "white"
             }
            },
            "type": "table"
           }
          ]
         },
         "layout": {
          "annotationdefaults": {
           "arrowcolor": "#2a3f5f",
           "arrowhead": 0,
           "arrowwidth": 1
          },
          "autotypenumbers": "strict",
          "coloraxis": {
           "colorbar": {
            "outlinewidth": 0,
            "ticks": ""
           }
          },
          "colorscale": {
           "diverging": [
            [
             0,
             "#8e0152"
            ],
            [
             0.1,
             "#c51b7d"
            ],
            [
             0.2,
             "#de77ae"
            ],
            [
             0.3,
             "#f1b6da"
            ],
            [
             0.4,
             "#fde0ef"
            ],
            [
             0.5,
             "#f7f7f7"
            ],
            [
             0.6,
             "#e6f5d0"
            ],
            [
             0.7,
             "#b8e186"
            ],
            [
             0.8,
             "#7fbc41"
            ],
            [
             0.9,
             "#4d9221"
            ],
            [
             1,
             "#276419"
            ]
           ],
           "sequential": [
            [
             0,
             "#0d0887"
            ],
            [
             0.1111111111111111,
             "#46039f"
            ],
            [
             0.2222222222222222,
             "#7201a8"
            ],
            [
             0.3333333333333333,
             "#9c179e"
            ],
            [
             0.4444444444444444,
             "#bd3786"
            ],
            [
             0.5555555555555556,
             "#d8576b"
            ],
            [
             0.6666666666666666,
             "#ed7953"
            ],
            [
             0.7777777777777778,
             "#fb9f3a"
            ],
            [
             0.8888888888888888,
             "#fdca26"
            ],
            [
             1,
             "#f0f921"
            ]
           ],
           "sequentialminus": [
            [
             0,
             "#0d0887"
            ],
            [
             0.1111111111111111,
             "#46039f"
            ],
            [
             0.2222222222222222,
             "#7201a8"
            ],
            [
             0.3333333333333333,
             "#9c179e"
            ],
            [
             0.4444444444444444,
             "#bd3786"
            ],
            [
             0.5555555555555556,
             "#d8576b"
            ],
            [
             0.6666666666666666,
             "#ed7953"
            ],
            [
             0.7777777777777778,
             "#fb9f3a"
            ],
            [
             0.8888888888888888,
             "#fdca26"
            ],
            [
             1,
             "#f0f921"
            ]
           ]
          },
          "colorway": [
           "#636efa",
           "#EF553B",
           "#00cc96",
           "#ab63fa",
           "#FFA15A",
           "#19d3f3",
           "#FF6692",
           "#B6E880",
           "#FF97FF",
           "#FECB52"
          ],
          "font": {
           "color": "#2a3f5f"
          },
          "geo": {
           "bgcolor": "white",
           "lakecolor": "white",
           "landcolor": "#E5ECF6",
           "showlakes": true,
           "showland": true,
           "subunitcolor": "white"
          },
          "hoverlabel": {
           "align": "left"
          },
          "hovermode": "closest",
          "mapbox": {
           "style": "light"
          },
          "paper_bgcolor": "white",
          "plot_bgcolor": "#E5ECF6",
          "polar": {
           "angularaxis": {
            "gridcolor": "white",
            "linecolor": "white",
            "ticks": ""
           },
           "bgcolor": "#E5ECF6",
           "radialaxis": {
            "gridcolor": "white",
            "linecolor": "white",
            "ticks": ""
           }
          },
          "scene": {
           "xaxis": {
            "backgroundcolor": "#E5ECF6",
            "gridcolor": "white",
            "gridwidth": 2,
            "linecolor": "white",
            "showbackground": true,
            "ticks": "",
            "zerolinecolor": "white"
           },
           "yaxis": {
            "backgroundcolor": "#E5ECF6",
            "gridcolor": "white",
            "gridwidth": 2,
            "linecolor": "white",
            "showbackground": true,
            "ticks": "",
            "zerolinecolor": "white"
           },
           "zaxis": {
            "backgroundcolor": "#E5ECF6",
            "gridcolor": "white",
            "gridwidth": 2,
            "linecolor": "white",
            "showbackground": true,
            "ticks": "",
            "zerolinecolor": "white"
           }
          },
          "shapedefaults": {
           "line": {
            "color": "#2a3f5f"
           }
          },
          "ternary": {
           "aaxis": {
            "gridcolor": "white",
            "linecolor": "white",
            "ticks": ""
           },
           "baxis": {
            "gridcolor": "white",
            "linecolor": "white",
            "ticks": ""
           },
           "bgcolor": "#E5ECF6",
           "caxis": {
            "gridcolor": "white",
            "linecolor": "white",
            "ticks": ""
           }
          },
          "title": {
           "x": 0.05
          },
          "xaxis": {
           "automargin": true,
           "gridcolor": "white",
           "linecolor": "white",
           "ticks": "",
           "title": {
            "standoff": 15
           },
           "zerolinecolor": "white",
           "zerolinewidth": 2
          },
          "yaxis": {
           "automargin": true,
           "gridcolor": "white",
           "linecolor": "white",
           "ticks": "",
           "title": {
            "standoff": 15
           },
           "zerolinecolor": "white",
           "zerolinewidth": 2
          }
         }
        },
        "title": {
         "text": "t-SNE class names embeddings"
        },
        "xaxis": {
         "anchor": "y",
         "domain": [
          0,
          1
         ],
         "title": {
          "text": "First Principal Component"
         }
        },
        "yaxis": {
         "anchor": "x",
         "domain": [
          0,
          1
         ],
         "title": {
          "text": "Second Principal Component"
         }
        }
       }
      }
     },
     "metadata": {},
     "output_type": "display_data"
    }
   ],
   "source": [
    "# t-SNE\n",
    "\n",
    "text_features_tsne = text_features\n",
    "tsne = TSNE(n_components=2, verbose=0, perplexity=40, n_iter=300)\n",
    "text_tsne = tsne.fit_transform(text_features_tsne.to('cpu'))\n",
    "\n",
    "fig = px.scatter(x=text_tsne[:, 0], y=text_tsne[:, 1], hover_name=[all_labels[d] for d in catalog][0], color=list(range(200)))\n",
    "fig.update_layout(\n",
    "    title=\"t-SNE class names embeddings\",\n",
    "    xaxis_title=\"First Principal Component\",\n",
    "    yaxis_title=\"Second Principal Component\",\n",
    ")\n",
    "cwd = '/home/onyxia/work/tsne_plot/'\n",
    "path = os.path.join(cwd, 't-SNE class names embeddings.png')\n",
    "fig.write_image(path, format='png', engine='kaleido')\n",
    "fig.show()"
   ]
  },
  {
   "cell_type": "code",
   "execution_count": null,
   "id": "d051a395",
   "metadata": {},
   "outputs": [
    {
     "name": "stderr",
     "output_type": "stream",
     "text": [
      "/usr/local/lib/python3.12/site-packages/sklearn/manifold/_t_sne.py:1164: FutureWarning:\n",
      "\n",
      "'n_iter' was renamed to 'max_iter' in version 1.5 and will be removed in 1.7.\n",
      "\n"
     ]
    },
    {
     "data": {
      "application/vnd.plotly.v1+json": {
       "config": {
        "plotlyServerURL": "https://plot.ly"
       },
       "data": [
        {
         "hovertemplate": "x=%{x}<br>y=%{y}<br>color=%{marker.color}<extra></extra>",
         "legendgroup": "",
         "marker": {
          "color": {
           "bdata": "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",
           "dtype": "i2"
          },
          "coloraxis": "coloraxis",
          "symbol": "circle"
         },
         "mode": "markers",
         "name": "",
         "showlegend": false,
         "type": "scattergl",
         "x": {
          "bdata": "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",
          "dtype": "f4"
         },
         "xaxis": "x",
         "y": {
          "bdata": "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",
          "dtype": "f4"
         },
         "yaxis": "y"
        }
       ],
       "layout": {
        "coloraxis": {
         "colorbar": {
          "title": {
           "text": "color"
          }
         },
         "colorscale": [
          [
           0,
           "#0d0887"
          ],
          [
           0.1111111111111111,
           "#46039f"
          ],
          [
           0.2222222222222222,
           "#7201a8"
          ],
          [
           0.3333333333333333,
           "#9c179e"
          ],
          [
           0.4444444444444444,
           "#bd3786"
          ],
          [
           0.5555555555555556,
           "#d8576b"
          ],
          [
           0.6666666666666666,
           "#ed7953"
          ],
          [
           0.7777777777777778,
           "#fb9f3a"
          ],
          [
           0.8888888888888888,
           "#fdca26"
          ],
          [
           1,
           "#f0f921"
          ]
         ]
        },
        "legend": {
         "tracegroupgap": 0
        },
        "margin": {
         "t": 60
        },
        "template": {
         "data": {
          "bar": [
           {
            "error_x": {
             "color": "#2a3f5f"
            },
            "error_y": {
             "color": "#2a3f5f"
            },
            "marker": {
             "line": {
              "color": "#E5ECF6",
              "width": 0.5
             },
             "pattern": {
              "fillmode": "overlay",
              "size": 10,
              "solidity": 0.2
             }
            },
            "type": "bar"
           }
          ],
          "barpolar": [
           {
            "marker": {
             "line": {
              "color": "#E5ECF6",
              "width": 0.5
             },
             "pattern": {
              "fillmode": "overlay",
              "size": 10,
              "solidity": 0.2
             }
            },
            "type": "barpolar"
           }
          ],
          "carpet": [
           {
            "aaxis": {
             "endlinecolor": "#2a3f5f",
             "gridcolor": "white",
             "linecolor": "white",
             "minorgridcolor": "white",
             "startlinecolor": "#2a3f5f"
            },
            "baxis": {
             "endlinecolor": "#2a3f5f",
             "gridcolor": "white",
             "linecolor": "white",
             "minorgridcolor": "white",
             "startlinecolor": "#2a3f5f"
            },
            "type": "carpet"
           }
          ],
          "choropleth": [
           {
            "colorbar": {
             "outlinewidth": 0,
             "ticks": ""
            },
            "type": "choropleth"
           }
          ],
          "contour": [
           {
            "colorbar": {
             "outlinewidth": 0,
             "ticks": ""
            },
            "colorscale": [
             [
              0,
              "#0d0887"
             ],
             [
              0.1111111111111111,
              "#46039f"
             ],
             [
              0.2222222222222222,
              "#7201a8"
             ],
             [
              0.3333333333333333,
              "#9c179e"
             ],
             [
              0.4444444444444444,
              "#bd3786"
             ],
             [
              0.5555555555555556,
              "#d8576b"
             ],
             [
              0.6666666666666666,
              "#ed7953"
             ],
             [
              0.7777777777777778,
              "#fb9f3a"
             ],
             [
              0.8888888888888888,
              "#fdca26"
             ],
             [
              1,
              "#f0f921"
             ]
            ],
            "type": "contour"
           }
          ],
          "contourcarpet": [
           {
            "colorbar": {
             "outlinewidth": 0,
             "ticks": ""
            },
            "type": "contourcarpet"
           }
          ],
          "heatmap": [
           {
            "colorbar": {
             "outlinewidth": 0,
             "ticks": ""
            },
            "colorscale": [
             [
              0,
              "#0d0887"
             ],
             [
              0.1111111111111111,
              "#46039f"
             ],
             [
              0.2222222222222222,
              "#7201a8"
             ],
             [
              0.3333333333333333,
              "#9c179e"
             ],
             [
              0.4444444444444444,
              "#bd3786"
             ],
             [
              0.5555555555555556,
              "#d8576b"
             ],
             [
              0.6666666666666666,
              "#ed7953"
             ],
             [
              0.7777777777777778,
              "#fb9f3a"
             ],
             [
              0.8888888888888888,
              "#fdca26"
             ],
             [
              1,
              "#f0f921"
             ]
            ],
            "type": "heatmap"
           }
          ],
          "histogram": [
           {
            "marker": {
             "pattern": {
              "fillmode": "overlay",
              "size": 10,
              "solidity": 0.2
             }
            },
            "type": "histogram"
           }
          ],
          "histogram2d": [
           {
            "colorbar": {
             "outlinewidth": 0,
             "ticks": ""
            },
            "colorscale": [
             [
              0,
              "#0d0887"
             ],
             [
              0.1111111111111111,
              "#46039f"
             ],
             [
              0.2222222222222222,
              "#7201a8"
             ],
             [
              0.3333333333333333,
              "#9c179e"
             ],
             [
              0.4444444444444444,
              "#bd3786"
             ],
             [
              0.5555555555555556,
              "#d8576b"
             ],
             [
              0.6666666666666666,
              "#ed7953"
             ],
             [
              0.7777777777777778,
              "#fb9f3a"
             ],
             [
              0.8888888888888888,
              "#fdca26"
             ],
             [
              1,
              "#f0f921"
             ]
            ],
            "type": "histogram2d"
           }
          ],
          "histogram2dcontour": [
           {
            "colorbar": {
             "outlinewidth": 0,
             "ticks": ""
            },
            "colorscale": [
             [
              0,
              "#0d0887"
             ],
             [
              0.1111111111111111,
              "#46039f"
             ],
             [
              0.2222222222222222,
              "#7201a8"
             ],
             [
              0.3333333333333333,
              "#9c179e"
             ],
             [
              0.4444444444444444,
              "#bd3786"
             ],
             [
              0.5555555555555556,
              "#d8576b"
             ],
             [
              0.6666666666666666,
              "#ed7953"
             ],
             [
              0.7777777777777778,
              "#fb9f3a"
             ],
             [
              0.8888888888888888,
              "#fdca26"
             ],
             [
              1,
              "#f0f921"
             ]
            ],
            "type": "histogram2dcontour"
           }
          ],
          "mesh3d": [
           {
            "colorbar": {
             "outlinewidth": 0,
             "ticks": ""
            },
            "type": "mesh3d"
           }
          ],
          "parcoords": [
           {
            "line": {
             "colorbar": {
              "outlinewidth": 0,
              "ticks": ""
             }
            },
            "type": "parcoords"
           }
          ],
          "pie": [
           {
            "automargin": true,
            "type": "pie"
           }
          ],
          "scatter": [
           {
            "fillpattern": {
             "fillmode": "overlay",
             "size": 10,
             "solidity": 0.2
            },
            "type": "scatter"
           }
          ],
          "scatter3d": [
           {
            "line": {
             "colorbar": {
              "outlinewidth": 0,
              "ticks": ""
             }
            },
            "marker": {
             "colorbar": {
              "outlinewidth": 0,
              "ticks": ""
             }
            },
            "type": "scatter3d"
           }
          ],
          "scattercarpet": [
           {
            "marker": {
             "colorbar": {
              "outlinewidth": 0,
              "ticks": ""
             }
            },
            "type": "scattercarpet"
           }
          ],
          "scattergeo": [
           {
            "marker": {
             "colorbar": {
              "outlinewidth": 0,
              "ticks": ""
             }
            },
            "type": "scattergeo"
           }
          ],
          "scattergl": [
           {
            "marker": {
             "colorbar": {
              "outlinewidth": 0,
              "ticks": ""
             }
            },
            "type": "scattergl"
           }
          ],
          "scattermap": [
           {
            "marker": {
             "colorbar": {
              "outlinewidth": 0,
              "ticks": ""
             }
            },
            "type": "scattermap"
           }
          ],
          "scattermapbox": [
           {
            "marker": {
             "colorbar": {
              "outlinewidth": 0,
              "ticks": ""
             }
            },
            "type": "scattermapbox"
           }
          ],
          "scatterpolar": [
           {
            "marker": {
             "colorbar": {
              "outlinewidth": 0,
              "ticks": ""
             }
            },
            "type": "scatterpolar"
           }
          ],
          "scatterpolargl": [
           {
            "marker": {
             "colorbar": {
              "outlinewidth": 0,
              "ticks": ""
             }
            },
            "type": "scatterpolargl"
           }
          ],
          "scatterternary": [
           {
            "marker": {
             "colorbar": {
              "outlinewidth": 0,
              "ticks": ""
             }
            },
            "type": "scatterternary"
           }
          ],
          "surface": [
           {
            "colorbar": {
             "outlinewidth": 0,
             "ticks": ""
            },
            "colorscale": [
             [
              0,
              "#0d0887"
             ],
             [
              0.1111111111111111,
              "#46039f"
             ],
             [
              0.2222222222222222,
              "#7201a8"
             ],
             [
              0.3333333333333333,
              "#9c179e"
             ],
             [
              0.4444444444444444,
              "#bd3786"
             ],
             [
              0.5555555555555556,
              "#d8576b"
             ],
             [
              0.6666666666666666,
              "#ed7953"
             ],
             [
              0.7777777777777778,
              "#fb9f3a"
             ],
             [
              0.8888888888888888,
              "#fdca26"
             ],
             [
              1,
              "#f0f921"
             ]
            ],
            "type": "surface"
           }
          ],
          "table": [
           {
            "cells": {
             "fill": {
              "color": "#EBF0F8"
             },
             "line": {
              "color": "white"
             }
            },
            "header": {
             "fill": {
              "color": "#C8D4E3"
             },
             "line": {
              "color": "white"
             }
            },
            "type": "table"
           }
          ]
         },
         "layout": {
          "annotationdefaults": {
           "arrowcolor": "#2a3f5f",
           "arrowhead": 0,
           "arrowwidth": 1
          },
          "autotypenumbers": "strict",
          "coloraxis": {
           "colorbar": {
            "outlinewidth": 0,
            "ticks": ""
           }
          },
          "colorscale": {
           "diverging": [
            [
             0,
             "#8e0152"
            ],
            [
             0.1,
             "#c51b7d"
            ],
            [
             0.2,
             "#de77ae"
            ],
            [
             0.3,
             "#f1b6da"
            ],
            [
             0.4,
             "#fde0ef"
            ],
            [
             0.5,
             "#f7f7f7"
            ],
            [
             0.6,
             "#e6f5d0"
            ],
            [
             0.7,
             "#b8e186"
            ],
            [
             0.8,
             "#7fbc41"
            ],
            [
             0.9,
             "#4d9221"
            ],
            [
             1,
             "#276419"
            ]
           ],
           "sequential": [
            [
             0,
             "#0d0887"
            ],
            [
             0.1111111111111111,
             "#46039f"
            ],
            [
             0.2222222222222222,
             "#7201a8"
            ],
            [
             0.3333333333333333,
             "#9c179e"
            ],
            [
             0.4444444444444444,
             "#bd3786"
            ],
            [
             0.5555555555555556,
             "#d8576b"
            ],
            [
             0.6666666666666666,
             "#ed7953"
            ],
            [
             0.7777777777777778,
             "#fb9f3a"
            ],
            [
             0.8888888888888888,
             "#fdca26"
            ],
            [
             1,
             "#f0f921"
            ]
           ],
           "sequentialminus": [
            [
             0,
             "#0d0887"
            ],
            [
             0.1111111111111111,
             "#46039f"
            ],
            [
             0.2222222222222222,
             "#7201a8"
            ],
            [
             0.3333333333333333,
             "#9c179e"
            ],
            [
             0.4444444444444444,
             "#bd3786"
            ],
            [
             0.5555555555555556,
             "#d8576b"
            ],
            [
             0.6666666666666666,
             "#ed7953"
            ],
            [
             0.7777777777777778,
             "#fb9f3a"
            ],
            [
             0.8888888888888888,
             "#fdca26"
            ],
            [
             1,
             "#f0f921"
            ]
           ]
          },
          "colorway": [
           "#636efa",
           "#EF553B",
           "#00cc96",
           "#ab63fa",
           "#FFA15A",
           "#19d3f3",
           "#FF6692",
           "#B6E880",
           "#FF97FF",
           "#FECB52"
          ],
          "font": {
           "color": "#2a3f5f"
          },
          "geo": {
           "bgcolor": "white",
           "lakecolor": "white",
           "landcolor": "#E5ECF6",
           "showlakes": true,
           "showland": true,
           "subunitcolor": "white"
          },
          "hoverlabel": {
           "align": "left"
          },
          "hovermode": "closest",
          "mapbox": {
           "style": "light"
          },
          "paper_bgcolor": "white",
          "plot_bgcolor": "#E5ECF6",
          "polar": {
           "angularaxis": {
            "gridcolor": "white",
            "linecolor": "white",
            "ticks": ""
           },
           "bgcolor": "#E5ECF6",
           "radialaxis": {
            "gridcolor": "white",
            "linecolor": "white",
            "ticks": ""
           }
          },
          "scene": {
           "xaxis": {
            "backgroundcolor": "#E5ECF6",
            "gridcolor": "white",
            "gridwidth": 2,
            "linecolor": "white",
            "showbackground": true,
            "ticks": "",
            "zerolinecolor": "white"
           },
           "yaxis": {
            "backgroundcolor": "#E5ECF6",
            "gridcolor": "white",
            "gridwidth": 2,
            "linecolor": "white",
            "showbackground": true,
            "ticks": "",
            "zerolinecolor": "white"
           },
           "zaxis": {
            "backgroundcolor": "#E5ECF6",
            "gridcolor": "white",
            "gridwidth": 2,
            "linecolor": "white",
            "showbackground": true,
            "ticks": "",
            "zerolinecolor": "white"
           }
          },
          "shapedefaults": {
           "line": {
            "color": "#2a3f5f"
           }
          },
          "ternary": {
           "aaxis": {
            "gridcolor": "white",
            "linecolor": "white",
            "ticks": ""
           },
           "baxis": {
            "gridcolor": "white",
            "linecolor": "white",
            "ticks": ""
           },
           "bgcolor": "#E5ECF6",
           "caxis": {
            "gridcolor": "white",
            "linecolor": "white",
            "ticks": ""
           }
          },
          "title": {
           "x": 0.05
          },
          "xaxis": {
           "automargin": true,
           "gridcolor": "white",
           "linecolor": "white",
           "ticks": "",
           "title": {
            "standoff": 15
           },
           "zerolinecolor": "white",
           "zerolinewidth": 2
          },
          "yaxis": {
           "automargin": true,
           "gridcolor": "white",
           "linecolor": "white",
           "ticks": "",
           "title": {
            "standoff": 15
           },
           "zerolinecolor": "white",
           "zerolinewidth": 2
          }
         }
        },
        "title": {
         "text": "t-SNE of image embeddings"
        },
        "xaxis": {
         "anchor": "y",
         "domain": [
          0,
          1
         ],
         "title": {
          "text": "First Principal Component"
         }
        },
        "yaxis": {
         "anchor": "x",
         "domain": [
          0,
          1
         ],
         "title": {
          "text": "Second Principal Component"
         }
        }
       }
      }
     },
     "metadata": {},
     "output_type": "display_data"
    }
   ],
   "source": [
    "# t-SNE\n",
    "\n",
    "image_features_tsne = image_features_cat\n",
    "tsne = TSNE(n_components=2, verbose=0, perplexity=40, n_iter=300)\n",
    "image_tsne = tsne.fit_transform(image_features_tsne.to('cpu'))\n",
    "\n",
    "fig = px.scatter(x=image_tsne[:, 0], y=image_tsne[:, 1], color=new_colors)\n",
    "fig.update_layout(\n",
    "    title=\"t-SNE of image embeddings\",\n",
    "    xaxis_title=\"First Principal Component\",\n",
    "    yaxis_title=\"Second Principal Component\",\n",
    ")\n",
    "path = os.path.join(cwd, 't-SNE of image embeddings.png')\n",
    "fig.write_image(path, format='png', engine='kaleido')\n",
    "fig.show()"
   ]
  }
 ],
 "metadata": {
  "kernelspec": {
   "display_name": "Python 3",
   "language": "python",
   "name": "python3"
  },
  "language_info": {
   "codemirror_mode": {
    "name": "ipython",
    "version": 3
   },
   "file_extension": ".py",
   "mimetype": "text/x-python",
   "name": "python",
   "nbconvert_exporter": "python",
   "pygments_lexer": "ipython3",
   "version": "3.12.9"
  }
 },
 "nbformat": 4,
 "nbformat_minor": 5
}
