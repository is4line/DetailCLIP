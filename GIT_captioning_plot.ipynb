{
 "cells": [
  {
   "cell_type": "code",
   "execution_count": 4,
   "id": "ee039af4",
   "metadata": {},
   "outputs": [],
   "source": [
    "from sklearn.decomposition import PCA\n",
    "from sklearn.manifold import TSNE\n",
    "import models\n",
    "import torch\n",
    "from collections import OrderedDict\n",
    "import json\n",
    "import os\n",
    "import torchvision.transforms as transforms\n",
    "from tokenizer import SimpleTokenizer\n",
    "import datasets\n",
    "import utils\n",
    "import matplotlib.pyplot as plt\n",
    "import seaborn as sns\n",
    "import pandas as pd\n",
    "import numpy as np\n",
    "import plotly.express as px\n",
    "import plotly.colors as pc\n",
    "import plotly.io as pio\n",
    "import random\n",
    "import kaleido\n",
    "import plotly.graph_objects as go\n",
    "from sklearn.preprocessing import StandardScaler"
   ]
  },
  {
   "cell_type": "code",
   "execution_count": 5,
   "id": "cd27b204",
   "metadata": {},
   "outputs": [
    {
     "name": "stdout",
     "output_type": "stream",
     "text": [
      "\tCreating MAE projection head\n",
      "\tMAE projection head created\n",
      "\tCreating IBOT projection head\n",
      "\tkeys have been loaded for ibot head with status: <All keys matched successfully>\n",
      "\tIBOT projection head created\n",
      "\tDetailCLIP model created\n",
      "=> creating model: ICLIP_VITB16\n",
      "\tCreating MAE projection head\n",
      "\tMAE projection head created\n",
      "\tCreating IBOT projection head\n",
      "\tkeys have been loaded for ibot head with status: <All keys matched successfully>\n",
      "\tIBOT projection head created\n",
      "\tDetailCLIP model created\n",
      "=> loaded resume checkpoint 'checkpoint_best.pt' (epoch 48)\n"
     ]
    }
   ],
   "source": [
    "model = getattr(models, 'ICLIP_VITB16')()\n",
    "model.cuda()\n",
    "\n",
    "# Creating model\n",
    "ckpt_path = 'checkpoint_best.pt'\n",
    "\n",
    "ckpt = torch.load(ckpt_path, map_location='cpu', weights_only=False)\n",
    "state_dict = OrderedDict()\n",
    "for k, v in ckpt['state_dict'].items():\n",
    "    state_dict[k.replace('module.', '')] = v\n",
    "\n",
    "old_args = ckpt['args']\n",
    "print(\"=> creating model: {}\".format(old_args.model))\n",
    "model = getattr(models, old_args.model)()\n",
    "model.cuda()\n",
    "model.load_state_dict(state_dict, strict=True)\n",
    "print(\"=> loaded resume checkpoint '{}' (epoch {})\".format(ckpt_path, ckpt['epoch']))"
   ]
  },
  {
   "cell_type": "code",
   "execution_count": 6,
   "id": "1d71fdd2",
   "metadata": {},
   "outputs": [],
   "source": [
    "cwd = '/home/onyxia/work/DetailCLIP'\n",
    "with open(os.path.join(cwd, 'dataset_catalog.json')) as f:\n",
    "    catalog = json.load(f)\n",
    "\n",
    "with open(os.path.join(cwd, 'templates.json')) as f:\n",
    "    all_templates = json.load(f)\n",
    "\n",
    "with open(os.path.join(cwd, 'labels.json')) as f:\n",
    "    all_labels = json.load(f)"
   ]
  },
  {
   "cell_type": "code",
   "execution_count": 7,
   "id": "a47b37cd",
   "metadata": {},
   "outputs": [
    {
     "name": "stdout",
     "output_type": "stream",
     "text": [
      "=> creating dataset\n"
     ]
    }
   ],
   "source": [
    "# Data loading code\n",
    "print(\"=> creating dataset\")\n",
    "tokenizer = SimpleTokenizer()\n",
    "val_transform = transforms.Compose([\n",
    "        transforms.Resize(224),\n",
    "        transforms.CenterCrop(224),\n",
    "        lambda x: x.convert('RGB'),\n",
    "        transforms.ToTensor(),\n",
    "        transforms.Normalize(mean=[0.485, 0.456, 0.406],\n",
    "                                std=[0.229, 0.224, 0.225])\n",
    "    ])"
   ]
  },
  {
   "cell_type": "code",
   "execution_count": 8,
   "id": "4a4a75bc",
   "metadata": {},
   "outputs": [
    {
     "name": "stdout",
     "output_type": "stream",
     "text": [
      "Evaluating git\n"
     ]
    },
    {
     "data": {
      "text/plain": [
       "ICLIP(\n",
       "  (visual): MaskVisionTransformer(\n",
       "    (patch_embed): PatchEmbed(\n",
       "      (proj): Conv2d(3, 768, kernel_size=(16, 16), stride=(16, 16))\n",
       "      (norm): Identity()\n",
       "    )\n",
       "    (pos_drop): Dropout(p=0.0, inplace=False)\n",
       "    (blocks): Sequential(\n",
       "      (0): Block(\n",
       "        (norm1): LayerNorm((768,), eps=1e-06, elementwise_affine=True)\n",
       "        (attn): Attention(\n",
       "          (qkv): Linear(in_features=768, out_features=2304, bias=True)\n",
       "          (attn_drop): Dropout(p=0.0, inplace=False)\n",
       "          (proj): Linear(in_features=768, out_features=768, bias=True)\n",
       "          (proj_drop): Dropout(p=0.0, inplace=False)\n",
       "        )\n",
       "        (drop_path): Identity()\n",
       "        (norm2): LayerNorm((768,), eps=1e-06, elementwise_affine=True)\n",
       "        (mlp): Mlp(\n",
       "          (fc1): Linear(in_features=768, out_features=3072, bias=True)\n",
       "          (act): GELU(approximate='none')\n",
       "          (drop1): Dropout(p=0.0, inplace=False)\n",
       "          (fc2): Linear(in_features=3072, out_features=768, bias=True)\n",
       "          (drop2): Dropout(p=0.0, inplace=False)\n",
       "        )\n",
       "      )\n",
       "      (1): Block(\n",
       "        (norm1): LayerNorm((768,), eps=1e-06, elementwise_affine=True)\n",
       "        (attn): Attention(\n",
       "          (qkv): Linear(in_features=768, out_features=2304, bias=True)\n",
       "          (attn_drop): Dropout(p=0.0, inplace=False)\n",
       "          (proj): Linear(in_features=768, out_features=768, bias=True)\n",
       "          (proj_drop): Dropout(p=0.0, inplace=False)\n",
       "        )\n",
       "        (drop_path): Identity()\n",
       "        (norm2): LayerNorm((768,), eps=1e-06, elementwise_affine=True)\n",
       "        (mlp): Mlp(\n",
       "          (fc1): Linear(in_features=768, out_features=3072, bias=True)\n",
       "          (act): GELU(approximate='none')\n",
       "          (drop1): Dropout(p=0.0, inplace=False)\n",
       "          (fc2): Linear(in_features=3072, out_features=768, bias=True)\n",
       "          (drop2): Dropout(p=0.0, inplace=False)\n",
       "        )\n",
       "      )\n",
       "      (2): Block(\n",
       "        (norm1): LayerNorm((768,), eps=1e-06, elementwise_affine=True)\n",
       "        (attn): Attention(\n",
       "          (qkv): Linear(in_features=768, out_features=2304, bias=True)\n",
       "          (attn_drop): Dropout(p=0.0, inplace=False)\n",
       "          (proj): Linear(in_features=768, out_features=768, bias=True)\n",
       "          (proj_drop): Dropout(p=0.0, inplace=False)\n",
       "        )\n",
       "        (drop_path): Identity()\n",
       "        (norm2): LayerNorm((768,), eps=1e-06, elementwise_affine=True)\n",
       "        (mlp): Mlp(\n",
       "          (fc1): Linear(in_features=768, out_features=3072, bias=True)\n",
       "          (act): GELU(approximate='none')\n",
       "          (drop1): Dropout(p=0.0, inplace=False)\n",
       "          (fc2): Linear(in_features=3072, out_features=768, bias=True)\n",
       "          (drop2): Dropout(p=0.0, inplace=False)\n",
       "        )\n",
       "      )\n",
       "      (3): Block(\n",
       "        (norm1): LayerNorm((768,), eps=1e-06, elementwise_affine=True)\n",
       "        (attn): Attention(\n",
       "          (qkv): Linear(in_features=768, out_features=2304, bias=True)\n",
       "          (attn_drop): Dropout(p=0.0, inplace=False)\n",
       "          (proj): Linear(in_features=768, out_features=768, bias=True)\n",
       "          (proj_drop): Dropout(p=0.0, inplace=False)\n",
       "        )\n",
       "        (drop_path): Identity()\n",
       "        (norm2): LayerNorm((768,), eps=1e-06, elementwise_affine=True)\n",
       "        (mlp): Mlp(\n",
       "          (fc1): Linear(in_features=768, out_features=3072, bias=True)\n",
       "          (act): GELU(approximate='none')\n",
       "          (drop1): Dropout(p=0.0, inplace=False)\n",
       "          (fc2): Linear(in_features=3072, out_features=768, bias=True)\n",
       "          (drop2): Dropout(p=0.0, inplace=False)\n",
       "        )\n",
       "      )\n",
       "      (4): Block(\n",
       "        (norm1): LayerNorm((768,), eps=1e-06, elementwise_affine=True)\n",
       "        (attn): Attention(\n",
       "          (qkv): Linear(in_features=768, out_features=2304, bias=True)\n",
       "          (attn_drop): Dropout(p=0.0, inplace=False)\n",
       "          (proj): Linear(in_features=768, out_features=768, bias=True)\n",
       "          (proj_drop): Dropout(p=0.0, inplace=False)\n",
       "        )\n",
       "        (drop_path): Identity()\n",
       "        (norm2): LayerNorm((768,), eps=1e-06, elementwise_affine=True)\n",
       "        (mlp): Mlp(\n",
       "          (fc1): Linear(in_features=768, out_features=3072, bias=True)\n",
       "          (act): GELU(approximate='none')\n",
       "          (drop1): Dropout(p=0.0, inplace=False)\n",
       "          (fc2): Linear(in_features=3072, out_features=768, bias=True)\n",
       "          (drop2): Dropout(p=0.0, inplace=False)\n",
       "        )\n",
       "      )\n",
       "      (5): Block(\n",
       "        (norm1): LayerNorm((768,), eps=1e-06, elementwise_affine=True)\n",
       "        (attn): Attention(\n",
       "          (qkv): Linear(in_features=768, out_features=2304, bias=True)\n",
       "          (attn_drop): Dropout(p=0.0, inplace=False)\n",
       "          (proj): Linear(in_features=768, out_features=768, bias=True)\n",
       "          (proj_drop): Dropout(p=0.0, inplace=False)\n",
       "        )\n",
       "        (drop_path): Identity()\n",
       "        (norm2): LayerNorm((768,), eps=1e-06, elementwise_affine=True)\n",
       "        (mlp): Mlp(\n",
       "          (fc1): Linear(in_features=768, out_features=3072, bias=True)\n",
       "          (act): GELU(approximate='none')\n",
       "          (drop1): Dropout(p=0.0, inplace=False)\n",
       "          (fc2): Linear(in_features=3072, out_features=768, bias=True)\n",
       "          (drop2): Dropout(p=0.0, inplace=False)\n",
       "        )\n",
       "      )\n",
       "      (6): Block(\n",
       "        (norm1): LayerNorm((768,), eps=1e-06, elementwise_affine=True)\n",
       "        (attn): Attention(\n",
       "          (qkv): Linear(in_features=768, out_features=2304, bias=True)\n",
       "          (attn_drop): Dropout(p=0.0, inplace=False)\n",
       "          (proj): Linear(in_features=768, out_features=768, bias=True)\n",
       "          (proj_drop): Dropout(p=0.0, inplace=False)\n",
       "        )\n",
       "        (drop_path): Identity()\n",
       "        (norm2): LayerNorm((768,), eps=1e-06, elementwise_affine=True)\n",
       "        (mlp): Mlp(\n",
       "          (fc1): Linear(in_features=768, out_features=3072, bias=True)\n",
       "          (act): GELU(approximate='none')\n",
       "          (drop1): Dropout(p=0.0, inplace=False)\n",
       "          (fc2): Linear(in_features=3072, out_features=768, bias=True)\n",
       "          (drop2): Dropout(p=0.0, inplace=False)\n",
       "        )\n",
       "      )\n",
       "      (7): Block(\n",
       "        (norm1): LayerNorm((768,), eps=1e-06, elementwise_affine=True)\n",
       "        (attn): Attention(\n",
       "          (qkv): Linear(in_features=768, out_features=2304, bias=True)\n",
       "          (attn_drop): Dropout(p=0.0, inplace=False)\n",
       "          (proj): Linear(in_features=768, out_features=768, bias=True)\n",
       "          (proj_drop): Dropout(p=0.0, inplace=False)\n",
       "        )\n",
       "        (drop_path): Identity()\n",
       "        (norm2): LayerNorm((768,), eps=1e-06, elementwise_affine=True)\n",
       "        (mlp): Mlp(\n",
       "          (fc1): Linear(in_features=768, out_features=3072, bias=True)\n",
       "          (act): GELU(approximate='none')\n",
       "          (drop1): Dropout(p=0.0, inplace=False)\n",
       "          (fc2): Linear(in_features=3072, out_features=768, bias=True)\n",
       "          (drop2): Dropout(p=0.0, inplace=False)\n",
       "        )\n",
       "      )\n",
       "      (8): Block(\n",
       "        (norm1): LayerNorm((768,), eps=1e-06, elementwise_affine=True)\n",
       "        (attn): Attention(\n",
       "          (qkv): Linear(in_features=768, out_features=2304, bias=True)\n",
       "          (attn_drop): Dropout(p=0.0, inplace=False)\n",
       "          (proj): Linear(in_features=768, out_features=768, bias=True)\n",
       "          (proj_drop): Dropout(p=0.0, inplace=False)\n",
       "        )\n",
       "        (drop_path): Identity()\n",
       "        (norm2): LayerNorm((768,), eps=1e-06, elementwise_affine=True)\n",
       "        (mlp): Mlp(\n",
       "          (fc1): Linear(in_features=768, out_features=3072, bias=True)\n",
       "          (act): GELU(approximate='none')\n",
       "          (drop1): Dropout(p=0.0, inplace=False)\n",
       "          (fc2): Linear(in_features=3072, out_features=768, bias=True)\n",
       "          (drop2): Dropout(p=0.0, inplace=False)\n",
       "        )\n",
       "      )\n",
       "      (9): Block(\n",
       "        (norm1): LayerNorm((768,), eps=1e-06, elementwise_affine=True)\n",
       "        (attn): Attention(\n",
       "          (qkv): Linear(in_features=768, out_features=2304, bias=True)\n",
       "          (attn_drop): Dropout(p=0.0, inplace=False)\n",
       "          (proj): Linear(in_features=768, out_features=768, bias=True)\n",
       "          (proj_drop): Dropout(p=0.0, inplace=False)\n",
       "        )\n",
       "        (drop_path): Identity()\n",
       "        (norm2): LayerNorm((768,), eps=1e-06, elementwise_affine=True)\n",
       "        (mlp): Mlp(\n",
       "          (fc1): Linear(in_features=768, out_features=3072, bias=True)\n",
       "          (act): GELU(approximate='none')\n",
       "          (drop1): Dropout(p=0.0, inplace=False)\n",
       "          (fc2): Linear(in_features=3072, out_features=768, bias=True)\n",
       "          (drop2): Dropout(p=0.0, inplace=False)\n",
       "        )\n",
       "      )\n",
       "      (10): Block(\n",
       "        (norm1): LayerNorm((768,), eps=1e-06, elementwise_affine=True)\n",
       "        (attn): Attention(\n",
       "          (qkv): Linear(in_features=768, out_features=2304, bias=True)\n",
       "          (attn_drop): Dropout(p=0.0, inplace=False)\n",
       "          (proj): Linear(in_features=768, out_features=768, bias=True)\n",
       "          (proj_drop): Dropout(p=0.0, inplace=False)\n",
       "        )\n",
       "        (drop_path): Identity()\n",
       "        (norm2): LayerNorm((768,), eps=1e-06, elementwise_affine=True)\n",
       "        (mlp): Mlp(\n",
       "          (fc1): Linear(in_features=768, out_features=3072, bias=True)\n",
       "          (act): GELU(approximate='none')\n",
       "          (drop1): Dropout(p=0.0, inplace=False)\n",
       "          (fc2): Linear(in_features=3072, out_features=768, bias=True)\n",
       "          (drop2): Dropout(p=0.0, inplace=False)\n",
       "        )\n",
       "      )\n",
       "      (11): Block(\n",
       "        (norm1): LayerNorm((768,), eps=1e-06, elementwise_affine=True)\n",
       "        (attn): Attention(\n",
       "          (qkv): Linear(in_features=768, out_features=2304, bias=True)\n",
       "          (attn_drop): Dropout(p=0.0, inplace=False)\n",
       "          (proj): Linear(in_features=768, out_features=768, bias=True)\n",
       "          (proj_drop): Dropout(p=0.0, inplace=False)\n",
       "        )\n",
       "        (drop_path): Identity()\n",
       "        (norm2): LayerNorm((768,), eps=1e-06, elementwise_affine=True)\n",
       "        (mlp): Mlp(\n",
       "          (fc1): Linear(in_features=768, out_features=3072, bias=True)\n",
       "          (act): GELU(approximate='none')\n",
       "          (drop1): Dropout(p=0.0, inplace=False)\n",
       "          (fc2): Linear(in_features=3072, out_features=768, bias=True)\n",
       "          (drop2): Dropout(p=0.0, inplace=False)\n",
       "        )\n",
       "      )\n",
       "    )\n",
       "    (norm): LayerNorm((768,), eps=1e-06, elementwise_affine=True)\n",
       "    (pre_logits): Identity()\n",
       "    (head): Identity()\n",
       "  )\n",
       "  (transformer): Transformer(\n",
       "    (resblocks): Sequential(\n",
       "      (0): ResidualAttentionBlock(\n",
       "        (attn): MultiheadAttention(\n",
       "          (out_proj): NonDynamicallyQuantizableLinear(in_features=512, out_features=512, bias=True)\n",
       "        )\n",
       "        (ln_1): LayerNorm((512,), eps=1e-05, elementwise_affine=True)\n",
       "        (mlp): Sequential(\n",
       "          (c_fc): Linear(in_features=512, out_features=2048, bias=True)\n",
       "          (gelu): QuickGELU()\n",
       "          (c_proj): Linear(in_features=2048, out_features=512, bias=True)\n",
       "        )\n",
       "        (ln_2): LayerNorm((512,), eps=1e-05, elementwise_affine=True)\n",
       "      )\n",
       "      (1): ResidualAttentionBlock(\n",
       "        (attn): MultiheadAttention(\n",
       "          (out_proj): NonDynamicallyQuantizableLinear(in_features=512, out_features=512, bias=True)\n",
       "        )\n",
       "        (ln_1): LayerNorm((512,), eps=1e-05, elementwise_affine=True)\n",
       "        (mlp): Sequential(\n",
       "          (c_fc): Linear(in_features=512, out_features=2048, bias=True)\n",
       "          (gelu): QuickGELU()\n",
       "          (c_proj): Linear(in_features=2048, out_features=512, bias=True)\n",
       "        )\n",
       "        (ln_2): LayerNorm((512,), eps=1e-05, elementwise_affine=True)\n",
       "      )\n",
       "      (2): ResidualAttentionBlock(\n",
       "        (attn): MultiheadAttention(\n",
       "          (out_proj): NonDynamicallyQuantizableLinear(in_features=512, out_features=512, bias=True)\n",
       "        )\n",
       "        (ln_1): LayerNorm((512,), eps=1e-05, elementwise_affine=True)\n",
       "        (mlp): Sequential(\n",
       "          (c_fc): Linear(in_features=512, out_features=2048, bias=True)\n",
       "          (gelu): QuickGELU()\n",
       "          (c_proj): Linear(in_features=2048, out_features=512, bias=True)\n",
       "        )\n",
       "        (ln_2): LayerNorm((512,), eps=1e-05, elementwise_affine=True)\n",
       "      )\n",
       "      (3): ResidualAttentionBlock(\n",
       "        (attn): MultiheadAttention(\n",
       "          (out_proj): NonDynamicallyQuantizableLinear(in_features=512, out_features=512, bias=True)\n",
       "        )\n",
       "        (ln_1): LayerNorm((512,), eps=1e-05, elementwise_affine=True)\n",
       "        (mlp): Sequential(\n",
       "          (c_fc): Linear(in_features=512, out_features=2048, bias=True)\n",
       "          (gelu): QuickGELU()\n",
       "          (c_proj): Linear(in_features=2048, out_features=512, bias=True)\n",
       "        )\n",
       "        (ln_2): LayerNorm((512,), eps=1e-05, elementwise_affine=True)\n",
       "      )\n",
       "      (4): ResidualAttentionBlock(\n",
       "        (attn): MultiheadAttention(\n",
       "          (out_proj): NonDynamicallyQuantizableLinear(in_features=512, out_features=512, bias=True)\n",
       "        )\n",
       "        (ln_1): LayerNorm((512,), eps=1e-05, elementwise_affine=True)\n",
       "        (mlp): Sequential(\n",
       "          (c_fc): Linear(in_features=512, out_features=2048, bias=True)\n",
       "          (gelu): QuickGELU()\n",
       "          (c_proj): Linear(in_features=2048, out_features=512, bias=True)\n",
       "        )\n",
       "        (ln_2): LayerNorm((512,), eps=1e-05, elementwise_affine=True)\n",
       "      )\n",
       "      (5): ResidualAttentionBlock(\n",
       "        (attn): MultiheadAttention(\n",
       "          (out_proj): NonDynamicallyQuantizableLinear(in_features=512, out_features=512, bias=True)\n",
       "        )\n",
       "        (ln_1): LayerNorm((512,), eps=1e-05, elementwise_affine=True)\n",
       "        (mlp): Sequential(\n",
       "          (c_fc): Linear(in_features=512, out_features=2048, bias=True)\n",
       "          (gelu): QuickGELU()\n",
       "          (c_proj): Linear(in_features=2048, out_features=512, bias=True)\n",
       "        )\n",
       "        (ln_2): LayerNorm((512,), eps=1e-05, elementwise_affine=True)\n",
       "      )\n",
       "      (6): ResidualAttentionBlock(\n",
       "        (attn): MultiheadAttention(\n",
       "          (out_proj): NonDynamicallyQuantizableLinear(in_features=512, out_features=512, bias=True)\n",
       "        )\n",
       "        (ln_1): LayerNorm((512,), eps=1e-05, elementwise_affine=True)\n",
       "        (mlp): Sequential(\n",
       "          (c_fc): Linear(in_features=512, out_features=2048, bias=True)\n",
       "          (gelu): QuickGELU()\n",
       "          (c_proj): Linear(in_features=2048, out_features=512, bias=True)\n",
       "        )\n",
       "        (ln_2): LayerNorm((512,), eps=1e-05, elementwise_affine=True)\n",
       "      )\n",
       "      (7): ResidualAttentionBlock(\n",
       "        (attn): MultiheadAttention(\n",
       "          (out_proj): NonDynamicallyQuantizableLinear(in_features=512, out_features=512, bias=True)\n",
       "        )\n",
       "        (ln_1): LayerNorm((512,), eps=1e-05, elementwise_affine=True)\n",
       "        (mlp): Sequential(\n",
       "          (c_fc): Linear(in_features=512, out_features=2048, bias=True)\n",
       "          (gelu): QuickGELU()\n",
       "          (c_proj): Linear(in_features=2048, out_features=512, bias=True)\n",
       "        )\n",
       "        (ln_2): LayerNorm((512,), eps=1e-05, elementwise_affine=True)\n",
       "      )\n",
       "      (8): ResidualAttentionBlock(\n",
       "        (attn): MultiheadAttention(\n",
       "          (out_proj): NonDynamicallyQuantizableLinear(in_features=512, out_features=512, bias=True)\n",
       "        )\n",
       "        (ln_1): LayerNorm((512,), eps=1e-05, elementwise_affine=True)\n",
       "        (mlp): Sequential(\n",
       "          (c_fc): Linear(in_features=512, out_features=2048, bias=True)\n",
       "          (gelu): QuickGELU()\n",
       "          (c_proj): Linear(in_features=2048, out_features=512, bias=True)\n",
       "        )\n",
       "        (ln_2): LayerNorm((512,), eps=1e-05, elementwise_affine=True)\n",
       "      )\n",
       "      (9): ResidualAttentionBlock(\n",
       "        (attn): MultiheadAttention(\n",
       "          (out_proj): NonDynamicallyQuantizableLinear(in_features=512, out_features=512, bias=True)\n",
       "        )\n",
       "        (ln_1): LayerNorm((512,), eps=1e-05, elementwise_affine=True)\n",
       "        (mlp): Sequential(\n",
       "          (c_fc): Linear(in_features=512, out_features=2048, bias=True)\n",
       "          (gelu): QuickGELU()\n",
       "          (c_proj): Linear(in_features=2048, out_features=512, bias=True)\n",
       "        )\n",
       "        (ln_2): LayerNorm((512,), eps=1e-05, elementwise_affine=True)\n",
       "      )\n",
       "      (10): ResidualAttentionBlock(\n",
       "        (attn): MultiheadAttention(\n",
       "          (out_proj): NonDynamicallyQuantizableLinear(in_features=512, out_features=512, bias=True)\n",
       "        )\n",
       "        (ln_1): LayerNorm((512,), eps=1e-05, elementwise_affine=True)\n",
       "        (mlp): Sequential(\n",
       "          (c_fc): Linear(in_features=512, out_features=2048, bias=True)\n",
       "          (gelu): QuickGELU()\n",
       "          (c_proj): Linear(in_features=2048, out_features=512, bias=True)\n",
       "        )\n",
       "        (ln_2): LayerNorm((512,), eps=1e-05, elementwise_affine=True)\n",
       "      )\n",
       "      (11): ResidualAttentionBlock(\n",
       "        (attn): MultiheadAttention(\n",
       "          (out_proj): NonDynamicallyQuantizableLinear(in_features=512, out_features=512, bias=True)\n",
       "        )\n",
       "        (ln_1): LayerNorm((512,), eps=1e-05, elementwise_affine=True)\n",
       "        (mlp): Sequential(\n",
       "          (c_fc): Linear(in_features=512, out_features=2048, bias=True)\n",
       "          (gelu): QuickGELU()\n",
       "          (c_proj): Linear(in_features=2048, out_features=512, bias=True)\n",
       "        )\n",
       "        (ln_2): LayerNorm((512,), eps=1e-05, elementwise_affine=True)\n",
       "      )\n",
       "    )\n",
       "  )\n",
       "  (token_embedding): Embedding(49408, 512)\n",
       "  (ln_final): LayerNorm((512,), eps=1e-05, elementwise_affine=True)\n",
       "  (visual_ema): MaskVisionTransformer(\n",
       "    (patch_embed): PatchEmbed(\n",
       "      (proj): Conv2d(3, 768, kernel_size=(16, 16), stride=(16, 16))\n",
       "      (norm): Identity()\n",
       "    )\n",
       "    (pos_drop): Dropout(p=0.0, inplace=False)\n",
       "    (blocks): Sequential(\n",
       "      (0): Block(\n",
       "        (norm1): LayerNorm((768,), eps=1e-06, elementwise_affine=True)\n",
       "        (attn): Attention(\n",
       "          (qkv): Linear(in_features=768, out_features=2304, bias=True)\n",
       "          (attn_drop): Dropout(p=0.0, inplace=False)\n",
       "          (proj): Linear(in_features=768, out_features=768, bias=True)\n",
       "          (proj_drop): Dropout(p=0.0, inplace=False)\n",
       "        )\n",
       "        (drop_path): Identity()\n",
       "        (norm2): LayerNorm((768,), eps=1e-06, elementwise_affine=True)\n",
       "        (mlp): Mlp(\n",
       "          (fc1): Linear(in_features=768, out_features=3072, bias=True)\n",
       "          (act): GELU(approximate='none')\n",
       "          (drop1): Dropout(p=0.0, inplace=False)\n",
       "          (fc2): Linear(in_features=3072, out_features=768, bias=True)\n",
       "          (drop2): Dropout(p=0.0, inplace=False)\n",
       "        )\n",
       "      )\n",
       "      (1): Block(\n",
       "        (norm1): LayerNorm((768,), eps=1e-06, elementwise_affine=True)\n",
       "        (attn): Attention(\n",
       "          (qkv): Linear(in_features=768, out_features=2304, bias=True)\n",
       "          (attn_drop): Dropout(p=0.0, inplace=False)\n",
       "          (proj): Linear(in_features=768, out_features=768, bias=True)\n",
       "          (proj_drop): Dropout(p=0.0, inplace=False)\n",
       "        )\n",
       "        (drop_path): Identity()\n",
       "        (norm2): LayerNorm((768,), eps=1e-06, elementwise_affine=True)\n",
       "        (mlp): Mlp(\n",
       "          (fc1): Linear(in_features=768, out_features=3072, bias=True)\n",
       "          (act): GELU(approximate='none')\n",
       "          (drop1): Dropout(p=0.0, inplace=False)\n",
       "          (fc2): Linear(in_features=3072, out_features=768, bias=True)\n",
       "          (drop2): Dropout(p=0.0, inplace=False)\n",
       "        )\n",
       "      )\n",
       "      (2): Block(\n",
       "        (norm1): LayerNorm((768,), eps=1e-06, elementwise_affine=True)\n",
       "        (attn): Attention(\n",
       "          (qkv): Linear(in_features=768, out_features=2304, bias=True)\n",
       "          (attn_drop): Dropout(p=0.0, inplace=False)\n",
       "          (proj): Linear(in_features=768, out_features=768, bias=True)\n",
       "          (proj_drop): Dropout(p=0.0, inplace=False)\n",
       "        )\n",
       "        (drop_path): Identity()\n",
       "        (norm2): LayerNorm((768,), eps=1e-06, elementwise_affine=True)\n",
       "        (mlp): Mlp(\n",
       "          (fc1): Linear(in_features=768, out_features=3072, bias=True)\n",
       "          (act): GELU(approximate='none')\n",
       "          (drop1): Dropout(p=0.0, inplace=False)\n",
       "          (fc2): Linear(in_features=3072, out_features=768, bias=True)\n",
       "          (drop2): Dropout(p=0.0, inplace=False)\n",
       "        )\n",
       "      )\n",
       "      (3): Block(\n",
       "        (norm1): LayerNorm((768,), eps=1e-06, elementwise_affine=True)\n",
       "        (attn): Attention(\n",
       "          (qkv): Linear(in_features=768, out_features=2304, bias=True)\n",
       "          (attn_drop): Dropout(p=0.0, inplace=False)\n",
       "          (proj): Linear(in_features=768, out_features=768, bias=True)\n",
       "          (proj_drop): Dropout(p=0.0, inplace=False)\n",
       "        )\n",
       "        (drop_path): Identity()\n",
       "        (norm2): LayerNorm((768,), eps=1e-06, elementwise_affine=True)\n",
       "        (mlp): Mlp(\n",
       "          (fc1): Linear(in_features=768, out_features=3072, bias=True)\n",
       "          (act): GELU(approximate='none')\n",
       "          (drop1): Dropout(p=0.0, inplace=False)\n",
       "          (fc2): Linear(in_features=3072, out_features=768, bias=True)\n",
       "          (drop2): Dropout(p=0.0, inplace=False)\n",
       "        )\n",
       "      )\n",
       "      (4): Block(\n",
       "        (norm1): LayerNorm((768,), eps=1e-06, elementwise_affine=True)\n",
       "        (attn): Attention(\n",
       "          (qkv): Linear(in_features=768, out_features=2304, bias=True)\n",
       "          (attn_drop): Dropout(p=0.0, inplace=False)\n",
       "          (proj): Linear(in_features=768, out_features=768, bias=True)\n",
       "          (proj_drop): Dropout(p=0.0, inplace=False)\n",
       "        )\n",
       "        (drop_path): Identity()\n",
       "        (norm2): LayerNorm((768,), eps=1e-06, elementwise_affine=True)\n",
       "        (mlp): Mlp(\n",
       "          (fc1): Linear(in_features=768, out_features=3072, bias=True)\n",
       "          (act): GELU(approximate='none')\n",
       "          (drop1): Dropout(p=0.0, inplace=False)\n",
       "          (fc2): Linear(in_features=3072, out_features=768, bias=True)\n",
       "          (drop2): Dropout(p=0.0, inplace=False)\n",
       "        )\n",
       "      )\n",
       "      (5): Block(\n",
       "        (norm1): LayerNorm((768,), eps=1e-06, elementwise_affine=True)\n",
       "        (attn): Attention(\n",
       "          (qkv): Linear(in_features=768, out_features=2304, bias=True)\n",
       "          (attn_drop): Dropout(p=0.0, inplace=False)\n",
       "          (proj): Linear(in_features=768, out_features=768, bias=True)\n",
       "          (proj_drop): Dropout(p=0.0, inplace=False)\n",
       "        )\n",
       "        (drop_path): Identity()\n",
       "        (norm2): LayerNorm((768,), eps=1e-06, elementwise_affine=True)\n",
       "        (mlp): Mlp(\n",
       "          (fc1): Linear(in_features=768, out_features=3072, bias=True)\n",
       "          (act): GELU(approximate='none')\n",
       "          (drop1): Dropout(p=0.0, inplace=False)\n",
       "          (fc2): Linear(in_features=3072, out_features=768, bias=True)\n",
       "          (drop2): Dropout(p=0.0, inplace=False)\n",
       "        )\n",
       "      )\n",
       "      (6): Block(\n",
       "        (norm1): LayerNorm((768,), eps=1e-06, elementwise_affine=True)\n",
       "        (attn): Attention(\n",
       "          (qkv): Linear(in_features=768, out_features=2304, bias=True)\n",
       "          (attn_drop): Dropout(p=0.0, inplace=False)\n",
       "          (proj): Linear(in_features=768, out_features=768, bias=True)\n",
       "          (proj_drop): Dropout(p=0.0, inplace=False)\n",
       "        )\n",
       "        (drop_path): Identity()\n",
       "        (norm2): LayerNorm((768,), eps=1e-06, elementwise_affine=True)\n",
       "        (mlp): Mlp(\n",
       "          (fc1): Linear(in_features=768, out_features=3072, bias=True)\n",
       "          (act): GELU(approximate='none')\n",
       "          (drop1): Dropout(p=0.0, inplace=False)\n",
       "          (fc2): Linear(in_features=3072, out_features=768, bias=True)\n",
       "          (drop2): Dropout(p=0.0, inplace=False)\n",
       "        )\n",
       "      )\n",
       "      (7): Block(\n",
       "        (norm1): LayerNorm((768,), eps=1e-06, elementwise_affine=True)\n",
       "        (attn): Attention(\n",
       "          (qkv): Linear(in_features=768, out_features=2304, bias=True)\n",
       "          (attn_drop): Dropout(p=0.0, inplace=False)\n",
       "          (proj): Linear(in_features=768, out_features=768, bias=True)\n",
       "          (proj_drop): Dropout(p=0.0, inplace=False)\n",
       "        )\n",
       "        (drop_path): Identity()\n",
       "        (norm2): LayerNorm((768,), eps=1e-06, elementwise_affine=True)\n",
       "        (mlp): Mlp(\n",
       "          (fc1): Linear(in_features=768, out_features=3072, bias=True)\n",
       "          (act): GELU(approximate='none')\n",
       "          (drop1): Dropout(p=0.0, inplace=False)\n",
       "          (fc2): Linear(in_features=3072, out_features=768, bias=True)\n",
       "          (drop2): Dropout(p=0.0, inplace=False)\n",
       "        )\n",
       "      )\n",
       "      (8): Block(\n",
       "        (norm1): LayerNorm((768,), eps=1e-06, elementwise_affine=True)\n",
       "        (attn): Attention(\n",
       "          (qkv): Linear(in_features=768, out_features=2304, bias=True)\n",
       "          (attn_drop): Dropout(p=0.0, inplace=False)\n",
       "          (proj): Linear(in_features=768, out_features=768, bias=True)\n",
       "          (proj_drop): Dropout(p=0.0, inplace=False)\n",
       "        )\n",
       "        (drop_path): Identity()\n",
       "        (norm2): LayerNorm((768,), eps=1e-06, elementwise_affine=True)\n",
       "        (mlp): Mlp(\n",
       "          (fc1): Linear(in_features=768, out_features=3072, bias=True)\n",
       "          (act): GELU(approximate='none')\n",
       "          (drop1): Dropout(p=0.0, inplace=False)\n",
       "          (fc2): Linear(in_features=3072, out_features=768, bias=True)\n",
       "          (drop2): Dropout(p=0.0, inplace=False)\n",
       "        )\n",
       "      )\n",
       "      (9): Block(\n",
       "        (norm1): LayerNorm((768,), eps=1e-06, elementwise_affine=True)\n",
       "        (attn): Attention(\n",
       "          (qkv): Linear(in_features=768, out_features=2304, bias=True)\n",
       "          (attn_drop): Dropout(p=0.0, inplace=False)\n",
       "          (proj): Linear(in_features=768, out_features=768, bias=True)\n",
       "          (proj_drop): Dropout(p=0.0, inplace=False)\n",
       "        )\n",
       "        (drop_path): Identity()\n",
       "        (norm2): LayerNorm((768,), eps=1e-06, elementwise_affine=True)\n",
       "        (mlp): Mlp(\n",
       "          (fc1): Linear(in_features=768, out_features=3072, bias=True)\n",
       "          (act): GELU(approximate='none')\n",
       "          (drop1): Dropout(p=0.0, inplace=False)\n",
       "          (fc2): Linear(in_features=3072, out_features=768, bias=True)\n",
       "          (drop2): Dropout(p=0.0, inplace=False)\n",
       "        )\n",
       "      )\n",
       "      (10): Block(\n",
       "        (norm1): LayerNorm((768,), eps=1e-06, elementwise_affine=True)\n",
       "        (attn): Attention(\n",
       "          (qkv): Linear(in_features=768, out_features=2304, bias=True)\n",
       "          (attn_drop): Dropout(p=0.0, inplace=False)\n",
       "          (proj): Linear(in_features=768, out_features=768, bias=True)\n",
       "          (proj_drop): Dropout(p=0.0, inplace=False)\n",
       "        )\n",
       "        (drop_path): Identity()\n",
       "        (norm2): LayerNorm((768,), eps=1e-06, elementwise_affine=True)\n",
       "        (mlp): Mlp(\n",
       "          (fc1): Linear(in_features=768, out_features=3072, bias=True)\n",
       "          (act): GELU(approximate='none')\n",
       "          (drop1): Dropout(p=0.0, inplace=False)\n",
       "          (fc2): Linear(in_features=3072, out_features=768, bias=True)\n",
       "          (drop2): Dropout(p=0.0, inplace=False)\n",
       "        )\n",
       "      )\n",
       "      (11): Block(\n",
       "        (norm1): LayerNorm((768,), eps=1e-06, elementwise_affine=True)\n",
       "        (attn): Attention(\n",
       "          (qkv): Linear(in_features=768, out_features=2304, bias=True)\n",
       "          (attn_drop): Dropout(p=0.0, inplace=False)\n",
       "          (proj): Linear(in_features=768, out_features=768, bias=True)\n",
       "          (proj_drop): Dropout(p=0.0, inplace=False)\n",
       "        )\n",
       "        (drop_path): Identity()\n",
       "        (norm2): LayerNorm((768,), eps=1e-06, elementwise_affine=True)\n",
       "        (mlp): Mlp(\n",
       "          (fc1): Linear(in_features=768, out_features=3072, bias=True)\n",
       "          (act): GELU(approximate='none')\n",
       "          (drop1): Dropout(p=0.0, inplace=False)\n",
       "          (fc2): Linear(in_features=3072, out_features=768, bias=True)\n",
       "          (drop2): Dropout(p=0.0, inplace=False)\n",
       "        )\n",
       "      )\n",
       "    )\n",
       "    (norm): LayerNorm((768,), eps=1e-06, elementwise_affine=True)\n",
       "    (pre_logits): Identity()\n",
       "    (head): Identity()\n",
       "  )\n",
       "  (transformer_e): Transformer(\n",
       "    (resblocks): Sequential(\n",
       "      (0): ResidualAttentionBlock(\n",
       "        (attn): MultiheadAttention(\n",
       "          (out_proj): NonDynamicallyQuantizableLinear(in_features=512, out_features=512, bias=True)\n",
       "        )\n",
       "        (ln_1): LayerNorm((512,), eps=1e-05, elementwise_affine=True)\n",
       "        (mlp): Sequential(\n",
       "          (c_fc): Linear(in_features=512, out_features=2048, bias=True)\n",
       "          (gelu): QuickGELU()\n",
       "          (c_proj): Linear(in_features=2048, out_features=512, bias=True)\n",
       "        )\n",
       "        (ln_2): LayerNorm((512,), eps=1e-05, elementwise_affine=True)\n",
       "      )\n",
       "      (1): ResidualAttentionBlock(\n",
       "        (attn): MultiheadAttention(\n",
       "          (out_proj): NonDynamicallyQuantizableLinear(in_features=512, out_features=512, bias=True)\n",
       "        )\n",
       "        (ln_1): LayerNorm((512,), eps=1e-05, elementwise_affine=True)\n",
       "        (mlp): Sequential(\n",
       "          (c_fc): Linear(in_features=512, out_features=2048, bias=True)\n",
       "          (gelu): QuickGELU()\n",
       "          (c_proj): Linear(in_features=2048, out_features=512, bias=True)\n",
       "        )\n",
       "        (ln_2): LayerNorm((512,), eps=1e-05, elementwise_affine=True)\n",
       "      )\n",
       "      (2): ResidualAttentionBlock(\n",
       "        (attn): MultiheadAttention(\n",
       "          (out_proj): NonDynamicallyQuantizableLinear(in_features=512, out_features=512, bias=True)\n",
       "        )\n",
       "        (ln_1): LayerNorm((512,), eps=1e-05, elementwise_affine=True)\n",
       "        (mlp): Sequential(\n",
       "          (c_fc): Linear(in_features=512, out_features=2048, bias=True)\n",
       "          (gelu): QuickGELU()\n",
       "          (c_proj): Linear(in_features=2048, out_features=512, bias=True)\n",
       "        )\n",
       "        (ln_2): LayerNorm((512,), eps=1e-05, elementwise_affine=True)\n",
       "      )\n",
       "      (3): ResidualAttentionBlock(\n",
       "        (attn): MultiheadAttention(\n",
       "          (out_proj): NonDynamicallyQuantizableLinear(in_features=512, out_features=512, bias=True)\n",
       "        )\n",
       "        (ln_1): LayerNorm((512,), eps=1e-05, elementwise_affine=True)\n",
       "        (mlp): Sequential(\n",
       "          (c_fc): Linear(in_features=512, out_features=2048, bias=True)\n",
       "          (gelu): QuickGELU()\n",
       "          (c_proj): Linear(in_features=2048, out_features=512, bias=True)\n",
       "        )\n",
       "        (ln_2): LayerNorm((512,), eps=1e-05, elementwise_affine=True)\n",
       "      )\n",
       "      (4): ResidualAttentionBlock(\n",
       "        (attn): MultiheadAttention(\n",
       "          (out_proj): NonDynamicallyQuantizableLinear(in_features=512, out_features=512, bias=True)\n",
       "        )\n",
       "        (ln_1): LayerNorm((512,), eps=1e-05, elementwise_affine=True)\n",
       "        (mlp): Sequential(\n",
       "          (c_fc): Linear(in_features=512, out_features=2048, bias=True)\n",
       "          (gelu): QuickGELU()\n",
       "          (c_proj): Linear(in_features=2048, out_features=512, bias=True)\n",
       "        )\n",
       "        (ln_2): LayerNorm((512,), eps=1e-05, elementwise_affine=True)\n",
       "      )\n",
       "      (5): ResidualAttentionBlock(\n",
       "        (attn): MultiheadAttention(\n",
       "          (out_proj): NonDynamicallyQuantizableLinear(in_features=512, out_features=512, bias=True)\n",
       "        )\n",
       "        (ln_1): LayerNorm((512,), eps=1e-05, elementwise_affine=True)\n",
       "        (mlp): Sequential(\n",
       "          (c_fc): Linear(in_features=512, out_features=2048, bias=True)\n",
       "          (gelu): QuickGELU()\n",
       "          (c_proj): Linear(in_features=2048, out_features=512, bias=True)\n",
       "        )\n",
       "        (ln_2): LayerNorm((512,), eps=1e-05, elementwise_affine=True)\n",
       "      )\n",
       "      (6): ResidualAttentionBlock(\n",
       "        (attn): MultiheadAttention(\n",
       "          (out_proj): NonDynamicallyQuantizableLinear(in_features=512, out_features=512, bias=True)\n",
       "        )\n",
       "        (ln_1): LayerNorm((512,), eps=1e-05, elementwise_affine=True)\n",
       "        (mlp): Sequential(\n",
       "          (c_fc): Linear(in_features=512, out_features=2048, bias=True)\n",
       "          (gelu): QuickGELU()\n",
       "          (c_proj): Linear(in_features=2048, out_features=512, bias=True)\n",
       "        )\n",
       "        (ln_2): LayerNorm((512,), eps=1e-05, elementwise_affine=True)\n",
       "      )\n",
       "      (7): ResidualAttentionBlock(\n",
       "        (attn): MultiheadAttention(\n",
       "          (out_proj): NonDynamicallyQuantizableLinear(in_features=512, out_features=512, bias=True)\n",
       "        )\n",
       "        (ln_1): LayerNorm((512,), eps=1e-05, elementwise_affine=True)\n",
       "        (mlp): Sequential(\n",
       "          (c_fc): Linear(in_features=512, out_features=2048, bias=True)\n",
       "          (gelu): QuickGELU()\n",
       "          (c_proj): Linear(in_features=2048, out_features=512, bias=True)\n",
       "        )\n",
       "        (ln_2): LayerNorm((512,), eps=1e-05, elementwise_affine=True)\n",
       "      )\n",
       "      (8): ResidualAttentionBlock(\n",
       "        (attn): MultiheadAttention(\n",
       "          (out_proj): NonDynamicallyQuantizableLinear(in_features=512, out_features=512, bias=True)\n",
       "        )\n",
       "        (ln_1): LayerNorm((512,), eps=1e-05, elementwise_affine=True)\n",
       "        (mlp): Sequential(\n",
       "          (c_fc): Linear(in_features=512, out_features=2048, bias=True)\n",
       "          (gelu): QuickGELU()\n",
       "          (c_proj): Linear(in_features=2048, out_features=512, bias=True)\n",
       "        )\n",
       "        (ln_2): LayerNorm((512,), eps=1e-05, elementwise_affine=True)\n",
       "      )\n",
       "      (9): ResidualAttentionBlock(\n",
       "        (attn): MultiheadAttention(\n",
       "          (out_proj): NonDynamicallyQuantizableLinear(in_features=512, out_features=512, bias=True)\n",
       "        )\n",
       "        (ln_1): LayerNorm((512,), eps=1e-05, elementwise_affine=True)\n",
       "        (mlp): Sequential(\n",
       "          (c_fc): Linear(in_features=512, out_features=2048, bias=True)\n",
       "          (gelu): QuickGELU()\n",
       "          (c_proj): Linear(in_features=2048, out_features=512, bias=True)\n",
       "        )\n",
       "        (ln_2): LayerNorm((512,), eps=1e-05, elementwise_affine=True)\n",
       "      )\n",
       "      (10): ResidualAttentionBlock(\n",
       "        (attn): MultiheadAttention(\n",
       "          (out_proj): NonDynamicallyQuantizableLinear(in_features=512, out_features=512, bias=True)\n",
       "        )\n",
       "        (ln_1): LayerNorm((512,), eps=1e-05, elementwise_affine=True)\n",
       "        (mlp): Sequential(\n",
       "          (c_fc): Linear(in_features=512, out_features=2048, bias=True)\n",
       "          (gelu): QuickGELU()\n",
       "          (c_proj): Linear(in_features=2048, out_features=512, bias=True)\n",
       "        )\n",
       "        (ln_2): LayerNorm((512,), eps=1e-05, elementwise_affine=True)\n",
       "      )\n",
       "      (11): ResidualAttentionBlock(\n",
       "        (attn): MultiheadAttention(\n",
       "          (out_proj): NonDynamicallyQuantizableLinear(in_features=512, out_features=512, bias=True)\n",
       "        )\n",
       "        (ln_1): LayerNorm((512,), eps=1e-05, elementwise_affine=True)\n",
       "        (mlp): Sequential(\n",
       "          (c_fc): Linear(in_features=512, out_features=2048, bias=True)\n",
       "          (gelu): QuickGELU()\n",
       "          (c_proj): Linear(in_features=2048, out_features=512, bias=True)\n",
       "        )\n",
       "        (ln_2): LayerNorm((512,), eps=1e-05, elementwise_affine=True)\n",
       "      )\n",
       "    )\n",
       "  )\n",
       "  (decoder_embed): Linear(in_features=768, out_features=768, bias=True)\n",
       "  (decoder_blocks): ModuleList(\n",
       "    (0): Block(\n",
       "      (norm1): LayerNorm((768,), eps=1e-06, elementwise_affine=True)\n",
       "      (attn): Attention(\n",
       "        (qkv): Linear(in_features=768, out_features=2304, bias=True)\n",
       "        (attn_drop): Dropout(p=0.0, inplace=False)\n",
       "        (proj): Linear(in_features=768, out_features=768, bias=True)\n",
       "        (proj_drop): Dropout(p=0.0, inplace=False)\n",
       "      )\n",
       "      (drop_path): Identity()\n",
       "      (norm2): LayerNorm((768,), eps=1e-06, elementwise_affine=True)\n",
       "      (mlp): Mlp(\n",
       "        (fc1): Linear(in_features=768, out_features=3072, bias=True)\n",
       "        (act): GELU(approximate='none')\n",
       "        (drop1): Dropout(p=0.0, inplace=False)\n",
       "        (fc2): Linear(in_features=3072, out_features=768, bias=True)\n",
       "        (drop2): Dropout(p=0.0, inplace=False)\n",
       "      )\n",
       "    )\n",
       "  )\n",
       "  (decoder_norm): LayerNorm((768,), eps=1e-06, elementwise_affine=True)\n",
       "  (reconstruction_pred): Linear(in_features=768, out_features=768, bias=True)\n",
       "  (ibot_head): iBOTHead(\n",
       "    (mlp): CustomSequential(\n",
       "      (0): Linear(in_features=768, out_features=2048, bias=True)\n",
       "      (1): GELU(approximate='none')\n",
       "      (2): Linear(in_features=2048, out_features=2048, bias=True)\n",
       "      (3): GELU(approximate='none')\n",
       "      (4): Linear(in_features=2048, out_features=256, bias=True)\n",
       "    )\n",
       "    (last_layer): Linear(in_features=256, out_features=8192, bias=False)\n",
       "    (last_layer2): Linear(in_features=256, out_features=8192, bias=False)\n",
       "  )\n",
       "  (ibot_head_e): iBOTHead(\n",
       "    (mlp): CustomSequential(\n",
       "      (0): Linear(in_features=768, out_features=2048, bias=True)\n",
       "      (1): GELU(approximate='none')\n",
       "      (2): Linear(in_features=2048, out_features=2048, bias=True)\n",
       "      (3): GELU(approximate='none')\n",
       "      (4): Linear(in_features=2048, out_features=256, bias=True)\n",
       "    )\n",
       "    (last_layer): Linear(in_features=256, out_features=8192, bias=False)\n",
       "    (last_layer2): Linear(in_features=256, out_features=8192, bias=False)\n",
       "  )\n",
       ")"
      ]
     },
     "execution_count": 8,
     "metadata": {},
     "output_type": "execute_result"
    }
   ],
   "source": [
    "d='git'\n",
    "print('Evaluating {}'.format(d))\n",
    "val_dataset = datasets.get_downstream_dataset(catalog, name=d, is_train=False, transform=val_transform)\n",
    "\n",
    "val_loader = torch.utils.data.DataLoader(\n",
    "    val_dataset, batch_size=256, shuffle=False,\n",
    "    num_workers=10, pin_memory=True, drop_last=False)\n",
    "\n",
    "labels = all_labels[d]\n",
    "true_labels = all_labels['cub200'][:9]\n",
    "\n",
    "model.eval()"
   ]
  },
  {
   "cell_type": "code",
   "execution_count": 9,
   "id": "f92e4088",
   "metadata": {},
   "outputs": [
    {
     "name": "stdout",
     "output_type": "stream",
     "text": [
      "=> encoding captions\n",
      "270\n",
      "torch.Size([270, 512])\n"
     ]
    }
   ],
   "source": [
    "#Text embeddings\n",
    "\n",
    "results = []\n",
    "print('=> encoding captions')\n",
    "with torch.no_grad():\n",
    "    text_features = []\n",
    "    print(len(labels))\n",
    "    for label in labels:\n",
    "        texts = label\n",
    "        texts = tokenizer(texts).cuda(non_blocking=True)\n",
    "        texts = texts.view(-1, 77).contiguous()\n",
    "        class_embeddings = utils.get_model(model).encode_text(texts, ema=True)\n",
    "        class_embeddings = class_embeddings / class_embeddings.norm(dim=-1, keepdim=True)\n",
    "        class_embeddings = class_embeddings.mean(dim=0)\n",
    "        class_embeddings = class_embeddings / class_embeddings.norm(dim=-1, keepdim=True)\n",
    "        text_features.append(class_embeddings)\n",
    "\n",
    "    text_features = torch.stack(text_features, dim=0)\n",
    "\n",
    "print(text_features.size())"
   ]
  },
  {
   "cell_type": "code",
   "execution_count": 10,
   "id": "44f8c05c",
   "metadata": {},
   "outputs": [
    {
     "name": "stderr",
     "output_type": "stream",
     "text": [
      "/usr/local/lib/python3.12/site-packages/sklearn/manifold/_t_sne.py:1164: FutureWarning: 'n_iter' was renamed to 'max_iter' in version 1.5 and will be removed in 1.7.\n",
      "  warnings.warn(\n"
     ]
    },
    {
     "data": {
      "application/vnd.plotly.v1+json": {
       "config": {
        "plotlyServerURL": "https://plot.ly"
       },
       "data": [
        {
         "hovertemplate": "<b>%{hovertext}</b><br><br>x=%{x}<br>y=%{y}<br>color=%{marker.color}<extra></extra>",
         "hovertext": [
          "a bird standing on a log in the grass.",
          "a bird perched on a tree branch with a blue sky in the background.",
          "a bird standing in a puddle of water.",
          "a bird standing in the grass looking at the camera.",
          "a small bird standing on a rock in the grass.",
          "a small bird standing on a pile of sticks.",
          "a bird standing in the water looking for food.",
          "a bird with a worm in its mouth.",
          "a bird standing on top of dry grass.",
          "a bird standing on the ground next to a body of water.",
          "a small bird standing on the ground on a beach.",
          "a small bird standing in the grass.",
          "a bird sitting on a rock in the water.",
          "a small bird standing on the ground in the dirt.",
          "a bird standing on a log in the mud.",
          "a bird standing on a rock near the water.",
          "a bird standing in a puddle of water.",
          "a small bird standing on the ground in the grass.",
          "a bird standing on a rock in the middle of a field.",
          "a bird standing on a rock in the water.",
          "a bird in a tree.",
          "a small bird standing on top of a muddy ground.",
          "a small bird standing on the mud by the water.",
          "a small bird standing on the snow in the snow.",
          "a small bird standing on the ground near the water.",
          "a bird standing in the grass with a puddle of water.",
          "a small brown bird in the grass.",
          "a female house sparrow sitting on a tree branch in the early morning light.",
          "a small bird standing on a dirt patch.",
          "a bird sitting on a post in the middle of a field.",
          "a small bird on a rock.",
          "a bird is sitting on a rock with a picture of it.",
          "a bird sitting on a branch in a bush.",
          "a bird is standing on a branch in the sun.",
          "a bird perched on a branch.",
          "a small bird standing on a dirt field.",
          "a bird sitting on top of a barbed wire fence.",
          "a bird perched on a tree branch with a sky background.",
          "a bird perched on top of a tree branch.",
          "a small bird standing on the ground in the dirt.",
          "a bird sitting on the ground in the middle of the park.",
          "a bird perched on top of a dead tree.",
          "a small bird standing on the ground in the sand.",
          "a bird perched on a branch with a beak open.",
          "a bird perched on a branch with a beak open.",
          "a bird sitting on a branch of a tree.",
          "a bird is perched on a plant in a tree.",
          "a bird perched on a branch with a blurry background.",
          "a bird is sitting on a person ' s hand.",
          "a bird standing on the ground with rocks in the background.",
          "a bird standing on a rock in the dirt.",
          "a bird perched on a tree branch.",
          "a bird perched on a branch of a tree.",
          "a bird standing on the ground in the middle of a field.",
          "a bird perched on a branch in a tree.",
          "a bird perched on a branch.",
          "a bird standing on a rock in the dirt.",
          "a bird perched on a tree branch.",
          "a bird perched on a branch with a blurry background.",
          "a bird perched on a flower on a stem.",
          "a male woodpecker takes a break from eating a nest in a tree.",
          "a woodpecker is perched on a tree stump.",
          "a bird is sitting in a hole in a tree.",
          "a bird is perched on a tree trunk.",
          "a bird is perched on a tree branch.",
          "a woodpecker is perched on a tree.",
          "a woodpecker with a hole in its beak.",
          "a bird of prey in flight.",
          "a woodpecker on a tree trunk.",
          "a woodpecker building a nest in a tree.",
          "a bird perched on a tree branch.",
          "biological species feeding on a bird feeder.",
          "a woodpecker is perched on a tree.",
          "a bird perched on a tree branch.",
          "a woodpecker on a tree trunk.",
          "a woodpecker sitting on a tree in the middle of a pine forest.",
          "a male woodpecker on a tree branch.",
          "a woodpecker perched on a tree trunk.",
          "a woodpecker perched on a rock in the middle of the desert.",
          "a woodpecker on a tree stump.",
          "a woodpecker on a tree.",
          "a woodpecker perched on a tree trunk.",
          "a woodpecker on a tree trunk.",
          "a woodpecker checks out a hole in a tree.",
          "a bird on a tree branch.",
          "a woodpecker on a tree trunk.",
          "a woodpecker on a tree trunk.",
          "a woodpecker on a tree trunk.",
          "a woodpecker on a tree.",
          "a bird on a fence post in the middle of nowhere.",
          "a bird sitting on a barbed wire fence.",
          "a small brown bird sitting on top of a wire.",
          "a bird perched on a wire with yellow flowers in the background.",
          "a bird is standing in the grass and looking at the camera.",
          "a small brown and white bird standing on a piece of wood.",
          "a bird in the grass.",
          "a bird sitting on a barbed wire fence.",
          "a female house sparrow on a fence post in the middle of the desert.",
          "a small bird perched on a branch.",
          "a bird perched on a branch in a tree.",
          "a sparrow sitting on a barbed wire fence.",
          "a small bird standing on the ground near grass.",
          "a bird is standing on the ground near corn.",
          "a bird standing on the ground in the desert.",
          "a small bird sitting on a wire with a green background.",
          "a bird sitting on the ground in a field.",
          "a bird sitting on a fence post in a field.",
          "a bird standing on a pile of sticks in the grass.",
          "a bird is sitting on a bush in the desert.",
          "a bird is sitting on a hand.",
          "a small bird perched on top of a log.",
          "a bird perched on top of a pine tree branch.",
          "a bird is perched on a wire fence.",
          "a bird on a flower.",
          "a bird sitting in a pile of straw.",
          "a bird sitting on a barbed wire fence.",
          "a bird perched on a branch of a tree.",
          "a bird sitting on a barbed wire fence.",
          "a small bird sitting on a wooden bench.",
          "a small bird perched on a branch.",
          "a bird perched on a branch in a forest.",
          "a male house sparrow in the forest.",
          "a small bird perched on a branch in the woods.",
          "a small bird sitting on a person ' s hand.",
          "a bird sitting on a branch in a tree.",
          "a bird perched on a branch of a tree.",
          "a bird perched on a branch in a tree.",
          "a small bird standing on a branch in the forest.",
          "a bird perched on a branch of a tree.",
          "a small bird perched on a branch of a tree.",
          "a bird on a pine cone.",
          "a small bird perched on a branch.",
          "a small bird standing on the ground in the woods.",
          "a small bird standing on a rock near a tree.",
          "a bird in a tree.",
          "a female house sparrow feeding on a plant in the garden of the royal botanic gardens.",
          "a small bird standing in the grass looking around.",
          "a small bird in a tree.",
          "a bird sitting in a tree.",
          "a small bird perched on a branch.",
          "a small bird perched on a branch in a forest.",
          "a bird sitting on a tree branch in a tree.",
          "a small bird perched on a branch with a beak.",
          "a small bird perched on a branch of a tree.",
          "a small bird standing on a rock near a plant.",
          "a small bird perched on a branch in the forest.",
          "a bird perched on a branch with a leaf in its beak.",
          "a bird is standing on a branch in the leaves.",
          "a bird sitting on a tree branch with a bunch of bananas.",
          "a bird sitting on a branch in a tree.",
          "a bird perched on a telephone pole in the garden of a house in the village of la crosse, in the south of france.",
          "a bird perched on a branch in a tree.",
          "a bird is sitting on a bird feeder.",
          "a bird perched on a branch with a blurry background.",
          "a bird standing on a wooden ledge next to a cage.",
          "a bird sitting on a leaf of a plant.",
          "a bird is perched on a rusty metal fence.",
          "a bird on a tree branch.",
          "a bird sitting on a branch in a tree.",
          "a small brown bird sitting on a branch.",
          "a small bird perched on a branch.",
          "a bird perched on a branch.",
          "a small bird perched on a tree branch.",
          "a bird perched on a branch.",
          "a small bird perched on a branch of a tree.",
          "a small bird perched on a branch in a tree.",
          "a bird perched on top of a shoe on a wall.",
          "a small bird perched on a branch of a tree.",
          "a small bird perched on a stone on a sunny day.",
          "a small bird standing on a fence post.",
          "a bird perched on a white post.",
          "a bird with a long beak standing on a branch.",
          "a small bird sitting on a branch in the sun.",
          "a bird perched on a branch of a tree.",
          "a bird perched on a tree branch next to a tree.",
          "a bird perched on a branch.",
          "a small bird perched on a branch in the grass.",
          "a bird perched on a branch of a tree.",
          "a bird perched on a tree stump.",
          "biological species in the snow.",
          "biological species in the snow.",
          "a bird sits on a tree branch with berries.",
          "biological species in the snow.",
          "biological species is a native.",
          "a bird eating a berry in a tree.",
          "a bird sitting on a wooden fence.",
          "red - bellied woodpecker in water.",
          "a bird sits on a branch of a tree with red berries.",
          "a bird eating berries on a tree branch.",
          "a bird perched on a branch in a tree.",
          "a bird sitting on a branch with berries.",
          "biological species in the snow.",
          "a red bird perched on a pine tree branch.",
          "biological species on a branch.",
          "a red and black bird on a bird feeder.",
          "biological species on a pine tree.",
          "a male red - winged blackbird in a tree.",
          "a red bird perched on a post.",
          "a male house finch perches on a branch in a tree.",
          "a bird sitting on the ground in the snow.",
          "biological species in the snow.",
          "a bird sitting on a branch with berries.",
          "a red and black bird perched on a branch.",
          "a bird perched on a branch in a tree.",
          "a red and black bird sitting on a branch.",
          "a bird sitting on a branch with red berries.",
          "a bird sitting on a branch with berries.",
          "a bird perched on a branch with berries.",
          "a red bird perched on a branch.",
          "a small bird sitting on a branch in a tree.",
          "a small bird sitting on a branch in a tree.",
          "a small bird perched on a branch.",
          "a bird sitting on a person ' s hand.",
          "a yellow bird with a blue band around its neck.",
          "a bird sitting on a tree branch.",
          "a bird perched on a branch in a tree.",
          "a small bird perched on a branch in a tree.",
          "a small bird sitting on a branch in a tree.",
          "a bird perched on a branch in a tree.",
          "a small bird sitting on a branch.",
          "a bird sitting on a tree branch with leaves.",
          "a bird is sitting on a tree branch.",
          "a bird sitting on a nest in a bush.",
          "a bird sitting on a branch in a tree.",
          "a small bird sitting on a tree branch.",
          "a bird sitting on a branch in a tree.",
          "a bird perched on a branch of a tree.",
          "a bird sitting on a tree branch in a tree.",
          "a bird sitting on a branch in a tree.",
          "a bird perched on a branch of a tree.",
          "a bird sitting on a branch of a tree.",
          "a small bird perched on a branch.",
          "a bird sitting on a branch in a tree.",
          "a bird sitting on a branch in a tree.",
          "a bird sitting on a branch in a tree.",
          "a bird perched on a branch.",
          "a female bird in the palm of my hand.",
          "a bird perched on a branch in a tree.",
          "a yellow and gray bird perched on a branch.",
          "a bird standing on a wet ground next to a puddle.",
          "a bird perched on a twig with a blurry background.",
          "biological species is a bird of the species.",
          "a bird perched on a branch with leaves.",
          "a bird with a long beak standing on a tree branch.",
          "a bird with a red head and black head and yellow head.",
          "a male goldfinch eating a fish in the grass.",
          "a bird perched on a barbed wire fence.",
          "a bird in my hand. i think it ' s a bird of a bird that i have seen in my house.",
          "a bird on a branch with leaves.",
          "a bird with a yellow head and black head and black eyes.",
          "a bird perched on a branch in a tree.",
          "a bird with a yellow and red head and black feathers.",
          "a male house finch perches in a tree at the san diego zoo.",
          "biological species on a branch.",
          "a bird sitting on a branch with a bird perched on it.",
          "a bird perched on a branch in a tree.",
          "a male house finch perches on a branch in the middle of a field.",
          "a small bird perched on a branch.",
          "a small bird perched on a branch of a tree.",
          "a small bird perched on a bird feeder.",
          "a bird sitting on top of a plant.",
          "a yellow and black bird with a red head and black head and yellow breast.",
          "a bird flying in the air with a branch of flowers.",
          "a bird sitting on a branch in the water.",
          "a bird is sitting in a tree branch.",
          "a male house finch perches on a barbed wire fence in the garden.",
          "a bird perched on a flower.",
          "a male house finch sitting on a bird feeder.",
          "a small bird perched on a branch with a bird on it ' s beak.",
          "a small bird perched on a branch with a bird on it ' s beak."
         ],
         "legendgroup": "",
         "marker": {
          "color": {
           "bdata": "AAAAAAAAAAAAAQEBAQEBAQEBAgICAgICAgICAwMDAwMDAwMDBAQEBAQEBAQEBQUFBQUFBQUFBgYGBgYGBgYGBwcHBwcHBwcHCAgICAgICAgICQkJCQkJCQkJCgoKCgoKCgoKCwsLCwsLCwsLDAwMDAwMDAwMDQ0NDQ0NDQ0NDg4ODg4ODg4ODw8PDw8PDw8PEBAQEBAQEBAQEREREREREREREhISEhISEhISExMTExMTExMTFBQUFBQUFBQUFRUVFRUVFRUVFhYWFhYWFhYWFxcXFxcXFxcXGBgYGBgYGBgYGRkZGRkZGRkZGhoaGhoaGhoaGxsbGxsbGxsbHBwcHBwcHBwcHR0dHR0dHR0d",
           "dtype": "i1"
          },
          "coloraxis": "coloraxis",
          "symbol": "circle"
         },
         "mode": "markers",
         "name": "",
         "orientation": "v",
         "showlegend": false,
         "type": "scatter",
         "x": {
          "bdata": "MGVoQKRg/8CUJxdBAJudQLYs7UDKmZpAYc+kQN3h/z+E9adAY+evQD7T6UBC26VAGBMUQS3B6kAQd0lAMP0MQU0nF0EribNAtxz0QF0wE0HIL6lACnfoQABE10B8deNALXLOQOWyx0AxXJJAGzgRwXJ470AhL9g9TtoFQUJqC0Gd6oVAS9u+P72b3r4fQvFAcOgMwbpS/8Aw5pi/LcHqQCGYtUCWyBo/hOzuQNG9HcDgsh3AU6T0P53ZY0Dr5DrB6vSyPz+hAUF59wFBwHDevp5ADD9YLMFA1a6RP72b3r559wFB1/rdvlXjOsGBEYjATVh8v3ET0j/jTcFAJoDNP6wX8D8YRCk+hD2Hvoh9FUA94Tg/g743v7G83r61fFvAn+QEPrG83r494Tg/6yZJP+fBNb90lHo/Up7/P5Xp0T//odY9ecp4P3PgOD/9gKS+bkxkQD3hOD894Tg/PeE4P/+h1j13LeHAb8gKwTn5B8FVzPnAjZCYQCOThL4ZRZtAas4KwdlEJcGi5mLAGzmmP3YjHsFwhLtAz5mgQMUJAEH/vwXBf6++QJIy3sAbRZxAmjmKQHpysz9z+Iq+kbIbwGfMBcE0V4HA4linQGrOCsHwRB4/as4KwfNOyMDaIYDAirHDwLALCsGV+LbAq1KcP5ZSSECaGbQ937SVP1Hqs8DhIyk/mHJYwK+AF8CS73DAr3LQQGCxAkGUN6lAWfQNwcBFpEAk9qtAsmmgQEXab8CBgrrAS0tGQPn1mcDugVnA0ZcBQfGzuMCpUC/Aeprxv7xtk0AAxCxAFDbIwOb2Uj8K4XLADeY6waTR2sA11UvA9PcHwW5MZECzNihAf0pzwFuAcMDvJM6+uKNXwL2b3r5noVvA0lxBwOnZ5j5jv1vAHpUAQYE/4cByN9TAPRhYQFc2+r+aGbQ9jfK/Phf54r5hwDXAmhm0PSy8oz92ThJBdk4SQRP4FMF2ThJBDSwEQadeCMF6HN3A+4muvp81EcHo/Q3BDOJkP6teGMF2ThJBehZjwCeY2EBUtpbAkJzXQOcVvsDWRtHAF9I/wUbb4kB2ThJBoV4Ywf4juMDVrpE/+ee3wBQtE8GnXhjBnbUZwS5phsAL6Pm/mpL3v1uAcMDA/6Q/z07zP0GnNUDftJU/OjFBwIwR+b9TQxU/NIAqwPDFor+yJxRAJ3SXQEeDIkDPGvu/g58hQOEjKT/YBUVASjM9QJ5ADD9TpPQ/ouZiwIOfIUC3CStASjM9QL2b3r7B5ue9sLsVPyG8XsAK6hBBjZU4wUOiAUF1Ls+/6YVZQP5NyD9XMG5Ae8MKwaLJx7wqw8i/zCHTP+3ybz8YR7w/ygBEwSeY2EAmquY+T7ysP7rCPcHaIYDAb8hcwECSfMAKUU7AmB+hP/JPOsBHLNK/qjMmQFyeOMHp5ITAVYc5wdTWpsDU1qbA",
          "dtype": "f4"
         },
         "xaxis": "x",
         "y": {
          "bdata": "ngZ/QKwHgsBa2QNBh7zKQJwJpEBmFYVA/dQhQQXTEEEXB7hAuMYeQYrwHUF3G9ZAcQKCQNpnCEG25HBAdoOLQPnPA0GuWepATfysQIPYhkCfFq2/b6YPQbHMGkFXijlBWbIRQVAe00D50txAwi+GQMWnA0FSCDxAP6h4QNKFP0CQF6g+duUFQLydSj6HkgNBc2MXP2cZgsAhzjHA2mcIQa26CkFR6qHACCQdQQnAPL7ZnD2+h6BgwLDhB77dyZlAv4rRQDaX2UAv4cJAhUPfv1hRM8AmAAFBqG7Jv7ydSj4v4cJAzTvev+rKmUBn/RbAito7wQF/PME50IS/Fq6uwGJXFT//UyzBSJRIwVortUAHSD7BRBFBwQ8X37/uTgfB60kswQ8X378HSD7BzfdMwWVHNMELHzTBdqcqwaglQMEvnzXBNIY0wclHPsFN90TBBtt2wAdIPsEHSD7BB0g+wS+fNcF43qC/3NH4Phjf9T8Yvw1AznnKQL9Ao0DJ19JAglT7PiQX0D+YrXdAX5Zxv7M8nT/u9PBA5fADQcYeEkHf5wlAMgYCQUHDl7+Y1Y5AZAY4P3Ce0UB8QIRALAq4wM09nLxMSxfAan6LQIJU+z7Qv03AglT7Pp1yKj+pvmlAtAipQHATmEBI0blAJhvWQHDoBsBPTzzAucNwv4xIv0D6+T3AMS/kP7xMwcDP0mhAKyoQQZXWjkCTd62/Z/+SQBrL1UBV2sm/OV6ev8TVcECTPbNAMRxAwBF6SUCVl+U/T+iRQDiwtkBWuXS/8hJrwI41ZsCFt9m/Y4WTv53mWr9iGQPBrMqZQIzcpT4xgmPA9f4MvwbbdsA01+C/ov+jQEjQaUAhboM+y8cqQLydSj6T8+I/yf0lQM414sC3ReI/6ZVjQNiGpr/ceAnAMD+swKhOkEBPTzzApPZ0wNoxRz44rapAT088wOUQtcDPn9DAz5/QwMQg8cDPn9DAcbvMwHykAsE1D6k+kZlXwdhm28A8u/zALtTAv5tS8MDPn9DA8xitwF0s08C8Nf7AVBDawMWky8AVKRvApOh6vz/JN0HPn9DAlFLwwPKjwsCobsm/uFfCwCiM28CcUvDAt2nwwEAxocCCRSxA2HosQEjQaUAcbtRAbFscQdk8WsC5w3C/lEQlQGkSK0AYSJi/fY2BQFlKl8BEbl8/XHuyPqltDcAayk9Ak1UOwPr5PcAFbEDAkOjTv1hRM8CHoGDAmK13QJNVDsC1dtm/kOjTv7ydSj7jzOdAwheZv0JAiz0a+gVBZ9+SQHtKy8CetIrALqOrwOrIF0HYWOlAwmS6PsQI50Bqs43AtWwXQSGayb9pxxhBqO6Mv10s08DzIYk/VoKFv//SZr+pvmlAdqPiPzmTAcFIklrAiSwcQSaeCMApdWA+P9NoP4BSJb+d0RfAaQmLvyORIEAjkSBA",
          "dtype": "f4"
         },
         "yaxis": "y"
        }
       ],
       "layout": {
        "coloraxis": {
         "colorbar": {
          "title": {
           "text": "color"
          }
         },
         "colorscale": [
          [
           0,
           "#0d0887"
          ],
          [
           0.1111111111111111,
           "#46039f"
          ],
          [
           0.2222222222222222,
           "#7201a8"
          ],
          [
           0.3333333333333333,
           "#9c179e"
          ],
          [
           0.4444444444444444,
           "#bd3786"
          ],
          [
           0.5555555555555556,
           "#d8576b"
          ],
          [
           0.6666666666666666,
           "#ed7953"
          ],
          [
           0.7777777777777778,
           "#fb9f3a"
          ],
          [
           0.8888888888888888,
           "#fdca26"
          ],
          [
           1,
           "#f0f921"
          ]
         ]
        },
        "legend": {
         "tracegroupgap": 0
        },
        "margin": {
         "t": 60
        },
        "template": {
         "data": {
          "bar": [
           {
            "error_x": {
             "color": "#2a3f5f"
            },
            "error_y": {
             "color": "#2a3f5f"
            },
            "marker": {
             "line": {
              "color": "#E5ECF6",
              "width": 0.5
             },
             "pattern": {
              "fillmode": "overlay",
              "size": 10,
              "solidity": 0.2
             }
            },
            "type": "bar"
           }
          ],
          "barpolar": [
           {
            "marker": {
             "line": {
              "color": "#E5ECF6",
              "width": 0.5
             },
             "pattern": {
              "fillmode": "overlay",
              "size": 10,
              "solidity": 0.2
             }
            },
            "type": "barpolar"
           }
          ],
          "carpet": [
           {
            "aaxis": {
             "endlinecolor": "#2a3f5f",
             "gridcolor": "white",
             "linecolor": "white",
             "minorgridcolor": "white",
             "startlinecolor": "#2a3f5f"
            },
            "baxis": {
             "endlinecolor": "#2a3f5f",
             "gridcolor": "white",
             "linecolor": "white",
             "minorgridcolor": "white",
             "startlinecolor": "#2a3f5f"
            },
            "type": "carpet"
           }
          ],
          "choropleth": [
           {
            "colorbar": {
             "outlinewidth": 0,
             "ticks": ""
            },
            "type": "choropleth"
           }
          ],
          "contour": [
           {
            "colorbar": {
             "outlinewidth": 0,
             "ticks": ""
            },
            "colorscale": [
             [
              0,
              "#0d0887"
             ],
             [
              0.1111111111111111,
              "#46039f"
             ],
             [
              0.2222222222222222,
              "#7201a8"
             ],
             [
              0.3333333333333333,
              "#9c179e"
             ],
             [
              0.4444444444444444,
              "#bd3786"
             ],
             [
              0.5555555555555556,
              "#d8576b"
             ],
             [
              0.6666666666666666,
              "#ed7953"
             ],
             [
              0.7777777777777778,
              "#fb9f3a"
             ],
             [
              0.8888888888888888,
              "#fdca26"
             ],
             [
              1,
              "#f0f921"
             ]
            ],
            "type": "contour"
           }
          ],
          "contourcarpet": [
           {
            "colorbar": {
             "outlinewidth": 0,
             "ticks": ""
            },
            "type": "contourcarpet"
           }
          ],
          "heatmap": [
           {
            "colorbar": {
             "outlinewidth": 0,
             "ticks": ""
            },
            "colorscale": [
             [
              0,
              "#0d0887"
             ],
             [
              0.1111111111111111,
              "#46039f"
             ],
             [
              0.2222222222222222,
              "#7201a8"
             ],
             [
              0.3333333333333333,
              "#9c179e"
             ],
             [
              0.4444444444444444,
              "#bd3786"
             ],
             [
              0.5555555555555556,
              "#d8576b"
             ],
             [
              0.6666666666666666,
              "#ed7953"
             ],
             [
              0.7777777777777778,
              "#fb9f3a"
             ],
             [
              0.8888888888888888,
              "#fdca26"
             ],
             [
              1,
              "#f0f921"
             ]
            ],
            "type": "heatmap"
           }
          ],
          "histogram": [
           {
            "marker": {
             "pattern": {
              "fillmode": "overlay",
              "size": 10,
              "solidity": 0.2
             }
            },
            "type": "histogram"
           }
          ],
          "histogram2d": [
           {
            "colorbar": {
             "outlinewidth": 0,
             "ticks": ""
            },
            "colorscale": [
             [
              0,
              "#0d0887"
             ],
             [
              0.1111111111111111,
              "#46039f"
             ],
             [
              0.2222222222222222,
              "#7201a8"
             ],
             [
              0.3333333333333333,
              "#9c179e"
             ],
             [
              0.4444444444444444,
              "#bd3786"
             ],
             [
              0.5555555555555556,
              "#d8576b"
             ],
             [
              0.6666666666666666,
              "#ed7953"
             ],
             [
              0.7777777777777778,
              "#fb9f3a"
             ],
             [
              0.8888888888888888,
              "#fdca26"
             ],
             [
              1,
              "#f0f921"
             ]
            ],
            "type": "histogram2d"
           }
          ],
          "histogram2dcontour": [
           {
            "colorbar": {
             "outlinewidth": 0,
             "ticks": ""
            },
            "colorscale": [
             [
              0,
              "#0d0887"
             ],
             [
              0.1111111111111111,
              "#46039f"
             ],
             [
              0.2222222222222222,
              "#7201a8"
             ],
             [
              0.3333333333333333,
              "#9c179e"
             ],
             [
              0.4444444444444444,
              "#bd3786"
             ],
             [
              0.5555555555555556,
              "#d8576b"
             ],
             [
              0.6666666666666666,
              "#ed7953"
             ],
             [
              0.7777777777777778,
              "#fb9f3a"
             ],
             [
              0.8888888888888888,
              "#fdca26"
             ],
             [
              1,
              "#f0f921"
             ]
            ],
            "type": "histogram2dcontour"
           }
          ],
          "mesh3d": [
           {
            "colorbar": {
             "outlinewidth": 0,
             "ticks": ""
            },
            "type": "mesh3d"
           }
          ],
          "parcoords": [
           {
            "line": {
             "colorbar": {
              "outlinewidth": 0,
              "ticks": ""
             }
            },
            "type": "parcoords"
           }
          ],
          "pie": [
           {
            "automargin": true,
            "type": "pie"
           }
          ],
          "scatter": [
           {
            "fillpattern": {
             "fillmode": "overlay",
             "size": 10,
             "solidity": 0.2
            },
            "type": "scatter"
           }
          ],
          "scatter3d": [
           {
            "line": {
             "colorbar": {
              "outlinewidth": 0,
              "ticks": ""
             }
            },
            "marker": {
             "colorbar": {
              "outlinewidth": 0,
              "ticks": ""
             }
            },
            "type": "scatter3d"
           }
          ],
          "scattercarpet": [
           {
            "marker": {
             "colorbar": {
              "outlinewidth": 0,
              "ticks": ""
             }
            },
            "type": "scattercarpet"
           }
          ],
          "scattergeo": [
           {
            "marker": {
             "colorbar": {
              "outlinewidth": 0,
              "ticks": ""
             }
            },
            "type": "scattergeo"
           }
          ],
          "scattergl": [
           {
            "marker": {
             "colorbar": {
              "outlinewidth": 0,
              "ticks": ""
             }
            },
            "type": "scattergl"
           }
          ],
          "scattermap": [
           {
            "marker": {
             "colorbar": {
              "outlinewidth": 0,
              "ticks": ""
             }
            },
            "type": "scattermap"
           }
          ],
          "scattermapbox": [
           {
            "marker": {
             "colorbar": {
              "outlinewidth": 0,
              "ticks": ""
             }
            },
            "type": "scattermapbox"
           }
          ],
          "scatterpolar": [
           {
            "marker": {
             "colorbar": {
              "outlinewidth": 0,
              "ticks": ""
             }
            },
            "type": "scatterpolar"
           }
          ],
          "scatterpolargl": [
           {
            "marker": {
             "colorbar": {
              "outlinewidth": 0,
              "ticks": ""
             }
            },
            "type": "scatterpolargl"
           }
          ],
          "scatterternary": [
           {
            "marker": {
             "colorbar": {
              "outlinewidth": 0,
              "ticks": ""
             }
            },
            "type": "scatterternary"
           }
          ],
          "surface": [
           {
            "colorbar": {
             "outlinewidth": 0,
             "ticks": ""
            },
            "colorscale": [
             [
              0,
              "#0d0887"
             ],
             [
              0.1111111111111111,
              "#46039f"
             ],
             [
              0.2222222222222222,
              "#7201a8"
             ],
             [
              0.3333333333333333,
              "#9c179e"
             ],
             [
              0.4444444444444444,
              "#bd3786"
             ],
             [
              0.5555555555555556,
              "#d8576b"
             ],
             [
              0.6666666666666666,
              "#ed7953"
             ],
             [
              0.7777777777777778,
              "#fb9f3a"
             ],
             [
              0.8888888888888888,
              "#fdca26"
             ],
             [
              1,
              "#f0f921"
             ]
            ],
            "type": "surface"
           }
          ],
          "table": [
           {
            "cells": {
             "fill": {
              "color": "#EBF0F8"
             },
             "line": {
              "color": "white"
             }
            },
            "header": {
             "fill": {
              "color": "#C8D4E3"
             },
             "line": {
              "color": "white"
             }
            },
            "type": "table"
           }
          ]
         },
         "layout": {
          "annotationdefaults": {
           "arrowcolor": "#2a3f5f",
           "arrowhead": 0,
           "arrowwidth": 1
          },
          "autotypenumbers": "strict",
          "coloraxis": {
           "colorbar": {
            "outlinewidth": 0,
            "ticks": ""
           }
          },
          "colorscale": {
           "diverging": [
            [
             0,
             "#8e0152"
            ],
            [
             0.1,
             "#c51b7d"
            ],
            [
             0.2,
             "#de77ae"
            ],
            [
             0.3,
             "#f1b6da"
            ],
            [
             0.4,
             "#fde0ef"
            ],
            [
             0.5,
             "#f7f7f7"
            ],
            [
             0.6,
             "#e6f5d0"
            ],
            [
             0.7,
             "#b8e186"
            ],
            [
             0.8,
             "#7fbc41"
            ],
            [
             0.9,
             "#4d9221"
            ],
            [
             1,
             "#276419"
            ]
           ],
           "sequential": [
            [
             0,
             "#0d0887"
            ],
            [
             0.1111111111111111,
             "#46039f"
            ],
            [
             0.2222222222222222,
             "#7201a8"
            ],
            [
             0.3333333333333333,
             "#9c179e"
            ],
            [
             0.4444444444444444,
             "#bd3786"
            ],
            [
             0.5555555555555556,
             "#d8576b"
            ],
            [
             0.6666666666666666,
             "#ed7953"
            ],
            [
             0.7777777777777778,
             "#fb9f3a"
            ],
            [
             0.8888888888888888,
             "#fdca26"
            ],
            [
             1,
             "#f0f921"
            ]
           ],
           "sequentialminus": [
            [
             0,
             "#0d0887"
            ],
            [
             0.1111111111111111,
             "#46039f"
            ],
            [
             0.2222222222222222,
             "#7201a8"
            ],
            [
             0.3333333333333333,
             "#9c179e"
            ],
            [
             0.4444444444444444,
             "#bd3786"
            ],
            [
             0.5555555555555556,
             "#d8576b"
            ],
            [
             0.6666666666666666,
             "#ed7953"
            ],
            [
             0.7777777777777778,
             "#fb9f3a"
            ],
            [
             0.8888888888888888,
             "#fdca26"
            ],
            [
             1,
             "#f0f921"
            ]
           ]
          },
          "colorway": [
           "#636efa",
           "#EF553B",
           "#00cc96",
           "#ab63fa",
           "#FFA15A",
           "#19d3f3",
           "#FF6692",
           "#B6E880",
           "#FF97FF",
           "#FECB52"
          ],
          "font": {
           "color": "#2a3f5f"
          },
          "geo": {
           "bgcolor": "white",
           "lakecolor": "white",
           "landcolor": "#E5ECF6",
           "showlakes": true,
           "showland": true,
           "subunitcolor": "white"
          },
          "hoverlabel": {
           "align": "left"
          },
          "hovermode": "closest",
          "mapbox": {
           "style": "light"
          },
          "paper_bgcolor": "white",
          "plot_bgcolor": "#E5ECF6",
          "polar": {
           "angularaxis": {
            "gridcolor": "white",
            "linecolor": "white",
            "ticks": ""
           },
           "bgcolor": "#E5ECF6",
           "radialaxis": {
            "gridcolor": "white",
            "linecolor": "white",
            "ticks": ""
           }
          },
          "scene": {
           "xaxis": {
            "backgroundcolor": "#E5ECF6",
            "gridcolor": "white",
            "gridwidth": 2,
            "linecolor": "white",
            "showbackground": true,
            "ticks": "",
            "zerolinecolor": "white"
           },
           "yaxis": {
            "backgroundcolor": "#E5ECF6",
            "gridcolor": "white",
            "gridwidth": 2,
            "linecolor": "white",
            "showbackground": true,
            "ticks": "",
            "zerolinecolor": "white"
           },
           "zaxis": {
            "backgroundcolor": "#E5ECF6",
            "gridcolor": "white",
            "gridwidth": 2,
            "linecolor": "white",
            "showbackground": true,
            "ticks": "",
            "zerolinecolor": "white"
           }
          },
          "shapedefaults": {
           "line": {
            "color": "#2a3f5f"
           }
          },
          "ternary": {
           "aaxis": {
            "gridcolor": "white",
            "linecolor": "white",
            "ticks": ""
           },
           "baxis": {
            "gridcolor": "white",
            "linecolor": "white",
            "ticks": ""
           },
           "bgcolor": "#E5ECF6",
           "caxis": {
            "gridcolor": "white",
            "linecolor": "white",
            "ticks": ""
           }
          },
          "title": {
           "x": 0.05
          },
          "xaxis": {
           "automargin": true,
           "gridcolor": "white",
           "linecolor": "white",
           "ticks": "",
           "title": {
            "standoff": 15
           },
           "zerolinecolor": "white",
           "zerolinewidth": 2
          },
          "yaxis": {
           "automargin": true,
           "gridcolor": "white",
           "linecolor": "white",
           "ticks": "",
           "title": {
            "standoff": 15
           },
           "zerolinecolor": "white",
           "zerolinewidth": 2
          }
         }
        },
        "title": {
         "text": "t-SNE class names embeddings"
        },
        "xaxis": {
         "anchor": "y",
         "domain": [
          0,
          1
         ],
         "title": {
          "text": "First Principal Component"
         }
        },
        "yaxis": {
         "anchor": "x",
         "domain": [
          0,
          1
         ],
         "title": {
          "text": "Second Principal Component"
         }
        }
       }
      }
     },
     "metadata": {},
     "output_type": "display_data"
    }
   ],
   "source": [
    "# t-SNE\n",
    "\n",
    "color = [[i for j in range(9)] for i in range(30)]\n",
    "flat_color = np.array(color).flatten().tolist()\n",
    "\n",
    "text_features_tsne = text_features\n",
    "tsne = TSNE(n_components=2, verbose=0, perplexity=40, n_iter=300)\n",
    "text_tsne = tsne.fit_transform(text_features_tsne.to('cpu'))\n",
    "\n",
    "fig = px.scatter(x=text_tsne[:, 0], y=text_tsne[:, 1], hover_name=[all_labels[d] for d in catalog][0], color=flat_color)\n",
    "fig.update_layout(\n",
    "    title=\"t-SNE class names embeddings\",\n",
    "    xaxis_title=\"First Principal Component\",\n",
    "    yaxis_title=\"Second Principal Component\",\n",
    ")\n",
    "cwd = '/home/onyxia/work/tsne_plot/'\n",
    "path = os.path.join(cwd, 't-SNE class names embeddings.png')\n",
    "fig.write_image(path, format='png', engine='kaleido')\n",
    "fig.show()"
   ]
  },
  {
   "cell_type": "code",
   "execution_count": 11,
   "id": "a70f5c2f",
   "metadata": {},
   "outputs": [],
   "source": [
    "# Image embeddings\n",
    "\n",
    "with torch.no_grad():\n",
    "    image_features_tot = []\n",
    "    target_list = []\n",
    "    for images, target in val_loader:\n",
    "        images = images.cuda(non_blocking=True)\n",
    "        target = target.cuda(non_blocking=True)\n",
    "\n",
    "        # encode images\n",
    "        image_features = utils.get_model(model).encode_image(images, ema=True)\n",
    "        image_features = image_features / image_features.norm(dim=-1, keepdim=True)\n",
    "        image_features_tot.append(image_features)\n",
    "        target_list.append(target)"
   ]
  },
  {
   "cell_type": "code",
   "execution_count": 12,
   "id": "97f7f0cc",
   "metadata": {},
   "outputs": [],
   "source": [
    "image_features_cat = torch.cat(image_features_tot, dim=0)"
   ]
  },
  {
   "cell_type": "code",
   "execution_count": 13,
   "id": "6b398e3a",
   "metadata": {},
   "outputs": [
    {
     "name": "stdout",
     "output_type": "stream",
     "text": [
      "torch.Size([6190, 512])\n"
     ]
    }
   ],
   "source": [
    "# fusion of text and image embeddings\n",
    "scaler = StandardScaler()\n",
    "\n",
    "text_features_tsne0 = scaler.fit_transform(text_features.cpu())\n",
    "image_features_tsne0 = scaler.fit_transform(image_features_cat.cpu())\n",
    "\n",
    "text_features_tsne0 = torch.Tensor(text_features_tsne0)\n",
    "image_features_tsne0 = torch.Tensor(image_features_tsne0)\n",
    "\n",
    "text_cat_image = torch.cat((text_features_tsne0, image_features_tsne0), dim=0)\n",
    "print(text_cat_image.size())"
   ]
  },
  {
   "cell_type": "code",
   "execution_count": 14,
   "id": "94580d09",
   "metadata": {},
   "outputs": [
    {
     "name": "stdout",
     "output_type": "stream",
     "text": [
      "[0, 0, 0, 0, 0, 0, 0, 0, 0, 1, 1, 1, 1, 1, 1, 1, 1, 1, 2, 2, 2, 2, 2, 2, 2, 2, 2, 3, 3, 3, 3, 3, 3, 3, 3, 3, 4, 4, 4, 4, 4, 4, 4, 4, 4, 5, 5, 5, 5, 5, 5, 5, 5, 5, 6, 6, 6, 6, 6, 6, 6, 6, 6, 7, 7, 7, 7, 7, 7, 7, 7, 7, 8, 8, 8, 8, 8, 8, 8, 8, 8, 9, 9, 9, 9, 9, 9, 9, 9, 9, 10, 10, 10, 10, 10, 10, 10, 10, 10, 11, 11, 11, 11, 11, 11, 11, 11, 11, 12, 12, 12, 12, 12, 12, 12, 12, 12, 13, 13, 13, 13, 13, 13, 13, 13, 13, 14, 14, 14, 14, 14, 14, 14, 14, 14, 15, 15, 15, 15, 15, 15, 15, 15, 15, 16, 16, 16, 16, 16, 16, 16, 16, 16, 17, 17, 17, 17, 17, 17, 17, 17, 17, 18, 18, 18, 18, 18, 18, 18, 18, 18, 19, 19, 19, 19, 19, 19, 19, 19, 19, 20, 20, 20, 20, 20, 20, 20, 20, 20, 21, 21, 21, 21, 21, 21, 21, 21, 21, 22, 22, 22, 22, 22, 22, 22, 22, 22, 23, 23, 23, 23, 23, 23, 23, 23, 23, 24, 24, 24, 24, 24, 24, 24, 24, 24, 25, 25, 25, 25, 25, 25, 25, 25, 25, 26, 26, 26, 26, 26, 26, 26, 26, 26, 27, 27, 27, 27, 27, 27, 27, 27, 27, 28, 28, 28, 28, 28, 28, 28, 28, 28, 29, 29, 29, 29, 29, 29, 29, 29, 29, 0, 0, 0, 0, 0, 0, 0, 0, 0, 0, 0, 0, 0, 0, 0, 0, 0, 0, 0, 0, 0, 0, 0, 0, 0, 0, 0, 0, 0, 0, 1, 1, 1, 1, 1, 1, 1, 1, 1, 1, 1, 1, 1, 1, 1, 1, 1, 1, 1, 1, 1, 1, 1, 1, 1, 1, 1, 1, 1, 1, 2, 2, 2, 2, 2, 2, 2, 2, 2, 2, 2, 2, 2, 2, 2, 2, 2, 2, 2, 2, 2, 2, 2, 2, 2, 2, 2, 2, 2, 3, 3, 3, 3, 3, 3, 3, 3, 3, 3, 3, 3, 3, 3, 3, 3, 3, 3, 3, 3, 3, 3, 3, 3, 3, 3, 3, 3, 3, 3, 4, 4, 4, 4, 4, 4, 4, 4, 4, 4, 4, 4, 4, 4, 4, 4, 4, 4, 4, 4, 4, 4, 5, 5, 5, 5, 5, 5, 5, 5, 5, 5, 5, 5, 5, 5, 5, 5, 5, 5, 5, 5, 5, 6, 6, 6, 6, 6, 6, 6, 6, 6, 6, 6, 6, 6, 6, 6, 6, 6, 6, 6, 6, 6, 6, 6, 6, 6, 6, 6, 7, 7, 7, 7, 7, 7, 7, 7, 7, 7, 7, 7, 7, 7, 7, 7, 7, 7, 7, 7, 7, 7, 7, 7, 8, 8, 8, 8, 8, 8, 8, 8, 8, 8, 8, 8, 8, 8, 8, 8, 8, 8, 8, 8, 8, 8, 8, 8, 8, 8, 8, 8, 8, 8, 9, 9, 9, 9, 9, 9, 9, 9, 9, 9, 9, 9, 9, 9, 9, 9, 9, 9, 9, 9, 9, 9, 9, 9, 9, 9, 9]\n"
     ]
    }
   ],
   "source": [
    "txt_img_color = flat_color + torch.cat(target_list).tolist()[:270]\n",
    "print(txt_img_color)"
   ]
  },
  {
   "cell_type": "code",
   "execution_count": null,
   "id": "23751d22",
   "metadata": {},
   "outputs": [
    {
     "name": "stderr",
     "output_type": "stream",
     "text": [
      "/usr/local/lib/python3.12/site-packages/sklearn/manifold/_t_sne.py:1164: FutureWarning:\n",
      "\n",
      "'n_iter' was renamed to 'max_iter' in version 1.5 and will be removed in 1.7.\n",
      "\n"
     ]
    },
    {
     "data": {
      "application/vnd.plotly.v1+json": {
       "config": {
        "plotlyServerURL": "https://plot.ly"
       },
       "data": [
        {
         "hoverinfo": "text",
         "hovertemplate": "%{text}<extra></extra>",
         "marker": {
          "color": [
           0,
           0,
           0,
           0,
           0,
           0,
           0,
           0,
           0,
           0,
           0,
           0,
           0,
           0,
           0,
           0,
           0,
           0,
           0,
           0,
           0,
           0,
           0,
           0,
           0,
           0,
           0,
           0,
           0,
           0,
           4,
           4,
           4,
           4,
           4,
           4,
           4,
           4,
           4,
           4,
           4,
           4,
           4,
           4,
           4,
           4,
           4,
           4,
           4,
           4,
           4,
           4,
           4,
           4,
           4,
           4,
           4,
           4,
           4,
           4,
           8,
           8,
           8,
           8,
           8,
           8,
           8,
           8,
           8,
           8,
           8,
           8,
           8,
           8,
           8,
           8,
           8,
           8,
           8,
           8,
           8,
           8,
           8,
           8,
           8,
           8,
           8,
           8,
           8,
           8,
           3,
           3,
           3,
           3,
           3,
           3,
           3,
           3,
           3,
           3,
           3,
           3,
           3,
           3,
           3,
           3,
           3,
           3,
           3,
           3,
           3,
           3,
           3,
           3,
           3,
           3,
           3,
           3,
           3,
           3,
           2,
           2,
           2,
           2,
           2,
           2,
           2,
           2,
           2,
           2,
           2,
           2,
           2,
           2,
           2,
           2,
           2,
           2,
           2,
           2,
           2,
           2,
           2,
           2,
           2,
           2,
           2,
           2,
           2,
           2,
           5,
           5,
           5,
           5,
           5,
           5,
           5,
           5,
           5,
           5,
           5,
           5,
           5,
           5,
           5,
           5,
           5,
           5,
           5,
           5,
           5,
           5,
           5,
           5,
           5,
           5,
           5,
           5,
           5,
           5,
           6,
           6,
           6,
           6,
           6,
           6,
           6,
           6,
           6,
           6,
           6,
           6,
           6,
           6,
           6,
           6,
           6,
           6,
           6,
           6,
           6,
           6,
           6,
           6,
           6,
           6,
           6,
           6,
           6,
           6,
           7,
           7,
           7,
           7,
           7,
           7,
           7,
           7,
           7,
           7,
           7,
           7,
           7,
           7,
           7,
           7,
           7,
           7,
           7,
           7,
           7,
           7,
           7,
           7,
           7,
           7,
           7,
           7,
           7,
           7,
           1,
           1,
           1,
           1,
           1,
           1,
           1,
           1,
           1,
           1,
           1,
           1,
           1,
           1,
           1,
           1,
           1,
           1,
           1,
           1,
           1,
           1,
           1,
           1,
           1,
           1,
           1,
           1,
           1,
           1,
           0,
           0,
           0,
           0,
           0,
           0,
           0,
           0,
           0,
           0,
           0,
           0,
           0,
           0,
           0,
           0,
           0,
           0,
           0,
           0,
           0,
           0,
           0,
           0,
           0,
           0,
           0,
           0,
           0,
           0,
           4,
           4,
           4,
           4,
           4,
           4,
           4,
           4,
           4,
           4,
           4,
           4,
           4,
           4,
           4,
           4,
           4,
           4,
           4,
           4,
           4,
           4,
           4,
           4,
           4,
           4,
           4,
           4,
           4,
           4,
           8,
           8,
           8,
           8,
           8,
           8,
           8,
           8,
           8,
           8,
           8,
           8,
           8,
           8,
           8,
           8,
           8,
           8,
           8,
           8,
           8,
           8,
           8,
           8,
           8,
           8,
           8,
           8,
           8,
           8,
           3,
           3,
           3,
           3,
           3,
           3,
           3,
           3,
           3,
           3,
           3,
           3,
           3,
           3,
           3,
           3,
           3,
           3,
           3,
           3,
           3,
           3,
           3,
           3,
           3,
           3,
           3,
           3,
           3,
           3,
           2,
           2,
           2,
           2,
           2,
           2,
           2,
           2,
           2,
           2,
           2,
           2,
           2,
           2,
           2,
           2,
           2,
           2,
           2,
           2,
           2,
           2,
           2,
           2,
           2,
           2,
           2,
           2,
           2,
           2,
           5,
           5,
           5,
           5,
           5,
           5,
           5,
           5,
           5,
           5,
           5,
           5,
           5,
           5,
           5,
           5,
           5,
           5,
           5,
           5,
           5,
           5,
           5,
           5,
           5,
           5,
           5,
           5,
           5,
           5,
           6,
           6,
           6,
           6,
           6,
           6,
           6,
           6,
           6,
           6,
           6,
           6,
           6,
           6,
           6,
           6,
           6,
           6,
           6,
           6,
           6,
           6,
           6,
           6,
           6,
           6,
           6,
           6,
           6,
           6,
           7,
           7,
           7,
           7,
           7,
           7,
           7,
           7,
           7,
           7,
           7,
           7,
           7,
           7,
           7,
           7,
           7,
           7,
           7,
           7,
           7,
           7,
           7,
           7,
           7,
           7,
           7,
           7,
           7,
           7,
           1,
           1,
           1,
           1,
           1,
           1,
           1,
           1,
           1,
           1,
           1,
           1,
           1,
           1,
           1,
           1,
           1,
           1,
           1,
           1,
           1,
           1,
           1,
           1,
           1,
           1,
           1,
           1,
           1,
           1
          ],
          "line": {
           "width": 0
          },
          "opacity": 0.7,
          "size": {
           "bdata": "Dw8PDw8PDw8PDw8PDw8PDw8PDw8PDw8PDw8PDw8PDw8PDw8PDw8PDw8PDw8PDw8PDw8PDw8PDw8PDw8PDw8PDw8PDw8PDw8PDw8PDw8PDw8PDw8PDw8PDw8PDw8PDw8PDw8PDw8PDw8PDw8PDw8PDw8PDw8PDw8PDw8PDw8PDw8PDw8PDw8PDw8PDw8PDw8PDw8PDw8PDw8PDw8PDw8PDw8PDw8PDw8PDw8PDw8PDw8PDw8PDw8PDw8PDw8PDw8PDw8PDw8PDw8PDw8PDw8PDw8PDw8PDw8PDw8PDw8PDw8PDw8PDw8PDw8PDw8PDw8PDw8PDw8PDw8PDw8PDw8PDw8PDw8PDw8PDw8PDw8PBQUFBQUFBQUFBQUFBQUFBQUFBQUFBQUFBQUFBQUFBQUFBQUFBQUFBQUFBQUFBQUFBQUFBQUFBQUFBQUFBQUFBQUFBQUFBQUFBQUFBQUFBQUFBQUFBQUFBQUFBQUFBQUFBQUFBQUFBQUFBQUFBQUFBQUFBQUFBQUFBQUFBQUFBQUFBQUFBQUFBQUFBQUFBQUFBQUFBQUFBQUFBQUFBQUFBQUFBQUFBQUFBQUFBQUFBQUFBQUFBQUFBQUFBQUFBQUFBQUFBQUFBQUFBQUFBQUFBQUFBQUFBQUFBQUFBQUFBQUFBQUFBQUFBQUFBQUFBQUFBQUFBQUFBQUFBQUFBQUFBQUFBQUFBQUFBQUFBQUFBQUFBQUFBQUFBQUFBQUFBQUFBQUFBQUFBQUFBQUFBQUFBQUFBQUFBQUFBQUFBQUFBQUFBQUFBQUFBQUFBQUFBQUFBQUFBQUFBQUFBQUFBQUFBQUFBQUFBQUFBQUFBQUFBQUFBQUFBQUFBQUFBQUFBQUFBQUFBQUFBQUFBQUFBQUFBQUFBQUFBQUFBQUFBQUFBQUFBQUFBQUFBQUFBQUFBQUFBQUFBQUFBQUFBQUFBQUFBQUFBQUFBQUFBQUFBQUFBQUFBQUFBQUFBQUFBQUFBQUFBQUFBQUFBQUFBQUFBQUFBQUFBQUFBQUFBQUFBQUFBQUFBQUFBQUFBQUFBQUFBQUFBQUFBQUFBQUFBQUFBQUFBQUFBQUFBQUFBQUFBQUFBQUFBQUFBQUFBQUFBQUFBQUFBQUFBQUFBQUFBQUFBQUFBQUFBQUFBQUFBQUFBQUFBQUFBQUFBQUFBQUFBQUFBQUFBQUFBQUFBQUFBQUFBQUFBQUFBQUFBQUFBQUFBQUFBQUFBQUFBQUFBQUFBQUFBQUFBQUFBQUFBQUFBQUFBQUFBQUFBQUFBQUFBQUFBQUFBQUFBQUFBQUFBQUFBQUFBQUFBQUFBQUFBQUFBQUFBQUFBQUFBQUFBQUFBQUFBQUFBQUFBQUFBQUFBQUFBQUFBQUFBQUFBQUFBQUFBQUFBQUFBQUFBQUFBQUFBQUFBQUFBQUFBQUFBQUFBQUFBQUFBQUFBQUFBQUFBQUFBQUFBQUFBQUFBQUFBQUFBQUFBQUFBQUFBQUFBQUFBQUFBQUFBQUFBQUFBQUFBQUFBQUFBQUFBQUFBQUFBQUFBQUFBQUFBQUFBQUFBQUFBQUFBQUFBQUFBQUFBQUFBQUFBQUFBQUFBQUFBQUFBQUFBQUFBQUFBQUFBQUFBQUFBQUFBQUFBQUFBQUFBQUFBQUFBQUFBQUFBQUFBQUFBQUFBQUFBQUFBQUFBQUFBQUFBQUFBQUFBQUFBQUFBQUFBQUFBQUFBQUFBQUFBQUFBQUFBQUFBQUFBQUFBQUFBQUFBQUFBQUFBQUFBQUFBQUFBQUFBQUFBQUFBQUFBQUFBQUFBQUFBQUFBQUFBQUFBQUFBQUFBQUFBQUFBQUFBQUFBQUFBQUFBQUFBQUFBQUFBQUFBQUFBQUFBQUFBQUFBQUFBQUFBQUFBQUFBQUFBQUFBQUFBQUFBQUFBQUFBQUFBQUFBQUFBQUFBQUFBQUFBQUFBQUFBQUFBQUFBQUFBQUFBQUFBQUFBQUFBQUFBQUFBQUFBQUFBQUFBQUFBQUFBQUFBQUFBQUFBQUFBQUFBQUFBQUFBQUFBQUFBQUFBQUFBQUFBQUFBQUFBQUFBQUFBQUFBQUFBQUFBQUFBQUFBQUFBQUFBQUFBQUFBQUFBQUFBQUFBQUFBQUFBQUFBQUFBQUFBQUFBQUFBQUFBQUFBQUFBQUFBQUFBQUFBQUFBQUFBQUFBQUFBQUFBQUFBQUFBQUFBQUFBQUFBQUFBQUFBQUFBQUFBQUFBQUFBQUFBQUFBQUFBQUFBQUFBQUFBQUFBQUFBQUFBQUFBQUFBQUFBQUFBQUFBQUFBQUFBQUFBQUFBQUFBQUFBQUFBQUFBQUFBQUFBQUFBQUFBQUFBQUFBQUFBQUFBQUFBQUFBQUFBQUFBQUFBQUFBQUFBQUFBQUFBQUFBQUFBQUFBQUFBQUFBQUFBQUFBQUFBQUFBQUFBQUFBQUFBQUFBQUFBQUFBQUFBQUFBQUFBQUFBQUFBQUFBQUFBQUFBQUFBQUFBQUFBQUFBQUFBQUFBQUFBQUFBQUFBQUFBQUFBQUFBQUFBQUFBQUFBQUFBQUFBQUFBQUFBQUFBQUFBQUFBQUFBQUFBQUFBQUFBQUFBQUFBQUFBQUFBQUFBQUFBQUFBQUFBQUFBQUFBQUFBQUFBQUFBQUFBQUFBQUFBQUFBQUFBQUFBQUFBQUFBQUFBQUFBQUFBQUFBQUFBQUFBQUFBQUFBQUFBQUFBQUFBQUFBQUFBQUFBQUFBQUFBQUFBQUFBQUFBQUFBQUFBQUFBQUFBQUFBQUFBQUFBQUFBQUFBQUFBQUFBQUFBQUFBQUFBQUFBQUFBQUFBQUFBQUFBQUFBQUFBQUFBQUFBQUFBQUFBQUFBQUFBQUFBQUFBQUFBQUFBQUFBQUFBQUFBQUFBQUFBQUFBQUFBQUFBQUFBQUFBQUFBQUFBQUFBQUFBQUFBQUFBQUFBQUFBQUFBQUFBQUFBQUFBQUFBQUFBQUFBQUFBQUFBQUFBQUFBQUFBQUFBQUFBQUFBQUFBQUFBQUFBQUFBQUFBQUFBQUFBQUFBQUFBQUFBQUFBQUFBQUFBQUFBQUFBQUFBQUFBQUFBQUFBQUFBQUFBQUFBQUFBQUFBQUFBQUFBQUFBQUFBQUFBQUFBQUFBQUFBQUFBQUFBQUFBQUFBQUFBQUFBQUFBQUFBQUFBQUFBQUFBQUFBQUFBQUFBQUFBQUFBQUFBQUFBQUFBQUFBQUFBQUFBQUFBQUFBQUFBQUFBQUFBQUFBQUFBQUFBQUFBQUFBQUFBQUFBQUFBQUFBQUFBQUFBQUFBQUFBQUFBQUFBQUFBQUFBQUFBQUFBQUFBQUFBQUFBQUFBQUFBQUFBQUFBQUFBQUFBQUFBQUFBQUFBQUFBQUFBQUFBQUFBQUFBQUFBQUFBQUFBQUFBQUFBQUFBQUFBQUFBQUFBQUFBQUFBQUFBQUFBQUFBQUFBQUFBQUFBQUFBQUFBQUFBQUFBQUFBQUFBQUFBQUFBQUFBQUFBQUFBQUFBQUFBQUFBQUFBQUFBQUFBQUFBQUFBQUFBQUFBQUFBQUFBQUFBQUFBQUFBQUFBQUFBQUFBQUFBQUFBQUFBQUFBQUFBQUFBQUFBQUFBQUFBQUFBQUFBQUFBQUFBQUFBQUFBQUFBQUFBQUFBQUFBQUFBQUFBQUFBQUFBQUFBQUFBQUFBQUFBQUFBQUFBQUFBQUFBQUFBQUFBQUFBQUFBQUFBQUFBQUFBQUFBQUFBQUFBQUFBQUFBQUFBQUFBQUFBQUFBQUFBQUFBQUFBQUFBQUFBQUFBQUFBQUFBQUFBQUFBQUFBQUFBQUFBQUFBQUFBQUFBQUFBQUFBQUFBQUFBQUFBQUFBQUFBQUFBQUFBQUFBQUFBQUFBQUFBQUFBQUFBQUFBQUFBQUFBQUFBQUFBQUFBQUFBQUFBQUFBQUFBQUFBQUFBQUFBQUFBQUFBQUFBQUFBQUFBQUFBQUFBQUFBQUFBQUFBQUFBQUFBQUFBQUFBQUFBQUFBQUFBQUFBQUFBQUFBQUFBQUFBQUFBQUFBQUFBQUFBQUFBQUFBQUFBQUFBQUFBQUFBQUFBQUFBQUFBQUFBQUFBQUFBQUFBQUFBQUFBQUFBQUFBQUFBQUFBQUFBQUFBQUFBQUFBQUFBQUFBQUFBQUFBQUFBQUFBQUFBQUFBQUFBQUFBQUFBQUFBQUFBQUFBQUFBQUFBQUFBQUFBQUFBQUFBQUFBQUFBQUFBQUFBQUFBQUFBQUFBQUFBQUFBQUFBQUFBQUFBQUFBQUFBQUFBQUFBQUFBQUFBQUFBQUFBQUFBQUFBQUFBQUFBQUFBQUFBQUFBQUFBQUFBQUFBQUFBQUFBQUFBQUFBQUFBQUFBQUFBQUFBQUFBQUFBQUFBQUFBQUFBQUFBQUFBQUFBQUFBQUFBQUFBQUFBQUFBQUFBQUFBQUFBQUFBQUFBQUFBQUFBQUFBQUFBQUFBQUFBQUFBQUFBQUFBQUFBQUFBQUFBQUFBQUFBQUFBQUFBQUFBQUFBQUFBQUFBQUFBQUFBQUFBQUFBQUFBQUFBQUFBQUFBQUFBQUFBQUFBQUFBQUFBQUFBQUFBQUFBQUFBQUFBQUFBQUFBQUFBQUFBQUFBQUFBQUFBQUFBQUFBQUFBQUFBQUFBQUFBQUFBQUFBQUFBQUFBQUFBQUFBQUFBQUFBQUFBQUFBQUFBQUFBQUFBQUFBQUFBQUFBQUFBQUFBQUFBQUFBQUFBQUFBQUFBQUFBQUFBQUFBQUFBQUFBQUFBQUFBQUFBQUFBQUFBQUFBQUFBQUFBQUFBQUFBQUFBQUFBQUFBQUFBQUFBQUFBQUFBQUFBQUFBQUFBQUFBQUFBQUFBQUFBQUFBQUFBQUFBQUFBQUFBQUFBQUFBQUFBQUFBQUFBQUFBQUFBQUFBQUFBQUFBQUFBQUFBQUFBQUFBQUFBQUFBQUFBQUFBQUFBQUFBQUFBQUFBQUFBQUFBQUFBQUFBQUFBQUFBQUFBQUFBQUFBQUFBQUFBQUFBQUFBQUFBQUFBQUFBQUFBQUFBQUFBQUFBQUFBQUFBQUFBQUFBQUFBQUFBQUFBQUFBQUFBQUFBQUFBQUFBQUFBQUFBQUFBQUFBQUFBQUFBQUFBQUFBQUFBQUFBQUFBQUFBQUFBQUFBQUFBQUFBQUFBQUFBQUFBQUFBQUFBQUFBQUFBQUFBQUFBQUFBQUFBQUFBQUFBQUFBQUFBQUFBQUFBQUFBQUFBQUFBQUFBQUFBQUFBQUFBQUFBQUFBQUFBQUFBQUFBQUFBQUFBQUFBQUFBQUFBQUFBQUFBQUFBQUFBQUFBQUFBQUFBQUFBQUFBQUFBQUFBQUFBQUFBQUFBQUFBQUFBQUFBQUFBQUFBQUFBQUFBQUFBQUFBQUFBQUFBQUFBQUFBQUFBQUFBQUFBQUFBQUFBQUFBQUFBQUFBQUFBQUFBQUFBQUFBQUFBQUFBQUFBQUFBQUFBQUFBQUFBQUFBQUFBQUFBQUFBQUFBQUFBQUFBQUFBQUFBQUFBQUFBQUFBQUFBQUFBQUFBQUFBQUFBQUFBQUFBQUFBQUFBQUFBQUFBQUFBQUFBQUFBQUFBQUFBQUFBQUFBQUFBQUFBQUFBQUFBQUFBQUFBQUFBQUFBQUFBQUFBQUFBQUFBQUFBQUFBQUFBQUFBQUFBQUFBQUFBQUFBQUFBQUFBQUFBQUFBQUFBQUFBQUFBQUFBQUFBQUFBQUFBQUFBQUFBQUFBQUFBQUFBQUFBQUFBQUFBQUFBQUFBQUFBQUFBQUFBQUFBQUFBQUFBQUFBQUFBQUFBQUFBQUFBQUFBQUFBQUFBQUFBQUFBQUFBQUFBQUFBQUFBQUFBQUFBQUFBQUFBQUFBQUFBQUFBQUFBQUFBQUFBQUFBQUFBQUFBQUFBQUFBQUFBQUFBQUFBQUFBQUFBQUFBQUFBQUFBQUFBQUFBQUFBQUFBQUFBQUFBQUFBQUFBQUFBQUFBQUFBQUFBQUFBQUFBQUFBQUFBQUFBQUFBQUFBQUFBQUFBQUFBQUFBQUFBQUFBQUFBQUFBQUFBQUFBQUFBQUFBQUFBQUFBQUFBQUFBQUFBQUFBQUFBQUFBQUFBQUFBQUFBQUFBQUFBQUFBQUFBQUFBQUFBQUFBQUFBQUFBQUFBQUFBQUFBQUFBQUFBQUFBQUFBQUFBQUFBQUFBQUFBQUFBQUFBQUFBQUFBQUFBQUFBQUFBQUFBQUFBQUFBQUFBQUFBQUFBQUFBQUFBQUFBQUFBQUFBQUFBQUFBQUFBQUFBQUFBQUFBQUFBQUFBQUFBQUFBQUFBQUFBQUFBQUFBQUFBQUFBQUFBQUFBQUFBQUFBQUFBQUFBQUFBQUFBQUFBQUFBQUFBQUFBQUFBQUFBQUFBQUFBQUFBQUFBQUFBQUFBQUFBQUFBQUFBQUFBQUFBQUFBQUFBQUFBQUFBQUFBQUFBQUFBQUFBQUFBQUFBQUFBQUFBQUFBQUFBQUFBQUFBQUFBQUFBQUFBQUFBQUFBQUFBQUFBQUFBQUFBQUFBQUFBQUFBQUFBQUFBQUFBQUFBQUFBQUFBQUFBQUFBQUFBQUFBQUFBQUFBQUFBQUFBQUFBQUFBQUFBQUFBQUFBQUFBQUFBQUFBQUFBQUFBQUFBQUFBQUFBQUFBQUFBQUFBQUFBQUFBQUFBQUFBQUFBQUFBQUFBQUFBQUFBQUFBQUFBQUFBQUFBQUFBQUFBQUFBQUFBQUFBQUFBQUFBQUFBQUFBQUFBQUFBQUFBQUFBQUFBQUFBQUFBQUFBQUFBQUFBQUFBQUFBQUFBQUFBQUFBQUFBQUFBQUFBQUFBQUFBQUFBQUFBQUFBQUFBQUFBQUFBQUFBQUFBQUFBQUFBQUFBQUFBQUFBQUFBQUFBQUFBQUFBQUFBQUFBQUFBQUFBQUFBQUFBQUFBQUFBQUFBQUFBQUFBQUFBQUFBQUFBQUFBQUFBQUFBQUFBQUFBQUFBQUFBQUFBQUFBQUFBQUFBQUFBQUFBQUFBQUFBQUFBQUFBQUFBQUFBQUFBQUFBQUFBQUFBQUFBQUFBQUFBQUFBQUFBQUFBQUFBQUFBQUFBQUFBQUFBQUFBQUFBQUFBQUFBQUFBQUFBQUFBQUFBQUFBQUFBQUFBQUFBQUFBQUFBQUFBQUFBQUFBQUFBQUFBQUFBQUFBQUFBQUFBQUFBQUFBQUFBQUFBQUFBQUFBQUFBQUFBQUFBQUFBQUFBQUFBQUFBQUFBQUFBQUFBQUFBQUFBQUFBQUFBQUFBQUFBQUFBQUFBQUFBQUFBQUFBQUFBQUFBQUFBQUFBQUFBQUFBQUFBQUFBQUFBQUFBQUFBQUFBQUFBQUFBQUFBQUFBQUFBQUFBQUFBQUFBQUFBQUFBQUFBQUFBQUFBQUFBQUFBQUFBQUFBQUFBQUFBQUFBQUFBQUFBQUFBQUFBQUFBQUFBQUFBQUFBQUFBQUFBQUFBQUFBQUFBQUFBQUFBQUFBQUFBQUFBQUFBQUFBQUFBQUFBQUFBQUFBQUFBQUFBQUFBQUFBQUFBQUFBQUFBQUFBQUFBQUFBQUFBQUFBQUFBQUFBQUFBQUFBQUFBQUFBQUFBQUFBQUFBQUFBQUFBQUFBQUFBQUFBQUFBQUFBQUFBQUFBQUFBQUFBQUFBQUFBQUFBQUFBQUFBQUFBQUFBQUFBQUFBQUFBQUFBQUFBQUFBQUFBQUFBQUFBQUFBQUFBQUFBQUFBQUFBQUFBQUFBQUFBQUFBQUFBQUFBQUFBQUFBQUFBQUFBQUFBQUFBQUFBQUFBQUFBQUFBQUFBQUFBQUFBQUFBQUFBQUFBQUFBQUFBQUFBQUFBQUFBQUFBQUFBQUFBQUFBQUFBQUFBQUFBQUFBQUFBQUFBQUFBQUFBQUFBQUFBQUFBQUFBQUFBQUFBQUFBQUFBQUFBQUFBQUFBQUFBQUFBQUFBQUFBQUFBQUFBQUFBQUFBQUFBQUFBQUFBQUFBQUFBQUFBQUFBQUFBQUFBQUFBQUFBQUFBQUFBQUFBQUFBQUFBQUFBQUFBQUFBQUFBQUFBQUFBQUFBQUFBQUFBQUFBQUFBQUFBQUFBQUFBQUFBQUFBQUFBQUFBQUFBQUFBQUFBQUFBQUFBQUFBQUFBQUFBQUFBQUFBQUFBQUFBQUFBQUFBQUFBQUFBQUFBQUFBQUFBQUFBQUFBQUFBQUFBQUFBQUFBQUFBQUFBQUFBQUFBQUFBQUFBQUFBQUFBQUFBQUFBQUFBQUFBQUFBQUFBQUFBQUFBQUFBQUFBQUFBQUFBQUFBQ==",
           "dtype": "i1"
          }
         },
         "mode": "markers",
         "name": "Image embeddings",
         "showlegend": false,
         "text": [
          "Black footed Albatross: \"a bird standing on a log in the grass.\"",
          "Black footed Albatross: \"a bird perched on a tree branch with a blue sky in the background.\"",
          "Black footed Albatross: \"a bird standing in a puddle of water.\"",
          "Black footed Albatross: \"a bird standing in the grass looking at the camera.\"",
          "Black footed Albatross: \"a small bird standing on a rock in the grass.\"",
          "Black footed Albatross: \"a small bird standing on a pile of sticks.\"",
          "Black footed Albatross: \"a bird standing in the water looking for food.\"",
          "Black footed Albatross: \"a bird with a worm in its mouth.\"",
          "Black footed Albatross: \"a bird standing on top of dry grass.\"",
          "Black footed Albatross: \"a bird standing on the ground next to a body of water.\"",
          "Black footed Albatross: \"a small bird standing on the ground on a beach.\"",
          "Black footed Albatross: \"a small bird standing in the grass.\"",
          "Black footed Albatross: \"a bird sitting on a rock in the water.\"",
          "Black footed Albatross: \"a small bird standing on the ground in the dirt.\"",
          "Black footed Albatross: \"a bird standing on a log in the mud.\"",
          "Black footed Albatross: \"a bird standing on a rock near the water.\"",
          "Black footed Albatross: \"a bird standing in a puddle of water.\"",
          "Black footed Albatross: \"a small bird standing on the ground in the grass.\"",
          "Black footed Albatross: \"a bird standing on a rock in the middle of a field.\"",
          "Black footed Albatross: \"a bird standing on a rock in the water.\"",
          "Black footed Albatross: \"a bird in a tree.\"",
          "Black footed Albatross: \"a small bird standing on top of a muddy ground.\"",
          "Black footed Albatross: \"a small bird standing on the mud by the water.\"",
          "Black footed Albatross: \"a small bird standing on the snow in the snow.\"",
          "Black footed Albatross: \"a small bird standing on the ground near the water.\"",
          "Black footed Albatross: \"a bird standing in the grass with a puddle of water.\"",
          "Black footed Albatross: \"a small brown bird in the grass.\"",
          "Black footed Albatross: \"a female house sparrow sitting on a tree branch in the early morning light.\"",
          "Black footed Albatross: \"a small bird standing on a dirt patch.\"",
          "Black footed Albatross: \"a bird sitting on a post in the middle of a field.\"",
          "Laysan Albatross: \"a small bird on a rock.\"",
          "Laysan Albatross: \"a bird is sitting on a rock with a picture of it.\"",
          "Laysan Albatross: \"a bird sitting on a branch in a bush.\"",
          "Laysan Albatross: \"a bird is standing on a branch in the sun.\"",
          "Laysan Albatross: \"a bird perched on a branch.\"",
          "Laysan Albatross: \"a small bird standing on a dirt field.\"",
          "Laysan Albatross: \"a bird sitting on top of a barbed wire fence.\"",
          "Laysan Albatross: \"a bird perched on a tree branch with a sky background.\"",
          "Laysan Albatross: \"a bird perched on top of a tree branch.\"",
          "Laysan Albatross: \"a small bird standing on the ground in the dirt.\"",
          "Laysan Albatross: \"a bird sitting on the ground in the middle of the park.\"",
          "Laysan Albatross: \"a bird perched on top of a dead tree.\"",
          "Laysan Albatross: \"a small bird standing on the ground in the sand.\"",
          "Laysan Albatross: \"a bird perched on a branch with a beak open.\"",
          "Laysan Albatross: \"a bird perched on a branch with a beak open.\"",
          "Laysan Albatross: \"a bird sitting on a branch of a tree.\"",
          "Laysan Albatross: \"a bird is perched on a plant in a tree.\"",
          "Laysan Albatross: \"a bird perched on a branch with a blurry background.\"",
          "Laysan Albatross: \"a bird is sitting on a person ' s hand.\"",
          "Laysan Albatross: \"a bird standing on the ground with rocks in the background.\"",
          "Laysan Albatross: \"a bird standing on a rock in the dirt.\"",
          "Laysan Albatross: \"a bird perched on a tree branch.\"",
          "Laysan Albatross: \"a bird perched on a branch of a tree.\"",
          "Laysan Albatross: \"a bird standing on the ground in the middle of a field.\"",
          "Laysan Albatross: \"a bird perched on a branch in a tree.\"",
          "Laysan Albatross: \"a bird perched on a branch.\"",
          "Laysan Albatross: \"a bird standing on a rock in the dirt.\"",
          "Laysan Albatross: \"a bird perched on a tree branch.\"",
          "Laysan Albatross: \"a bird perched on a branch with a blurry background.\"",
          "Laysan Albatross: \"a bird perched on a flower on a stem.\"",
          "Sooty Albatross: \"a male woodpecker takes a break from eating a nest in a tree.\"",
          "Sooty Albatross: \"a woodpecker is perched on a tree stump.\"",
          "Sooty Albatross: \"a bird is sitting in a hole in a tree.\"",
          "Sooty Albatross: \"a bird is perched on a tree trunk.\"",
          "Sooty Albatross: \"a bird is perched on a tree branch.\"",
          "Sooty Albatross: \"a woodpecker is perched on a tree.\"",
          "Sooty Albatross: \"a woodpecker with a hole in its beak.\"",
          "Sooty Albatross: \"a bird of prey in flight.\"",
          "Sooty Albatross: \"a woodpecker on a tree trunk.\"",
          "Sooty Albatross: \"a woodpecker building a nest in a tree.\"",
          "Sooty Albatross: \"a bird perched on a tree branch.\"",
          "Sooty Albatross: \"biological species feeding on a bird feeder.\"",
          "Sooty Albatross: \"a woodpecker is perched on a tree.\"",
          "Sooty Albatross: \"a bird perched on a tree branch.\"",
          "Sooty Albatross: \"a woodpecker on a tree trunk.\"",
          "Sooty Albatross: \"a woodpecker sitting on a tree in the middle of a pine forest.\"",
          "Sooty Albatross: \"a male woodpecker on a tree branch.\"",
          "Sooty Albatross: \"a woodpecker perched on a tree trunk.\"",
          "Sooty Albatross: \"a woodpecker perched on a rock in the middle of the desert.\"",
          "Sooty Albatross: \"a woodpecker on a tree stump.\"",
          "Sooty Albatross: \"a woodpecker on a tree.\"",
          "Sooty Albatross: \"a woodpecker perched on a tree trunk.\"",
          "Sooty Albatross: \"a woodpecker on a tree trunk.\"",
          "Sooty Albatross: \"a woodpecker checks out a hole in a tree.\"",
          "Sooty Albatross: \"a bird on a tree branch.\"",
          "Sooty Albatross: \"a woodpecker on a tree trunk.\"",
          "Sooty Albatross: \"a woodpecker on a tree trunk.\"",
          "Sooty Albatross: \"a woodpecker on a tree trunk.\"",
          "Sooty Albatross: \"a woodpecker on a tree.\"",
          "Sooty Albatross: \"a bird on a fence post in the middle of nowhere.\"",
          "Groove billed Ani: \"a bird sitting on a barbed wire fence.\"",
          "Groove billed Ani: \"a small brown bird sitting on top of a wire.\"",
          "Groove billed Ani: \"a bird perched on a wire with yellow flowers in the background.\"",
          "Groove billed Ani: \"a bird is standing in the grass and looking at the camera.\"",
          "Groove billed Ani: \"a small brown and white bird standing on a piece of wood.\"",
          "Groove billed Ani: \"a bird in the grass.\"",
          "Groove billed Ani: \"a bird sitting on a barbed wire fence.\"",
          "Groove billed Ani: \"a female house sparrow on a fence post in the middle of the desert.\"",
          "Groove billed Ani: \"a small bird perched on a branch.\"",
          "Groove billed Ani: \"a bird perched on a branch in a tree.\"",
          "Groove billed Ani: \"a sparrow sitting on a barbed wire fence.\"",
          "Groove billed Ani: \"a small bird standing on the ground near grass.\"",
          "Groove billed Ani: \"a bird is standing on the ground near corn.\"",
          "Groove billed Ani: \"a bird standing on the ground in the desert.\"",
          "Groove billed Ani: \"a small bird sitting on a wire with a green background.\"",
          "Groove billed Ani: \"a bird sitting on the ground in a field.\"",
          "Groove billed Ani: \"a bird sitting on a fence post in a field.\"",
          "Groove billed Ani: \"a bird standing on a pile of sticks in the grass.\"",
          "Groove billed Ani: \"a bird is sitting on a bush in the desert.\"",
          "Groove billed Ani: \"a bird is sitting on a hand.\"",
          "Groove billed Ani: \"a small bird perched on top of a log.\"",
          "Groove billed Ani: \"a bird perched on top of a pine tree branch.\"",
          "Groove billed Ani: \"a bird is perched on a wire fence.\"",
          "Groove billed Ani: \"a bird on a flower.\"",
          "Groove billed Ani: \"a bird sitting in a pile of straw.\"",
          "Groove billed Ani: \"a bird sitting on a barbed wire fence.\"",
          "Groove billed Ani: \"a bird perched on a branch of a tree.\"",
          "Groove billed Ani: \"a bird sitting on a barbed wire fence.\"",
          "Groove billed Ani: \"a small bird sitting on a wooden bench.\"",
          "Groove billed Ani: \"a small bird perched on a branch.\"",
          "Crested Auklet: \"a bird perched on a branch in a forest.\"",
          "Crested Auklet: \"a male house sparrow in the forest.\"",
          "Crested Auklet: \"a small bird perched on a branch in the woods.\"",
          "Crested Auklet: \"a small bird sitting on a person ' s hand.\"",
          "Crested Auklet: \"a bird sitting on a branch in a tree.\"",
          "Crested Auklet: \"a bird perched on a branch of a tree.\"",
          "Crested Auklet: \"a bird perched on a branch in a tree.\"",
          "Crested Auklet: \"a small bird standing on a branch in the forest.\"",
          "Crested Auklet: \"a bird perched on a branch of a tree.\"",
          "Crested Auklet: \"a small bird perched on a branch of a tree.\"",
          "Crested Auklet: \"a bird on a pine cone.\"",
          "Crested Auklet: \"a small bird perched on a branch.\"",
          "Crested Auklet: \"a small bird standing on the ground in the woods.\"",
          "Crested Auklet: \"a small bird standing on a rock near a tree.\"",
          "Crested Auklet: \"a bird in a tree.\"",
          "Crested Auklet: \"a female house sparrow feeding on a plant in the garden of the royal botanic gardens.\"",
          "Crested Auklet: \"a small bird standing in the grass looking around.\"",
          "Crested Auklet: \"a small bird in a tree.\"",
          "Crested Auklet: \"a bird sitting in a tree.\"",
          "Crested Auklet: \"a small bird perched on a branch.\"",
          "Crested Auklet: \"a small bird perched on a branch in a forest.\"",
          "Crested Auklet: \"a bird sitting on a tree branch in a tree.\"",
          "Crested Auklet: \"a small bird perched on a branch with a beak.\"",
          "Crested Auklet: \"a small bird perched on a branch of a tree.\"",
          "Crested Auklet: \"a small bird standing on a rock near a plant.\"",
          "Crested Auklet: \"a small bird perched on a branch in the forest.\"",
          "Crested Auklet: \"a bird perched on a branch with a leaf in its beak.\"",
          "Crested Auklet: \"a bird is standing on a branch in the leaves.\"",
          "Crested Auklet: \"a bird sitting on a tree branch with a bunch of bananas.\"",
          "Crested Auklet: \"a bird sitting on a branch in a tree.\"",
          "Least Auklet: \"a bird perched on a telephone pole in the garden of a house in the village of la crosse, in the south of france.\"",
          "Least Auklet: \"a bird perched on a branch in a tree.\"",
          "Least Auklet: \"a bird is sitting on a bird feeder.\"",
          "Least Auklet: \"a bird perched on a branch with a blurry background.\"",
          "Least Auklet: \"a bird standing on a wooden ledge next to a cage.\"",
          "Least Auklet: \"a bird sitting on a leaf of a plant.\"",
          "Least Auklet: \"a bird is perched on a rusty metal fence.\"",
          "Least Auklet: \"a bird on a tree branch.\"",
          "Least Auklet: \"a bird sitting on a branch in a tree.\"",
          "Least Auklet: \"a small brown bird sitting on a branch.\"",
          "Least Auklet: \"a small bird perched on a branch.\"",
          "Least Auklet: \"a bird perched on a branch.\"",
          "Least Auklet: \"a small bird perched on a tree branch.\"",
          "Least Auklet: \"a bird perched on a branch.\"",
          "Least Auklet: \"a small bird perched on a branch of a tree.\"",
          "Least Auklet: \"a small bird perched on a branch in a tree.\"",
          "Least Auklet: \"a bird perched on top of a shoe on a wall.\"",
          "Least Auklet: \"a small bird perched on a branch of a tree.\"",
          "Least Auklet: \"a small bird perched on a stone on a sunny day.\"",
          "Least Auklet: \"a small bird standing on a fence post.\"",
          "Least Auklet: \"a bird perched on a white post.\"",
          "Least Auklet: \"a bird with a long beak standing on a branch.\"",
          "Least Auklet: \"a small bird sitting on a branch in the sun.\"",
          "Least Auklet: \"a bird perched on a branch of a tree.\"",
          "Least Auklet: \"a bird perched on a tree branch next to a tree.\"",
          "Least Auklet: \"a bird perched on a branch.\"",
          "Least Auklet: \"a small bird perched on a branch in the grass.\"",
          "Least Auklet: \"a bird perched on a branch of a tree.\"",
          "Least Auklet: \"a bird perched on a tree stump.\"",
          "Least Auklet: \"biological species in the snow.\"",
          "Parakeet Auklet: \"biological species in the snow.\"",
          "Parakeet Auklet: \"a bird sits on a tree branch with berries.\"",
          "Parakeet Auklet: \"biological species in the snow.\"",
          "Parakeet Auklet: \"biological species is a native.\"",
          "Parakeet Auklet: \"a bird eating a berry in a tree.\"",
          "Parakeet Auklet: \"a bird sitting on a wooden fence.\"",
          "Parakeet Auklet: \"red - bellied woodpecker in water.\"",
          "Parakeet Auklet: \"a bird sits on a branch of a tree with red berries.\"",
          "Parakeet Auklet: \"a bird eating berries on a tree branch.\"",
          "Parakeet Auklet: \"a bird perched on a branch in a tree.\"",
          "Parakeet Auklet: \"a bird sitting on a branch with berries.\"",
          "Parakeet Auklet: \"biological species in the snow.\"",
          "Parakeet Auklet: \"a red bird perched on a pine tree branch.\"",
          "Parakeet Auklet: \"biological species on a branch.\"",
          "Parakeet Auklet: \"a red and black bird on a bird feeder.\"",
          "Parakeet Auklet: \"biological species on a pine tree.\"",
          "Parakeet Auklet: \"a male red - winged blackbird in a tree.\"",
          "Parakeet Auklet: \"a red bird perched on a post.\"",
          "Parakeet Auklet: \"a male house finch perches on a branch in a tree.\"",
          "Parakeet Auklet: \"a bird sitting on the ground in the snow.\"",
          "Parakeet Auklet: \"biological species in the snow.\"",
          "Parakeet Auklet: \"a bird sitting on a branch with berries.\"",
          "Parakeet Auklet: \"a red and black bird perched on a branch.\"",
          "Parakeet Auklet: \"a bird perched on a branch in a tree.\"",
          "Parakeet Auklet: \"a red and black bird sitting on a branch.\"",
          "Parakeet Auklet: \"a bird sitting on a branch with red berries.\"",
          "Parakeet Auklet: \"a bird sitting on a branch with berries.\"",
          "Parakeet Auklet: \"a bird perched on a branch with berries.\"",
          "Parakeet Auklet: \"a red bird perched on a branch.\"",
          "Parakeet Auklet: \"a small bird sitting on a branch in a tree.\"",
          "Rhinoceros Auklet: \"a small bird sitting on a branch in a tree.\"",
          "Rhinoceros Auklet: \"a small bird perched on a branch.\"",
          "Rhinoceros Auklet: \"a bird sitting on a person ' s hand.\"",
          "Rhinoceros Auklet: \"a yellow bird with a blue band around its neck.\"",
          "Rhinoceros Auklet: \"a bird sitting on a tree branch.\"",
          "Rhinoceros Auklet: \"a bird perched on a branch in a tree.\"",
          "Rhinoceros Auklet: \"a small bird perched on a branch in a tree.\"",
          "Rhinoceros Auklet: \"a small bird sitting on a branch in a tree.\"",
          "Rhinoceros Auklet: \"a bird perched on a branch in a tree.\"",
          "Rhinoceros Auklet: \"a small bird sitting on a branch.\"",
          "Rhinoceros Auklet: \"a bird sitting on a tree branch with leaves.\"",
          "Rhinoceros Auklet: \"a bird is sitting on a tree branch.\"",
          "Rhinoceros Auklet: \"a bird sitting on a nest in a bush.\"",
          "Rhinoceros Auklet: \"a bird sitting on a branch in a tree.\"",
          "Rhinoceros Auklet: \"a small bird sitting on a tree branch.\"",
          "Rhinoceros Auklet: \"a bird sitting on a branch in a tree.\"",
          "Rhinoceros Auklet: \"a bird perched on a branch of a tree.\"",
          "Rhinoceros Auklet: \"a bird sitting on a tree branch in a tree.\"",
          "Rhinoceros Auklet: \"a bird sitting on a branch in a tree.\"",
          "Rhinoceros Auklet: \"a bird perched on a branch of a tree.\"",
          "Rhinoceros Auklet: \"a bird sitting on a branch of a tree.\"",
          "Rhinoceros Auklet: \"a small bird perched on a branch.\"",
          "Rhinoceros Auklet: \"a bird sitting on a branch in a tree.\"",
          "Rhinoceros Auklet: \"a bird sitting on a branch in a tree.\"",
          "Rhinoceros Auklet: \"a bird sitting on a branch in a tree.\"",
          "Rhinoceros Auklet: \"a bird perched on a branch.\"",
          "Rhinoceros Auklet: \"a female bird in the palm of my hand.\"",
          "Rhinoceros Auklet: \"a bird perched on a branch in a tree.\"",
          "Rhinoceros Auklet: \"a yellow and gray bird perched on a branch.\"",
          "Rhinoceros Auklet: \"a bird standing on a wet ground next to a puddle.\"",
          "Brewer Blackbird: \"a bird perched on a twig with a blurry background.\"",
          "Brewer Blackbird: \"biological species is a bird of the species.\"",
          "Brewer Blackbird: \"a bird perched on a branch with leaves.\"",
          "Brewer Blackbird: \"a bird with a long beak standing on a tree branch.\"",
          "Brewer Blackbird: \"a bird with a red head and black head and yellow head.\"",
          "Brewer Blackbird: \"a male goldfinch eating a fish in the grass.\"",
          "Brewer Blackbird: \"a bird perched on a barbed wire fence.\"",
          "Brewer Blackbird: \"a bird in my hand. i think it ' s a bird of a bird that i have seen in my house.\"",
          "Brewer Blackbird: \"a bird on a branch with leaves.\"",
          "Brewer Blackbird: \"a bird with a yellow head and black head and black eyes.\"",
          "Brewer Blackbird: \"a bird perched on a branch in a tree.\"",
          "Brewer Blackbird: \"a bird with a yellow and red head and black feathers.\"",
          "Brewer Blackbird: \"a male house finch perches in a tree at the san diego zoo.\"",
          "Brewer Blackbird: \"biological species on a branch.\"",
          "Brewer Blackbird: \"a bird sitting on a branch with a bird perched on it.\"",
          "Brewer Blackbird: \"a bird perched on a branch in a tree.\"",
          "Brewer Blackbird: \"a male house finch perches on a branch in the middle of a field.\"",
          "Brewer Blackbird: \"a small bird perched on a branch.\"",
          "Brewer Blackbird: \"a small bird perched on a branch of a tree.\"",
          "Brewer Blackbird: \"a small bird perched on a bird feeder.\"",
          "Brewer Blackbird: \"a bird sitting on top of a plant.\"",
          "Brewer Blackbird: \"a yellow and black bird with a red head and black head and yellow breast.\"",
          "Brewer Blackbird: \"a bird flying in the air with a branch of flowers.\"",
          "Brewer Blackbird: \"a bird sitting on a branch in the water.\"",
          "Brewer Blackbird: \"a bird is sitting in a tree branch.\"",
          "Brewer Blackbird: \"a male house finch perches on a barbed wire fence in the garden.\"",
          "Brewer Blackbird: \"a bird perched on a flower.\"",
          "Brewer Blackbird: \"a male house finch sitting on a bird feeder.\"",
          "Brewer Blackbird: \"a small bird perched on a branch with a bird on it ' s beak.\"",
          "Brewer Blackbird: \"a small bird perched on a branch with a bird on it ' s beak.\"",
          "Black footed Albatross",
          "Black footed Albatross",
          "Black footed Albatross",
          "Black footed Albatross",
          "Black footed Albatross",
          "Black footed Albatross",
          "Black footed Albatross",
          "Black footed Albatross",
          "Black footed Albatross",
          "Black footed Albatross",
          "Black footed Albatross",
          "Black footed Albatross",
          "Black footed Albatross",
          "Black footed Albatross",
          "Black footed Albatross",
          "Black footed Albatross",
          "Black footed Albatross",
          "Black footed Albatross",
          "Black footed Albatross",
          "Black footed Albatross",
          "Black footed Albatross",
          "Black footed Albatross",
          "Black footed Albatross",
          "Black footed Albatross",
          "Black footed Albatross",
          "Black footed Albatross",
          "Black footed Albatross",
          "Black footed Albatross",
          "Black footed Albatross",
          "Black footed Albatross",
          "Laysan Albatross",
          "Laysan Albatross",
          "Laysan Albatross",
          "Laysan Albatross",
          "Laysan Albatross",
          "Laysan Albatross",
          "Laysan Albatross",
          "Laysan Albatross",
          "Laysan Albatross",
          "Laysan Albatross",
          "Laysan Albatross",
          "Laysan Albatross",
          "Laysan Albatross",
          "Laysan Albatross",
          "Laysan Albatross",
          "Laysan Albatross",
          "Laysan Albatross",
          "Laysan Albatross",
          "Laysan Albatross",
          "Laysan Albatross",
          "Laysan Albatross",
          "Laysan Albatross",
          "Laysan Albatross",
          "Laysan Albatross",
          "Laysan Albatross",
          "Laysan Albatross",
          "Laysan Albatross",
          "Laysan Albatross",
          "Laysan Albatross",
          "Laysan Albatross",
          "Sooty Albatross",
          "Sooty Albatross",
          "Sooty Albatross",
          "Sooty Albatross",
          "Sooty Albatross",
          "Sooty Albatross",
          "Sooty Albatross",
          "Sooty Albatross",
          "Sooty Albatross",
          "Sooty Albatross",
          "Sooty Albatross",
          "Sooty Albatross",
          "Sooty Albatross",
          "Sooty Albatross",
          "Sooty Albatross",
          "Sooty Albatross",
          "Sooty Albatross",
          "Sooty Albatross",
          "Sooty Albatross",
          "Sooty Albatross",
          "Sooty Albatross",
          "Sooty Albatross",
          "Sooty Albatross",
          "Sooty Albatross",
          "Sooty Albatross",
          "Sooty Albatross",
          "Sooty Albatross",
          "Sooty Albatross",
          "Sooty Albatross",
          "Sooty Albatross",
          "Groove billed Ani",
          "Groove billed Ani",
          "Groove billed Ani",
          "Groove billed Ani",
          "Groove billed Ani",
          "Groove billed Ani",
          "Groove billed Ani",
          "Groove billed Ani",
          "Groove billed Ani",
          "Groove billed Ani",
          "Groove billed Ani",
          "Groove billed Ani",
          "Groove billed Ani",
          "Groove billed Ani",
          "Groove billed Ani",
          "Groove billed Ani",
          "Groove billed Ani",
          "Groove billed Ani",
          "Groove billed Ani",
          "Groove billed Ani",
          "Groove billed Ani",
          "Groove billed Ani",
          "Groove billed Ani",
          "Groove billed Ani",
          "Groove billed Ani",
          "Groove billed Ani",
          "Groove billed Ani",
          "Groove billed Ani",
          "Groove billed Ani",
          "Groove billed Ani",
          "Crested Auklet",
          "Crested Auklet",
          "Crested Auklet",
          "Crested Auklet",
          "Crested Auklet",
          "Crested Auklet",
          "Crested Auklet",
          "Crested Auklet",
          "Crested Auklet",
          "Crested Auklet",
          "Crested Auklet",
          "Crested Auklet",
          "Crested Auklet",
          "Crested Auklet",
          "Crested Auklet",
          "Crested Auklet",
          "Crested Auklet",
          "Crested Auklet",
          "Crested Auklet",
          "Crested Auklet",
          "Crested Auklet",
          "Crested Auklet",
          "Crested Auklet",
          "Crested Auklet",
          "Crested Auklet",
          "Crested Auklet",
          "Crested Auklet",
          "Crested Auklet",
          "Crested Auklet",
          "Crested Auklet",
          "Least Auklet",
          "Least Auklet",
          "Least Auklet",
          "Least Auklet",
          "Least Auklet",
          "Least Auklet",
          "Least Auklet",
          "Least Auklet",
          "Least Auklet",
          "Least Auklet",
          "Least Auklet",
          "Least Auklet",
          "Least Auklet",
          "Least Auklet",
          "Least Auklet",
          "Least Auklet",
          "Least Auklet",
          "Least Auklet",
          "Least Auklet",
          "Least Auklet",
          "Least Auklet",
          "Least Auklet",
          "Least Auklet",
          "Least Auklet",
          "Least Auklet",
          "Least Auklet",
          "Least Auklet",
          "Least Auklet",
          "Least Auklet",
          "Least Auklet",
          "Parakeet Auklet",
          "Parakeet Auklet",
          "Parakeet Auklet",
          "Parakeet Auklet",
          "Parakeet Auklet",
          "Parakeet Auklet",
          "Parakeet Auklet",
          "Parakeet Auklet",
          "Parakeet Auklet",
          "Parakeet Auklet",
          "Parakeet Auklet",
          "Parakeet Auklet",
          "Parakeet Auklet",
          "Parakeet Auklet",
          "Parakeet Auklet",
          "Parakeet Auklet",
          "Parakeet Auklet",
          "Parakeet Auklet",
          "Parakeet Auklet",
          "Parakeet Auklet",
          "Parakeet Auklet",
          "Parakeet Auklet",
          "Parakeet Auklet",
          "Parakeet Auklet",
          "Parakeet Auklet",
          "Parakeet Auklet",
          "Parakeet Auklet",
          "Parakeet Auklet",
          "Parakeet Auklet",
          "Parakeet Auklet",
          "Rhinoceros Auklet",
          "Rhinoceros Auklet",
          "Rhinoceros Auklet",
          "Rhinoceros Auklet",
          "Rhinoceros Auklet",
          "Rhinoceros Auklet",
          "Rhinoceros Auklet",
          "Rhinoceros Auklet",
          "Rhinoceros Auklet",
          "Rhinoceros Auklet",
          "Rhinoceros Auklet",
          "Rhinoceros Auklet",
          "Rhinoceros Auklet",
          "Rhinoceros Auklet",
          "Rhinoceros Auklet",
          "Rhinoceros Auklet",
          "Rhinoceros Auklet",
          "Rhinoceros Auklet",
          "Rhinoceros Auklet",
          "Rhinoceros Auklet",
          "Rhinoceros Auklet",
          "Rhinoceros Auklet",
          "Rhinoceros Auklet",
          "Rhinoceros Auklet",
          "Rhinoceros Auklet",
          "Rhinoceros Auklet",
          "Rhinoceros Auklet",
          "Rhinoceros Auklet",
          "Rhinoceros Auklet",
          "Rhinoceros Auklet",
          "Brewer Blackbird",
          "Brewer Blackbird",
          "Brewer Blackbird",
          "Brewer Blackbird",
          "Brewer Blackbird",
          "Brewer Blackbird",
          "Brewer Blackbird",
          "Brewer Blackbird",
          "Brewer Blackbird",
          "Brewer Blackbird",
          "Brewer Blackbird",
          "Brewer Blackbird",
          "Brewer Blackbird",
          "Brewer Blackbird",
          "Brewer Blackbird",
          "Brewer Blackbird",
          "Brewer Blackbird",
          "Brewer Blackbird",
          "Brewer Blackbird",
          "Brewer Blackbird",
          "Brewer Blackbird",
          "Brewer Blackbird",
          "Brewer Blackbird",
          "Brewer Blackbird",
          "Brewer Blackbird",
          "Brewer Blackbird",
          "Brewer Blackbird",
          "Brewer Blackbird",
          "Brewer Blackbird",
          "Brewer Blackbird"
         ],
         "type": "scatter",
         "x": {
          "bdata": "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",
          "dtype": "f4"
         },
         "y": {
          "bdata": "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",
          "dtype": "f4"
         }
        }
       ],
       "layout": {
        "legend": {
         "bgcolor": "rgba(255,255,255,0.8)",
         "bordercolor": "black",
         "borderwidth": 1,
         "title": {
          "text": "Types de données"
         },
         "x": 0.01,
         "y": 0.99
        },
        "template": {
         "data": {
          "bar": [
           {
            "error_x": {
             "color": "#2a3f5f"
            },
            "error_y": {
             "color": "#2a3f5f"
            },
            "marker": {
             "line": {
              "color": "#E5ECF6",
              "width": 0.5
             },
             "pattern": {
              "fillmode": "overlay",
              "size": 10,
              "solidity": 0.2
             }
            },
            "type": "bar"
           }
          ],
          "barpolar": [
           {
            "marker": {
             "line": {
              "color": "#E5ECF6",
              "width": 0.5
             },
             "pattern": {
              "fillmode": "overlay",
              "size": 10,
              "solidity": 0.2
             }
            },
            "type": "barpolar"
           }
          ],
          "carpet": [
           {
            "aaxis": {
             "endlinecolor": "#2a3f5f",
             "gridcolor": "white",
             "linecolor": "white",
             "minorgridcolor": "white",
             "startlinecolor": "#2a3f5f"
            },
            "baxis": {
             "endlinecolor": "#2a3f5f",
             "gridcolor": "white",
             "linecolor": "white",
             "minorgridcolor": "white",
             "startlinecolor": "#2a3f5f"
            },
            "type": "carpet"
           }
          ],
          "choropleth": [
           {
            "colorbar": {
             "outlinewidth": 0,
             "ticks": ""
            },
            "type": "choropleth"
           }
          ],
          "contour": [
           {
            "colorbar": {
             "outlinewidth": 0,
             "ticks": ""
            },
            "colorscale": [
             [
              0,
              "#0d0887"
             ],
             [
              0.1111111111111111,
              "#46039f"
             ],
             [
              0.2222222222222222,
              "#7201a8"
             ],
             [
              0.3333333333333333,
              "#9c179e"
             ],
             [
              0.4444444444444444,
              "#bd3786"
             ],
             [
              0.5555555555555556,
              "#d8576b"
             ],
             [
              0.6666666666666666,
              "#ed7953"
             ],
             [
              0.7777777777777778,
              "#fb9f3a"
             ],
             [
              0.8888888888888888,
              "#fdca26"
             ],
             [
              1,
              "#f0f921"
             ]
            ],
            "type": "contour"
           }
          ],
          "contourcarpet": [
           {
            "colorbar": {
             "outlinewidth": 0,
             "ticks": ""
            },
            "type": "contourcarpet"
           }
          ],
          "heatmap": [
           {
            "colorbar": {
             "outlinewidth": 0,
             "ticks": ""
            },
            "colorscale": [
             [
              0,
              "#0d0887"
             ],
             [
              0.1111111111111111,
              "#46039f"
             ],
             [
              0.2222222222222222,
              "#7201a8"
             ],
             [
              0.3333333333333333,
              "#9c179e"
             ],
             [
              0.4444444444444444,
              "#bd3786"
             ],
             [
              0.5555555555555556,
              "#d8576b"
             ],
             [
              0.6666666666666666,
              "#ed7953"
             ],
             [
              0.7777777777777778,
              "#fb9f3a"
             ],
             [
              0.8888888888888888,
              "#fdca26"
             ],
             [
              1,
              "#f0f921"
             ]
            ],
            "type": "heatmap"
           }
          ],
          "histogram": [
           {
            "marker": {
             "pattern": {
              "fillmode": "overlay",
              "size": 10,
              "solidity": 0.2
             }
            },
            "type": "histogram"
           }
          ],
          "histogram2d": [
           {
            "colorbar": {
             "outlinewidth": 0,
             "ticks": ""
            },
            "colorscale": [
             [
              0,
              "#0d0887"
             ],
             [
              0.1111111111111111,
              "#46039f"
             ],
             [
              0.2222222222222222,
              "#7201a8"
             ],
             [
              0.3333333333333333,
              "#9c179e"
             ],
             [
              0.4444444444444444,
              "#bd3786"
             ],
             [
              0.5555555555555556,
              "#d8576b"
             ],
             [
              0.6666666666666666,
              "#ed7953"
             ],
             [
              0.7777777777777778,
              "#fb9f3a"
             ],
             [
              0.8888888888888888,
              "#fdca26"
             ],
             [
              1,
              "#f0f921"
             ]
            ],
            "type": "histogram2d"
           }
          ],
          "histogram2dcontour": [
           {
            "colorbar": {
             "outlinewidth": 0,
             "ticks": ""
            },
            "colorscale": [
             [
              0,
              "#0d0887"
             ],
             [
              0.1111111111111111,
              "#46039f"
             ],
             [
              0.2222222222222222,
              "#7201a8"
             ],
             [
              0.3333333333333333,
              "#9c179e"
             ],
             [
              0.4444444444444444,
              "#bd3786"
             ],
             [
              0.5555555555555556,
              "#d8576b"
             ],
             [
              0.6666666666666666,
              "#ed7953"
             ],
             [
              0.7777777777777778,
              "#fb9f3a"
             ],
             [
              0.8888888888888888,
              "#fdca26"
             ],
             [
              1,
              "#f0f921"
             ]
            ],
            "type": "histogram2dcontour"
           }
          ],
          "mesh3d": [
           {
            "colorbar": {
             "outlinewidth": 0,
             "ticks": ""
            },
            "type": "mesh3d"
           }
          ],
          "parcoords": [
           {
            "line": {
             "colorbar": {
              "outlinewidth": 0,
              "ticks": ""
             }
            },
            "type": "parcoords"
           }
          ],
          "pie": [
           {
            "automargin": true,
            "type": "pie"
           }
          ],
          "scatter": [
           {
            "fillpattern": {
             "fillmode": "overlay",
             "size": 10,
             "solidity": 0.2
            },
            "type": "scatter"
           }
          ],
          "scatter3d": [
           {
            "line": {
             "colorbar": {
              "outlinewidth": 0,
              "ticks": ""
             }
            },
            "marker": {
             "colorbar": {
              "outlinewidth": 0,
              "ticks": ""
             }
            },
            "type": "scatter3d"
           }
          ],
          "scattercarpet": [
           {
            "marker": {
             "colorbar": {
              "outlinewidth": 0,
              "ticks": ""
             }
            },
            "type": "scattercarpet"
           }
          ],
          "scattergeo": [
           {
            "marker": {
             "colorbar": {
              "outlinewidth": 0,
              "ticks": ""
             }
            },
            "type": "scattergeo"
           }
          ],
          "scattergl": [
           {
            "marker": {
             "colorbar": {
              "outlinewidth": 0,
              "ticks": ""
             }
            },
            "type": "scattergl"
           }
          ],
          "scattermap": [
           {
            "marker": {
             "colorbar": {
              "outlinewidth": 0,
              "ticks": ""
             }
            },
            "type": "scattermap"
           }
          ],
          "scattermapbox": [
           {
            "marker": {
             "colorbar": {
              "outlinewidth": 0,
              "ticks": ""
             }
            },
            "type": "scattermapbox"
           }
          ],
          "scatterpolar": [
           {
            "marker": {
             "colorbar": {
              "outlinewidth": 0,
              "ticks": ""
             }
            },
            "type": "scatterpolar"
           }
          ],
          "scatterpolargl": [
           {
            "marker": {
             "colorbar": {
              "outlinewidth": 0,
              "ticks": ""
             }
            },
            "type": "scatterpolargl"
           }
          ],
          "scatterternary": [
           {
            "marker": {
             "colorbar": {
              "outlinewidth": 0,
              "ticks": ""
             }
            },
            "type": "scatterternary"
           }
          ],
          "surface": [
           {
            "colorbar": {
             "outlinewidth": 0,
             "ticks": ""
            },
            "colorscale": [
             [
              0,
              "#0d0887"
             ],
             [
              0.1111111111111111,
              "#46039f"
             ],
             [
              0.2222222222222222,
              "#7201a8"
             ],
             [
              0.3333333333333333,
              "#9c179e"
             ],
             [
              0.4444444444444444,
              "#bd3786"
             ],
             [
              0.5555555555555556,
              "#d8576b"
             ],
             [
              0.6666666666666666,
              "#ed7953"
             ],
             [
              0.7777777777777778,
              "#fb9f3a"
             ],
             [
              0.8888888888888888,
              "#fdca26"
             ],
             [
              1,
              "#f0f921"
             ]
            ],
            "type": "surface"
           }
          ],
          "table": [
           {
            "cells": {
             "fill": {
              "color": "#EBF0F8"
             },
             "line": {
              "color": "white"
             }
            },
            "header": {
             "fill": {
              "color": "#C8D4E3"
             },
             "line": {
              "color": "white"
             }
            },
            "type": "table"
           }
          ]
         },
         "layout": {
          "annotationdefaults": {
           "arrowcolor": "#2a3f5f",
           "arrowhead": 0,
           "arrowwidth": 1
          },
          "autotypenumbers": "strict",
          "coloraxis": {
           "colorbar": {
            "outlinewidth": 0,
            "ticks": ""
           }
          },
          "colorscale": {
           "diverging": [
            [
             0,
             "#8e0152"
            ],
            [
             0.1,
             "#c51b7d"
            ],
            [
             0.2,
             "#de77ae"
            ],
            [
             0.3,
             "#f1b6da"
            ],
            [
             0.4,
             "#fde0ef"
            ],
            [
             0.5,
             "#f7f7f7"
            ],
            [
             0.6,
             "#e6f5d0"
            ],
            [
             0.7,
             "#b8e186"
            ],
            [
             0.8,
             "#7fbc41"
            ],
            [
             0.9,
             "#4d9221"
            ],
            [
             1,
             "#276419"
            ]
           ],
           "sequential": [
            [
             0,
             "#0d0887"
            ],
            [
             0.1111111111111111,
             "#46039f"
            ],
            [
             0.2222222222222222,
             "#7201a8"
            ],
            [
             0.3333333333333333,
             "#9c179e"
            ],
            [
             0.4444444444444444,
             "#bd3786"
            ],
            [
             0.5555555555555556,
             "#d8576b"
            ],
            [
             0.6666666666666666,
             "#ed7953"
            ],
            [
             0.7777777777777778,
             "#fb9f3a"
            ],
            [
             0.8888888888888888,
             "#fdca26"
            ],
            [
             1,
             "#f0f921"
            ]
           ],
           "sequentialminus": [
            [
             0,
             "#0d0887"
            ],
            [
             0.1111111111111111,
             "#46039f"
            ],
            [
             0.2222222222222222,
             "#7201a8"
            ],
            [
             0.3333333333333333,
             "#9c179e"
            ],
            [
             0.4444444444444444,
             "#bd3786"
            ],
            [
             0.5555555555555556,
             "#d8576b"
            ],
            [
             0.6666666666666666,
             "#ed7953"
            ],
            [
             0.7777777777777778,
             "#fb9f3a"
            ],
            [
             0.8888888888888888,
             "#fdca26"
            ],
            [
             1,
             "#f0f921"
            ]
           ]
          },
          "colorway": [
           "#636efa",
           "#EF553B",
           "#00cc96",
           "#ab63fa",
           "#FFA15A",
           "#19d3f3",
           "#FF6692",
           "#B6E880",
           "#FF97FF",
           "#FECB52"
          ],
          "font": {
           "color": "#2a3f5f"
          },
          "geo": {
           "bgcolor": "white",
           "lakecolor": "white",
           "landcolor": "#E5ECF6",
           "showlakes": true,
           "showland": true,
           "subunitcolor": "white"
          },
          "hoverlabel": {
           "align": "left"
          },
          "hovermode": "closest",
          "mapbox": {
           "style": "light"
          },
          "paper_bgcolor": "white",
          "plot_bgcolor": "#E5ECF6",
          "polar": {
           "angularaxis": {
            "gridcolor": "white",
            "linecolor": "white",
            "ticks": ""
           },
           "bgcolor": "#E5ECF6",
           "radialaxis": {
            "gridcolor": "white",
            "linecolor": "white",
            "ticks": ""
           }
          },
          "scene": {
           "xaxis": {
            "backgroundcolor": "#E5ECF6",
            "gridcolor": "white",
            "gridwidth": 2,
            "linecolor": "white",
            "showbackground": true,
            "ticks": "",
            "zerolinecolor": "white"
           },
           "yaxis": {
            "backgroundcolor": "#E5ECF6",
            "gridcolor": "white",
            "gridwidth": 2,
            "linecolor": "white",
            "showbackground": true,
            "ticks": "",
            "zerolinecolor": "white"
           },
           "zaxis": {
            "backgroundcolor": "#E5ECF6",
            "gridcolor": "white",
            "gridwidth": 2,
            "linecolor": "white",
            "showbackground": true,
            "ticks": "",
            "zerolinecolor": "white"
           }
          },
          "shapedefaults": {
           "line": {
            "color": "#2a3f5f"
           }
          },
          "ternary": {
           "aaxis": {
            "gridcolor": "white",
            "linecolor": "white",
            "ticks": ""
           },
           "baxis": {
            "gridcolor": "white",
            "linecolor": "white",
            "ticks": ""
           },
           "bgcolor": "#E5ECF6",
           "caxis": {
            "gridcolor": "white",
            "linecolor": "white",
            "ticks": ""
           }
          },
          "title": {
           "x": 0.05
          },
          "xaxis": {
           "automargin": true,
           "gridcolor": "white",
           "linecolor": "white",
           "ticks": "",
           "title": {
            "standoff": 15
           },
           "zerolinecolor": "white",
           "zerolinewidth": 2
          },
          "yaxis": {
           "automargin": true,
           "gridcolor": "white",
           "linecolor": "white",
           "ticks": "",
           "title": {
            "standoff": 15
           },
           "zerolinecolor": "white",
           "zerolinewidth": 2
          }
         }
        }
       }
      }
     },
     "metadata": {},
     "output_type": "display_data"
    }
   ],
   "source": [
    "# t-SNE of the merged tensor\n",
    "\n",
    "class_labels = np.array([[label for _ in range(30)] for label in true_labels]).flatten().tolist()\n",
    "\n",
    "unique_labels = sorted(set(class_labels))\n",
    "label_to_int = {label: i for i, label in enumerate(unique_labels)}\n",
    "\n",
    "color_list = [label_to_int[label] for label in class_labels]\n",
    "\n",
    "text_labels = []\n",
    "for i,label in enumerate(class_labels):\n",
    "    text_labels.append(label + ': \"' + labels[i] + '\"')\n",
    "\n",
    "tsne = TSNE(n_components=2, verbose=0, perplexity=40, n_iter=300)\n",
    "image_text_tsne = tsne.fit_transform(text_cat_image.to('cpu'))\n",
    "\n",
    "sizes = np.array([15 if i < 270 else 5 for i in range(len(image_text_tsne))])\n",
    "\n",
    "hover_labels = text_labels + class_labels\n",
    "\n",
    "fig = go.Figure()\n",
    "fig.add_trace(go.Scatter(\n",
    "    x=image_text_tsne[:540, 0],\n",
    "    y=image_text_tsne[:540, 1],\n",
    "    mode='markers',\n",
    "    text=hover_labels,\n",
    "    hoverinfo = 'text',\n",
    "    hovertemplate='%{text}<extra></extra>',\n",
    "    marker=dict(\n",
    "        size=sizes,\n",
    "        color=color_list + color_list,\n",
    "        opacity=0.7,\n",
    "        line=dict(width=0),\n",
    "    ),\n",
    "    showlegend=False\n",
    "))\n",
    "\n",
    "fig.update_layout(\n",
    "legend=dict(\n",
    "    title='Types de données',\n",
    "    x=0.01,\n",
    "    y=0.99,\n",
    "    bgcolor='rgba(255,255,255,0.8)',\n",
    "    bordercolor='black',\n",
    "    borderwidth=1\n",
    "    )\n",
    ")\n",
    "fig.data[0].name = \"Image embeddings\"\n",
    "\n",
    "fig.update_traces(\n",
    "    marker=dict(\n",
    "                line=dict(width=0,)\n",
    "                ))\n",
    "\n",
    "path='/home/onyxia/work/DetailCLIP/images/text + image/image.png'\n",
    "fig.write_image(path, format='png', engine='kaleido')\n",
    "fig.show()"
   ]
  }
 ],
 "metadata": {
  "kernelspec": {
   "display_name": "Python 3",
   "language": "python",
   "name": "python3"
  },
  "language_info": {
   "codemirror_mode": {
    "name": "ipython",
    "version": 3
   },
   "file_extension": ".py",
   "mimetype": "text/x-python",
   "name": "python",
   "nbconvert_exporter": "python",
   "pygments_lexer": "ipython3",
   "version": "3.12.9"
  }
 },
 "nbformat": 4,
 "nbformat_minor": 5
}
