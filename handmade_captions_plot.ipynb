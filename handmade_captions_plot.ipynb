{
 "cells": [
  {
   "cell_type": "code",
   "execution_count": null,
   "id": "ee039af4",
   "metadata": {},
   "outputs": [
    {
     "ename": "ModuleNotFoundError",
     "evalue": "No module named 'sklearn'",
     "output_type": "error",
     "traceback": [
      "\u001b[31m---------------------------------------------------------------------------\u001b[39m",
      "\u001b[31mModuleNotFoundError\u001b[39m                       Traceback (most recent call last)",
      "\u001b[36mCell\u001b[39m\u001b[36m \u001b[39m\u001b[32mIn[1]\u001b[39m\u001b[32m, line 1\u001b[39m\n\u001b[32m----> \u001b[39m\u001b[32m1\u001b[39m \u001b[38;5;28;01mfrom\u001b[39;00m\u001b[38;5;250m \u001b[39m\u001b[34;01msklearn\u001b[39;00m\u001b[34;01m.\u001b[39;00m\u001b[34;01mdecomposition\u001b[39;00m\u001b[38;5;250m \u001b[39m\u001b[38;5;28;01mimport\u001b[39;00m PCA\n\u001b[32m      2\u001b[39m \u001b[38;5;28;01mfrom\u001b[39;00m\u001b[38;5;250m \u001b[39m\u001b[34;01msklearn\u001b[39;00m\u001b[34;01m.\u001b[39;00m\u001b[34;01mmanifold\u001b[39;00m\u001b[38;5;250m \u001b[39m\u001b[38;5;28;01mimport\u001b[39;00m TSNE\n\u001b[32m      3\u001b[39m \u001b[38;5;28;01mimport\u001b[39;00m\u001b[38;5;250m \u001b[39m\u001b[34;01mmodels\u001b[39;00m\n",
      "\u001b[31mModuleNotFoundError\u001b[39m: No module named 'sklearn'"
     ]
    }
   ],
   "source": [
    "from sklearn.decomposition import PCA\n",
    "from sklearn.manifold import TSNE\n",
    "import models\n",
    "import torch\n",
    "from collections import OrderedDict\n",
    "import json\n",
    "import os\n",
    "import torchvision.transforms as transforms\n",
    "from tokenizer import SimpleTokenizer\n",
    "import datasets\n",
    "import utils\n",
    "import matplotlib.pyplot as plt\n",
    "import seaborn as sns\n",
    "import pandas as pd\n",
    "import numpy as np\n",
    "import plotly.express as px\n",
    "import plotly.colors as pc\n",
    "import plotly.io as pio\n",
    "import random\n",
    "import kaleido\n",
    "import plotly.graph_objects as go\n",
    "from sklearn.preprocessing import StandardScaler\n",
    "from torch.utils.data import Subset\n",
    "from collections import Counter\n",
    "from pathlib import Path"
   ]
  },
  {
   "cell_type": "code",
   "execution_count": null,
   "id": "cd27b204",
   "metadata": {},
   "outputs": [
    {
     "name": "stdout",
     "output_type": "stream",
     "text": [
      "\tCreating MAE projection head\n",
      "\tMAE projection head created\n",
      "\tCreating IBOT projection head\n"
     ]
    },
    {
     "name": "stderr",
     "output_type": "stream",
     "text": [
      "/usr/local/lib/python3.12/site-packages/torch/nn/utils/weight_norm.py:143: FutureWarning: `torch.nn.utils.weight_norm` is deprecated in favor of `torch.nn.utils.parametrizations.weight_norm`.\n",
      "  WeightNorm.apply(module, name, dim)\n"
     ]
    },
    {
     "name": "stdout",
     "output_type": "stream",
     "text": [
      "\tkeys have been loaded for ibot head with status: <All keys matched successfully>\n",
      "\tIBOT projection head created\n",
      "\tDetailCLIP model created\n",
      "=> creating model: ICLIP_VITB16\n",
      "\tCreating MAE projection head\n",
      "\tMAE projection head created\n",
      "\tCreating IBOT projection head\n",
      "\tkeys have been loaded for ibot head with status: <All keys matched successfully>\n",
      "\tIBOT projection head created\n",
      "\tDetailCLIP model created\n",
      "=> loaded resume checkpoint 'checkpoint_best.pt' (epoch 48)\n"
     ]
    }
   ],
   "source": [
    "model = getattr(models, 'ICLIP_VITB16')()\n",
    "model.cuda()\n",
    "\n",
    "# Creating model\n",
    "ckpt_path = 'checkpoint_best.pt'\n",
    "\n",
    "ckpt = torch.load(ckpt_path, map_location='cpu', weights_only=False)\n",
    "state_dict = OrderedDict()\n",
    "for k, v in ckpt['state_dict'].items():\n",
    "    state_dict[k.replace('module.', '')] = v\n",
    "\n",
    "old_args = ckpt['args']\n",
    "print(\"=> creating model: {}\".format(old_args.model))\n",
    "model = getattr(models, old_args.model)()\n",
    "model.cuda()\n",
    "model.load_state_dict(state_dict, strict=True)\n",
    "print(\"=> loaded resume checkpoint '{}' (epoch {})\".format(ckpt_path, ckpt['epoch']))"
   ]
  },
  {
   "cell_type": "code",
   "execution_count": null,
   "id": "1d71fdd2",
   "metadata": {},
   "outputs": [],
   "source": [
    "cwd = '/home/onyxia/work/DetailCLIP'\n",
    "with open(os.path.join(cwd, 'dataset_catalog.json')) as f:\n",
    "    catalog = json.load(f)\n",
    "\n",
    "with open(os.path.join(cwd, 'templates.json')) as f:\n",
    "    all_templates = json.load(f)\n",
    "\n",
    "with open(os.path.join(cwd, 'labels.json')) as f:\n",
    "    all_labels = json.load(f)"
   ]
  },
  {
   "cell_type": "code",
   "execution_count": null,
   "id": "a47b37cd",
   "metadata": {},
   "outputs": [
    {
     "name": "stdout",
     "output_type": "stream",
     "text": [
      "=> creating dataset\n"
     ]
    }
   ],
   "source": [
    "print(\"=> creating dataset\")\n",
    "tokenizer = SimpleTokenizer()\n",
    "val_transform = transforms.Compose([\n",
    "        transforms.Resize(224),\n",
    "        transforms.CenterCrop(224),\n",
    "        lambda x: x.convert('RGB'),\n",
    "        transforms.ToTensor(),\n",
    "        transforms.Normalize(mean=[0.485, 0.456, 0.406],\n",
    "                                std=[0.229, 0.224, 0.225])\n",
    "    ])"
   ]
  },
  {
   "cell_type": "code",
   "execution_count": null,
   "id": "fb57400d",
   "metadata": {},
   "outputs": [],
   "source": [
    "classes_to_keep = ['001.Black_footed_Albatross',\n",
    "'002.Laysan_Albatross',\n",
    "'005.Crested_Auklet',\n",
    "'012.Yellow_headed_Blackbird',\n",
    "'016.Painted_Bunting',\n",
    "'017.Cardinal',\n",
    "'019.Gray_Catbird',\n",
    "'036.Northern_Flicker',\n",
    "'044.Frigatebird',\n",
    "'045.Northern_Fulmar',\n",
    "'056.Pine_Grosbeak',\n",
    "'069.Rufous_Hummingbird']"
   ]
  },
  {
   "cell_type": "code",
   "execution_count": null,
   "id": "4a4a75bc",
   "metadata": {},
   "outputs": [
    {
     "name": "stdout",
     "output_type": "stream",
     "text": [
      "Evaluating handmade\n"
     ]
    }
   ],
   "source": [
    "d='handmade'\n",
    "print('Evaluating {}'.format(d))\n",
    "val_dataset = datasets.get_downstream_dataset(catalog, name=d, is_train=False, transform=val_transform)\n",
    "\n",
    "class_to_idx = {cls: i for i, cls in enumerate(val_dataset.classes)}\n",
    "indices = [i for i, (_, label) in enumerate(val_dataset.samples) \n",
    "           if val_dataset.classes[label] in classes_to_keep]\n",
    "\n",
    "subset = Subset(val_dataset, indices) # dataset with selected classes\n",
    "\n",
    "val_loader = torch.utils.data.DataLoader(\n",
    "    subset, batch_size=256, shuffle=False,\n",
    "    num_workers=10, pin_memory=True, drop_last=False)\n",
    "\n",
    "labels = all_labels[d]\n",
    "true_labels = all_labels['cub200']\n",
    "\n",
    "model.eval()\n",
    "\n",
    "root = Path(val_dataset.root)\n",
    "counts = {cls: len(list((root / cls).glob('*.jpg'))) for cls in classes_to_keep}\n",
    "img_counts = list(counts.values()) # number of images per class"
   ]
  },
  {
   "cell_type": "code",
   "execution_count": null,
   "id": "f92e4088",
   "metadata": {},
   "outputs": [
    {
     "name": "stdout",
     "output_type": "stream",
     "text": [
      "=> encoding captions\n"
     ]
    },
    {
     "data": {
      "text/plain": [
       "torch.Size([12, 512])"
      ]
     },
     "execution_count": 12,
     "metadata": {},
     "output_type": "execute_result"
    }
   ],
   "source": [
    "#Text embeddings\n",
    "\n",
    "results = []\n",
    "print('=> encoding captions')\n",
    "with torch.no_grad():\n",
    "    text_features = []\n",
    "    for label in labels:\n",
    "        texts = label\n",
    "        texts = tokenizer(texts).cuda(non_blocking=True)\n",
    "        texts = texts.view(-1, 77).contiguous()\n",
    "        class_embeddings = utils.get_model(model).encode_text(texts, ema=True)\n",
    "        class_embeddings = class_embeddings / class_embeddings.norm(dim=-1, keepdim=True)\n",
    "        class_embeddings = class_embeddings.mean(dim=0)\n",
    "        class_embeddings = class_embeddings / class_embeddings.norm(dim=-1, keepdim=True)\n",
    "        text_features.append(class_embeddings)\n",
    "\n",
    "    text_features = torch.stack(text_features, dim=0)\n",
    "\n",
    "text_features.size()"
   ]
  },
  {
   "cell_type": "code",
   "execution_count": null,
   "id": "a70f5c2f",
   "metadata": {},
   "outputs": [],
   "source": [
    "# Image embeddings\n",
    "\n",
    "with torch.no_grad():\n",
    "    image_features_tot = []\n",
    "    target_list = []\n",
    "    for images, target in val_loader:\n",
    "        images = images.cuda(non_blocking=True)\n",
    "        target = target.cuda(non_blocking=True)\n",
    "\n",
    "        # encode images\n",
    "        image_features = utils.get_model(model).encode_image(images, ema=True)\n",
    "        image_features = image_features / image_features.norm(dim=-1, keepdim=True)\n",
    "        image_features_tot.append(image_features)\n",
    "        target_list.append(target)"
   ]
  },
  {
   "cell_type": "code",
   "execution_count": null,
   "id": "97f7f0cc",
   "metadata": {},
   "outputs": [],
   "source": [
    "image_features_cat = torch.cat(image_features_tot, dim=0)"
   ]
  },
  {
   "cell_type": "code",
   "execution_count": null,
   "id": "6b398e3a",
   "metadata": {},
   "outputs": [],
   "source": [
    "# fusion of text and image embeddings\n",
    "\n",
    "# standardization\n",
    "scaler = StandardScaler()\n",
    "text_features_tsne0 = scaler.fit_transform(text_features.cpu())\n",
    "image_features_tsne0 = scaler.fit_transform(image_features_cat.cpu())\n",
    "\n",
    "text_features_tsne0 = torch.Tensor(text_features_tsne0)\n",
    "image_features_tsne0 = torch.Tensor(image_features_tsne0)\n",
    "\n",
    "text_cat_image = torch.cat((text_features_tsne0, image_features_tsne0), dim=0)"
   ]
  },
  {
   "cell_type": "code",
   "execution_count": null,
   "id": "457970db",
   "metadata": {},
   "outputs": [],
   "source": [
    "original_labels = torch.cat(target_list).tolist() # one index per image, sorted\n",
    "unique_labels = list(set(original_labels))\n",
    "unique_labels.sort()\n",
    "\n",
    "# normalizing indexes for color balancing\n",
    "label_map = {old_label: new_label for new_label, old_label in enumerate(unique_labels)}\n",
    "normalized_labels = [label_map[label] for label in original_labels]  # images color indexes, sorted\n",
    "normalized_unique_labels = list(range(12))   # text color indexes, sorted\n",
    "\n",
    "shuffled_classes = normalized_unique_labels.copy() # text color indexes, shuffled\n",
    "random.seed(3)\n",
    "random.shuffle(shuffled_classes)\n",
    "\n",
    "shuffling_dic = {i: shuffled for i, shuffled in zip(normalized_unique_labels,shuffled_classes)}\n",
    "\n",
    "shuffled_colors = [shuffling_dic[i] for i in normalized_labels] # images color indexes, shuffled"
   ]
  },
  {
   "cell_type": "code",
   "execution_count": null,
   "id": "686ead1e",
   "metadata": {},
   "outputs": [],
   "source": [
    "class_names = ['Black_footed_Albatross',\n",
    "'Laysan_Albatross',\n",
    "'Crested_Auklet',\n",
    "'Yellow_headed_Blackbird',\n",
    "'Painted_Bunting',\n",
    "'Cardinal',\n",
    "'Gray_Catbird',\n",
    "'Northern_Flicker',\n",
    "'Frigatebird',\n",
    "'Northern_Fulmar',\n",
    "'Pine_Grosbeak',\n",
    "'Rufous_Hummingbird']"
   ]
  },
  {
   "cell_type": "code",
   "execution_count": null,
   "id": "863f87b3",
   "metadata": {},
   "outputs": [],
   "source": [
    "# t-SNE of the merged tensor\n",
    "\n",
    "tsne = TSNE(n_components=2, verbose=0, perplexity=40, max_iter=300)\n",
    "image_text_tsne = tsne.fit_transform(text_cat_image.to('cpu'))"
   ]
  },
  {
   "cell_type": "code",
   "execution_count": null,
   "id": "23751d22",
   "metadata": {},
   "outputs": [
    {
     "data": {
      "application/vnd.plotly.v1+json": {
       "config": {
        "plotlyServerURL": "https://plot.ly"
       },
       "data": [
        {
         "hoverinfo": "text",
         "hovertemplate": "%{text}<extra></extra>",
         "marker": {
          "color": [
           1,
           7,
           10,
           0,
           6,
           11,
           4,
           5,
           2,
           8,
           9,
           3
          ],
          "line": {
           "width": 0
          },
          "opacity": 0.7,
          "size": {
           "bdata": "Dw8PDw8PDw8PDw8P",
           "dtype": "i1"
          }
         },
         "mode": "markers",
         "name": "Detailed caption embeddings",
         "showlegend": true,
         "text": [
          "Black_footed_Albatross",
          "Laysan_Albatross",
          "Crested_Auklet",
          "Yellow_headed_Blackbird",
          "Painted_Bunting",
          "Cardinal",
          "Gray_Catbird",
          "Northern_Flicker",
          "Frigatebird",
          "Northern_Fulmar",
          "Pine_Grosbeak",
          "Rufous_Hummingbird"
         ],
         "type": "scatter",
         "x": {
          "bdata": "TEs3QFdzQkBO0y1A1YBlviIuQMDwMy0/6qmlQIdGoEBsjYpAiVgDQMPJ/T6GLqzA",
          "dtype": "f4"
         },
         "y": {
          "bdata": "I8puQH9YckD2WExAMt8zP1qchsDiB6TA5SBnwFn5nr+9WWFB6IcVQaNkqsB0mF/A",
          "dtype": "f4"
         }
        },
        {
         "hoverinfo": "text",
         "hovertemplate": "%{text}<extra></extra>",
         "marker": {
          "color": [
           1,
           1,
           1,
           1,
           1,
           1,
           1,
           1,
           1,
           1,
           1,
           1,
           1,
           1,
           1,
           1,
           1,
           1,
           1,
           1,
           1,
           1,
           1,
           1,
           1,
           1,
           1,
           1,
           1,
           1,
           7,
           7,
           7,
           7,
           7,
           7,
           7,
           7,
           7,
           7,
           7,
           7,
           7,
           7,
           7,
           7,
           7,
           7,
           7,
           7,
           7,
           7,
           7,
           7,
           7,
           7,
           7,
           7,
           7,
           7,
           10,
           10,
           10,
           10,
           10,
           10,
           10,
           10,
           10,
           10,
           10,
           10,
           10,
           10,
           10,
           10,
           10,
           10,
           10,
           10,
           10,
           10,
           0,
           0,
           0,
           0,
           0,
           0,
           0,
           0,
           0,
           0,
           0,
           0,
           0,
           0,
           0,
           0,
           0,
           0,
           0,
           0,
           0,
           0,
           0,
           0,
           0,
           0,
           0,
           0,
           6,
           6,
           6,
           6,
           6,
           6,
           6,
           6,
           6,
           6,
           6,
           6,
           6,
           6,
           6,
           6,
           6,
           6,
           6,
           6,
           6,
           6,
           6,
           6,
           6,
           6,
           6,
           6,
           6,
           11,
           11,
           11,
           11,
           11,
           11,
           11,
           11,
           11,
           11,
           11,
           11,
           11,
           11,
           11,
           11,
           11,
           11,
           11,
           11,
           11,
           11,
           11,
           11,
           11,
           11,
           11,
           11,
           11,
           4,
           4,
           4,
           4,
           4,
           4,
           4,
           4,
           4,
           4,
           4,
           4,
           4,
           4,
           4,
           4,
           4,
           4,
           4,
           4,
           4,
           4,
           4,
           4,
           4,
           4,
           4,
           4,
           4,
           4,
           5,
           5,
           5,
           5,
           5,
           5,
           5,
           5,
           5,
           5,
           5,
           5,
           5,
           5,
           5,
           5,
           5,
           5,
           5,
           5,
           5,
           5,
           5,
           5,
           5,
           5,
           5,
           5,
           5,
           5,
           2,
           2,
           2,
           2,
           2,
           2,
           2,
           2,
           2,
           2,
           2,
           2,
           2,
           2,
           2,
           2,
           2,
           2,
           2,
           2,
           2,
           2,
           2,
           2,
           2,
           2,
           2,
           2,
           2,
           2,
           8,
           8,
           8,
           8,
           8,
           8,
           8,
           8,
           8,
           8,
           8,
           8,
           8,
           8,
           8,
           8,
           8,
           8,
           8,
           8,
           8,
           8,
           8,
           8,
           8,
           8,
           8,
           8,
           8,
           8,
           9,
           9,
           9,
           9,
           9,
           9,
           9,
           9,
           9,
           9,
           9,
           9,
           9,
           9,
           9,
           9,
           9,
           9,
           9,
           9,
           9,
           9,
           9,
           9,
           9,
           9,
           9,
           9,
           9,
           9,
           3,
           3,
           3,
           3,
           3,
           3,
           3,
           3,
           3,
           3,
           3,
           3,
           3,
           3,
           3,
           3,
           3,
           3,
           3,
           3,
           3,
           3,
           3,
           3,
           3,
           3,
           3,
           3,
           3,
           3
          ],
          "line": {
           "width": 0
          },
          "opacity": 0.7,
          "size": {
           "bdata": "BQUFBQUFBQUFBQUFBQUFBQUFBQUFBQUFBQUFBQUFBQUFBQUFBQUFBQUFBQUFBQUFBQUFBQUFBQUFBQUFBQUFBQUFBQUFBQUFBQUFBQUFBQUFBQUFBQUFBQUFBQUFBQUFBQUFBQUFBQUFBQUFBQUFBQUFBQUFBQUFBQUFBQUFBQUFBQUFBQUFBQUFBQUFBQUFBQUFBQUFBQUFBQUFBQUFBQUFBQUFBQUFBQUFBQUFBQUFBQUFBQUFBQUFBQUFBQUFBQUFBQUFBQUFBQUFBQUFBQUFBQUFBQUFBQUFBQUFBQUFBQUFBQUFBQUFBQUFBQUFBQUFBQUFBQUFBQUFBQUFBQUFBQUFBQUFBQUFBQUFBQUFBQUFBQUFBQUFBQUFBQUFBQUFBQUFBQUFBQUFBQUFBQUFBQUFBQUFBQUFBQUFBQUFBQUFBQUFBQUFBQUFBQUFBQUFBQUFBQUFBQUF",
           "dtype": "i1"
          }
         },
         "mode": "markers",
         "name": "Image embeddings",
         "showlegend": true,
         "text": [
          "Black_footed_Albatross",
          "Black_footed_Albatross",
          "Black_footed_Albatross",
          "Black_footed_Albatross",
          "Black_footed_Albatross",
          "Black_footed_Albatross",
          "Black_footed_Albatross",
          "Black_footed_Albatross",
          "Black_footed_Albatross",
          "Black_footed_Albatross",
          "Black_footed_Albatross",
          "Black_footed_Albatross",
          "Black_footed_Albatross",
          "Black_footed_Albatross",
          "Black_footed_Albatross",
          "Black_footed_Albatross",
          "Black_footed_Albatross",
          "Black_footed_Albatross",
          "Black_footed_Albatross",
          "Black_footed_Albatross",
          "Black_footed_Albatross",
          "Black_footed_Albatross",
          "Black_footed_Albatross",
          "Black_footed_Albatross",
          "Black_footed_Albatross",
          "Black_footed_Albatross",
          "Black_footed_Albatross",
          "Black_footed_Albatross",
          "Black_footed_Albatross",
          "Black_footed_Albatross",
          "Laysan_Albatross",
          "Laysan_Albatross",
          "Laysan_Albatross",
          "Laysan_Albatross",
          "Laysan_Albatross",
          "Laysan_Albatross",
          "Laysan_Albatross",
          "Laysan_Albatross",
          "Laysan_Albatross",
          "Laysan_Albatross",
          "Laysan_Albatross",
          "Laysan_Albatross",
          "Laysan_Albatross",
          "Laysan_Albatross",
          "Laysan_Albatross",
          "Laysan_Albatross",
          "Laysan_Albatross",
          "Laysan_Albatross",
          "Laysan_Albatross",
          "Laysan_Albatross",
          "Laysan_Albatross",
          "Laysan_Albatross",
          "Laysan_Albatross",
          "Laysan_Albatross",
          "Laysan_Albatross",
          "Laysan_Albatross",
          "Laysan_Albatross",
          "Laysan_Albatross",
          "Laysan_Albatross",
          "Laysan_Albatross",
          "Crested_Auklet",
          "Crested_Auklet",
          "Crested_Auklet",
          "Crested_Auklet",
          "Crested_Auklet",
          "Crested_Auklet",
          "Crested_Auklet",
          "Crested_Auklet",
          "Crested_Auklet",
          "Crested_Auklet",
          "Crested_Auklet",
          "Crested_Auklet",
          "Crested_Auklet",
          "Crested_Auklet",
          "Crested_Auklet",
          "Crested_Auklet",
          "Crested_Auklet",
          "Crested_Auklet",
          "Crested_Auklet",
          "Crested_Auklet",
          "Crested_Auklet",
          "Crested_Auklet",
          "Yellow_headed_Blackbird",
          "Yellow_headed_Blackbird",
          "Yellow_headed_Blackbird",
          "Yellow_headed_Blackbird",
          "Yellow_headed_Blackbird",
          "Yellow_headed_Blackbird",
          "Yellow_headed_Blackbird",
          "Yellow_headed_Blackbird",
          "Yellow_headed_Blackbird",
          "Yellow_headed_Blackbird",
          "Yellow_headed_Blackbird",
          "Yellow_headed_Blackbird",
          "Yellow_headed_Blackbird",
          "Yellow_headed_Blackbird",
          "Yellow_headed_Blackbird",
          "Yellow_headed_Blackbird",
          "Yellow_headed_Blackbird",
          "Yellow_headed_Blackbird",
          "Yellow_headed_Blackbird",
          "Yellow_headed_Blackbird",
          "Yellow_headed_Blackbird",
          "Yellow_headed_Blackbird",
          "Yellow_headed_Blackbird",
          "Yellow_headed_Blackbird",
          "Yellow_headed_Blackbird",
          "Yellow_headed_Blackbird",
          "Yellow_headed_Blackbird",
          "Yellow_headed_Blackbird",
          "Painted_Bunting",
          "Painted_Bunting",
          "Painted_Bunting",
          "Painted_Bunting",
          "Painted_Bunting",
          "Painted_Bunting",
          "Painted_Bunting",
          "Painted_Bunting",
          "Painted_Bunting",
          "Painted_Bunting",
          "Painted_Bunting",
          "Painted_Bunting",
          "Painted_Bunting",
          "Painted_Bunting",
          "Painted_Bunting",
          "Painted_Bunting",
          "Painted_Bunting",
          "Painted_Bunting",
          "Painted_Bunting",
          "Painted_Bunting",
          "Painted_Bunting",
          "Painted_Bunting",
          "Painted_Bunting",
          "Painted_Bunting",
          "Painted_Bunting",
          "Painted_Bunting",
          "Painted_Bunting",
          "Painted_Bunting",
          "Painted_Bunting",
          "Cardinal",
          "Cardinal",
          "Cardinal",
          "Cardinal",
          "Cardinal",
          "Cardinal",
          "Cardinal",
          "Cardinal",
          "Cardinal",
          "Cardinal",
          "Cardinal",
          "Cardinal",
          "Cardinal",
          "Cardinal",
          "Cardinal",
          "Cardinal",
          "Cardinal",
          "Cardinal",
          "Cardinal",
          "Cardinal",
          "Cardinal",
          "Cardinal",
          "Cardinal",
          "Cardinal",
          "Cardinal",
          "Cardinal",
          "Cardinal",
          "Cardinal",
          "Cardinal",
          "Gray_Catbird",
          "Gray_Catbird",
          "Gray_Catbird",
          "Gray_Catbird",
          "Gray_Catbird",
          "Gray_Catbird",
          "Gray_Catbird",
          "Gray_Catbird",
          "Gray_Catbird",
          "Gray_Catbird",
          "Gray_Catbird",
          "Gray_Catbird",
          "Gray_Catbird",
          "Gray_Catbird",
          "Gray_Catbird",
          "Gray_Catbird",
          "Gray_Catbird",
          "Gray_Catbird",
          "Gray_Catbird",
          "Gray_Catbird",
          "Gray_Catbird",
          "Gray_Catbird",
          "Gray_Catbird",
          "Gray_Catbird",
          "Gray_Catbird",
          "Gray_Catbird",
          "Gray_Catbird",
          "Gray_Catbird",
          "Gray_Catbird",
          "Gray_Catbird",
          "Northern_Flicker",
          "Northern_Flicker",
          "Northern_Flicker",
          "Northern_Flicker",
          "Northern_Flicker",
          "Northern_Flicker",
          "Northern_Flicker",
          "Northern_Flicker",
          "Northern_Flicker",
          "Northern_Flicker",
          "Northern_Flicker",
          "Northern_Flicker",
          "Northern_Flicker",
          "Northern_Flicker",
          "Northern_Flicker",
          "Northern_Flicker",
          "Northern_Flicker",
          "Northern_Flicker",
          "Northern_Flicker",
          "Northern_Flicker",
          "Northern_Flicker",
          "Northern_Flicker",
          "Northern_Flicker",
          "Northern_Flicker",
          "Northern_Flicker",
          "Northern_Flicker",
          "Northern_Flicker",
          "Northern_Flicker",
          "Northern_Flicker",
          "Northern_Flicker",
          "Frigatebird",
          "Frigatebird",
          "Frigatebird",
          "Frigatebird",
          "Frigatebird",
          "Frigatebird",
          "Frigatebird",
          "Frigatebird",
          "Frigatebird",
          "Frigatebird",
          "Frigatebird",
          "Frigatebird",
          "Frigatebird",
          "Frigatebird",
          "Frigatebird",
          "Frigatebird",
          "Frigatebird",
          "Frigatebird",
          "Frigatebird",
          "Frigatebird",
          "Frigatebird",
          "Frigatebird",
          "Frigatebird",
          "Frigatebird",
          "Frigatebird",
          "Frigatebird",
          "Frigatebird",
          "Frigatebird",
          "Frigatebird",
          "Frigatebird",
          "Northern_Fulmar",
          "Northern_Fulmar",
          "Northern_Fulmar",
          "Northern_Fulmar",
          "Northern_Fulmar",
          "Northern_Fulmar",
          "Northern_Fulmar",
          "Northern_Fulmar",
          "Northern_Fulmar",
          "Northern_Fulmar",
          "Northern_Fulmar",
          "Northern_Fulmar",
          "Northern_Fulmar",
          "Northern_Fulmar",
          "Northern_Fulmar",
          "Northern_Fulmar",
          "Northern_Fulmar",
          "Northern_Fulmar",
          "Northern_Fulmar",
          "Northern_Fulmar",
          "Northern_Fulmar",
          "Northern_Fulmar",
          "Northern_Fulmar",
          "Northern_Fulmar",
          "Northern_Fulmar",
          "Northern_Fulmar",
          "Northern_Fulmar",
          "Northern_Fulmar",
          "Northern_Fulmar",
          "Northern_Fulmar",
          "Pine_Grosbeak",
          "Pine_Grosbeak",
          "Pine_Grosbeak",
          "Pine_Grosbeak",
          "Pine_Grosbeak",
          "Pine_Grosbeak",
          "Pine_Grosbeak",
          "Pine_Grosbeak",
          "Pine_Grosbeak",
          "Pine_Grosbeak",
          "Pine_Grosbeak",
          "Pine_Grosbeak",
          "Pine_Grosbeak",
          "Pine_Grosbeak",
          "Pine_Grosbeak",
          "Pine_Grosbeak",
          "Pine_Grosbeak",
          "Pine_Grosbeak",
          "Pine_Grosbeak",
          "Pine_Grosbeak",
          "Pine_Grosbeak",
          "Pine_Grosbeak",
          "Pine_Grosbeak",
          "Pine_Grosbeak",
          "Pine_Grosbeak",
          "Pine_Grosbeak",
          "Pine_Grosbeak",
          "Pine_Grosbeak",
          "Pine_Grosbeak",
          "Pine_Grosbeak",
          "Rufous_Hummingbird",
          "Rufous_Hummingbird",
          "Rufous_Hummingbird",
          "Rufous_Hummingbird",
          "Rufous_Hummingbird",
          "Rufous_Hummingbird",
          "Rufous_Hummingbird",
          "Rufous_Hummingbird",
          "Rufous_Hummingbird",
          "Rufous_Hummingbird",
          "Rufous_Hummingbird",
          "Rufous_Hummingbird",
          "Rufous_Hummingbird",
          "Rufous_Hummingbird",
          "Rufous_Hummingbird",
          "Rufous_Hummingbird",
          "Rufous_Hummingbird",
          "Rufous_Hummingbird",
          "Rufous_Hummingbird",
          "Rufous_Hummingbird",
          "Rufous_Hummingbird",
          "Rufous_Hummingbird",
          "Rufous_Hummingbird",
          "Rufous_Hummingbird",
          "Rufous_Hummingbird",
          "Rufous_Hummingbird",
          "Rufous_Hummingbird",
          "Rufous_Hummingbird",
          "Rufous_Hummingbird",
          "Rufous_Hummingbird"
         ],
         "type": "scatter",
         "x": {
          "bdata": "QuY9QIOahL7ZZ09AuvAgQDQxckAaXDpAgZVXQJ+Xcz/dmEhAYT4UQBJ2gr36Pfg/MWGAQN4PaUAjaF5AmNpJvilQBz5MEhBAr02+Pn7tFD20PZFAniMRQDDzBUAj/EhAMR0hP+q9yD5YaAhAG6FHQOErlkDc1PI/g0lXQHFkCEARWP0/s3g+QLqPakDC745ADVmqQBjqqEAUHs0/SxflPxOw/T8C4ndA2Sgvv8KybUAIyqE/lpqdQIbaBEAT2Z5AtUoVQHKqZUA6vxZA/wMqQO9w+j9DSaxAAiZ6QMznFkDn5QlAQE+dQBd9oUAQKQBA4KLxvujMVD4mDAA/kJWEPszm3D9fCNs+iAYgPpfClz+ILBO/q7i+P0tBmD/gMYc+nsrtv6kxrb0ccHE/hCGlP493Az+wSnG/1/klv8HR5L/pzfE/+1VdvxYRqL/C8O6/UP1Zv7Spk7722FLATyMQv4Bxpb+7N0i/cMkJvxpdPr+9CuG/Gpzrv/cWEcBSds6/y16jPdWmn78Z5xi/7SSmvi0xL78eIFrAl1+sv1mTN8C1OwvAxx5pv6xI+78WAKm/6vxjvyDfnj7kSkDAsIsAwF8FEcDKGBXASH8BwI2PBMDAtQbA5sFcwP6wmcAWDnvAvc+KwL2GVsClBke/AU15v/RhIcCjuEbAm7KLwNZsRsCFDy3AbWZAwFuITcAGZkrAv+UtwLQXvr9kjkfAy0QWwE+1h8A/cxnAKLjEvxk9KL/J65y+S0d2v88Ky7/aYJu74Tu9vvY0sr+nVfG+bsYuwC5JFr8AgWC/uMgjwOOPyL/Hwj6/zuFivw5tGsAmbbK/4dK3v7m2fsDgJyDANIiDv9tBIb5HABTA2a43v0VTuL7jhvm++Tq8v7rvCcAOeqy/hH6WQDQdUkC3VXJATQqAQFQMNkAoAFJA/0eLQGDjMkA5wYxABJEvQAOIZkDR13BAZ8l6QAnmYkByjltAnaNqQAXWS0B8dTRAfh4oQB9JcED7sz5Ax25aQNjWB0BcflFA9WpZQNdzSUCy4o5AaHCAQHf6wz8vw3hAyMX4wLyZwMD7B9TADJnWwGcV+sBK08/AQALowOKE28AJ/cPA5zbywOBo6sBhgubAVSnzwPP248CSB8XAP8rhwK4MrMBVv+jAUDe/wDqH/sDmLNvAslDKwLY/7cA+9/zAxSrYwKXq5MBls6/AYAf0wOR+28BXx/nAAXuwQP67V0CwQT5A6HazQIVUukCeanA9Wm3CQBdLqUBdMaxAa+DHQECtx0DV6UY/EDKmQJGmcr/KFylAdqysPyMphj4+RbRAZBa+Pq38KD9fbbtATizuPXWXA0BBUtNAhcu9vS07hT3mLLW+n4WzQADyQUApFr9AiXNJQPxLdEBNNSC/5waMQHtdBEBtVOs/J2qDv2lTWEC9Pcw/6xORv1nWqkBKsnVAk47IP+5QIkCcayNAesldQDRpzj+vGhi/NhqsP1N3JUA3KGtAtG4NQIS0kECSYzy/AUn1vpuQfED+kk9ALnEjQN8SvT9KWj9AEvplP+qPl76bmC4/hIfpvz7NsL953EVAdO6/P4T7QT+MVWM/IDr2Pyjslz9gG6o/X6UvP9JGFD9s5E6+14EHPixvxr5lNGo/HfmFP0edYb5MyIu+PCWSvnKCmj+9y+s/UBSMv6neBUALB5o/lu6dP9FcfT/Yp6Q/EChFwLYFR8DB5lbAML9pwHpSjsBHunLAKcGKwEbSoMDC427AIjdywMggisBtqoDA/nmIwNwKZ8CVEYvA4FtbwNcuHcC1TW7AFT6OwJhOcsD86qDAy9KBwMJxgcAFZp3AaelbwOKQksB+L3XAfauRwLRGh8BMBGrA",
          "dtype": "f4"
         },
         "y": {
          "bdata": "9Lw9Qb8KNkElzVNBHNFOQXfHL0FCrzZBOkA5Qf3j6kAlistAmDVYQfe7N0HrrlBBZOQ7QQ6r60DzTIdAMBs+Qe8dNkFJfkJBtgU3Qcz2OEGlNg5BQ4JIQbPZR0HefkxBx6wmQbcoO0FNOE5BjLY7QYtYMUFqyz1B3KhNQf+r5EATJuBAoN1IQcwb4kA0LDZBRw+6QN79vUDqoOFAUyPeQD7q1kAjY05BvPslQRJf4kBbKT9BqMomQSTNuUAP7iZBBbjsQGD94ECY8UVBQepEQUMY2kAeerxA+51PQZygP0FXUahAWeIiQXFiIEGnSOVAeIdkQPWvREAptE1AxVQvQCEgf0DDPUNARiNmQDMCS0A5T1xAjyYzQKMxN0AwIE9ANahvQLA2UEB95UtAPJlGQINDY0D4ADtBtjaAQBuxcUAMEktBe4ZNQKRfAT1Q6h4+gwbuvQWr1r4RqMbAfwgdv29BgT5/fnW/kXvRvggEKT/AIRO//2oIPhA29D4jo1u+BjJ1Pin2nT4EsSw9Y6uAvit/3z7ld78/K9SavYYhuz3F0J09vuFYv/coEz1cMiU+eHyYv2EyG7+F4eDAgkxxwOuJBcBR9SjA0IBVwIv4ccDxbkzAzrYPwHaR/b/QYAfAwgpzwJCxBr8c84HAO0I7wMfSV8DfVxPA4k1xwHyARcC8X7XACINmwFSmKcAm8hrAgjylwAFWWsDxZyXAy15jwP3NJ8AvQB3AeZdbwHnaoMCjg/LAhJuhwO1bu8DbSpjAaibSwNq7ncChgdfAOf/GwILQAcGojKfAPIXRwN/nzsB/BcnAd23ZwNw/1sBG9sTAiROnwIsoscCgu+DAZLfMwMzI1MCf49LAFnPAwEzqucAldufACUPAwJMO4cBpL8nAIKU7wGM6LcDmtATAduy3vyjol8DMVYHAgmxEwCEGacBYMArAKHb5v2xwgMCFBm/AmtdGwMiBE8DEExjAaNlnwIdsKsCvrEDAAIAhwBM+DcBRjJDAOwiRv65WOMBLIxHAROEmwH0ujMA1IuK/rr2BwNe8PcCbaR3AoYj8wORt+8DpkO/AHS7swDVPv8D9ZLXAR77YwHu74cD9i7DAi8fBwAw/9cDqwN7AFDPMwJ17ssA7LePAA8zcwPWN3sBSdrXAiuX3wJJuwMA67uDAD2SrwMou7sAZY73At9rswNQvw8A+zCjBj3aswJ3V5MBC+d/AxzA3QbMSp0CXYV9BBEMrQTMnMUGQHr9AeiIxQV2eRkHntCpBOoAsQVysJkEWDK9AJ3Y0QTtDwEDkPrhAVeOvQAgAu0DO4SRB7lK3QJL3tUB5ujlBdGu5QI/+ukCpIy9BrHy3QOCHuUCy8K5ADN0+QaZtsUCmcyRBgC4nQSk/REFbSClBHr0wQeDHSUEUeFJBoIUfQYoFL0G28AdBZH0WQUAkR0EnGhxBUqwEQTGpIkFlIihBOgMaQUtqNUFGKylBZkoKQeowNUGudSRBBcz3QN//ikAzNSNB1sMqQatfG0H3SDZBNZstQfwGDEFRDCZBpegOweIFCsE9AOXAW47uwEXlBcG/86fAjdgFwXls18BUYdDAQLILwXbA/sA/mBfBhZK/wPz9+MDDyQnBHmoOwfQr7cBXuQTBaOIAwSDGGcFoixPBOocQwRzjDcGDMujAUIDzwOYR/sDhUvzA4p8EwVJE28CfhQbB4NFPwQerUcE79jvBCEJFwQvDRMEsCU/B8Mw4wTIFNMEiAj7BGIBHwYTEScFjT1fB9TBPwRR/TsECm1zBDXFMwXs5ScEjUj/BJhFTwcWLSsEJhkXBD6dRwRpxR8HC+j/ByqQ8wSNtQMHV9EvBQRVSwcLxScFe20TB",
          "dtype": "f4"
         }
        }
       ],
       "layout": {
        "legend": {
         "bgcolor": "rgba(255,255,255,0.8)",
         "bordercolor": "black",
         "borderwidth": 1,
         "title": {
          "text": "Types de données"
         },
         "x": 0.01,
         "y": 0.99
        },
        "template": {
         "data": {
          "bar": [
           {
            "error_x": {
             "color": "#2a3f5f"
            },
            "error_y": {
             "color": "#2a3f5f"
            },
            "marker": {
             "line": {
              "color": "#E5ECF6",
              "width": 0.5
             },
             "pattern": {
              "fillmode": "overlay",
              "size": 10,
              "solidity": 0.2
             }
            },
            "type": "bar"
           }
          ],
          "barpolar": [
           {
            "marker": {
             "line": {
              "color": "#E5ECF6",
              "width": 0.5
             },
             "pattern": {
              "fillmode": "overlay",
              "size": 10,
              "solidity": 0.2
             }
            },
            "type": "barpolar"
           }
          ],
          "carpet": [
           {
            "aaxis": {
             "endlinecolor": "#2a3f5f",
             "gridcolor": "white",
             "linecolor": "white",
             "minorgridcolor": "white",
             "startlinecolor": "#2a3f5f"
            },
            "baxis": {
             "endlinecolor": "#2a3f5f",
             "gridcolor": "white",
             "linecolor": "white",
             "minorgridcolor": "white",
             "startlinecolor": "#2a3f5f"
            },
            "type": "carpet"
           }
          ],
          "choropleth": [
           {
            "colorbar": {
             "outlinewidth": 0,
             "ticks": ""
            },
            "type": "choropleth"
           }
          ],
          "contour": [
           {
            "colorbar": {
             "outlinewidth": 0,
             "ticks": ""
            },
            "colorscale": [
             [
              0,
              "#0d0887"
             ],
             [
              0.1111111111111111,
              "#46039f"
             ],
             [
              0.2222222222222222,
              "#7201a8"
             ],
             [
              0.3333333333333333,
              "#9c179e"
             ],
             [
              0.4444444444444444,
              "#bd3786"
             ],
             [
              0.5555555555555556,
              "#d8576b"
             ],
             [
              0.6666666666666666,
              "#ed7953"
             ],
             [
              0.7777777777777778,
              "#fb9f3a"
             ],
             [
              0.8888888888888888,
              "#fdca26"
             ],
             [
              1,
              "#f0f921"
             ]
            ],
            "type": "contour"
           }
          ],
          "contourcarpet": [
           {
            "colorbar": {
             "outlinewidth": 0,
             "ticks": ""
            },
            "type": "contourcarpet"
           }
          ],
          "heatmap": [
           {
            "colorbar": {
             "outlinewidth": 0,
             "ticks": ""
            },
            "colorscale": [
             [
              0,
              "#0d0887"
             ],
             [
              0.1111111111111111,
              "#46039f"
             ],
             [
              0.2222222222222222,
              "#7201a8"
             ],
             [
              0.3333333333333333,
              "#9c179e"
             ],
             [
              0.4444444444444444,
              "#bd3786"
             ],
             [
              0.5555555555555556,
              "#d8576b"
             ],
             [
              0.6666666666666666,
              "#ed7953"
             ],
             [
              0.7777777777777778,
              "#fb9f3a"
             ],
             [
              0.8888888888888888,
              "#fdca26"
             ],
             [
              1,
              "#f0f921"
             ]
            ],
            "type": "heatmap"
           }
          ],
          "histogram": [
           {
            "marker": {
             "pattern": {
              "fillmode": "overlay",
              "size": 10,
              "solidity": 0.2
             }
            },
            "type": "histogram"
           }
          ],
          "histogram2d": [
           {
            "colorbar": {
             "outlinewidth": 0,
             "ticks": ""
            },
            "colorscale": [
             [
              0,
              "#0d0887"
             ],
             [
              0.1111111111111111,
              "#46039f"
             ],
             [
              0.2222222222222222,
              "#7201a8"
             ],
             [
              0.3333333333333333,
              "#9c179e"
             ],
             [
              0.4444444444444444,
              "#bd3786"
             ],
             [
              0.5555555555555556,
              "#d8576b"
             ],
             [
              0.6666666666666666,
              "#ed7953"
             ],
             [
              0.7777777777777778,
              "#fb9f3a"
             ],
             [
              0.8888888888888888,
              "#fdca26"
             ],
             [
              1,
              "#f0f921"
             ]
            ],
            "type": "histogram2d"
           }
          ],
          "histogram2dcontour": [
           {
            "colorbar": {
             "outlinewidth": 0,
             "ticks": ""
            },
            "colorscale": [
             [
              0,
              "#0d0887"
             ],
             [
              0.1111111111111111,
              "#46039f"
             ],
             [
              0.2222222222222222,
              "#7201a8"
             ],
             [
              0.3333333333333333,
              "#9c179e"
             ],
             [
              0.4444444444444444,
              "#bd3786"
             ],
             [
              0.5555555555555556,
              "#d8576b"
             ],
             [
              0.6666666666666666,
              "#ed7953"
             ],
             [
              0.7777777777777778,
              "#fb9f3a"
             ],
             [
              0.8888888888888888,
              "#fdca26"
             ],
             [
              1,
              "#f0f921"
             ]
            ],
            "type": "histogram2dcontour"
           }
          ],
          "mesh3d": [
           {
            "colorbar": {
             "outlinewidth": 0,
             "ticks": ""
            },
            "type": "mesh3d"
           }
          ],
          "parcoords": [
           {
            "line": {
             "colorbar": {
              "outlinewidth": 0,
              "ticks": ""
             }
            },
            "type": "parcoords"
           }
          ],
          "pie": [
           {
            "automargin": true,
            "type": "pie"
           }
          ],
          "scatter": [
           {
            "fillpattern": {
             "fillmode": "overlay",
             "size": 10,
             "solidity": 0.2
            },
            "type": "scatter"
           }
          ],
          "scatter3d": [
           {
            "line": {
             "colorbar": {
              "outlinewidth": 0,
              "ticks": ""
             }
            },
            "marker": {
             "colorbar": {
              "outlinewidth": 0,
              "ticks": ""
             }
            },
            "type": "scatter3d"
           }
          ],
          "scattercarpet": [
           {
            "marker": {
             "colorbar": {
              "outlinewidth": 0,
              "ticks": ""
             }
            },
            "type": "scattercarpet"
           }
          ],
          "scattergeo": [
           {
            "marker": {
             "colorbar": {
              "outlinewidth": 0,
              "ticks": ""
             }
            },
            "type": "scattergeo"
           }
          ],
          "scattergl": [
           {
            "marker": {
             "colorbar": {
              "outlinewidth": 0,
              "ticks": ""
             }
            },
            "type": "scattergl"
           }
          ],
          "scattermap": [
           {
            "marker": {
             "colorbar": {
              "outlinewidth": 0,
              "ticks": ""
             }
            },
            "type": "scattermap"
           }
          ],
          "scattermapbox": [
           {
            "marker": {
             "colorbar": {
              "outlinewidth": 0,
              "ticks": ""
             }
            },
            "type": "scattermapbox"
           }
          ],
          "scatterpolar": [
           {
            "marker": {
             "colorbar": {
              "outlinewidth": 0,
              "ticks": ""
             }
            },
            "type": "scatterpolar"
           }
          ],
          "scatterpolargl": [
           {
            "marker": {
             "colorbar": {
              "outlinewidth": 0,
              "ticks": ""
             }
            },
            "type": "scatterpolargl"
           }
          ],
          "scatterternary": [
           {
            "marker": {
             "colorbar": {
              "outlinewidth": 0,
              "ticks": ""
             }
            },
            "type": "scatterternary"
           }
          ],
          "surface": [
           {
            "colorbar": {
             "outlinewidth": 0,
             "ticks": ""
            },
            "colorscale": [
             [
              0,
              "#0d0887"
             ],
             [
              0.1111111111111111,
              "#46039f"
             ],
             [
              0.2222222222222222,
              "#7201a8"
             ],
             [
              0.3333333333333333,
              "#9c179e"
             ],
             [
              0.4444444444444444,
              "#bd3786"
             ],
             [
              0.5555555555555556,
              "#d8576b"
             ],
             [
              0.6666666666666666,
              "#ed7953"
             ],
             [
              0.7777777777777778,
              "#fb9f3a"
             ],
             [
              0.8888888888888888,
              "#fdca26"
             ],
             [
              1,
              "#f0f921"
             ]
            ],
            "type": "surface"
           }
          ],
          "table": [
           {
            "cells": {
             "fill": {
              "color": "#EBF0F8"
             },
             "line": {
              "color": "white"
             }
            },
            "header": {
             "fill": {
              "color": "#C8D4E3"
             },
             "line": {
              "color": "white"
             }
            },
            "type": "table"
           }
          ]
         },
         "layout": {
          "annotationdefaults": {
           "arrowcolor": "#2a3f5f",
           "arrowhead": 0,
           "arrowwidth": 1
          },
          "autotypenumbers": "strict",
          "coloraxis": {
           "colorbar": {
            "outlinewidth": 0,
            "ticks": ""
           }
          },
          "colorscale": {
           "diverging": [
            [
             0,
             "#8e0152"
            ],
            [
             0.1,
             "#c51b7d"
            ],
            [
             0.2,
             "#de77ae"
            ],
            [
             0.3,
             "#f1b6da"
            ],
            [
             0.4,
             "#fde0ef"
            ],
            [
             0.5,
             "#f7f7f7"
            ],
            [
             0.6,
             "#e6f5d0"
            ],
            [
             0.7,
             "#b8e186"
            ],
            [
             0.8,
             "#7fbc41"
            ],
            [
             0.9,
             "#4d9221"
            ],
            [
             1,
             "#276419"
            ]
           ],
           "sequential": [
            [
             0,
             "#0d0887"
            ],
            [
             0.1111111111111111,
             "#46039f"
            ],
            [
             0.2222222222222222,
             "#7201a8"
            ],
            [
             0.3333333333333333,
             "#9c179e"
            ],
            [
             0.4444444444444444,
             "#bd3786"
            ],
            [
             0.5555555555555556,
             "#d8576b"
            ],
            [
             0.6666666666666666,
             "#ed7953"
            ],
            [
             0.7777777777777778,
             "#fb9f3a"
            ],
            [
             0.8888888888888888,
             "#fdca26"
            ],
            [
             1,
             "#f0f921"
            ]
           ],
           "sequentialminus": [
            [
             0,
             "#0d0887"
            ],
            [
             0.1111111111111111,
             "#46039f"
            ],
            [
             0.2222222222222222,
             "#7201a8"
            ],
            [
             0.3333333333333333,
             "#9c179e"
            ],
            [
             0.4444444444444444,
             "#bd3786"
            ],
            [
             0.5555555555555556,
             "#d8576b"
            ],
            [
             0.6666666666666666,
             "#ed7953"
            ],
            [
             0.7777777777777778,
             "#fb9f3a"
            ],
            [
             0.8888888888888888,
             "#fdca26"
            ],
            [
             1,
             "#f0f921"
            ]
           ]
          },
          "colorway": [
           "#636efa",
           "#EF553B",
           "#00cc96",
           "#ab63fa",
           "#FFA15A",
           "#19d3f3",
           "#FF6692",
           "#B6E880",
           "#FF97FF",
           "#FECB52"
          ],
          "font": {
           "color": "#2a3f5f"
          },
          "geo": {
           "bgcolor": "white",
           "lakecolor": "white",
           "landcolor": "#E5ECF6",
           "showlakes": true,
           "showland": true,
           "subunitcolor": "white"
          },
          "hoverlabel": {
           "align": "left"
          },
          "hovermode": "closest",
          "mapbox": {
           "style": "light"
          },
          "paper_bgcolor": "white",
          "plot_bgcolor": "#E5ECF6",
          "polar": {
           "angularaxis": {
            "gridcolor": "white",
            "linecolor": "white",
            "ticks": ""
           },
           "bgcolor": "#E5ECF6",
           "radialaxis": {
            "gridcolor": "white",
            "linecolor": "white",
            "ticks": ""
           }
          },
          "scene": {
           "xaxis": {
            "backgroundcolor": "#E5ECF6",
            "gridcolor": "white",
            "gridwidth": 2,
            "linecolor": "white",
            "showbackground": true,
            "ticks": "",
            "zerolinecolor": "white"
           },
           "yaxis": {
            "backgroundcolor": "#E5ECF6",
            "gridcolor": "white",
            "gridwidth": 2,
            "linecolor": "white",
            "showbackground": true,
            "ticks": "",
            "zerolinecolor": "white"
           },
           "zaxis": {
            "backgroundcolor": "#E5ECF6",
            "gridcolor": "white",
            "gridwidth": 2,
            "linecolor": "white",
            "showbackground": true,
            "ticks": "",
            "zerolinecolor": "white"
           }
          },
          "shapedefaults": {
           "line": {
            "color": "#2a3f5f"
           }
          },
          "ternary": {
           "aaxis": {
            "gridcolor": "white",
            "linecolor": "white",
            "ticks": ""
           },
           "baxis": {
            "gridcolor": "white",
            "linecolor": "white",
            "ticks": ""
           },
           "bgcolor": "#E5ECF6",
           "caxis": {
            "gridcolor": "white",
            "linecolor": "white",
            "ticks": ""
           }
          },
          "title": {
           "x": 0.05
          },
          "xaxis": {
           "automargin": true,
           "gridcolor": "white",
           "linecolor": "white",
           "ticks": "",
           "title": {
            "standoff": 15
           },
           "zerolinecolor": "white",
           "zerolinewidth": 2
          },
          "yaxis": {
           "automargin": true,
           "gridcolor": "white",
           "linecolor": "white",
           "ticks": "",
           "title": {
            "standoff": 15
           },
           "zerolinecolor": "white",
           "zerolinewidth": 2
          }
         }
        }
       }
      }
     },
     "metadata": {},
     "output_type": "display_data"
    }
   ],
   "source": [
    "sizes = np.array([15 if i < 12 else 5 for i in range(len(image_text_tsne))])\n",
    "\n",
    "image_hover_list = [[class_names[i] for _ in range(img_counts[i])] for i in range(12)]\n",
    "flatten_image_hover_list = [name for sublist in class_names for name in sublist]\n",
    "\n",
    "fig = go.Figure()\n",
    "\n",
    "fig.add_trace(go.Scatter(\n",
    "    x=image_text_tsne[:12, 0],\n",
    "    y=image_text_tsne[:12, 1],\n",
    "    mode='markers',\n",
    "    name='Detailed caption embeddings',\n",
    "    text = class_names,\n",
    "    hoverinfo='text',\n",
    "    hovertemplate='%{text}<extra></extra>',\n",
    "    marker=dict(\n",
    "        size=sizes[:12],\n",
    "        color=shuffled_classes,\n",
    "        opacity=0.7,\n",
    "        line=dict(width=0)\n",
    "    ),\n",
    "    showlegend=True\n",
    "))\n",
    "\n",
    "fig.add_trace(go.Scatter(\n",
    "    x=image_text_tsne[12:, 0],\n",
    "    y=image_text_tsne[12:, 1],\n",
    "    mode='markers',\n",
    "    name='Image embeddings',\n",
    "    text = flatten_image_hover_list,\n",
    "    hoverinfo='text',\n",
    "    hovertemplate='%{text}<extra></extra>',    \n",
    "    marker=dict(\n",
    "        size=sizes[12:],\n",
    "        color=shuffled_colors,\n",
    "        opacity=0.7,\n",
    "        line=dict(width=0)\n",
    "    ),\n",
    "    showlegend=True\n",
    "))\n",
    "\n",
    "\n",
    "fig.update_layout(\n",
    "legend=dict(\n",
    "    title='Types de données',\n",
    "    x=0.01,\n",
    "    y=0.99,\n",
    "    bgcolor='rgba(255,255,255,0.8)',\n",
    "    bordercolor='black',\n",
    "    borderwidth=1\n",
    "    )\n",
    ")\n",
    "\n",
    "fig.update_traces(\n",
    "    \n",
    "    marker=dict(\n",
    "                              line=dict(width=0,\n",
    "                                        )\n",
    "                  ))\n",
    "\n",
    "path='/home/onyxia/work/DetailCLIP/images/text + image/image.png'\n",
    "fig.write_image(path, format='png', engine='kaleido')\n",
    "fig.show()\n",
    "\n"
   ]
  },
  {
   "cell_type": "code",
   "execution_count": null,
   "id": "50b06561",
   "metadata": {},
   "outputs": [],
   "source": [
    "def accuracy(output, target, topk=(1,)):\n",
    "    \"\"\"Computes the accuracy over the k top predictions for the specified values of k\"\"\"\n",
    "    with torch.no_grad():\n",
    "        maxk = max(topk)\n",
    "        batch_size = target.size(0)\n",
    "\n",
    "        _, pred = output.topk(maxk, 1, True, True)\n",
    "        pred = pred.t()\n",
    "        correct = pred.eq(target.reshape(1, -1).expand_as(pred))\n",
    "\n",
    "        res = []\n",
    "        for k in topk:\n",
    "            correct_k = correct[:k].reshape(-1).float().sum(0, keepdim=True)\n",
    "            res.append(correct_k.mul_(100.0 / batch_size))\n",
    "        return res"
   ]
  },
  {
   "cell_type": "code",
   "execution_count": null,
   "id": "fa185c2c",
   "metadata": {},
   "outputs": [],
   "source": [
    "# Classification\n",
    "\n",
    "logits_per_image = image_features @ text_features.t()\n",
    "\n",
    "pred = logits_per_image.argmax(dim=1)\n",
    "correct = pred.eq(target).sum()\n",
    "total_top1 += correct.item()\n",
    "total_images += images.size(0)"
   ]
  }
 ],
 "metadata": {
  "kernelspec": {
   "display_name": "Python 3",
   "language": "python",
   "name": "python3"
  },
  "language_info": {
   "codemirror_mode": {
    "name": "ipython",
    "version": 3
   },
   "file_extension": ".py",
   "mimetype": "text/x-python",
   "name": "python",
   "nbconvert_exporter": "python",
   "pygments_lexer": "ipython3",
   "version": "3.12.9"
  }
 },
 "nbformat": 4,
 "nbformat_minor": 5
}
