{
 "cells": [
  {
   "cell_type": "code",
   "execution_count": 1,
   "id": "ee039af4",
   "metadata": {},
   "outputs": [
    {
     "name": "stderr",
     "output_type": "stream",
     "text": [
      "/usr/local/lib/python3.12/site-packages/tqdm/auto.py:21: TqdmWarning: IProgress not found. Please update jupyter and ipywidgets. See https://ipywidgets.readthedocs.io/en/stable/user_install.html\n",
      "  from .autonotebook import tqdm as notebook_tqdm\n"
     ]
    }
   ],
   "source": [
    "from sklearn.decomposition import PCA\n",
    "from sklearn.manifold import TSNE\n",
    "import models\n",
    "import torch\n",
    "from collections import OrderedDict\n",
    "import json\n",
    "import os\n",
    "import torchvision.transforms as transforms\n",
    "from tokenizer import SimpleTokenizer\n",
    "import datasets\n",
    "import utils\n",
    "import matplotlib.pyplot as plt\n",
    "import seaborn as sns\n",
    "import pandas as pd\n",
    "import numpy as np\n",
    "import plotly.express as px\n",
    "import plotly.colors as pc\n",
    "import plotly.io as pio\n",
    "import random\n",
    "import kaleido\n",
    "import plotly.graph_objects as go\n",
    "from sklearn.preprocessing import StandardScaler"
   ]
  },
  {
   "cell_type": "code",
   "execution_count": 2,
   "id": "cd27b204",
   "metadata": {},
   "outputs": [
    {
     "name": "stdout",
     "output_type": "stream",
     "text": [
      "\tCreating MAE projection head\n",
      "\tMAE projection head created\n",
      "\tCreating IBOT projection head\n"
     ]
    },
    {
     "name": "stderr",
     "output_type": "stream",
     "text": [
      "/usr/local/lib/python3.12/site-packages/torch/nn/utils/weight_norm.py:143: FutureWarning: `torch.nn.utils.weight_norm` is deprecated in favor of `torch.nn.utils.parametrizations.weight_norm`.\n",
      "  WeightNorm.apply(module, name, dim)\n"
     ]
    },
    {
     "name": "stdout",
     "output_type": "stream",
     "text": [
      "\tkeys have been loaded for ibot head with status: <All keys matched successfully>\n",
      "\tIBOT projection head created\n",
      "\tDetailCLIP model created\n",
      "=> creating model: ICLIP_VITB16\n",
      "\tCreating MAE projection head\n",
      "\tMAE projection head created\n",
      "\tCreating IBOT projection head\n",
      "\tkeys have been loaded for ibot head with status: <All keys matched successfully>\n",
      "\tIBOT projection head created\n",
      "\tDetailCLIP model created\n",
      "=> loaded resume checkpoint 'checkpoint_best.pt' (epoch 48)\n"
     ]
    }
   ],
   "source": [
    "model = getattr(models, 'ICLIP_VITB16')()\n",
    "model.cuda()\n",
    "\n",
    "# Creating model\n",
    "ckpt_path = 'checkpoint_best.pt'\n",
    "\n",
    "ckpt = torch.load(ckpt_path, map_location='cpu', weights_only=False)\n",
    "state_dict = OrderedDict()\n",
    "for k, v in ckpt['state_dict'].items():\n",
    "    state_dict[k.replace('module.', '')] = v\n",
    "\n",
    "old_args = ckpt['args']\n",
    "print(\"=> creating model: {}\".format(old_args.model))\n",
    "model = getattr(models, old_args.model)()\n",
    "model.cuda()\n",
    "model.load_state_dict(state_dict, strict=True)\n",
    "print(\"=> loaded resume checkpoint '{}' (epoch {})\".format(ckpt_path, ckpt['epoch']))"
   ]
  },
  {
   "cell_type": "code",
   "execution_count": 3,
   "id": "1d71fdd2",
   "metadata": {},
   "outputs": [],
   "source": [
    "cwd = '/home/onyxia/work/DetailCLIP'\n",
    "with open(os.path.join(cwd, 'dataset_catalog.json')) as f:\n",
    "    catalog = json.load(f)\n",
    "\n",
    "with open(os.path.join(cwd, 'templates.json')) as f:\n",
    "    all_templates = json.load(f)\n",
    "\n",
    "with open(os.path.join(cwd, 'labels.json')) as f:\n",
    "    all_labels = json.load(f)"
   ]
  },
  {
   "cell_type": "code",
   "execution_count": 4,
   "id": "a47b37cd",
   "metadata": {},
   "outputs": [
    {
     "name": "stdout",
     "output_type": "stream",
     "text": [
      "=> creating dataset\n"
     ]
    }
   ],
   "source": [
    "# Data loading code\n",
    "print(\"=> creating dataset\")\n",
    "tokenizer = SimpleTokenizer()\n",
    "val_transform = transforms.Compose([\n",
    "        transforms.Resize(224),\n",
    "        transforms.CenterCrop(224),\n",
    "        lambda x: x.convert('RGB'),\n",
    "        transforms.ToTensor(),\n",
    "        transforms.Normalize(mean=[0.485, 0.456, 0.406],\n",
    "                                std=[0.229, 0.224, 0.225])\n",
    "    ])"
   ]
  },
  {
   "cell_type": "code",
   "execution_count": 5,
   "id": "4a4a75bc",
   "metadata": {},
   "outputs": [
    {
     "name": "stdout",
     "output_type": "stream",
     "text": [
      "Evaluating blip\n"
     ]
    },
    {
     "data": {
      "text/plain": [
       "ICLIP(\n",
       "  (visual): MaskVisionTransformer(\n",
       "    (patch_embed): PatchEmbed(\n",
       "      (proj): Conv2d(3, 768, kernel_size=(16, 16), stride=(16, 16))\n",
       "      (norm): Identity()\n",
       "    )\n",
       "    (pos_drop): Dropout(p=0.0, inplace=False)\n",
       "    (blocks): Sequential(\n",
       "      (0): Block(\n",
       "        (norm1): LayerNorm((768,), eps=1e-06, elementwise_affine=True)\n",
       "        (attn): Attention(\n",
       "          (qkv): Linear(in_features=768, out_features=2304, bias=True)\n",
       "          (attn_drop): Dropout(p=0.0, inplace=False)\n",
       "          (proj): Linear(in_features=768, out_features=768, bias=True)\n",
       "          (proj_drop): Dropout(p=0.0, inplace=False)\n",
       "        )\n",
       "        (drop_path): Identity()\n",
       "        (norm2): LayerNorm((768,), eps=1e-06, elementwise_affine=True)\n",
       "        (mlp): Mlp(\n",
       "          (fc1): Linear(in_features=768, out_features=3072, bias=True)\n",
       "          (act): GELU(approximate='none')\n",
       "          (drop1): Dropout(p=0.0, inplace=False)\n",
       "          (fc2): Linear(in_features=3072, out_features=768, bias=True)\n",
       "          (drop2): Dropout(p=0.0, inplace=False)\n",
       "        )\n",
       "      )\n",
       "      (1): Block(\n",
       "        (norm1): LayerNorm((768,), eps=1e-06, elementwise_affine=True)\n",
       "        (attn): Attention(\n",
       "          (qkv): Linear(in_features=768, out_features=2304, bias=True)\n",
       "          (attn_drop): Dropout(p=0.0, inplace=False)\n",
       "          (proj): Linear(in_features=768, out_features=768, bias=True)\n",
       "          (proj_drop): Dropout(p=0.0, inplace=False)\n",
       "        )\n",
       "        (drop_path): Identity()\n",
       "        (norm2): LayerNorm((768,), eps=1e-06, elementwise_affine=True)\n",
       "        (mlp): Mlp(\n",
       "          (fc1): Linear(in_features=768, out_features=3072, bias=True)\n",
       "          (act): GELU(approximate='none')\n",
       "          (drop1): Dropout(p=0.0, inplace=False)\n",
       "          (fc2): Linear(in_features=3072, out_features=768, bias=True)\n",
       "          (drop2): Dropout(p=0.0, inplace=False)\n",
       "        )\n",
       "      )\n",
       "      (2): Block(\n",
       "        (norm1): LayerNorm((768,), eps=1e-06, elementwise_affine=True)\n",
       "        (attn): Attention(\n",
       "          (qkv): Linear(in_features=768, out_features=2304, bias=True)\n",
       "          (attn_drop): Dropout(p=0.0, inplace=False)\n",
       "          (proj): Linear(in_features=768, out_features=768, bias=True)\n",
       "          (proj_drop): Dropout(p=0.0, inplace=False)\n",
       "        )\n",
       "        (drop_path): Identity()\n",
       "        (norm2): LayerNorm((768,), eps=1e-06, elementwise_affine=True)\n",
       "        (mlp): Mlp(\n",
       "          (fc1): Linear(in_features=768, out_features=3072, bias=True)\n",
       "          (act): GELU(approximate='none')\n",
       "          (drop1): Dropout(p=0.0, inplace=False)\n",
       "          (fc2): Linear(in_features=3072, out_features=768, bias=True)\n",
       "          (drop2): Dropout(p=0.0, inplace=False)\n",
       "        )\n",
       "      )\n",
       "      (3): Block(\n",
       "        (norm1): LayerNorm((768,), eps=1e-06, elementwise_affine=True)\n",
       "        (attn): Attention(\n",
       "          (qkv): Linear(in_features=768, out_features=2304, bias=True)\n",
       "          (attn_drop): Dropout(p=0.0, inplace=False)\n",
       "          (proj): Linear(in_features=768, out_features=768, bias=True)\n",
       "          (proj_drop): Dropout(p=0.0, inplace=False)\n",
       "        )\n",
       "        (drop_path): Identity()\n",
       "        (norm2): LayerNorm((768,), eps=1e-06, elementwise_affine=True)\n",
       "        (mlp): Mlp(\n",
       "          (fc1): Linear(in_features=768, out_features=3072, bias=True)\n",
       "          (act): GELU(approximate='none')\n",
       "          (drop1): Dropout(p=0.0, inplace=False)\n",
       "          (fc2): Linear(in_features=3072, out_features=768, bias=True)\n",
       "          (drop2): Dropout(p=0.0, inplace=False)\n",
       "        )\n",
       "      )\n",
       "      (4): Block(\n",
       "        (norm1): LayerNorm((768,), eps=1e-06, elementwise_affine=True)\n",
       "        (attn): Attention(\n",
       "          (qkv): Linear(in_features=768, out_features=2304, bias=True)\n",
       "          (attn_drop): Dropout(p=0.0, inplace=False)\n",
       "          (proj): Linear(in_features=768, out_features=768, bias=True)\n",
       "          (proj_drop): Dropout(p=0.0, inplace=False)\n",
       "        )\n",
       "        (drop_path): Identity()\n",
       "        (norm2): LayerNorm((768,), eps=1e-06, elementwise_affine=True)\n",
       "        (mlp): Mlp(\n",
       "          (fc1): Linear(in_features=768, out_features=3072, bias=True)\n",
       "          (act): GELU(approximate='none')\n",
       "          (drop1): Dropout(p=0.0, inplace=False)\n",
       "          (fc2): Linear(in_features=3072, out_features=768, bias=True)\n",
       "          (drop2): Dropout(p=0.0, inplace=False)\n",
       "        )\n",
       "      )\n",
       "      (5): Block(\n",
       "        (norm1): LayerNorm((768,), eps=1e-06, elementwise_affine=True)\n",
       "        (attn): Attention(\n",
       "          (qkv): Linear(in_features=768, out_features=2304, bias=True)\n",
       "          (attn_drop): Dropout(p=0.0, inplace=False)\n",
       "          (proj): Linear(in_features=768, out_features=768, bias=True)\n",
       "          (proj_drop): Dropout(p=0.0, inplace=False)\n",
       "        )\n",
       "        (drop_path): Identity()\n",
       "        (norm2): LayerNorm((768,), eps=1e-06, elementwise_affine=True)\n",
       "        (mlp): Mlp(\n",
       "          (fc1): Linear(in_features=768, out_features=3072, bias=True)\n",
       "          (act): GELU(approximate='none')\n",
       "          (drop1): Dropout(p=0.0, inplace=False)\n",
       "          (fc2): Linear(in_features=3072, out_features=768, bias=True)\n",
       "          (drop2): Dropout(p=0.0, inplace=False)\n",
       "        )\n",
       "      )\n",
       "      (6): Block(\n",
       "        (norm1): LayerNorm((768,), eps=1e-06, elementwise_affine=True)\n",
       "        (attn): Attention(\n",
       "          (qkv): Linear(in_features=768, out_features=2304, bias=True)\n",
       "          (attn_drop): Dropout(p=0.0, inplace=False)\n",
       "          (proj): Linear(in_features=768, out_features=768, bias=True)\n",
       "          (proj_drop): Dropout(p=0.0, inplace=False)\n",
       "        )\n",
       "        (drop_path): Identity()\n",
       "        (norm2): LayerNorm((768,), eps=1e-06, elementwise_affine=True)\n",
       "        (mlp): Mlp(\n",
       "          (fc1): Linear(in_features=768, out_features=3072, bias=True)\n",
       "          (act): GELU(approximate='none')\n",
       "          (drop1): Dropout(p=0.0, inplace=False)\n",
       "          (fc2): Linear(in_features=3072, out_features=768, bias=True)\n",
       "          (drop2): Dropout(p=0.0, inplace=False)\n",
       "        )\n",
       "      )\n",
       "      (7): Block(\n",
       "        (norm1): LayerNorm((768,), eps=1e-06, elementwise_affine=True)\n",
       "        (attn): Attention(\n",
       "          (qkv): Linear(in_features=768, out_features=2304, bias=True)\n",
       "          (attn_drop): Dropout(p=0.0, inplace=False)\n",
       "          (proj): Linear(in_features=768, out_features=768, bias=True)\n",
       "          (proj_drop): Dropout(p=0.0, inplace=False)\n",
       "        )\n",
       "        (drop_path): Identity()\n",
       "        (norm2): LayerNorm((768,), eps=1e-06, elementwise_affine=True)\n",
       "        (mlp): Mlp(\n",
       "          (fc1): Linear(in_features=768, out_features=3072, bias=True)\n",
       "          (act): GELU(approximate='none')\n",
       "          (drop1): Dropout(p=0.0, inplace=False)\n",
       "          (fc2): Linear(in_features=3072, out_features=768, bias=True)\n",
       "          (drop2): Dropout(p=0.0, inplace=False)\n",
       "        )\n",
       "      )\n",
       "      (8): Block(\n",
       "        (norm1): LayerNorm((768,), eps=1e-06, elementwise_affine=True)\n",
       "        (attn): Attention(\n",
       "          (qkv): Linear(in_features=768, out_features=2304, bias=True)\n",
       "          (attn_drop): Dropout(p=0.0, inplace=False)\n",
       "          (proj): Linear(in_features=768, out_features=768, bias=True)\n",
       "          (proj_drop): Dropout(p=0.0, inplace=False)\n",
       "        )\n",
       "        (drop_path): Identity()\n",
       "        (norm2): LayerNorm((768,), eps=1e-06, elementwise_affine=True)\n",
       "        (mlp): Mlp(\n",
       "          (fc1): Linear(in_features=768, out_features=3072, bias=True)\n",
       "          (act): GELU(approximate='none')\n",
       "          (drop1): Dropout(p=0.0, inplace=False)\n",
       "          (fc2): Linear(in_features=3072, out_features=768, bias=True)\n",
       "          (drop2): Dropout(p=0.0, inplace=False)\n",
       "        )\n",
       "      )\n",
       "      (9): Block(\n",
       "        (norm1): LayerNorm((768,), eps=1e-06, elementwise_affine=True)\n",
       "        (attn): Attention(\n",
       "          (qkv): Linear(in_features=768, out_features=2304, bias=True)\n",
       "          (attn_drop): Dropout(p=0.0, inplace=False)\n",
       "          (proj): Linear(in_features=768, out_features=768, bias=True)\n",
       "          (proj_drop): Dropout(p=0.0, inplace=False)\n",
       "        )\n",
       "        (drop_path): Identity()\n",
       "        (norm2): LayerNorm((768,), eps=1e-06, elementwise_affine=True)\n",
       "        (mlp): Mlp(\n",
       "          (fc1): Linear(in_features=768, out_features=3072, bias=True)\n",
       "          (act): GELU(approximate='none')\n",
       "          (drop1): Dropout(p=0.0, inplace=False)\n",
       "          (fc2): Linear(in_features=3072, out_features=768, bias=True)\n",
       "          (drop2): Dropout(p=0.0, inplace=False)\n",
       "        )\n",
       "      )\n",
       "      (10): Block(\n",
       "        (norm1): LayerNorm((768,), eps=1e-06, elementwise_affine=True)\n",
       "        (attn): Attention(\n",
       "          (qkv): Linear(in_features=768, out_features=2304, bias=True)\n",
       "          (attn_drop): Dropout(p=0.0, inplace=False)\n",
       "          (proj): Linear(in_features=768, out_features=768, bias=True)\n",
       "          (proj_drop): Dropout(p=0.0, inplace=False)\n",
       "        )\n",
       "        (drop_path): Identity()\n",
       "        (norm2): LayerNorm((768,), eps=1e-06, elementwise_affine=True)\n",
       "        (mlp): Mlp(\n",
       "          (fc1): Linear(in_features=768, out_features=3072, bias=True)\n",
       "          (act): GELU(approximate='none')\n",
       "          (drop1): Dropout(p=0.0, inplace=False)\n",
       "          (fc2): Linear(in_features=3072, out_features=768, bias=True)\n",
       "          (drop2): Dropout(p=0.0, inplace=False)\n",
       "        )\n",
       "      )\n",
       "      (11): Block(\n",
       "        (norm1): LayerNorm((768,), eps=1e-06, elementwise_affine=True)\n",
       "        (attn): Attention(\n",
       "          (qkv): Linear(in_features=768, out_features=2304, bias=True)\n",
       "          (attn_drop): Dropout(p=0.0, inplace=False)\n",
       "          (proj): Linear(in_features=768, out_features=768, bias=True)\n",
       "          (proj_drop): Dropout(p=0.0, inplace=False)\n",
       "        )\n",
       "        (drop_path): Identity()\n",
       "        (norm2): LayerNorm((768,), eps=1e-06, elementwise_affine=True)\n",
       "        (mlp): Mlp(\n",
       "          (fc1): Linear(in_features=768, out_features=3072, bias=True)\n",
       "          (act): GELU(approximate='none')\n",
       "          (drop1): Dropout(p=0.0, inplace=False)\n",
       "          (fc2): Linear(in_features=3072, out_features=768, bias=True)\n",
       "          (drop2): Dropout(p=0.0, inplace=False)\n",
       "        )\n",
       "      )\n",
       "    )\n",
       "    (norm): LayerNorm((768,), eps=1e-06, elementwise_affine=True)\n",
       "    (pre_logits): Identity()\n",
       "    (head): Identity()\n",
       "  )\n",
       "  (transformer): Transformer(\n",
       "    (resblocks): Sequential(\n",
       "      (0): ResidualAttentionBlock(\n",
       "        (attn): MultiheadAttention(\n",
       "          (out_proj): NonDynamicallyQuantizableLinear(in_features=512, out_features=512, bias=True)\n",
       "        )\n",
       "        (ln_1): LayerNorm((512,), eps=1e-05, elementwise_affine=True)\n",
       "        (mlp): Sequential(\n",
       "          (c_fc): Linear(in_features=512, out_features=2048, bias=True)\n",
       "          (gelu): QuickGELU()\n",
       "          (c_proj): Linear(in_features=2048, out_features=512, bias=True)\n",
       "        )\n",
       "        (ln_2): LayerNorm((512,), eps=1e-05, elementwise_affine=True)\n",
       "      )\n",
       "      (1): ResidualAttentionBlock(\n",
       "        (attn): MultiheadAttention(\n",
       "          (out_proj): NonDynamicallyQuantizableLinear(in_features=512, out_features=512, bias=True)\n",
       "        )\n",
       "        (ln_1): LayerNorm((512,), eps=1e-05, elementwise_affine=True)\n",
       "        (mlp): Sequential(\n",
       "          (c_fc): Linear(in_features=512, out_features=2048, bias=True)\n",
       "          (gelu): QuickGELU()\n",
       "          (c_proj): Linear(in_features=2048, out_features=512, bias=True)\n",
       "        )\n",
       "        (ln_2): LayerNorm((512,), eps=1e-05, elementwise_affine=True)\n",
       "      )\n",
       "      (2): ResidualAttentionBlock(\n",
       "        (attn): MultiheadAttention(\n",
       "          (out_proj): NonDynamicallyQuantizableLinear(in_features=512, out_features=512, bias=True)\n",
       "        )\n",
       "        (ln_1): LayerNorm((512,), eps=1e-05, elementwise_affine=True)\n",
       "        (mlp): Sequential(\n",
       "          (c_fc): Linear(in_features=512, out_features=2048, bias=True)\n",
       "          (gelu): QuickGELU()\n",
       "          (c_proj): Linear(in_features=2048, out_features=512, bias=True)\n",
       "        )\n",
       "        (ln_2): LayerNorm((512,), eps=1e-05, elementwise_affine=True)\n",
       "      )\n",
       "      (3): ResidualAttentionBlock(\n",
       "        (attn): MultiheadAttention(\n",
       "          (out_proj): NonDynamicallyQuantizableLinear(in_features=512, out_features=512, bias=True)\n",
       "        )\n",
       "        (ln_1): LayerNorm((512,), eps=1e-05, elementwise_affine=True)\n",
       "        (mlp): Sequential(\n",
       "          (c_fc): Linear(in_features=512, out_features=2048, bias=True)\n",
       "          (gelu): QuickGELU()\n",
       "          (c_proj): Linear(in_features=2048, out_features=512, bias=True)\n",
       "        )\n",
       "        (ln_2): LayerNorm((512,), eps=1e-05, elementwise_affine=True)\n",
       "      )\n",
       "      (4): ResidualAttentionBlock(\n",
       "        (attn): MultiheadAttention(\n",
       "          (out_proj): NonDynamicallyQuantizableLinear(in_features=512, out_features=512, bias=True)\n",
       "        )\n",
       "        (ln_1): LayerNorm((512,), eps=1e-05, elementwise_affine=True)\n",
       "        (mlp): Sequential(\n",
       "          (c_fc): Linear(in_features=512, out_features=2048, bias=True)\n",
       "          (gelu): QuickGELU()\n",
       "          (c_proj): Linear(in_features=2048, out_features=512, bias=True)\n",
       "        )\n",
       "        (ln_2): LayerNorm((512,), eps=1e-05, elementwise_affine=True)\n",
       "      )\n",
       "      (5): ResidualAttentionBlock(\n",
       "        (attn): MultiheadAttention(\n",
       "          (out_proj): NonDynamicallyQuantizableLinear(in_features=512, out_features=512, bias=True)\n",
       "        )\n",
       "        (ln_1): LayerNorm((512,), eps=1e-05, elementwise_affine=True)\n",
       "        (mlp): Sequential(\n",
       "          (c_fc): Linear(in_features=512, out_features=2048, bias=True)\n",
       "          (gelu): QuickGELU()\n",
       "          (c_proj): Linear(in_features=2048, out_features=512, bias=True)\n",
       "        )\n",
       "        (ln_2): LayerNorm((512,), eps=1e-05, elementwise_affine=True)\n",
       "      )\n",
       "      (6): ResidualAttentionBlock(\n",
       "        (attn): MultiheadAttention(\n",
       "          (out_proj): NonDynamicallyQuantizableLinear(in_features=512, out_features=512, bias=True)\n",
       "        )\n",
       "        (ln_1): LayerNorm((512,), eps=1e-05, elementwise_affine=True)\n",
       "        (mlp): Sequential(\n",
       "          (c_fc): Linear(in_features=512, out_features=2048, bias=True)\n",
       "          (gelu): QuickGELU()\n",
       "          (c_proj): Linear(in_features=2048, out_features=512, bias=True)\n",
       "        )\n",
       "        (ln_2): LayerNorm((512,), eps=1e-05, elementwise_affine=True)\n",
       "      )\n",
       "      (7): ResidualAttentionBlock(\n",
       "        (attn): MultiheadAttention(\n",
       "          (out_proj): NonDynamicallyQuantizableLinear(in_features=512, out_features=512, bias=True)\n",
       "        )\n",
       "        (ln_1): LayerNorm((512,), eps=1e-05, elementwise_affine=True)\n",
       "        (mlp): Sequential(\n",
       "          (c_fc): Linear(in_features=512, out_features=2048, bias=True)\n",
       "          (gelu): QuickGELU()\n",
       "          (c_proj): Linear(in_features=2048, out_features=512, bias=True)\n",
       "        )\n",
       "        (ln_2): LayerNorm((512,), eps=1e-05, elementwise_affine=True)\n",
       "      )\n",
       "      (8): ResidualAttentionBlock(\n",
       "        (attn): MultiheadAttention(\n",
       "          (out_proj): NonDynamicallyQuantizableLinear(in_features=512, out_features=512, bias=True)\n",
       "        )\n",
       "        (ln_1): LayerNorm((512,), eps=1e-05, elementwise_affine=True)\n",
       "        (mlp): Sequential(\n",
       "          (c_fc): Linear(in_features=512, out_features=2048, bias=True)\n",
       "          (gelu): QuickGELU()\n",
       "          (c_proj): Linear(in_features=2048, out_features=512, bias=True)\n",
       "        )\n",
       "        (ln_2): LayerNorm((512,), eps=1e-05, elementwise_affine=True)\n",
       "      )\n",
       "      (9): ResidualAttentionBlock(\n",
       "        (attn): MultiheadAttention(\n",
       "          (out_proj): NonDynamicallyQuantizableLinear(in_features=512, out_features=512, bias=True)\n",
       "        )\n",
       "        (ln_1): LayerNorm((512,), eps=1e-05, elementwise_affine=True)\n",
       "        (mlp): Sequential(\n",
       "          (c_fc): Linear(in_features=512, out_features=2048, bias=True)\n",
       "          (gelu): QuickGELU()\n",
       "          (c_proj): Linear(in_features=2048, out_features=512, bias=True)\n",
       "        )\n",
       "        (ln_2): LayerNorm((512,), eps=1e-05, elementwise_affine=True)\n",
       "      )\n",
       "      (10): ResidualAttentionBlock(\n",
       "        (attn): MultiheadAttention(\n",
       "          (out_proj): NonDynamicallyQuantizableLinear(in_features=512, out_features=512, bias=True)\n",
       "        )\n",
       "        (ln_1): LayerNorm((512,), eps=1e-05, elementwise_affine=True)\n",
       "        (mlp): Sequential(\n",
       "          (c_fc): Linear(in_features=512, out_features=2048, bias=True)\n",
       "          (gelu): QuickGELU()\n",
       "          (c_proj): Linear(in_features=2048, out_features=512, bias=True)\n",
       "        )\n",
       "        (ln_2): LayerNorm((512,), eps=1e-05, elementwise_affine=True)\n",
       "      )\n",
       "      (11): ResidualAttentionBlock(\n",
       "        (attn): MultiheadAttention(\n",
       "          (out_proj): NonDynamicallyQuantizableLinear(in_features=512, out_features=512, bias=True)\n",
       "        )\n",
       "        (ln_1): LayerNorm((512,), eps=1e-05, elementwise_affine=True)\n",
       "        (mlp): Sequential(\n",
       "          (c_fc): Linear(in_features=512, out_features=2048, bias=True)\n",
       "          (gelu): QuickGELU()\n",
       "          (c_proj): Linear(in_features=2048, out_features=512, bias=True)\n",
       "        )\n",
       "        (ln_2): LayerNorm((512,), eps=1e-05, elementwise_affine=True)\n",
       "      )\n",
       "    )\n",
       "  )\n",
       "  (token_embedding): Embedding(49408, 512)\n",
       "  (ln_final): LayerNorm((512,), eps=1e-05, elementwise_affine=True)\n",
       "  (visual_ema): MaskVisionTransformer(\n",
       "    (patch_embed): PatchEmbed(\n",
       "      (proj): Conv2d(3, 768, kernel_size=(16, 16), stride=(16, 16))\n",
       "      (norm): Identity()\n",
       "    )\n",
       "    (pos_drop): Dropout(p=0.0, inplace=False)\n",
       "    (blocks): Sequential(\n",
       "      (0): Block(\n",
       "        (norm1): LayerNorm((768,), eps=1e-06, elementwise_affine=True)\n",
       "        (attn): Attention(\n",
       "          (qkv): Linear(in_features=768, out_features=2304, bias=True)\n",
       "          (attn_drop): Dropout(p=0.0, inplace=False)\n",
       "          (proj): Linear(in_features=768, out_features=768, bias=True)\n",
       "          (proj_drop): Dropout(p=0.0, inplace=False)\n",
       "        )\n",
       "        (drop_path): Identity()\n",
       "        (norm2): LayerNorm((768,), eps=1e-06, elementwise_affine=True)\n",
       "        (mlp): Mlp(\n",
       "          (fc1): Linear(in_features=768, out_features=3072, bias=True)\n",
       "          (act): GELU(approximate='none')\n",
       "          (drop1): Dropout(p=0.0, inplace=False)\n",
       "          (fc2): Linear(in_features=3072, out_features=768, bias=True)\n",
       "          (drop2): Dropout(p=0.0, inplace=False)\n",
       "        )\n",
       "      )\n",
       "      (1): Block(\n",
       "        (norm1): LayerNorm((768,), eps=1e-06, elementwise_affine=True)\n",
       "        (attn): Attention(\n",
       "          (qkv): Linear(in_features=768, out_features=2304, bias=True)\n",
       "          (attn_drop): Dropout(p=0.0, inplace=False)\n",
       "          (proj): Linear(in_features=768, out_features=768, bias=True)\n",
       "          (proj_drop): Dropout(p=0.0, inplace=False)\n",
       "        )\n",
       "        (drop_path): Identity()\n",
       "        (norm2): LayerNorm((768,), eps=1e-06, elementwise_affine=True)\n",
       "        (mlp): Mlp(\n",
       "          (fc1): Linear(in_features=768, out_features=3072, bias=True)\n",
       "          (act): GELU(approximate='none')\n",
       "          (drop1): Dropout(p=0.0, inplace=False)\n",
       "          (fc2): Linear(in_features=3072, out_features=768, bias=True)\n",
       "          (drop2): Dropout(p=0.0, inplace=False)\n",
       "        )\n",
       "      )\n",
       "      (2): Block(\n",
       "        (norm1): LayerNorm((768,), eps=1e-06, elementwise_affine=True)\n",
       "        (attn): Attention(\n",
       "          (qkv): Linear(in_features=768, out_features=2304, bias=True)\n",
       "          (attn_drop): Dropout(p=0.0, inplace=False)\n",
       "          (proj): Linear(in_features=768, out_features=768, bias=True)\n",
       "          (proj_drop): Dropout(p=0.0, inplace=False)\n",
       "        )\n",
       "        (drop_path): Identity()\n",
       "        (norm2): LayerNorm((768,), eps=1e-06, elementwise_affine=True)\n",
       "        (mlp): Mlp(\n",
       "          (fc1): Linear(in_features=768, out_features=3072, bias=True)\n",
       "          (act): GELU(approximate='none')\n",
       "          (drop1): Dropout(p=0.0, inplace=False)\n",
       "          (fc2): Linear(in_features=3072, out_features=768, bias=True)\n",
       "          (drop2): Dropout(p=0.0, inplace=False)\n",
       "        )\n",
       "      )\n",
       "      (3): Block(\n",
       "        (norm1): LayerNorm((768,), eps=1e-06, elementwise_affine=True)\n",
       "        (attn): Attention(\n",
       "          (qkv): Linear(in_features=768, out_features=2304, bias=True)\n",
       "          (attn_drop): Dropout(p=0.0, inplace=False)\n",
       "          (proj): Linear(in_features=768, out_features=768, bias=True)\n",
       "          (proj_drop): Dropout(p=0.0, inplace=False)\n",
       "        )\n",
       "        (drop_path): Identity()\n",
       "        (norm2): LayerNorm((768,), eps=1e-06, elementwise_affine=True)\n",
       "        (mlp): Mlp(\n",
       "          (fc1): Linear(in_features=768, out_features=3072, bias=True)\n",
       "          (act): GELU(approximate='none')\n",
       "          (drop1): Dropout(p=0.0, inplace=False)\n",
       "          (fc2): Linear(in_features=3072, out_features=768, bias=True)\n",
       "          (drop2): Dropout(p=0.0, inplace=False)\n",
       "        )\n",
       "      )\n",
       "      (4): Block(\n",
       "        (norm1): LayerNorm((768,), eps=1e-06, elementwise_affine=True)\n",
       "        (attn): Attention(\n",
       "          (qkv): Linear(in_features=768, out_features=2304, bias=True)\n",
       "          (attn_drop): Dropout(p=0.0, inplace=False)\n",
       "          (proj): Linear(in_features=768, out_features=768, bias=True)\n",
       "          (proj_drop): Dropout(p=0.0, inplace=False)\n",
       "        )\n",
       "        (drop_path): Identity()\n",
       "        (norm2): LayerNorm((768,), eps=1e-06, elementwise_affine=True)\n",
       "        (mlp): Mlp(\n",
       "          (fc1): Linear(in_features=768, out_features=3072, bias=True)\n",
       "          (act): GELU(approximate='none')\n",
       "          (drop1): Dropout(p=0.0, inplace=False)\n",
       "          (fc2): Linear(in_features=3072, out_features=768, bias=True)\n",
       "          (drop2): Dropout(p=0.0, inplace=False)\n",
       "        )\n",
       "      )\n",
       "      (5): Block(\n",
       "        (norm1): LayerNorm((768,), eps=1e-06, elementwise_affine=True)\n",
       "        (attn): Attention(\n",
       "          (qkv): Linear(in_features=768, out_features=2304, bias=True)\n",
       "          (attn_drop): Dropout(p=0.0, inplace=False)\n",
       "          (proj): Linear(in_features=768, out_features=768, bias=True)\n",
       "          (proj_drop): Dropout(p=0.0, inplace=False)\n",
       "        )\n",
       "        (drop_path): Identity()\n",
       "        (norm2): LayerNorm((768,), eps=1e-06, elementwise_affine=True)\n",
       "        (mlp): Mlp(\n",
       "          (fc1): Linear(in_features=768, out_features=3072, bias=True)\n",
       "          (act): GELU(approximate='none')\n",
       "          (drop1): Dropout(p=0.0, inplace=False)\n",
       "          (fc2): Linear(in_features=3072, out_features=768, bias=True)\n",
       "          (drop2): Dropout(p=0.0, inplace=False)\n",
       "        )\n",
       "      )\n",
       "      (6): Block(\n",
       "        (norm1): LayerNorm((768,), eps=1e-06, elementwise_affine=True)\n",
       "        (attn): Attention(\n",
       "          (qkv): Linear(in_features=768, out_features=2304, bias=True)\n",
       "          (attn_drop): Dropout(p=0.0, inplace=False)\n",
       "          (proj): Linear(in_features=768, out_features=768, bias=True)\n",
       "          (proj_drop): Dropout(p=0.0, inplace=False)\n",
       "        )\n",
       "        (drop_path): Identity()\n",
       "        (norm2): LayerNorm((768,), eps=1e-06, elementwise_affine=True)\n",
       "        (mlp): Mlp(\n",
       "          (fc1): Linear(in_features=768, out_features=3072, bias=True)\n",
       "          (act): GELU(approximate='none')\n",
       "          (drop1): Dropout(p=0.0, inplace=False)\n",
       "          (fc2): Linear(in_features=3072, out_features=768, bias=True)\n",
       "          (drop2): Dropout(p=0.0, inplace=False)\n",
       "        )\n",
       "      )\n",
       "      (7): Block(\n",
       "        (norm1): LayerNorm((768,), eps=1e-06, elementwise_affine=True)\n",
       "        (attn): Attention(\n",
       "          (qkv): Linear(in_features=768, out_features=2304, bias=True)\n",
       "          (attn_drop): Dropout(p=0.0, inplace=False)\n",
       "          (proj): Linear(in_features=768, out_features=768, bias=True)\n",
       "          (proj_drop): Dropout(p=0.0, inplace=False)\n",
       "        )\n",
       "        (drop_path): Identity()\n",
       "        (norm2): LayerNorm((768,), eps=1e-06, elementwise_affine=True)\n",
       "        (mlp): Mlp(\n",
       "          (fc1): Linear(in_features=768, out_features=3072, bias=True)\n",
       "          (act): GELU(approximate='none')\n",
       "          (drop1): Dropout(p=0.0, inplace=False)\n",
       "          (fc2): Linear(in_features=3072, out_features=768, bias=True)\n",
       "          (drop2): Dropout(p=0.0, inplace=False)\n",
       "        )\n",
       "      )\n",
       "      (8): Block(\n",
       "        (norm1): LayerNorm((768,), eps=1e-06, elementwise_affine=True)\n",
       "        (attn): Attention(\n",
       "          (qkv): Linear(in_features=768, out_features=2304, bias=True)\n",
       "          (attn_drop): Dropout(p=0.0, inplace=False)\n",
       "          (proj): Linear(in_features=768, out_features=768, bias=True)\n",
       "          (proj_drop): Dropout(p=0.0, inplace=False)\n",
       "        )\n",
       "        (drop_path): Identity()\n",
       "        (norm2): LayerNorm((768,), eps=1e-06, elementwise_affine=True)\n",
       "        (mlp): Mlp(\n",
       "          (fc1): Linear(in_features=768, out_features=3072, bias=True)\n",
       "          (act): GELU(approximate='none')\n",
       "          (drop1): Dropout(p=0.0, inplace=False)\n",
       "          (fc2): Linear(in_features=3072, out_features=768, bias=True)\n",
       "          (drop2): Dropout(p=0.0, inplace=False)\n",
       "        )\n",
       "      )\n",
       "      (9): Block(\n",
       "        (norm1): LayerNorm((768,), eps=1e-06, elementwise_affine=True)\n",
       "        (attn): Attention(\n",
       "          (qkv): Linear(in_features=768, out_features=2304, bias=True)\n",
       "          (attn_drop): Dropout(p=0.0, inplace=False)\n",
       "          (proj): Linear(in_features=768, out_features=768, bias=True)\n",
       "          (proj_drop): Dropout(p=0.0, inplace=False)\n",
       "        )\n",
       "        (drop_path): Identity()\n",
       "        (norm2): LayerNorm((768,), eps=1e-06, elementwise_affine=True)\n",
       "        (mlp): Mlp(\n",
       "          (fc1): Linear(in_features=768, out_features=3072, bias=True)\n",
       "          (act): GELU(approximate='none')\n",
       "          (drop1): Dropout(p=0.0, inplace=False)\n",
       "          (fc2): Linear(in_features=3072, out_features=768, bias=True)\n",
       "          (drop2): Dropout(p=0.0, inplace=False)\n",
       "        )\n",
       "      )\n",
       "      (10): Block(\n",
       "        (norm1): LayerNorm((768,), eps=1e-06, elementwise_affine=True)\n",
       "        (attn): Attention(\n",
       "          (qkv): Linear(in_features=768, out_features=2304, bias=True)\n",
       "          (attn_drop): Dropout(p=0.0, inplace=False)\n",
       "          (proj): Linear(in_features=768, out_features=768, bias=True)\n",
       "          (proj_drop): Dropout(p=0.0, inplace=False)\n",
       "        )\n",
       "        (drop_path): Identity()\n",
       "        (norm2): LayerNorm((768,), eps=1e-06, elementwise_affine=True)\n",
       "        (mlp): Mlp(\n",
       "          (fc1): Linear(in_features=768, out_features=3072, bias=True)\n",
       "          (act): GELU(approximate='none')\n",
       "          (drop1): Dropout(p=0.0, inplace=False)\n",
       "          (fc2): Linear(in_features=3072, out_features=768, bias=True)\n",
       "          (drop2): Dropout(p=0.0, inplace=False)\n",
       "        )\n",
       "      )\n",
       "      (11): Block(\n",
       "        (norm1): LayerNorm((768,), eps=1e-06, elementwise_affine=True)\n",
       "        (attn): Attention(\n",
       "          (qkv): Linear(in_features=768, out_features=2304, bias=True)\n",
       "          (attn_drop): Dropout(p=0.0, inplace=False)\n",
       "          (proj): Linear(in_features=768, out_features=768, bias=True)\n",
       "          (proj_drop): Dropout(p=0.0, inplace=False)\n",
       "        )\n",
       "        (drop_path): Identity()\n",
       "        (norm2): LayerNorm((768,), eps=1e-06, elementwise_affine=True)\n",
       "        (mlp): Mlp(\n",
       "          (fc1): Linear(in_features=768, out_features=3072, bias=True)\n",
       "          (act): GELU(approximate='none')\n",
       "          (drop1): Dropout(p=0.0, inplace=False)\n",
       "          (fc2): Linear(in_features=3072, out_features=768, bias=True)\n",
       "          (drop2): Dropout(p=0.0, inplace=False)\n",
       "        )\n",
       "      )\n",
       "    )\n",
       "    (norm): LayerNorm((768,), eps=1e-06, elementwise_affine=True)\n",
       "    (pre_logits): Identity()\n",
       "    (head): Identity()\n",
       "  )\n",
       "  (transformer_e): Transformer(\n",
       "    (resblocks): Sequential(\n",
       "      (0): ResidualAttentionBlock(\n",
       "        (attn): MultiheadAttention(\n",
       "          (out_proj): NonDynamicallyQuantizableLinear(in_features=512, out_features=512, bias=True)\n",
       "        )\n",
       "        (ln_1): LayerNorm((512,), eps=1e-05, elementwise_affine=True)\n",
       "        (mlp): Sequential(\n",
       "          (c_fc): Linear(in_features=512, out_features=2048, bias=True)\n",
       "          (gelu): QuickGELU()\n",
       "          (c_proj): Linear(in_features=2048, out_features=512, bias=True)\n",
       "        )\n",
       "        (ln_2): LayerNorm((512,), eps=1e-05, elementwise_affine=True)\n",
       "      )\n",
       "      (1): ResidualAttentionBlock(\n",
       "        (attn): MultiheadAttention(\n",
       "          (out_proj): NonDynamicallyQuantizableLinear(in_features=512, out_features=512, bias=True)\n",
       "        )\n",
       "        (ln_1): LayerNorm((512,), eps=1e-05, elementwise_affine=True)\n",
       "        (mlp): Sequential(\n",
       "          (c_fc): Linear(in_features=512, out_features=2048, bias=True)\n",
       "          (gelu): QuickGELU()\n",
       "          (c_proj): Linear(in_features=2048, out_features=512, bias=True)\n",
       "        )\n",
       "        (ln_2): LayerNorm((512,), eps=1e-05, elementwise_affine=True)\n",
       "      )\n",
       "      (2): ResidualAttentionBlock(\n",
       "        (attn): MultiheadAttention(\n",
       "          (out_proj): NonDynamicallyQuantizableLinear(in_features=512, out_features=512, bias=True)\n",
       "        )\n",
       "        (ln_1): LayerNorm((512,), eps=1e-05, elementwise_affine=True)\n",
       "        (mlp): Sequential(\n",
       "          (c_fc): Linear(in_features=512, out_features=2048, bias=True)\n",
       "          (gelu): QuickGELU()\n",
       "          (c_proj): Linear(in_features=2048, out_features=512, bias=True)\n",
       "        )\n",
       "        (ln_2): LayerNorm((512,), eps=1e-05, elementwise_affine=True)\n",
       "      )\n",
       "      (3): ResidualAttentionBlock(\n",
       "        (attn): MultiheadAttention(\n",
       "          (out_proj): NonDynamicallyQuantizableLinear(in_features=512, out_features=512, bias=True)\n",
       "        )\n",
       "        (ln_1): LayerNorm((512,), eps=1e-05, elementwise_affine=True)\n",
       "        (mlp): Sequential(\n",
       "          (c_fc): Linear(in_features=512, out_features=2048, bias=True)\n",
       "          (gelu): QuickGELU()\n",
       "          (c_proj): Linear(in_features=2048, out_features=512, bias=True)\n",
       "        )\n",
       "        (ln_2): LayerNorm((512,), eps=1e-05, elementwise_affine=True)\n",
       "      )\n",
       "      (4): ResidualAttentionBlock(\n",
       "        (attn): MultiheadAttention(\n",
       "          (out_proj): NonDynamicallyQuantizableLinear(in_features=512, out_features=512, bias=True)\n",
       "        )\n",
       "        (ln_1): LayerNorm((512,), eps=1e-05, elementwise_affine=True)\n",
       "        (mlp): Sequential(\n",
       "          (c_fc): Linear(in_features=512, out_features=2048, bias=True)\n",
       "          (gelu): QuickGELU()\n",
       "          (c_proj): Linear(in_features=2048, out_features=512, bias=True)\n",
       "        )\n",
       "        (ln_2): LayerNorm((512,), eps=1e-05, elementwise_affine=True)\n",
       "      )\n",
       "      (5): ResidualAttentionBlock(\n",
       "        (attn): MultiheadAttention(\n",
       "          (out_proj): NonDynamicallyQuantizableLinear(in_features=512, out_features=512, bias=True)\n",
       "        )\n",
       "        (ln_1): LayerNorm((512,), eps=1e-05, elementwise_affine=True)\n",
       "        (mlp): Sequential(\n",
       "          (c_fc): Linear(in_features=512, out_features=2048, bias=True)\n",
       "          (gelu): QuickGELU()\n",
       "          (c_proj): Linear(in_features=2048, out_features=512, bias=True)\n",
       "        )\n",
       "        (ln_2): LayerNorm((512,), eps=1e-05, elementwise_affine=True)\n",
       "      )\n",
       "      (6): ResidualAttentionBlock(\n",
       "        (attn): MultiheadAttention(\n",
       "          (out_proj): NonDynamicallyQuantizableLinear(in_features=512, out_features=512, bias=True)\n",
       "        )\n",
       "        (ln_1): LayerNorm((512,), eps=1e-05, elementwise_affine=True)\n",
       "        (mlp): Sequential(\n",
       "          (c_fc): Linear(in_features=512, out_features=2048, bias=True)\n",
       "          (gelu): QuickGELU()\n",
       "          (c_proj): Linear(in_features=2048, out_features=512, bias=True)\n",
       "        )\n",
       "        (ln_2): LayerNorm((512,), eps=1e-05, elementwise_affine=True)\n",
       "      )\n",
       "      (7): ResidualAttentionBlock(\n",
       "        (attn): MultiheadAttention(\n",
       "          (out_proj): NonDynamicallyQuantizableLinear(in_features=512, out_features=512, bias=True)\n",
       "        )\n",
       "        (ln_1): LayerNorm((512,), eps=1e-05, elementwise_affine=True)\n",
       "        (mlp): Sequential(\n",
       "          (c_fc): Linear(in_features=512, out_features=2048, bias=True)\n",
       "          (gelu): QuickGELU()\n",
       "          (c_proj): Linear(in_features=2048, out_features=512, bias=True)\n",
       "        )\n",
       "        (ln_2): LayerNorm((512,), eps=1e-05, elementwise_affine=True)\n",
       "      )\n",
       "      (8): ResidualAttentionBlock(\n",
       "        (attn): MultiheadAttention(\n",
       "          (out_proj): NonDynamicallyQuantizableLinear(in_features=512, out_features=512, bias=True)\n",
       "        )\n",
       "        (ln_1): LayerNorm((512,), eps=1e-05, elementwise_affine=True)\n",
       "        (mlp): Sequential(\n",
       "          (c_fc): Linear(in_features=512, out_features=2048, bias=True)\n",
       "          (gelu): QuickGELU()\n",
       "          (c_proj): Linear(in_features=2048, out_features=512, bias=True)\n",
       "        )\n",
       "        (ln_2): LayerNorm((512,), eps=1e-05, elementwise_affine=True)\n",
       "      )\n",
       "      (9): ResidualAttentionBlock(\n",
       "        (attn): MultiheadAttention(\n",
       "          (out_proj): NonDynamicallyQuantizableLinear(in_features=512, out_features=512, bias=True)\n",
       "        )\n",
       "        (ln_1): LayerNorm((512,), eps=1e-05, elementwise_affine=True)\n",
       "        (mlp): Sequential(\n",
       "          (c_fc): Linear(in_features=512, out_features=2048, bias=True)\n",
       "          (gelu): QuickGELU()\n",
       "          (c_proj): Linear(in_features=2048, out_features=512, bias=True)\n",
       "        )\n",
       "        (ln_2): LayerNorm((512,), eps=1e-05, elementwise_affine=True)\n",
       "      )\n",
       "      (10): ResidualAttentionBlock(\n",
       "        (attn): MultiheadAttention(\n",
       "          (out_proj): NonDynamicallyQuantizableLinear(in_features=512, out_features=512, bias=True)\n",
       "        )\n",
       "        (ln_1): LayerNorm((512,), eps=1e-05, elementwise_affine=True)\n",
       "        (mlp): Sequential(\n",
       "          (c_fc): Linear(in_features=512, out_features=2048, bias=True)\n",
       "          (gelu): QuickGELU()\n",
       "          (c_proj): Linear(in_features=2048, out_features=512, bias=True)\n",
       "        )\n",
       "        (ln_2): LayerNorm((512,), eps=1e-05, elementwise_affine=True)\n",
       "      )\n",
       "      (11): ResidualAttentionBlock(\n",
       "        (attn): MultiheadAttention(\n",
       "          (out_proj): NonDynamicallyQuantizableLinear(in_features=512, out_features=512, bias=True)\n",
       "        )\n",
       "        (ln_1): LayerNorm((512,), eps=1e-05, elementwise_affine=True)\n",
       "        (mlp): Sequential(\n",
       "          (c_fc): Linear(in_features=512, out_features=2048, bias=True)\n",
       "          (gelu): QuickGELU()\n",
       "          (c_proj): Linear(in_features=2048, out_features=512, bias=True)\n",
       "        )\n",
       "        (ln_2): LayerNorm((512,), eps=1e-05, elementwise_affine=True)\n",
       "      )\n",
       "    )\n",
       "  )\n",
       "  (decoder_embed): Linear(in_features=768, out_features=768, bias=True)\n",
       "  (decoder_blocks): ModuleList(\n",
       "    (0): Block(\n",
       "      (norm1): LayerNorm((768,), eps=1e-06, elementwise_affine=True)\n",
       "      (attn): Attention(\n",
       "        (qkv): Linear(in_features=768, out_features=2304, bias=True)\n",
       "        (attn_drop): Dropout(p=0.0, inplace=False)\n",
       "        (proj): Linear(in_features=768, out_features=768, bias=True)\n",
       "        (proj_drop): Dropout(p=0.0, inplace=False)\n",
       "      )\n",
       "      (drop_path): Identity()\n",
       "      (norm2): LayerNorm((768,), eps=1e-06, elementwise_affine=True)\n",
       "      (mlp): Mlp(\n",
       "        (fc1): Linear(in_features=768, out_features=3072, bias=True)\n",
       "        (act): GELU(approximate='none')\n",
       "        (drop1): Dropout(p=0.0, inplace=False)\n",
       "        (fc2): Linear(in_features=3072, out_features=768, bias=True)\n",
       "        (drop2): Dropout(p=0.0, inplace=False)\n",
       "      )\n",
       "    )\n",
       "  )\n",
       "  (decoder_norm): LayerNorm((768,), eps=1e-06, elementwise_affine=True)\n",
       "  (reconstruction_pred): Linear(in_features=768, out_features=768, bias=True)\n",
       "  (ibot_head): iBOTHead(\n",
       "    (mlp): CustomSequential(\n",
       "      (0): Linear(in_features=768, out_features=2048, bias=True)\n",
       "      (1): GELU(approximate='none')\n",
       "      (2): Linear(in_features=2048, out_features=2048, bias=True)\n",
       "      (3): GELU(approximate='none')\n",
       "      (4): Linear(in_features=2048, out_features=256, bias=True)\n",
       "    )\n",
       "    (last_layer): Linear(in_features=256, out_features=8192, bias=False)\n",
       "    (last_layer2): Linear(in_features=256, out_features=8192, bias=False)\n",
       "  )\n",
       "  (ibot_head_e): iBOTHead(\n",
       "    (mlp): CustomSequential(\n",
       "      (0): Linear(in_features=768, out_features=2048, bias=True)\n",
       "      (1): GELU(approximate='none')\n",
       "      (2): Linear(in_features=2048, out_features=2048, bias=True)\n",
       "      (3): GELU(approximate='none')\n",
       "      (4): Linear(in_features=2048, out_features=256, bias=True)\n",
       "    )\n",
       "    (last_layer): Linear(in_features=256, out_features=8192, bias=False)\n",
       "    (last_layer2): Linear(in_features=256, out_features=8192, bias=False)\n",
       "  )\n",
       ")"
      ]
     },
     "execution_count": 5,
     "metadata": {},
     "output_type": "execute_result"
    }
   ],
   "source": [
    "d='blip'\n",
    "print('Evaluating {}'.format(d))\n",
    "val_dataset = datasets.get_downstream_dataset(catalog, name=d, is_train=False, transform=val_transform)\n",
    "\n",
    "val_loader = torch.utils.data.DataLoader(\n",
    "    val_dataset, batch_size=256, shuffle=False,\n",
    "    num_workers=10, pin_memory=True, drop_last=False)\n",
    "\n",
    "templates = all_templates[d]\n",
    "labels = all_labels[d]\n",
    "true_labels = all_labels['cub200'][:9]\n",
    "\n",
    "model.eval()"
   ]
  },
  {
   "cell_type": "code",
   "execution_count": 6,
   "id": "f92e4088",
   "metadata": {},
   "outputs": [
    {
     "name": "stdout",
     "output_type": "stream",
     "text": [
      "=> encoding captions\n",
      "270\n",
      "torch.Size([270, 512])\n"
     ]
    }
   ],
   "source": [
    "#Text embeddings\n",
    "\n",
    "results = []\n",
    "print('=> encoding captions')\n",
    "with torch.no_grad():\n",
    "    text_features = []\n",
    "    print(len(labels))\n",
    "    for label in labels:\n",
    "        texts = label\n",
    "        texts = tokenizer(texts).cuda(non_blocking=True)\n",
    "        texts = texts.view(-1, 77).contiguous()\n",
    "        class_embeddings = utils.get_model(model).encode_text(texts, ema=True)\n",
    "        class_embeddings = class_embeddings / class_embeddings.norm(dim=-1, keepdim=True)\n",
    "        class_embeddings = class_embeddings.mean(dim=0)\n",
    "        class_embeddings = class_embeddings / class_embeddings.norm(dim=-1, keepdim=True)\n",
    "        text_features.append(class_embeddings)\n",
    "\n",
    "    text_features = torch.stack(text_features, dim=0)\n",
    "\n",
    "print(text_features.size())"
   ]
  },
  {
   "cell_type": "code",
   "execution_count": 7,
   "id": "44f8c05c",
   "metadata": {},
   "outputs": [
    {
     "name": "stderr",
     "output_type": "stream",
     "text": [
      "/usr/local/lib/python3.12/site-packages/sklearn/manifold/_t_sne.py:1164: FutureWarning: 'n_iter' was renamed to 'max_iter' in version 1.5 and will be removed in 1.7.\n",
      "  warnings.warn(\n"
     ]
    },
    {
     "data": {
      "application/vnd.plotly.v1+json": {
       "config": {
        "plotlyServerURL": "https://plot.ly"
       },
       "data": [
        {
         "hovertemplate": "<b>%{hovertext}</b><br><br>x=%{x}<br>y=%{y}<br>color=%{marker.color}<extra></extra>",
         "hovertext": [
          "a photography of a bird in a field",
          "a photography of a bird perched on a branch",
          "a photography of a bird perched on a branch",
          "a photography of a bird standing in a puddle",
          "a photography of a bird in a field",
          "a photography of a bird on a rock",
          "a photography of a bird",
          "a photography of a bird in the water",
          "a photography of a bird",
          "a photography of a house sparrow",
          "a photography of a bird in a muddy field",
          "a photography of a bird",
          "a photography of a bird in the grass",
          "a photography of a bird on a rock in the water",
          "a photography of a bird",
          "a photography of a bird on the ground",
          "a photography of a bird on a rocky shore",
          "a photography of a bird on the ground",
          "a photography of a bird",
          "a photography of a bird on a rock",
          "a photography of a bird",
          "a photography of a bird perched on a branch",
          "a photography of a bird",
          "a photography of a bird standing in the mud",
          "a photography of a bird",
          "a photography of a bird on the shore of a lake",
          "a photography of a bird in the grass",
          "a photography of a bird in the grass",
          "a photography of a bird perched on a branch",
          "a photography of a bird in the grass",
          "a photography of a bird on a post",
          "a photography of a bird on a rock",
          "a photography of a bird on a rock",
          "a photography of a bird sitting on a branch",
          "a photography of a bird",
          "a photography of a bird perched on a cactus",
          "a photography of a bird in the ground",
          "a photography of a bird on a wire",
          "a photography of a bird perched on a tree branch",
          "a photography of a bird in a tree",
          "a photography of a small bird on the ground",
          "a photography of a bird on the ground",
          "a photography of a bird on a tree stump",
          "a photography of a bird",
          "a photography of a bird",
          "a photography of a bird on a branch",
          "a photography of a bird perched on a branch",
          "a photography of a bird in a tree",
          "a photography of a bird perched on a branch",
          "a photography of a bird perched on a person's hand",
          "a photography of a bird",
          "a photography of a bird on a rocky area",
          "a photography of a bird perched on a dead tree",
          "a photography of a bird perched on a branch",
          "a photography of a bird on the ground",
          "a photography of a bird perched on a branch",
          "a photography of a bird",
          "a photography of a bird",
          "a photography of a bird perched on a branch",
          "a photography of a bird perched on a branch",
          "a photography of a bird perched on a branch",
          "a photography of a bird in a nest",
          "a photography of a woodpeart",
          "a photography of a red - bell woodpear",
          "a photography of a pileea woodpearch",
          "a photography of a bird perched on a tree branch",
          "a photography of a woodpeart",
          "a photography of a bird in a tree",
          "a photography of a bird",
          "a photography of a bird",
          "a photography of a bird",
          "a photography of a bird perched on a tree",
          "a photography of a bird",
          "a photography of a bird",
          "a photography of a bird",
          "a photography of a woodpeart",
          "a photography of a woodpeart",
          "a photography of a great spotted woodpeart",
          "a photography of a woodpeart",
          "a photography of a woodpeart",
          "a photography of a woodpeart",
          "a photography of a bird in a tree",
          "a photography of a bird on a tree",
          "a photography of a bird",
          "a photography of a bird",
          "a photography of a bird perched on a tree",
          "a photography of a woodpeart",
          "a photography of a bird perched on a tree",
          "a photography of a woodpeart",
          "a photography of a bird on a tree",
          "a photography of a bird perched on a wooden post",
          "a photography of a bird on a wire",
          "a photography of a bird on a wire",
          "a photography of a bird on a wire",
          "a photography of a bird in the grass",
          "a photography of a bird perched on a stump",
          "a photography of a bird in the grass",
          "a photography of a bird on a wire fence",
          "a photography of a bird on a fence post",
          "a photography of a bird on a branch",
          "a photography of a bird perched on a branch",
          "a photography of a bird on a barbed fence",
          "a photography of a bird on the ground",
          "a photography of a bird eating corn",
          "a photography of a bird on a gravel road",
          "a photography of a bird on a wire",
          "a photography of a bird",
          "a photography of a bird",
          "a photography of a bird",
          "a photography of a bird perched on a tree branch",
          "a photography of a bird",
          "a photography of a bird",
          "a photography of a bird perched on a branch",
          "a photography of a bird on a wire fence",
          "a photography of a bird on a plant",
          "a photography of a bird",
          "a photography of a bird on a wire",
          "a photography of a bird",
          "a photography of a bird on a wire",
          "a photography of a bird on a wooden fence",
          "a photography of a bird perched on a branch",
          "a photography of a bird perched on a branch",
          "a photography of a bird",
          "a photography of a yellow warbler",
          "a photography of a bird perched on a hand",
          "a photography of a bird perched on a branch",
          "a photography of a bird perched on a branch",
          "a photography of a bird on a branch",
          "a photography of a bird perched on a branch",
          "a photography of a bird perched on a branch",
          "a photography of a bird perched on a branch",
          "a photography of a yellow - crowned warbler",
          "a photography of a goldfinch",
          "a photography of a bird in the woods",
          "a photography of a bird",
          "a photography of a bird",
          "a photography of a bird",
          "a photography of a bird in the grass",
          "a photography of a bird in a tree",
          "a photography of a bird",
          "a photography of a bird perched on a branch",
          "a photography of a bird on a branch",
          "a photography of a bird perched on a tree branch",
          "a photography of a bird singing on a branch",
          "a photography of a bird",
          "a photography of a bird eating on a seed",
          "a photography of a bird on a branch",
          "a photography of a bird perched on a branch",
          "a photography of a bird on a branch",
          "a photography of a bird",
          "a photography of a bird perched on a branch",
          "a photography of a bird perched on a wooden post",
          "a photography of a bird",
          "a photography of a bird",
          "a photography of a bird perched on a branch",
          "a photography of a bird eating on a piece of wood",
          "a photography of a small bird perched on a leaf",
          "a photography of a bird on a rusty fence",
          "a photography of a bird eating a piece of food",
          "a photography of a bird perched on a branch",
          "a photography of a bird perched on a branch",
          "a photography of a bird perched on a fence post",
          "a photography of a bird",
          "a photography of a bird",
          "a photography of a bird perched on a branch",
          "a photography of a bird perched on a branch",
          "a photography of a bird perched on a branch",
          "a photography of a bird on a wall",
          "a photography of a bird perched on a branch",
          "a photography of a house wren",
          "a photography of a bird",
          "a photography of a bird",
          "a photography of a bird",
          "a photography of a bird on a branch",
          "a photography of a bird in a tree",
          "a photography of a bird on a tree",
          "a photography of a bird perched on a branch",
          "a photography of a bird on a branch",
          "a photography of a bird perched on a branch of a tree",
          "a photography of a bird",
          "a photography of a bird",
          "a photography of a male northern cardinal",
          "a photography of a bird in a tree with berries",
          "a photography of a bird",
          "a photography of a bird perched on a branch",
          "a photography of a bird eating on a branch",
          "a photography of a bird on a bird bath",
          "a photography of a bird in the leaves",
          "a photography of a bird",
          "a photography of a bird on a branch with berries",
          "a photography of a bird perched on a tree branch",
          "a photography of a bird",
          "a photography of a bird",
          "a photography of a bird perched on a branch",
          "a photography of a bird on a branch",
          "a photography of a bird on a bird feeder",
          "a photography of a bird",
          "a photography of a male cardinal bird in a tree with red berries",
          "a photography of a bird",
          "a photography of a bird perched on a branch",
          "a photography of a bird",
          "a photography of a bird",
          "a photography of a bird perched on a branch of a tree",
          "a photography of a bird",
          "a photography of a bird perched on a branch",
          "a photography of a bird perched on a tree",
          "a photography of a bird eating berries from a tree",
          "a photography of a red bird perched on a branch of a tree",
          "a photography of a bird eating on a branch",
          "a photography of a bird perched on a branch",
          "a photography of a bird perched on a branch",
          "a photography of a bird perched on a branch",
          "a photography of a bird",
          "a photography of a bird",
          "a photography of a bird on a branch",
          "a photography of a bird perched on a branch",
          "a photography of a bird perched on a branch",
          "a photography of a bird perched on a branch",
          "a photography of a bird",
          "a photography of a bird perched on a branch",
          "a photography of a bird",
          "a photography of a bird perched on a branch",
          "a photography of a bird perched on a branch",
          "a photography of a bird in the grass",
          "a photography of a bird perched on a branch",
          "a photography of a bird perched on a branch",
          "a photography of a bird",
          "a photography of a bird perched on a branch",
          "a photography of a bird in a tree",
          "a photography of a bird perched on a branch",
          "a photography of a female white - eye bird",
          "a photography of a bird in a tree",
          "a photography of a bird perched on a branch",
          "a photography of a bird",
          "a photography of a bird in a tree",
          "a photography of a bird perched on a branch",
          "a photography of a bird perched on a branch",
          "a photography of a bird",
          "a photography of a bird perched on a branch",
          "a photography of a bird perched on a branch",
          "a photography of a bird",
          "a photography of a bird perched on a branch",
          "a photography of a male goldfinch",
          "a photography of a bird",
          "a photography of a male goldfinch in the rainforest of the daie island",
          "a photography of a bird perched on a branch",
          "a photography of a bird in the grass",
          "a photography of a bird on a wire",
          "a photography of a bird",
          "a photography of a bird on a branch",
          "a photography of a bird",
          "a photography of a bird perched on a branch",
          "a photography of a bird",
          "a photography of a bird perched on a branch",
          "a photography of a goldfinch perched on a thistle plant",
          "a photography of a bird",
          "a photography of a bird perched on a branch",
          "a photography of a bird perched on a branch",
          "a photography of a goldfinch",
          "a photography of a male goldfinch in a tree",
          "a photography of a bird on a bird feeder",
          "a photography of a male goldfinch",
          "a photography of a bird",
          "a photography of a bird in flight",
          "a photography of a male goldfinch",
          "a photography of a male great tira",
          "a photography of a bird perched on a barbed fence",
          "a photography of a bird perched on a thistle plant",
          "a photography of a bird",
          "a photography of a bird"
         ],
         "legendgroup": "",
         "marker": {
          "color": {
           "bdata": "AAAAAAAAAAAAAQEBAQEBAQEBAgICAgICAgICAwMDAwMDAwMDBAQEBAQEBAQEBQUFBQUFBQUFBgYGBgYGBgYGBwcHBwcHBwcHCAgICAgICAgICQkJCQkJCQkJCgoKCgoKCgoKCwsLCwsLCwsLDAwMDAwMDAwMDQ0NDQ0NDQ0NDg4ODg4ODg4ODw8PDw8PDw8PEBAQEBAQEBAQEREREREREREREhISEhISEhISExMTExMTExMTFBQUFBQUFBQUFRUVFRUVFRUVFhYWFhYWFhYWFxcXFxcXFxcXGBgYGBgYGBgYGRkZGRkZGRkZGhoaGhoaGhoaGxsbGxsbGxsbHBwcHBwcHBwcHR0dHR0dHR0d",
           "dtype": "i1"
          },
          "coloraxis": "coloraxis",
          "symbol": "circle"
         },
         "mode": "markers",
         "name": "",
         "orientation": "v",
         "showlegend": false,
         "type": "scatter",
         "x": {
          "bdata": "KRoZwbNVB0GeTQpB4KsUwSkaGcEBV7nAoUvNwDgptcChS83ARkXjv3/UFsGhS83AAQhBwUrBt8ChS83A3oo8wZ5A0cDeijzBoUvNwHZXucChS83A+sH7QKFLzcCeZRXBoUvNwLhR5cAc9UDBHPVAwbR+F0EBCEHBpoQ5QHZXucB2V7nAy58cQTOkuMDhMAJA+ww7wbe8sT1dwD5BtI9iQI89PsHkfDzB3qmCQDOkuMAzpLjA8AUYQcOx4EAb3mBAw7HgQJc6YcBllprA6f3VwOHlskDDseBA5Hw8wcOx4EBllprARHaCwMOx4EDDseBAw7HgQFpHCsE6+p3Ab9EHQDPirLtdwD5BOvqdwH6eX0BfnMrAX5zKwMUAnsBl6KlAZoYAwTgphsDuqXzAOvqdwDr6ncBCha/AOvqdwDr6ncA6+p3ATiJhQLGSj0DQK+bAysquwGXoqUA6+p3AZeipQDr6ncCxko9ABEpCQLe8sT23vLE9t7yxPQEIQcF84YJAAQhBwa3E1T+L+CBAYPEPQeUJwUD8qwpAVI48wZUpEsBFSkvBXy6yPSw9nsAsPZ7ALD2ewF3APkGVfp3AHifdwEI7EkGtxNU/gfOCP54VpcBfLrI9oUvNwF8usj3ArBZAy8e1QCfGyUBFrvfA6y2svxZXYcDDseBANb3lQN3aD0E1veVANb3lQCfGyUDdvKe/bHKvvpP2j8FPwZjAyE/lwC/Zs8ABCEHB97hhQDCbucBrXxlBfvIXQV3APkFKKAZBpPXxwKHcCMDd2g9Bs8flQEVgF0EfD//AIQbuQARKQkBRLujAEwqawCOJ3EBDFOO/HghYPztkGEBXCwfA7d4HQfyhv0BfzSdAM6S4wGnQj8DO1uZAXyf9QMlQG0F9sujAGDQPQZZyAsA2awDBC673wKgqiMDmdxZBBKxhQGCLj0Cc19JAdCcTQcxNPkHkVrbArQcCwTSdbEDW4bdATW2CwCQ0CkFPENZAgWZGwJ68RT8fD//AI/66QF3APkELd/XApevJwFXkEUHd2g9BRzFBwK0HAsEybndATCuhwCfGyUAFK6HACITSwMxNPkGhS83AQy8BQWXoqUD9lLhAPsc/QU8Q1kAhBu5ARVTfQEz7AkGhS83AoUvNwBRwFEFfJ/1AJd0NQUz7AkGhS83ATPsCQaFLzcBM+wJBTPsCQQEIQcH6wftAj00XQaFLzcD6wftAlalhQPrB+0AfK1W/G95gQPrB+0ChS83AmQdiQI9NF0GPTRdBoUvNwI9NF0FqAQNBoUvNwGoBA0EUQkS+oUvNwGAK8r2eTQpBAQhBwbe8sT2hS83AQXgXQaFLzcA7mhZBoUvNwJ5NCkFjJKg/oUvNwIL6DEGC+gxBbHKvvpBc0z5HMUHAFEJEvn+S3MDg97DAFEJEvonhFsF8HQ1AQxHdP6FLzcB/ktzA",
          "dtype": "f4"
         },
         "xaxis": "x",
         "y": {
          "bdata": "Epp8wPI7XkDTGyhAaTW4wFqlfMAkadbAx+/vvu7zn8DH7++++reowHC3rcDH7+++mC15wBExucDH7+++ddMqPquSzcB10yo+x+/vvsto1sDH7+++g+LtP8fv776aq7PAx+/vvonJvsBWQHnAVkB5wCr9DUCYLXnApmUFwMto1sDLaNbAvO4kwERerz9uMWJAUA0qPhAh+D5l/K4/Sl4BQZh5Nz4JQi8+azuKQERerz9EXq8/o7tawIX9hj+72gBBhf2GP1v2csC5Dhy/MZ3KwLmquECF/YY/CUIvPoX9hj+5Dhy/1E8QP4X9hj+F/YY/hf2GP0CBC0BHDfVA5LYOQZbgLEFl/K4/Rw31QAtaAEGmeQjApnkIwH5lrb+N99JAOMGEPi6JrL/xz1i+Rw31QEcN9UDECOFARw31QEcN9UBHDfVAx/IAQSeF6kAuBsc/7i3ev4330kBHDfVAjffSQEcN9UAnhepAGE7uvxAh+D4QIfg+ECH4PpgtecAxHYhAmC15wEs52r0ZKqe/il1UwHddyT/PCpK+73gqPhG2CsB8/5K+OoP3Pp7Y7z6e2O8+ntjvPmX8rj8LKuM+wAkIwEBkaz5LOdq9uLlxQHn9vb86g/c+x+/vvjqD9z6D4V+//bB6PyInGEAFddy/LZv/wK3icsCF/YY/h5bJvdyQU8CHlsm9h5bJvSInGEDkg/7AAVfLwA7Ps79wxKk/XiwdwAKzVD+YLXnAqDYBQY0t+7+TrhhAQkpbwGX8rj+iAonAPZNuP0/2BcDckFPA7wQZQBeaWsCi4Y6/FZtWQBhO7r/uwf2/5o0fv5ZGDEB8ngTA+vuGQNKI574W9QTAU+GVPxXsyD9sI6q/RF6vP1cI0r+VuiJAIOYqQDmt6j/r7kpAq30yOxnbosBvjKM+pXXcv46Jm71et1nAhTIBQWB56kBUAEhAjQtXwKY6Q0DJ2yXAM2HFvnXAxcCKWqXA9cM6v8/SkD/HZjrAkNlVQF8jhUC54Y6/Ve6jwGX8rj/73iU/BUwvwC6FVUDckFPAJj5SQDNhxb7yicPAJVEQwCInGEC6UBDAb16lP6Y6Q0DH7+++6cONP4330kAR2KTA7BBQQMdmOsAVm1ZAhsFKQCjimD7H7+++x+/vvvDKWMAg5ipAC8b1PyjimD7H7+++KOKYPsfv774o4pg+KOKYPpgtecCD4u0/br6AP8fv776D4u0/ARoBQYPi7T9uh+/Au9oAQYPi7T/H7+++hkUBQW6+gD9uvoA/x+/vvm6+gD87LmBAx+/vvjsuYEDuH83Ax+/vvrAR1sDTGyhAmC15wBAh+D7H7+++6L1cwMfv775JPzpAx+/vvtMbKEApbbXAx+/vvv851T//OdU/AVfLwE7MzMAmPlJA7h/NwNIHlD+qbENA7h/NwAsEWb9ZCZC+sBerwMfv777SB5Q/",
          "dtype": "f4"
         },
         "yaxis": "y"
        }
       ],
       "layout": {
        "coloraxis": {
         "colorbar": {
          "title": {
           "text": "color"
          }
         },
         "colorscale": [
          [
           0,
           "#0d0887"
          ],
          [
           0.1111111111111111,
           "#46039f"
          ],
          [
           0.2222222222222222,
           "#7201a8"
          ],
          [
           0.3333333333333333,
           "#9c179e"
          ],
          [
           0.4444444444444444,
           "#bd3786"
          ],
          [
           0.5555555555555556,
           "#d8576b"
          ],
          [
           0.6666666666666666,
           "#ed7953"
          ],
          [
           0.7777777777777778,
           "#fb9f3a"
          ],
          [
           0.8888888888888888,
           "#fdca26"
          ],
          [
           1,
           "#f0f921"
          ]
         ]
        },
        "legend": {
         "tracegroupgap": 0
        },
        "margin": {
         "t": 60
        },
        "template": {
         "data": {
          "bar": [
           {
            "error_x": {
             "color": "#2a3f5f"
            },
            "error_y": {
             "color": "#2a3f5f"
            },
            "marker": {
             "line": {
              "color": "#E5ECF6",
              "width": 0.5
             },
             "pattern": {
              "fillmode": "overlay",
              "size": 10,
              "solidity": 0.2
             }
            },
            "type": "bar"
           }
          ],
          "barpolar": [
           {
            "marker": {
             "line": {
              "color": "#E5ECF6",
              "width": 0.5
             },
             "pattern": {
              "fillmode": "overlay",
              "size": 10,
              "solidity": 0.2
             }
            },
            "type": "barpolar"
           }
          ],
          "carpet": [
           {
            "aaxis": {
             "endlinecolor": "#2a3f5f",
             "gridcolor": "white",
             "linecolor": "white",
             "minorgridcolor": "white",
             "startlinecolor": "#2a3f5f"
            },
            "baxis": {
             "endlinecolor": "#2a3f5f",
             "gridcolor": "white",
             "linecolor": "white",
             "minorgridcolor": "white",
             "startlinecolor": "#2a3f5f"
            },
            "type": "carpet"
           }
          ],
          "choropleth": [
           {
            "colorbar": {
             "outlinewidth": 0,
             "ticks": ""
            },
            "type": "choropleth"
           }
          ],
          "contour": [
           {
            "colorbar": {
             "outlinewidth": 0,
             "ticks": ""
            },
            "colorscale": [
             [
              0,
              "#0d0887"
             ],
             [
              0.1111111111111111,
              "#46039f"
             ],
             [
              0.2222222222222222,
              "#7201a8"
             ],
             [
              0.3333333333333333,
              "#9c179e"
             ],
             [
              0.4444444444444444,
              "#bd3786"
             ],
             [
              0.5555555555555556,
              "#d8576b"
             ],
             [
              0.6666666666666666,
              "#ed7953"
             ],
             [
              0.7777777777777778,
              "#fb9f3a"
             ],
             [
              0.8888888888888888,
              "#fdca26"
             ],
             [
              1,
              "#f0f921"
             ]
            ],
            "type": "contour"
           }
          ],
          "contourcarpet": [
           {
            "colorbar": {
             "outlinewidth": 0,
             "ticks": ""
            },
            "type": "contourcarpet"
           }
          ],
          "heatmap": [
           {
            "colorbar": {
             "outlinewidth": 0,
             "ticks": ""
            },
            "colorscale": [
             [
              0,
              "#0d0887"
             ],
             [
              0.1111111111111111,
              "#46039f"
             ],
             [
              0.2222222222222222,
              "#7201a8"
             ],
             [
              0.3333333333333333,
              "#9c179e"
             ],
             [
              0.4444444444444444,
              "#bd3786"
             ],
             [
              0.5555555555555556,
              "#d8576b"
             ],
             [
              0.6666666666666666,
              "#ed7953"
             ],
             [
              0.7777777777777778,
              "#fb9f3a"
             ],
             [
              0.8888888888888888,
              "#fdca26"
             ],
             [
              1,
              "#f0f921"
             ]
            ],
            "type": "heatmap"
           }
          ],
          "histogram": [
           {
            "marker": {
             "pattern": {
              "fillmode": "overlay",
              "size": 10,
              "solidity": 0.2
             }
            },
            "type": "histogram"
           }
          ],
          "histogram2d": [
           {
            "colorbar": {
             "outlinewidth": 0,
             "ticks": ""
            },
            "colorscale": [
             [
              0,
              "#0d0887"
             ],
             [
              0.1111111111111111,
              "#46039f"
             ],
             [
              0.2222222222222222,
              "#7201a8"
             ],
             [
              0.3333333333333333,
              "#9c179e"
             ],
             [
              0.4444444444444444,
              "#bd3786"
             ],
             [
              0.5555555555555556,
              "#d8576b"
             ],
             [
              0.6666666666666666,
              "#ed7953"
             ],
             [
              0.7777777777777778,
              "#fb9f3a"
             ],
             [
              0.8888888888888888,
              "#fdca26"
             ],
             [
              1,
              "#f0f921"
             ]
            ],
            "type": "histogram2d"
           }
          ],
          "histogram2dcontour": [
           {
            "colorbar": {
             "outlinewidth": 0,
             "ticks": ""
            },
            "colorscale": [
             [
              0,
              "#0d0887"
             ],
             [
              0.1111111111111111,
              "#46039f"
             ],
             [
              0.2222222222222222,
              "#7201a8"
             ],
             [
              0.3333333333333333,
              "#9c179e"
             ],
             [
              0.4444444444444444,
              "#bd3786"
             ],
             [
              0.5555555555555556,
              "#d8576b"
             ],
             [
              0.6666666666666666,
              "#ed7953"
             ],
             [
              0.7777777777777778,
              "#fb9f3a"
             ],
             [
              0.8888888888888888,
              "#fdca26"
             ],
             [
              1,
              "#f0f921"
             ]
            ],
            "type": "histogram2dcontour"
           }
          ],
          "mesh3d": [
           {
            "colorbar": {
             "outlinewidth": 0,
             "ticks": ""
            },
            "type": "mesh3d"
           }
          ],
          "parcoords": [
           {
            "line": {
             "colorbar": {
              "outlinewidth": 0,
              "ticks": ""
             }
            },
            "type": "parcoords"
           }
          ],
          "pie": [
           {
            "automargin": true,
            "type": "pie"
           }
          ],
          "scatter": [
           {
            "fillpattern": {
             "fillmode": "overlay",
             "size": 10,
             "solidity": 0.2
            },
            "type": "scatter"
           }
          ],
          "scatter3d": [
           {
            "line": {
             "colorbar": {
              "outlinewidth": 0,
              "ticks": ""
             }
            },
            "marker": {
             "colorbar": {
              "outlinewidth": 0,
              "ticks": ""
             }
            },
            "type": "scatter3d"
           }
          ],
          "scattercarpet": [
           {
            "marker": {
             "colorbar": {
              "outlinewidth": 0,
              "ticks": ""
             }
            },
            "type": "scattercarpet"
           }
          ],
          "scattergeo": [
           {
            "marker": {
             "colorbar": {
              "outlinewidth": 0,
              "ticks": ""
             }
            },
            "type": "scattergeo"
           }
          ],
          "scattergl": [
           {
            "marker": {
             "colorbar": {
              "outlinewidth": 0,
              "ticks": ""
             }
            },
            "type": "scattergl"
           }
          ],
          "scattermap": [
           {
            "marker": {
             "colorbar": {
              "outlinewidth": 0,
              "ticks": ""
             }
            },
            "type": "scattermap"
           }
          ],
          "scattermapbox": [
           {
            "marker": {
             "colorbar": {
              "outlinewidth": 0,
              "ticks": ""
             }
            },
            "type": "scattermapbox"
           }
          ],
          "scatterpolar": [
           {
            "marker": {
             "colorbar": {
              "outlinewidth": 0,
              "ticks": ""
             }
            },
            "type": "scatterpolar"
           }
          ],
          "scatterpolargl": [
           {
            "marker": {
             "colorbar": {
              "outlinewidth": 0,
              "ticks": ""
             }
            },
            "type": "scatterpolargl"
           }
          ],
          "scatterternary": [
           {
            "marker": {
             "colorbar": {
              "outlinewidth": 0,
              "ticks": ""
             }
            },
            "type": "scatterternary"
           }
          ],
          "surface": [
           {
            "colorbar": {
             "outlinewidth": 0,
             "ticks": ""
            },
            "colorscale": [
             [
              0,
              "#0d0887"
             ],
             [
              0.1111111111111111,
              "#46039f"
             ],
             [
              0.2222222222222222,
              "#7201a8"
             ],
             [
              0.3333333333333333,
              "#9c179e"
             ],
             [
              0.4444444444444444,
              "#bd3786"
             ],
             [
              0.5555555555555556,
              "#d8576b"
             ],
             [
              0.6666666666666666,
              "#ed7953"
             ],
             [
              0.7777777777777778,
              "#fb9f3a"
             ],
             [
              0.8888888888888888,
              "#fdca26"
             ],
             [
              1,
              "#f0f921"
             ]
            ],
            "type": "surface"
           }
          ],
          "table": [
           {
            "cells": {
             "fill": {
              "color": "#EBF0F8"
             },
             "line": {
              "color": "white"
             }
            },
            "header": {
             "fill": {
              "color": "#C8D4E3"
             },
             "line": {
              "color": "white"
             }
            },
            "type": "table"
           }
          ]
         },
         "layout": {
          "annotationdefaults": {
           "arrowcolor": "#2a3f5f",
           "arrowhead": 0,
           "arrowwidth": 1
          },
          "autotypenumbers": "strict",
          "coloraxis": {
           "colorbar": {
            "outlinewidth": 0,
            "ticks": ""
           }
          },
          "colorscale": {
           "diverging": [
            [
             0,
             "#8e0152"
            ],
            [
             0.1,
             "#c51b7d"
            ],
            [
             0.2,
             "#de77ae"
            ],
            [
             0.3,
             "#f1b6da"
            ],
            [
             0.4,
             "#fde0ef"
            ],
            [
             0.5,
             "#f7f7f7"
            ],
            [
             0.6,
             "#e6f5d0"
            ],
            [
             0.7,
             "#b8e186"
            ],
            [
             0.8,
             "#7fbc41"
            ],
            [
             0.9,
             "#4d9221"
            ],
            [
             1,
             "#276419"
            ]
           ],
           "sequential": [
            [
             0,
             "#0d0887"
            ],
            [
             0.1111111111111111,
             "#46039f"
            ],
            [
             0.2222222222222222,
             "#7201a8"
            ],
            [
             0.3333333333333333,
             "#9c179e"
            ],
            [
             0.4444444444444444,
             "#bd3786"
            ],
            [
             0.5555555555555556,
             "#d8576b"
            ],
            [
             0.6666666666666666,
             "#ed7953"
            ],
            [
             0.7777777777777778,
             "#fb9f3a"
            ],
            [
             0.8888888888888888,
             "#fdca26"
            ],
            [
             1,
             "#f0f921"
            ]
           ],
           "sequentialminus": [
            [
             0,
             "#0d0887"
            ],
            [
             0.1111111111111111,
             "#46039f"
            ],
            [
             0.2222222222222222,
             "#7201a8"
            ],
            [
             0.3333333333333333,
             "#9c179e"
            ],
            [
             0.4444444444444444,
             "#bd3786"
            ],
            [
             0.5555555555555556,
             "#d8576b"
            ],
            [
             0.6666666666666666,
             "#ed7953"
            ],
            [
             0.7777777777777778,
             "#fb9f3a"
            ],
            [
             0.8888888888888888,
             "#fdca26"
            ],
            [
             1,
             "#f0f921"
            ]
           ]
          },
          "colorway": [
           "#636efa",
           "#EF553B",
           "#00cc96",
           "#ab63fa",
           "#FFA15A",
           "#19d3f3",
           "#FF6692",
           "#B6E880",
           "#FF97FF",
           "#FECB52"
          ],
          "font": {
           "color": "#2a3f5f"
          },
          "geo": {
           "bgcolor": "white",
           "lakecolor": "white",
           "landcolor": "#E5ECF6",
           "showlakes": true,
           "showland": true,
           "subunitcolor": "white"
          },
          "hoverlabel": {
           "align": "left"
          },
          "hovermode": "closest",
          "mapbox": {
           "style": "light"
          },
          "paper_bgcolor": "white",
          "plot_bgcolor": "#E5ECF6",
          "polar": {
           "angularaxis": {
            "gridcolor": "white",
            "linecolor": "white",
            "ticks": ""
           },
           "bgcolor": "#E5ECF6",
           "radialaxis": {
            "gridcolor": "white",
            "linecolor": "white",
            "ticks": ""
           }
          },
          "scene": {
           "xaxis": {
            "backgroundcolor": "#E5ECF6",
            "gridcolor": "white",
            "gridwidth": 2,
            "linecolor": "white",
            "showbackground": true,
            "ticks": "",
            "zerolinecolor": "white"
           },
           "yaxis": {
            "backgroundcolor": "#E5ECF6",
            "gridcolor": "white",
            "gridwidth": 2,
            "linecolor": "white",
            "showbackground": true,
            "ticks": "",
            "zerolinecolor": "white"
           },
           "zaxis": {
            "backgroundcolor": "#E5ECF6",
            "gridcolor": "white",
            "gridwidth": 2,
            "linecolor": "white",
            "showbackground": true,
            "ticks": "",
            "zerolinecolor": "white"
           }
          },
          "shapedefaults": {
           "line": {
            "color": "#2a3f5f"
           }
          },
          "ternary": {
           "aaxis": {
            "gridcolor": "white",
            "linecolor": "white",
            "ticks": ""
           },
           "baxis": {
            "gridcolor": "white",
            "linecolor": "white",
            "ticks": ""
           },
           "bgcolor": "#E5ECF6",
           "caxis": {
            "gridcolor": "white",
            "linecolor": "white",
            "ticks": ""
           }
          },
          "title": {
           "x": 0.05
          },
          "xaxis": {
           "automargin": true,
           "gridcolor": "white",
           "linecolor": "white",
           "ticks": "",
           "title": {
            "standoff": 15
           },
           "zerolinecolor": "white",
           "zerolinewidth": 2
          },
          "yaxis": {
           "automargin": true,
           "gridcolor": "white",
           "linecolor": "white",
           "ticks": "",
           "title": {
            "standoff": 15
           },
           "zerolinecolor": "white",
           "zerolinewidth": 2
          }
         }
        },
        "title": {
         "text": "t-SNE class names embeddings"
        },
        "xaxis": {
         "anchor": "y",
         "domain": [
          0,
          1
         ],
         "title": {
          "text": "First Principal Component"
         }
        },
        "yaxis": {
         "anchor": "x",
         "domain": [
          0,
          1
         ],
         "title": {
          "text": "Second Principal Component"
         }
        }
       }
      }
     },
     "metadata": {},
     "output_type": "display_data"
    }
   ],
   "source": [
    "# t-SNE\n",
    "\n",
    "color = [[i for j in range(9)] for i in range(30)]\n",
    "flat_color = np.array(color).flatten().tolist()\n",
    "\n",
    "text_features_tsne = text_features\n",
    "tsne = TSNE(n_components=2, verbose=0, perplexity=40, n_iter=300)\n",
    "text_tsne = tsne.fit_transform(text_features_tsne.to('cpu'))\n",
    "\n",
    "fig = px.scatter(x=text_tsne[:, 0], y=text_tsne[:, 1], hover_name=[all_labels[d] for d in catalog][0], color=flat_color)\n",
    "fig.update_layout(\n",
    "    title=\"t-SNE class names embeddings\",\n",
    "    xaxis_title=\"First Principal Component\",\n",
    "    yaxis_title=\"Second Principal Component\",\n",
    ")\n",
    "cwd = '/home/onyxia/work/tsne_plot/'\n",
    "path = os.path.join(cwd, 't-SNE class names embeddings.png')\n",
    "fig.write_image(path, format='png', engine='kaleido')\n",
    "fig.show()"
   ]
  },
  {
   "cell_type": "code",
   "execution_count": 8,
   "id": "a70f5c2f",
   "metadata": {},
   "outputs": [],
   "source": [
    "# Image embeddings\n",
    "\n",
    "with torch.no_grad():\n",
    "    image_features_tot = []\n",
    "    target_list = []\n",
    "    for images, target in val_loader:\n",
    "        images = images.cuda(non_blocking=True)\n",
    "        target = target.cuda(non_blocking=True)\n",
    "\n",
    "        # encode images\n",
    "        image_features = utils.get_model(model).encode_image(images, ema=True)\n",
    "        image_features = image_features / image_features.norm(dim=-1, keepdim=True)\n",
    "        image_features_tot.append(image_features)\n",
    "        target_list.append(target)"
   ]
  },
  {
   "cell_type": "code",
   "execution_count": 9,
   "id": "97f7f0cc",
   "metadata": {},
   "outputs": [],
   "source": [
    "image_features_cat = torch.cat(image_features_tot, dim=0)"
   ]
  },
  {
   "cell_type": "code",
   "execution_count": 10,
   "id": "6b398e3a",
   "metadata": {},
   "outputs": [
    {
     "name": "stdout",
     "output_type": "stream",
     "text": [
      "torch.Size([6190, 512])\n"
     ]
    }
   ],
   "source": [
    "# fusion of text and image embeddings\n",
    "scaler = StandardScaler()\n",
    "\n",
    "text_features_tsne0 = scaler.fit_transform(text_features.cpu())\n",
    "image_features_tsne0 = scaler.fit_transform(image_features_cat.cpu())\n",
    "\n",
    "text_features_tsne0 = torch.Tensor(text_features_tsne0)\n",
    "image_features_tsne0 = torch.Tensor(image_features_tsne0)\n",
    "\n",
    "text_cat_image = torch.cat((text_features_tsne0, image_features_tsne0), dim=0)\n",
    "print(text_cat_image.size())"
   ]
  },
  {
   "cell_type": "code",
   "execution_count": 14,
   "id": "94580d09",
   "metadata": {},
   "outputs": [
    {
     "name": "stdout",
     "output_type": "stream",
     "text": [
      "540\n",
      "[0, 0, 0, 0, 0, 0, 0, 0, 0, 1, 1, 1, 1, 1, 1, 1, 1, 1, 2, 2, 2, 2, 2, 2, 2, 2, 2, 3, 3, 3, 3, 3, 3, 3, 3, 3, 4, 4, 4, 4, 4, 4, 4, 4, 4, 5, 5, 5, 5, 5, 5, 5, 5, 5, 6, 6, 6, 6, 6, 6, 6, 6, 6, 7, 7, 7, 7, 7, 7, 7, 7, 7, 8, 8, 8, 8, 8, 8, 8, 8, 8, 9, 9, 9, 9, 9, 9, 9, 9, 9, 10, 10, 10, 10, 10, 10, 10, 10, 10, 11, 11, 11, 11, 11, 11, 11, 11, 11, 12, 12, 12, 12, 12, 12, 12, 12, 12, 13, 13, 13, 13, 13, 13, 13, 13, 13, 14, 14, 14, 14, 14, 14, 14, 14, 14, 15, 15, 15, 15, 15, 15, 15, 15, 15, 16, 16, 16, 16, 16, 16, 16, 16, 16, 17, 17, 17, 17, 17, 17, 17, 17, 17, 18, 18, 18, 18, 18, 18, 18, 18, 18, 19, 19, 19, 19, 19, 19, 19, 19, 19, 20, 20, 20, 20, 20, 20, 20, 20, 20, 21, 21, 21, 21, 21, 21, 21, 21, 21, 22, 22, 22, 22, 22, 22, 22, 22, 22, 23, 23, 23, 23, 23, 23, 23, 23, 23, 24, 24, 24, 24, 24, 24, 24, 24, 24, 25, 25, 25, 25, 25, 25, 25, 25, 25, 26, 26, 26, 26, 26, 26, 26, 26, 26, 27, 27, 27, 27, 27, 27, 27, 27, 27, 28, 28, 28, 28, 28, 28, 28, 28, 28, 29, 29, 29, 29, 29, 29, 29, 29, 29, 0, 0, 0, 0, 0, 0, 0, 0, 0, 0, 0, 0, 0, 0, 0, 0, 0, 0, 0, 0, 0, 0, 0, 0, 0, 0, 0, 0, 0, 0, 1, 1, 1, 1, 1, 1, 1, 1, 1, 1, 1, 1, 1, 1, 1, 1, 1, 1, 1, 1, 1, 1, 1, 1, 1, 1, 1, 1, 1, 1, 2, 2, 2, 2, 2, 2, 2, 2, 2, 2, 2, 2, 2, 2, 2, 2, 2, 2, 2, 2, 2, 2, 2, 2, 2, 2, 2, 2, 2, 3, 3, 3, 3, 3, 3, 3, 3, 3, 3, 3, 3, 3, 3, 3, 3, 3, 3, 3, 3, 3, 3, 3, 3, 3, 3, 3, 3, 3, 3, 4, 4, 4, 4, 4, 4, 4, 4, 4, 4, 4, 4, 4, 4, 4, 4, 4, 4, 4, 4, 4, 4, 5, 5, 5, 5, 5, 5, 5, 5, 5, 5, 5, 5, 5, 5, 5, 5, 5, 5, 5, 5, 5, 6, 6, 6, 6, 6, 6, 6, 6, 6, 6, 6, 6, 6, 6, 6, 6, 6, 6, 6, 6, 6, 6, 6, 6, 6, 6, 6, 7, 7, 7, 7, 7, 7, 7, 7, 7, 7, 7, 7, 7, 7, 7, 7, 7, 7, 7, 7, 7, 7, 7, 7, 8, 8, 8, 8, 8, 8, 8, 8, 8, 8, 8, 8, 8, 8, 8, 8, 8, 8, 8, 8, 8, 8, 8, 8, 8, 8, 8, 8, 8, 8, 9, 9, 9, 9, 9, 9, 9, 9, 9, 9, 9, 9, 9, 9, 9, 9, 9, 9, 9, 9, 9, 9, 9, 9, 9, 9, 9]\n"
     ]
    }
   ],
   "source": [
    "txt_img_color = flat_color + torch.cat(target_list).tolist()[:270]\n",
    "print(len(txt_img_color))\n",
    "print(txt_img_color)"
   ]
  },
  {
   "cell_type": "code",
   "execution_count": 12,
   "id": "23751d22",
   "metadata": {},
   "outputs": [
    {
     "name": "stderr",
     "output_type": "stream",
     "text": [
      "/usr/local/lib/python3.12/site-packages/sklearn/manifold/_t_sne.py:1164: FutureWarning:\n",
      "\n",
      "'n_iter' was renamed to 'max_iter' in version 1.5 and will be removed in 1.7.\n",
      "\n"
     ]
    },
    {
     "data": {
      "application/vnd.plotly.v1+json": {
       "config": {
        "plotlyServerURL": "https://plot.ly"
       },
       "data": [
        {
         "hoverinfo": "text",
         "hovertemplate": "%{text}<extra></extra>",
         "marker": {
          "color": [
           0,
           0,
           0,
           0,
           0,
           0,
           0,
           0,
           0,
           0,
           0,
           0,
           0,
           0,
           0,
           0,
           0,
           0,
           0,
           0,
           0,
           0,
           0,
           0,
           0,
           0,
           0,
           0,
           0,
           0,
           4,
           4,
           4,
           4,
           4,
           4,
           4,
           4,
           4,
           4,
           4,
           4,
           4,
           4,
           4,
           4,
           4,
           4,
           4,
           4,
           4,
           4,
           4,
           4,
           4,
           4,
           4,
           4,
           4,
           4,
           8,
           8,
           8,
           8,
           8,
           8,
           8,
           8,
           8,
           8,
           8,
           8,
           8,
           8,
           8,
           8,
           8,
           8,
           8,
           8,
           8,
           8,
           8,
           8,
           8,
           8,
           8,
           8,
           8,
           8,
           3,
           3,
           3,
           3,
           3,
           3,
           3,
           3,
           3,
           3,
           3,
           3,
           3,
           3,
           3,
           3,
           3,
           3,
           3,
           3,
           3,
           3,
           3,
           3,
           3,
           3,
           3,
           3,
           3,
           3,
           2,
           2,
           2,
           2,
           2,
           2,
           2,
           2,
           2,
           2,
           2,
           2,
           2,
           2,
           2,
           2,
           2,
           2,
           2,
           2,
           2,
           2,
           2,
           2,
           2,
           2,
           2,
           2,
           2,
           2,
           5,
           5,
           5,
           5,
           5,
           5,
           5,
           5,
           5,
           5,
           5,
           5,
           5,
           5,
           5,
           5,
           5,
           5,
           5,
           5,
           5,
           5,
           5,
           5,
           5,
           5,
           5,
           5,
           5,
           5,
           6,
           6,
           6,
           6,
           6,
           6,
           6,
           6,
           6,
           6,
           6,
           6,
           6,
           6,
           6,
           6,
           6,
           6,
           6,
           6,
           6,
           6,
           6,
           6,
           6,
           6,
           6,
           6,
           6,
           6,
           7,
           7,
           7,
           7,
           7,
           7,
           7,
           7,
           7,
           7,
           7,
           7,
           7,
           7,
           7,
           7,
           7,
           7,
           7,
           7,
           7,
           7,
           7,
           7,
           7,
           7,
           7,
           7,
           7,
           7,
           1,
           1,
           1,
           1,
           1,
           1,
           1,
           1,
           1,
           1,
           1,
           1,
           1,
           1,
           1,
           1,
           1,
           1,
           1,
           1,
           1,
           1,
           1,
           1,
           1,
           1,
           1,
           1,
           1,
           1,
           0,
           0,
           0,
           0,
           0,
           0,
           0,
           0,
           0,
           0,
           0,
           0,
           0,
           0,
           0,
           0,
           0,
           0,
           0,
           0,
           0,
           0,
           0,
           0,
           0,
           0,
           0,
           0,
           0,
           0,
           4,
           4,
           4,
           4,
           4,
           4,
           4,
           4,
           4,
           4,
           4,
           4,
           4,
           4,
           4,
           4,
           4,
           4,
           4,
           4,
           4,
           4,
           4,
           4,
           4,
           4,
           4,
           4,
           4,
           4,
           8,
           8,
           8,
           8,
           8,
           8,
           8,
           8,
           8,
           8,
           8,
           8,
           8,
           8,
           8,
           8,
           8,
           8,
           8,
           8,
           8,
           8,
           8,
           8,
           8,
           8,
           8,
           8,
           8,
           8,
           3,
           3,
           3,
           3,
           3,
           3,
           3,
           3,
           3,
           3,
           3,
           3,
           3,
           3,
           3,
           3,
           3,
           3,
           3,
           3,
           3,
           3,
           3,
           3,
           3,
           3,
           3,
           3,
           3,
           3,
           2,
           2,
           2,
           2,
           2,
           2,
           2,
           2,
           2,
           2,
           2,
           2,
           2,
           2,
           2,
           2,
           2,
           2,
           2,
           2,
           2,
           2,
           2,
           2,
           2,
           2,
           2,
           2,
           2,
           2,
           5,
           5,
           5,
           5,
           5,
           5,
           5,
           5,
           5,
           5,
           5,
           5,
           5,
           5,
           5,
           5,
           5,
           5,
           5,
           5,
           5,
           5,
           5,
           5,
           5,
           5,
           5,
           5,
           5,
           5,
           6,
           6,
           6,
           6,
           6,
           6,
           6,
           6,
           6,
           6,
           6,
           6,
           6,
           6,
           6,
           6,
           6,
           6,
           6,
           6,
           6,
           6,
           6,
           6,
           6,
           6,
           6,
           6,
           6,
           6,
           7,
           7,
           7,
           7,
           7,
           7,
           7,
           7,
           7,
           7,
           7,
           7,
           7,
           7,
           7,
           7,
           7,
           7,
           7,
           7,
           7,
           7,
           7,
           7,
           7,
           7,
           7,
           7,
           7,
           7,
           1,
           1,
           1,
           1,
           1,
           1,
           1,
           1,
           1,
           1,
           1,
           1,
           1,
           1,
           1,
           1,
           1,
           1,
           1,
           1,
           1,
           1,
           1,
           1,
           1,
           1,
           1,
           1,
           1,
           1
          ],
          "line": {
           "width": 0
          },
          "opacity": 0.7,
          "size": {
           "bdata": "Dw8PDw8PDw8PDw8PDw8PDw8PDw8PDw8PDw8PDw8PDw8PDw8PDw8PDw8PDw8PDw8PDw8PDw8PDw8PDw8PDw8PDw8PDw8PDw8PDw8PDw8PDw8PDw8PDw8PDw8PDw8PDw8PDw8PDw8PDw8PDw8PDw8PDw8PDw8PDw8PDw8PDw8PDw8PDw8PDw8PDw8PDw8PDw8PDw8PDw8PDw8PDw8PDw8PDw8PDw8PDw8PDw8PDw8PDw8PDw8PDw8PDw8PDw8PDw8PDw8PDw8PDw8PDw8PDw8PDw8PDw8PDw8PDw8PDw8PDw8PDw8PDw8PDw8PDw8PDw8PDw8PDw8PDw8PDw8PDw8PDw8PDw8PDw8PDw8PDw8PBQUFBQUFBQUFBQUFBQUFBQUFBQUFBQUFBQUFBQUFBQUFBQUFBQUFBQUFBQUFBQUFBQUFBQUFBQUFBQUFBQUFBQUFBQUFBQUFBQUFBQUFBQUFBQUFBQUFBQUFBQUFBQUFBQUFBQUFBQUFBQUFBQUFBQUFBQUFBQUFBQUFBQUFBQUFBQUFBQUFBQUFBQUFBQUFBQUFBQUFBQUFBQUFBQUFBQUFBQUFBQUFBQUFBQUFBQUFBQUFBQUFBQUFBQUFBQUFBQUFBQUFBQUFBQUFBQUFBQUFBQUFBQUFBQUFBQUFBQUFBQUFBQUFBQUFBQUFBQUFBQUFBQUFBQUFBQUFBQUFBQUFBQUFBQUFBQUFBQUFBQUFBQUFBQUFBQUFBQUFBQUFBQUFBQUFBQUFBQUFBQUFBQUFBQUFBQUFBQUFBQUFBQUFBQUFBQUFBQUFBQUFBQUFBQUFBQUFBQUFBQUFBQUFBQUFBQUFBQUFBQUFBQUFBQUFBQUFBQUFBQUFBQUFBQUFBQUFBQUFBQUFBQUFBQUFBQUFBQUFBQUFBQUFBQUFBQUFBQUFBQUFBQUFBQUFBQUFBQUFBQUFBQUFBQUFBQUFBQUFBQUFBQUFBQUFBQUFBQUFBQUFBQUFBQUFBQUFBQUFBQUFBQUFBQUFBQUFBQUFBQUFBQUFBQUFBQUFBQUFBQUFBQUFBQUFBQUFBQUFBQUFBQUFBQUFBQUFBQUFBQUFBQUFBQUFBQUFBQUFBQUFBQUFBQUFBQUFBQUFBQUFBQUFBQUFBQUFBQUFBQUFBQUFBQUFBQUFBQUFBQUFBQUFBQUFBQUFBQUFBQUFBQUFBQUFBQUFBQUFBQUFBQUFBQUFBQUFBQUFBQUFBQUFBQUFBQUFBQUFBQUFBQUFBQUFBQUFBQUFBQUFBQUFBQUFBQUFBQUFBQUFBQUFBQUFBQUFBQUFBQUFBQUFBQUFBQUFBQUFBQUFBQUFBQUFBQUFBQUFBQUFBQUFBQUFBQUFBQUFBQUFBQUFBQUFBQUFBQUFBQUFBQUFBQUFBQUFBQUFBQUFBQUFBQUFBQUFBQUFBQUFBQUFBQUFBQUFBQUFBQUFBQUFBQUFBQUFBQUFBQUFBQUFBQUFBQUFBQUFBQUFBQUFBQUFBQUFBQUFBQUFBQUFBQUFBQUFBQUFBQUFBQUFBQUFBQUFBQUFBQUFBQUFBQUFBQUFBQUFBQUFBQUFBQUFBQUFBQUFBQUFBQUFBQUFBQUFBQUFBQUFBQUFBQUFBQUFBQUFBQUFBQUFBQUFBQUFBQUFBQUFBQUFBQUFBQUFBQUFBQUFBQUFBQUFBQUFBQUFBQUFBQUFBQUFBQUFBQUFBQUFBQUFBQUFBQUFBQUFBQUFBQUFBQUFBQUFBQUFBQUFBQUFBQUFBQUFBQUFBQUFBQUFBQUFBQUFBQUFBQUFBQUFBQUFBQUFBQUFBQUFBQUFBQUFBQUFBQUFBQUFBQUFBQUFBQUFBQUFBQUFBQUFBQUFBQUFBQUFBQUFBQUFBQUFBQUFBQUFBQUFBQUFBQUFBQUFBQUFBQUFBQUFBQUFBQUFBQUFBQUFBQUFBQUFBQUFBQUFBQUFBQUFBQUFBQUFBQUFBQUFBQUFBQUFBQUFBQUFBQUFBQUFBQUFBQUFBQUFBQUFBQUFBQUFBQUFBQUFBQUFBQUFBQUFBQUFBQUFBQUFBQUFBQUFBQUFBQUFBQUFBQUFBQUFBQUFBQUFBQUFBQUFBQUFBQUFBQUFBQUFBQUFBQUFBQUFBQUFBQUFBQUFBQUFBQUFBQUFBQUFBQUFBQUFBQUFBQUFBQUFBQUFBQUFBQUFBQUFBQUFBQUFBQUFBQUFBQUFBQUFBQUFBQUFBQUFBQUFBQUFBQUFBQUFBQUFBQUFBQUFBQUFBQUFBQUFBQUFBQUFBQUFBQUFBQUFBQUFBQUFBQUFBQUFBQUFBQUFBQUFBQUFBQUFBQUFBQUFBQUFBQUFBQUFBQUFBQUFBQUFBQUFBQUFBQUFBQUFBQUFBQUFBQUFBQUFBQUFBQUFBQUFBQUFBQUFBQUFBQUFBQUFBQUFBQUFBQUFBQUFBQUFBQUFBQUFBQUFBQUFBQUFBQUFBQUFBQUFBQUFBQUFBQUFBQUFBQUFBQUFBQUFBQUFBQUFBQUFBQUFBQUFBQUFBQUFBQUFBQUFBQUFBQUFBQUFBQUFBQUFBQUFBQUFBQUFBQUFBQUFBQUFBQUFBQUFBQUFBQUFBQUFBQUFBQUFBQUFBQUFBQUFBQUFBQUFBQUFBQUFBQUFBQUFBQUFBQUFBQUFBQUFBQUFBQUFBQUFBQUFBQUFBQUFBQUFBQUFBQUFBQUFBQUFBQUFBQUFBQUFBQUFBQUFBQUFBQUFBQUFBQUFBQUFBQUFBQUFBQUFBQUFBQUFBQUFBQUFBQUFBQUFBQUFBQUFBQUFBQUFBQUFBQUFBQUFBQUFBQUFBQUFBQUFBQUFBQUFBQUFBQUFBQUFBQUFBQUFBQUFBQUFBQUFBQUFBQUFBQUFBQUFBQUFBQUFBQUFBQUFBQUFBQUFBQUFBQUFBQUFBQUFBQUFBQUFBQUFBQUFBQUFBQUFBQUFBQUFBQUFBQUFBQUFBQUFBQUFBQUFBQUFBQUFBQUFBQUFBQUFBQUFBQUFBQUFBQUFBQUFBQUFBQUFBQUFBQUFBQUFBQUFBQUFBQUFBQUFBQUFBQUFBQUFBQUFBQUFBQUFBQUFBQUFBQUFBQUFBQUFBQUFBQUFBQUFBQUFBQUFBQUFBQUFBQUFBQUFBQUFBQUFBQUFBQUFBQUFBQUFBQUFBQUFBQUFBQUFBQUFBQUFBQUFBQUFBQUFBQUFBQUFBQUFBQUFBQUFBQUFBQUFBQUFBQUFBQUFBQUFBQUFBQUFBQUFBQUFBQUFBQUFBQUFBQUFBQUFBQUFBQUFBQUFBQUFBQUFBQUFBQUFBQUFBQUFBQUFBQUFBQUFBQUFBQUFBQUFBQUFBQUFBQUFBQUFBQUFBQUFBQUFBQUFBQUFBQUFBQUFBQUFBQUFBQUFBQUFBQUFBQUFBQUFBQUFBQUFBQUFBQUFBQUFBQUFBQUFBQUFBQUFBQUFBQUFBQUFBQUFBQUFBQUFBQUFBQUFBQUFBQUFBQUFBQUFBQUFBQUFBQUFBQUFBQUFBQUFBQUFBQUFBQUFBQUFBQUFBQUFBQUFBQUFBQUFBQUFBQUFBQUFBQUFBQUFBQUFBQUFBQUFBQUFBQUFBQUFBQUFBQUFBQUFBQUFBQUFBQUFBQUFBQUFBQUFBQUFBQUFBQUFBQUFBQUFBQUFBQUFBQUFBQUFBQUFBQUFBQUFBQUFBQUFBQUFBQUFBQUFBQUFBQUFBQUFBQUFBQUFBQUFBQUFBQUFBQUFBQUFBQUFBQUFBQUFBQUFBQUFBQUFBQUFBQUFBQUFBQUFBQUFBQUFBQUFBQUFBQUFBQUFBQUFBQUFBQUFBQUFBQUFBQUFBQUFBQUFBQUFBQUFBQUFBQUFBQUFBQUFBQUFBQUFBQUFBQUFBQUFBQUFBQUFBQUFBQUFBQUFBQUFBQUFBQUFBQUFBQUFBQUFBQUFBQUFBQUFBQUFBQUFBQUFBQUFBQUFBQUFBQUFBQUFBQUFBQUFBQUFBQUFBQUFBQUFBQUFBQUFBQUFBQUFBQUFBQUFBQUFBQUFBQUFBQUFBQUFBQUFBQUFBQUFBQUFBQUFBQUFBQUFBQUFBQUFBQUFBQUFBQUFBQUFBQUFBQUFBQUFBQUFBQUFBQUFBQUFBQUFBQUFBQUFBQUFBQUFBQUFBQUFBQUFBQUFBQUFBQUFBQUFBQUFBQUFBQUFBQUFBQUFBQUFBQUFBQUFBQUFBQUFBQUFBQUFBQUFBQUFBQUFBQUFBQUFBQUFBQUFBQUFBQUFBQUFBQUFBQUFBQUFBQUFBQUFBQUFBQUFBQUFBQUFBQUFBQUFBQUFBQUFBQUFBQUFBQUFBQUFBQUFBQUFBQUFBQUFBQUFBQUFBQUFBQUFBQUFBQUFBQUFBQUFBQUFBQUFBQUFBQUFBQUFBQUFBQUFBQUFBQUFBQUFBQUFBQUFBQUFBQUFBQUFBQUFBQUFBQUFBQUFBQUFBQUFBQUFBQUFBQUFBQUFBQUFBQUFBQUFBQUFBQUFBQUFBQUFBQUFBQUFBQUFBQUFBQUFBQUFBQUFBQUFBQUFBQUFBQUFBQUFBQUFBQUFBQUFBQUFBQUFBQUFBQUFBQUFBQUFBQUFBQUFBQUFBQUFBQUFBQUFBQUFBQUFBQUFBQUFBQUFBQUFBQUFBQUFBQUFBQUFBQUFBQUFBQUFBQUFBQUFBQUFBQUFBQUFBQUFBQUFBQUFBQUFBQUFBQUFBQUFBQUFBQUFBQUFBQUFBQUFBQUFBQUFBQUFBQUFBQUFBQUFBQUFBQUFBQUFBQUFBQUFBQUFBQUFBQUFBQUFBQUFBQUFBQUFBQUFBQUFBQUFBQUFBQUFBQUFBQUFBQUFBQUFBQUFBQUFBQUFBQUFBQUFBQUFBQUFBQUFBQUFBQUFBQUFBQUFBQUFBQUFBQUFBQUFBQUFBQUFBQUFBQUFBQUFBQUFBQUFBQUFBQUFBQUFBQUFBQUFBQUFBQUFBQUFBQUFBQUFBQUFBQUFBQUFBQUFBQUFBQUFBQUFBQUFBQUFBQUFBQUFBQUFBQUFBQUFBQUFBQUFBQUFBQUFBQUFBQUFBQUFBQUFBQUFBQUFBQUFBQUFBQUFBQUFBQUFBQUFBQUFBQUFBQUFBQUFBQUFBQUFBQUFBQUFBQUFBQUFBQUFBQUFBQUFBQUFBQUFBQUFBQUFBQUFBQUFBQUFBQUFBQUFBQUFBQUFBQUFBQUFBQUFBQUFBQUFBQUFBQUFBQUFBQUFBQUFBQUFBQUFBQUFBQUFBQUFBQUFBQUFBQUFBQUFBQUFBQUFBQUFBQUFBQUFBQUFBQUFBQUFBQUFBQUFBQUFBQUFBQUFBQUFBQUFBQUFBQUFBQUFBQUFBQUFBQUFBQUFBQUFBQUFBQUFBQUFBQUFBQUFBQUFBQUFBQUFBQUFBQUFBQUFBQUFBQUFBQUFBQUFBQUFBQUFBQUFBQUFBQUFBQUFBQUFBQUFBQUFBQUFBQUFBQUFBQUFBQUFBQUFBQUFBQUFBQUFBQUFBQUFBQUFBQUFBQUFBQUFBQUFBQUFBQUFBQUFBQUFBQUFBQUFBQUFBQUFBQUFBQUFBQUFBQUFBQUFBQUFBQUFBQUFBQUFBQUFBQUFBQUFBQUFBQUFBQUFBQUFBQUFBQUFBQUFBQUFBQUFBQUFBQUFBQUFBQUFBQUFBQUFBQUFBQUFBQUFBQUFBQUFBQUFBQUFBQUFBQUFBQUFBQUFBQUFBQUFBQUFBQUFBQUFBQUFBQUFBQUFBQUFBQUFBQUFBQUFBQUFBQUFBQUFBQUFBQUFBQUFBQUFBQUFBQUFBQUFBQUFBQUFBQUFBQUFBQUFBQUFBQUFBQUFBQUFBQUFBQUFBQUFBQUFBQUFBQUFBQUFBQUFBQUFBQUFBQUFBQUFBQUFBQUFBQUFBQUFBQUFBQUFBQUFBQUFBQUFBQUFBQUFBQUFBQUFBQUFBQUFBQUFBQUFBQUFBQUFBQUFBQUFBQUFBQUFBQUFBQUFBQUFBQUFBQUFBQUFBQUFBQUFBQUFBQUFBQUFBQUFBQUFBQUFBQUFBQUFBQUFBQUFBQUFBQUFBQUFBQUFBQUFBQUFBQUFBQUFBQUFBQUFBQUFBQUFBQUFBQUFBQUFBQUFBQUFBQUFBQUFBQUFBQUFBQUFBQUFBQUFBQUFBQUFBQUFBQUFBQUFBQUFBQUFBQUFBQUFBQUFBQUFBQUFBQUFBQUFBQUFBQUFBQUFBQUFBQUFBQUFBQUFBQUFBQUFBQUFBQUFBQUFBQUFBQUFBQUFBQUFBQUFBQUFBQUFBQUFBQUFBQUFBQUFBQUFBQUFBQUFBQUFBQUFBQUFBQUFBQUFBQUFBQUFBQUFBQUFBQUFBQUFBQUFBQUFBQUFBQUFBQUFBQUFBQUFBQUFBQUFBQUFBQUFBQUFBQUFBQUFBQUFBQUFBQUFBQUFBQUFBQUFBQUFBQUFBQUFBQUFBQUFBQUFBQUFBQUFBQUFBQUFBQUFBQUFBQUFBQUFBQUFBQUFBQUFBQUFBQUFBQUFBQUFBQUFBQUFBQUFBQUFBQUFBQUFBQUFBQUFBQUFBQUFBQUFBQUFBQUFBQUFBQUFBQUFBQUFBQUFBQUFBQUFBQUFBQUFBQUFBQUFBQUFBQUFBQUFBQUFBQUFBQUFBQUFBQUFBQUFBQUFBQUFBQUFBQUFBQUFBQUFBQUFBQUFBQUFBQUFBQUFBQUFBQUFBQUFBQUFBQUFBQUFBQUFBQUFBQUFBQUFBQUFBQUFBQUFBQUFBQUFBQUFBQUFBQUFBQUFBQUFBQUFBQUFBQUFBQUFBQUFBQUFBQUFBQUFBQUFBQUFBQUFBQUFBQUFBQUFBQUFBQUFBQUFBQUFBQUFBQUFBQUFBQUFBQUFBQUFBQUFBQUFBQUFBQUFBQUFBQUFBQUFBQUFBQUFBQUFBQUFBQUFBQUFBQUFBQUFBQUFBQUFBQUFBQUFBQUFBQUFBQUFBQUFBQUFBQUFBQUFBQUFBQUFBQUFBQUFBQUFBQUFBQUFBQUFBQUFBQUFBQUFBQUFBQUFBQUFBQUFBQUFBQUFBQUFBQUFBQUFBQUFBQUFBQUFBQUFBQUFBQUFBQUFBQUFBQUFBQUFBQUFBQUFBQUFBQUFBQUFBQUFBQUFBQUFBQUFBQUFBQUFBQUFBQUFBQUFBQUFBQUFBQUFBQUFBQUFBQUFBQUFBQUFBQUFBQUFBQUFBQUFBQUFBQUFBQUFBQUFBQUFBQUFBQUFBQUFBQUFBQUFBQUFBQUFBQUFBQUFBQUFBQUFBQUFBQUFBQUFBQUFBQUFBQUFBQUFBQUFBQUFBQUFBQUFBQUFBQUFBQUFBQUFBQUFBQUFBQUFBQUFBQUFBQUFBQUFBQUFBQUFBQUFBQUFBQUFBQUFBQUFBQUFBQUFBQUFBQUFBQUFBQUFBQUFBQUFBQUFBQUFBQUFBQUFBQUFBQUFBQUFBQUFBQUFBQUFBQUFBQUFBQUFBQUFBQUFBQUFBQUFBQUFBQUFBQUFBQUFBQUFBQUFBQUFBQUFBQUFBQUFBQUFBQUFBQUFBQUFBQUFBQUFBQUFBQUFBQUFBQUFBQUFBQUFBQUFBQUFBQUFBQUFBQUFBQUFBQUFBQUFBQUFBQUFBQUFBQUFBQUFBQUFBQUFBQUFBQUFBQUFBQUFBQUFBQUFBQUFBQUFBQUFBQUFBQUFBQUFBQUFBQUFBQUFBQUFBQUFBQUFBQUFBQUFBQUFBQUFBQUFBQUFBQUFBQUFBQUFBQUFBQUFBQUFBQUFBQUFBQUFBQUFBQUFBQUFBQUFBQUFBQUFBQUFBQUFBQUFBQUFBQUFBQUFBQUFBQUFBQUFBQUFBQUFBQUFBQUFBQUFBQUFBQUFBQUFBQUFBQUFBQUFBQUFBQUFBQUFBQUFBQUFBQUFBQUFBQUFBQUFBQUFBQUFBQUFBQUFBQUFBQUFBQUFBQUFBQUFBQUFBQUFBQUFBQUFBQUFBQUFBQUFBQUFBQUFBQUFBQUFBQUFBQUFBQUFBQUFBQUFBQUFBQUFBQUFBQUFBQUFBQUFBQUFBQUFBQUFBQUFBQUFBQUFBQUFBQUFBQUFBQUFBQUFBQUFBQUFBQUFBQUFBQUFBQUFBQUFBQUFBQUFBQUFBQUFBQUFBQUFBQUFBQUFBQUFBQUFBQUFBQUFBQUFBQUFBQUFBQUFBQUFBQUFBQUFBQUFBQUFBQUFBQUFBQUFBQUFBQUFBQUFBQUFBQUFBQUFBQUFBQUFBQUFBQUFBQUFBQUFBQUFBQUFBQUFBQUFBQUFBQUFBQUFBQUFBQUFBQUFBQUFBQUFBQUFBQUFBQ==",
           "dtype": "i1"
          }
         },
         "mode": "markers",
         "name": "Image embeddings",
         "showlegend": false,
         "text": [
          "Black footed Albatross: \"a photography of a bird in a field\"",
          "Black footed Albatross: \"a photography of a bird perched on a branch\"",
          "Black footed Albatross: \"a photography of a bird perched on a branch\"",
          "Black footed Albatross: \"a photography of a bird standing in a puddle\"",
          "Black footed Albatross: \"a photography of a bird in a field\"",
          "Black footed Albatross: \"a photography of a bird on a rock\"",
          "Black footed Albatross: \"a photography of a bird\"",
          "Black footed Albatross: \"a photography of a bird in the water\"",
          "Black footed Albatross: \"a photography of a bird\"",
          "Black footed Albatross: \"a photography of a house sparrow\"",
          "Black footed Albatross: \"a photography of a bird in a muddy field\"",
          "Black footed Albatross: \"a photography of a bird\"",
          "Black footed Albatross: \"a photography of a bird in the grass\"",
          "Black footed Albatross: \"a photography of a bird on a rock in the water\"",
          "Black footed Albatross: \"a photography of a bird\"",
          "Black footed Albatross: \"a photography of a bird on the ground\"",
          "Black footed Albatross: \"a photography of a bird on a rocky shore\"",
          "Black footed Albatross: \"a photography of a bird on the ground\"",
          "Black footed Albatross: \"a photography of a bird\"",
          "Black footed Albatross: \"a photography of a bird on a rock\"",
          "Black footed Albatross: \"a photography of a bird\"",
          "Black footed Albatross: \"a photography of a bird perched on a branch\"",
          "Black footed Albatross: \"a photography of a bird\"",
          "Black footed Albatross: \"a photography of a bird standing in the mud\"",
          "Black footed Albatross: \"a photography of a bird\"",
          "Black footed Albatross: \"a photography of a bird on the shore of a lake\"",
          "Black footed Albatross: \"a photography of a bird in the grass\"",
          "Black footed Albatross: \"a photography of a bird in the grass\"",
          "Black footed Albatross: \"a photography of a bird perched on a branch\"",
          "Black footed Albatross: \"a photography of a bird in the grass\"",
          "Laysan Albatross: \"a photography of a bird on a post\"",
          "Laysan Albatross: \"a photography of a bird on a rock\"",
          "Laysan Albatross: \"a photography of a bird on a rock\"",
          "Laysan Albatross: \"a photography of a bird sitting on a branch\"",
          "Laysan Albatross: \"a photography of a bird\"",
          "Laysan Albatross: \"a photography of a bird perched on a cactus\"",
          "Laysan Albatross: \"a photography of a bird in the ground\"",
          "Laysan Albatross: \"a photography of a bird on a wire\"",
          "Laysan Albatross: \"a photography of a bird perched on a tree branch\"",
          "Laysan Albatross: \"a photography of a bird in a tree\"",
          "Laysan Albatross: \"a photography of a small bird on the ground\"",
          "Laysan Albatross: \"a photography of a bird on the ground\"",
          "Laysan Albatross: \"a photography of a bird on a tree stump\"",
          "Laysan Albatross: \"a photography of a bird\"",
          "Laysan Albatross: \"a photography of a bird\"",
          "Laysan Albatross: \"a photography of a bird on a branch\"",
          "Laysan Albatross: \"a photography of a bird perched on a branch\"",
          "Laysan Albatross: \"a photography of a bird in a tree\"",
          "Laysan Albatross: \"a photography of a bird perched on a branch\"",
          "Laysan Albatross: \"a photography of a bird perched on a person's hand\"",
          "Laysan Albatross: \"a photography of a bird\"",
          "Laysan Albatross: \"a photography of a bird on a rocky area\"",
          "Laysan Albatross: \"a photography of a bird perched on a dead tree\"",
          "Laysan Albatross: \"a photography of a bird perched on a branch\"",
          "Laysan Albatross: \"a photography of a bird on the ground\"",
          "Laysan Albatross: \"a photography of a bird perched on a branch\"",
          "Laysan Albatross: \"a photography of a bird\"",
          "Laysan Albatross: \"a photography of a bird\"",
          "Laysan Albatross: \"a photography of a bird perched on a branch\"",
          "Laysan Albatross: \"a photography of a bird perched on a branch\"",
          "Sooty Albatross: \"a photography of a bird perched on a branch\"",
          "Sooty Albatross: \"a photography of a bird in a nest\"",
          "Sooty Albatross: \"a photography of a woodpeart\"",
          "Sooty Albatross: \"a photography of a red - bell woodpear\"",
          "Sooty Albatross: \"a photography of a pileea woodpearch\"",
          "Sooty Albatross: \"a photography of a bird perched on a tree branch\"",
          "Sooty Albatross: \"a photography of a woodpeart\"",
          "Sooty Albatross: \"a photography of a bird in a tree\"",
          "Sooty Albatross: \"a photography of a bird\"",
          "Sooty Albatross: \"a photography of a bird\"",
          "Sooty Albatross: \"a photography of a bird\"",
          "Sooty Albatross: \"a photography of a bird perched on a tree\"",
          "Sooty Albatross: \"a photography of a bird\"",
          "Sooty Albatross: \"a photography of a bird\"",
          "Sooty Albatross: \"a photography of a bird\"",
          "Sooty Albatross: \"a photography of a woodpeart\"",
          "Sooty Albatross: \"a photography of a woodpeart\"",
          "Sooty Albatross: \"a photography of a great spotted woodpeart\"",
          "Sooty Albatross: \"a photography of a woodpeart\"",
          "Sooty Albatross: \"a photography of a woodpeart\"",
          "Sooty Albatross: \"a photography of a woodpeart\"",
          "Sooty Albatross: \"a photography of a bird in a tree\"",
          "Sooty Albatross: \"a photography of a bird on a tree\"",
          "Sooty Albatross: \"a photography of a bird\"",
          "Sooty Albatross: \"a photography of a bird\"",
          "Sooty Albatross: \"a photography of a bird perched on a tree\"",
          "Sooty Albatross: \"a photography of a woodpeart\"",
          "Sooty Albatross: \"a photography of a bird perched on a tree\"",
          "Sooty Albatross: \"a photography of a woodpeart\"",
          "Sooty Albatross: \"a photography of a bird on a tree\"",
          "Groove billed Ani: \"a photography of a bird perched on a wooden post\"",
          "Groove billed Ani: \"a photography of a bird on a wire\"",
          "Groove billed Ani: \"a photography of a bird on a wire\"",
          "Groove billed Ani: \"a photography of a bird on a wire\"",
          "Groove billed Ani: \"a photography of a bird in the grass\"",
          "Groove billed Ani: \"a photography of a bird perched on a stump\"",
          "Groove billed Ani: \"a photography of a bird in the grass\"",
          "Groove billed Ani: \"a photography of a bird on a wire fence\"",
          "Groove billed Ani: \"a photography of a bird on a fence post\"",
          "Groove billed Ani: \"a photography of a bird on a branch\"",
          "Groove billed Ani: \"a photography of a bird perched on a branch\"",
          "Groove billed Ani: \"a photography of a bird on a barbed fence\"",
          "Groove billed Ani: \"a photography of a bird on the ground\"",
          "Groove billed Ani: \"a photography of a bird eating corn\"",
          "Groove billed Ani: \"a photography of a bird on a gravel road\"",
          "Groove billed Ani: \"a photography of a bird on a wire\"",
          "Groove billed Ani: \"a photography of a bird\"",
          "Groove billed Ani: \"a photography of a bird\"",
          "Groove billed Ani: \"a photography of a bird\"",
          "Groove billed Ani: \"a photography of a bird perched on a tree branch\"",
          "Groove billed Ani: \"a photography of a bird\"",
          "Groove billed Ani: \"a photography of a bird\"",
          "Groove billed Ani: \"a photography of a bird perched on a branch\"",
          "Groove billed Ani: \"a photography of a bird on a wire fence\"",
          "Groove billed Ani: \"a photography of a bird on a plant\"",
          "Groove billed Ani: \"a photography of a bird\"",
          "Groove billed Ani: \"a photography of a bird on a wire\"",
          "Groove billed Ani: \"a photography of a bird\"",
          "Groove billed Ani: \"a photography of a bird on a wire\"",
          "Groove billed Ani: \"a photography of a bird on a wooden fence\"",
          "Crested Auklet: \"a photography of a bird perched on a branch\"",
          "Crested Auklet: \"a photography of a bird perched on a branch\"",
          "Crested Auklet: \"a photography of a bird\"",
          "Crested Auklet: \"a photography of a yellow warbler\"",
          "Crested Auklet: \"a photography of a bird perched on a hand\"",
          "Crested Auklet: \"a photography of a bird perched on a branch\"",
          "Crested Auklet: \"a photography of a bird perched on a branch\"",
          "Crested Auklet: \"a photography of a bird on a branch\"",
          "Crested Auklet: \"a photography of a bird perched on a branch\"",
          "Crested Auklet: \"a photography of a bird perched on a branch\"",
          "Crested Auklet: \"a photography of a bird perched on a branch\"",
          "Crested Auklet: \"a photography of a yellow - crowned warbler\"",
          "Crested Auklet: \"a photography of a goldfinch\"",
          "Crested Auklet: \"a photography of a bird in the woods\"",
          "Crested Auklet: \"a photography of a bird\"",
          "Crested Auklet: \"a photography of a bird\"",
          "Crested Auklet: \"a photography of a bird\"",
          "Crested Auklet: \"a photography of a bird in the grass\"",
          "Crested Auklet: \"a photography of a bird in a tree\"",
          "Crested Auklet: \"a photography of a bird\"",
          "Crested Auklet: \"a photography of a bird perched on a branch\"",
          "Crested Auklet: \"a photography of a bird on a branch\"",
          "Crested Auklet: \"a photography of a bird perched on a tree branch\"",
          "Crested Auklet: \"a photography of a bird singing on a branch\"",
          "Crested Auklet: \"a photography of a bird\"",
          "Crested Auklet: \"a photography of a bird eating on a seed\"",
          "Crested Auklet: \"a photography of a bird on a branch\"",
          "Crested Auklet: \"a photography of a bird perched on a branch\"",
          "Crested Auklet: \"a photography of a bird on a branch\"",
          "Crested Auklet: \"a photography of a bird\"",
          "Least Auklet: \"a photography of a bird perched on a branch\"",
          "Least Auklet: \"a photography of a bird perched on a wooden post\"",
          "Least Auklet: \"a photography of a bird\"",
          "Least Auklet: \"a photography of a bird\"",
          "Least Auklet: \"a photography of a bird perched on a branch\"",
          "Least Auklet: \"a photography of a bird eating on a piece of wood\"",
          "Least Auklet: \"a photography of a small bird perched on a leaf\"",
          "Least Auklet: \"a photography of a bird on a rusty fence\"",
          "Least Auklet: \"a photography of a bird eating a piece of food\"",
          "Least Auklet: \"a photography of a bird perched on a branch\"",
          "Least Auklet: \"a photography of a bird perched on a branch\"",
          "Least Auklet: \"a photography of a bird perched on a fence post\"",
          "Least Auklet: \"a photography of a bird\"",
          "Least Auklet: \"a photography of a bird\"",
          "Least Auklet: \"a photography of a bird perched on a branch\"",
          "Least Auklet: \"a photography of a bird perched on a branch\"",
          "Least Auklet: \"a photography of a bird perched on a branch\"",
          "Least Auklet: \"a photography of a bird on a wall\"",
          "Least Auklet: \"a photography of a bird perched on a branch\"",
          "Least Auklet: \"a photography of a house wren\"",
          "Least Auklet: \"a photography of a bird\"",
          "Least Auklet: \"a photography of a bird\"",
          "Least Auklet: \"a photography of a bird\"",
          "Least Auklet: \"a photography of a bird on a branch\"",
          "Least Auklet: \"a photography of a bird in a tree\"",
          "Least Auklet: \"a photography of a bird on a tree\"",
          "Least Auklet: \"a photography of a bird perched on a branch\"",
          "Least Auklet: \"a photography of a bird on a branch\"",
          "Least Auklet: \"a photography of a bird perched on a branch of a tree\"",
          "Least Auklet: \"a photography of a bird\"",
          "Parakeet Auklet: \"a photography of a bird\"",
          "Parakeet Auklet: \"a photography of a male northern cardinal\"",
          "Parakeet Auklet: \"a photography of a bird in a tree with berries\"",
          "Parakeet Auklet: \"a photography of a bird\"",
          "Parakeet Auklet: \"a photography of a bird perched on a branch\"",
          "Parakeet Auklet: \"a photography of a bird eating on a branch\"",
          "Parakeet Auklet: \"a photography of a bird on a bird bath\"",
          "Parakeet Auklet: \"a photography of a bird in the leaves\"",
          "Parakeet Auklet: \"a photography of a bird\"",
          "Parakeet Auklet: \"a photography of a bird on a branch with berries\"",
          "Parakeet Auklet: \"a photography of a bird perched on a tree branch\"",
          "Parakeet Auklet: \"a photography of a bird\"",
          "Parakeet Auklet: \"a photography of a bird\"",
          "Parakeet Auklet: \"a photography of a bird perched on a branch\"",
          "Parakeet Auklet: \"a photography of a bird on a branch\"",
          "Parakeet Auklet: \"a photography of a bird on a bird feeder\"",
          "Parakeet Auklet: \"a photography of a bird\"",
          "Parakeet Auklet: \"a photography of a male cardinal bird in a tree with red berries\"",
          "Parakeet Auklet: \"a photography of a bird\"",
          "Parakeet Auklet: \"a photography of a bird perched on a branch\"",
          "Parakeet Auklet: \"a photography of a bird\"",
          "Parakeet Auklet: \"a photography of a bird\"",
          "Parakeet Auklet: \"a photography of a bird perched on a branch of a tree\"",
          "Parakeet Auklet: \"a photography of a bird\"",
          "Parakeet Auklet: \"a photography of a bird perched on a branch\"",
          "Parakeet Auklet: \"a photography of a bird perched on a tree\"",
          "Parakeet Auklet: \"a photography of a bird eating berries from a tree\"",
          "Parakeet Auklet: \"a photography of a red bird perched on a branch of a tree\"",
          "Parakeet Auklet: \"a photography of a bird eating on a branch\"",
          "Parakeet Auklet: \"a photography of a bird perched on a branch\"",
          "Rhinoceros Auklet: \"a photography of a bird perched on a branch\"",
          "Rhinoceros Auklet: \"a photography of a bird perched on a branch\"",
          "Rhinoceros Auklet: \"a photography of a bird\"",
          "Rhinoceros Auklet: \"a photography of a bird\"",
          "Rhinoceros Auklet: \"a photography of a bird on a branch\"",
          "Rhinoceros Auklet: \"a photography of a bird perched on a branch\"",
          "Rhinoceros Auklet: \"a photography of a bird perched on a branch\"",
          "Rhinoceros Auklet: \"a photography of a bird perched on a branch\"",
          "Rhinoceros Auklet: \"a photography of a bird\"",
          "Rhinoceros Auklet: \"a photography of a bird perched on a branch\"",
          "Rhinoceros Auklet: \"a photography of a bird\"",
          "Rhinoceros Auklet: \"a photography of a bird perched on a branch\"",
          "Rhinoceros Auklet: \"a photography of a bird perched on a branch\"",
          "Rhinoceros Auklet: \"a photography of a bird in the grass\"",
          "Rhinoceros Auklet: \"a photography of a bird perched on a branch\"",
          "Rhinoceros Auklet: \"a photography of a bird perched on a branch\"",
          "Rhinoceros Auklet: \"a photography of a bird\"",
          "Rhinoceros Auklet: \"a photography of a bird perched on a branch\"",
          "Rhinoceros Auklet: \"a photography of a bird in a tree\"",
          "Rhinoceros Auklet: \"a photography of a bird perched on a branch\"",
          "Rhinoceros Auklet: \"a photography of a female white - eye bird\"",
          "Rhinoceros Auklet: \"a photography of a bird in a tree\"",
          "Rhinoceros Auklet: \"a photography of a bird perched on a branch\"",
          "Rhinoceros Auklet: \"a photography of a bird\"",
          "Rhinoceros Auklet: \"a photography of a bird in a tree\"",
          "Rhinoceros Auklet: \"a photography of a bird perched on a branch\"",
          "Rhinoceros Auklet: \"a photography of a bird perched on a branch\"",
          "Rhinoceros Auklet: \"a photography of a bird\"",
          "Rhinoceros Auklet: \"a photography of a bird perched on a branch\"",
          "Rhinoceros Auklet: \"a photography of a bird perched on a branch\"",
          "Brewer Blackbird: \"a photography of a bird\"",
          "Brewer Blackbird: \"a photography of a bird perched on a branch\"",
          "Brewer Blackbird: \"a photography of a male goldfinch\"",
          "Brewer Blackbird: \"a photography of a bird\"",
          "Brewer Blackbird: \"a photography of a male goldfinch in the rainforest of the daie island\"",
          "Brewer Blackbird: \"a photography of a bird perched on a branch\"",
          "Brewer Blackbird: \"a photography of a bird in the grass\"",
          "Brewer Blackbird: \"a photography of a bird on a wire\"",
          "Brewer Blackbird: \"a photography of a bird\"",
          "Brewer Blackbird: \"a photography of a bird on a branch\"",
          "Brewer Blackbird: \"a photography of a bird\"",
          "Brewer Blackbird: \"a photography of a bird perched on a branch\"",
          "Brewer Blackbird: \"a photography of a bird\"",
          "Brewer Blackbird: \"a photography of a bird perched on a branch\"",
          "Brewer Blackbird: \"a photography of a goldfinch perched on a thistle plant\"",
          "Brewer Blackbird: \"a photography of a bird\"",
          "Brewer Blackbird: \"a photography of a bird perched on a branch\"",
          "Brewer Blackbird: \"a photography of a bird perched on a branch\"",
          "Brewer Blackbird: \"a photography of a goldfinch\"",
          "Brewer Blackbird: \"a photography of a male goldfinch in a tree\"",
          "Brewer Blackbird: \"a photography of a bird on a bird feeder\"",
          "Brewer Blackbird: \"a photography of a male goldfinch\"",
          "Brewer Blackbird: \"a photography of a bird\"",
          "Brewer Blackbird: \"a photography of a bird in flight\"",
          "Brewer Blackbird: \"a photography of a male goldfinch\"",
          "Brewer Blackbird: \"a photography of a male great tira\"",
          "Brewer Blackbird: \"a photography of a bird perched on a barbed fence\"",
          "Brewer Blackbird: \"a photography of a bird perched on a thistle plant\"",
          "Brewer Blackbird: \"a photography of a bird\"",
          "Brewer Blackbird: \"a photography of a bird\"",
          "Black footed Albatross",
          "Black footed Albatross",
          "Black footed Albatross",
          "Black footed Albatross",
          "Black footed Albatross",
          "Black footed Albatross",
          "Black footed Albatross",
          "Black footed Albatross",
          "Black footed Albatross",
          "Black footed Albatross",
          "Black footed Albatross",
          "Black footed Albatross",
          "Black footed Albatross",
          "Black footed Albatross",
          "Black footed Albatross",
          "Black footed Albatross",
          "Black footed Albatross",
          "Black footed Albatross",
          "Black footed Albatross",
          "Black footed Albatross",
          "Black footed Albatross",
          "Black footed Albatross",
          "Black footed Albatross",
          "Black footed Albatross",
          "Black footed Albatross",
          "Black footed Albatross",
          "Black footed Albatross",
          "Black footed Albatross",
          "Black footed Albatross",
          "Black footed Albatross",
          "Laysan Albatross",
          "Laysan Albatross",
          "Laysan Albatross",
          "Laysan Albatross",
          "Laysan Albatross",
          "Laysan Albatross",
          "Laysan Albatross",
          "Laysan Albatross",
          "Laysan Albatross",
          "Laysan Albatross",
          "Laysan Albatross",
          "Laysan Albatross",
          "Laysan Albatross",
          "Laysan Albatross",
          "Laysan Albatross",
          "Laysan Albatross",
          "Laysan Albatross",
          "Laysan Albatross",
          "Laysan Albatross",
          "Laysan Albatross",
          "Laysan Albatross",
          "Laysan Albatross",
          "Laysan Albatross",
          "Laysan Albatross",
          "Laysan Albatross",
          "Laysan Albatross",
          "Laysan Albatross",
          "Laysan Albatross",
          "Laysan Albatross",
          "Laysan Albatross",
          "Sooty Albatross",
          "Sooty Albatross",
          "Sooty Albatross",
          "Sooty Albatross",
          "Sooty Albatross",
          "Sooty Albatross",
          "Sooty Albatross",
          "Sooty Albatross",
          "Sooty Albatross",
          "Sooty Albatross",
          "Sooty Albatross",
          "Sooty Albatross",
          "Sooty Albatross",
          "Sooty Albatross",
          "Sooty Albatross",
          "Sooty Albatross",
          "Sooty Albatross",
          "Sooty Albatross",
          "Sooty Albatross",
          "Sooty Albatross",
          "Sooty Albatross",
          "Sooty Albatross",
          "Sooty Albatross",
          "Sooty Albatross",
          "Sooty Albatross",
          "Sooty Albatross",
          "Sooty Albatross",
          "Sooty Albatross",
          "Sooty Albatross",
          "Sooty Albatross",
          "Groove billed Ani",
          "Groove billed Ani",
          "Groove billed Ani",
          "Groove billed Ani",
          "Groove billed Ani",
          "Groove billed Ani",
          "Groove billed Ani",
          "Groove billed Ani",
          "Groove billed Ani",
          "Groove billed Ani",
          "Groove billed Ani",
          "Groove billed Ani",
          "Groove billed Ani",
          "Groove billed Ani",
          "Groove billed Ani",
          "Groove billed Ani",
          "Groove billed Ani",
          "Groove billed Ani",
          "Groove billed Ani",
          "Groove billed Ani",
          "Groove billed Ani",
          "Groove billed Ani",
          "Groove billed Ani",
          "Groove billed Ani",
          "Groove billed Ani",
          "Groove billed Ani",
          "Groove billed Ani",
          "Groove billed Ani",
          "Groove billed Ani",
          "Groove billed Ani",
          "Crested Auklet",
          "Crested Auklet",
          "Crested Auklet",
          "Crested Auklet",
          "Crested Auklet",
          "Crested Auklet",
          "Crested Auklet",
          "Crested Auklet",
          "Crested Auklet",
          "Crested Auklet",
          "Crested Auklet",
          "Crested Auklet",
          "Crested Auklet",
          "Crested Auklet",
          "Crested Auklet",
          "Crested Auklet",
          "Crested Auklet",
          "Crested Auklet",
          "Crested Auklet",
          "Crested Auklet",
          "Crested Auklet",
          "Crested Auklet",
          "Crested Auklet",
          "Crested Auklet",
          "Crested Auklet",
          "Crested Auklet",
          "Crested Auklet",
          "Crested Auklet",
          "Crested Auklet",
          "Crested Auklet",
          "Least Auklet",
          "Least Auklet",
          "Least Auklet",
          "Least Auklet",
          "Least Auklet",
          "Least Auklet",
          "Least Auklet",
          "Least Auklet",
          "Least Auklet",
          "Least Auklet",
          "Least Auklet",
          "Least Auklet",
          "Least Auklet",
          "Least Auklet",
          "Least Auklet",
          "Least Auklet",
          "Least Auklet",
          "Least Auklet",
          "Least Auklet",
          "Least Auklet",
          "Least Auklet",
          "Least Auklet",
          "Least Auklet",
          "Least Auklet",
          "Least Auklet",
          "Least Auklet",
          "Least Auklet",
          "Least Auklet",
          "Least Auklet",
          "Least Auklet",
          "Parakeet Auklet",
          "Parakeet Auklet",
          "Parakeet Auklet",
          "Parakeet Auklet",
          "Parakeet Auklet",
          "Parakeet Auklet",
          "Parakeet Auklet",
          "Parakeet Auklet",
          "Parakeet Auklet",
          "Parakeet Auklet",
          "Parakeet Auklet",
          "Parakeet Auklet",
          "Parakeet Auklet",
          "Parakeet Auklet",
          "Parakeet Auklet",
          "Parakeet Auklet",
          "Parakeet Auklet",
          "Parakeet Auklet",
          "Parakeet Auklet",
          "Parakeet Auklet",
          "Parakeet Auklet",
          "Parakeet Auklet",
          "Parakeet Auklet",
          "Parakeet Auklet",
          "Parakeet Auklet",
          "Parakeet Auklet",
          "Parakeet Auklet",
          "Parakeet Auklet",
          "Parakeet Auklet",
          "Parakeet Auklet",
          "Rhinoceros Auklet",
          "Rhinoceros Auklet",
          "Rhinoceros Auklet",
          "Rhinoceros Auklet",
          "Rhinoceros Auklet",
          "Rhinoceros Auklet",
          "Rhinoceros Auklet",
          "Rhinoceros Auklet",
          "Rhinoceros Auklet",
          "Rhinoceros Auklet",
          "Rhinoceros Auklet",
          "Rhinoceros Auklet",
          "Rhinoceros Auklet",
          "Rhinoceros Auklet",
          "Rhinoceros Auklet",
          "Rhinoceros Auklet",
          "Rhinoceros Auklet",
          "Rhinoceros Auklet",
          "Rhinoceros Auklet",
          "Rhinoceros Auklet",
          "Rhinoceros Auklet",
          "Rhinoceros Auklet",
          "Rhinoceros Auklet",
          "Rhinoceros Auklet",
          "Rhinoceros Auklet",
          "Rhinoceros Auklet",
          "Rhinoceros Auklet",
          "Rhinoceros Auklet",
          "Rhinoceros Auklet",
          "Rhinoceros Auklet",
          "Brewer Blackbird",
          "Brewer Blackbird",
          "Brewer Blackbird",
          "Brewer Blackbird",
          "Brewer Blackbird",
          "Brewer Blackbird",
          "Brewer Blackbird",
          "Brewer Blackbird",
          "Brewer Blackbird",
          "Brewer Blackbird",
          "Brewer Blackbird",
          "Brewer Blackbird",
          "Brewer Blackbird",
          "Brewer Blackbird",
          "Brewer Blackbird",
          "Brewer Blackbird",
          "Brewer Blackbird",
          "Brewer Blackbird",
          "Brewer Blackbird",
          "Brewer Blackbird",
          "Brewer Blackbird",
          "Brewer Blackbird",
          "Brewer Blackbird",
          "Brewer Blackbird",
          "Brewer Blackbird",
          "Brewer Blackbird",
          "Brewer Blackbird",
          "Brewer Blackbird",
          "Brewer Blackbird",
          "Brewer Blackbird"
         ],
         "type": "scatter",
         "x": {
          "bdata": "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",
          "dtype": "f4"
         },
         "y": {
          "bdata": "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",
          "dtype": "f4"
         }
        }
       ],
       "layout": {
        "legend": {
         "bgcolor": "rgba(255,255,255,0.8)",
         "bordercolor": "black",
         "borderwidth": 1,
         "title": {
          "text": "Types de données"
         },
         "x": 0.01,
         "y": 0.99
        },
        "template": {
         "data": {
          "bar": [
           {
            "error_x": {
             "color": "#2a3f5f"
            },
            "error_y": {
             "color": "#2a3f5f"
            },
            "marker": {
             "line": {
              "color": "#E5ECF6",
              "width": 0.5
             },
             "pattern": {
              "fillmode": "overlay",
              "size": 10,
              "solidity": 0.2
             }
            },
            "type": "bar"
           }
          ],
          "barpolar": [
           {
            "marker": {
             "line": {
              "color": "#E5ECF6",
              "width": 0.5
             },
             "pattern": {
              "fillmode": "overlay",
              "size": 10,
              "solidity": 0.2
             }
            },
            "type": "barpolar"
           }
          ],
          "carpet": [
           {
            "aaxis": {
             "endlinecolor": "#2a3f5f",
             "gridcolor": "white",
             "linecolor": "white",
             "minorgridcolor": "white",
             "startlinecolor": "#2a3f5f"
            },
            "baxis": {
             "endlinecolor": "#2a3f5f",
             "gridcolor": "white",
             "linecolor": "white",
             "minorgridcolor": "white",
             "startlinecolor": "#2a3f5f"
            },
            "type": "carpet"
           }
          ],
          "choropleth": [
           {
            "colorbar": {
             "outlinewidth": 0,
             "ticks": ""
            },
            "type": "choropleth"
           }
          ],
          "contour": [
           {
            "colorbar": {
             "outlinewidth": 0,
             "ticks": ""
            },
            "colorscale": [
             [
              0,
              "#0d0887"
             ],
             [
              0.1111111111111111,
              "#46039f"
             ],
             [
              0.2222222222222222,
              "#7201a8"
             ],
             [
              0.3333333333333333,
              "#9c179e"
             ],
             [
              0.4444444444444444,
              "#bd3786"
             ],
             [
              0.5555555555555556,
              "#d8576b"
             ],
             [
              0.6666666666666666,
              "#ed7953"
             ],
             [
              0.7777777777777778,
              "#fb9f3a"
             ],
             [
              0.8888888888888888,
              "#fdca26"
             ],
             [
              1,
              "#f0f921"
             ]
            ],
            "type": "contour"
           }
          ],
          "contourcarpet": [
           {
            "colorbar": {
             "outlinewidth": 0,
             "ticks": ""
            },
            "type": "contourcarpet"
           }
          ],
          "heatmap": [
           {
            "colorbar": {
             "outlinewidth": 0,
             "ticks": ""
            },
            "colorscale": [
             [
              0,
              "#0d0887"
             ],
             [
              0.1111111111111111,
              "#46039f"
             ],
             [
              0.2222222222222222,
              "#7201a8"
             ],
             [
              0.3333333333333333,
              "#9c179e"
             ],
             [
              0.4444444444444444,
              "#bd3786"
             ],
             [
              0.5555555555555556,
              "#d8576b"
             ],
             [
              0.6666666666666666,
              "#ed7953"
             ],
             [
              0.7777777777777778,
              "#fb9f3a"
             ],
             [
              0.8888888888888888,
              "#fdca26"
             ],
             [
              1,
              "#f0f921"
             ]
            ],
            "type": "heatmap"
           }
          ],
          "histogram": [
           {
            "marker": {
             "pattern": {
              "fillmode": "overlay",
              "size": 10,
              "solidity": 0.2
             }
            },
            "type": "histogram"
           }
          ],
          "histogram2d": [
           {
            "colorbar": {
             "outlinewidth": 0,
             "ticks": ""
            },
            "colorscale": [
             [
              0,
              "#0d0887"
             ],
             [
              0.1111111111111111,
              "#46039f"
             ],
             [
              0.2222222222222222,
              "#7201a8"
             ],
             [
              0.3333333333333333,
              "#9c179e"
             ],
             [
              0.4444444444444444,
              "#bd3786"
             ],
             [
              0.5555555555555556,
              "#d8576b"
             ],
             [
              0.6666666666666666,
              "#ed7953"
             ],
             [
              0.7777777777777778,
              "#fb9f3a"
             ],
             [
              0.8888888888888888,
              "#fdca26"
             ],
             [
              1,
              "#f0f921"
             ]
            ],
            "type": "histogram2d"
           }
          ],
          "histogram2dcontour": [
           {
            "colorbar": {
             "outlinewidth": 0,
             "ticks": ""
            },
            "colorscale": [
             [
              0,
              "#0d0887"
             ],
             [
              0.1111111111111111,
              "#46039f"
             ],
             [
              0.2222222222222222,
              "#7201a8"
             ],
             [
              0.3333333333333333,
              "#9c179e"
             ],
             [
              0.4444444444444444,
              "#bd3786"
             ],
             [
              0.5555555555555556,
              "#d8576b"
             ],
             [
              0.6666666666666666,
              "#ed7953"
             ],
             [
              0.7777777777777778,
              "#fb9f3a"
             ],
             [
              0.8888888888888888,
              "#fdca26"
             ],
             [
              1,
              "#f0f921"
             ]
            ],
            "type": "histogram2dcontour"
           }
          ],
          "mesh3d": [
           {
            "colorbar": {
             "outlinewidth": 0,
             "ticks": ""
            },
            "type": "mesh3d"
           }
          ],
          "parcoords": [
           {
            "line": {
             "colorbar": {
              "outlinewidth": 0,
              "ticks": ""
             }
            },
            "type": "parcoords"
           }
          ],
          "pie": [
           {
            "automargin": true,
            "type": "pie"
           }
          ],
          "scatter": [
           {
            "fillpattern": {
             "fillmode": "overlay",
             "size": 10,
             "solidity": 0.2
            },
            "type": "scatter"
           }
          ],
          "scatter3d": [
           {
            "line": {
             "colorbar": {
              "outlinewidth": 0,
              "ticks": ""
             }
            },
            "marker": {
             "colorbar": {
              "outlinewidth": 0,
              "ticks": ""
             }
            },
            "type": "scatter3d"
           }
          ],
          "scattercarpet": [
           {
            "marker": {
             "colorbar": {
              "outlinewidth": 0,
              "ticks": ""
             }
            },
            "type": "scattercarpet"
           }
          ],
          "scattergeo": [
           {
            "marker": {
             "colorbar": {
              "outlinewidth": 0,
              "ticks": ""
             }
            },
            "type": "scattergeo"
           }
          ],
          "scattergl": [
           {
            "marker": {
             "colorbar": {
              "outlinewidth": 0,
              "ticks": ""
             }
            },
            "type": "scattergl"
           }
          ],
          "scattermap": [
           {
            "marker": {
             "colorbar": {
              "outlinewidth": 0,
              "ticks": ""
             }
            },
            "type": "scattermap"
           }
          ],
          "scattermapbox": [
           {
            "marker": {
             "colorbar": {
              "outlinewidth": 0,
              "ticks": ""
             }
            },
            "type": "scattermapbox"
           }
          ],
          "scatterpolar": [
           {
            "marker": {
             "colorbar": {
              "outlinewidth": 0,
              "ticks": ""
             }
            },
            "type": "scatterpolar"
           }
          ],
          "scatterpolargl": [
           {
            "marker": {
             "colorbar": {
              "outlinewidth": 0,
              "ticks": ""
             }
            },
            "type": "scatterpolargl"
           }
          ],
          "scatterternary": [
           {
            "marker": {
             "colorbar": {
              "outlinewidth": 0,
              "ticks": ""
             }
            },
            "type": "scatterternary"
           }
          ],
          "surface": [
           {
            "colorbar": {
             "outlinewidth": 0,
             "ticks": ""
            },
            "colorscale": [
             [
              0,
              "#0d0887"
             ],
             [
              0.1111111111111111,
              "#46039f"
             ],
             [
              0.2222222222222222,
              "#7201a8"
             ],
             [
              0.3333333333333333,
              "#9c179e"
             ],
             [
              0.4444444444444444,
              "#bd3786"
             ],
             [
              0.5555555555555556,
              "#d8576b"
             ],
             [
              0.6666666666666666,
              "#ed7953"
             ],
             [
              0.7777777777777778,
              "#fb9f3a"
             ],
             [
              0.8888888888888888,
              "#fdca26"
             ],
             [
              1,
              "#f0f921"
             ]
            ],
            "type": "surface"
           }
          ],
          "table": [
           {
            "cells": {
             "fill": {
              "color": "#EBF0F8"
             },
             "line": {
              "color": "white"
             }
            },
            "header": {
             "fill": {
              "color": "#C8D4E3"
             },
             "line": {
              "color": "white"
             }
            },
            "type": "table"
           }
          ]
         },
         "layout": {
          "annotationdefaults": {
           "arrowcolor": "#2a3f5f",
           "arrowhead": 0,
           "arrowwidth": 1
          },
          "autotypenumbers": "strict",
          "coloraxis": {
           "colorbar": {
            "outlinewidth": 0,
            "ticks": ""
           }
          },
          "colorscale": {
           "diverging": [
            [
             0,
             "#8e0152"
            ],
            [
             0.1,
             "#c51b7d"
            ],
            [
             0.2,
             "#de77ae"
            ],
            [
             0.3,
             "#f1b6da"
            ],
            [
             0.4,
             "#fde0ef"
            ],
            [
             0.5,
             "#f7f7f7"
            ],
            [
             0.6,
             "#e6f5d0"
            ],
            [
             0.7,
             "#b8e186"
            ],
            [
             0.8,
             "#7fbc41"
            ],
            [
             0.9,
             "#4d9221"
            ],
            [
             1,
             "#276419"
            ]
           ],
           "sequential": [
            [
             0,
             "#0d0887"
            ],
            [
             0.1111111111111111,
             "#46039f"
            ],
            [
             0.2222222222222222,
             "#7201a8"
            ],
            [
             0.3333333333333333,
             "#9c179e"
            ],
            [
             0.4444444444444444,
             "#bd3786"
            ],
            [
             0.5555555555555556,
             "#d8576b"
            ],
            [
             0.6666666666666666,
             "#ed7953"
            ],
            [
             0.7777777777777778,
             "#fb9f3a"
            ],
            [
             0.8888888888888888,
             "#fdca26"
            ],
            [
             1,
             "#f0f921"
            ]
           ],
           "sequentialminus": [
            [
             0,
             "#0d0887"
            ],
            [
             0.1111111111111111,
             "#46039f"
            ],
            [
             0.2222222222222222,
             "#7201a8"
            ],
            [
             0.3333333333333333,
             "#9c179e"
            ],
            [
             0.4444444444444444,
             "#bd3786"
            ],
            [
             0.5555555555555556,
             "#d8576b"
            ],
            [
             0.6666666666666666,
             "#ed7953"
            ],
            [
             0.7777777777777778,
             "#fb9f3a"
            ],
            [
             0.8888888888888888,
             "#fdca26"
            ],
            [
             1,
             "#f0f921"
            ]
           ]
          },
          "colorway": [
           "#636efa",
           "#EF553B",
           "#00cc96",
           "#ab63fa",
           "#FFA15A",
           "#19d3f3",
           "#FF6692",
           "#B6E880",
           "#FF97FF",
           "#FECB52"
          ],
          "font": {
           "color": "#2a3f5f"
          },
          "geo": {
           "bgcolor": "white",
           "lakecolor": "white",
           "landcolor": "#E5ECF6",
           "showlakes": true,
           "showland": true,
           "subunitcolor": "white"
          },
          "hoverlabel": {
           "align": "left"
          },
          "hovermode": "closest",
          "mapbox": {
           "style": "light"
          },
          "paper_bgcolor": "white",
          "plot_bgcolor": "#E5ECF6",
          "polar": {
           "angularaxis": {
            "gridcolor": "white",
            "linecolor": "white",
            "ticks": ""
           },
           "bgcolor": "#E5ECF6",
           "radialaxis": {
            "gridcolor": "white",
            "linecolor": "white",
            "ticks": ""
           }
          },
          "scene": {
           "xaxis": {
            "backgroundcolor": "#E5ECF6",
            "gridcolor": "white",
            "gridwidth": 2,
            "linecolor": "white",
            "showbackground": true,
            "ticks": "",
            "zerolinecolor": "white"
           },
           "yaxis": {
            "backgroundcolor": "#E5ECF6",
            "gridcolor": "white",
            "gridwidth": 2,
            "linecolor": "white",
            "showbackground": true,
            "ticks": "",
            "zerolinecolor": "white"
           },
           "zaxis": {
            "backgroundcolor": "#E5ECF6",
            "gridcolor": "white",
            "gridwidth": 2,
            "linecolor": "white",
            "showbackground": true,
            "ticks": "",
            "zerolinecolor": "white"
           }
          },
          "shapedefaults": {
           "line": {
            "color": "#2a3f5f"
           }
          },
          "ternary": {
           "aaxis": {
            "gridcolor": "white",
            "linecolor": "white",
            "ticks": ""
           },
           "baxis": {
            "gridcolor": "white",
            "linecolor": "white",
            "ticks": ""
           },
           "bgcolor": "#E5ECF6",
           "caxis": {
            "gridcolor": "white",
            "linecolor": "white",
            "ticks": ""
           }
          },
          "title": {
           "x": 0.05
          },
          "xaxis": {
           "automargin": true,
           "gridcolor": "white",
           "linecolor": "white",
           "ticks": "",
           "title": {
            "standoff": 15
           },
           "zerolinecolor": "white",
           "zerolinewidth": 2
          },
          "yaxis": {
           "automargin": true,
           "gridcolor": "white",
           "linecolor": "white",
           "ticks": "",
           "title": {
            "standoff": 15
           },
           "zerolinecolor": "white",
           "zerolinewidth": 2
          }
         }
        }
       }
      }
     },
     "metadata": {},
     "output_type": "display_data"
    }
   ],
   "source": [
    "# t-SNE of the merged tensor\n",
    "\n",
    "class_labels = np.array([[label for _ in range(30)] for label in true_labels]).flatten().tolist()\n",
    "\n",
    "unique_labels = sorted(set(class_labels))\n",
    "label_to_int = {label: i for i, label in enumerate(unique_labels)}\n",
    "\n",
    "color_list = [label_to_int[label] for label in class_labels]\n",
    "\n",
    "text_labels = []\n",
    "for i,label in enumerate(class_labels):\n",
    "    text_labels.append(label + ': \"' + labels[i] + '\"')\n",
    "\n",
    "tsne = TSNE(n_components=2, verbose=0, perplexity=40, n_iter=300)\n",
    "image_text_tsne = tsne.fit_transform(text_cat_image.to('cpu'))\n",
    "\n",
    "sizes = np.array([15 if i < 270 else 5 for i in range(len(image_text_tsne))])\n",
    "\n",
    "hover_labels = text_labels+ class_labels\n",
    "\n",
    "fig = go.Figure()\n",
    "fig.add_trace(go.Scatter(\n",
    "    x=image_text_tsne[:540, 0],\n",
    "    y=image_text_tsne[:540, 1],\n",
    "    mode='markers',\n",
    "    text=hover_labels,\n",
    "    hoverinfo = 'text',\n",
    "    hovertemplate='%{text}<extra></extra>',\n",
    "    marker=dict(\n",
    "        size=sizes,\n",
    "        color=color_list + color_list,\n",
    "        opacity=0.7,\n",
    "        line=dict(width=0),\n",
    "    ),\n",
    "    showlegend=False\n",
    "))\n",
    "\n",
    "fig.update_layout(\n",
    "legend=dict(\n",
    "    title='Types de données',\n",
    "    x=0.01,\n",
    "    y=0.99,\n",
    "    bgcolor='rgba(255,255,255,0.8)',\n",
    "    bordercolor='black',\n",
    "    borderwidth=1\n",
    "    )\n",
    ")\n",
    "fig.data[0].name = \"Image embeddings\"\n",
    "\n",
    "fig.update_traces(\n",
    "    marker=dict(\n",
    "                line=dict(width=0,)\n",
    "                ))\n",
    "\n",
    "path='/home/onyxia/work/DetailCLIP/images/text + image/image.png'\n",
    "fig.write_image(path, format='png', engine='kaleido')\n",
    "fig.show()"
   ]
  }
 ],
 "metadata": {
  "kernelspec": {
   "display_name": "Python 3",
   "language": "python",
   "name": "python3"
  },
  "language_info": {
   "codemirror_mode": {
    "name": "ipython",
    "version": 3
   },
   "file_extension": ".py",
   "mimetype": "text/x-python",
   "name": "python",
   "nbconvert_exporter": "python",
   "pygments_lexer": "ipython3",
   "version": "3.12.9"
  }
 },
 "nbformat": 4,
 "nbformat_minor": 5
}
