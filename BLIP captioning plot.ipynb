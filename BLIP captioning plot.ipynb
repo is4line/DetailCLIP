{
 "cells": [
  {
   "cell_type": "code",
   "execution_count": 19,
   "id": "ee039af4",
   "metadata": {},
   "outputs": [],
   "source": [
    "from sklearn.decomposition import PCA\n",
    "from sklearn.manifold import TSNE\n",
    "import models\n",
    "import torch\n",
    "from collections import OrderedDict\n",
    "import json\n",
    "import os\n",
    "import torchvision.transforms as transforms\n",
    "from tokenizer import SimpleTokenizer\n",
    "import datasets\n",
    "import utils\n",
    "import matplotlib.pyplot as plt\n",
    "import seaborn as sns\n",
    "import pandas as pd\n",
    "import numpy as np\n",
    "import plotly.express as px\n",
    "import plotly.colors as pc\n",
    "import plotly.io as pio\n",
    "import random\n",
    "import kaleido\n",
    "import plotly.graph_objects as go\n",
    "from sklearn.preprocessing import StandardScaler"
   ]
  },
  {
   "cell_type": "code",
   "execution_count": 20,
   "id": "cd27b204",
   "metadata": {},
   "outputs": [
    {
     "name": "stdout",
     "output_type": "stream",
     "text": [
      "\tCreating MAE projection head\n",
      "\tMAE projection head created\n",
      "\tCreating IBOT projection head\n",
      "\tkeys have been loaded for ibot head with status: <All keys matched successfully>\n",
      "\tIBOT projection head created\n",
      "\tDetailCLIP model created\n",
      "=> creating model: ICLIP_VITB16\n",
      "\tCreating MAE projection head\n",
      "\tMAE projection head created\n",
      "\tCreating IBOT projection head\n",
      "\tkeys have been loaded for ibot head with status: <All keys matched successfully>\n",
      "\tIBOT projection head created\n",
      "\tDetailCLIP model created\n",
      "=> loaded resume checkpoint 'checkpoint_best.pt' (epoch 48)\n"
     ]
    }
   ],
   "source": [
    "model = getattr(models, 'ICLIP_VITB16')()\n",
    "model.cuda()\n",
    "\n",
    "# Creating model\n",
    "ckpt_path = 'checkpoint_best.pt'\n",
    "\n",
    "ckpt = torch.load(ckpt_path, map_location='cpu', weights_only=False)\n",
    "state_dict = OrderedDict()\n",
    "for k, v in ckpt['state_dict'].items():\n",
    "    state_dict[k.replace('module.', '')] = v\n",
    "\n",
    "old_args = ckpt['args']\n",
    "print(\"=> creating model: {}\".format(old_args.model))\n",
    "model = getattr(models, old_args.model)()\n",
    "model.cuda()\n",
    "model.load_state_dict(state_dict, strict=True)\n",
    "print(\"=> loaded resume checkpoint '{}' (epoch {})\".format(ckpt_path, ckpt['epoch']))"
   ]
  },
  {
   "cell_type": "code",
   "execution_count": 54,
   "id": "1d71fdd2",
   "metadata": {},
   "outputs": [],
   "source": [
    "cwd = '/home/onyxia/work/DetailCLIP'\n",
    "with open(os.path.join(cwd, 'dataset_catalog.json')) as f:\n",
    "    catalog = json.load(f)\n",
    "\n",
    "with open(os.path.join(cwd, 'templates.json')) as f:\n",
    "    all_templates = json.load(f)\n",
    "\n",
    "with open(os.path.join(cwd, 'labels.json')) as f:\n",
    "    all_labels = json.load(f)"
   ]
  },
  {
   "cell_type": "code",
   "execution_count": 22,
   "id": "a47b37cd",
   "metadata": {},
   "outputs": [
    {
     "name": "stdout",
     "output_type": "stream",
     "text": [
      "=> creating dataset\n"
     ]
    }
   ],
   "source": [
    "# Data loading code\n",
    "print(\"=> creating dataset\")\n",
    "tokenizer = SimpleTokenizer()\n",
    "val_transform = transforms.Compose([\n",
    "        transforms.Resize(224),\n",
    "        transforms.CenterCrop(224),\n",
    "        lambda x: x.convert('RGB'),\n",
    "        transforms.ToTensor(),\n",
    "        transforms.Normalize(mean=[0.485, 0.456, 0.406],\n",
    "                                std=[0.229, 0.224, 0.225])\n",
    "    ])"
   ]
  },
  {
   "cell_type": "code",
   "execution_count": 98,
   "id": "4a4a75bc",
   "metadata": {},
   "outputs": [
    {
     "name": "stdout",
     "output_type": "stream",
     "text": [
      "Evaluating blip\n"
     ]
    },
    {
     "data": {
      "text/plain": [
       "ICLIP(\n",
       "  (visual): MaskVisionTransformer(\n",
       "    (patch_embed): PatchEmbed(\n",
       "      (proj): Conv2d(3, 768, kernel_size=(16, 16), stride=(16, 16))\n",
       "      (norm): Identity()\n",
       "    )\n",
       "    (pos_drop): Dropout(p=0.0, inplace=False)\n",
       "    (blocks): Sequential(\n",
       "      (0): Block(\n",
       "        (norm1): LayerNorm((768,), eps=1e-06, elementwise_affine=True)\n",
       "        (attn): Attention(\n",
       "          (qkv): Linear(in_features=768, out_features=2304, bias=True)\n",
       "          (attn_drop): Dropout(p=0.0, inplace=False)\n",
       "          (proj): Linear(in_features=768, out_features=768, bias=True)\n",
       "          (proj_drop): Dropout(p=0.0, inplace=False)\n",
       "        )\n",
       "        (drop_path): Identity()\n",
       "        (norm2): LayerNorm((768,), eps=1e-06, elementwise_affine=True)\n",
       "        (mlp): Mlp(\n",
       "          (fc1): Linear(in_features=768, out_features=3072, bias=True)\n",
       "          (act): GELU(approximate='none')\n",
       "          (drop1): Dropout(p=0.0, inplace=False)\n",
       "          (fc2): Linear(in_features=3072, out_features=768, bias=True)\n",
       "          (drop2): Dropout(p=0.0, inplace=False)\n",
       "        )\n",
       "      )\n",
       "      (1): Block(\n",
       "        (norm1): LayerNorm((768,), eps=1e-06, elementwise_affine=True)\n",
       "        (attn): Attention(\n",
       "          (qkv): Linear(in_features=768, out_features=2304, bias=True)\n",
       "          (attn_drop): Dropout(p=0.0, inplace=False)\n",
       "          (proj): Linear(in_features=768, out_features=768, bias=True)\n",
       "          (proj_drop): Dropout(p=0.0, inplace=False)\n",
       "        )\n",
       "        (drop_path): Identity()\n",
       "        (norm2): LayerNorm((768,), eps=1e-06, elementwise_affine=True)\n",
       "        (mlp): Mlp(\n",
       "          (fc1): Linear(in_features=768, out_features=3072, bias=True)\n",
       "          (act): GELU(approximate='none')\n",
       "          (drop1): Dropout(p=0.0, inplace=False)\n",
       "          (fc2): Linear(in_features=3072, out_features=768, bias=True)\n",
       "          (drop2): Dropout(p=0.0, inplace=False)\n",
       "        )\n",
       "      )\n",
       "      (2): Block(\n",
       "        (norm1): LayerNorm((768,), eps=1e-06, elementwise_affine=True)\n",
       "        (attn): Attention(\n",
       "          (qkv): Linear(in_features=768, out_features=2304, bias=True)\n",
       "          (attn_drop): Dropout(p=0.0, inplace=False)\n",
       "          (proj): Linear(in_features=768, out_features=768, bias=True)\n",
       "          (proj_drop): Dropout(p=0.0, inplace=False)\n",
       "        )\n",
       "        (drop_path): Identity()\n",
       "        (norm2): LayerNorm((768,), eps=1e-06, elementwise_affine=True)\n",
       "        (mlp): Mlp(\n",
       "          (fc1): Linear(in_features=768, out_features=3072, bias=True)\n",
       "          (act): GELU(approximate='none')\n",
       "          (drop1): Dropout(p=0.0, inplace=False)\n",
       "          (fc2): Linear(in_features=3072, out_features=768, bias=True)\n",
       "          (drop2): Dropout(p=0.0, inplace=False)\n",
       "        )\n",
       "      )\n",
       "      (3): Block(\n",
       "        (norm1): LayerNorm((768,), eps=1e-06, elementwise_affine=True)\n",
       "        (attn): Attention(\n",
       "          (qkv): Linear(in_features=768, out_features=2304, bias=True)\n",
       "          (attn_drop): Dropout(p=0.0, inplace=False)\n",
       "          (proj): Linear(in_features=768, out_features=768, bias=True)\n",
       "          (proj_drop): Dropout(p=0.0, inplace=False)\n",
       "        )\n",
       "        (drop_path): Identity()\n",
       "        (norm2): LayerNorm((768,), eps=1e-06, elementwise_affine=True)\n",
       "        (mlp): Mlp(\n",
       "          (fc1): Linear(in_features=768, out_features=3072, bias=True)\n",
       "          (act): GELU(approximate='none')\n",
       "          (drop1): Dropout(p=0.0, inplace=False)\n",
       "          (fc2): Linear(in_features=3072, out_features=768, bias=True)\n",
       "          (drop2): Dropout(p=0.0, inplace=False)\n",
       "        )\n",
       "      )\n",
       "      (4): Block(\n",
       "        (norm1): LayerNorm((768,), eps=1e-06, elementwise_affine=True)\n",
       "        (attn): Attention(\n",
       "          (qkv): Linear(in_features=768, out_features=2304, bias=True)\n",
       "          (attn_drop): Dropout(p=0.0, inplace=False)\n",
       "          (proj): Linear(in_features=768, out_features=768, bias=True)\n",
       "          (proj_drop): Dropout(p=0.0, inplace=False)\n",
       "        )\n",
       "        (drop_path): Identity()\n",
       "        (norm2): LayerNorm((768,), eps=1e-06, elementwise_affine=True)\n",
       "        (mlp): Mlp(\n",
       "          (fc1): Linear(in_features=768, out_features=3072, bias=True)\n",
       "          (act): GELU(approximate='none')\n",
       "          (drop1): Dropout(p=0.0, inplace=False)\n",
       "          (fc2): Linear(in_features=3072, out_features=768, bias=True)\n",
       "          (drop2): Dropout(p=0.0, inplace=False)\n",
       "        )\n",
       "      )\n",
       "      (5): Block(\n",
       "        (norm1): LayerNorm((768,), eps=1e-06, elementwise_affine=True)\n",
       "        (attn): Attention(\n",
       "          (qkv): Linear(in_features=768, out_features=2304, bias=True)\n",
       "          (attn_drop): Dropout(p=0.0, inplace=False)\n",
       "          (proj): Linear(in_features=768, out_features=768, bias=True)\n",
       "          (proj_drop): Dropout(p=0.0, inplace=False)\n",
       "        )\n",
       "        (drop_path): Identity()\n",
       "        (norm2): LayerNorm((768,), eps=1e-06, elementwise_affine=True)\n",
       "        (mlp): Mlp(\n",
       "          (fc1): Linear(in_features=768, out_features=3072, bias=True)\n",
       "          (act): GELU(approximate='none')\n",
       "          (drop1): Dropout(p=0.0, inplace=False)\n",
       "          (fc2): Linear(in_features=3072, out_features=768, bias=True)\n",
       "          (drop2): Dropout(p=0.0, inplace=False)\n",
       "        )\n",
       "      )\n",
       "      (6): Block(\n",
       "        (norm1): LayerNorm((768,), eps=1e-06, elementwise_affine=True)\n",
       "        (attn): Attention(\n",
       "          (qkv): Linear(in_features=768, out_features=2304, bias=True)\n",
       "          (attn_drop): Dropout(p=0.0, inplace=False)\n",
       "          (proj): Linear(in_features=768, out_features=768, bias=True)\n",
       "          (proj_drop): Dropout(p=0.0, inplace=False)\n",
       "        )\n",
       "        (drop_path): Identity()\n",
       "        (norm2): LayerNorm((768,), eps=1e-06, elementwise_affine=True)\n",
       "        (mlp): Mlp(\n",
       "          (fc1): Linear(in_features=768, out_features=3072, bias=True)\n",
       "          (act): GELU(approximate='none')\n",
       "          (drop1): Dropout(p=0.0, inplace=False)\n",
       "          (fc2): Linear(in_features=3072, out_features=768, bias=True)\n",
       "          (drop2): Dropout(p=0.0, inplace=False)\n",
       "        )\n",
       "      )\n",
       "      (7): Block(\n",
       "        (norm1): LayerNorm((768,), eps=1e-06, elementwise_affine=True)\n",
       "        (attn): Attention(\n",
       "          (qkv): Linear(in_features=768, out_features=2304, bias=True)\n",
       "          (attn_drop): Dropout(p=0.0, inplace=False)\n",
       "          (proj): Linear(in_features=768, out_features=768, bias=True)\n",
       "          (proj_drop): Dropout(p=0.0, inplace=False)\n",
       "        )\n",
       "        (drop_path): Identity()\n",
       "        (norm2): LayerNorm((768,), eps=1e-06, elementwise_affine=True)\n",
       "        (mlp): Mlp(\n",
       "          (fc1): Linear(in_features=768, out_features=3072, bias=True)\n",
       "          (act): GELU(approximate='none')\n",
       "          (drop1): Dropout(p=0.0, inplace=False)\n",
       "          (fc2): Linear(in_features=3072, out_features=768, bias=True)\n",
       "          (drop2): Dropout(p=0.0, inplace=False)\n",
       "        )\n",
       "      )\n",
       "      (8): Block(\n",
       "        (norm1): LayerNorm((768,), eps=1e-06, elementwise_affine=True)\n",
       "        (attn): Attention(\n",
       "          (qkv): Linear(in_features=768, out_features=2304, bias=True)\n",
       "          (attn_drop): Dropout(p=0.0, inplace=False)\n",
       "          (proj): Linear(in_features=768, out_features=768, bias=True)\n",
       "          (proj_drop): Dropout(p=0.0, inplace=False)\n",
       "        )\n",
       "        (drop_path): Identity()\n",
       "        (norm2): LayerNorm((768,), eps=1e-06, elementwise_affine=True)\n",
       "        (mlp): Mlp(\n",
       "          (fc1): Linear(in_features=768, out_features=3072, bias=True)\n",
       "          (act): GELU(approximate='none')\n",
       "          (drop1): Dropout(p=0.0, inplace=False)\n",
       "          (fc2): Linear(in_features=3072, out_features=768, bias=True)\n",
       "          (drop2): Dropout(p=0.0, inplace=False)\n",
       "        )\n",
       "      )\n",
       "      (9): Block(\n",
       "        (norm1): LayerNorm((768,), eps=1e-06, elementwise_affine=True)\n",
       "        (attn): Attention(\n",
       "          (qkv): Linear(in_features=768, out_features=2304, bias=True)\n",
       "          (attn_drop): Dropout(p=0.0, inplace=False)\n",
       "          (proj): Linear(in_features=768, out_features=768, bias=True)\n",
       "          (proj_drop): Dropout(p=0.0, inplace=False)\n",
       "        )\n",
       "        (drop_path): Identity()\n",
       "        (norm2): LayerNorm((768,), eps=1e-06, elementwise_affine=True)\n",
       "        (mlp): Mlp(\n",
       "          (fc1): Linear(in_features=768, out_features=3072, bias=True)\n",
       "          (act): GELU(approximate='none')\n",
       "          (drop1): Dropout(p=0.0, inplace=False)\n",
       "          (fc2): Linear(in_features=3072, out_features=768, bias=True)\n",
       "          (drop2): Dropout(p=0.0, inplace=False)\n",
       "        )\n",
       "      )\n",
       "      (10): Block(\n",
       "        (norm1): LayerNorm((768,), eps=1e-06, elementwise_affine=True)\n",
       "        (attn): Attention(\n",
       "          (qkv): Linear(in_features=768, out_features=2304, bias=True)\n",
       "          (attn_drop): Dropout(p=0.0, inplace=False)\n",
       "          (proj): Linear(in_features=768, out_features=768, bias=True)\n",
       "          (proj_drop): Dropout(p=0.0, inplace=False)\n",
       "        )\n",
       "        (drop_path): Identity()\n",
       "        (norm2): LayerNorm((768,), eps=1e-06, elementwise_affine=True)\n",
       "        (mlp): Mlp(\n",
       "          (fc1): Linear(in_features=768, out_features=3072, bias=True)\n",
       "          (act): GELU(approximate='none')\n",
       "          (drop1): Dropout(p=0.0, inplace=False)\n",
       "          (fc2): Linear(in_features=3072, out_features=768, bias=True)\n",
       "          (drop2): Dropout(p=0.0, inplace=False)\n",
       "        )\n",
       "      )\n",
       "      (11): Block(\n",
       "        (norm1): LayerNorm((768,), eps=1e-06, elementwise_affine=True)\n",
       "        (attn): Attention(\n",
       "          (qkv): Linear(in_features=768, out_features=2304, bias=True)\n",
       "          (attn_drop): Dropout(p=0.0, inplace=False)\n",
       "          (proj): Linear(in_features=768, out_features=768, bias=True)\n",
       "          (proj_drop): Dropout(p=0.0, inplace=False)\n",
       "        )\n",
       "        (drop_path): Identity()\n",
       "        (norm2): LayerNorm((768,), eps=1e-06, elementwise_affine=True)\n",
       "        (mlp): Mlp(\n",
       "          (fc1): Linear(in_features=768, out_features=3072, bias=True)\n",
       "          (act): GELU(approximate='none')\n",
       "          (drop1): Dropout(p=0.0, inplace=False)\n",
       "          (fc2): Linear(in_features=3072, out_features=768, bias=True)\n",
       "          (drop2): Dropout(p=0.0, inplace=False)\n",
       "        )\n",
       "      )\n",
       "    )\n",
       "    (norm): LayerNorm((768,), eps=1e-06, elementwise_affine=True)\n",
       "    (pre_logits): Identity()\n",
       "    (head): Identity()\n",
       "  )\n",
       "  (transformer): Transformer(\n",
       "    (resblocks): Sequential(\n",
       "      (0): ResidualAttentionBlock(\n",
       "        (attn): MultiheadAttention(\n",
       "          (out_proj): NonDynamicallyQuantizableLinear(in_features=512, out_features=512, bias=True)\n",
       "        )\n",
       "        (ln_1): LayerNorm((512,), eps=1e-05, elementwise_affine=True)\n",
       "        (mlp): Sequential(\n",
       "          (c_fc): Linear(in_features=512, out_features=2048, bias=True)\n",
       "          (gelu): QuickGELU()\n",
       "          (c_proj): Linear(in_features=2048, out_features=512, bias=True)\n",
       "        )\n",
       "        (ln_2): LayerNorm((512,), eps=1e-05, elementwise_affine=True)\n",
       "      )\n",
       "      (1): ResidualAttentionBlock(\n",
       "        (attn): MultiheadAttention(\n",
       "          (out_proj): NonDynamicallyQuantizableLinear(in_features=512, out_features=512, bias=True)\n",
       "        )\n",
       "        (ln_1): LayerNorm((512,), eps=1e-05, elementwise_affine=True)\n",
       "        (mlp): Sequential(\n",
       "          (c_fc): Linear(in_features=512, out_features=2048, bias=True)\n",
       "          (gelu): QuickGELU()\n",
       "          (c_proj): Linear(in_features=2048, out_features=512, bias=True)\n",
       "        )\n",
       "        (ln_2): LayerNorm((512,), eps=1e-05, elementwise_affine=True)\n",
       "      )\n",
       "      (2): ResidualAttentionBlock(\n",
       "        (attn): MultiheadAttention(\n",
       "          (out_proj): NonDynamicallyQuantizableLinear(in_features=512, out_features=512, bias=True)\n",
       "        )\n",
       "        (ln_1): LayerNorm((512,), eps=1e-05, elementwise_affine=True)\n",
       "        (mlp): Sequential(\n",
       "          (c_fc): Linear(in_features=512, out_features=2048, bias=True)\n",
       "          (gelu): QuickGELU()\n",
       "          (c_proj): Linear(in_features=2048, out_features=512, bias=True)\n",
       "        )\n",
       "        (ln_2): LayerNorm((512,), eps=1e-05, elementwise_affine=True)\n",
       "      )\n",
       "      (3): ResidualAttentionBlock(\n",
       "        (attn): MultiheadAttention(\n",
       "          (out_proj): NonDynamicallyQuantizableLinear(in_features=512, out_features=512, bias=True)\n",
       "        )\n",
       "        (ln_1): LayerNorm((512,), eps=1e-05, elementwise_affine=True)\n",
       "        (mlp): Sequential(\n",
       "          (c_fc): Linear(in_features=512, out_features=2048, bias=True)\n",
       "          (gelu): QuickGELU()\n",
       "          (c_proj): Linear(in_features=2048, out_features=512, bias=True)\n",
       "        )\n",
       "        (ln_2): LayerNorm((512,), eps=1e-05, elementwise_affine=True)\n",
       "      )\n",
       "      (4): ResidualAttentionBlock(\n",
       "        (attn): MultiheadAttention(\n",
       "          (out_proj): NonDynamicallyQuantizableLinear(in_features=512, out_features=512, bias=True)\n",
       "        )\n",
       "        (ln_1): LayerNorm((512,), eps=1e-05, elementwise_affine=True)\n",
       "        (mlp): Sequential(\n",
       "          (c_fc): Linear(in_features=512, out_features=2048, bias=True)\n",
       "          (gelu): QuickGELU()\n",
       "          (c_proj): Linear(in_features=2048, out_features=512, bias=True)\n",
       "        )\n",
       "        (ln_2): LayerNorm((512,), eps=1e-05, elementwise_affine=True)\n",
       "      )\n",
       "      (5): ResidualAttentionBlock(\n",
       "        (attn): MultiheadAttention(\n",
       "          (out_proj): NonDynamicallyQuantizableLinear(in_features=512, out_features=512, bias=True)\n",
       "        )\n",
       "        (ln_1): LayerNorm((512,), eps=1e-05, elementwise_affine=True)\n",
       "        (mlp): Sequential(\n",
       "          (c_fc): Linear(in_features=512, out_features=2048, bias=True)\n",
       "          (gelu): QuickGELU()\n",
       "          (c_proj): Linear(in_features=2048, out_features=512, bias=True)\n",
       "        )\n",
       "        (ln_2): LayerNorm((512,), eps=1e-05, elementwise_affine=True)\n",
       "      )\n",
       "      (6): ResidualAttentionBlock(\n",
       "        (attn): MultiheadAttention(\n",
       "          (out_proj): NonDynamicallyQuantizableLinear(in_features=512, out_features=512, bias=True)\n",
       "        )\n",
       "        (ln_1): LayerNorm((512,), eps=1e-05, elementwise_affine=True)\n",
       "        (mlp): Sequential(\n",
       "          (c_fc): Linear(in_features=512, out_features=2048, bias=True)\n",
       "          (gelu): QuickGELU()\n",
       "          (c_proj): Linear(in_features=2048, out_features=512, bias=True)\n",
       "        )\n",
       "        (ln_2): LayerNorm((512,), eps=1e-05, elementwise_affine=True)\n",
       "      )\n",
       "      (7): ResidualAttentionBlock(\n",
       "        (attn): MultiheadAttention(\n",
       "          (out_proj): NonDynamicallyQuantizableLinear(in_features=512, out_features=512, bias=True)\n",
       "        )\n",
       "        (ln_1): LayerNorm((512,), eps=1e-05, elementwise_affine=True)\n",
       "        (mlp): Sequential(\n",
       "          (c_fc): Linear(in_features=512, out_features=2048, bias=True)\n",
       "          (gelu): QuickGELU()\n",
       "          (c_proj): Linear(in_features=2048, out_features=512, bias=True)\n",
       "        )\n",
       "        (ln_2): LayerNorm((512,), eps=1e-05, elementwise_affine=True)\n",
       "      )\n",
       "      (8): ResidualAttentionBlock(\n",
       "        (attn): MultiheadAttention(\n",
       "          (out_proj): NonDynamicallyQuantizableLinear(in_features=512, out_features=512, bias=True)\n",
       "        )\n",
       "        (ln_1): LayerNorm((512,), eps=1e-05, elementwise_affine=True)\n",
       "        (mlp): Sequential(\n",
       "          (c_fc): Linear(in_features=512, out_features=2048, bias=True)\n",
       "          (gelu): QuickGELU()\n",
       "          (c_proj): Linear(in_features=2048, out_features=512, bias=True)\n",
       "        )\n",
       "        (ln_2): LayerNorm((512,), eps=1e-05, elementwise_affine=True)\n",
       "      )\n",
       "      (9): ResidualAttentionBlock(\n",
       "        (attn): MultiheadAttention(\n",
       "          (out_proj): NonDynamicallyQuantizableLinear(in_features=512, out_features=512, bias=True)\n",
       "        )\n",
       "        (ln_1): LayerNorm((512,), eps=1e-05, elementwise_affine=True)\n",
       "        (mlp): Sequential(\n",
       "          (c_fc): Linear(in_features=512, out_features=2048, bias=True)\n",
       "          (gelu): QuickGELU()\n",
       "          (c_proj): Linear(in_features=2048, out_features=512, bias=True)\n",
       "        )\n",
       "        (ln_2): LayerNorm((512,), eps=1e-05, elementwise_affine=True)\n",
       "      )\n",
       "      (10): ResidualAttentionBlock(\n",
       "        (attn): MultiheadAttention(\n",
       "          (out_proj): NonDynamicallyQuantizableLinear(in_features=512, out_features=512, bias=True)\n",
       "        )\n",
       "        (ln_1): LayerNorm((512,), eps=1e-05, elementwise_affine=True)\n",
       "        (mlp): Sequential(\n",
       "          (c_fc): Linear(in_features=512, out_features=2048, bias=True)\n",
       "          (gelu): QuickGELU()\n",
       "          (c_proj): Linear(in_features=2048, out_features=512, bias=True)\n",
       "        )\n",
       "        (ln_2): LayerNorm((512,), eps=1e-05, elementwise_affine=True)\n",
       "      )\n",
       "      (11): ResidualAttentionBlock(\n",
       "        (attn): MultiheadAttention(\n",
       "          (out_proj): NonDynamicallyQuantizableLinear(in_features=512, out_features=512, bias=True)\n",
       "        )\n",
       "        (ln_1): LayerNorm((512,), eps=1e-05, elementwise_affine=True)\n",
       "        (mlp): Sequential(\n",
       "          (c_fc): Linear(in_features=512, out_features=2048, bias=True)\n",
       "          (gelu): QuickGELU()\n",
       "          (c_proj): Linear(in_features=2048, out_features=512, bias=True)\n",
       "        )\n",
       "        (ln_2): LayerNorm((512,), eps=1e-05, elementwise_affine=True)\n",
       "      )\n",
       "    )\n",
       "  )\n",
       "  (token_embedding): Embedding(49408, 512)\n",
       "  (ln_final): LayerNorm((512,), eps=1e-05, elementwise_affine=True)\n",
       "  (visual_ema): MaskVisionTransformer(\n",
       "    (patch_embed): PatchEmbed(\n",
       "      (proj): Conv2d(3, 768, kernel_size=(16, 16), stride=(16, 16))\n",
       "      (norm): Identity()\n",
       "    )\n",
       "    (pos_drop): Dropout(p=0.0, inplace=False)\n",
       "    (blocks): Sequential(\n",
       "      (0): Block(\n",
       "        (norm1): LayerNorm((768,), eps=1e-06, elementwise_affine=True)\n",
       "        (attn): Attention(\n",
       "          (qkv): Linear(in_features=768, out_features=2304, bias=True)\n",
       "          (attn_drop): Dropout(p=0.0, inplace=False)\n",
       "          (proj): Linear(in_features=768, out_features=768, bias=True)\n",
       "          (proj_drop): Dropout(p=0.0, inplace=False)\n",
       "        )\n",
       "        (drop_path): Identity()\n",
       "        (norm2): LayerNorm((768,), eps=1e-06, elementwise_affine=True)\n",
       "        (mlp): Mlp(\n",
       "          (fc1): Linear(in_features=768, out_features=3072, bias=True)\n",
       "          (act): GELU(approximate='none')\n",
       "          (drop1): Dropout(p=0.0, inplace=False)\n",
       "          (fc2): Linear(in_features=3072, out_features=768, bias=True)\n",
       "          (drop2): Dropout(p=0.0, inplace=False)\n",
       "        )\n",
       "      )\n",
       "      (1): Block(\n",
       "        (norm1): LayerNorm((768,), eps=1e-06, elementwise_affine=True)\n",
       "        (attn): Attention(\n",
       "          (qkv): Linear(in_features=768, out_features=2304, bias=True)\n",
       "          (attn_drop): Dropout(p=0.0, inplace=False)\n",
       "          (proj): Linear(in_features=768, out_features=768, bias=True)\n",
       "          (proj_drop): Dropout(p=0.0, inplace=False)\n",
       "        )\n",
       "        (drop_path): Identity()\n",
       "        (norm2): LayerNorm((768,), eps=1e-06, elementwise_affine=True)\n",
       "        (mlp): Mlp(\n",
       "          (fc1): Linear(in_features=768, out_features=3072, bias=True)\n",
       "          (act): GELU(approximate='none')\n",
       "          (drop1): Dropout(p=0.0, inplace=False)\n",
       "          (fc2): Linear(in_features=3072, out_features=768, bias=True)\n",
       "          (drop2): Dropout(p=0.0, inplace=False)\n",
       "        )\n",
       "      )\n",
       "      (2): Block(\n",
       "        (norm1): LayerNorm((768,), eps=1e-06, elementwise_affine=True)\n",
       "        (attn): Attention(\n",
       "          (qkv): Linear(in_features=768, out_features=2304, bias=True)\n",
       "          (attn_drop): Dropout(p=0.0, inplace=False)\n",
       "          (proj): Linear(in_features=768, out_features=768, bias=True)\n",
       "          (proj_drop): Dropout(p=0.0, inplace=False)\n",
       "        )\n",
       "        (drop_path): Identity()\n",
       "        (norm2): LayerNorm((768,), eps=1e-06, elementwise_affine=True)\n",
       "        (mlp): Mlp(\n",
       "          (fc1): Linear(in_features=768, out_features=3072, bias=True)\n",
       "          (act): GELU(approximate='none')\n",
       "          (drop1): Dropout(p=0.0, inplace=False)\n",
       "          (fc2): Linear(in_features=3072, out_features=768, bias=True)\n",
       "          (drop2): Dropout(p=0.0, inplace=False)\n",
       "        )\n",
       "      )\n",
       "      (3): Block(\n",
       "        (norm1): LayerNorm((768,), eps=1e-06, elementwise_affine=True)\n",
       "        (attn): Attention(\n",
       "          (qkv): Linear(in_features=768, out_features=2304, bias=True)\n",
       "          (attn_drop): Dropout(p=0.0, inplace=False)\n",
       "          (proj): Linear(in_features=768, out_features=768, bias=True)\n",
       "          (proj_drop): Dropout(p=0.0, inplace=False)\n",
       "        )\n",
       "        (drop_path): Identity()\n",
       "        (norm2): LayerNorm((768,), eps=1e-06, elementwise_affine=True)\n",
       "        (mlp): Mlp(\n",
       "          (fc1): Linear(in_features=768, out_features=3072, bias=True)\n",
       "          (act): GELU(approximate='none')\n",
       "          (drop1): Dropout(p=0.0, inplace=False)\n",
       "          (fc2): Linear(in_features=3072, out_features=768, bias=True)\n",
       "          (drop2): Dropout(p=0.0, inplace=False)\n",
       "        )\n",
       "      )\n",
       "      (4): Block(\n",
       "        (norm1): LayerNorm((768,), eps=1e-06, elementwise_affine=True)\n",
       "        (attn): Attention(\n",
       "          (qkv): Linear(in_features=768, out_features=2304, bias=True)\n",
       "          (attn_drop): Dropout(p=0.0, inplace=False)\n",
       "          (proj): Linear(in_features=768, out_features=768, bias=True)\n",
       "          (proj_drop): Dropout(p=0.0, inplace=False)\n",
       "        )\n",
       "        (drop_path): Identity()\n",
       "        (norm2): LayerNorm((768,), eps=1e-06, elementwise_affine=True)\n",
       "        (mlp): Mlp(\n",
       "          (fc1): Linear(in_features=768, out_features=3072, bias=True)\n",
       "          (act): GELU(approximate='none')\n",
       "          (drop1): Dropout(p=0.0, inplace=False)\n",
       "          (fc2): Linear(in_features=3072, out_features=768, bias=True)\n",
       "          (drop2): Dropout(p=0.0, inplace=False)\n",
       "        )\n",
       "      )\n",
       "      (5): Block(\n",
       "        (norm1): LayerNorm((768,), eps=1e-06, elementwise_affine=True)\n",
       "        (attn): Attention(\n",
       "          (qkv): Linear(in_features=768, out_features=2304, bias=True)\n",
       "          (attn_drop): Dropout(p=0.0, inplace=False)\n",
       "          (proj): Linear(in_features=768, out_features=768, bias=True)\n",
       "          (proj_drop): Dropout(p=0.0, inplace=False)\n",
       "        )\n",
       "        (drop_path): Identity()\n",
       "        (norm2): LayerNorm((768,), eps=1e-06, elementwise_affine=True)\n",
       "        (mlp): Mlp(\n",
       "          (fc1): Linear(in_features=768, out_features=3072, bias=True)\n",
       "          (act): GELU(approximate='none')\n",
       "          (drop1): Dropout(p=0.0, inplace=False)\n",
       "          (fc2): Linear(in_features=3072, out_features=768, bias=True)\n",
       "          (drop2): Dropout(p=0.0, inplace=False)\n",
       "        )\n",
       "      )\n",
       "      (6): Block(\n",
       "        (norm1): LayerNorm((768,), eps=1e-06, elementwise_affine=True)\n",
       "        (attn): Attention(\n",
       "          (qkv): Linear(in_features=768, out_features=2304, bias=True)\n",
       "          (attn_drop): Dropout(p=0.0, inplace=False)\n",
       "          (proj): Linear(in_features=768, out_features=768, bias=True)\n",
       "          (proj_drop): Dropout(p=0.0, inplace=False)\n",
       "        )\n",
       "        (drop_path): Identity()\n",
       "        (norm2): LayerNorm((768,), eps=1e-06, elementwise_affine=True)\n",
       "        (mlp): Mlp(\n",
       "          (fc1): Linear(in_features=768, out_features=3072, bias=True)\n",
       "          (act): GELU(approximate='none')\n",
       "          (drop1): Dropout(p=0.0, inplace=False)\n",
       "          (fc2): Linear(in_features=3072, out_features=768, bias=True)\n",
       "          (drop2): Dropout(p=0.0, inplace=False)\n",
       "        )\n",
       "      )\n",
       "      (7): Block(\n",
       "        (norm1): LayerNorm((768,), eps=1e-06, elementwise_affine=True)\n",
       "        (attn): Attention(\n",
       "          (qkv): Linear(in_features=768, out_features=2304, bias=True)\n",
       "          (attn_drop): Dropout(p=0.0, inplace=False)\n",
       "          (proj): Linear(in_features=768, out_features=768, bias=True)\n",
       "          (proj_drop): Dropout(p=0.0, inplace=False)\n",
       "        )\n",
       "        (drop_path): Identity()\n",
       "        (norm2): LayerNorm((768,), eps=1e-06, elementwise_affine=True)\n",
       "        (mlp): Mlp(\n",
       "          (fc1): Linear(in_features=768, out_features=3072, bias=True)\n",
       "          (act): GELU(approximate='none')\n",
       "          (drop1): Dropout(p=0.0, inplace=False)\n",
       "          (fc2): Linear(in_features=3072, out_features=768, bias=True)\n",
       "          (drop2): Dropout(p=0.0, inplace=False)\n",
       "        )\n",
       "      )\n",
       "      (8): Block(\n",
       "        (norm1): LayerNorm((768,), eps=1e-06, elementwise_affine=True)\n",
       "        (attn): Attention(\n",
       "          (qkv): Linear(in_features=768, out_features=2304, bias=True)\n",
       "          (attn_drop): Dropout(p=0.0, inplace=False)\n",
       "          (proj): Linear(in_features=768, out_features=768, bias=True)\n",
       "          (proj_drop): Dropout(p=0.0, inplace=False)\n",
       "        )\n",
       "        (drop_path): Identity()\n",
       "        (norm2): LayerNorm((768,), eps=1e-06, elementwise_affine=True)\n",
       "        (mlp): Mlp(\n",
       "          (fc1): Linear(in_features=768, out_features=3072, bias=True)\n",
       "          (act): GELU(approximate='none')\n",
       "          (drop1): Dropout(p=0.0, inplace=False)\n",
       "          (fc2): Linear(in_features=3072, out_features=768, bias=True)\n",
       "          (drop2): Dropout(p=0.0, inplace=False)\n",
       "        )\n",
       "      )\n",
       "      (9): Block(\n",
       "        (norm1): LayerNorm((768,), eps=1e-06, elementwise_affine=True)\n",
       "        (attn): Attention(\n",
       "          (qkv): Linear(in_features=768, out_features=2304, bias=True)\n",
       "          (attn_drop): Dropout(p=0.0, inplace=False)\n",
       "          (proj): Linear(in_features=768, out_features=768, bias=True)\n",
       "          (proj_drop): Dropout(p=0.0, inplace=False)\n",
       "        )\n",
       "        (drop_path): Identity()\n",
       "        (norm2): LayerNorm((768,), eps=1e-06, elementwise_affine=True)\n",
       "        (mlp): Mlp(\n",
       "          (fc1): Linear(in_features=768, out_features=3072, bias=True)\n",
       "          (act): GELU(approximate='none')\n",
       "          (drop1): Dropout(p=0.0, inplace=False)\n",
       "          (fc2): Linear(in_features=3072, out_features=768, bias=True)\n",
       "          (drop2): Dropout(p=0.0, inplace=False)\n",
       "        )\n",
       "      )\n",
       "      (10): Block(\n",
       "        (norm1): LayerNorm((768,), eps=1e-06, elementwise_affine=True)\n",
       "        (attn): Attention(\n",
       "          (qkv): Linear(in_features=768, out_features=2304, bias=True)\n",
       "          (attn_drop): Dropout(p=0.0, inplace=False)\n",
       "          (proj): Linear(in_features=768, out_features=768, bias=True)\n",
       "          (proj_drop): Dropout(p=0.0, inplace=False)\n",
       "        )\n",
       "        (drop_path): Identity()\n",
       "        (norm2): LayerNorm((768,), eps=1e-06, elementwise_affine=True)\n",
       "        (mlp): Mlp(\n",
       "          (fc1): Linear(in_features=768, out_features=3072, bias=True)\n",
       "          (act): GELU(approximate='none')\n",
       "          (drop1): Dropout(p=0.0, inplace=False)\n",
       "          (fc2): Linear(in_features=3072, out_features=768, bias=True)\n",
       "          (drop2): Dropout(p=0.0, inplace=False)\n",
       "        )\n",
       "      )\n",
       "      (11): Block(\n",
       "        (norm1): LayerNorm((768,), eps=1e-06, elementwise_affine=True)\n",
       "        (attn): Attention(\n",
       "          (qkv): Linear(in_features=768, out_features=2304, bias=True)\n",
       "          (attn_drop): Dropout(p=0.0, inplace=False)\n",
       "          (proj): Linear(in_features=768, out_features=768, bias=True)\n",
       "          (proj_drop): Dropout(p=0.0, inplace=False)\n",
       "        )\n",
       "        (drop_path): Identity()\n",
       "        (norm2): LayerNorm((768,), eps=1e-06, elementwise_affine=True)\n",
       "        (mlp): Mlp(\n",
       "          (fc1): Linear(in_features=768, out_features=3072, bias=True)\n",
       "          (act): GELU(approximate='none')\n",
       "          (drop1): Dropout(p=0.0, inplace=False)\n",
       "          (fc2): Linear(in_features=3072, out_features=768, bias=True)\n",
       "          (drop2): Dropout(p=0.0, inplace=False)\n",
       "        )\n",
       "      )\n",
       "    )\n",
       "    (norm): LayerNorm((768,), eps=1e-06, elementwise_affine=True)\n",
       "    (pre_logits): Identity()\n",
       "    (head): Identity()\n",
       "  )\n",
       "  (transformer_e): Transformer(\n",
       "    (resblocks): Sequential(\n",
       "      (0): ResidualAttentionBlock(\n",
       "        (attn): MultiheadAttention(\n",
       "          (out_proj): NonDynamicallyQuantizableLinear(in_features=512, out_features=512, bias=True)\n",
       "        )\n",
       "        (ln_1): LayerNorm((512,), eps=1e-05, elementwise_affine=True)\n",
       "        (mlp): Sequential(\n",
       "          (c_fc): Linear(in_features=512, out_features=2048, bias=True)\n",
       "          (gelu): QuickGELU()\n",
       "          (c_proj): Linear(in_features=2048, out_features=512, bias=True)\n",
       "        )\n",
       "        (ln_2): LayerNorm((512,), eps=1e-05, elementwise_affine=True)\n",
       "      )\n",
       "      (1): ResidualAttentionBlock(\n",
       "        (attn): MultiheadAttention(\n",
       "          (out_proj): NonDynamicallyQuantizableLinear(in_features=512, out_features=512, bias=True)\n",
       "        )\n",
       "        (ln_1): LayerNorm((512,), eps=1e-05, elementwise_affine=True)\n",
       "        (mlp): Sequential(\n",
       "          (c_fc): Linear(in_features=512, out_features=2048, bias=True)\n",
       "          (gelu): QuickGELU()\n",
       "          (c_proj): Linear(in_features=2048, out_features=512, bias=True)\n",
       "        )\n",
       "        (ln_2): LayerNorm((512,), eps=1e-05, elementwise_affine=True)\n",
       "      )\n",
       "      (2): ResidualAttentionBlock(\n",
       "        (attn): MultiheadAttention(\n",
       "          (out_proj): NonDynamicallyQuantizableLinear(in_features=512, out_features=512, bias=True)\n",
       "        )\n",
       "        (ln_1): LayerNorm((512,), eps=1e-05, elementwise_affine=True)\n",
       "        (mlp): Sequential(\n",
       "          (c_fc): Linear(in_features=512, out_features=2048, bias=True)\n",
       "          (gelu): QuickGELU()\n",
       "          (c_proj): Linear(in_features=2048, out_features=512, bias=True)\n",
       "        )\n",
       "        (ln_2): LayerNorm((512,), eps=1e-05, elementwise_affine=True)\n",
       "      )\n",
       "      (3): ResidualAttentionBlock(\n",
       "        (attn): MultiheadAttention(\n",
       "          (out_proj): NonDynamicallyQuantizableLinear(in_features=512, out_features=512, bias=True)\n",
       "        )\n",
       "        (ln_1): LayerNorm((512,), eps=1e-05, elementwise_affine=True)\n",
       "        (mlp): Sequential(\n",
       "          (c_fc): Linear(in_features=512, out_features=2048, bias=True)\n",
       "          (gelu): QuickGELU()\n",
       "          (c_proj): Linear(in_features=2048, out_features=512, bias=True)\n",
       "        )\n",
       "        (ln_2): LayerNorm((512,), eps=1e-05, elementwise_affine=True)\n",
       "      )\n",
       "      (4): ResidualAttentionBlock(\n",
       "        (attn): MultiheadAttention(\n",
       "          (out_proj): NonDynamicallyQuantizableLinear(in_features=512, out_features=512, bias=True)\n",
       "        )\n",
       "        (ln_1): LayerNorm((512,), eps=1e-05, elementwise_affine=True)\n",
       "        (mlp): Sequential(\n",
       "          (c_fc): Linear(in_features=512, out_features=2048, bias=True)\n",
       "          (gelu): QuickGELU()\n",
       "          (c_proj): Linear(in_features=2048, out_features=512, bias=True)\n",
       "        )\n",
       "        (ln_2): LayerNorm((512,), eps=1e-05, elementwise_affine=True)\n",
       "      )\n",
       "      (5): ResidualAttentionBlock(\n",
       "        (attn): MultiheadAttention(\n",
       "          (out_proj): NonDynamicallyQuantizableLinear(in_features=512, out_features=512, bias=True)\n",
       "        )\n",
       "        (ln_1): LayerNorm((512,), eps=1e-05, elementwise_affine=True)\n",
       "        (mlp): Sequential(\n",
       "          (c_fc): Linear(in_features=512, out_features=2048, bias=True)\n",
       "          (gelu): QuickGELU()\n",
       "          (c_proj): Linear(in_features=2048, out_features=512, bias=True)\n",
       "        )\n",
       "        (ln_2): LayerNorm((512,), eps=1e-05, elementwise_affine=True)\n",
       "      )\n",
       "      (6): ResidualAttentionBlock(\n",
       "        (attn): MultiheadAttention(\n",
       "          (out_proj): NonDynamicallyQuantizableLinear(in_features=512, out_features=512, bias=True)\n",
       "        )\n",
       "        (ln_1): LayerNorm((512,), eps=1e-05, elementwise_affine=True)\n",
       "        (mlp): Sequential(\n",
       "          (c_fc): Linear(in_features=512, out_features=2048, bias=True)\n",
       "          (gelu): QuickGELU()\n",
       "          (c_proj): Linear(in_features=2048, out_features=512, bias=True)\n",
       "        )\n",
       "        (ln_2): LayerNorm((512,), eps=1e-05, elementwise_affine=True)\n",
       "      )\n",
       "      (7): ResidualAttentionBlock(\n",
       "        (attn): MultiheadAttention(\n",
       "          (out_proj): NonDynamicallyQuantizableLinear(in_features=512, out_features=512, bias=True)\n",
       "        )\n",
       "        (ln_1): LayerNorm((512,), eps=1e-05, elementwise_affine=True)\n",
       "        (mlp): Sequential(\n",
       "          (c_fc): Linear(in_features=512, out_features=2048, bias=True)\n",
       "          (gelu): QuickGELU()\n",
       "          (c_proj): Linear(in_features=2048, out_features=512, bias=True)\n",
       "        )\n",
       "        (ln_2): LayerNorm((512,), eps=1e-05, elementwise_affine=True)\n",
       "      )\n",
       "      (8): ResidualAttentionBlock(\n",
       "        (attn): MultiheadAttention(\n",
       "          (out_proj): NonDynamicallyQuantizableLinear(in_features=512, out_features=512, bias=True)\n",
       "        )\n",
       "        (ln_1): LayerNorm((512,), eps=1e-05, elementwise_affine=True)\n",
       "        (mlp): Sequential(\n",
       "          (c_fc): Linear(in_features=512, out_features=2048, bias=True)\n",
       "          (gelu): QuickGELU()\n",
       "          (c_proj): Linear(in_features=2048, out_features=512, bias=True)\n",
       "        )\n",
       "        (ln_2): LayerNorm((512,), eps=1e-05, elementwise_affine=True)\n",
       "      )\n",
       "      (9): ResidualAttentionBlock(\n",
       "        (attn): MultiheadAttention(\n",
       "          (out_proj): NonDynamicallyQuantizableLinear(in_features=512, out_features=512, bias=True)\n",
       "        )\n",
       "        (ln_1): LayerNorm((512,), eps=1e-05, elementwise_affine=True)\n",
       "        (mlp): Sequential(\n",
       "          (c_fc): Linear(in_features=512, out_features=2048, bias=True)\n",
       "          (gelu): QuickGELU()\n",
       "          (c_proj): Linear(in_features=2048, out_features=512, bias=True)\n",
       "        )\n",
       "        (ln_2): LayerNorm((512,), eps=1e-05, elementwise_affine=True)\n",
       "      )\n",
       "      (10): ResidualAttentionBlock(\n",
       "        (attn): MultiheadAttention(\n",
       "          (out_proj): NonDynamicallyQuantizableLinear(in_features=512, out_features=512, bias=True)\n",
       "        )\n",
       "        (ln_1): LayerNorm((512,), eps=1e-05, elementwise_affine=True)\n",
       "        (mlp): Sequential(\n",
       "          (c_fc): Linear(in_features=512, out_features=2048, bias=True)\n",
       "          (gelu): QuickGELU()\n",
       "          (c_proj): Linear(in_features=2048, out_features=512, bias=True)\n",
       "        )\n",
       "        (ln_2): LayerNorm((512,), eps=1e-05, elementwise_affine=True)\n",
       "      )\n",
       "      (11): ResidualAttentionBlock(\n",
       "        (attn): MultiheadAttention(\n",
       "          (out_proj): NonDynamicallyQuantizableLinear(in_features=512, out_features=512, bias=True)\n",
       "        )\n",
       "        (ln_1): LayerNorm((512,), eps=1e-05, elementwise_affine=True)\n",
       "        (mlp): Sequential(\n",
       "          (c_fc): Linear(in_features=512, out_features=2048, bias=True)\n",
       "          (gelu): QuickGELU()\n",
       "          (c_proj): Linear(in_features=2048, out_features=512, bias=True)\n",
       "        )\n",
       "        (ln_2): LayerNorm((512,), eps=1e-05, elementwise_affine=True)\n",
       "      )\n",
       "    )\n",
       "  )\n",
       "  (decoder_embed): Linear(in_features=768, out_features=768, bias=True)\n",
       "  (decoder_blocks): ModuleList(\n",
       "    (0): Block(\n",
       "      (norm1): LayerNorm((768,), eps=1e-06, elementwise_affine=True)\n",
       "      (attn): Attention(\n",
       "        (qkv): Linear(in_features=768, out_features=2304, bias=True)\n",
       "        (attn_drop): Dropout(p=0.0, inplace=False)\n",
       "        (proj): Linear(in_features=768, out_features=768, bias=True)\n",
       "        (proj_drop): Dropout(p=0.0, inplace=False)\n",
       "      )\n",
       "      (drop_path): Identity()\n",
       "      (norm2): LayerNorm((768,), eps=1e-06, elementwise_affine=True)\n",
       "      (mlp): Mlp(\n",
       "        (fc1): Linear(in_features=768, out_features=3072, bias=True)\n",
       "        (act): GELU(approximate='none')\n",
       "        (drop1): Dropout(p=0.0, inplace=False)\n",
       "        (fc2): Linear(in_features=3072, out_features=768, bias=True)\n",
       "        (drop2): Dropout(p=0.0, inplace=False)\n",
       "      )\n",
       "    )\n",
       "  )\n",
       "  (decoder_norm): LayerNorm((768,), eps=1e-06, elementwise_affine=True)\n",
       "  (reconstruction_pred): Linear(in_features=768, out_features=768, bias=True)\n",
       "  (ibot_head): iBOTHead(\n",
       "    (mlp): CustomSequential(\n",
       "      (0): Linear(in_features=768, out_features=2048, bias=True)\n",
       "      (1): GELU(approximate='none')\n",
       "      (2): Linear(in_features=2048, out_features=2048, bias=True)\n",
       "      (3): GELU(approximate='none')\n",
       "      (4): Linear(in_features=2048, out_features=256, bias=True)\n",
       "    )\n",
       "    (last_layer): Linear(in_features=256, out_features=8192, bias=False)\n",
       "    (last_layer2): Linear(in_features=256, out_features=8192, bias=False)\n",
       "  )\n",
       "  (ibot_head_e): iBOTHead(\n",
       "    (mlp): CustomSequential(\n",
       "      (0): Linear(in_features=768, out_features=2048, bias=True)\n",
       "      (1): GELU(approximate='none')\n",
       "      (2): Linear(in_features=2048, out_features=2048, bias=True)\n",
       "      (3): GELU(approximate='none')\n",
       "      (4): Linear(in_features=2048, out_features=256, bias=True)\n",
       "    )\n",
       "    (last_layer): Linear(in_features=256, out_features=8192, bias=False)\n",
       "    (last_layer2): Linear(in_features=256, out_features=8192, bias=False)\n",
       "  )\n",
       ")"
      ]
     },
     "execution_count": 98,
     "metadata": {},
     "output_type": "execute_result"
    }
   ],
   "source": [
    "d='blip'\n",
    "print('Evaluating {}'.format(d))\n",
    "val_dataset = datasets.get_downstream_dataset(catalog, name=d, is_train=False, transform=val_transform)\n",
    "\n",
    "val_loader = torch.utils.data.DataLoader(\n",
    "    val_dataset, batch_size=256, shuffle=False,\n",
    "    num_workers=10, pin_memory=True, drop_last=False)\n",
    "\n",
    "templates = all_templates[d]\n",
    "labels = all_labels[d]\n",
    "true_labels = all_labels['cub200'][:9]\n",
    "\n",
    "model.eval()"
   ]
  },
  {
   "cell_type": "code",
   "execution_count": 81,
   "id": "f92e4088",
   "metadata": {},
   "outputs": [
    {
     "name": "stdout",
     "output_type": "stream",
     "text": [
      "=> encoding captions\n",
      "270\n",
      "torch.Size([270, 512])\n"
     ]
    }
   ],
   "source": [
    "#Text embeddings\n",
    "\n",
    "results = []\n",
    "print('=> encoding captions')\n",
    "with torch.no_grad():\n",
    "    text_features = []\n",
    "    print(len(labels))\n",
    "    for label in labels:\n",
    "        texts = label\n",
    "        texts = tokenizer(texts).cuda(non_blocking=True)\n",
    "        texts = texts.view(-1, 77).contiguous()\n",
    "        class_embeddings = utils.get_model(model).encode_text(texts, ema=True)\n",
    "        class_embeddings = class_embeddings / class_embeddings.norm(dim=-1, keepdim=True)\n",
    "        class_embeddings = class_embeddings.mean(dim=0)\n",
    "        class_embeddings = class_embeddings / class_embeddings.norm(dim=-1, keepdim=True)\n",
    "        text_features.append(class_embeddings)\n",
    "\n",
    "    text_features = torch.stack(text_features, dim=0)\n",
    "\n",
    "print(text_features.size())"
   ]
  },
  {
   "cell_type": "code",
   "execution_count": 74,
   "id": "44f8c05c",
   "metadata": {},
   "outputs": [
    {
     "name": "stderr",
     "output_type": "stream",
     "text": [
      "/usr/local/lib/python3.12/site-packages/sklearn/manifold/_t_sne.py:1164: FutureWarning:\n",
      "\n",
      "'n_iter' was renamed to 'max_iter' in version 1.5 and will be removed in 1.7.\n",
      "\n"
     ]
    },
    {
     "data": {
      "application/vnd.plotly.v1+json": {
       "config": {
        "plotlyServerURL": "https://plot.ly"
       },
       "data": [
        {
         "hovertemplate": "<b>%{hovertext}</b><br><br>x=%{x}<br>y=%{y}<br>color=%{marker.color}<extra></extra>",
         "hovertext": [
          "a photography of a bird in a field",
          "a photography of a bird perched on a branch",
          "a photography of a bird perched on a branch",
          "a photography of a bird standing in a puddle",
          "a photography of a bird in a field",
          "a photography of a bird on a rock",
          "a photography of a bird",
          "a photography of a bird in the water",
          "a photography of a bird",
          "a photography of a house sparrow",
          "a photography of a bird in a muddy field",
          "a photography of a bird",
          "a photography of a bird in the grass",
          "a photography of a bird on a rock in the water",
          "a photography of a bird",
          "a photography of a bird on the ground",
          "a photography of a bird on a rocky shore",
          "a photography of a bird on the ground",
          "a photography of a bird",
          "a photography of a bird on a rock",
          "a photography of a bird",
          "a photography of a bird perched on a branch",
          "a photography of a bird",
          "a photography of a bird standing in the mud",
          "a photography of a bird",
          "a photography of a bird on the shore of a lake",
          "a photography of a bird in the grass",
          "a photography of a bird in the grass",
          "a photography of a bird perched on a branch",
          "a photography of a bird in the grass",
          "a photography of a bird on a post",
          "a photography of a bird on a rock",
          "a photography of a bird on a rock",
          "a photography of a bird sitting on a branch",
          "a photography of a bird",
          "a photography of a bird perched on a cactus",
          "a photography of a bird in the ground",
          "a photography of a bird on a wire",
          "a photography of a bird perched on a tree branch",
          "a photography of a bird in a tree",
          "a photography of a small bird on the ground",
          "a photography of a bird on the ground",
          "a photography of a bird on a tree stump",
          "a photography of a bird",
          "a photography of a bird",
          "a photography of a bird on a branch",
          "a photography of a bird perched on a branch",
          "a photography of a bird in a tree",
          "a photography of a bird perched on a branch",
          "a photography of a bird perched on a person's hand",
          "a photography of a bird",
          "a photography of a bird on a rocky area",
          "a photography of a bird perched on a dead tree",
          "a photography of a bird perched on a branch",
          "a photography of a bird on the ground",
          "a photography of a bird perched on a branch",
          "a photography of a bird",
          "a photography of a bird",
          "a photography of a bird perched on a branch",
          "a photography of a bird perched on a branch",
          "a photography of a bird perched on a branch",
          "a photography of a bird in a nest",
          "a photography of a woodpeart",
          "a photography of a red - bell woodpear",
          "a photography of a pileea woodpearch",
          "a photography of a bird perched on a tree branch",
          "a photography of a woodpeart",
          "a photography of a bird in a tree",
          "a photography of a bird",
          "a photography of a bird",
          "a photography of a bird",
          "a photography of a bird perched on a tree",
          "a photography of a bird",
          "a photography of a bird",
          "a photography of a bird",
          "a photography of a woodpeart",
          "a photography of a woodpeart",
          "a photography of a great spotted woodpeart",
          "a photography of a woodpeart",
          "a photography of a woodpeart",
          "a photography of a woodpeart",
          "a photography of a bird in a tree",
          "a photography of a bird on a tree",
          "a photography of a bird",
          "a photography of a bird",
          "a photography of a bird perched on a tree",
          "a photography of a woodpeart",
          "a photography of a bird perched on a tree",
          "a photography of a woodpeart",
          "a photography of a bird on a tree",
          "a photography of a bird perched on a wooden post",
          "a photography of a bird on a wire",
          "a photography of a bird on a wire",
          "a photography of a bird on a wire",
          "a photography of a bird in the grass",
          "a photography of a bird perched on a stump",
          "a photography of a bird in the grass",
          "a photography of a bird on a wire fence",
          "a photography of a bird on a fence post",
          "a photography of a bird on a branch",
          "a photography of a bird perched on a branch",
          "a photography of a bird on a barbed fence",
          "a photography of a bird on the ground",
          "a photography of a bird eating corn",
          "a photography of a bird on a gravel road",
          "a photography of a bird on a wire",
          "a photography of a bird",
          "a photography of a bird",
          "a photography of a bird",
          "a photography of a bird perched on a tree branch",
          "a photography of a bird",
          "a photography of a bird",
          "a photography of a bird perched on a branch",
          "a photography of a bird on a wire fence",
          "a photography of a bird on a plant",
          "a photography of a bird",
          "a photography of a bird on a wire",
          "a photography of a bird",
          "a photography of a bird on a wire",
          "a photography of a bird on a wooden fence",
          "a photography of a bird perched on a branch",
          "a photography of a bird perched on a branch",
          "a photography of a bird",
          "a photography of a yellow warbler",
          "a photography of a bird perched on a hand",
          "a photography of a bird perched on a branch",
          "a photography of a bird perched on a branch",
          "a photography of a bird on a branch",
          "a photography of a bird perched on a branch",
          "a photography of a bird perched on a branch",
          "a photography of a bird perched on a branch",
          "a photography of a yellow - crowned warbler",
          "a photography of a goldfinch",
          "a photography of a bird in the woods",
          "a photography of a bird",
          "a photography of a bird",
          "a photography of a bird",
          "a photography of a bird in the grass",
          "a photography of a bird in a tree",
          "a photography of a bird",
          "a photography of a bird perched on a branch",
          "a photography of a bird on a branch",
          "a photography of a bird perched on a tree branch",
          "a photography of a bird singing on a branch",
          "a photography of a bird",
          "a photography of a bird eating on a seed",
          "a photography of a bird on a branch",
          "a photography of a bird perched on a branch",
          "a photography of a bird on a branch",
          "a photography of a bird",
          "a photography of a bird perched on a branch",
          "a photography of a bird perched on a wooden post",
          "a photography of a bird",
          "a photography of a bird",
          "a photography of a bird perched on a branch",
          "a photography of a bird eating on a piece of wood",
          "a photography of a small bird perched on a leaf",
          "a photography of a bird on a rusty fence",
          "a photography of a bird eating a piece of food",
          "a photography of a bird perched on a branch",
          "a photography of a bird perched on a branch",
          "a photography of a bird perched on a fence post",
          "a photography of a bird",
          "a photography of a bird",
          "a photography of a bird perched on a branch",
          "a photography of a bird perched on a branch",
          "a photography of a bird perched on a branch",
          "a photography of a bird on a wall",
          "a photography of a bird perched on a branch",
          "a photography of a house wren",
          "a photography of a bird",
          "a photography of a bird",
          "a photography of a bird",
          "a photography of a bird on a branch",
          "a photography of a bird in a tree",
          "a photography of a bird on a tree",
          "a photography of a bird perched on a branch",
          "a photography of a bird on a branch",
          "a photography of a bird perched on a branch of a tree",
          "a photography of a bird",
          "a photography of a bird",
          "a photography of a male northern cardinal",
          "a photography of a bird in a tree with berries",
          "a photography of a bird",
          "a photography of a bird perched on a branch",
          "a photography of a bird eating on a branch",
          "a photography of a bird on a bird bath",
          "a photography of a bird in the leaves",
          "a photography of a bird",
          "a photography of a bird on a branch with berries",
          "a photography of a bird perched on a tree branch",
          "a photography of a bird",
          "a photography of a bird",
          "a photography of a bird perched on a branch",
          "a photography of a bird on a branch",
          "a photography of a bird on a bird feeder",
          "a photography of a bird",
          "a photography of a male cardinal bird in a tree with red berries",
          "a photography of a bird",
          "a photography of a bird perched on a branch",
          "a photography of a bird",
          "a photography of a bird",
          "a photography of a bird perched on a branch of a tree",
          "a photography of a bird",
          "a photography of a bird perched on a branch",
          "a photography of a bird perched on a tree",
          "a photography of a bird eating berries from a tree",
          "a photography of a red bird perched on a branch of a tree",
          "a photography of a bird eating on a branch",
          "a photography of a bird perched on a branch",
          "a photography of a bird perched on a branch",
          "a photography of a bird perched on a branch",
          "a photography of a bird",
          "a photography of a bird",
          "a photography of a bird on a branch",
          "a photography of a bird perched on a branch",
          "a photography of a bird perched on a branch",
          "a photography of a bird perched on a branch",
          "a photography of a bird",
          "a photography of a bird perched on a branch",
          "a photography of a bird",
          "a photography of a bird perched on a branch",
          "a photography of a bird perched on a branch",
          "a photography of a bird in the grass",
          "a photography of a bird perched on a branch",
          "a photography of a bird perched on a branch",
          "a photography of a bird",
          "a photography of a bird perched on a branch",
          "a photography of a bird in a tree",
          "a photography of a bird perched on a branch",
          "a photography of a female white - eye bird",
          "a photography of a bird in a tree",
          "a photography of a bird perched on a branch",
          "a photography of a bird",
          "a photography of a bird in a tree",
          "a photography of a bird perched on a branch",
          "a photography of a bird perched on a branch",
          "a photography of a bird",
          "a photography of a bird perched on a branch",
          "a photography of a bird perched on a branch",
          "a photography of a bird",
          "a photography of a bird perched on a branch",
          "a photography of a male goldfinch",
          "a photography of a bird",
          "a photography of a male goldfinch in the rainforest of the daie island",
          "a photography of a bird perched on a branch",
          "a photography of a bird in the grass",
          "a photography of a bird on a wire",
          "a photography of a bird",
          "a photography of a bird on a branch",
          "a photography of a bird",
          "a photography of a bird perched on a branch",
          "a photography of a bird",
          "a photography of a bird perched on a branch",
          "a photography of a goldfinch perched on a thistle plant",
          "a photography of a bird",
          "a photography of a bird perched on a branch",
          "a photography of a bird perched on a branch",
          "a photography of a goldfinch",
          "a photography of a male goldfinch in a tree",
          "a photography of a bird on a bird feeder",
          "a photography of a male goldfinch",
          "a photography of a bird",
          "a photography of a bird in flight",
          "a photography of a male goldfinch",
          "a photography of a male great tira",
          "a photography of a bird perched on a barbed fence",
          "a photography of a bird perched on a thistle plant",
          "a photography of a bird",
          "a photography of a bird"
         ],
         "legendgroup": "",
         "marker": {
          "color": {
           "bdata": "AAAAAAAAAAAAAQEBAQEBAQEBAgICAgICAgICAwMDAwMDAwMDBAQEBAQEBAQEBQUFBQUFBQUFBgYGBgYGBgYGBwcHBwcHBwcHCAgICAgICAgICQkJCQkJCQkJCgoKCgoKCgoKCwsLCwsLCwsLDAwMDAwMDAwMDQ0NDQ0NDQ0NDg4ODg4ODg4ODw8PDw8PDw8PEBAQEBAQEBAQEREREREREREREhISEhISEhISExMTExMTExMTFBQUFBQUFBQUFRUVFRUVFRUVFhYWFhYWFhYWFxcXFxcXFxcXGBgYGBgYGBgYGRkZGRkZGRkZGhoaGhoaGhoaGxsbGxsbGxsbHBwcHBwcHBwcHR0dHR0dHR0d",
           "dtype": "i1"
          },
          "coloraxis": "coloraxis",
          "symbol": "circle"
         },
         "mode": "markers",
         "name": "",
         "orientation": "v",
         "showlegend": false,
         "type": "scatter",
         "x": {
          "bdata": "Ws0YwcNo+kCy8PVAVk0owU7NGMHWv+vAN/7BwD5Hz8A3/sHAPOC3vwa+JsE3/sHACBM5wWZ33MA3/sHARxQ8wX9SAMFHFDzBN/7BwCvA68A3/sHAQuohQTf+wcDrMCfBN/7BwAs9A8Hf8jjB3/I4wZqOGkEIEznBXAzcPyvA68ArwOvATGXzQGLfo8CHaZRAtZ86wTLZZL/JWDtBZ+5JQGP8PsFRBjzBZPlvQGLfo8Bi36PAPFEGQegdDUGoGEhA6B0NQfuGfMAaj6nAGwoBwbChjkDoHQ1BUQY8wegdDUEaj6nAB9Z8wOgdDUHoHQ1B6B0NQSnk7cDonoXAR1reP15ehL/JWDtB6J6FwEubSUDAjpLAwI6SwFEticCNkYlAtiWzwOaHusBRnGfA6J6FwOiehcDPUYrA6J6FwOiehcDonoXAXiJIQATscEAh35LApnxMwI2RiUDonoXAjZGJQOiehcAE7HBA+6L9PzLZZL8y2WS/MtlkvwgTOcE5W25ACBM5wQfLHz96P70/jtD7QK2w3EAohYo/Exc8wYfTgMCqsj7Bjdtkv3EVhsAxmIfAMZiHwMlYO0Gc/onAeaeSwI+R/EAHyx8/er2OQAg6y8CN22S/N/7BwI3bZL/P2qc/lisPQY1030DyHe3AskMNPgqHfMDoHQ1BsNMIQfCb+kCw0whBsNMIQY1030DCqxw+uJqqPk5UjcHYDJzAqNNwwGLc2sAIEznBRSdIQHutnMDnHS1B4kkGQclYO0HnXeFAozx0wGMQfMDwm/pAjaXsQFchBkFt2sTAS/4WQfui/T8ly43AjfOTwINaEkF9R2jA6jygQHDSoj9eeXjAf176QL9K3UA0kso/Yt+jwGqIWMA9sPNA4SjmQBytAEFYNznBN20WQeBv3L+Om6PAWyb1wFhWbMCe+QJBpstJQLTUcEA/0xRBHjwBQUHVTEFOTI/AwdThwH3s2z9UaY5Ay+G/wMrcEkEwuiNBFYfLwM+dmkBi2sTAbWKSQMlYO0EmM+jAzXS/wBldF0Hwm/pAwG/IwMHU4cDRtO4/5qHUwI1030A5vNTAeVxiwEHVTEE3/sHAgEkpQY2RiUC+SI9AmglRQTC6I0FL/hZB5oMhQUEVIEE3/sHAN/7BwMWqBEHhKOZAbvP8QEEVIEE3/sHAQRUgQTf+wcBBFSBBQRUgQQgTOcFC6iFBuD8IQTf+wcBC6iFBcjhIQELqIUHqz7I+qBhIQELqIUE3/sHA/gpKQLg/CEG4PwhBN/7BwLg/CEETfPlAN/7BwBN8+UDw6wI/N/7BwGB0Mj+y8PVACBM5wTLZZL83/sHAs4wEQTf+wcAz1QlBN/7BwLLw9UBAGh9AN/7BwOeyCUHnsglBuJqqPn7Gkj/Ab8jA8OsCP66m/cBYMcHA8OsCPzHBAsGKgI4/dA9FQK6m/cCupv3A",
          "dtype": "f4"
         },
         "xaxis": "x",
         "y": {
          "bdata": "PqfvPKb1cT4y6S2/aXjev1XM7zx2wFnA50DvP3TeDcDnQO8/NxbIQBmpuL/nQO8/8kGVQBxaLcDnQO8/2auePxp5NcDZq54/50DvP1K/WcDnQO8/zuYwPudA7z9rQ8+/50DvP8mX/79zRJVAc0SVQDJmfT/yQZVAdfK1P1K/WcBSv1nAp6CiwD0oVEDJToJAgASlP4Um3L/TB0TABHOfwDNqoT/POJ4/FHb7vT0oVEA9KFRARBm+wGRbgb5wrZ7AZFuBvuamBMClG4lAdRIpwL8R9b9kW4G+zzieP2Rbgb6lG4lAEflyQGRbgb5kW4G+ZFuBvhaXtEDvrvDAL9WywM+vLsHTB0TA767wwExFn8C0zSZAtM0mQKcVUEDHATzAB+VPPn2qHD5tcDdA767wwO+u8MB8PNTA767wwO+u8MDvrvDAiLaewJb3esCCCxdAuIQgQMcBPMDvrvDAxwE8wO+u8MCW93rA3MeZP4Um3L+FJty/hSbcv/JBlUCtDoW98kGVQMtfVr+SPAs/RlC7wBNa476vgQi/4ZOeP8Tm2kCKczQ+WCXcvwMJWD9JFu0/SRbtP9MHRMCf9uo/Wa2tP2PeNj/LX1a/p06WQEfmBj5YJdy/50DvP1gl3L+Gl6U9jtuAvkhcAj+AX1lAiwefQJBNBMBkW4G+ldWBP1+xu8CV1YE/ldWBP0hcAj+Zy6BAec3aQK96pz9urDo/fLiDP4g6rD7yQZVAXU6ewAFfPD8O376+EIPCwNMHRMCIhNTAz/k3QLLf3EBfsbvA9A6jPybsvcDwHVpAyMfrv9zHmT9M5rM+vEeBQKCrTD/M6+NAu32fQFGyoL6BPN1A1XH1v6JY/75QtxU/PShUQKLxAUD4CLM/Suurv2A6rT+L0yPBm2q/P6tOwkADQk8++dOoP4ZGYUD8bb/AzFGfwIndesCobkU/2v+7wOyP6L/NvolAyARMQFicAsEAM/3AmDhgQK+vnb8hH5/ArZ8BQQGEn0AEHlpAqE7+wNMHRMALh1g/XsaJQGrbyT9fsbvAuiABQcgETEC+bgLBPiZ/QEhcAj/fEn9AXqO9P+yP6L/nQO8/Nvh8P8cBPMCDif3AJAjUvyEfn8DIx+u/3EmhPwCNgr/nQO8/50DvP9h7u8BK66u/nMuIvwCNgr/nQO8/AI2Cv+dA7z8AjYK/AI2Cv/JBlUDO5jA+fUPFv+dA7z/O5jA+X1qewM7mMD6plLZAcK2ewM7mMD7nQO8/P4qfwH1Dxb99Q8W/50DvP31Dxb/W+SY+50DvP9b5Jj6IattA50DvP/s62UAy6S2/8kGVQIUm3L/nQO8/VXy/wOdA7z8GPxHA50DvPzLpLb9I+MtA50DvP5quAUCargFAec3aQPfR3kC6IAFBiGrbQCWCGkBogrZAiGrbQIJUlEAdJQe/Br3CQCWCGkAlghpA",
          "dtype": "f4"
         },
         "yaxis": "y"
        }
       ],
       "layout": {
        "coloraxis": {
         "colorbar": {
          "title": {
           "text": "color"
          }
         },
         "colorscale": [
          [
           0,
           "#0d0887"
          ],
          [
           0.1111111111111111,
           "#46039f"
          ],
          [
           0.2222222222222222,
           "#7201a8"
          ],
          [
           0.3333333333333333,
           "#9c179e"
          ],
          [
           0.4444444444444444,
           "#bd3786"
          ],
          [
           0.5555555555555556,
           "#d8576b"
          ],
          [
           0.6666666666666666,
           "#ed7953"
          ],
          [
           0.7777777777777778,
           "#fb9f3a"
          ],
          [
           0.8888888888888888,
           "#fdca26"
          ],
          [
           1,
           "#f0f921"
          ]
         ]
        },
        "legend": {
         "tracegroupgap": 0
        },
        "margin": {
         "t": 60
        },
        "template": {
         "data": {
          "bar": [
           {
            "error_x": {
             "color": "#2a3f5f"
            },
            "error_y": {
             "color": "#2a3f5f"
            },
            "marker": {
             "line": {
              "color": "#E5ECF6",
              "width": 0.5
             },
             "pattern": {
              "fillmode": "overlay",
              "size": 10,
              "solidity": 0.2
             }
            },
            "type": "bar"
           }
          ],
          "barpolar": [
           {
            "marker": {
             "line": {
              "color": "#E5ECF6",
              "width": 0.5
             },
             "pattern": {
              "fillmode": "overlay",
              "size": 10,
              "solidity": 0.2
             }
            },
            "type": "barpolar"
           }
          ],
          "carpet": [
           {
            "aaxis": {
             "endlinecolor": "#2a3f5f",
             "gridcolor": "white",
             "linecolor": "white",
             "minorgridcolor": "white",
             "startlinecolor": "#2a3f5f"
            },
            "baxis": {
             "endlinecolor": "#2a3f5f",
             "gridcolor": "white",
             "linecolor": "white",
             "minorgridcolor": "white",
             "startlinecolor": "#2a3f5f"
            },
            "type": "carpet"
           }
          ],
          "choropleth": [
           {
            "colorbar": {
             "outlinewidth": 0,
             "ticks": ""
            },
            "type": "choropleth"
           }
          ],
          "contour": [
           {
            "colorbar": {
             "outlinewidth": 0,
             "ticks": ""
            },
            "colorscale": [
             [
              0,
              "#0d0887"
             ],
             [
              0.1111111111111111,
              "#46039f"
             ],
             [
              0.2222222222222222,
              "#7201a8"
             ],
             [
              0.3333333333333333,
              "#9c179e"
             ],
             [
              0.4444444444444444,
              "#bd3786"
             ],
             [
              0.5555555555555556,
              "#d8576b"
             ],
             [
              0.6666666666666666,
              "#ed7953"
             ],
             [
              0.7777777777777778,
              "#fb9f3a"
             ],
             [
              0.8888888888888888,
              "#fdca26"
             ],
             [
              1,
              "#f0f921"
             ]
            ],
            "type": "contour"
           }
          ],
          "contourcarpet": [
           {
            "colorbar": {
             "outlinewidth": 0,
             "ticks": ""
            },
            "type": "contourcarpet"
           }
          ],
          "heatmap": [
           {
            "colorbar": {
             "outlinewidth": 0,
             "ticks": ""
            },
            "colorscale": [
             [
              0,
              "#0d0887"
             ],
             [
              0.1111111111111111,
              "#46039f"
             ],
             [
              0.2222222222222222,
              "#7201a8"
             ],
             [
              0.3333333333333333,
              "#9c179e"
             ],
             [
              0.4444444444444444,
              "#bd3786"
             ],
             [
              0.5555555555555556,
              "#d8576b"
             ],
             [
              0.6666666666666666,
              "#ed7953"
             ],
             [
              0.7777777777777778,
              "#fb9f3a"
             ],
             [
              0.8888888888888888,
              "#fdca26"
             ],
             [
              1,
              "#f0f921"
             ]
            ],
            "type": "heatmap"
           }
          ],
          "histogram": [
           {
            "marker": {
             "pattern": {
              "fillmode": "overlay",
              "size": 10,
              "solidity": 0.2
             }
            },
            "type": "histogram"
           }
          ],
          "histogram2d": [
           {
            "colorbar": {
             "outlinewidth": 0,
             "ticks": ""
            },
            "colorscale": [
             [
              0,
              "#0d0887"
             ],
             [
              0.1111111111111111,
              "#46039f"
             ],
             [
              0.2222222222222222,
              "#7201a8"
             ],
             [
              0.3333333333333333,
              "#9c179e"
             ],
             [
              0.4444444444444444,
              "#bd3786"
             ],
             [
              0.5555555555555556,
              "#d8576b"
             ],
             [
              0.6666666666666666,
              "#ed7953"
             ],
             [
              0.7777777777777778,
              "#fb9f3a"
             ],
             [
              0.8888888888888888,
              "#fdca26"
             ],
             [
              1,
              "#f0f921"
             ]
            ],
            "type": "histogram2d"
           }
          ],
          "histogram2dcontour": [
           {
            "colorbar": {
             "outlinewidth": 0,
             "ticks": ""
            },
            "colorscale": [
             [
              0,
              "#0d0887"
             ],
             [
              0.1111111111111111,
              "#46039f"
             ],
             [
              0.2222222222222222,
              "#7201a8"
             ],
             [
              0.3333333333333333,
              "#9c179e"
             ],
             [
              0.4444444444444444,
              "#bd3786"
             ],
             [
              0.5555555555555556,
              "#d8576b"
             ],
             [
              0.6666666666666666,
              "#ed7953"
             ],
             [
              0.7777777777777778,
              "#fb9f3a"
             ],
             [
              0.8888888888888888,
              "#fdca26"
             ],
             [
              1,
              "#f0f921"
             ]
            ],
            "type": "histogram2dcontour"
           }
          ],
          "mesh3d": [
           {
            "colorbar": {
             "outlinewidth": 0,
             "ticks": ""
            },
            "type": "mesh3d"
           }
          ],
          "parcoords": [
           {
            "line": {
             "colorbar": {
              "outlinewidth": 0,
              "ticks": ""
             }
            },
            "type": "parcoords"
           }
          ],
          "pie": [
           {
            "automargin": true,
            "type": "pie"
           }
          ],
          "scatter": [
           {
            "fillpattern": {
             "fillmode": "overlay",
             "size": 10,
             "solidity": 0.2
            },
            "type": "scatter"
           }
          ],
          "scatter3d": [
           {
            "line": {
             "colorbar": {
              "outlinewidth": 0,
              "ticks": ""
             }
            },
            "marker": {
             "colorbar": {
              "outlinewidth": 0,
              "ticks": ""
             }
            },
            "type": "scatter3d"
           }
          ],
          "scattercarpet": [
           {
            "marker": {
             "colorbar": {
              "outlinewidth": 0,
              "ticks": ""
             }
            },
            "type": "scattercarpet"
           }
          ],
          "scattergeo": [
           {
            "marker": {
             "colorbar": {
              "outlinewidth": 0,
              "ticks": ""
             }
            },
            "type": "scattergeo"
           }
          ],
          "scattergl": [
           {
            "marker": {
             "colorbar": {
              "outlinewidth": 0,
              "ticks": ""
             }
            },
            "type": "scattergl"
           }
          ],
          "scattermap": [
           {
            "marker": {
             "colorbar": {
              "outlinewidth": 0,
              "ticks": ""
             }
            },
            "type": "scattermap"
           }
          ],
          "scattermapbox": [
           {
            "marker": {
             "colorbar": {
              "outlinewidth": 0,
              "ticks": ""
             }
            },
            "type": "scattermapbox"
           }
          ],
          "scatterpolar": [
           {
            "marker": {
             "colorbar": {
              "outlinewidth": 0,
              "ticks": ""
             }
            },
            "type": "scatterpolar"
           }
          ],
          "scatterpolargl": [
           {
            "marker": {
             "colorbar": {
              "outlinewidth": 0,
              "ticks": ""
             }
            },
            "type": "scatterpolargl"
           }
          ],
          "scatterternary": [
           {
            "marker": {
             "colorbar": {
              "outlinewidth": 0,
              "ticks": ""
             }
            },
            "type": "scatterternary"
           }
          ],
          "surface": [
           {
            "colorbar": {
             "outlinewidth": 0,
             "ticks": ""
            },
            "colorscale": [
             [
              0,
              "#0d0887"
             ],
             [
              0.1111111111111111,
              "#46039f"
             ],
             [
              0.2222222222222222,
              "#7201a8"
             ],
             [
              0.3333333333333333,
              "#9c179e"
             ],
             [
              0.4444444444444444,
              "#bd3786"
             ],
             [
              0.5555555555555556,
              "#d8576b"
             ],
             [
              0.6666666666666666,
              "#ed7953"
             ],
             [
              0.7777777777777778,
              "#fb9f3a"
             ],
             [
              0.8888888888888888,
              "#fdca26"
             ],
             [
              1,
              "#f0f921"
             ]
            ],
            "type": "surface"
           }
          ],
          "table": [
           {
            "cells": {
             "fill": {
              "color": "#EBF0F8"
             },
             "line": {
              "color": "white"
             }
            },
            "header": {
             "fill": {
              "color": "#C8D4E3"
             },
             "line": {
              "color": "white"
             }
            },
            "type": "table"
           }
          ]
         },
         "layout": {
          "annotationdefaults": {
           "arrowcolor": "#2a3f5f",
           "arrowhead": 0,
           "arrowwidth": 1
          },
          "autotypenumbers": "strict",
          "coloraxis": {
           "colorbar": {
            "outlinewidth": 0,
            "ticks": ""
           }
          },
          "colorscale": {
           "diverging": [
            [
             0,
             "#8e0152"
            ],
            [
             0.1,
             "#c51b7d"
            ],
            [
             0.2,
             "#de77ae"
            ],
            [
             0.3,
             "#f1b6da"
            ],
            [
             0.4,
             "#fde0ef"
            ],
            [
             0.5,
             "#f7f7f7"
            ],
            [
             0.6,
             "#e6f5d0"
            ],
            [
             0.7,
             "#b8e186"
            ],
            [
             0.8,
             "#7fbc41"
            ],
            [
             0.9,
             "#4d9221"
            ],
            [
             1,
             "#276419"
            ]
           ],
           "sequential": [
            [
             0,
             "#0d0887"
            ],
            [
             0.1111111111111111,
             "#46039f"
            ],
            [
             0.2222222222222222,
             "#7201a8"
            ],
            [
             0.3333333333333333,
             "#9c179e"
            ],
            [
             0.4444444444444444,
             "#bd3786"
            ],
            [
             0.5555555555555556,
             "#d8576b"
            ],
            [
             0.6666666666666666,
             "#ed7953"
            ],
            [
             0.7777777777777778,
             "#fb9f3a"
            ],
            [
             0.8888888888888888,
             "#fdca26"
            ],
            [
             1,
             "#f0f921"
            ]
           ],
           "sequentialminus": [
            [
             0,
             "#0d0887"
            ],
            [
             0.1111111111111111,
             "#46039f"
            ],
            [
             0.2222222222222222,
             "#7201a8"
            ],
            [
             0.3333333333333333,
             "#9c179e"
            ],
            [
             0.4444444444444444,
             "#bd3786"
            ],
            [
             0.5555555555555556,
             "#d8576b"
            ],
            [
             0.6666666666666666,
             "#ed7953"
            ],
            [
             0.7777777777777778,
             "#fb9f3a"
            ],
            [
             0.8888888888888888,
             "#fdca26"
            ],
            [
             1,
             "#f0f921"
            ]
           ]
          },
          "colorway": [
           "#636efa",
           "#EF553B",
           "#00cc96",
           "#ab63fa",
           "#FFA15A",
           "#19d3f3",
           "#FF6692",
           "#B6E880",
           "#FF97FF",
           "#FECB52"
          ],
          "font": {
           "color": "#2a3f5f"
          },
          "geo": {
           "bgcolor": "white",
           "lakecolor": "white",
           "landcolor": "#E5ECF6",
           "showlakes": true,
           "showland": true,
           "subunitcolor": "white"
          },
          "hoverlabel": {
           "align": "left"
          },
          "hovermode": "closest",
          "mapbox": {
           "style": "light"
          },
          "paper_bgcolor": "white",
          "plot_bgcolor": "#E5ECF6",
          "polar": {
           "angularaxis": {
            "gridcolor": "white",
            "linecolor": "white",
            "ticks": ""
           },
           "bgcolor": "#E5ECF6",
           "radialaxis": {
            "gridcolor": "white",
            "linecolor": "white",
            "ticks": ""
           }
          },
          "scene": {
           "xaxis": {
            "backgroundcolor": "#E5ECF6",
            "gridcolor": "white",
            "gridwidth": 2,
            "linecolor": "white",
            "showbackground": true,
            "ticks": "",
            "zerolinecolor": "white"
           },
           "yaxis": {
            "backgroundcolor": "#E5ECF6",
            "gridcolor": "white",
            "gridwidth": 2,
            "linecolor": "white",
            "showbackground": true,
            "ticks": "",
            "zerolinecolor": "white"
           },
           "zaxis": {
            "backgroundcolor": "#E5ECF6",
            "gridcolor": "white",
            "gridwidth": 2,
            "linecolor": "white",
            "showbackground": true,
            "ticks": "",
            "zerolinecolor": "white"
           }
          },
          "shapedefaults": {
           "line": {
            "color": "#2a3f5f"
           }
          },
          "ternary": {
           "aaxis": {
            "gridcolor": "white",
            "linecolor": "white",
            "ticks": ""
           },
           "baxis": {
            "gridcolor": "white",
            "linecolor": "white",
            "ticks": ""
           },
           "bgcolor": "#E5ECF6",
           "caxis": {
            "gridcolor": "white",
            "linecolor": "white",
            "ticks": ""
           }
          },
          "title": {
           "x": 0.05
          },
          "xaxis": {
           "automargin": true,
           "gridcolor": "white",
           "linecolor": "white",
           "ticks": "",
           "title": {
            "standoff": 15
           },
           "zerolinecolor": "white",
           "zerolinewidth": 2
          },
          "yaxis": {
           "automargin": true,
           "gridcolor": "white",
           "linecolor": "white",
           "ticks": "",
           "title": {
            "standoff": 15
           },
           "zerolinecolor": "white",
           "zerolinewidth": 2
          }
         }
        },
        "title": {
         "text": "t-SNE class names embeddings"
        },
        "xaxis": {
         "anchor": "y",
         "domain": [
          0,
          1
         ],
         "title": {
          "text": "First Principal Component"
         }
        },
        "yaxis": {
         "anchor": "x",
         "domain": [
          0,
          1
         ],
         "title": {
          "text": "Second Principal Component"
         }
        }
       }
      }
     },
     "metadata": {},
     "output_type": "display_data"
    }
   ],
   "source": [
    "# t-SNE\n",
    "\n",
    "color = [[i for j in range(9)] for i in range(30)]\n",
    "flat_color = np.array(color).flatten().tolist()\n",
    "\n",
    "text_features_tsne = text_features\n",
    "tsne = TSNE(n_components=2, verbose=0, perplexity=40, n_iter=300)\n",
    "text_tsne = tsne.fit_transform(text_features_tsne.to('cpu'))\n",
    "\n",
    "fig = px.scatter(x=text_tsne[:, 0], y=text_tsne[:, 1], hover_name=[all_labels[d] for d in catalog][0], color=flat_color)\n",
    "fig.update_layout(\n",
    "    title=\"t-SNE class names embeddings\",\n",
    "    xaxis_title=\"First Principal Component\",\n",
    "    yaxis_title=\"Second Principal Component\",\n",
    ")\n",
    "cwd = '/home/onyxia/work/tsne_plot/'\n",
    "path = os.path.join(cwd, 't-SNE class names embeddings.png')\n",
    "fig.write_image(path, format='png', engine='kaleido')\n",
    "fig.show()"
   ]
  },
  {
   "cell_type": "code",
   "execution_count": 65,
   "id": "a70f5c2f",
   "metadata": {},
   "outputs": [],
   "source": [
    "# Image embeddings\n",
    "\n",
    "with torch.no_grad():\n",
    "    image_features_tot = []\n",
    "    target_list = []\n",
    "    for images, target in val_loader:\n",
    "        images = images.cuda(non_blocking=True)\n",
    "        target = target.cuda(non_blocking=True)\n",
    "\n",
    "        # encode images\n",
    "        image_features = utils.get_model(model).encode_image(images, ema=True)\n",
    "        image_features = image_features / image_features.norm(dim=-1, keepdim=True)\n",
    "        image_features_tot.append(image_features)\n",
    "        target_list.append(target)"
   ]
  },
  {
   "cell_type": "code",
   "execution_count": 75,
   "id": "97f7f0cc",
   "metadata": {},
   "outputs": [],
   "source": [
    "image_features_cat = torch.cat(image_features_tot, dim=0)"
   ]
  },
  {
   "cell_type": "code",
   "execution_count": 59,
   "id": "6b398e3a",
   "metadata": {},
   "outputs": [
    {
     "name": "stdout",
     "output_type": "stream",
     "text": [
      "torch.Size([6190, 512])\n"
     ]
    }
   ],
   "source": [
    "# fusion of text and image embeddings\n",
    "scaler = StandardScaler()\n",
    "\n",
    "text_features_tsne0 = scaler.fit_transform(text_features.cpu())\n",
    "image_features_tsne0 = scaler.fit_transform(image_features_cat.cpu())\n",
    "\n",
    "text_features_tsne0 = torch.Tensor(text_features_tsne0)\n",
    "image_features_tsne0 = torch.Tensor(image_features_tsne0)\n",
    "\n",
    "text_cat_image = torch.cat((text_features_tsne0, image_features_tsne0), dim=0)\n",
    "print(text_cat_image.size())"
   ]
  },
  {
   "cell_type": "code",
   "execution_count": 104,
   "id": "94580d09",
   "metadata": {},
   "outputs": [
    {
     "name": "stdout",
     "output_type": "stream",
     "text": [
      "[0, 0, 0, 0, 0, 0, 0, 0, 0, 1, 1, 1, 1, 1, 1, 1, 1, 1, 2, 2, 2, 2, 2, 2, 2, 2, 2, 3, 3, 3, 3, 3, 3, 3, 3, 3, 4, 4, 4, 4, 4, 4, 4, 4, 4, 5, 5, 5, 5, 5, 5, 5, 5, 5, 6, 6, 6, 6, 6, 6, 6, 6, 6, 7, 7, 7, 7, 7, 7, 7, 7, 7, 8, 8, 8, 8, 8, 8, 8, 8, 8, 9, 9, 9, 9, 9, 9, 9, 9, 9, 10, 10, 10, 10, 10, 10, 10, 10, 10, 11, 11, 11, 11, 11, 11, 11, 11, 11, 12, 12, 12, 12, 12, 12, 12, 12, 12, 13, 13, 13, 13, 13, 13, 13, 13, 13, 14, 14, 14, 14, 14, 14, 14, 14, 14, 15, 15, 15, 15, 15, 15, 15, 15, 15, 16, 16, 16, 16, 16, 16, 16, 16, 16, 17, 17, 17, 17, 17, 17, 17, 17, 17, 18, 18, 18, 18, 18, 18, 18, 18, 18, 19, 19, 19, 19, 19, 19, 19, 19, 19, 20, 20, 20, 20, 20, 20, 20, 20, 20, 21, 21, 21, 21, 21, 21, 21, 21, 21, 22, 22, 22, 22, 22, 22, 22, 22, 22, 23, 23, 23, 23, 23, 23, 23, 23, 23, 24, 24, 24, 24, 24, 24, 24, 24, 24, 25, 25, 25, 25, 25, 25, 25, 25, 25, 26, 26, 26, 26, 26, 26, 26, 26, 26, 27, 27, 27, 27, 27, 27, 27, 27, 27, 28, 28, 28, 28, 28, 28, 28, 28, 28, 29, 29, 29, 29, 29, 29, 29, 29, 29, 0, 0, 0, 0, 0, 0, 0, 0, 0, 0, 0, 0, 0, 0, 0, 0, 0, 0, 0, 0, 0, 0, 0, 0, 0, 0, 0, 0, 0, 0, 1, 1, 1, 1, 1, 1, 1, 1, 1, 1, 1, 1, 1, 1, 1, 1, 1, 1, 1, 1, 1, 1, 1, 1, 1, 1, 1, 1, 1, 1, 2, 2, 2, 2, 2, 2, 2, 2, 2, 2, 2, 2, 2, 2, 2, 2, 2, 2, 2, 2, 2, 2, 2, 2, 2, 2, 2, 2, 2, 3, 3, 3, 3, 3, 3, 3, 3, 3, 3, 3, 3, 3, 3, 3, 3, 3, 3, 3, 3, 3, 3, 3, 3, 3, 3, 3, 3, 3, 3, 4, 4, 4, 4, 4, 4, 4, 4, 4, 4, 4, 4, 4, 4, 4, 4, 4, 4, 4, 4, 4, 4, 5, 5, 5, 5, 5, 5, 5, 5, 5, 5, 5, 5, 5, 5, 5, 5, 5, 5, 5, 5, 5, 6, 6, 6, 6, 6, 6, 6, 6, 6, 6, 6, 6, 6, 6, 6, 6, 6, 6, 6, 6, 6, 6, 6, 6, 6, 6, 6, 7, 7, 7, 7, 7, 7, 7, 7, 7, 7, 7, 7, 7, 7, 7, 7, 7, 7, 7, 7, 7, 7, 7, 7, 8, 8, 8, 8, 8, 8, 8, 8, 8, 8, 8, 8, 8, 8, 8, 8, 8, 8, 8, 8, 8, 8, 8, 8, 8, 8, 8, 8, 8, 8, 9, 9, 9, 9, 9, 9, 9, 9, 9, 9, 9, 9, 9, 9, 9, 9, 9, 9, 9, 9, 9, 9, 9, 9, 9, 9, 9]\n"
     ]
    }
   ],
   "source": [
    "txt_img_color = flat_color + torch.cat(target_list).tolist()[:270]\n",
    "print(txt_img_color)"
   ]
  },
  {
   "cell_type": "code",
   "execution_count": null,
   "id": "23751d22",
   "metadata": {},
   "outputs": [
    {
     "name": "stdout",
     "output_type": "stream",
     "text": [
      "['Black footed Albatross', 'Black footed Albatross', 'Black footed Albatross', 'Black footed Albatross', 'Black footed Albatross', 'Black footed Albatross', 'Black footed Albatross', 'Black footed Albatross', 'Black footed Albatross', 'Black footed Albatross', 'Black footed Albatross', 'Black footed Albatross', 'Black footed Albatross', 'Black footed Albatross', 'Black footed Albatross', 'Black footed Albatross', 'Black footed Albatross', 'Black footed Albatross', 'Black footed Albatross', 'Black footed Albatross', 'Black footed Albatross', 'Black footed Albatross', 'Black footed Albatross', 'Black footed Albatross', 'Black footed Albatross', 'Black footed Albatross', 'Black footed Albatross', 'Black footed Albatross', 'Black footed Albatross', 'Black footed Albatross', 'Laysan Albatross', 'Laysan Albatross', 'Laysan Albatross', 'Laysan Albatross', 'Laysan Albatross', 'Laysan Albatross', 'Laysan Albatross', 'Laysan Albatross', 'Laysan Albatross', 'Laysan Albatross', 'Laysan Albatross', 'Laysan Albatross', 'Laysan Albatross', 'Laysan Albatross', 'Laysan Albatross', 'Laysan Albatross', 'Laysan Albatross', 'Laysan Albatross', 'Laysan Albatross', 'Laysan Albatross', 'Laysan Albatross', 'Laysan Albatross', 'Laysan Albatross', 'Laysan Albatross', 'Laysan Albatross', 'Laysan Albatross', 'Laysan Albatross', 'Laysan Albatross', 'Laysan Albatross', 'Laysan Albatross', 'Sooty Albatross', 'Sooty Albatross', 'Sooty Albatross', 'Sooty Albatross', 'Sooty Albatross', 'Sooty Albatross', 'Sooty Albatross', 'Sooty Albatross', 'Sooty Albatross', 'Sooty Albatross', 'Sooty Albatross', 'Sooty Albatross', 'Sooty Albatross', 'Sooty Albatross', 'Sooty Albatross', 'Sooty Albatross', 'Sooty Albatross', 'Sooty Albatross', 'Sooty Albatross', 'Sooty Albatross', 'Sooty Albatross', 'Sooty Albatross', 'Sooty Albatross', 'Sooty Albatross', 'Sooty Albatross', 'Sooty Albatross', 'Sooty Albatross', 'Sooty Albatross', 'Sooty Albatross', 'Sooty Albatross', 'Groove billed Ani', 'Groove billed Ani', 'Groove billed Ani', 'Groove billed Ani', 'Groove billed Ani', 'Groove billed Ani', 'Groove billed Ani', 'Groove billed Ani', 'Groove billed Ani', 'Groove billed Ani', 'Groove billed Ani', 'Groove billed Ani', 'Groove billed Ani', 'Groove billed Ani', 'Groove billed Ani', 'Groove billed Ani', 'Groove billed Ani', 'Groove billed Ani', 'Groove billed Ani', 'Groove billed Ani', 'Groove billed Ani', 'Groove billed Ani', 'Groove billed Ani', 'Groove billed Ani', 'Groove billed Ani', 'Groove billed Ani', 'Groove billed Ani', 'Groove billed Ani', 'Groove billed Ani', 'Groove billed Ani', 'Crested Auklet', 'Crested Auklet', 'Crested Auklet', 'Crested Auklet', 'Crested Auklet', 'Crested Auklet', 'Crested Auklet', 'Crested Auklet', 'Crested Auklet', 'Crested Auklet', 'Crested Auklet', 'Crested Auklet', 'Crested Auklet', 'Crested Auklet', 'Crested Auklet', 'Crested Auklet', 'Crested Auklet', 'Crested Auklet', 'Crested Auklet', 'Crested Auklet', 'Crested Auklet', 'Crested Auklet', 'Crested Auklet', 'Crested Auklet', 'Crested Auklet', 'Crested Auklet', 'Crested Auklet', 'Crested Auklet', 'Crested Auklet', 'Crested Auklet', 'Least Auklet', 'Least Auklet', 'Least Auklet', 'Least Auklet', 'Least Auklet', 'Least Auklet', 'Least Auklet', 'Least Auklet', 'Least Auklet', 'Least Auklet', 'Least Auklet', 'Least Auklet', 'Least Auklet', 'Least Auklet', 'Least Auklet', 'Least Auklet', 'Least Auklet', 'Least Auklet', 'Least Auklet', 'Least Auklet', 'Least Auklet', 'Least Auklet', 'Least Auklet', 'Least Auklet', 'Least Auklet', 'Least Auklet', 'Least Auklet', 'Least Auklet', 'Least Auklet', 'Least Auklet', 'Parakeet Auklet', 'Parakeet Auklet', 'Parakeet Auklet', 'Parakeet Auklet', 'Parakeet Auklet', 'Parakeet Auklet', 'Parakeet Auklet', 'Parakeet Auklet', 'Parakeet Auklet', 'Parakeet Auklet', 'Parakeet Auklet', 'Parakeet Auklet', 'Parakeet Auklet', 'Parakeet Auklet', 'Parakeet Auklet', 'Parakeet Auklet', 'Parakeet Auklet', 'Parakeet Auklet', 'Parakeet Auklet', 'Parakeet Auklet', 'Parakeet Auklet', 'Parakeet Auklet', 'Parakeet Auklet', 'Parakeet Auklet', 'Parakeet Auklet', 'Parakeet Auklet', 'Parakeet Auklet', 'Parakeet Auklet', 'Parakeet Auklet', 'Parakeet Auklet', 'Rhinoceros Auklet', 'Rhinoceros Auklet', 'Rhinoceros Auklet', 'Rhinoceros Auklet', 'Rhinoceros Auklet', 'Rhinoceros Auklet', 'Rhinoceros Auklet', 'Rhinoceros Auklet', 'Rhinoceros Auklet', 'Rhinoceros Auklet', 'Rhinoceros Auklet', 'Rhinoceros Auklet', 'Rhinoceros Auklet', 'Rhinoceros Auklet', 'Rhinoceros Auklet', 'Rhinoceros Auklet', 'Rhinoceros Auklet', 'Rhinoceros Auklet', 'Rhinoceros Auklet', 'Rhinoceros Auklet', 'Rhinoceros Auklet', 'Rhinoceros Auklet', 'Rhinoceros Auklet', 'Rhinoceros Auklet', 'Rhinoceros Auklet', 'Rhinoceros Auklet', 'Rhinoceros Auklet', 'Rhinoceros Auklet', 'Rhinoceros Auklet', 'Rhinoceros Auklet', 'Brewer Blackbird', 'Brewer Blackbird', 'Brewer Blackbird', 'Brewer Blackbird', 'Brewer Blackbird', 'Brewer Blackbird', 'Brewer Blackbird', 'Brewer Blackbird', 'Brewer Blackbird', 'Brewer Blackbird', 'Brewer Blackbird', 'Brewer Blackbird', 'Brewer Blackbird', 'Brewer Blackbird', 'Brewer Blackbird', 'Brewer Blackbird', 'Brewer Blackbird', 'Brewer Blackbird', 'Brewer Blackbird', 'Brewer Blackbird', 'Brewer Blackbird', 'Brewer Blackbird', 'Brewer Blackbird', 'Brewer Blackbird', 'Brewer Blackbird', 'Brewer Blackbird', 'Brewer Blackbird', 'Brewer Blackbird', 'Brewer Blackbird', 'Brewer Blackbird']\n"
     ]
    },
    {
     "name": "stderr",
     "output_type": "stream",
     "text": [
      "/usr/local/lib/python3.12/site-packages/sklearn/manifold/_t_sne.py:1164: FutureWarning:\n",
      "\n",
      "'n_iter' was renamed to 'max_iter' in version 1.5 and will be removed in 1.7.\n",
      "\n"
     ]
    },
    {
     "name": "stdout",
     "output_type": "stream",
     "text": [
      "[15 15 15 ...  5  5  5]\n"
     ]
    },
    {
     "data": {
      "application/vnd.plotly.v1+json": {
       "config": {
        "plotlyServerURL": "https://plot.ly"
       },
       "data": [
        {
         "hoverinfo": "text",
         "hovertemplate": "%{text}<extra></extra>",
         "marker": {
          "color": [
           0,
           0,
           0,
           0,
           0,
           0,
           0,
           0,
           0,
           0,
           0,
           0,
           0,
           0,
           0,
           0,
           0,
           0,
           0,
           0,
           0,
           0,
           0,
           0,
           0,
           0,
           0,
           0,
           0,
           0,
           4,
           4,
           4,
           4,
           4,
           4,
           4,
           4,
           4,
           4,
           4,
           4,
           4,
           4,
           4,
           4,
           4,
           4,
           4,
           4,
           4,
           4,
           4,
           4,
           4,
           4,
           4,
           4,
           4,
           4,
           8,
           8,
           8,
           8,
           8,
           8,
           8,
           8,
           8,
           8,
           8,
           8,
           8,
           8,
           8,
           8,
           8,
           8,
           8,
           8,
           8,
           8,
           8,
           8,
           8,
           8,
           8,
           8,
           8,
           8,
           3,
           3,
           3,
           3,
           3,
           3,
           3,
           3,
           3,
           3,
           3,
           3,
           3,
           3,
           3,
           3,
           3,
           3,
           3,
           3,
           3,
           3,
           3,
           3,
           3,
           3,
           3,
           3,
           3,
           3,
           2,
           2,
           2,
           2,
           2,
           2,
           2,
           2,
           2,
           2,
           2,
           2,
           2,
           2,
           2,
           2,
           2,
           2,
           2,
           2,
           2,
           2,
           2,
           2,
           2,
           2,
           2,
           2,
           2,
           2,
           5,
           5,
           5,
           5,
           5,
           5,
           5,
           5,
           5,
           5,
           5,
           5,
           5,
           5,
           5,
           5,
           5,
           5,
           5,
           5,
           5,
           5,
           5,
           5,
           5,
           5,
           5,
           5,
           5,
           5,
           6,
           6,
           6,
           6,
           6,
           6,
           6,
           6,
           6,
           6,
           6,
           6,
           6,
           6,
           6,
           6,
           6,
           6,
           6,
           6,
           6,
           6,
           6,
           6,
           6,
           6,
           6,
           6,
           6,
           6,
           7,
           7,
           7,
           7,
           7,
           7,
           7,
           7,
           7,
           7,
           7,
           7,
           7,
           7,
           7,
           7,
           7,
           7,
           7,
           7,
           7,
           7,
           7,
           7,
           7,
           7,
           7,
           7,
           7,
           7,
           1,
           1,
           1,
           1,
           1,
           1,
           1,
           1,
           1,
           1,
           1,
           1,
           1,
           1,
           1,
           1,
           1,
           1,
           1,
           1,
           1,
           1,
           1,
           1,
           1,
           1,
           1,
           1,
           1,
           1,
           0,
           0,
           0,
           0,
           0,
           0,
           0,
           0,
           0,
           0,
           0,
           0,
           0,
           0,
           0,
           0,
           0,
           0,
           0,
           0,
           0,
           0,
           0,
           0,
           0,
           0,
           0,
           0,
           0,
           0,
           4,
           4,
           4,
           4,
           4,
           4,
           4,
           4,
           4,
           4,
           4,
           4,
           4,
           4,
           4,
           4,
           4,
           4,
           4,
           4,
           4,
           4,
           4,
           4,
           4,
           4,
           4,
           4,
           4,
           4,
           8,
           8,
           8,
           8,
           8,
           8,
           8,
           8,
           8,
           8,
           8,
           8,
           8,
           8,
           8,
           8,
           8,
           8,
           8,
           8,
           8,
           8,
           8,
           8,
           8,
           8,
           8,
           8,
           8,
           8,
           3,
           3,
           3,
           3,
           3,
           3,
           3,
           3,
           3,
           3,
           3,
           3,
           3,
           3,
           3,
           3,
           3,
           3,
           3,
           3,
           3,
           3,
           3,
           3,
           3,
           3,
           3,
           3,
           3,
           3,
           2,
           2,
           2,
           2,
           2,
           2,
           2,
           2,
           2,
           2,
           2,
           2,
           2,
           2,
           2,
           2,
           2,
           2,
           2,
           2,
           2,
           2,
           2,
           2,
           2,
           2,
           2,
           2,
           2,
           2,
           5,
           5,
           5,
           5,
           5,
           5,
           5,
           5,
           5,
           5,
           5,
           5,
           5,
           5,
           5,
           5,
           5,
           5,
           5,
           5,
           5,
           5,
           5,
           5,
           5,
           5,
           5,
           5,
           5,
           5,
           6,
           6,
           6,
           6,
           6,
           6,
           6,
           6,
           6,
           6,
           6,
           6,
           6,
           6,
           6,
           6,
           6,
           6,
           6,
           6,
           6,
           6,
           6,
           6,
           6,
           6,
           6,
           6,
           6,
           6,
           7,
           7,
           7,
           7,
           7,
           7,
           7,
           7,
           7,
           7,
           7,
           7,
           7,
           7,
           7,
           7,
           7,
           7,
           7,
           7,
           7,
           7,
           7,
           7,
           7,
           7,
           7,
           7,
           7,
           7,
           1,
           1,
           1,
           1,
           1,
           1,
           1,
           1,
           1,
           1,
           1,
           1,
           1,
           1,
           1,
           1,
           1,
           1,
           1,
           1,
           1,
           1,
           1,
           1,
           1,
           1,
           1,
           1,
           1,
           1
          ],
          "line": {
           "width": 0
          },
          "opacity": 0.7,
          "size": {
           "bdata": "Dw8PDw8PDw8PDw8PDw8PDw8PDw8PDw8PDw8PDw8PDw8PDw8PDw8PDw8PDw8PDw8PDw8PDw8PDw8PDw8PDw8PDw8PDw8PDw8PDw8PDw8PDw8PDw8PDw8PDw8PDw8PDw8PDw8PDw8PDw8PDw8PDw8PDw8PDw8PDw8PDw8PDw8PDw8PDw8PDw8PDw8PDw8PDw8PDw8PDw8PDw8PDw8PDw8PDw8PDw8PDw8PDw8PDw8PDw8PDw8PDw8PDw8PDw8PDw8PDw8PDw8PDw8PDw8PDw8PDw8PDw8PDw8PDw8PDw8PDw8PDw8PDw8PDw8PDw8PDw8PDw8PDw8PDw8PDw8PDw8PDw8PDw8PDw8PDw8PDw8PBQUFBQUFBQUFBQUFBQUFBQUFBQUFBQUFBQUFBQUFBQUFBQUFBQUFBQUFBQUFBQUFBQUFBQUFBQUFBQUFBQUFBQUFBQUFBQUFBQUFBQUFBQUFBQUFBQUFBQUFBQUFBQUFBQUFBQUFBQUFBQUFBQUFBQUFBQUFBQUFBQUFBQUFBQUFBQUFBQUFBQUFBQUFBQUFBQUFBQUFBQUFBQUFBQUFBQUFBQUFBQUFBQUFBQUFBQUFBQUFBQUFBQUFBQUFBQUFBQUFBQUFBQUFBQUFBQUFBQUFBQUFBQUFBQUFBQUFBQUFBQUFBQUFBQUFBQUFBQUFBQUFBQUFBQUFBQUFBQUFBQUFBQUFBQUFBQUFBQUFBQUFBQUFBQUFBQUFBQUFBQUFBQUFBQUFBQUFBQUFBQUFBQUFBQUFBQUFBQUFBQUFBQUFBQUFBQUFBQUFBQUFBQUFBQUFBQUFBQUFBQUFBQUFBQUFBQUFBQUFBQUFBQUFBQUFBQUFBQUFBQUFBQUFBQUFBQUFBQUFBQUFBQUFBQUFBQUFBQUFBQUFBQUFBQUFBQUFBQUFBQUFBQUFBQUFBQUFBQUFBQUFBQUFBQUFBQUFBQUFBQUFBQUFBQUFBQUFBQUFBQUFBQUFBQUFBQUFBQUFBQUFBQUFBQUFBQUFBQUFBQUFBQUFBQUFBQUFBQUFBQUFBQUFBQUFBQUFBQUFBQUFBQUFBQUFBQUFBQUFBQUFBQUFBQUFBQUFBQUFBQUFBQUFBQUFBQUFBQUFBQUFBQUFBQUFBQUFBQUFBQUFBQUFBQUFBQUFBQUFBQUFBQUFBQUFBQUFBQUFBQUFBQUFBQUFBQUFBQUFBQUFBQUFBQUFBQUFBQUFBQUFBQUFBQUFBQUFBQUFBQUFBQUFBQUFBQUFBQUFBQUFBQUFBQUFBQUFBQUFBQUFBQUFBQUFBQUFBQUFBQUFBQUFBQUFBQUFBQUFBQUFBQUFBQUFBQUFBQUFBQUFBQUFBQUFBQUFBQUFBQUFBQUFBQUFBQUFBQUFBQUFBQUFBQUFBQUFBQUFBQUFBQUFBQUFBQUFBQUFBQUFBQUFBQUFBQUFBQUFBQUFBQUFBQUFBQUFBQUFBQUFBQUFBQUFBQUFBQUFBQUFBQUFBQUFBQUFBQUFBQUFBQUFBQUFBQUFBQUFBQUFBQUFBQUFBQUFBQUFBQUFBQUFBQUFBQUFBQUFBQUFBQUFBQUFBQUFBQUFBQUFBQUFBQUFBQUFBQUFBQUFBQUFBQUFBQUFBQUFBQUFBQUFBQUFBQUFBQUFBQUFBQUFBQUFBQUFBQUFBQUFBQUFBQUFBQUFBQUFBQUFBQUFBQUFBQUFBQUFBQUFBQUFBQUFBQUFBQUFBQUFBQUFBQUFBQUFBQUFBQUFBQUFBQUFBQUFBQUFBQUFBQUFBQUFBQUFBQUFBQUFBQUFBQUFBQUFBQUFBQUFBQUFBQUFBQUFBQUFBQUFBQUFBQUFBQUFBQUFBQUFBQUFBQUFBQUFBQUFBQUFBQUFBQUFBQUFBQUFBQUFBQUFBQUFBQUFBQUFBQUFBQUFBQUFBQUFBQUFBQUFBQUFBQUFBQUFBQUFBQUFBQUFBQUFBQUFBQUFBQUFBQUFBQUFBQUFBQUFBQUFBQUFBQUFBQUFBQUFBQUFBQUFBQUFBQUFBQUFBQUFBQUFBQUFBQUFBQUFBQUFBQUFBQUFBQUFBQUFBQUFBQUFBQUFBQUFBQUFBQUFBQUFBQUFBQUFBQUFBQUFBQUFBQUFBQUFBQUFBQUFBQUFBQUFBQUFBQUFBQUFBQUFBQUFBQUFBQUFBQUFBQUFBQUFBQUFBQUFBQUFBQUFBQUFBQUFBQUFBQUFBQUFBQUFBQUFBQUFBQUFBQUFBQUFBQUFBQUFBQUFBQUFBQUFBQUFBQUFBQUFBQUFBQUFBQUFBQUFBQUFBQUFBQUFBQUFBQUFBQUFBQUFBQUFBQUFBQUFBQUFBQUFBQUFBQUFBQUFBQUFBQUFBQUFBQUFBQUFBQUFBQUFBQUFBQUFBQUFBQUFBQUFBQUFBQUFBQUFBQUFBQUFBQUFBQUFBQUFBQUFBQUFBQUFBQUFBQUFBQUFBQUFBQUFBQUFBQUFBQUFBQUFBQUFBQUFBQUFBQUFBQUFBQUFBQUFBQUFBQUFBQUFBQUFBQUFBQUFBQUFBQUFBQUFBQUFBQUFBQUFBQUFBQUFBQUFBQUFBQUFBQUFBQUFBQUFBQUFBQUFBQUFBQUFBQUFBQUFBQUFBQUFBQUFBQUFBQUFBQUFBQUFBQUFBQUFBQUFBQUFBQUFBQUFBQUFBQUFBQUFBQUFBQUFBQUFBQUFBQUFBQUFBQUFBQUFBQUFBQUFBQUFBQUFBQUFBQUFBQUFBQUFBQUFBQUFBQUFBQUFBQUFBQUFBQUFBQUFBQUFBQUFBQUFBQUFBQUFBQUFBQUFBQUFBQUFBQUFBQUFBQUFBQUFBQUFBQUFBQUFBQUFBQUFBQUFBQUFBQUFBQUFBQUFBQUFBQUFBQUFBQUFBQUFBQUFBQUFBQUFBQUFBQUFBQUFBQUFBQUFBQUFBQUFBQUFBQUFBQUFBQUFBQUFBQUFBQUFBQUFBQUFBQUFBQUFBQUFBQUFBQUFBQUFBQUFBQUFBQUFBQUFBQUFBQUFBQUFBQUFBQUFBQUFBQUFBQUFBQUFBQUFBQUFBQUFBQUFBQUFBQUFBQUFBQUFBQUFBQUFBQUFBQUFBQUFBQUFBQUFBQUFBQUFBQUFBQUFBQUFBQUFBQUFBQUFBQUFBQUFBQUFBQUFBQUFBQUFBQUFBQUFBQUFBQUFBQUFBQUFBQUFBQUFBQUFBQUFBQUFBQUFBQUFBQUFBQUFBQUFBQUFBQUFBQUFBQUFBQUFBQUFBQUFBQUFBQUFBQUFBQUFBQUFBQUFBQUFBQUFBQUFBQUFBQUFBQUFBQUFBQUFBQUFBQUFBQUFBQUFBQUFBQUFBQUFBQUFBQUFBQUFBQUFBQUFBQUFBQUFBQUFBQUFBQUFBQUFBQUFBQUFBQUFBQUFBQUFBQUFBQUFBQUFBQUFBQUFBQUFBQUFBQUFBQUFBQUFBQUFBQUFBQUFBQUFBQUFBQUFBQUFBQUFBQUFBQUFBQUFBQUFBQUFBQUFBQUFBQUFBQUFBQUFBQUFBQUFBQUFBQUFBQUFBQUFBQUFBQUFBQUFBQUFBQUFBQUFBQUFBQUFBQUFBQUFBQUFBQUFBQUFBQUFBQUFBQUFBQUFBQUFBQUFBQUFBQUFBQUFBQUFBQUFBQUFBQUFBQUFBQUFBQUFBQUFBQUFBQUFBQUFBQUFBQUFBQUFBQUFBQUFBQUFBQUFBQUFBQUFBQUFBQUFBQUFBQUFBQUFBQUFBQUFBQUFBQUFBQUFBQUFBQUFBQUFBQUFBQUFBQUFBQUFBQUFBQUFBQUFBQUFBQUFBQUFBQUFBQUFBQUFBQUFBQUFBQUFBQUFBQUFBQUFBQUFBQUFBQUFBQUFBQUFBQUFBQUFBQUFBQUFBQUFBQUFBQUFBQUFBQUFBQUFBQUFBQUFBQUFBQUFBQUFBQUFBQUFBQUFBQUFBQUFBQUFBQUFBQUFBQUFBQUFBQUFBQUFBQUFBQUFBQUFBQUFBQUFBQUFBQUFBQUFBQUFBQUFBQUFBQUFBQUFBQUFBQUFBQUFBQUFBQUFBQUFBQUFBQUFBQUFBQUFBQUFBQUFBQUFBQUFBQUFBQUFBQUFBQUFBQUFBQUFBQUFBQUFBQUFBQUFBQUFBQUFBQUFBQUFBQUFBQUFBQUFBQUFBQUFBQUFBQUFBQUFBQUFBQUFBQUFBQUFBQUFBQUFBQUFBQUFBQUFBQUFBQUFBQUFBQUFBQUFBQUFBQUFBQUFBQUFBQUFBQUFBQUFBQUFBQUFBQUFBQUFBQUFBQUFBQUFBQUFBQUFBQUFBQUFBQUFBQUFBQUFBQUFBQUFBQUFBQUFBQUFBQUFBQUFBQUFBQUFBQUFBQUFBQUFBQUFBQUFBQUFBQUFBQUFBQUFBQUFBQUFBQUFBQUFBQUFBQUFBQUFBQUFBQUFBQUFBQUFBQUFBQUFBQUFBQUFBQUFBQUFBQUFBQUFBQUFBQUFBQUFBQUFBQUFBQUFBQUFBQUFBQUFBQUFBQUFBQUFBQUFBQUFBQUFBQUFBQUFBQUFBQUFBQUFBQUFBQUFBQUFBQUFBQUFBQUFBQUFBQUFBQUFBQUFBQUFBQUFBQUFBQUFBQUFBQUFBQUFBQUFBQUFBQUFBQUFBQUFBQUFBQUFBQUFBQUFBQUFBQUFBQUFBQUFBQUFBQUFBQUFBQUFBQUFBQUFBQUFBQUFBQUFBQUFBQUFBQUFBQUFBQUFBQUFBQUFBQUFBQUFBQUFBQUFBQUFBQUFBQUFBQUFBQUFBQUFBQUFBQUFBQUFBQUFBQUFBQUFBQUFBQUFBQUFBQUFBQUFBQUFBQUFBQUFBQUFBQUFBQUFBQUFBQUFBQUFBQUFBQUFBQUFBQUFBQUFBQUFBQUFBQUFBQUFBQUFBQUFBQUFBQUFBQUFBQUFBQUFBQUFBQUFBQUFBQUFBQUFBQUFBQUFBQUFBQUFBQUFBQUFBQUFBQUFBQUFBQUFBQUFBQUFBQUFBQUFBQUFBQUFBQUFBQUFBQUFBQUFBQUFBQUFBQUFBQUFBQUFBQUFBQUFBQUFBQUFBQUFBQUFBQUFBQUFBQUFBQUFBQUFBQUFBQUFBQUFBQUFBQUFBQUFBQUFBQUFBQUFBQUFBQUFBQUFBQUFBQUFBQUFBQUFBQUFBQUFBQUFBQUFBQUFBQUFBQUFBQUFBQUFBQUFBQUFBQUFBQUFBQUFBQUFBQUFBQUFBQUFBQUFBQUFBQUFBQUFBQUFBQUFBQUFBQUFBQUFBQUFBQUFBQUFBQUFBQUFBQUFBQUFBQUFBQUFBQUFBQUFBQUFBQUFBQUFBQUFBQUFBQUFBQUFBQUFBQUFBQUFBQUFBQUFBQUFBQUFBQUFBQUFBQUFBQUFBQUFBQUFBQUFBQUFBQUFBQUFBQUFBQUFBQUFBQUFBQUFBQUFBQUFBQUFBQUFBQUFBQUFBQUFBQUFBQUFBQUFBQUFBQUFBQUFBQUFBQUFBQUFBQUFBQUFBQUFBQUFBQUFBQUFBQUFBQUFBQUFBQUFBQUFBQUFBQUFBQUFBQUFBQUFBQUFBQUFBQUFBQUFBQUFBQUFBQUFBQUFBQUFBQUFBQUFBQUFBQUFBQUFBQUFBQUFBQUFBQUFBQUFBQUFBQUFBQUFBQUFBQUFBQUFBQUFBQUFBQUFBQUFBQUFBQUFBQUFBQUFBQUFBQUFBQUFBQUFBQUFBQUFBQUFBQUFBQUFBQUFBQUFBQUFBQUFBQUFBQUFBQUFBQUFBQUFBQUFBQUFBQUFBQUFBQUFBQUFBQUFBQUFBQUFBQUFBQUFBQUFBQUFBQUFBQUFBQUFBQUFBQUFBQUFBQUFBQUFBQUFBQUFBQUFBQUFBQUFBQUFBQUFBQUFBQUFBQUFBQUFBQUFBQUFBQUFBQUFBQUFBQUFBQUFBQUFBQUFBQUFBQUFBQUFBQUFBQUFBQUFBQUFBQUFBQUFBQUFBQUFBQUFBQUFBQUFBQUFBQUFBQUFBQUFBQUFBQUFBQUFBQUFBQUFBQUFBQUFBQUFBQUFBQUFBQUFBQUFBQUFBQUFBQUFBQUFBQUFBQUFBQUFBQUFBQUFBQUFBQUFBQUFBQUFBQUFBQUFBQUFBQUFBQUFBQUFBQUFBQUFBQUFBQUFBQUFBQUFBQUFBQUFBQUFBQUFBQUFBQUFBQUFBQUFBQUFBQUFBQUFBQUFBQUFBQUFBQUFBQUFBQUFBQUFBQUFBQUFBQUFBQUFBQUFBQUFBQUFBQUFBQUFBQUFBQUFBQUFBQUFBQUFBQUFBQUFBQUFBQUFBQUFBQUFBQUFBQUFBQUFBQUFBQUFBQUFBQUFBQUFBQUFBQUFBQUFBQUFBQUFBQUFBQUFBQUFBQUFBQUFBQUFBQUFBQUFBQUFBQUFBQUFBQUFBQUFBQUFBQUFBQUFBQUFBQUFBQUFBQUFBQUFBQUFBQUFBQUFBQUFBQUFBQUFBQUFBQUFBQUFBQUFBQUFBQUFBQUFBQUFBQUFBQUFBQUFBQUFBQUFBQUFBQUFBQUFBQUFBQUFBQUFBQUFBQUFBQUFBQUFBQUFBQUFBQUFBQUFBQUFBQUFBQUFBQUFBQUFBQUFBQUFBQUFBQUFBQUFBQUFBQUFBQUFBQUFBQUFBQUFBQUFBQUFBQUFBQUFBQUFBQUFBQUFBQUFBQUFBQUFBQUFBQUFBQUFBQUFBQUFBQUFBQUFBQUFBQUFBQUFBQUFBQUFBQUFBQUFBQUFBQUFBQUFBQUFBQUFBQUFBQUFBQUFBQUFBQUFBQUFBQUFBQUFBQUFBQUFBQUFBQUFBQUFBQUFBQUFBQUFBQUFBQUFBQUFBQUFBQUFBQUFBQUFBQUFBQUFBQUFBQUFBQUFBQUFBQUFBQUFBQUFBQUFBQUFBQUFBQUFBQUFBQUFBQUFBQUFBQUFBQUFBQUFBQUFBQUFBQUFBQUFBQUFBQUFBQUFBQUFBQUFBQUFBQUFBQUFBQUFBQUFBQUFBQUFBQUFBQUFBQUFBQUFBQUFBQUFBQUFBQUFBQUFBQUFBQUFBQUFBQUFBQUFBQUFBQUFBQUFBQUFBQUFBQUFBQUFBQUFBQUFBQUFBQUFBQUFBQUFBQUFBQUFBQUFBQUFBQUFBQUFBQUFBQUFBQUFBQUFBQUFBQUFBQUFBQUFBQUFBQUFBQUFBQUFBQUFBQUFBQUFBQUFBQUFBQUFBQUFBQUFBQUFBQUFBQUFBQUFBQUFBQUFBQUFBQUFBQUFBQUFBQUFBQUFBQUFBQUFBQUFBQUFBQUFBQUFBQUFBQUFBQUFBQUFBQUFBQUFBQUFBQUFBQUFBQUFBQUFBQUFBQUFBQUFBQUFBQUFBQUFBQUFBQUFBQUFBQUFBQUFBQUFBQUFBQUFBQUFBQUFBQUFBQUFBQUFBQUFBQUFBQUFBQUFBQUFBQUFBQUFBQUFBQUFBQUFBQUFBQUFBQUFBQUFBQUFBQUFBQUFBQUFBQUFBQUFBQUFBQUFBQUFBQUFBQUFBQUFBQUFBQUFBQUFBQUFBQUFBQUFBQUFBQUFBQUFBQUFBQUFBQUFBQUFBQUFBQUFBQUFBQUFBQUFBQUFBQUFBQUFBQUFBQUFBQUFBQUFBQUFBQUFBQUFBQUFBQUFBQUFBQUFBQUFBQUFBQUFBQUFBQUFBQUFBQUFBQUFBQUFBQUFBQUFBQUFBQUFBQUFBQUFBQUFBQUFBQUFBQUFBQUFBQUFBQUFBQUFBQUFBQUFBQUFBQUFBQUFBQUFBQUFBQUFBQUFBQUFBQUFBQUFBQUFBQUFBQUFBQUFBQUFBQUFBQUFBQUFBQUFBQUFBQUFBQUFBQUFBQUFBQUFBQUFBQUFBQUFBQUFBQUFBQUFBQUFBQUFBQUFBQUFBQUFBQUFBQUFBQUFBQUFBQUFBQUFBQUFBQUFBQUFBQUFBQUFBQUFBQUFBQUFBQUFBQUFBQUFBQUFBQUFBQUFBQUFBQUFBQUFBQUFBQUFBQUFBQUFBQUFBQUFBQUFBQUFBQUFBQUFBQUFBQUFBQUFBQUFBQUFBQUFBQUFBQUFBQUFBQUFBQUFBQUFBQUFBQUFBQUFBQUFBQUFBQUFBQUFBQUFBQUFBQUFBQUFBQUFBQUFBQUFBQUFBQUFBQUFBQUFBQUFBQUFBQUFBQUFBQUFBQUFBQUFBQUFBQUFBQUFBQUFBQUFBQUFBQUFBQUFBQUFBQUFBQUFBQUFBQUFBQUFBQUFBQUFBQUFBQUFBQUFBQUFBQUFBQUFBQUFBQUFBQUFBQUFBQUFBQUFBQUFBQUFBQUFBQUFBQUFBQUFBQUFBQUFBQUFBQUFBQUFBQUFBQUFBQUFBQUFBQ==",
           "dtype": "i1"
          }
         },
         "mode": "markers",
         "name": "Image embeddings",
         "showlegend": false,
         "text": [
          "Black footed Albatross: \"a photography of a bird in a field\"",
          "Black footed Albatross: \"a photography of a bird perched on a branch\"",
          "Black footed Albatross: \"a photography of a bird perched on a branch\"",
          "Black footed Albatross: \"a photography of a bird standing in a puddle\"",
          "Black footed Albatross: \"a photography of a bird in a field\"",
          "Black footed Albatross: \"a photography of a bird on a rock\"",
          "Black footed Albatross: \"a photography of a bird\"",
          "Black footed Albatross: \"a photography of a bird in the water\"",
          "Black footed Albatross: \"a photography of a bird\"",
          "Black footed Albatross: \"a photography of a house sparrow\"",
          "Black footed Albatross: \"a photography of a bird in a muddy field\"",
          "Black footed Albatross: \"a photography of a bird\"",
          "Black footed Albatross: \"a photography of a bird in the grass\"",
          "Black footed Albatross: \"a photography of a bird on a rock in the water\"",
          "Black footed Albatross: \"a photography of a bird\"",
          "Black footed Albatross: \"a photography of a bird on the ground\"",
          "Black footed Albatross: \"a photography of a bird on a rocky shore\"",
          "Black footed Albatross: \"a photography of a bird on the ground\"",
          "Black footed Albatross: \"a photography of a bird\"",
          "Black footed Albatross: \"a photography of a bird on a rock\"",
          "Black footed Albatross: \"a photography of a bird\"",
          "Black footed Albatross: \"a photography of a bird perched on a branch\"",
          "Black footed Albatross: \"a photography of a bird\"",
          "Black footed Albatross: \"a photography of a bird standing in the mud\"",
          "Black footed Albatross: \"a photography of a bird\"",
          "Black footed Albatross: \"a photography of a bird on the shore of a lake\"",
          "Black footed Albatross: \"a photography of a bird in the grass\"",
          "Black footed Albatross: \"a photography of a bird in the grass\"",
          "Black footed Albatross: \"a photography of a bird perched on a branch\"",
          "Black footed Albatross: \"a photography of a bird in the grass\"",
          "Laysan Albatross: \"a photography of a bird on a post\"",
          "Laysan Albatross: \"a photography of a bird on a rock\"",
          "Laysan Albatross: \"a photography of a bird on a rock\"",
          "Laysan Albatross: \"a photography of a bird sitting on a branch\"",
          "Laysan Albatross: \"a photography of a bird\"",
          "Laysan Albatross: \"a photography of a bird perched on a cactus\"",
          "Laysan Albatross: \"a photography of a bird in the ground\"",
          "Laysan Albatross: \"a photography of a bird on a wire\"",
          "Laysan Albatross: \"a photography of a bird perched on a tree branch\"",
          "Laysan Albatross: \"a photography of a bird in a tree\"",
          "Laysan Albatross: \"a photography of a small bird on the ground\"",
          "Laysan Albatross: \"a photography of a bird on the ground\"",
          "Laysan Albatross: \"a photography of a bird on a tree stump\"",
          "Laysan Albatross: \"a photography of a bird\"",
          "Laysan Albatross: \"a photography of a bird\"",
          "Laysan Albatross: \"a photography of a bird on a branch\"",
          "Laysan Albatross: \"a photography of a bird perched on a branch\"",
          "Laysan Albatross: \"a photography of a bird in a tree\"",
          "Laysan Albatross: \"a photography of a bird perched on a branch\"",
          "Laysan Albatross: \"a photography of a bird perched on a person's hand\"",
          "Laysan Albatross: \"a photography of a bird\"",
          "Laysan Albatross: \"a photography of a bird on a rocky area\"",
          "Laysan Albatross: \"a photography of a bird perched on a dead tree\"",
          "Laysan Albatross: \"a photography of a bird perched on a branch\"",
          "Laysan Albatross: \"a photography of a bird on the ground\"",
          "Laysan Albatross: \"a photography of a bird perched on a branch\"",
          "Laysan Albatross: \"a photography of a bird\"",
          "Laysan Albatross: \"a photography of a bird\"",
          "Laysan Albatross: \"a photography of a bird perched on a branch\"",
          "Laysan Albatross: \"a photography of a bird perched on a branch\"",
          "Sooty Albatross: \"a photography of a bird perched on a branch\"",
          "Sooty Albatross: \"a photography of a bird in a nest\"",
          "Sooty Albatross: \"a photography of a woodpeart\"",
          "Sooty Albatross: \"a photography of a red - bell woodpear\"",
          "Sooty Albatross: \"a photography of a pileea woodpearch\"",
          "Sooty Albatross: \"a photography of a bird perched on a tree branch\"",
          "Sooty Albatross: \"a photography of a woodpeart\"",
          "Sooty Albatross: \"a photography of a bird in a tree\"",
          "Sooty Albatross: \"a photography of a bird\"",
          "Sooty Albatross: \"a photography of a bird\"",
          "Sooty Albatross: \"a photography of a bird\"",
          "Sooty Albatross: \"a photography of a bird perched on a tree\"",
          "Sooty Albatross: \"a photography of a bird\"",
          "Sooty Albatross: \"a photography of a bird\"",
          "Sooty Albatross: \"a photography of a bird\"",
          "Sooty Albatross: \"a photography of a woodpeart\"",
          "Sooty Albatross: \"a photography of a woodpeart\"",
          "Sooty Albatross: \"a photography of a great spotted woodpeart\"",
          "Sooty Albatross: \"a photography of a woodpeart\"",
          "Sooty Albatross: \"a photography of a woodpeart\"",
          "Sooty Albatross: \"a photography of a woodpeart\"",
          "Sooty Albatross: \"a photography of a bird in a tree\"",
          "Sooty Albatross: \"a photography of a bird on a tree\"",
          "Sooty Albatross: \"a photography of a bird\"",
          "Sooty Albatross: \"a photography of a bird\"",
          "Sooty Albatross: \"a photography of a bird perched on a tree\"",
          "Sooty Albatross: \"a photography of a woodpeart\"",
          "Sooty Albatross: \"a photography of a bird perched on a tree\"",
          "Sooty Albatross: \"a photography of a woodpeart\"",
          "Sooty Albatross: \"a photography of a bird on a tree\"",
          "Groove billed Ani: \"a photography of a bird perched on a wooden post\"",
          "Groove billed Ani: \"a photography of a bird on a wire\"",
          "Groove billed Ani: \"a photography of a bird on a wire\"",
          "Groove billed Ani: \"a photography of a bird on a wire\"",
          "Groove billed Ani: \"a photography of a bird in the grass\"",
          "Groove billed Ani: \"a photography of a bird perched on a stump\"",
          "Groove billed Ani: \"a photography of a bird in the grass\"",
          "Groove billed Ani: \"a photography of a bird on a wire fence\"",
          "Groove billed Ani: \"a photography of a bird on a fence post\"",
          "Groove billed Ani: \"a photography of a bird on a branch\"",
          "Groove billed Ani: \"a photography of a bird perched on a branch\"",
          "Groove billed Ani: \"a photography of a bird on a barbed fence\"",
          "Groove billed Ani: \"a photography of a bird on the ground\"",
          "Groove billed Ani: \"a photography of a bird eating corn\"",
          "Groove billed Ani: \"a photography of a bird on a gravel road\"",
          "Groove billed Ani: \"a photography of a bird on a wire\"",
          "Groove billed Ani: \"a photography of a bird\"",
          "Groove billed Ani: \"a photography of a bird\"",
          "Groove billed Ani: \"a photography of a bird\"",
          "Groove billed Ani: \"a photography of a bird perched on a tree branch\"",
          "Groove billed Ani: \"a photography of a bird\"",
          "Groove billed Ani: \"a photography of a bird\"",
          "Groove billed Ani: \"a photography of a bird perched on a branch\"",
          "Groove billed Ani: \"a photography of a bird on a wire fence\"",
          "Groove billed Ani: \"a photography of a bird on a plant\"",
          "Groove billed Ani: \"a photography of a bird\"",
          "Groove billed Ani: \"a photography of a bird on a wire\"",
          "Groove billed Ani: \"a photography of a bird\"",
          "Groove billed Ani: \"a photography of a bird on a wire\"",
          "Groove billed Ani: \"a photography of a bird on a wooden fence\"",
          "Crested Auklet: \"a photography of a bird perched on a branch\"",
          "Crested Auklet: \"a photography of a bird perched on a branch\"",
          "Crested Auklet: \"a photography of a bird\"",
          "Crested Auklet: \"a photography of a yellow warbler\"",
          "Crested Auklet: \"a photography of a bird perched on a hand\"",
          "Crested Auklet: \"a photography of a bird perched on a branch\"",
          "Crested Auklet: \"a photography of a bird perched on a branch\"",
          "Crested Auklet: \"a photography of a bird on a branch\"",
          "Crested Auklet: \"a photography of a bird perched on a branch\"",
          "Crested Auklet: \"a photography of a bird perched on a branch\"",
          "Crested Auklet: \"a photography of a bird perched on a branch\"",
          "Crested Auklet: \"a photography of a yellow - crowned warbler\"",
          "Crested Auklet: \"a photography of a goldfinch\"",
          "Crested Auklet: \"a photography of a bird in the woods\"",
          "Crested Auklet: \"a photography of a bird\"",
          "Crested Auklet: \"a photography of a bird\"",
          "Crested Auklet: \"a photography of a bird\"",
          "Crested Auklet: \"a photography of a bird in the grass\"",
          "Crested Auklet: \"a photography of a bird in a tree\"",
          "Crested Auklet: \"a photography of a bird\"",
          "Crested Auklet: \"a photography of a bird perched on a branch\"",
          "Crested Auklet: \"a photography of a bird on a branch\"",
          "Crested Auklet: \"a photography of a bird perched on a tree branch\"",
          "Crested Auklet: \"a photography of a bird singing on a branch\"",
          "Crested Auklet: \"a photography of a bird\"",
          "Crested Auklet: \"a photography of a bird eating on a seed\"",
          "Crested Auklet: \"a photography of a bird on a branch\"",
          "Crested Auklet: \"a photography of a bird perched on a branch\"",
          "Crested Auklet: \"a photography of a bird on a branch\"",
          "Crested Auklet: \"a photography of a bird\"",
          "Least Auklet: \"a photography of a bird perched on a branch\"",
          "Least Auklet: \"a photography of a bird perched on a wooden post\"",
          "Least Auklet: \"a photography of a bird\"",
          "Least Auklet: \"a photography of a bird\"",
          "Least Auklet: \"a photography of a bird perched on a branch\"",
          "Least Auklet: \"a photography of a bird eating on a piece of wood\"",
          "Least Auklet: \"a photography of a small bird perched on a leaf\"",
          "Least Auklet: \"a photography of a bird on a rusty fence\"",
          "Least Auklet: \"a photography of a bird eating a piece of food\"",
          "Least Auklet: \"a photography of a bird perched on a branch\"",
          "Least Auklet: \"a photography of a bird perched on a branch\"",
          "Least Auklet: \"a photography of a bird perched on a fence post\"",
          "Least Auklet: \"a photography of a bird\"",
          "Least Auklet: \"a photography of a bird\"",
          "Least Auklet: \"a photography of a bird perched on a branch\"",
          "Least Auklet: \"a photography of a bird perched on a branch\"",
          "Least Auklet: \"a photography of a bird perched on a branch\"",
          "Least Auklet: \"a photography of a bird on a wall\"",
          "Least Auklet: \"a photography of a bird perched on a branch\"",
          "Least Auklet: \"a photography of a house wren\"",
          "Least Auklet: \"a photography of a bird\"",
          "Least Auklet: \"a photography of a bird\"",
          "Least Auklet: \"a photography of a bird\"",
          "Least Auklet: \"a photography of a bird on a branch\"",
          "Least Auklet: \"a photography of a bird in a tree\"",
          "Least Auklet: \"a photography of a bird on a tree\"",
          "Least Auklet: \"a photography of a bird perched on a branch\"",
          "Least Auklet: \"a photography of a bird on a branch\"",
          "Least Auklet: \"a photography of a bird perched on a branch of a tree\"",
          "Least Auklet: \"a photography of a bird\"",
          "Parakeet Auklet: \"a photography of a bird\"",
          "Parakeet Auklet: \"a photography of a male northern cardinal\"",
          "Parakeet Auklet: \"a photography of a bird in a tree with berries\"",
          "Parakeet Auklet: \"a photography of a bird\"",
          "Parakeet Auklet: \"a photography of a bird perched on a branch\"",
          "Parakeet Auklet: \"a photography of a bird eating on a branch\"",
          "Parakeet Auklet: \"a photography of a bird on a bird bath\"",
          "Parakeet Auklet: \"a photography of a bird in the leaves\"",
          "Parakeet Auklet: \"a photography of a bird\"",
          "Parakeet Auklet: \"a photography of a bird on a branch with berries\"",
          "Parakeet Auklet: \"a photography of a bird perched on a tree branch\"",
          "Parakeet Auklet: \"a photography of a bird\"",
          "Parakeet Auklet: \"a photography of a bird\"",
          "Parakeet Auklet: \"a photography of a bird perched on a branch\"",
          "Parakeet Auklet: \"a photography of a bird on a branch\"",
          "Parakeet Auklet: \"a photography of a bird on a bird feeder\"",
          "Parakeet Auklet: \"a photography of a bird\"",
          "Parakeet Auklet: \"a photography of a male cardinal bird in a tree with red berries\"",
          "Parakeet Auklet: \"a photography of a bird\"",
          "Parakeet Auklet: \"a photography of a bird perched on a branch\"",
          "Parakeet Auklet: \"a photography of a bird\"",
          "Parakeet Auklet: \"a photography of a bird\"",
          "Parakeet Auklet: \"a photography of a bird perched on a branch of a tree\"",
          "Parakeet Auklet: \"a photography of a bird\"",
          "Parakeet Auklet: \"a photography of a bird perched on a branch\"",
          "Parakeet Auklet: \"a photography of a bird perched on a tree\"",
          "Parakeet Auklet: \"a photography of a bird eating berries from a tree\"",
          "Parakeet Auklet: \"a photography of a red bird perched on a branch of a tree\"",
          "Parakeet Auklet: \"a photography of a bird eating on a branch\"",
          "Parakeet Auklet: \"a photography of a bird perched on a branch\"",
          "Rhinoceros Auklet: \"a photography of a bird perched on a branch\"",
          "Rhinoceros Auklet: \"a photography of a bird perched on a branch\"",
          "Rhinoceros Auklet: \"a photography of a bird\"",
          "Rhinoceros Auklet: \"a photography of a bird\"",
          "Rhinoceros Auklet: \"a photography of a bird on a branch\"",
          "Rhinoceros Auklet: \"a photography of a bird perched on a branch\"",
          "Rhinoceros Auklet: \"a photography of a bird perched on a branch\"",
          "Rhinoceros Auklet: \"a photography of a bird perched on a branch\"",
          "Rhinoceros Auklet: \"a photography of a bird\"",
          "Rhinoceros Auklet: \"a photography of a bird perched on a branch\"",
          "Rhinoceros Auklet: \"a photography of a bird\"",
          "Rhinoceros Auklet: \"a photography of a bird perched on a branch\"",
          "Rhinoceros Auklet: \"a photography of a bird perched on a branch\"",
          "Rhinoceros Auklet: \"a photography of a bird in the grass\"",
          "Rhinoceros Auklet: \"a photography of a bird perched on a branch\"",
          "Rhinoceros Auklet: \"a photography of a bird perched on a branch\"",
          "Rhinoceros Auklet: \"a photography of a bird\"",
          "Rhinoceros Auklet: \"a photography of a bird perched on a branch\"",
          "Rhinoceros Auklet: \"a photography of a bird in a tree\"",
          "Rhinoceros Auklet: \"a photography of a bird perched on a branch\"",
          "Rhinoceros Auklet: \"a photography of a female white - eye bird\"",
          "Rhinoceros Auklet: \"a photography of a bird in a tree\"",
          "Rhinoceros Auklet: \"a photography of a bird perched on a branch\"",
          "Rhinoceros Auklet: \"a photography of a bird\"",
          "Rhinoceros Auklet: \"a photography of a bird in a tree\"",
          "Rhinoceros Auklet: \"a photography of a bird perched on a branch\"",
          "Rhinoceros Auklet: \"a photography of a bird perched on a branch\"",
          "Rhinoceros Auklet: \"a photography of a bird\"",
          "Rhinoceros Auklet: \"a photography of a bird perched on a branch\"",
          "Rhinoceros Auklet: \"a photography of a bird perched on a branch\"",
          "Brewer Blackbird: \"a photography of a bird\"",
          "Brewer Blackbird: \"a photography of a bird perched on a branch\"",
          "Brewer Blackbird: \"a photography of a male goldfinch\"",
          "Brewer Blackbird: \"a photography of a bird\"",
          "Brewer Blackbird: \"a photography of a male goldfinch in the rainforest of the daie island\"",
          "Brewer Blackbird: \"a photography of a bird perched on a branch\"",
          "Brewer Blackbird: \"a photography of a bird in the grass\"",
          "Brewer Blackbird: \"a photography of a bird on a wire\"",
          "Brewer Blackbird: \"a photography of a bird\"",
          "Brewer Blackbird: \"a photography of a bird on a branch\"",
          "Brewer Blackbird: \"a photography of a bird\"",
          "Brewer Blackbird: \"a photography of a bird perched on a branch\"",
          "Brewer Blackbird: \"a photography of a bird\"",
          "Brewer Blackbird: \"a photography of a bird perched on a branch\"",
          "Brewer Blackbird: \"a photography of a goldfinch perched on a thistle plant\"",
          "Brewer Blackbird: \"a photography of a bird\"",
          "Brewer Blackbird: \"a photography of a bird perched on a branch\"",
          "Brewer Blackbird: \"a photography of a bird perched on a branch\"",
          "Brewer Blackbird: \"a photography of a goldfinch\"",
          "Brewer Blackbird: \"a photography of a male goldfinch in a tree\"",
          "Brewer Blackbird: \"a photography of a bird on a bird feeder\"",
          "Brewer Blackbird: \"a photography of a male goldfinch\"",
          "Brewer Blackbird: \"a photography of a bird\"",
          "Brewer Blackbird: \"a photography of a bird in flight\"",
          "Brewer Blackbird: \"a photography of a male goldfinch\"",
          "Brewer Blackbird: \"a photography of a male great tira\"",
          "Brewer Blackbird: \"a photography of a bird perched on a barbed fence\"",
          "Brewer Blackbird: \"a photography of a bird perched on a thistle plant\"",
          "Brewer Blackbird: \"a photography of a bird\"",
          "Brewer Blackbird: \"a photography of a bird\"",
          "Black footed Albatross",
          "Black footed Albatross",
          "Black footed Albatross",
          "Black footed Albatross",
          "Black footed Albatross",
          "Black footed Albatross",
          "Black footed Albatross",
          "Black footed Albatross",
          "Black footed Albatross",
          "Black footed Albatross",
          "Black footed Albatross",
          "Black footed Albatross",
          "Black footed Albatross",
          "Black footed Albatross",
          "Black footed Albatross",
          "Black footed Albatross",
          "Black footed Albatross",
          "Black footed Albatross",
          "Black footed Albatross",
          "Black footed Albatross",
          "Black footed Albatross",
          "Black footed Albatross",
          "Black footed Albatross",
          "Black footed Albatross",
          "Black footed Albatross",
          "Black footed Albatross",
          "Black footed Albatross",
          "Black footed Albatross",
          "Black footed Albatross",
          "Black footed Albatross",
          "Laysan Albatross",
          "Laysan Albatross",
          "Laysan Albatross",
          "Laysan Albatross",
          "Laysan Albatross",
          "Laysan Albatross",
          "Laysan Albatross",
          "Laysan Albatross",
          "Laysan Albatross",
          "Laysan Albatross",
          "Laysan Albatross",
          "Laysan Albatross",
          "Laysan Albatross",
          "Laysan Albatross",
          "Laysan Albatross",
          "Laysan Albatross",
          "Laysan Albatross",
          "Laysan Albatross",
          "Laysan Albatross",
          "Laysan Albatross",
          "Laysan Albatross",
          "Laysan Albatross",
          "Laysan Albatross",
          "Laysan Albatross",
          "Laysan Albatross",
          "Laysan Albatross",
          "Laysan Albatross",
          "Laysan Albatross",
          "Laysan Albatross",
          "Laysan Albatross",
          "Sooty Albatross",
          "Sooty Albatross",
          "Sooty Albatross",
          "Sooty Albatross",
          "Sooty Albatross",
          "Sooty Albatross",
          "Sooty Albatross",
          "Sooty Albatross",
          "Sooty Albatross",
          "Sooty Albatross",
          "Sooty Albatross",
          "Sooty Albatross",
          "Sooty Albatross",
          "Sooty Albatross",
          "Sooty Albatross",
          "Sooty Albatross",
          "Sooty Albatross",
          "Sooty Albatross",
          "Sooty Albatross",
          "Sooty Albatross",
          "Sooty Albatross",
          "Sooty Albatross",
          "Sooty Albatross",
          "Sooty Albatross",
          "Sooty Albatross",
          "Sooty Albatross",
          "Sooty Albatross",
          "Sooty Albatross",
          "Sooty Albatross",
          "Sooty Albatross",
          "Groove billed Ani",
          "Groove billed Ani",
          "Groove billed Ani",
          "Groove billed Ani",
          "Groove billed Ani",
          "Groove billed Ani",
          "Groove billed Ani",
          "Groove billed Ani",
          "Groove billed Ani",
          "Groove billed Ani",
          "Groove billed Ani",
          "Groove billed Ani",
          "Groove billed Ani",
          "Groove billed Ani",
          "Groove billed Ani",
          "Groove billed Ani",
          "Groove billed Ani",
          "Groove billed Ani",
          "Groove billed Ani",
          "Groove billed Ani",
          "Groove billed Ani",
          "Groove billed Ani",
          "Groove billed Ani",
          "Groove billed Ani",
          "Groove billed Ani",
          "Groove billed Ani",
          "Groove billed Ani",
          "Groove billed Ani",
          "Groove billed Ani",
          "Groove billed Ani",
          "Crested Auklet",
          "Crested Auklet",
          "Crested Auklet",
          "Crested Auklet",
          "Crested Auklet",
          "Crested Auklet",
          "Crested Auklet",
          "Crested Auklet",
          "Crested Auklet",
          "Crested Auklet",
          "Crested Auklet",
          "Crested Auklet",
          "Crested Auklet",
          "Crested Auklet",
          "Crested Auklet",
          "Crested Auklet",
          "Crested Auklet",
          "Crested Auklet",
          "Crested Auklet",
          "Crested Auklet",
          "Crested Auklet",
          "Crested Auklet",
          "Crested Auklet",
          "Crested Auklet",
          "Crested Auklet",
          "Crested Auklet",
          "Crested Auklet",
          "Crested Auklet",
          "Crested Auklet",
          "Crested Auklet",
          "Least Auklet",
          "Least Auklet",
          "Least Auklet",
          "Least Auklet",
          "Least Auklet",
          "Least Auklet",
          "Least Auklet",
          "Least Auklet",
          "Least Auklet",
          "Least Auklet",
          "Least Auklet",
          "Least Auklet",
          "Least Auklet",
          "Least Auklet",
          "Least Auklet",
          "Least Auklet",
          "Least Auklet",
          "Least Auklet",
          "Least Auklet",
          "Least Auklet",
          "Least Auklet",
          "Least Auklet",
          "Least Auklet",
          "Least Auklet",
          "Least Auklet",
          "Least Auklet",
          "Least Auklet",
          "Least Auklet",
          "Least Auklet",
          "Least Auklet",
          "Parakeet Auklet",
          "Parakeet Auklet",
          "Parakeet Auklet",
          "Parakeet Auklet",
          "Parakeet Auklet",
          "Parakeet Auklet",
          "Parakeet Auklet",
          "Parakeet Auklet",
          "Parakeet Auklet",
          "Parakeet Auklet",
          "Parakeet Auklet",
          "Parakeet Auklet",
          "Parakeet Auklet",
          "Parakeet Auklet",
          "Parakeet Auklet",
          "Parakeet Auklet",
          "Parakeet Auklet",
          "Parakeet Auklet",
          "Parakeet Auklet",
          "Parakeet Auklet",
          "Parakeet Auklet",
          "Parakeet Auklet",
          "Parakeet Auklet",
          "Parakeet Auklet",
          "Parakeet Auklet",
          "Parakeet Auklet",
          "Parakeet Auklet",
          "Parakeet Auklet",
          "Parakeet Auklet",
          "Parakeet Auklet",
          "Rhinoceros Auklet",
          "Rhinoceros Auklet",
          "Rhinoceros Auklet",
          "Rhinoceros Auklet",
          "Rhinoceros Auklet",
          "Rhinoceros Auklet",
          "Rhinoceros Auklet",
          "Rhinoceros Auklet",
          "Rhinoceros Auklet",
          "Rhinoceros Auklet",
          "Rhinoceros Auklet",
          "Rhinoceros Auklet",
          "Rhinoceros Auklet",
          "Rhinoceros Auklet",
          "Rhinoceros Auklet",
          "Rhinoceros Auklet",
          "Rhinoceros Auklet",
          "Rhinoceros Auklet",
          "Rhinoceros Auklet",
          "Rhinoceros Auklet",
          "Rhinoceros Auklet",
          "Rhinoceros Auklet",
          "Rhinoceros Auklet",
          "Rhinoceros Auklet",
          "Rhinoceros Auklet",
          "Rhinoceros Auklet",
          "Rhinoceros Auklet",
          "Rhinoceros Auklet",
          "Rhinoceros Auklet",
          "Rhinoceros Auklet",
          "Brewer Blackbird",
          "Brewer Blackbird",
          "Brewer Blackbird",
          "Brewer Blackbird",
          "Brewer Blackbird",
          "Brewer Blackbird",
          "Brewer Blackbird",
          "Brewer Blackbird",
          "Brewer Blackbird",
          "Brewer Blackbird",
          "Brewer Blackbird",
          "Brewer Blackbird",
          "Brewer Blackbird",
          "Brewer Blackbird",
          "Brewer Blackbird",
          "Brewer Blackbird",
          "Brewer Blackbird",
          "Brewer Blackbird",
          "Brewer Blackbird",
          "Brewer Blackbird",
          "Brewer Blackbird",
          "Brewer Blackbird",
          "Brewer Blackbird",
          "Brewer Blackbird",
          "Brewer Blackbird",
          "Brewer Blackbird",
          "Brewer Blackbird",
          "Brewer Blackbird",
          "Brewer Blackbird",
          "Brewer Blackbird"
         ],
         "type": "scatter",
         "x": {
          "bdata": "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",
          "dtype": "f4"
         },
         "y": {
          "bdata": "CxBxwHQa4EBvgt9AHjqGwAsQccBQTjrAKRTtv5FRJ8C+rey/9oOFwMBmgcBO5+u/s8amwBidNsBdF+2/NpCHwF0OOsA2kIfAWpXrv1BOOsCiaeu/mezZQAOw67+nIIPA7yTsvw5kAMCzxqbAs8amwGcr1kCzxqbA6SqLv1BOOsBQTjrAh2rbQDhR6r+wZHvAXYqHwDAvmj8gQeBAvm7sQG9KiMA2kIfAXmHqQNPk6b8Ta+q/iCjeQGgMzkADbuxAMdfLQL3q3cAV2+m/aJI4wOoZ6UBQrM1ANpCHwIp50EAwxeu/P5rpv8Kw1UD0iOBAXOLLQAXg/L9vVKJAO/UbP9biAMHWQeBAb1SiQANu7EABeum/FpPpvy+O6b+JhOpA6XjpvyY26b94GOm/b1SiQG9UokALIKJAb1SiQG9UokBvVKJAA27sQBH160DpAOm/+lTpv4mE6kBvVKJAiYTqQG9UokAR9etAo1uGvzAvmj99Fpo/fRaaP7PGpsAk4uhAs8amwOkN/T6faD+/XCDeQFgizkB8d888NpCHwI4RFsAN4YLAfRaaP/mM6L89L+m/moLov59A4EDS+eq/S4TpvyMN6EDpDf0+m4QDwIJb778wL5o/IHzxv30Wmj8ytwu/anzLQOKs0UCjYe2/SLZqv4T53MDRE9FATWHTQP0o3kDBe8pAsWDMQKUpzkCa2mm/rUqYv3V0mz9z/+m/Sr7pv/Jw6r+zxqbAA27sQGcw7L93zM5AdSreQJ9A4EC8Ld9AXlbrv1JnFMB5J95A5kjPQN8f3kAjfeu/BR/TQKNbhr/+P+y/5lzrv3C900D8rRLAnHFQwOQ9hL4QARLAR9bUQHg8z0Cw6kW/GpLsv6vV679/btJAAFrVQG4d0UD/CAbBazTPQHDL7r8F0Ou/7fnrv2xW7L99J95Avm7sQBH160B1fdBAhTHeQOcs4EAdG+y/FmfsvxaKukBJ+NZAPXTsv66n1kDjB99AYbkWQBAgQsAZKOy/EWbZQNZB4EDL1Ou/fkDsv7ks2UCOLd5AjnwZQE1F7L8U4btAS9Psv1zw1EAy6Oy/Jq/sv+cs4ECeGu2/D3rUQImE6kAfGddAufbfQOMH30D9wNJAIAPVQKoY1kCZjOu/c0Xsv6sq3kCN2NZAfQLaQCuL0UDBMuy/WQPYQKjV7L/abNtAhQ3ZQLPGpsBnxNlAphbTQDR37L+yNeZAA27sQDmj4kBuime+vm7sQDfr30B0fOy/nHHsQHRR4UAl4txAheHsv4k05UB8bedAVqbtvwKM40BvSpW/ljbuvyfnkb+Lb+ZAs8amwDAvmj8gIO2/8DveQH6a7r+zl+ZADMXuv/YB3kB/wvm/hOzuvyHz7UBY/O1ArUqYv/YDlb+OfBlAb0qVv4Sd8L/+2fy/b0qVv7HFo0Dr2so8OLoMwKdZ8L8si/C/uVxmPyQFqr/RjzU/ISUwP51q5z9TJ1U/CPCIP0K+9r8IoeQ+rU8NP2xSg7/kJxU/J4i3P2NW7TslIMG/SP6Jv6zNa79ebDE/j5k2v3zgfr/14QBAmFwoP0BxLD+5s2M/ndWfv6aaQ7/SKhw/9QJvP5tg7j/L1xc/RI5BP1u/2r9/+ADAYhpEP69g1b41Kbg/ANILwB9HEsDY28S/giu4v71xA8CUg2s/I7gRwInCmb6kpec+mj0AQCix7z4a0Og/QR4JwLJTw71FgDU/gn1PP3NNAMBV4A3Aef1oP1rDQT8lcjO/RjvqP6dW9T8g796/ld8JwDSE079Yztq/AFtxP+JP6j+B3us/OMhoP3mFVj9zEtK/AVmSP7ZYWD+gMeQ/DivtP1quhT/HQW0/xqANQKBp+z+cHry//MbpwD2N8r/AxZY+/IPmP0ZVWT86TG4/5x5hP1wA879HhWc/v9f4P143QT+D99U/VwIfQBTK6j/q9ec/+yjcP0VYHEAwmka/gPGePzUaD0A5Nv4/rh8NQKJIDUAm1BdAaDXeP9eyH79cPwhA96QAQGy5/D/AiAlA2DikPywy+MCFE1s/WWM3wPHLCkCxBWo9A4cCwDMRvD81BgxAY1ehP3e+7D8HVEC/KSzyvsRrQ7+KAQe/W6Lav3w9nL7ykQC+lyNvvycm8b4uKE6/yJQZv+hODr8+Zu3AK4PSvu75Vr9AsnO/kXF5vwvnZb9SaqK/DgrowOt48j45X9m/9ppqv0iKPL9jI6m/6xDSvodlhb9NKJK/VfCIvwcQS794uo+/IeuDv7+/lb9M2cy/GsuRvx7TDb9uhlC/BzSNv6nJbr9y1Hm/I5mSvz3Dgr98bZK/gEVsvxQ3c79B5H2/YdSHvyT6wr+atoi/Fnqlv5obiL+NQp6/tK02v/Zze7+cVm+/y66Gv/OBb7+m63G/8PWLv4bCeb+yegq/mwODv2Isar+45I2/MPqGv1x9Pb9lDJy/9OT2v8/8ML+vNIG/vHXfOxWDpb/a6WM+8UKjvxvv3r/Exs4/bUXQv7mSTr9CNea/x9X/v4cIDcA6em2/4gSAv1cshr+4n46/aHANwDFWGD6FajPARqsCwHvp2r9wMLM+JcBqv4f8uL9+CCg+15Y/v32J974Fj7E+mfdrP03Bhj+VHW4/Rp2HP+VFHr8a/iK/wypMv4OJRL44HijAcwgRv91IwT+vesE/bNsxP318xj8E+b4+ofvvPd8ADz+GwqQ/8iniPoH7ED/SMcc/XBZcv8VgYL94d5U+tq1zv1zWlj85HVI/hVEAv8G++z+rbL2/irzzP+WvFkBjUwJAbDeoPI+IEkD5jZe/yskcQMr4LUAi3W4/iS7rPrgNar10mv4/oH8GQFksWL3lij1AlJ8RQJfADT93tVo+2aRluSUmBUCSvRDAbtsCQA5cvb/JxZ4/",
          "dtype": "f4"
         }
        }
       ],
       "layout": {
        "legend": {
         "bgcolor": "rgba(255,255,255,0.8)",
         "bordercolor": "black",
         "borderwidth": 1,
         "title": {
          "text": "Types de données"
         },
         "x": 0.01,
         "y": 0.99
        },
        "template": {
         "data": {
          "bar": [
           {
            "error_x": {
             "color": "#2a3f5f"
            },
            "error_y": {
             "color": "#2a3f5f"
            },
            "marker": {
             "line": {
              "color": "#E5ECF6",
              "width": 0.5
             },
             "pattern": {
              "fillmode": "overlay",
              "size": 10,
              "solidity": 0.2
             }
            },
            "type": "bar"
           }
          ],
          "barpolar": [
           {
            "marker": {
             "line": {
              "color": "#E5ECF6",
              "width": 0.5
             },
             "pattern": {
              "fillmode": "overlay",
              "size": 10,
              "solidity": 0.2
             }
            },
            "type": "barpolar"
           }
          ],
          "carpet": [
           {
            "aaxis": {
             "endlinecolor": "#2a3f5f",
             "gridcolor": "white",
             "linecolor": "white",
             "minorgridcolor": "white",
             "startlinecolor": "#2a3f5f"
            },
            "baxis": {
             "endlinecolor": "#2a3f5f",
             "gridcolor": "white",
             "linecolor": "white",
             "minorgridcolor": "white",
             "startlinecolor": "#2a3f5f"
            },
            "type": "carpet"
           }
          ],
          "choropleth": [
           {
            "colorbar": {
             "outlinewidth": 0,
             "ticks": ""
            },
            "type": "choropleth"
           }
          ],
          "contour": [
           {
            "colorbar": {
             "outlinewidth": 0,
             "ticks": ""
            },
            "colorscale": [
             [
              0,
              "#0d0887"
             ],
             [
              0.1111111111111111,
              "#46039f"
             ],
             [
              0.2222222222222222,
              "#7201a8"
             ],
             [
              0.3333333333333333,
              "#9c179e"
             ],
             [
              0.4444444444444444,
              "#bd3786"
             ],
             [
              0.5555555555555556,
              "#d8576b"
             ],
             [
              0.6666666666666666,
              "#ed7953"
             ],
             [
              0.7777777777777778,
              "#fb9f3a"
             ],
             [
              0.8888888888888888,
              "#fdca26"
             ],
             [
              1,
              "#f0f921"
             ]
            ],
            "type": "contour"
           }
          ],
          "contourcarpet": [
           {
            "colorbar": {
             "outlinewidth": 0,
             "ticks": ""
            },
            "type": "contourcarpet"
           }
          ],
          "heatmap": [
           {
            "colorbar": {
             "outlinewidth": 0,
             "ticks": ""
            },
            "colorscale": [
             [
              0,
              "#0d0887"
             ],
             [
              0.1111111111111111,
              "#46039f"
             ],
             [
              0.2222222222222222,
              "#7201a8"
             ],
             [
              0.3333333333333333,
              "#9c179e"
             ],
             [
              0.4444444444444444,
              "#bd3786"
             ],
             [
              0.5555555555555556,
              "#d8576b"
             ],
             [
              0.6666666666666666,
              "#ed7953"
             ],
             [
              0.7777777777777778,
              "#fb9f3a"
             ],
             [
              0.8888888888888888,
              "#fdca26"
             ],
             [
              1,
              "#f0f921"
             ]
            ],
            "type": "heatmap"
           }
          ],
          "histogram": [
           {
            "marker": {
             "pattern": {
              "fillmode": "overlay",
              "size": 10,
              "solidity": 0.2
             }
            },
            "type": "histogram"
           }
          ],
          "histogram2d": [
           {
            "colorbar": {
             "outlinewidth": 0,
             "ticks": ""
            },
            "colorscale": [
             [
              0,
              "#0d0887"
             ],
             [
              0.1111111111111111,
              "#46039f"
             ],
             [
              0.2222222222222222,
              "#7201a8"
             ],
             [
              0.3333333333333333,
              "#9c179e"
             ],
             [
              0.4444444444444444,
              "#bd3786"
             ],
             [
              0.5555555555555556,
              "#d8576b"
             ],
             [
              0.6666666666666666,
              "#ed7953"
             ],
             [
              0.7777777777777778,
              "#fb9f3a"
             ],
             [
              0.8888888888888888,
              "#fdca26"
             ],
             [
              1,
              "#f0f921"
             ]
            ],
            "type": "histogram2d"
           }
          ],
          "histogram2dcontour": [
           {
            "colorbar": {
             "outlinewidth": 0,
             "ticks": ""
            },
            "colorscale": [
             [
              0,
              "#0d0887"
             ],
             [
              0.1111111111111111,
              "#46039f"
             ],
             [
              0.2222222222222222,
              "#7201a8"
             ],
             [
              0.3333333333333333,
              "#9c179e"
             ],
             [
              0.4444444444444444,
              "#bd3786"
             ],
             [
              0.5555555555555556,
              "#d8576b"
             ],
             [
              0.6666666666666666,
              "#ed7953"
             ],
             [
              0.7777777777777778,
              "#fb9f3a"
             ],
             [
              0.8888888888888888,
              "#fdca26"
             ],
             [
              1,
              "#f0f921"
             ]
            ],
            "type": "histogram2dcontour"
           }
          ],
          "mesh3d": [
           {
            "colorbar": {
             "outlinewidth": 0,
             "ticks": ""
            },
            "type": "mesh3d"
           }
          ],
          "parcoords": [
           {
            "line": {
             "colorbar": {
              "outlinewidth": 0,
              "ticks": ""
             }
            },
            "type": "parcoords"
           }
          ],
          "pie": [
           {
            "automargin": true,
            "type": "pie"
           }
          ],
          "scatter": [
           {
            "fillpattern": {
             "fillmode": "overlay",
             "size": 10,
             "solidity": 0.2
            },
            "type": "scatter"
           }
          ],
          "scatter3d": [
           {
            "line": {
             "colorbar": {
              "outlinewidth": 0,
              "ticks": ""
             }
            },
            "marker": {
             "colorbar": {
              "outlinewidth": 0,
              "ticks": ""
             }
            },
            "type": "scatter3d"
           }
          ],
          "scattercarpet": [
           {
            "marker": {
             "colorbar": {
              "outlinewidth": 0,
              "ticks": ""
             }
            },
            "type": "scattercarpet"
           }
          ],
          "scattergeo": [
           {
            "marker": {
             "colorbar": {
              "outlinewidth": 0,
              "ticks": ""
             }
            },
            "type": "scattergeo"
           }
          ],
          "scattergl": [
           {
            "marker": {
             "colorbar": {
              "outlinewidth": 0,
              "ticks": ""
             }
            },
            "type": "scattergl"
           }
          ],
          "scattermap": [
           {
            "marker": {
             "colorbar": {
              "outlinewidth": 0,
              "ticks": ""
             }
            },
            "type": "scattermap"
           }
          ],
          "scattermapbox": [
           {
            "marker": {
             "colorbar": {
              "outlinewidth": 0,
              "ticks": ""
             }
            },
            "type": "scattermapbox"
           }
          ],
          "scatterpolar": [
           {
            "marker": {
             "colorbar": {
              "outlinewidth": 0,
              "ticks": ""
             }
            },
            "type": "scatterpolar"
           }
          ],
          "scatterpolargl": [
           {
            "marker": {
             "colorbar": {
              "outlinewidth": 0,
              "ticks": ""
             }
            },
            "type": "scatterpolargl"
           }
          ],
          "scatterternary": [
           {
            "marker": {
             "colorbar": {
              "outlinewidth": 0,
              "ticks": ""
             }
            },
            "type": "scatterternary"
           }
          ],
          "surface": [
           {
            "colorbar": {
             "outlinewidth": 0,
             "ticks": ""
            },
            "colorscale": [
             [
              0,
              "#0d0887"
             ],
             [
              0.1111111111111111,
              "#46039f"
             ],
             [
              0.2222222222222222,
              "#7201a8"
             ],
             [
              0.3333333333333333,
              "#9c179e"
             ],
             [
              0.4444444444444444,
              "#bd3786"
             ],
             [
              0.5555555555555556,
              "#d8576b"
             ],
             [
              0.6666666666666666,
              "#ed7953"
             ],
             [
              0.7777777777777778,
              "#fb9f3a"
             ],
             [
              0.8888888888888888,
              "#fdca26"
             ],
             [
              1,
              "#f0f921"
             ]
            ],
            "type": "surface"
           }
          ],
          "table": [
           {
            "cells": {
             "fill": {
              "color": "#EBF0F8"
             },
             "line": {
              "color": "white"
             }
            },
            "header": {
             "fill": {
              "color": "#C8D4E3"
             },
             "line": {
              "color": "white"
             }
            },
            "type": "table"
           }
          ]
         },
         "layout": {
          "annotationdefaults": {
           "arrowcolor": "#2a3f5f",
           "arrowhead": 0,
           "arrowwidth": 1
          },
          "autotypenumbers": "strict",
          "coloraxis": {
           "colorbar": {
            "outlinewidth": 0,
            "ticks": ""
           }
          },
          "colorscale": {
           "diverging": [
            [
             0,
             "#8e0152"
            ],
            [
             0.1,
             "#c51b7d"
            ],
            [
             0.2,
             "#de77ae"
            ],
            [
             0.3,
             "#f1b6da"
            ],
            [
             0.4,
             "#fde0ef"
            ],
            [
             0.5,
             "#f7f7f7"
            ],
            [
             0.6,
             "#e6f5d0"
            ],
            [
             0.7,
             "#b8e186"
            ],
            [
             0.8,
             "#7fbc41"
            ],
            [
             0.9,
             "#4d9221"
            ],
            [
             1,
             "#276419"
            ]
           ],
           "sequential": [
            [
             0,
             "#0d0887"
            ],
            [
             0.1111111111111111,
             "#46039f"
            ],
            [
             0.2222222222222222,
             "#7201a8"
            ],
            [
             0.3333333333333333,
             "#9c179e"
            ],
            [
             0.4444444444444444,
             "#bd3786"
            ],
            [
             0.5555555555555556,
             "#d8576b"
            ],
            [
             0.6666666666666666,
             "#ed7953"
            ],
            [
             0.7777777777777778,
             "#fb9f3a"
            ],
            [
             0.8888888888888888,
             "#fdca26"
            ],
            [
             1,
             "#f0f921"
            ]
           ],
           "sequentialminus": [
            [
             0,
             "#0d0887"
            ],
            [
             0.1111111111111111,
             "#46039f"
            ],
            [
             0.2222222222222222,
             "#7201a8"
            ],
            [
             0.3333333333333333,
             "#9c179e"
            ],
            [
             0.4444444444444444,
             "#bd3786"
            ],
            [
             0.5555555555555556,
             "#d8576b"
            ],
            [
             0.6666666666666666,
             "#ed7953"
            ],
            [
             0.7777777777777778,
             "#fb9f3a"
            ],
            [
             0.8888888888888888,
             "#fdca26"
            ],
            [
             1,
             "#f0f921"
            ]
           ]
          },
          "colorway": [
           "#636efa",
           "#EF553B",
           "#00cc96",
           "#ab63fa",
           "#FFA15A",
           "#19d3f3",
           "#FF6692",
           "#B6E880",
           "#FF97FF",
           "#FECB52"
          ],
          "font": {
           "color": "#2a3f5f"
          },
          "geo": {
           "bgcolor": "white",
           "lakecolor": "white",
           "landcolor": "#E5ECF6",
           "showlakes": true,
           "showland": true,
           "subunitcolor": "white"
          },
          "hoverlabel": {
           "align": "left"
          },
          "hovermode": "closest",
          "mapbox": {
           "style": "light"
          },
          "paper_bgcolor": "white",
          "plot_bgcolor": "#E5ECF6",
          "polar": {
           "angularaxis": {
            "gridcolor": "white",
            "linecolor": "white",
            "ticks": ""
           },
           "bgcolor": "#E5ECF6",
           "radialaxis": {
            "gridcolor": "white",
            "linecolor": "white",
            "ticks": ""
           }
          },
          "scene": {
           "xaxis": {
            "backgroundcolor": "#E5ECF6",
            "gridcolor": "white",
            "gridwidth": 2,
            "linecolor": "white",
            "showbackground": true,
            "ticks": "",
            "zerolinecolor": "white"
           },
           "yaxis": {
            "backgroundcolor": "#E5ECF6",
            "gridcolor": "white",
            "gridwidth": 2,
            "linecolor": "white",
            "showbackground": true,
            "ticks": "",
            "zerolinecolor": "white"
           },
           "zaxis": {
            "backgroundcolor": "#E5ECF6",
            "gridcolor": "white",
            "gridwidth": 2,
            "linecolor": "white",
            "showbackground": true,
            "ticks": "",
            "zerolinecolor": "white"
           }
          },
          "shapedefaults": {
           "line": {
            "color": "#2a3f5f"
           }
          },
          "ternary": {
           "aaxis": {
            "gridcolor": "white",
            "linecolor": "white",
            "ticks": ""
           },
           "baxis": {
            "gridcolor": "white",
            "linecolor": "white",
            "ticks": ""
           },
           "bgcolor": "#E5ECF6",
           "caxis": {
            "gridcolor": "white",
            "linecolor": "white",
            "ticks": ""
           }
          },
          "title": {
           "x": 0.05
          },
          "xaxis": {
           "automargin": true,
           "gridcolor": "white",
           "linecolor": "white",
           "ticks": "",
           "title": {
            "standoff": 15
           },
           "zerolinecolor": "white",
           "zerolinewidth": 2
          },
          "yaxis": {
           "automargin": true,
           "gridcolor": "white",
           "linecolor": "white",
           "ticks": "",
           "title": {
            "standoff": 15
           },
           "zerolinecolor": "white",
           "zerolinewidth": 2
          }
         }
        }
       }
      }
     },
     "metadata": {},
     "output_type": "display_data"
    }
   ],
   "source": [
    "# t-SNE of the merged tensor\n",
    "\n",
    "class_labels = np.array([[label for _ in range(30)] for label in true_labels]).flatten().tolist()\n",
    "\n",
    "unique_labels = sorted(set(class_labels))\n",
    "label_to_int = {label: i for i, label in enumerate(unique_labels)}\n",
    "\n",
    "color_list = [label_to_int[label] for label in class_labels]\n",
    "\n",
    "text_labels = []\n",
    "for i,label in enumerate(class_labels):\n",
    "    text_labels.append(label + ': \"' + labels[i] + '\"')\n",
    "\n",
    "tsne = TSNE(n_components=2, verbose=0, perplexity=40, n_iter=300)\n",
    "image_text_tsne = tsne.fit_transform(text_cat_image.to('cpu'))\n",
    "\n",
    "sizes = np.array([15 if i < 270 else 5 for i in range(len(image_text_tsne))])\n",
    "\n",
    "hover_labels = text_labels+ class_labels\n",
    "\n",
    "fig = go.Figure()\n",
    "fig.add_trace(go.Scatter(\n",
    "    x=image_text_tsne[:540, 0],\n",
    "    y=image_text_tsne[:540, 1],\n",
    "    mode='markers',\n",
    "    text=hover_labels,\n",
    "    hoverinfo = 'text',\n",
    "    hovertemplate='%{text}<extra></extra>',\n",
    "    marker=dict(\n",
    "        size=sizes,\n",
    "        color=color_list + color_list,\n",
    "        opacity=0.7,\n",
    "        line=dict(width=0),\n",
    "    ),\n",
    "    showlegend=False\n",
    "))\n",
    "\n",
    "fig.update_layout(\n",
    "legend=dict(\n",
    "    title='Types de données',\n",
    "    x=0.01,\n",
    "    y=0.99,\n",
    "    bgcolor='rgba(255,255,255,0.8)',\n",
    "    bordercolor='black',\n",
    "    borderwidth=1\n",
    "    )\n",
    ")\n",
    "fig.data[0].name = \"Image embeddings\"\n",
    "\n",
    "fig.update_traces(\n",
    "    marker=dict(\n",
    "                line=dict(width=0,)\n",
    "                ))\n",
    "\n",
    "path='/home/onyxia/work/DetailCLIP/images/text + image/image.png'\n",
    "fig.write_image(path, format='png', engine='kaleido')\n",
    "fig.show()"
   ]
  }
 ],
 "metadata": {
  "kernelspec": {
   "display_name": "Python 3",
   "language": "python",
   "name": "python3"
  },
  "language_info": {
   "codemirror_mode": {
    "name": "ipython",
    "version": 3
   },
   "file_extension": ".py",
   "mimetype": "text/x-python",
   "name": "python",
   "nbconvert_exporter": "python",
   "pygments_lexer": "ipython3",
   "version": "3.12.9"
  }
 },
 "nbformat": 4,
 "nbformat_minor": 5
}
